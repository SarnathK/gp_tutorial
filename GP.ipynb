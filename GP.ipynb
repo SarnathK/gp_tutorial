{
 "cells": [
  {
   "cell_type": "markdown",
   "id": "a5b014c7",
   "metadata": {
    "heading_collapsed": true
   },
   "source": [
    "# initial imports"
   ]
  },
  {
   "cell_type": "code",
   "execution_count": null,
   "id": "ff1478da",
   "metadata": {
    "hidden": true
   },
   "outputs": [],
   "source": [
    "import numpy as np\n",
    "import pandas as pd\n",
    "from plotly import graph_objects as go"
   ]
  },
  {
   "cell_type": "code",
   "execution_count": null,
   "id": "fe7a4636",
   "metadata": {
    "hidden": true
   },
   "outputs": [],
   "source": [
    "from plotly.offline import init_notebook_mode\n",
    "\n",
    "init_notebook_mode(connected=True)"
   ]
  },
  {
   "cell_type": "code",
   "execution_count": null,
   "id": "b37d1623",
   "metadata": {
    "hidden": true
   },
   "outputs": [],
   "source": [
    "%load_ext nb_black"
   ]
  },
  {
   "cell_type": "code",
   "execution_count": null,
   "id": "22f37f75",
   "metadata": {
    "hidden": true
   },
   "outputs": [],
   "source": [
    "#!pip install jupyter_contrib_nbextensions\n",
    "# Configure the nbextensions and install it for the user (doc available in internet)\n",
    "#!pip install nb_black"
   ]
  },
  {
   "cell_type": "markdown",
   "id": "27d7b993",
   "metadata": {
    "heading_collapsed": true
   },
   "source": [
    "#  This notebook is in Github!\n",
    "[https://github.com/SarnathK/gp_tutorial](https://github.com/SarnathK/gp_tutorial)"
   ]
  },
  {
   "cell_type": "markdown",
   "id": "c883c537",
   "metadata": {
    "heading_collapsed": true
   },
   "source": [
    "# Authoritative reference book for Gaussian process"
   ]
  },
  {
   "cell_type": "markdown",
   "id": "51af0eee",
   "metadata": {
    "heading_collapsed": true,
    "hidden": true
   },
   "source": [
    "## <span style=\"color:blue\">Hear it from the founders</span>\n",
    "\n",
    "## The Rasmussen and williams book - RW.pdf\n",
    "\n",
    "### Free download!\n",
    "\n",
    "[RW.pdf : Rassmussen & williams book - RW.pdf](http://gaussianprocess.org/gpml/chapters/RW.pdf)"
   ]
  },
  {
   "cell_type": "markdown",
   "id": "23a77d25",
   "metadata": {
    "heading_collapsed": true
   },
   "source": [
    "# Univariate discrete Distributions"
   ]
  },
  {
   "cell_type": "markdown",
   "id": "ba05a5e2",
   "metadata": {
    "hidden": true
   },
   "source": [
    "**Rolling of dice**\n",
    "```\n",
    "    P(1) = 1/6\n",
    "    P(2) = 1/6\n",
    "    ...\n",
    "    P(6) = 1/6\n",
    "\n",
    "Fair dice -> Probability mass function (PMF)!\n",
    "```\n",
    "\n",
    "**Bernoulli distribution**\n",
    "```\n",
    "    Define event: Rolling of dice results in a prime number (2,3,5)\n",
    "    P(e) in 1 roll = 1/2\n",
    "    P(not e) in 1 r roll = 1/2\n",
    "    \n",
    "    For bernoulli -> You always start with an event with a known probability P(event)\n",
    "    \n",
    "    The bernoulli distribution:\n",
    "        In N rolls of dice, what is the probability of the event occurence?\n",
    "        Event occuring once, Event occuring twice, ..... , Even occurring N times\n",
    "        Define probability for each.\n",
    "        That is a discrete distribution\n",
    "```\n",
    "\n",
    "**Geometric distribution**\n",
    "```\n",
    "    Number of times you failed the parking test in Dubai before getting the License from RTA\n",
    "    Thats a geometric distribution.\n",
    "    Again you start with P(event of success) say 0.1\n",
    "    And then calculate probability of success after N failures.\n",
    "    i.e. 0.9^K * 0.1 = P(success at the K+1th attempt)\n",
    "    This is a PMF\n",
    "```"
   ]
  },
  {
   "cell_type": "markdown",
   "id": "7090cbae",
   "metadata": {
    "heading_collapsed": true
   },
   "source": [
    "# Univariate gaussian distribution formula"
   ]
  },
  {
   "cell_type": "markdown",
   "id": "ee869e8b",
   "metadata": {
    "hidden": true
   },
   "source": [
    "## Continuous random variables have Density functions\n",
    "\n",
    "'x' is a random variable which is centered around the \"mean\" value\n",
    "\n",
    "e.g. x could be Height of students in a class\n",
    "\n",
    "![Univariate gaussian distribution](./img/gaussian_formula.jpg)"
   ]
  },
  {
   "cell_type": "markdown",
   "id": "7c40ba59",
   "metadata": {
    "heading_collapsed": true
   },
   "source": [
    "# Multivariate discrete distributions"
   ]
  },
  {
   "cell_type": "markdown",
   "id": "d38f8017",
   "metadata": {
    "heading_collapsed": true,
    "hidden": true
   },
   "source": [
    "### (discrete) Joint probability distribution of \"Rainy\" and \"Weekdays\"\n",
    "\n",
    "|<span style=\"color:red\">Rainy</span>| Monday| Tuesday | Wednesday | Thursday | Friday |<span style=\"color:blue\">Total</span>|\n",
    "|------   |--------|----|     -----     |    ----- | -----  | ---- |\n",
    "| Yes     | 0.02 | 0.03 | 0.10 | 0.20 | 0.07 | 0.42 |\n",
    "| No      | 0.18 | 0.17 | 0.10 | 0    | 0.13 | 0.58 |\n",
    "| <span style=\"color:blue\">Total </span>   | 0.20 | 0.20 | 0.20 | 0.20 | 0.20 | 0.20 |\n",
    "\n",
    "### Conditioning \n",
    "\n",
    "\n",
    "**<span style=\"color:green\">If it rained, what is the probability that it was a Tuesday??</span>**\n",
    "\n",
    "<br>\n",
    "\n",
    "\n",
    "|<span style=\"color:red\">Rainy</span>| Monday| Tuesday | Wednesday | Thursday | Friday |<span style=\"color:blue\">Total</span>|\n",
    "|------   |--------|----|     -----     |    ----- | -----  | ---- |\n",
    "| Yes     | 0.02 | 0.03 | 0.10 | 0.20 | 0.07 | 0.42 |\n",
    "\n",
    "<br>\n",
    "\n",
    "**Calulating probability...** \n",
    "<br>\n",
    "```\n",
    "= 0.03 / (0.02 + 0.03 + 0.10 + 0.20 + 0.07)\n",
    "= 0.03 / 0.42\n",
    "= ~7%\n",
    "```\n",
    "<br>\n",
    "\n",
    "**This is same as bayes formula**\n",
    "<br>\n",
    "```\n",
    "P(Tuesday | Rainy) = P(Tuesday and Rainy) / P(Rainy)\n",
    "```\n",
    "<br>\n",
    "\n",
    "### Marginalize on \"Rainy\"\n",
    "\n",
    "|<span style=\"color:red\">Rainy</span>| Marginalized probability |\n",
    "|------   | ---- |\n",
    "| Yes     | 0.42 |\n",
    "| No      | 0.58 |\n",
    "\n",
    "### Marginalize on \"Weekdays\"\n",
    "| Monday| Tuesday | Wednesday | Thursday | Friday |\n",
    "|--------|----|     -----     |    ----- | -----  |\n",
    "| 0.2 | 0.2 | 0.2| 0.2 | 0.2 |\n",
    "\n"
   ]
  },
  {
   "cell_type": "markdown",
   "id": "e86eb40f",
   "metadata": {
    "heading_collapsed": true
   },
   "source": [
    "# Multivariate gaussian joint distribution\n"
   ]
  },
  {
   "cell_type": "markdown",
   "id": "9a4067e4",
   "metadata": {
    "hidden": true
   },
   "source": [
    "## Analytical formula\n",
    "### Courtesy: Wikipedia\n",
    "\n",
    "![Multivariate gaussian joint distribution PDF analytical formula](./img/mvg_formula.jpg)"
   ]
  },
  {
   "cell_type": "markdown",
   "id": "e0fccc9b",
   "metadata": {
    "hidden": true
   },
   "source": [
    "## Gaussians are closed under Conditioning and Marginalization\n",
    "#### [Click here for full mathematical proof on this subject from a PhD student](https://fabiandablander.com/statistics/Two-Properties.html)"
   ]
  },
  {
   "cell_type": "markdown",
   "id": "9125cdd4",
   "metadata": {
    "heading_collapsed": true,
    "hidden": true
   },
   "source": [
    "### Marginalizing a gaussian distribution always returns a gaussian distribution\n",
    "Let **x** and **y** be 2 gaussian multivariate normal vectors...\n",
    "![Joint distribution of 2 random vectors X and Y](img/gaussian_joint_x_y.jpg)\n",
    "Then if you marginalize for **x** then:\n",
    "![Marginalized x](img/x_marginalized.jpg)\n",
    "#### How to calculate marginal distributions?\n",
    "<br>\n",
    "Integrate out the dimensions that are not needed and keep only the dimensions that are needed\n",
    "<br>\n",
    "The easier proof is to see that if \"x\" is multivariate gaussian vector, and if A is some arbitrary \"matrix\" then A.x is also a gaussian. One can use this lemma to come up with a A that extracts only the first K components from X and thus the subset of that X will also be a gaussian. \n",
    "\n",
    "You can see the same proof in <br>\n",
    "\n",
    "[reference URL set in the header](https://fabiandablander.com/statistics/Two-Properties.html)\n",
    "\n",
    "You can also see this from <br>\n",
    "\n",
    "[youtube video from Math monk]('https://www.youtube.com/watch?v=ycDSJkZ_h0I') "
   ]
  },
  {
   "cell_type": "markdown",
   "id": "af3eae04",
   "metadata": {
    "hidden": true
   },
   "source": [
    "### Conditional distributions of Multivariate gaussians"
   ]
  },
  {
   "cell_type": "markdown",
   "id": "45b5629b",
   "metadata": {
    "hidden": true
   },
   "source": [
    "```\n",
    "Conditional distribution (bayes conditional probability)\n",
    "\n",
    "P(X1,X2,X3,...,Xk | Y1,Y2,Y3,...Ym) \n",
    "              = \n",
    "P(X1, X2, X3, .......Xk, Y1, Y2, ..... Ym) / P(Y1, Y2, ...., Ym)\n",
    "\n",
    "The denominator can be calculated from the marginal distribution of Y by substituting \"Y\" as \"Y1, Y2, ... Ym\"\n",
    "\n",
    "The numerator is the joint probability distribution of X and Y where Y is substited for \"Y1, Y2, ... Ym\"\n",
    "\n",
    "Thus the term yields the distribution of X1, X2, ..... Xk\n",
    "\n",
    "This distribution happens to be Gaussian!\n",
    "```\n",
    "For a mathematical proof: <br>\n",
    "\n",
    "[Proof that gaussian is closed under conditioning](https://fabiandablander.com/statistics/Two-Properties.html)\n",
    "\n",
    "#### Analytical formula here from RW.pdf:\n",
    "![Conditional distribution formula for gaussians](img/gaussian_conditional_formula.jpg)"
   ]
  },
  {
   "cell_type": "markdown",
   "id": "67a0ada3",
   "metadata": {
    "heading_collapsed": true
   },
   "source": [
    "# Multivariate distribution : 2D distribution"
   ]
  },
  {
   "cell_type": "code",
   "execution_count": null,
   "id": "8ec7291c",
   "metadata": {
    "hidden": true
   },
   "outputs": [],
   "source": [
    "np.random.multivariate_normal([0, 0], [[1, 0], [0, 1]])"
   ]
  },
  {
   "cell_type": "code",
   "execution_count": null,
   "id": "bd33053a",
   "metadata": {
    "hidden": true
   },
   "outputs": [],
   "source": [
    "np.random.multivariate_normal([0, 0, 0], [[1, 0, 0], [0, 1, 0], [0, 0, 1]])"
   ]
  },
  {
   "cell_type": "markdown",
   "id": "1057153f",
   "metadata": {
    "hidden": true
   },
   "source": [
    "## Random sample 2D: Scatter plot"
   ]
  },
  {
   "cell_type": "code",
   "execution_count": null,
   "id": "003a66cb",
   "metadata": {
    "hidden": true
   },
   "outputs": [],
   "source": [
    "def make_xs_ys(covm=[[1, 0], [0, 1]]):\n",
    "    xs = []\n",
    "    ys = []\n",
    "    for _ in range(1000):\n",
    "        x, y = np.random.multivariate_normal([0, 0], covm)\n",
    "        xs.append(x)\n",
    "        ys.append(y)\n",
    "    return xs, ys"
   ]
  },
  {
   "cell_type": "code",
   "execution_count": null,
   "id": "40def40d",
   "metadata": {
    "hidden": true
   },
   "outputs": [],
   "source": [
    "def go_scatter(xs, ys, title):\n",
    "    fig = go.Figure()\n",
    "\n",
    "    fig.add_trace(go.Scatter(x=xs, y=ys, mode=\"markers\"))\n",
    "\n",
    "    fig.update_layout(title=title)\n",
    "    return fig"
   ]
  },
  {
   "cell_type": "code",
   "execution_count": null,
   "id": "56a68f9d",
   "metadata": {
    "hidden": true
   },
   "outputs": [],
   "source": [
    "xs, ys = make_xs_ys()"
   ]
  },
  {
   "cell_type": "code",
   "execution_count": null,
   "id": "21215d19",
   "metadata": {
    "hidden": true
   },
   "outputs": [],
   "source": [
    "xs, ys = make_xs_ys()\n",
    "go_scatter(xs, ys, \"2D random sample with no correlation\")"
   ]
  },
  {
   "cell_type": "markdown",
   "id": "1328ce5f",
   "metadata": {
    "hidden": true
   },
   "source": [
    "## Correlated 2D random samples"
   ]
  },
  {
   "cell_type": "code",
   "execution_count": null,
   "id": "4bf5cfd4",
   "metadata": {
    "hidden": true
   },
   "outputs": [],
   "source": [
    "def get_corr_cov():\n",
    "    # Generate independent random normal numbers...\n",
    "    somex = np.random.normal(0, 1, 1000)\n",
    "    somey = np.random.normal(0, 1, 1000)\n",
    "    # Create correlated variables from the 2 independent random variables\n",
    "    corx = 2 * somex + 3 * somey\n",
    "    cory = 5 * somex + 2 * somey\n",
    "    return np.cov(corx, cory)"
   ]
  },
  {
   "cell_type": "code",
   "execution_count": null,
   "id": "8ca371ee",
   "metadata": {
    "hidden": true
   },
   "outputs": [],
   "source": [
    "cov_matrix = get_corr_cov()\n",
    "cov_matrix"
   ]
  },
  {
   "cell_type": "code",
   "execution_count": null,
   "id": "7fb0680d",
   "metadata": {
    "hidden": true
   },
   "outputs": [],
   "source": [
    "xs_c, ys_c = make_xs_ys(cov_matrix)"
   ]
  },
  {
   "cell_type": "code",
   "execution_count": null,
   "id": "42707cbb",
   "metadata": {
    "hidden": true,
    "scrolled": false
   },
   "outputs": [],
   "source": [
    "xs_c, ys_c = make_xs_ys(cov_matrix)\n",
    "fig = go_scatter(xs_c, ys_c, \"Correlated random 2D samples\")\n",
    "fig"
   ]
  },
  {
   "cell_type": "markdown",
   "id": "e303c01a",
   "metadata": {
    "hidden": true
   },
   "source": [
    "## (Empirical) Conditioning of a correlated 2D distribution"
   ]
  },
  {
   "cell_type": "code",
   "execution_count": null,
   "id": "f12ec600",
   "metadata": {
    "hidden": true
   },
   "outputs": [],
   "source": [
    "def make_y_for_x(given_x, mean=[0, 0], cov_matrix=[[1, 0], [0, 1]], tol=0.01):\n",
    "    n = 0\n",
    "    xs = []\n",
    "    ys = []\n",
    "    while n < 100:\n",
    "        x, y = np.random.multivariate_normal(mean, cov_matrix)\n",
    "        if np.abs(x - given_x) <= tol:\n",
    "            xs.append(x)\n",
    "            ys.append(y)\n",
    "            n += 1\n",
    "    return xs, ys"
   ]
  },
  {
   "cell_type": "code",
   "execution_count": null,
   "id": "74779909",
   "metadata": {
    "hidden": true
   },
   "outputs": [],
   "source": [
    "cov_matrix = get_corr_cov()"
   ]
  },
  {
   "cell_type": "code",
   "execution_count": null,
   "id": "7be0de69",
   "metadata": {
    "hidden": true,
    "scrolled": false
   },
   "outputs": [],
   "source": [
    "xs_c_m, ys_c_m = make_y_for_x(3, cov_matrix=cov_matrix)\n",
    "fig = go_scatter(xs_c_m, ys_c_m, title=\"Correlated 2D samples at x ~ 3\")\n",
    "fig.update_xaxes(range=[-4, 4])\n",
    "fig.update_yaxes(range=[-15, 15])"
   ]
  },
  {
   "cell_type": "code",
   "execution_count": null,
   "id": "9519be75",
   "metadata": {
    "hidden": true
   },
   "outputs": [],
   "source": [
    "xs_c_m, ys_c_m = make_y_for_x(-3, cov_matrix=cov_matrix)\n",
    "fig = go_scatter(xs_c_m, ys_c_m, title=\"Correlated 2D samples at x ~ -3\")\n",
    "fig.update_xaxes(range=[-4, 4])\n",
    "fig.update_yaxes(range=[-10, 10])"
   ]
  },
  {
   "cell_type": "markdown",
   "id": "d7e9c42e",
   "metadata": {
    "heading_collapsed": true
   },
   "source": [
    "# Functions as random samples"
   ]
  },
  {
   "cell_type": "code",
   "execution_count": null,
   "id": "15a4c96b",
   "metadata": {
    "hidden": true
   },
   "outputs": [],
   "source": [
    "def get_nd_cov(d):\n",
    "    #\n",
    "    # Return a positive-definite matrix : A^T*A is positive-definite for any A\n",
    "    # NOTE:\n",
    "    # Positive definite does not mean each entry is positive....!\n",
    "    # It means that all its eigen values are real and positive....\n",
    "    #\n",
    "    m1 = np.matrix(np.random.normal(0, 20, d * d)).reshape(d, d)\n",
    "    m2 = np.transpose(m1).dot(m1)\n",
    "    return m2"
   ]
  },
  {
   "cell_type": "code",
   "execution_count": null,
   "id": "885a7135",
   "metadata": {
    "hidden": true
   },
   "outputs": [],
   "source": [
    "m1 = get_nd_cov(50)\n",
    "assert (m1 == m1.T).sum() == 50 * 50"
   ]
  },
  {
   "cell_type": "code",
   "execution_count": null,
   "id": "d8590133",
   "metadata": {
    "hidden": true
   },
   "outputs": [],
   "source": [
    "eivals, _ = np.linalg.eig(get_nd_cov(50))\n",
    "eivals"
   ]
  },
  {
   "cell_type": "code",
   "execution_count": null,
   "id": "44d99966",
   "metadata": {
    "hidden": true
   },
   "outputs": [],
   "source": [
    "import time\n",
    "import matplotlib.pyplot as plt\n",
    "\n",
    "\n",
    "def plot_random_func(nd=50):\n",
    "    fig = go.Figure()\n",
    "    fig.add_trace(\n",
    "        go.Scatter(\n",
    "            x=list(range(nd)),\n",
    "            y=np.random.multivariate_normal([0] * nd, get_nd_cov(nd)),\n",
    "        )\n",
    "    )\n",
    "    fig.update_layout(title=\"Function as a random sample\")\n",
    "    fig.show()"
   ]
  },
  {
   "cell_type": "markdown",
   "id": "58394748",
   "metadata": {
    "hidden": true
   },
   "source": [
    "## Random functions"
   ]
  },
  {
   "cell_type": "code",
   "execution_count": null,
   "id": "6c4da026",
   "metadata": {
    "hidden": true
   },
   "outputs": [],
   "source": [
    "plot_random_func()"
   ]
  },
  {
   "cell_type": "markdown",
   "id": "8dc048d5",
   "metadata": {
    "heading_collapsed": true
   },
   "source": [
    "# Functions as smooth random samples"
   ]
  },
  {
   "cell_type": "code",
   "execution_count": null,
   "id": "a4067a11",
   "metadata": {
    "hidden": true
   },
   "outputs": [],
   "source": [
    "import math\n",
    "\n",
    "\n",
    "def get_nd_smooth_cov(d):\n",
    "    npa = np.zeros(shape=(d, d))\n",
    "    for i in range(d):\n",
    "        for j in range(d):\n",
    "            npa[i, j] = 4 * math.exp(-(abs(i - j) ** 2) / 75)\n",
    "    return npa\n"
   ]
  },
  {
   "cell_type": "code",
   "execution_count": null,
   "id": "3c1b317d",
   "metadata": {
    "hidden": true
   },
   "outputs": [],
   "source": [
    "# m1 = get_nd_smooth_cov(50)\n",
    "# np.linalg.eig(m1)[0]"
   ]
  },
  {
   "cell_type": "code",
   "execution_count": null,
   "id": "ff45c1ab",
   "metadata": {
    "hidden": true
   },
   "outputs": [],
   "source": [
    "import time\n",
    "import matplotlib.pyplot as plt\n",
    "\n",
    "\n",
    "def plot_random_smooth_func(nd=50):\n",
    "    fig = go.Figure()\n",
    "    fig.add_trace(\n",
    "        go.Scatter(\n",
    "            x=list(range(nd)),\n",
    "            y=np.random.multivariate_normal([0] * nd, get_nd_smooth_cov(nd)),\n",
    "        )\n",
    "    )\n",
    "    fig.update_layout(title=\"Smooth function as a random sample\")\n",
    "    fig.show()"
   ]
  },
  {
   "cell_type": "code",
   "execution_count": null,
   "id": "d55c7ee4",
   "metadata": {
    "hidden": true
   },
   "outputs": [],
   "source": [
    "# np.linalg.eig(get_nd_smooth_cov(50))[0]"
   ]
  },
  {
   "cell_type": "code",
   "execution_count": null,
   "id": "277eef9e",
   "metadata": {
    "hidden": true
   },
   "outputs": [],
   "source": [
    "plot_random_smooth_func()"
   ]
  },
  {
   "cell_type": "markdown",
   "id": "a3a98fec",
   "metadata": {
    "heading_collapsed": true
   },
   "source": [
    "# (Empirical) Smooth functions as random samples but conditioned"
   ]
  },
  {
   "cell_type": "code",
   "execution_count": null,
   "id": "286413f3",
   "metadata": {
    "hidden": true
   },
   "outputs": [],
   "source": [
    "def plot_random_smooth_func_conditioned(known_dict, nd=50, tol=0.1):\n",
    "    fig = go.Figure()\n",
    "\n",
    "    cov_matrix = get_nd_smooth_cov(nd)\n",
    "    failed = True\n",
    "    while failed:\n",
    "        candidate = np.random.multivariate_normal([0] * nd, cov_matrix)\n",
    "        failed = False\n",
    "        for idx in known_dict.keys():\n",
    "            if np.abs(candidate[idx] - known_dict[idx]) > tol:\n",
    "                failed = True\n",
    "                break\n",
    "\n",
    "    known_points = list(known_dict.keys())\n",
    "    known_values = [known_dict[x] for x in known_points]\n",
    "    fig.add_trace(\n",
    "        go.Scatter(\n",
    "            x=list(range(nd)),\n",
    "            y=candidate,\n",
    "        )\n",
    "    )\n",
    "    fig.add_trace(go.Scatter(x=known_points, y=known_values, mode=\"markers\"))\n",
    "    fig.update_layout(\n",
    "        title=\"Smooth function as a random sample conditioned on known points\"\n",
    "    )\n",
    "    fig.show()"
   ]
  },
  {
   "cell_type": "code",
   "execution_count": null,
   "id": "7c3f4cde",
   "metadata": {
    "hidden": true
   },
   "outputs": [],
   "source": [
    "plot_random_smooth_func_conditioned({0: 0.5, 5: 1, 25: -1, 40: 1.5}, tol=0.5)"
   ]
  },
  {
   "cell_type": "markdown",
   "id": "8149944a",
   "metadata": {
    "heading_collapsed": true
   },
   "source": [
    "# (Theoretical) Smooth functions random samples but conditioned"
   ]
  },
  {
   "cell_type": "code",
   "execution_count": null,
   "id": "34fba732",
   "metadata": {
    "hidden": true
   },
   "outputs": [],
   "source": [
    "def plot_random_smooth_func_conditioned_theoretical(known_dict, nd=50, n_output=1):\n",
    "    fig = go.Figure()\n",
    "\n",
    "    known_dimensions = list(known_dict.keys())\n",
    "    unknown_dimensions = [x for x in range(nd) if x not in known_dimensions]\n",
    "    known_values = [known_dict[dim] for dim in known_dimensions]\n",
    "\n",
    "    assert len(known_dimensions) > 0\n",
    "\n",
    "    cov_matrix = get_nd_smooth_cov(nd)\n",
    "\n",
    "    # Need to find cov matrix for the conditional distribution\n",
    "    # For this: we will apply the analytical formula\n",
    "    #           So we need to first separate out the cov_matrix as A, B and C\n",
    "    #           Refer RW.pdf conditional distribution (or see in the notebook above)\n",
    "    #           to know what A, B and C are\n",
    "\n",
    "    A = cov_matrix[unknown_dimensions, :][:, unknown_dimensions]\n",
    "    B = cov_matrix[known_dimensions, :][:, known_dimensions]\n",
    "    C = cov_matrix[unknown_dimensions, :][:, known_dimensions]\n",
    "\n",
    "    #\n",
    "    # Find conditional distribution parameters\n",
    "    #\n",
    "    new_mean = (\n",
    "        np.array([0] * len(unknown_dimensions)).reshape(-1, 1)\n",
    "        + C.dot(np.linalg.inv(B)).dot(np.array(known_values).reshape(-1, 1))\n",
    "    )[:, 0]\n",
    "\n",
    "    new_cov = A - C.dot(np.linalg.inv(B)).dot(np.transpose(C))\n",
    "\n",
    "    for _ in range(n_output):\n",
    "        unknown_values = np.random.multivariate_normal(new_mean, new_cov)\n",
    "        unknown_dict = dict(zip(unknown_dimensions, unknown_values))\n",
    "\n",
    "        merged_values = [\n",
    "            known_dict[d] if d in known_dimensions else unknown_dict[d]\n",
    "            for d in range(nd)\n",
    "        ]\n",
    "\n",
    "        fig.add_trace(go.Scatter(x=list(range(nd)), y=merged_values))\n",
    "    fig.add_trace(\n",
    "        go.Scatter(\n",
    "            x=known_dimensions, y=known_values, mode=\"markers\", marker={\"color\": \"red\"}\n",
    "        )\n",
    "    )\n",
    "    fig.update_layout(\n",
    "        title=\"Smooth function as a random sample conditioned on known points\"\n",
    "    )\n",
    "    fig.show()"
   ]
  },
  {
   "cell_type": "code",
   "execution_count": null,
   "id": "2a0dcc01",
   "metadata": {
    "hidden": true,
    "scrolled": false
   },
   "outputs": [],
   "source": [
    "plot_random_smooth_func_conditioned_theoretical(\n",
    "    {0: 0.5, 7: -1, 11: 1, 14: -2, 30: 1, 40: -10, 60: -3, 80: -6},\n",
    "    nd=100,\n",
    "    n_output=1,\n",
    ")"
   ]
  },
  {
   "cell_type": "markdown",
   "id": "bb9ff985",
   "metadata": {
    "heading_collapsed": true
   },
   "source": [
    "# Gaussian process regression - A handcoded example"
   ]
  },
  {
   "cell_type": "markdown",
   "id": "42c2e892",
   "metadata": {
    "hidden": true
   },
   "source": [
    "| Height | Weight | Age | BPsystolic | BPDiastolic | FastingSugarLevel | <span style=\"color:red\">TimeToCompletePhysicalTask</span> |\n",
    "| ---- | ---- | ---- |---- | ---- | ---- |---- |\n",
    "| 6.23 | 66 | 34 | 120 | 89 | 342 | <span style=\"color:red\">2.34 </span> |\n",
    "| 5.2 | 56 | 37 | 145 | 80 | 242 | <span style=\"color:red\">1.34</span> |\n",
    "| 4.45 | 50 | 24 | 130 | 70 | 82 | <span style=\"color:red\">2.54</span> |\n",
    "| 7.10 | 89 | 40 | 101 | 65 | 202 | <span style=\"color:red\">3.34</span> |\n",
    "| 6.23 | 92 | 27 | 148 | 89 | 102 | <span style=\"color:red\">4.34</span> |\n",
    "| 6.95 | 123 | 47 | 153 | 86 | 294 | <span style=\"color:red\">1.04</span> |\n",
    "| 4.9 | 51 | 67 | 123 | 72 | 194 | <span style=\"color:red\">2.54</span> |\n",
    "| 5.2 | 56 | 25 | 115 | 74 | 142 | <span style=\"color:red\">3.04</span> |\n",
    "| 5.57 | 70 | 40 | 104 | 67 | 104 | <span style=\"color:red\">2.74</span> |\n",
    "| 5.9 | 62 | 89 | 109 | 90 | 243 | <span style=\"color:red\">1.34</span> |\n",
    "| 4.67 | 60 | 12 | 135 | 95 | 104 | <span style=\"color:red\">1.94</span> |\n",
    "| 6.59 | 70 | 41 | 145 | 69 | 120 |<span style=\"color:red\"> 2.14</span> |\n",
    "<br>\n",
    "\n",
    "### Can we answer the following from the above??\n",
    "\n",
    "<br>\n",
    "\n",
    "| Height | Weight | Age | BPsystolic | BPDiastolic | FastingSugarLevel | <span style=\"color:red\">TimeToCompletePhysicalTask</span> |\n",
    "| ---- | ---- | ---- |---- | ---- | ---- |---- |\n",
    "| 5.12 | 52 | 23 | 134 | 84 | 183 |<span style=\"color:red\"> ? </span> |\n",
    "| 6.2 | 78 | 43 | 143 | 93 | 135 |<span style=\"color:red\"> ? </span> |"
   ]
  },
  {
   "cell_type": "code",
   "execution_count": null,
   "id": "37de4e1f",
   "metadata": {
    "hidden": true
   },
   "outputs": [],
   "source": [
    "known_dimensions = np.array(\n",
    "    [\n",
    "        [6.23, 66, 34, 120, 89, 342],\n",
    "        [5.2, 56, 37, 145, 80, 242],\n",
    "        [4.45, 50, 24, 130, 70, 82],\n",
    "        [7.10, 89, 40, 101, 65, 202],\n",
    "        [6.23, 92, 27, 148, 89, 102],\n",
    "        [6.95, 123, 47, 153, 86, 294],\n",
    "        [4.9, 51, 67, 123, 72, 194],\n",
    "        [5.2, 56, 25, 115, 74, 142],\n",
    "        [5.57, 70, 40, 104, 67, 104],\n",
    "        [5.9, 62, 89, 109, 90, 243],\n",
    "        [4.67, 60, 12, 135, 95, 104],\n",
    "        [6.59, 70, 41, 145, 69, 120],\n",
    "    ]\n",
    ")\n",
    "\n",
    "unknown_dimensions = np.array(\n",
    "    [[5.12, 52, 23, 134, 84, 183], [6.2, 78, 43, 143, 93, 135]]\n",
    ")\n",
    "\n",
    "known_values = [2.34, 1.34, 2.54, 3.34, 4.34, 1.04, 2.54, 3.04, 2.74, 1.34, 1.94, 2.14]"
   ]
  },
  {
   "cell_type": "code",
   "execution_count": null,
   "id": "54e88917",
   "metadata": {
    "hidden": true
   },
   "outputs": [],
   "source": [
    "known_dimensions.shape"
   ]
  },
  {
   "cell_type": "code",
   "execution_count": null,
   "id": "101d8469",
   "metadata": {
    "hidden": true
   },
   "outputs": [],
   "source": [
    "unknown_dimensions.shape"
   ]
  },
  {
   "cell_type": "code",
   "execution_count": null,
   "id": "820a5b0c",
   "metadata": {
    "hidden": true
   },
   "outputs": [],
   "source": [
    "cov_base = np.cov(known_dimensions, unknown_dimensions)"
   ]
  },
  {
   "cell_type": "code",
   "execution_count": null,
   "id": "ff1e1c09",
   "metadata": {
    "hidden": true
   },
   "outputs": [],
   "source": [
    "cov_base.shape"
   ]
  },
  {
   "cell_type": "code",
   "execution_count": null,
   "id": "6888a963",
   "metadata": {
    "hidden": true
   },
   "outputs": [],
   "source": [
    "cov_base"
   ]
  },
  {
   "cell_type": "code",
   "execution_count": null,
   "id": "30b9851b",
   "metadata": {
    "hidden": true
   },
   "outputs": [],
   "source": [
    "# unknown dims with unknown dims\n",
    "A = cov_base[[12, 13], :][:, [12, 13]]\n",
    "A.shape"
   ]
  },
  {
   "cell_type": "code",
   "execution_count": null,
   "id": "e2600f5f",
   "metadata": {
    "hidden": true
   },
   "outputs": [],
   "source": [
    "# known with known\n",
    "B = cov_base[0:12, :][:, 0:12]\n",
    "B.shape"
   ]
  },
  {
   "cell_type": "code",
   "execution_count": null,
   "id": "2ff71202",
   "metadata": {
    "hidden": true
   },
   "outputs": [],
   "source": [
    "# unknown with known\n",
    "C = cov_base[[12, 13], :][:, 0:12]\n",
    "C.shape"
   ]
  },
  {
   "cell_type": "code",
   "execution_count": null,
   "id": "bce13ae2",
   "metadata": {
    "hidden": true
   },
   "outputs": [],
   "source": [
    "# Find the conditional distribution\n",
    "new_mean = (\n",
    "    np.array([0] * 2).reshape(-1, 1)\n",
    "    + C.dot(np.linalg.inv(B)).dot(np.array(known_values).reshape(-1, 1))\n",
    ")[:, 0]\n",
    "\n",
    "new_cov = A - C.dot(np.linalg.inv(B)).dot(np.transpose(C))\n"
   ]
  },
  {
   "cell_type": "code",
   "execution_count": null,
   "id": "e374c0ee",
   "metadata": {
    "hidden": true
   },
   "outputs": [],
   "source": [
    "new_mean"
   ]
  },
  {
   "cell_type": "code",
   "execution_count": null,
   "id": "11d74281",
   "metadata": {
    "hidden": true
   },
   "outputs": [],
   "source": [
    "new_cov"
   ]
  },
  {
   "cell_type": "markdown",
   "id": "5a982040",
   "metadata": {
    "hidden": true
   },
   "source": [
    "## Well... Thats kind of stupid!\n",
    "#### But we can see why!\n",
    "\n",
    "```\n",
    "The Covariance numbers were inflated due to the \"Glucose levels\" which is on a much higher scale.\n",
    "So the model believes there is so much variance and reflects the same in the result....\n",
    "Either we should standardize (or) we should use a proper kernel\n",
    "```\n",
    "\n",
    "### Lets try RBF kernel with proper scale instead of np.cov\n",
    "[RBF kernel formula](https://scikit-learn.org/stable/modules/generated/sklearn.gaussian_process.kernels.RBF.html)\n"
   ]
  },
  {
   "cell_type": "code",
   "execution_count": null,
   "id": "65a76eee",
   "metadata": {
    "hidden": true
   },
   "outputs": [],
   "source": [
    "known_unknown_dimensions = np.concatenate(\n",
    "    [known_dimensions, unknown_dimensions], axis=0\n",
    ")"
   ]
  },
  {
   "cell_type": "code",
   "execution_count": null,
   "id": "2ddf6026",
   "metadata": {
    "hidden": true
   },
   "outputs": [],
   "source": [
    "from sklearn.preprocessing import StandardScaler\n",
    "\n",
    "scaler = StandardScaler()\n",
    "std_known_unknown_dimensions = scaler.fit_transform(known_unknown_dimensions)"
   ]
  },
  {
   "cell_type": "code",
   "execution_count": null,
   "id": "011fa3a4",
   "metadata": {
    "hidden": true
   },
   "outputs": [],
   "source": [
    "std_known_unknown_dimensions.shape"
   ]
  },
  {
   "cell_type": "code",
   "execution_count": null,
   "id": "1d6643c6",
   "metadata": {
    "hidden": true
   },
   "outputs": [],
   "source": [
    "np.max(std_known_unknown_dimensions), np.min(std_known_unknown_dimensions)"
   ]
  },
  {
   "cell_type": "code",
   "execution_count": null,
   "id": "8422af32",
   "metadata": {
    "hidden": true
   },
   "outputs": [],
   "source": [
    "def rbf_cov(npa, scale=100):\n",
    "    cov_matrix = np.zeros(shape=(len(npa), len(npa)))\n",
    "    for idx_i, i in enumerate(npa):\n",
    "        for idx_j, j in enumerate(npa):\n",
    "            dist = np.sum((i - j) ** 2)\n",
    "            # print(dist)\n",
    "            cov_matrix[idx_i, idx_j] = math.exp(-dist / (2 * scale * scale))\n",
    "    return cov_matrix"
   ]
  },
  {
   "cell_type": "code",
   "execution_count": null,
   "id": "007654c1",
   "metadata": {
    "hidden": true
   },
   "outputs": [],
   "source": [
    "rbf_cov_base = rbf_cov(std_known_unknown_dimensions, scale=2)"
   ]
  },
  {
   "cell_type": "code",
   "execution_count": null,
   "id": "18b3fbf0",
   "metadata": {
    "hidden": true,
    "scrolled": true
   },
   "outputs": [],
   "source": [
    "rbf_cov_base"
   ]
  },
  {
   "cell_type": "code",
   "execution_count": null,
   "id": "34ee1e62",
   "metadata": {
    "hidden": true
   },
   "outputs": [],
   "source": [
    "# np.cov(std_known_unknown_dimensions)"
   ]
  },
  {
   "cell_type": "code",
   "execution_count": null,
   "id": "449de76a",
   "metadata": {
    "hidden": true
   },
   "outputs": [],
   "source": [
    "# unknown dims with unknown dims\n",
    "rbf_A = rbf_cov_base[[12, 13], :][:, [12, 13]]\n",
    "rbf_A.shape"
   ]
  },
  {
   "cell_type": "code",
   "execution_count": null,
   "id": "0eb8d623",
   "metadata": {
    "hidden": true
   },
   "outputs": [],
   "source": [
    "# known with known\n",
    "rbf_B = rbf_cov_base[0:12, :][:, 0:12]\n",
    "rbf_B.shape"
   ]
  },
  {
   "cell_type": "code",
   "execution_count": null,
   "id": "a877b4fe",
   "metadata": {
    "hidden": true
   },
   "outputs": [],
   "source": [
    "# unknown with known\n",
    "rbf_C = rbf_cov_base[[12, 13], :][:, 0:12]\n",
    "rbf_C.shape"
   ]
  },
  {
   "cell_type": "code",
   "execution_count": null,
   "id": "7af3488e",
   "metadata": {
    "hidden": true
   },
   "outputs": [],
   "source": [
    "rbf_new_mean = (\n",
    "    np.array([0] * 2).reshape(-1, 1)\n",
    "    + rbf_C.dot(np.linalg.inv(rbf_B)).dot(np.array(known_values).reshape(-1, 1))\n",
    ")[:, 0]\n",
    "\n",
    "rbf_new_cov = rbf_A - rbf_C.dot(np.linalg.inv(rbf_B)).dot(np.transpose(rbf_C))\n"
   ]
  },
  {
   "cell_type": "code",
   "execution_count": null,
   "id": "538e2a8c",
   "metadata": {
    "hidden": true
   },
   "outputs": [],
   "source": [
    "rbf_new_mean"
   ]
  },
  {
   "cell_type": "code",
   "execution_count": null,
   "id": "a76d14e6",
   "metadata": {
    "hidden": true
   },
   "outputs": [],
   "source": [
    "rbf_new_cov"
   ]
  },
  {
   "cell_type": "markdown",
   "id": "6a2d4a07",
   "metadata": {
    "hidden": true
   },
   "source": [
    "| Height | Weight | Age | BPsystolic | BPDiastolic | FastingSugarLevel | <span style=\"color:green\">Predicted TimeToCompletePhysicalTask</span> |\n",
    "| ---- | ---- | ---- |---- | ---- | ---- |---- |\n",
    "| 5.12 | 52 | 23 | 134 | 84 | 183 |<span style=\"color:green\"> 2.14 on avg with 0.002 variance </span> |\n",
    "| 6.2 | 78 | 43 | 143 | 93 | 135 |<span style=\"color:green\">  3.07 on avg with 0.018 variance </span> |"
   ]
  },
  {
   "cell_type": "code",
   "execution_count": null,
   "id": "96039b7c",
   "metadata": {
    "hidden": true
   },
   "outputs": [],
   "source": []
  }
 ],
 "metadata": {
  "kernelspec": {
   "display_name": "Python 3",
   "language": "python",
   "name": "python3"
  },
  "language_info": {
   "codemirror_mode": {
    "name": "ipython",
    "version": 3
   },
   "file_extension": ".py",
   "mimetype": "text/x-python",
   "name": "python",
   "nbconvert_exporter": "python",
   "pygments_lexer": "ipython3",
   "version": "3.8.9"
  }
 },
 "nbformat": 4,
 "nbformat_minor": 5
}
