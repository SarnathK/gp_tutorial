{
 "cells": [
  {
   "cell_type": "markdown",
   "id": "a5b014c7",
   "metadata": {
    "heading_collapsed": true
   },
   "source": [
    "# initial imports"
   ]
  },
  {
   "cell_type": "code",
   "execution_count": 1613,
   "id": "ff1478da",
   "metadata": {
    "hidden": true
   },
   "outputs": [
    {
     "data": {
      "application/javascript": [
       "\n",
       "            setTimeout(function() {\n",
       "                var nbb_cell_id = 1613;\n",
       "                var nbb_unformatted_code = \"import numpy as np\\nimport pandas as pd\\nfrom plotly import graph_objects as go\";\n",
       "                var nbb_formatted_code = \"import numpy as np\\nimport pandas as pd\\nfrom plotly import graph_objects as go\";\n",
       "                var nbb_cells = Jupyter.notebook.get_cells();\n",
       "                for (var i = 0; i < nbb_cells.length; ++i) {\n",
       "                    if (nbb_cells[i].input_prompt_number == nbb_cell_id) {\n",
       "                        if (nbb_cells[i].get_text() == nbb_unformatted_code) {\n",
       "                             nbb_cells[i].set_text(nbb_formatted_code);\n",
       "                        }\n",
       "                        break;\n",
       "                    }\n",
       "                }\n",
       "            }, 500);\n",
       "            "
      ],
      "text/plain": [
       "<IPython.core.display.Javascript object>"
      ]
     },
     "metadata": {},
     "output_type": "display_data"
    }
   ],
   "source": [
    "import numpy as np\n",
    "import pandas as pd\n",
    "from plotly import graph_objects as go"
   ]
  },
  {
   "cell_type": "code",
   "execution_count": 1614,
   "id": "fe7a4636",
   "metadata": {
    "hidden": true
   },
   "outputs": [
    {
     "data": {
      "text/html": [
       "        <script type=\"text/javascript\">\n",
       "        window.PlotlyConfig = {MathJaxConfig: 'local'};\n",
       "        if (window.MathJax && window.MathJax.Hub && window.MathJax.Hub.Config) {window.MathJax.Hub.Config({SVG: {font: \"STIX-Web\"}});}\n",
       "        if (typeof require !== 'undefined') {\n",
       "        require.undef(\"plotly\");\n",
       "        requirejs.config({\n",
       "            paths: {\n",
       "                'plotly': ['https://cdn.plot.ly/plotly-2.12.1.min']\n",
       "            }\n",
       "        });\n",
       "        require(['plotly'], function(Plotly) {\n",
       "            window._Plotly = Plotly;\n",
       "        });\n",
       "        }\n",
       "        </script>\n",
       "        "
      ]
     },
     "metadata": {},
     "output_type": "display_data"
    },
    {
     "data": {
      "application/javascript": [
       "\n",
       "            setTimeout(function() {\n",
       "                var nbb_cell_id = 1614;\n",
       "                var nbb_unformatted_code = \"from plotly.offline import init_notebook_mode\\n\\ninit_notebook_mode(connected=True)\";\n",
       "                var nbb_formatted_code = \"from plotly.offline import init_notebook_mode\\n\\ninit_notebook_mode(connected=True)\";\n",
       "                var nbb_cells = Jupyter.notebook.get_cells();\n",
       "                for (var i = 0; i < nbb_cells.length; ++i) {\n",
       "                    if (nbb_cells[i].input_prompt_number == nbb_cell_id) {\n",
       "                        if (nbb_cells[i].get_text() == nbb_unformatted_code) {\n",
       "                             nbb_cells[i].set_text(nbb_formatted_code);\n",
       "                        }\n",
       "                        break;\n",
       "                    }\n",
       "                }\n",
       "            }, 500);\n",
       "            "
      ],
      "text/plain": [
       "<IPython.core.display.Javascript object>"
      ]
     },
     "metadata": {},
     "output_type": "display_data"
    }
   ],
   "source": [
    "from plotly.offline import init_notebook_mode\n",
    "\n",
    "init_notebook_mode(connected=True)"
   ]
  },
  {
   "cell_type": "code",
   "execution_count": 1617,
   "id": "b37d1623",
   "metadata": {
    "hidden": true
   },
   "outputs": [
    {
     "name": "stdout",
     "output_type": "stream",
     "text": [
      "The nb_black extension is already loaded. To reload it, use:\n",
      "  %reload_ext nb_black\n"
     ]
    },
    {
     "data": {
      "application/javascript": [
       "\n",
       "            setTimeout(function() {\n",
       "                var nbb_cell_id = 1617;\n",
       "                var nbb_unformatted_code = \"%load_ext nb_black\";\n",
       "                var nbb_formatted_code = \"%load_ext nb_black\";\n",
       "                var nbb_cells = Jupyter.notebook.get_cells();\n",
       "                for (var i = 0; i < nbb_cells.length; ++i) {\n",
       "                    if (nbb_cells[i].input_prompt_number == nbb_cell_id) {\n",
       "                        if (nbb_cells[i].get_text() == nbb_unformatted_code) {\n",
       "                             nbb_cells[i].set_text(nbb_formatted_code);\n",
       "                        }\n",
       "                        break;\n",
       "                    }\n",
       "                }\n",
       "            }, 500);\n",
       "            "
      ],
      "text/plain": [
       "<IPython.core.display.Javascript object>"
      ]
     },
     "metadata": {},
     "output_type": "display_data"
    }
   ],
   "source": [
    "%load_ext nb_black"
   ]
  },
  {
   "cell_type": "code",
   "execution_count": 1616,
   "id": "22f37f75",
   "metadata": {
    "hidden": true
   },
   "outputs": [
    {
     "data": {
      "application/javascript": [
       "\n",
       "            setTimeout(function() {\n",
       "                var nbb_cell_id = 1616;\n",
       "                var nbb_unformatted_code = \"#!pip install jupyter_contrib_nbextensions\\n# Configure the nbextensions and install it for the user (doc available in internet)\\n#!pip install nb_black\";\n",
       "                var nbb_formatted_code = \"#!pip install jupyter_contrib_nbextensions\\n# Configure the nbextensions and install it for the user (doc available in internet)\\n#!pip install nb_black\";\n",
       "                var nbb_cells = Jupyter.notebook.get_cells();\n",
       "                for (var i = 0; i < nbb_cells.length; ++i) {\n",
       "                    if (nbb_cells[i].input_prompt_number == nbb_cell_id) {\n",
       "                        if (nbb_cells[i].get_text() == nbb_unformatted_code) {\n",
       "                             nbb_cells[i].set_text(nbb_formatted_code);\n",
       "                        }\n",
       "                        break;\n",
       "                    }\n",
       "                }\n",
       "            }, 500);\n",
       "            "
      ],
      "text/plain": [
       "<IPython.core.display.Javascript object>"
      ]
     },
     "metadata": {},
     "output_type": "display_data"
    }
   ],
   "source": [
    "#!pip install jupyter_contrib_nbextensions\n",
    "# Configure the nbextensions and install it for the user (doc available in internet)\n",
    "#!pip install nb_black"
   ]
  },
  {
   "cell_type": "markdown",
   "id": "27d7b993",
   "metadata": {
    "heading_collapsed": true
   },
   "source": [
    "#  This notebook is in Github!\n",
    "[https://github.com/SarnathK/gp_tutorial](https://github.com/SarnathK/gp_tutorial)"
   ]
  },
  {
   "cell_type": "markdown",
   "id": "c883c537",
   "metadata": {
    "heading_collapsed": true
   },
   "source": [
    "# Authoritative reference book for Gaussian process"
   ]
  },
  {
   "cell_type": "markdown",
   "id": "51af0eee",
   "metadata": {
    "heading_collapsed": true,
    "hidden": true
   },
   "source": [
    "## <span style=\"color:blue\">Hear it from the founders</span>\n",
    "\n",
    "## The Rasmussen and williams book - RW.pdf\n",
    "\n",
    "### Free download!\n",
    "\n",
    "[RW.pdf : Rassmussen & williams book - RW.pdf](http://gaussianprocess.org/gpml/chapters/RW.pdf)"
   ]
  },
  {
   "cell_type": "markdown",
   "id": "23a77d25",
   "metadata": {
    "heading_collapsed": true
   },
   "source": [
    "# Univariate discrete Distributions"
   ]
  },
  {
   "cell_type": "markdown",
   "id": "ba05a5e2",
   "metadata": {
    "hidden": true
   },
   "source": [
    "**Rolling of dice**\n",
    "```\n",
    "    P(1) = 1/6\n",
    "    P(2) = 1/6\n",
    "    ...\n",
    "    P(6) = 1/6\n",
    "\n",
    "Fair dice -> Probability mass function (PMF)!\n",
    "```\n",
    "\n",
    "**Bernoulli distribution**\n",
    "```\n",
    "    Define event: Rolling of dice results in a prime number (2,3,5)\n",
    "    P(e) in 1 roll = 1/2\n",
    "    P(not e) in 1 r roll = 1/2\n",
    "    \n",
    "    For bernoulli -> You always start with an event with a known probability P(event)\n",
    "    \n",
    "    The bernoulli distribution:\n",
    "        In N rolls of dice, what is the probability of the event occurence?\n",
    "        Event occuring once, Event occuring twice, ..... , Even occurring N times\n",
    "        Define probability for each.\n",
    "        That is a discrete distribution\n",
    "```\n",
    "\n",
    "**Geometric distribution**\n",
    "```\n",
    "    Number of times you failed the parking test in Dubai before getting the License from RTA\n",
    "    Thats a geometric distribution.\n",
    "    Again you start with P(event of success) say 0.1\n",
    "    And then calculate probability of success after N failures.\n",
    "    i.e. 0.9^K * 0.1 = P(success at the K+1th attempt)\n",
    "    This is a PMF\n",
    "```"
   ]
  },
  {
   "cell_type": "markdown",
   "id": "7090cbae",
   "metadata": {
    "heading_collapsed": true
   },
   "source": [
    "# Univariate gaussian distribution formula"
   ]
  },
  {
   "cell_type": "markdown",
   "id": "ee869e8b",
   "metadata": {
    "hidden": true
   },
   "source": [
    "## Continuous random variables have Density functions\n",
    "\n",
    "'x' is a random variable which is centered around the \"mean\" value\n",
    "\n",
    "e.g. x could be Height of students in a class\n",
    "\n",
    "![Univariate gaussian distribution](./img/gaussian_formula.jpg)"
   ]
  },
  {
   "cell_type": "markdown",
   "id": "7c40ba59",
   "metadata": {
    "heading_collapsed": true
   },
   "source": [
    "# Multivariate discrete distributions"
   ]
  },
  {
   "cell_type": "markdown",
   "id": "d38f8017",
   "metadata": {
    "heading_collapsed": true,
    "hidden": true
   },
   "source": [
    "### (discrete) Joint probability distribution of \"Rainy\" and \"Weekdays\"\n",
    "\n",
    "|<span style=\"color:red\">Rainy</span>| Monday| Tuesday | Wednesday | Thursday | Friday |<span style=\"color:blue\">Total</span>|\n",
    "|------   |--------|----|     -----     |    ----- | -----  | ---- |\n",
    "| Yes     | 0.02 | 0.03 | 0.10 | 0.20 | 0.07 | 0.42 |\n",
    "| No      | 0.18 | 0.17 | 0.10 | 0    | 0.13 | 0.58 |\n",
    "| <span style=\"color:blue\">Total </span>   | 0.20 | 0.20 | 0.20 | 0.20 | 0.20 | 0.20 |\n",
    "\n",
    "### Conditioning \n",
    "\n",
    "\n",
    "**<span style=\"color:green\">If it rained, what is the probability that it was a Tuesday??</span>**\n",
    "\n",
    "<br>\n",
    "\n",
    "\n",
    "|<span style=\"color:red\">Rainy</span>| Monday| Tuesday | Wednesday | Thursday | Friday |<span style=\"color:blue\">Total</span>|\n",
    "|------   |--------|----|     -----     |    ----- | -----  | ---- |\n",
    "| Yes     | 0.02 | 0.03 | 0.10 | 0.20 | 0.07 | 0.42 |\n",
    "\n",
    "<br>\n",
    "\n",
    "**Calulating probability...** \n",
    "<br>\n",
    "```\n",
    "= 0.03 / (0.02 + 0.03 + 0.10 + 0.20 + 0.07)\n",
    "= 0.03 / 0.42\n",
    "= ~7%\n",
    "```\n",
    "<br>\n",
    "\n",
    "**This is same as bayes formula**\n",
    "<br>\n",
    "```\n",
    "P(Tuesday | Rainy) = P(Tuesday and Rainy) / P(Rainy)\n",
    "```\n",
    "<br>\n",
    "\n",
    "### Marginalize on \"Rainy\"\n",
    "\n",
    "|<span style=\"color:red\">Rainy</span>| Marginalized probability |\n",
    "|------   | ---- |\n",
    "| Yes     | 0.42 |\n",
    "| No      | 0.58 |\n",
    "\n",
    "### Marginalize on \"Weekdays\"\n",
    "| Monday| Tuesday | Wednesday | Thursday | Friday |\n",
    "|--------|----|     -----     |    ----- | -----  |\n",
    "| 0.2 | 0.2 | 0.2| 0.2 | 0.2 |\n",
    "\n"
   ]
  },
  {
   "cell_type": "markdown",
   "id": "e86eb40f",
   "metadata": {
    "heading_collapsed": true
   },
   "source": [
    "# Multivariate gaussian joint distribution\n"
   ]
  },
  {
   "cell_type": "markdown",
   "id": "9a4067e4",
   "metadata": {
    "hidden": true
   },
   "source": [
    "## Analytical formula\n",
    "### Courtesy: Wikipedia\n",
    "\n",
    "![Multivariate gaussian joint distribution PDF analytical formula](./img/mvg_formula.jpg)"
   ]
  },
  {
   "cell_type": "markdown",
   "id": "e0fccc9b",
   "metadata": {
    "hidden": true
   },
   "source": [
    "## Gaussians are closed under Conditioning and Marginalization\n",
    "#### [Click here for full mathematical proof on this subject from a PhD student](https://fabiandablander.com/statistics/Two-Properties.html)"
   ]
  },
  {
   "cell_type": "markdown",
   "id": "9125cdd4",
   "metadata": {
    "heading_collapsed": true,
    "hidden": true
   },
   "source": [
    "### Marginalizing a gaussian distribution always returns a gaussian distribution\n",
    "Let **x** and **y** be 2 gaussian multivariate normal vectors...\n",
    "![Joint distribution of 2 random vectors X and Y](img/gaussian_joint_x_y.jpg)\n",
    "Then if you marginalize for **x** then:\n",
    "![Marginalized x](img/x_marginalized.jpg)\n",
    "#### How to calculate marginal distributions?\n",
    "<br>\n",
    "Integrate out the dimensions that are not needed and keep only the dimensions that are needed\n",
    "<br>\n",
    "The easier proof is to see that if \"x\" is multivariate gaussian vector, and if A is some arbitrary \"matrix\" then A.x is also a gaussian. One can use this lemma to come up with a A that extracts only the first K components from X and thus the subset of that X will also be a gaussian. \n",
    "\n",
    "You can see the same proof in <br>\n",
    "\n",
    "[reference URL set in the header](https://fabiandablander.com/statistics/Two-Properties.html)\n",
    "\n",
    "You can also see this from <br>\n",
    "\n",
    "[youtube video from Math monk]('https://www.youtube.com/watch?v=ycDSJkZ_h0I') "
   ]
  },
  {
   "cell_type": "markdown",
   "id": "af3eae04",
   "metadata": {
    "hidden": true
   },
   "source": [
    "### Conditional distributions of Multivariate gaussians"
   ]
  },
  {
   "cell_type": "markdown",
   "id": "45b5629b",
   "metadata": {
    "hidden": true
   },
   "source": [
    "```\n",
    "Conditional distribution (bayes conditional probability)\n",
    "\n",
    "P(X1,X2,X3,...,Xk | Y1,Y2,Y3,...Ym) \n",
    "              = \n",
    "P(X1, X2, X3, .......Xk, Y1, Y2, ..... Ym) / P(Y1, Y2, ...., Ym)\n",
    "\n",
    "The denominator can be calculated from the marginal distribution of Y by substituting \"Y\" as \"Y1, Y2, ... Ym\"\n",
    "\n",
    "The numerator is the joint probability distribution of X and Y where Y is substited for \"Y1, Y2, ... Ym\"\n",
    "\n",
    "Thus the term yields the distribution of X1, X2, ..... Xk\n",
    "\n",
    "This distribution happens to be Gaussian!\n",
    "```\n",
    "For a mathematical proof: <br>\n",
    "\n",
    "[Proof that gaussian is closed under conditioning](https://fabiandablander.com/statistics/Two-Properties.html)\n",
    "\n",
    "#### Analytical formula here from RW.pdf:\n",
    "![Conditional distribution formula for gaussians](img/gaussian_conditional_formula.jpg)"
   ]
  },
  {
   "cell_type": "markdown",
   "id": "67a0ada3",
   "metadata": {
    "heading_collapsed": true
   },
   "source": [
    "# Multivariate distribution : 2D distribution"
   ]
  },
  {
   "cell_type": "code",
   "execution_count": 1624,
   "id": "8ec7291c",
   "metadata": {
    "hidden": true
   },
   "outputs": [
    {
     "data": {
      "text/plain": [
       "array([ 0.56926831, -1.39142235])"
      ]
     },
     "execution_count": 1624,
     "metadata": {},
     "output_type": "execute_result"
    },
    {
     "data": {
      "application/javascript": [
       "\n",
       "            setTimeout(function() {\n",
       "                var nbb_cell_id = 1624;\n",
       "                var nbb_unformatted_code = \"np.random.multivariate_normal([0, 0], [[1, 0], [0, 1]])\";\n",
       "                var nbb_formatted_code = \"np.random.multivariate_normal([0, 0], [[1, 0], [0, 1]])\";\n",
       "                var nbb_cells = Jupyter.notebook.get_cells();\n",
       "                for (var i = 0; i < nbb_cells.length; ++i) {\n",
       "                    if (nbb_cells[i].input_prompt_number == nbb_cell_id) {\n",
       "                        if (nbb_cells[i].get_text() == nbb_unformatted_code) {\n",
       "                             nbb_cells[i].set_text(nbb_formatted_code);\n",
       "                        }\n",
       "                        break;\n",
       "                    }\n",
       "                }\n",
       "            }, 500);\n",
       "            "
      ],
      "text/plain": [
       "<IPython.core.display.Javascript object>"
      ]
     },
     "metadata": {},
     "output_type": "display_data"
    }
   ],
   "source": [
    "np.random.multivariate_normal([0, 0], [[1, 0], [0, 1]])"
   ]
  },
  {
   "cell_type": "code",
   "execution_count": 1636,
   "id": "bd33053a",
   "metadata": {
    "hidden": true
   },
   "outputs": [
    {
     "data": {
      "text/plain": [
       "array([-0.26948859, -0.19964896,  1.07378644])"
      ]
     },
     "execution_count": 1636,
     "metadata": {},
     "output_type": "execute_result"
    },
    {
     "data": {
      "application/javascript": [
       "\n",
       "            setTimeout(function() {\n",
       "                var nbb_cell_id = 1636;\n",
       "                var nbb_unformatted_code = \"np.random.multivariate_normal([0, 0, 0], [[1, 0, 0], [0, 1, 0], [0, 0, 1]])\";\n",
       "                var nbb_formatted_code = \"np.random.multivariate_normal([0, 0, 0], [[1, 0, 0], [0, 1, 0], [0, 0, 1]])\";\n",
       "                var nbb_cells = Jupyter.notebook.get_cells();\n",
       "                for (var i = 0; i < nbb_cells.length; ++i) {\n",
       "                    if (nbb_cells[i].input_prompt_number == nbb_cell_id) {\n",
       "                        if (nbb_cells[i].get_text() == nbb_unformatted_code) {\n",
       "                             nbb_cells[i].set_text(nbb_formatted_code);\n",
       "                        }\n",
       "                        break;\n",
       "                    }\n",
       "                }\n",
       "            }, 500);\n",
       "            "
      ],
      "text/plain": [
       "<IPython.core.display.Javascript object>"
      ]
     },
     "metadata": {},
     "output_type": "display_data"
    }
   ],
   "source": [
    "np.random.multivariate_normal([0, 0, 0], [[1, 0, 0], [0, 1, 0], [0, 0, 1]])"
   ]
  },
  {
   "cell_type": "markdown",
   "id": "1057153f",
   "metadata": {
    "hidden": true
   },
   "source": [
    "## Random sample 2D: Scatter plot"
   ]
  },
  {
   "cell_type": "code",
   "execution_count": 1637,
   "id": "003a66cb",
   "metadata": {
    "hidden": true
   },
   "outputs": [
    {
     "data": {
      "application/javascript": [
       "\n",
       "            setTimeout(function() {\n",
       "                var nbb_cell_id = 1637;\n",
       "                var nbb_unformatted_code = \"def make_xs_ys(covm=[[1, 0], [0, 1]]):\\n    xs = []\\n    ys = []\\n    for _ in range(1000):\\n        x, y = np.random.multivariate_normal([0, 0], covm)\\n        xs.append(x)\\n        ys.append(y)\\n    return xs, ys\";\n",
       "                var nbb_formatted_code = \"def make_xs_ys(covm=[[1, 0], [0, 1]]):\\n    xs = []\\n    ys = []\\n    for _ in range(1000):\\n        x, y = np.random.multivariate_normal([0, 0], covm)\\n        xs.append(x)\\n        ys.append(y)\\n    return xs, ys\";\n",
       "                var nbb_cells = Jupyter.notebook.get_cells();\n",
       "                for (var i = 0; i < nbb_cells.length; ++i) {\n",
       "                    if (nbb_cells[i].input_prompt_number == nbb_cell_id) {\n",
       "                        if (nbb_cells[i].get_text() == nbb_unformatted_code) {\n",
       "                             nbb_cells[i].set_text(nbb_formatted_code);\n",
       "                        }\n",
       "                        break;\n",
       "                    }\n",
       "                }\n",
       "            }, 500);\n",
       "            "
      ],
      "text/plain": [
       "<IPython.core.display.Javascript object>"
      ]
     },
     "metadata": {},
     "output_type": "display_data"
    }
   ],
   "source": [
    "def make_xs_ys(covm=[[1, 0], [0, 1]]):\n",
    "    xs = []\n",
    "    ys = []\n",
    "    for _ in range(1000):\n",
    "        x, y = np.random.multivariate_normal([0, 0], covm)\n",
    "        xs.append(x)\n",
    "        ys.append(y)\n",
    "    return xs, ys"
   ]
  },
  {
   "cell_type": "code",
   "execution_count": 1638,
   "id": "40def40d",
   "metadata": {
    "hidden": true
   },
   "outputs": [
    {
     "data": {
      "application/javascript": [
       "\n",
       "            setTimeout(function() {\n",
       "                var nbb_cell_id = 1638;\n",
       "                var nbb_unformatted_code = \"def go_scatter(xs, ys, title):\\n    fig = go.Figure()\\n\\n    fig.add_trace(go.Scatter(x=xs, y=ys, mode=\\\"markers\\\"))\\n\\n    fig.update_layout(title=title)\\n    return fig\";\n",
       "                var nbb_formatted_code = \"def go_scatter(xs, ys, title):\\n    fig = go.Figure()\\n\\n    fig.add_trace(go.Scatter(x=xs, y=ys, mode=\\\"markers\\\"))\\n\\n    fig.update_layout(title=title)\\n    return fig\";\n",
       "                var nbb_cells = Jupyter.notebook.get_cells();\n",
       "                for (var i = 0; i < nbb_cells.length; ++i) {\n",
       "                    if (nbb_cells[i].input_prompt_number == nbb_cell_id) {\n",
       "                        if (nbb_cells[i].get_text() == nbb_unformatted_code) {\n",
       "                             nbb_cells[i].set_text(nbb_formatted_code);\n",
       "                        }\n",
       "                        break;\n",
       "                    }\n",
       "                }\n",
       "            }, 500);\n",
       "            "
      ],
      "text/plain": [
       "<IPython.core.display.Javascript object>"
      ]
     },
     "metadata": {},
     "output_type": "display_data"
    }
   ],
   "source": [
    "def go_scatter(xs, ys, title):\n",
    "    fig = go.Figure()\n",
    "\n",
    "    fig.add_trace(go.Scatter(x=xs, y=ys, mode=\"markers\"))\n",
    "\n",
    "    fig.update_layout(title=title)\n",
    "    return fig"
   ]
  },
  {
   "cell_type": "code",
   "execution_count": 1644,
   "id": "56a68f9d",
   "metadata": {
    "hidden": true
   },
   "outputs": [
    {
     "data": {
      "application/javascript": [
       "\n",
       "            setTimeout(function() {\n",
       "                var nbb_cell_id = 1644;\n",
       "                var nbb_unformatted_code = \"xs, ys = make_xs_ys()\";\n",
       "                var nbb_formatted_code = \"xs, ys = make_xs_ys()\";\n",
       "                var nbb_cells = Jupyter.notebook.get_cells();\n",
       "                for (var i = 0; i < nbb_cells.length; ++i) {\n",
       "                    if (nbb_cells[i].input_prompt_number == nbb_cell_id) {\n",
       "                        if (nbb_cells[i].get_text() == nbb_unformatted_code) {\n",
       "                             nbb_cells[i].set_text(nbb_formatted_code);\n",
       "                        }\n",
       "                        break;\n",
       "                    }\n",
       "                }\n",
       "            }, 500);\n",
       "            "
      ],
      "text/plain": [
       "<IPython.core.display.Javascript object>"
      ]
     },
     "metadata": {},
     "output_type": "display_data"
    }
   ],
   "source": [
    "xs, ys = make_xs_ys()"
   ]
  },
  {
   "cell_type": "code",
   "execution_count": 1649,
   "id": "21215d19",
   "metadata": {
    "hidden": true
   },
   "outputs": [
    {
     "data": {
      "application/vnd.plotly.v1+json": {
       "config": {
        "plotlyServerURL": "https://plot.ly"
       },
       "data": [
        {
         "mode": "markers",
         "type": "scatter",
         "x": [
          0.44855717685767066,
          1.3229843811413975,
          0.2806703197197823,
          -0.05945082952970034,
          -0.260318170911681,
          -0.562240044207738,
          0.41228855038735585,
          -1.691343252717753,
          -0.1586357248144375,
          1.4245352254581425,
          0.5683453723650591,
          1.0022078200700797,
          -0.056792838051823266,
          -0.6216776710340746,
          1.0730031250578733,
          1.099441085229037,
          0.21117666083364753,
          1.6409916469399355,
          -2.3603319811585446,
          0.7653379783883032,
          0.5056478448507599,
          -1.1523749086212998,
          0.6518185576382355,
          0.38580974813849644,
          -1.4477456499292578,
          -1.3851546862768718,
          -0.7174547953506238,
          0.6899251620568251,
          1.0882775772261921,
          1.849929499119731,
          0.8158100782424781,
          -0.528877409464286,
          -0.3810473307540286,
          -1.2421114098469856,
          -0.24192739720216444,
          -0.7817507055106316,
          -0.992585023868104,
          0.8565781378179179,
          0.33889355223404244,
          1.6601362625203808,
          -0.1527623209330719,
          -0.19194437594859043,
          -0.8697296208443811,
          2.0180515657367453,
          -0.9867826396357858,
          0.49629244237129727,
          1.3497497063672583,
          1.415909172590579,
          1.1116407185319042,
          -0.8172028470798239,
          -0.5219278822421737,
          0.15646720280045207,
          -0.3306396805198822,
          -0.9705106951446932,
          0.02507763422241905,
          0.08143009480485577,
          0.2927246217054916,
          0.09205439889075571,
          0.31208516166481076,
          -1.5040363327535708,
          -0.10920239390494133,
          -1.085170399520779,
          0.7031326339114583,
          -0.48604691462965033,
          0.2968560848937061,
          -0.8356184539411934,
          -0.5753641176276607,
          2.2998825959531928,
          -0.15258208447170427,
          0.9793018581284796,
          0.08516775596820253,
          0.8266848718290084,
          -1.6828579833849802,
          -0.30607899530626054,
          1.0306491800068502,
          0.0545943545262516,
          -0.013145111321582864,
          -0.17873699787792932,
          1.2765204562897208,
          -0.7753603997201414,
          0.08880835871252192,
          0.42719957192895364,
          0.8075353368090453,
          2.341659049512976,
          0.8672638213996918,
          -0.7086305515193886,
          0.2494620303673319,
          -0.35840294566099906,
          -0.5588276131600977,
          -1.1044749905251974,
          0.39342742696495553,
          -0.3139310057044962,
          0.5413272068233211,
          -0.10340204826762113,
          -0.8541311551968988,
          0.4322409010246958,
          0.14363843647831195,
          -1.1133551357916658,
          0.7498545941779801,
          -0.8527665580556655,
          0.8070706366521642,
          0.2915284460372927,
          -0.7341125614059512,
          1.8854035661192083,
          -0.5941007257862001,
          -0.7728307150952597,
          1.2430062239597741,
          0.595296207257068,
          -0.19717730233509473,
          -2.0249669845859932,
          -0.5898495746471156,
          -0.49252518089768443,
          -1.537795425135036,
          0.9466620562809652,
          -1.105180352577242,
          0.49594099375578726,
          0.9375588708083393,
          0.4238008183835635,
          1.7027195911996953,
          -0.10156247204796985,
          0.1841229643367657,
          -0.07610313093658803,
          -0.5938952645243586,
          -1.0133409892165082,
          0.6000905430123982,
          2.6962658697792663,
          -0.3446952899639687,
          -0.7708756948022442,
          1.2078310167358224,
          2.526151939043431,
          -1.264463838352773,
          -0.7254629660249282,
          -0.9525743411854142,
          1.6770600010388084,
          0.6191133660024313,
          -0.5306787220204308,
          -1.2294141109288572,
          0.8765631496479075,
          2.511507766631151,
          -0.487547945585169,
          0.6958722804476376,
          0.25895605627564516,
          0.766079354676265,
          -0.9454472782574629,
          1.0472678213914375,
          0.19705734791403942,
          1.148394978340336,
          -0.0028731425944119498,
          0.5281406306876482,
          0.7844890278254518,
          0.30571095456535957,
          0.32111240197205415,
          -0.22120992840574075,
          1.7297249966488946,
          0.5087938729440291,
          -0.46510298306709824,
          0.9846025204204171,
          -1.08549791321707,
          -1.4787139729527325,
          -0.044651783724035235,
          -0.8088169934342756,
          0.2904263188011011,
          0.1350812958867813,
          -0.28364047069006976,
          0.05515181533353039,
          -0.16276425292755523,
          -0.848450064234756,
          -1.5323176571305142,
          -0.660965066922378,
          2.4915470258770465,
          0.14564770168968347,
          0.6520088611198256,
          -0.1466925117321245,
          0.13407713012292313,
          -0.5464620171346078,
          0.8565706227385216,
          1.1087582167850032,
          -1.1479538977494914,
          -0.8854186200812951,
          0.45544328203391893,
          -0.7836177547171298,
          0.8001740341271345,
          -0.5387817202701853,
          -0.7643021455266666,
          0.8897021230007313,
          2.6391837151321385,
          -0.4027213804629869,
          -0.016266996997858676,
          0.5435025770433591,
          -1.0756994923698573,
          0.17614563953905688,
          -0.6531844828629922,
          -1.7241835941432708,
          0.41185340568399964,
          1.5121093456504033,
          -1.231191358053735,
          0.34199124007083215,
          -0.029558804344305467,
          -0.16293522707231067,
          -1.5633083053725825,
          0.27765571521885574,
          -0.3094543859522019,
          0.06077221167907249,
          1.3760511940432716,
          1.6947070223888236,
          -0.4801403850377701,
          0.3970436091028517,
          1.2124786450065117,
          -0.6692358227954208,
          -0.11441276151053997,
          0.3058375643023007,
          1.6931235626090528,
          0.24508318007537558,
          -0.36958884356748656,
          -0.6892333200914054,
          0.4724059662419696,
          0.8850500081995245,
          0.3044433087352349,
          0.7926067115028824,
          1.285265020486645,
          0.20541610873865274,
          -1.0460792741545297,
          -0.12734596014860725,
          -0.3059611053989639,
          -0.798835418877127,
          -1.9704044754601873,
          0.6461021481542362,
          0.1663145643594828,
          -0.5990256558144836,
          0.1911766921884431,
          1.7792241562367928,
          -0.4309998775750692,
          1.1130579946748866,
          -0.7480238990027634,
          0.08514191107248208,
          0.24339112836238663,
          -0.37495935620714915,
          0.3008707291795557,
          0.5818124158843744,
          0.5994777775804704,
          0.14199896516350105,
          -1.3162469458116428,
          1.3879420158974225,
          -0.5426544202280562,
          -0.5412633637703284,
          0.4084744141028586,
          -0.7003205775944956,
          -0.7145688111743109,
          -0.06229786700230257,
          -0.03180448204369035,
          0.024916412604795296,
          0.474996819572261,
          -0.22210933713500441,
          -0.14509998275374594,
          -0.7970418045498007,
          -0.9792215549632008,
          -0.8254371652025454,
          1.4801547412924296,
          -0.18167532714299767,
          0.8756108783861737,
          -2.5752256250691965,
          -2.424597476448239,
          0.17689752679707507,
          0.808760958184193,
          -0.3246126253224703,
          -0.7321536573137981,
          1.013538107945559,
          -0.594559562085321,
          0.5665424975699023,
          0.7096692577129907,
          -0.06702576603581316,
          0.5422057833426193,
          1.0514223746110507,
          -0.117896567536955,
          1.6561991783882868,
          0.95921697309957,
          2.392799322745566,
          0.7320400764610333,
          0.90567968819099,
          -0.22204114146770373,
          0.5649312914562117,
          2.480250724601611,
          -0.7015887564211897,
          -0.47937611621970744,
          1.050053093299504,
          0.4423648235720761,
          -0.28459760987626403,
          0.5512642310671293,
          1.147623206567922,
          0.2120725471904511,
          -0.127335835770934,
          -0.6845901860083519,
          -0.32905489502095975,
          -0.37061149509059604,
          -0.6458450951650013,
          0.47339917052306374,
          -2.5899108101738744,
          2.1012083957595027,
          -0.31380689405310724,
          -1.6920294287595226,
          -1.056755181941604,
          -1.0369158983793312,
          0.017512297458684375,
          -0.9820773084750408,
          0.9865155642729085,
          2.0995267818559213,
          -1.2390046152883722,
          -0.03109130750577024,
          -0.40789246355902314,
          0.5928579397510296,
          -0.2171911352188898,
          -0.625075875945589,
          0.2270908855920375,
          -1.5041533509841147,
          -0.014602358207367421,
          -0.13290636842077475,
          -0.43740365947756793,
          -0.47530854039040704,
          -1.7940281282218467,
          0.26114062935345184,
          0.5258099032577607,
          -2.1554867240764706,
          0.7650554928839063,
          -0.5733052904030745,
          -0.25720539132898695,
          -1.2863204923222484,
          0.8134276971256514,
          0.20654558105053514,
          0.6645200579714894,
          0.01855606959332191,
          -1.7225976149547029,
          1.1817240828847186,
          -0.7090727450684959,
          -0.6938902497935062,
          -0.9920005299920788,
          1.0949884042203368,
          0.3330584756288192,
          0.0017871180539688653,
          0.4016974604807184,
          -0.8692260713495678,
          0.11636929601466676,
          -0.7602719358390989,
          0.29532012278430614,
          1.545993774076535,
          -0.7911004390499718,
          -0.34717163584438765,
          -3.234391064434153,
          -0.5235330644967965,
          0.32351089171014386,
          0.06001984350747105,
          0.1646547205815058,
          -1.6107396749904934,
          -0.8471383571869523,
          -1.981923259021909,
          0.7326946296622765,
          -0.44540864664617624,
          0.4049180593431072,
          -0.7754966005352385,
          0.8851230358262846,
          -0.32409394997905855,
          0.024828198558184224,
          -0.057682430533426116,
          2.8069634573404354,
          -0.1360550606890558,
          1.3754774071551576,
          -1.6404752515148666,
          0.4648741246377202,
          1.2061629552754756,
          1.12538200595745,
          1.6004219294582176,
          0.5372788085541508,
          -0.676610837907225,
          0.971097769289709,
          -0.49891522665452187,
          -1.9940504260363152,
          0.0029128685694423894,
          -0.6014526217560597,
          -0.05675141908617649,
          -1.3923561422005628,
          1.3884473648839608,
          -0.4447857058869442,
          1.8246734553001156,
          2.3386170443524645,
          -0.6994288673420488,
          -1.9110493237102406,
          0.014319928115653491,
          -0.2961947720220196,
          1.8046259386704946,
          -0.5280636258298649,
          -0.755495130310922,
          -0.9935593650769357,
          1.0372837230045304,
          -1.0790430426921405,
          2.0499089893098557,
          -0.29398609581203866,
          -0.8963630259116241,
          -1.6350629345944905,
          -0.2249198407062578,
          -0.29371892760638824,
          1.0173726077727026,
          -0.1912888176066548,
          -0.8811847320685902,
          -1.5199131866372526,
          1.904375726538041,
          -0.2916277535159618,
          -1.0883615056732605,
          -0.786252425973811,
          0.7215413899948859,
          -0.6145624768307717,
          -0.1699069538764104,
          -0.4184365342287346,
          -0.027881850464710187,
          0.5552118473348774,
          0.4050456054384695,
          0.31618382927894767,
          -0.19477536083603947,
          0.679780731775864,
          0.25834743343782607,
          -0.9933098565640142,
          -0.3739446572334641,
          -0.6726455786582709,
          -1.858258289046117,
          -1.8450817093155634,
          -1.2108958634831042,
          0.4387686968758895,
          -0.870473741077711,
          0.21094051261398872,
          0.4071584587980588,
          -2.3287678111998478,
          -1.153631355823304,
          1.5651150297493712,
          -0.55619863590769,
          -0.009772134081392938,
          0.4650796380265132,
          0.16031546512970038,
          0.43401723462652214,
          0.039792278748823816,
          0.33099022495190844,
          0.7437146276044757,
          1.0357866831069555,
          0.04529644588166506,
          0.28104077483175816,
          -0.8471342010324453,
          1.5755081542017408,
          -1.7860567542848051,
          -1.6290613196286832,
          1.7178469384321162,
          1.272679958771415,
          -1.2212109058685912,
          -0.8753695521226972,
          0.9905910098362397,
          0.2959707616691848,
          -0.17399259841862172,
          0.6862402592039398,
          0.17168898617557446,
          0.29655179123627634,
          -0.6629551351234874,
          1.0057313080455177,
          -0.7091296933497857,
          0.7826071950917978,
          -0.26353936320801236,
          -0.3721631949940219,
          0.760937417172379,
          2.0061171633305603,
          1.1549485328150022,
          0.3025169510202861,
          -0.41039482469052746,
          0.2544251447517531,
          1.3727093466306686,
          0.5561432141010617,
          -1.3956937885304777,
          -0.132828950745114,
          0.19054921549774617,
          0.7282792045821449,
          0.8399635077109247,
          -1.466092655515579,
          -0.8210999777265204,
          0.556392493645649,
          -1.0307773751422649,
          -0.29956736132189976,
          1.1924271203351042,
          -0.6018927119366055,
          1.1485793813945189,
          -3.397681272428081,
          -1.9585120855829405,
          -0.9290498229705825,
          0.1781168800240023,
          -0.21640598421354418,
          1.0207537405037586,
          -0.47067470997205285,
          -1.447781000144597,
          0.0033776769666807207,
          0.8555436708097073,
          -1.4270964040372875,
          -1.3270239090472438,
          -1.9661803358693128,
          0.3755990051129103,
          -1.7215867314376805,
          -2.2960037930291692,
          -0.5020084817233722,
          -0.7801769151430356,
          0.4577412524006397,
          -1.1772969685255084,
          0.6449095207355846,
          -0.5321217615313958,
          -0.20088314920468833,
          0.08091783044069085,
          0.5764021391423294,
          0.6088082504986474,
          0.12790377967694871,
          1.267076745118315,
          0.27303020214768636,
          -1.494839358041543,
          -0.6561774088195539,
          -0.8132421657151911,
          1.1789161037074187,
          1.1565208010308594,
          0.15083771020307563,
          0.7270448905321814,
          -0.7036915904305184,
          0.2826517788495451,
          0.08972103006534998,
          2.2121448153774774,
          0.9160511151489171,
          0.1685001590050531,
          -0.22617562075152464,
          0.6787434713643922,
          1.7608919010063497,
          -0.2961502449034208,
          -1.2052563925966109,
          0.5329837180545852,
          -1.503622802340031,
          0.45390366243528685,
          -1.7691668572942467,
          0.39588978016885606,
          0.8041883332927217,
          0.41956528021840045,
          -0.04133657111195808,
          0.6936389116054517,
          -0.06146859247808471,
          -0.8588863974277082,
          -0.1563357259562144,
          -0.46340432324839853,
          0.265945923058859,
          -0.8552261853392434,
          0.7196407480283902,
          -1.457191576778632,
          2.20932807802128,
          0.15346399701067748,
          -1.899576919691774,
          0.1771199686372949,
          -0.36744910105291023,
          -0.0338011813087567,
          0.2506177417491446,
          1.0686640915129761,
          3.2506484380496055,
          1.1243792578520957,
          -0.5446568353134998,
          -0.9264489265138547,
          0.8580697499286953,
          -0.5329516451550522,
          -0.02789050405125069,
          -1.2526439712907953,
          0.21712921676073735,
          -1.2429815572223086,
          -1.8746257512143125,
          -0.09735944143010913,
          0.794230296397721,
          -1.4299863190370734,
          0.10378989382804264,
          0.016911836336698433,
          0.707114901083996,
          0.6523883197121431,
          0.006580413796117838,
          0.2656274114870674,
          0.353865319244619,
          0.964617509303043,
          -0.049031582663651575,
          0.8934564935116925,
          -0.13804526346315005,
          1.283843583541076,
          -0.8350584567560034,
          2.574362580158623,
          -1.4904784032233305,
          -1.3383691163731062,
          -0.616192691941211,
          -0.26226655196804677,
          0.9405420170882031,
          1.0270806403204502,
          0.11177656398950539,
          -0.8866677032662644,
          0.013482969159940775,
          -0.2071001587377073,
          1.077331085215074,
          1.358590022632998,
          0.15121477774391356,
          0.8457687802651924,
          -1.3588840849765416,
          0.1885865290852027,
          -0.13746920784061084,
          0.9451883418763793,
          0.15804286658218258,
          -0.2969039339487123,
          -0.7740733542717366,
          0.9632501950630623,
          -1.2597440672009368,
          1.2625867306291976,
          1.0794302091800185,
          -1.4370778012828658,
          0.1695608996543247,
          1.2021794496605802,
          2.138596509072505,
          2.4320032918603234,
          0.7411699526333958,
          0.0004836354527225155,
          -1.9365065463461835,
          -1.3637091707233688,
          1.0503503173594615,
          -0.20487070553045814,
          0.12207129183266623,
          -1.1898086860977335,
          -0.9345237710948616,
          0.41735355764726295,
          -0.9766746232549899,
          0.01723715326776605,
          0.9430023613537032,
          -0.580590177204266,
          -1.4158170986800542,
          -0.05475312192226928,
          -0.54079917169743,
          0.6519451978800807,
          0.1969927290260128,
          0.5835182300545771,
          0.29850618508483584,
          1.0558192056636462,
          0.022217196516212484,
          1.0208041435693824,
          1.2275148689420032,
          1.4400062447516448,
          1.0272115411913907,
          -1.224463851368164,
          -0.5960410600934997,
          1.6550020168664705,
          1.4625145589540582,
          -1.3175888613333713,
          -0.04403068311212578,
          -0.3737744517458347,
          -0.17771069714695564,
          -0.721695167888143,
          0.16699436511952062,
          -2.9595538956013017,
          -1.5560708878121654,
          0.20414326569267705,
          1.6507269794873711,
          -0.673648719982299,
          -1.1401719234701007,
          -0.9752252335613073,
          0.1097953898970114,
          -1.025923551871527,
          -1.6311193003095532,
          0.7652205554808628,
          1.0386150730758994,
          -0.02171095131344462,
          -1.1244674936104042,
          1.6849200589453117,
          0.6129426540991791,
          0.3208077814538987,
          -0.4455881999820446,
          0.6262202854171468,
          0.456779347508703,
          0.70196615610595,
          -0.055661183028729896,
          -0.9251679624542304,
          0.9748510061147049,
          1.2143875804475248,
          0.5047406031886662,
          0.524476562133624,
          -0.7372714090586608,
          -1.5312604628122823,
          -0.6791951801782664,
          -0.7824823614504658,
          -0.8315777213129065,
          -0.5827781239657225,
          -0.8656235130719793,
          -1.359539969921586,
          -2.2929554966880787,
          0.199130669424147,
          0.10763986415783025,
          0.7508043663430168,
          -0.592951340389619,
          -0.9155023797167913,
          0.9628309223671001,
          -0.7144485423576206,
          0.9080385079784731,
          1.6837924123513435,
          -1.9352534937809043,
          0.4802162795669824,
          0.062040793949846205,
          0.05094084898066578,
          -1.08142679460011,
          -1.4284234648143384,
          -0.4784606961862966,
          -1.2583261295056178,
          -1.0000710685845826,
          0.020131025277576233,
          0.30575600160854577,
          0.8978124467216053,
          -2.0920449404579813,
          -2.2279368843106155,
          0.13610081049294545,
          0.626858568204531,
          -0.34792766108670525,
          0.9564632126371518,
          0.7771813246039361,
          -1.7176591385127276,
          0.1300327888674638,
          -1.2314872575381557,
          -0.7471349827488913,
          0.3700293930452811,
          0.3045646884208641,
          0.0029030222756085333,
          1.298151569244278,
          -0.3825026660335403,
          0.4940500794007734,
          0.6353301857495123,
          -0.9034494514841019,
          1.4077689848868395,
          1.0916611929388707,
          1.4411979337663285,
          -0.05798107396286291,
          -1.4289703101684923,
          0.3143348339915227,
          0.608717492762504,
          -0.2715202827926982,
          -1.8665308493437547,
          1.0062138568572938,
          0.16121072327836894,
          1.2034762949985147,
          -1.4654461384177826,
          -0.10971243104580554,
          2.223743243622424,
          0.1289910537544369,
          -1.6818663383312107,
          -0.7407343568770474,
          1.503508406914863,
          0.35889086268851583,
          -1.3679301934867822,
          0.25774836217052666,
          1.728790024120506,
          0.9685347252137433,
          -1.2876708371912176,
          0.21943799409274897,
          0.9428381686774195,
          -0.6065861100901475,
          0.3724947411623966,
          0.14430428948254623,
          -0.021136588182788896,
          -0.08334648652798744,
          -1.270301603888712,
          0.8037987137089302,
          -0.1771004269473083,
          0.022403905862066115,
          -0.552758201992924,
          -0.4301997592012096,
          -0.7865509189979362,
          -1.6664576684763734,
          -1.337315863952041,
          -0.80050812931876,
          -0.12133782237611956,
          0.39881007610771135,
          0.33538157541236874,
          2.8282176827093872,
          -1.014151862957873,
          0.6334046945798225,
          2.598270229066151,
          -2.0948788618407304,
          -0.9997735558184743,
          -0.21364370673686903,
          0.4143485579174024,
          0.5615471316973509,
          -0.44823996326645066,
          -0.10793661142640779,
          0.32750585290486833,
          -1.1877675781772787,
          -2.9607794454780385,
          0.7388972959436365,
          0.43330758467371727,
          -0.3705493040360802,
          -2.0607277665623167,
          -1.9785658105290682,
          0.9336381271048276,
          -0.24253092384974198,
          -0.7475005945415946,
          0.38017355406605924,
          0.8465407813645434,
          0.3867367521752808,
          0.13271298612501972,
          -0.6747507367041401,
          -1.0297333360685723,
          0.5891090351908886,
          -1.1508214194895208,
          0.23709595786311768,
          1.03596633427217,
          -0.6849168585417648,
          -2.352064406415279,
          -0.5231407072234695,
          -2.403786486423982,
          -0.8600928329031166,
          -0.46516519978926063,
          0.014044757301978144,
          -0.11948418665793827,
          0.2608988824696614,
          0.8177488655075137,
          -2.023830309453254,
          0.6196353162271987,
          0.01420236390770829,
          1.577924183092429,
          -1.7802505609102046,
          -1.2067940594753577,
          0.0033630401781887865,
          0.791758141448947,
          -1.1733823822126017,
          -1.2088211761378076,
          0.5808522365217056,
          -0.19787731223747188,
          0.546234818311357,
          0.0754320801514165,
          0.11615502654359447,
          1.0485117762647973,
          -1.6507497739078423,
          0.3087042815744192,
          -0.48772618617634517,
          -1.8027252676590033,
          0.5127256825190534,
          -2.6190903959649416,
          -0.8839448717802466,
          0.034927282372674076,
          -0.11012850011111093,
          1.0368274971388347,
          1.5123186985809323,
          1.5040056716037171,
          0.6771757226754685,
          -0.9531593432286419,
          -1.1836734436861243,
          1.6091113740937648,
          -0.4750841550508191,
          -0.9894495366181697,
          -0.46920868601704835,
          0.7520556647918473,
          -1.2045522161320408,
          0.4824218317361146,
          -1.3314335677896174,
          -0.4942310148856713,
          0.015514107546622349,
          0.7843778979381801,
          -0.814429982368916,
          -2.6661320611126595,
          1.2495819408665334,
          -0.7561514484915055,
          -0.34341709626708117,
          1.3244425532093642,
          -0.09489728659812367,
          1.7359470097527163,
          1.3646133923816859,
          1.8449043731926194,
          1.2723522364989128,
          0.12932265961390854,
          0.07713851611091652,
          -1.340531034066117,
          -1.6966624028045953,
          -0.6385894167600874,
          -1.3571233033160375,
          -2.149151957676395,
          -1.032278140017676,
          1.0584003689198238,
          -0.5567378974663222,
          -0.8862471596797487,
          -0.8227531168065483,
          -1.3533043273448215,
          -0.3179514456175498,
          -0.4997291237591682,
          1.3643800959382917,
          1.5444419125652125,
          -0.17554412557277177,
          -0.8446826018120416,
          -0.07980754165375024,
          -1.7385554838456545,
          1.0375525308178648,
          0.5276515542217866,
          -0.7657758563438294,
          1.1358782625263801,
          -0.0130405145490894,
          0.2802166018374031,
          -1.6709319727163834,
          -1.017191403843156,
          1.0177266513428294,
          -0.732943380118205,
          -0.7135319508402431,
          -0.2847213089004724,
          1.0457407366441382,
          -0.7235193850999204,
          0.14843864606621265,
          0.6105811437191244,
          0.7479456534442973,
          1.0353377534715507,
          -2.0684347715408227,
          -0.5223700508606511,
          -0.29377737357956535,
          0.232877439070707,
          1.8032474366601225,
          -0.19342267424669546,
          -0.1473497342644293,
          -0.40999008738435705,
          -1.5099575437529755,
          0.8078254282461558,
          -0.27000367820675397,
          -0.23235023074624267,
          0.292397502931909,
          0.5961540463263082,
          -0.04866392244638434,
          1.2630539692958398,
          0.2903904242320413,
          -1.6405000100746308,
          0.12706565482944857,
          -0.21432348650533273,
          -0.39658190191823217,
          0.5737737808962358,
          -0.4916069944093428,
          -0.2618905132429428,
          0.41833717564608863,
          0.3265012664214445,
          1.813338395688136,
          0.22492715713015116,
          0.2359518391283723,
          0.19657473877713066,
          -0.904696791168232,
          1.3227377864562035,
          0.6789473225932764,
          -0.823008165274283,
          0.433753650350121,
          0.8918569556695024,
          -1.178167803300325,
          1.3149069097868467,
          0.7817773016186216,
          -0.16246519400468779,
          -1.0544783226983552,
          -1.1528763443117402,
          0.06146272345980309,
          0.9318048348763486,
          1.6401542354641643,
          1.0602816526006535,
          0.5346797032332421,
          -1.116796690001551,
          -1.1369376630940782,
          1.0031258357660895,
          0.10212998605950666,
          -0.7089649590174235,
          -1.500638337451723,
          1.1026650271716991,
          -0.19780940099301292,
          2.2393978782068253,
          -0.4599996209687622,
          -0.05649182322256962,
          1.826625291040513,
          1.1622073606335146,
          0.992403426689639,
          -0.17495612617914766,
          -0.015537029223681335,
          1.9105867942862362,
          -0.8098570948382402,
          1.124672887171896,
          -0.7867323748963941,
          1.4058346495390694,
          -0.48121793309330796,
          0.4234760243320953,
          -0.07254834875702512,
          -0.22397506237238965,
          1.8041240554489775,
          0.39264211583975556,
          -1.1805769547489382,
          -1.1932024282018336,
          1.8863399941285757,
          -0.19188698723508663,
          -0.4576437467653643,
          -1.1501008693973562,
          -1.4837328147945759,
          -0.9817555290304162,
          -1.0274172689563528,
          -0.12425906733668335,
          0.6183421872787944,
          -0.8044328114687938,
          1.8167403734326584,
          0.4104041966036067,
          -0.42295375649003175,
          -0.12653740683146467,
          -0.1750561020828943,
          -1.2091009364654797,
          -0.9014880572354281,
          -0.2416845387290106,
          -0.9617145476355723
         ],
         "y": [
          -0.8981545726316835,
          0.958307844882304,
          0.17542986203053063,
          1.35680060424986,
          -0.7496356562741773,
          0.013121937963036331,
          0.37475703615249834,
          0.30909373563502834,
          1.4090778043152965,
          -1.312044826736755,
          -0.23169964488631478,
          -1.110713221130631,
          -0.1868735050394228,
          -1.7161413466848912,
          0.15473648267901796,
          -0.3806998404785175,
          -0.3250268320609294,
          -0.8784177960815334,
          -0.7989619774953443,
          -0.11974202043839749,
          0.2321256174329622,
          -0.858254450276355,
          -1.067297647881892,
          -0.42296144852557177,
          -1.3245354859760399,
          1.1696764415048742,
          -1.7944710552106857,
          -0.5747672556369159,
          1.8948524100373705,
          -0.006235516097915258,
          -0.04927136574729581,
          0.03003855782286475,
          -1.2366306805633624,
          -0.1448343247984027,
          1.050395563042179,
          -1.0459088008655344,
          2.671444917072499,
          -1.138205667738487,
          -1.2810316182774688,
          0.8992247648600855,
          0.09959724378004846,
          0.34664937261051804,
          -0.012005914956100216,
          0.978522607072404,
          0.8019387619288328,
          1.4665613136118214,
          -0.6791071558804878,
          1.2442882584204618,
          0.15232083821623002,
          -1.4927875407519844,
          -1.4659952003555388,
          -1.4431287735416432,
          -0.7595936733350329,
          0.7622149441274648,
          -1.0695891425508621,
          0.8516525708634021,
          -2.1382276732059675,
          -0.2428615388964217,
          0.8324338428295114,
          -0.2513742095892331,
          -0.2346627714424832,
          -0.6348668816242501,
          -1.0121433481673832,
          1.2566868525688941,
          1.7556992019136322,
          -0.7393298515544705,
          -1.9202322534814735,
          -0.26669516162732587,
          -1.4082745947345605,
          1.7343652742408344,
          1.5532644940525069,
          0.7229080893244308,
          -0.404258290465858,
          0.8222119177517275,
          0.39452276194157493,
          -1.205571554232182,
          -0.0875536711036252,
          0.09517749690964819,
          0.24940009889102235,
          1.3766958115779957,
          -0.8373951417138163,
          0.24044285499651588,
          -0.47797448545404075,
          0.8974506128411327,
          -0.5899523080532896,
          -0.25936471180517645,
          1.4487518788279048,
          -0.775340478216469,
          0.6438575078582052,
          -0.79467740857334,
          -0.2730963601644932,
          -2.302019793425293,
          -0.9851041048156398,
          1.828394718066755,
          0.31793860186653566,
          -0.7825761138613352,
          -0.0676734940081844,
          0.5430160478496231,
          0.21715688586869894,
          1.7251548671730816,
          1.5329633287365494,
          -0.7008835870219294,
          0.27446365975234094,
          -1.666747400793195,
          0.12446088918533574,
          0.601955557980137,
          -0.7200528719577405,
          -1.480569037136356,
          -0.0806031495513671,
          0.13544111069474316,
          1.181838604819315,
          -0.5815790512865775,
          0.6582020917205903,
          0.3964403699128238,
          -1.7777408739707319,
          -0.14409577064733242,
          -0.5618092649830575,
          1.0820918719897916,
          -1.445035193704256,
          -0.6194307830323512,
          -1.1722402942474226,
          0.07771268085860543,
          1.5083672607248184,
          -0.8066287913979246,
          -0.3707536818630657,
          -0.21414170592966297,
          -1.4881502306803343,
          -0.5586850736061718,
          -1.0554529421727434,
          0.8276373726683731,
          0.07146876556586525,
          0.8925174034835829,
          1.4705237738849615,
          0.943837390195943,
          0.9955923799740458,
          -0.02774325871626581,
          -0.6685842208787284,
          2.277719270149074,
          0.5237816514461023,
          -0.948364161517186,
          -0.8453100410056401,
          1.05562498263106,
          0.6947299825614125,
          -0.6087864593162515,
          0.37805591450446374,
          -0.9384151327480348,
          0.6406030792975127,
          2.3995013379693724,
          0.7428045628875154,
          0.49906846166135016,
          -1.077767954163257,
          0.037314499780267824,
          -0.6486564857094212,
          0.6241296846754192,
          0.016913549724033996,
          -1.6050955161654938,
          -0.6602900624807654,
          0.14114310508760206,
          1.8916328455535292,
          -1.4751690483941726,
          0.03130431305112117,
          0.6467001234050567,
          0.8583545332664669,
          -0.8005078448883698,
          0.6407820069431666,
          -2.6039089866244063,
          0.21885045207527984,
          -1.927309671074992,
          -2.2311461077882773,
          0.16346593045741942,
          -1.0815261500661255,
          0.2567553764064655,
          -0.7654127984114363,
          -1.1479695697180325,
          -2.636405385610905,
          -0.5032517799764683,
          0.13038192922761957,
          0.9293285368176346,
          -0.15624110810985212,
          1.5217566191873781,
          -0.7554861501094885,
          -0.40709632551842884,
          -0.9082607128008454,
          -1.4141956075403381,
          -0.22335556096381204,
          -0.6648640666648478,
          -0.845642443882462,
          0.05818827437384565,
          0.06382450517748697,
          -1.3770348528102003,
          1.2494190129283704,
          -2.173104777799369,
          0.7520109915016032,
          -0.13046933302896466,
          0.8623557558493194,
          -1.0461452986751283,
          -0.1849008905448433,
          -2.518702088281738,
          -1.9275030931836952,
          -0.8820918828398796,
          -0.19592142547043218,
          0.692601460049957,
          -1.4416758241067764,
          -1.1011352768795413,
          -1.0955786761235524,
          -1.022011992147784,
          -0.5336236032785133,
          0.045246683843232806,
          -1.849558739892487,
          0.26244263667954265,
          0.7620268081086352,
          1.785613375308064,
          0.726539494536812,
          -1.6042115910103718,
          -0.834502202565002,
          -0.9268520365101441,
          0.638493282394542,
          -0.22537029661021585,
          2.2706911494481896,
          -0.6094270636874597,
          -0.461200252017532,
          0.07984248579162562,
          -0.604212534624812,
          0.6690561540264599,
          1.247506420348346,
          -0.2614309747598606,
          0.4196405475650233,
          1.8580997581465106,
          -1.1277698342963103,
          -0.22841995451890112,
          0.8046581443240628,
          -0.9106172741443117,
          2.0171496761803436,
          1.0697098754559875,
          0.41638116254954033,
          0.3531814399758391,
          1.288529004323083,
          -1.6999479719028998,
          -0.2673736206457327,
          1.201941528893164,
          -1.8259673649280972,
          -0.12785162200902514,
          1.2451499564906243,
          -1.0427709850420468,
          0.679837339172007,
          0.7534747264065148,
          -1.9879495183887008,
          0.0913750945083935,
          -0.2606263676889136,
          -0.260720039444014,
          1.6305852061822106,
          1.1700884335187733,
          -0.7373036997301414,
          -0.674309540639222,
          -1.0767659296862555,
          -1.941268212400377,
          -0.8108560930255124,
          3.228659530313691,
          -1.109421277420619,
          0.47114089190374353,
          -0.5943359852719289,
          0.028357781094203137,
          1.832454987917869,
          -0.5971580639363403,
          1.846115170564283,
          -0.8635862625502945,
          1.7126106397256635,
          1.372730505240186,
          1.3377825600267774,
          1.7078856772134314,
          0.38336508621009835,
          -0.899252742171008,
          -0.539300010920663,
          0.7457553259578912,
          -0.1340724338452738,
          0.42684733504183414,
          0.002343013204554258,
          0.1911532183582647,
          2.8235332430638644,
          0.35432742895904595,
          -0.31596555302254714,
          0.6665103901582033,
          1.819634186233165,
          1.4981108163985009,
          0.11552258173229604,
          -0.29846635467485194,
          0.7559387045373215,
          0.8311248800130073,
          0.3697799288307466,
          -0.9333799558497157,
          -0.8787533853468774,
          -0.5333209281614849,
          0.656894816903783,
          0.7280490863501593,
          1.9710852786825972,
          0.18293774404277457,
          -0.730694622171098,
          -1.2978301875103095,
          1.1153610544888306,
          -0.7106222737038098,
          1.6491054632665867,
          -0.8054537296997203,
          -0.6507595915542506,
          1.924368747242817,
          -0.42337147573828576,
          0.39954022700095293,
          -0.24791770739094682,
          0.1753319278921419,
          -0.6359428739719395,
          -0.9538886700150756,
          0.12581958327604137,
          1.7290104446454448,
          0.7728213786236778,
          0.5905685961911391,
          -1.0196182349850702,
          -0.20617013586724822,
          0.7558334094504077,
          -0.7549211438133142,
          0.7403590814792356,
          -1.9463910399493198,
          -0.1264948776042591,
          -1.549589275622992,
          0.8896092110204123,
          0.5030592310054692,
          0.3435716656135616,
          -0.44412878552851687,
          -1.3712046307927204,
          0.3197318659800046,
          0.9242245724300754,
          -0.601138314759759,
          1.3478336354528546,
          -0.2987271040135429,
          -1.1060776574492674,
          1.6315127302389951,
          0.9826588675454901,
          1.4091657311265633,
          0.9483350450574592,
          -1.8832057395642574,
          -0.19817823782331415,
          -1.40500967145106,
          -0.9232988984484853,
          0.09893496475564045,
          -0.6147802396930938,
          1.8431043778178307,
          -0.11487042561055458,
          -1.0588195260568496,
          0.2401159462124294,
          1.025529688135064,
          1.0969970120052233,
          -1.687525511430343,
          0.43132131700463505,
          0.0803377949164442,
          1.5517033180377198,
          -0.8389793807211205,
          -0.046334218559283845,
          0.7927082525864593,
          -0.3057225109958071,
          0.211615666431207,
          0.4403945672573803,
          1.3360211489404876,
          -0.44628185683353805,
          0.9438837754158479,
          -0.5064490915116758,
          -1.7631047439168472,
          -1.0323437181427813,
          -0.44330700049863164,
          0.5060546738248346,
          0.18538811264727867,
          0.7751593627530208,
          0.207278924728986,
          -0.6695235662532324,
          1.780254203189806,
          -0.03582698103715872,
          -0.5767650786383898,
          -0.22208985414104818,
          1.3139113874966994,
          0.7922463574803198,
          -0.5053856540523645,
          -0.2364334931612359,
          -1.6467380287654179,
          -0.04547631619075789,
          0.0060813895355880465,
          -0.13802567697787874,
          0.6467669250106958,
          0.3320527945208618,
          0.27845082097091756,
          0.038335828062836225,
          -0.7810641801824497,
          -0.7720876899292548,
          -1.64315214309774,
          -0.8572227873750141,
          -0.47962303514158855,
          1.1374262321920332,
          0.36351174555291266,
          -1.0203296422654293,
          0.5928749979394881,
          0.40543717938430307,
          0.3685107765317492,
          0.2976087307703472,
          1.1348868820576348,
          0.883043625524218,
          0.5617320220862208,
          0.8623666449897162,
          0.5705126148003881,
          0.4051678320481088,
          -0.2594782197352341,
          1.2642652603502376,
          -0.026504746228482107,
          -0.5615982768674537,
          -1.7019399748902042,
          -0.011578695214956216,
          0.21754190423851505,
          1.5003928127242736,
          -1.3376023911677821,
          -0.1525098692518086,
          -1.2254545594936006,
          -1.0679839194069682,
          -0.053591840831548436,
          -0.13026327123848974,
          1.1845039139478761,
          -0.11354975604368084,
          1.257281164819208,
          0.7348962912058842,
          -0.5885398854704587,
          -0.9805132979350991,
          1.2518691582155257,
          0.6674058635974335,
          0.9196737419746339,
          0.7897319244020332,
          -0.30978982721699294,
          0.45671150667316907,
          -0.6275159988195963,
          -1.0815772285569776,
          -0.5016982741844809,
          1.284660255591659,
          -0.8548660267977357,
          -0.4349476120434367,
          0.1653135272683128,
          1.0127800458024694,
          -0.16667923324683478,
          -0.9260156736192205,
          -0.16603341896550083,
          -0.6075857412576546,
          -0.8201644064910628,
          2.0461301631400532,
          0.0490694087606335,
          0.07553441206802866,
          -0.27253025181077484,
          0.6806279622463443,
          -0.26138912071208403,
          -0.7618848506376718,
          -0.6192830942761547,
          0.1358559077502818,
          0.8576093485179316,
          1.1083407027463028,
          0.3107720158889111,
          -0.14450239184097083,
          -1.2483826586002806,
          0.40273753247651906,
          0.44857704465469017,
          -0.0809311399962037,
          -0.20021666470881114,
          0.5386886404093628,
          -0.2436168315472389,
          -0.6380425863923282,
          0.7526834281381372,
          -1.3563472940539127,
          1.203442877151117,
          1.264256993893773,
          -1.4667135406293281,
          0.6500035649712852,
          -0.9726584911942803,
          -0.1393706244460259,
          1.11206803137648,
          -0.8875287257983806,
          -1.7376676859787599,
          -0.35586937583312983,
          -0.7778842644187524,
          1.0573277505334464,
          1.130608433414723,
          -0.6863161205197064,
          -0.8684427578214233,
          0.07266602664518637,
          -0.7056472533653552,
          0.18730816254228191,
          -1.0596895262069166,
          -0.07500996729028392,
          -1.2110709502376455,
          -1.4843403372445019,
          0.13772861246667478,
          0.24002377067820505,
          -1.2421168228024653,
          -0.9592626744682573,
          0.36987333977076137,
          1.5342833510402596,
          -0.15770294775040752,
          1.2076817885690043,
          -1.0389018619730406,
          0.637844533418849,
          -1.773290835701863,
          1.4809645006340781,
          -0.6153804734148612,
          -0.5448063669042078,
          -1.3277171955143292,
          0.25047497154284243,
          -2.0683512402900313,
          0.06110340377732343,
          1.6739572040499375,
          0.0927199268840089,
          -0.6838038799529574,
          0.12522405837572936,
          0.2137526839020775,
          -1.0114556155459935,
          -1.2708942432396901,
          -1.3216263500116305,
          0.9859365256859497,
          -1.086347946610848,
          1.3197128047469104,
          -0.7016902144591181,
          -0.09613926324592868,
          1.0651265517656356,
          1.0017400726821508,
          1.6912414078222515,
          0.34914967708250644,
          0.27332371542983913,
          1.0631164520455234,
          -0.684291809933131,
          0.6838918162782484,
          0.5356763438553789,
          0.35713595262425685,
          0.6035618751367671,
          0.8027383482218026,
          -0.9995137264301235,
          -0.07746508427568323,
          -2.008220232280592,
          -0.7543797644146225,
          0.5858858282544399,
          0.955792397204199,
          -0.5659188409987512,
          0.3717896706551467,
          -0.13629010114067355,
          1.4680946835087392,
          -0.7496778082417647,
          0.29269166961067894,
          1.456842504054985,
          -0.03622680309059684,
          -1.035202352677081,
          -1.1528196446402112,
          -0.0690966021664504,
          -1.7168736541514868,
          -0.23046314464924295,
          -1.8234075625251855,
          0.34319459064099794,
          -0.5893278459694328,
          -0.5419225866352181,
          -0.6397546524295225,
          -0.3711682115572928,
          1.0068578401650186,
          1.0861075630265586,
          0.19107165434517429,
          0.22010632339139027,
          -1.1213473871161352,
          -1.1687616254531805,
          0.139958625924644,
          1.5200449822064557,
          0.24940514879073875,
          0.2516237062740477,
          -1.0633762040768753,
          -1.0303886313374242,
          -1.280217128798579,
          0.1209622496779686,
          -0.8210185518178802,
          -1.0904921860605947,
          -0.0052798786587114005,
          -0.5803082326091231,
          -2.5505163132759883,
          0.07043729012696352,
          1.0166836327004527,
          -0.3397582932748122,
          -2.2481413456275483,
          1.5647938977297073,
          -1.1182989063583013,
          0.35198333891675,
          0.693705358939242,
          0.2844289870061887,
          0.6690742952140172,
          0.16208963147254016,
          0.33058316089190354,
          0.5289049084094841,
          0.6308656500448631,
          -0.5177916752290734,
          -0.31955331460893005,
          2.4280361484756003,
          1.3236670364389498,
          -0.1566760094478639,
          -1.682311218287819,
          2.6082177143741783,
          1.3188663473075326,
          0.48103143440584123,
          -0.440270161322272,
          -2.1265359504115664,
          -1.2746638872220044,
          0.834950264180839,
          -0.6475910316329192,
          -1.4996395547042487,
          0.725144578780966,
          -0.08658783593193375,
          -1.0458375708900078,
          -0.869714216814835,
          0.1322406965569749,
          -0.5682407243495312,
          0.8277792942590905,
          -1.5391189268722119,
          0.5168762270524716,
          -0.5007969656703011,
          0.6526809194248685,
          0.12041697126018071,
          0.42735727159359543,
          0.20539563337868644,
          -0.6994893844292623,
          -0.038089269922908224,
          -0.23456035344664466,
          1.1209126299906311,
          -0.5648576615173115,
          0.5021060100953498,
          0.06524724630398042,
          0.02376435032531926,
          0.034465055693461984,
          -0.3719126342985453,
          0.053025065358290525,
          -1.2327519120714925,
          -0.0718725685258894,
          0.07056605312107822,
          0.3532119642514479,
          -0.39747067050201973,
          -0.18657494544777453,
          0.9732859363904116,
          0.11132529381635405,
          -0.9800522222692852,
          -0.09100010174632196,
          1.9148062347860526,
          -0.04133729801986173,
          -0.464099229336231,
          1.6022900980482457,
          -0.6238595091393497,
          0.23882522086786429,
          0.2964744870135315,
          -0.6434821753109999,
          -0.715247734799928,
          0.3592342662339131,
          -1.6438145770974448,
          0.4097628729309101,
          -1.3363302570515039,
          0.9818575983375258,
          -0.6963683721528086,
          0.6774932258698043,
          0.7905780726441519,
          0.7738619427168318,
          1.641033027789033,
          0.41025748183183697,
          -0.5485006138315167,
          0.7374980300824194,
          0.8697559685127195,
          0.3874237776492384,
          -0.6783218907752971,
          1.4236349104603445,
          0.9319088489646948,
          -0.6956794981670483,
          -0.2514636242658008,
          -0.5116710033203341,
          0.5915542220882348,
          1.0285594094945552,
          -1.9421721574728426,
          -2.249597151823274,
          1.700416045472601,
          0.6466519837011121,
          1.476398142235483,
          1.7626912486439306,
          -0.18361198398635611,
          0.026323269652184914,
          -0.6155515552340798,
          0.38588799495619586,
          -0.7935029313437088,
          -1.2717199050698378,
          0.35949464200852266,
          -0.02482980733119727,
          1.5549293619157785,
          -1.6399068661511758,
          0.7791996300390012,
          -1.2063966183829977,
          -2.161825243929876,
          3.058490766407278,
          -1.0438929304727234,
          -0.2842361959624954,
          0.7958691486564291,
          -0.15576839564978026,
          0.715338453699148,
          0.25445918209651236,
          0.6032617898453608,
          1.1080049071152553,
          -0.28195591007379744,
          -1.7806263765645698,
          3.239381399545431,
          0.8384533867280405,
          0.810167608331877,
          0.34680145790366823,
          1.8648810922000807,
          0.24780941209968932,
          1.6812049614908868,
          0.45884176640250274,
          -1.8749785558848544,
          -0.34431545162879806,
          0.15104223543775722,
          -0.7257489983747617,
          0.8728199918260606,
          1.290284440295405,
          1.2046277439432374,
          0.1797703537742477,
          -0.56685279021883,
          0.7950557603733985,
          -0.5270892126984328,
          -0.8741917878414943,
          1.1208666570954022,
          -0.3935003444180381,
          0.15749332202798516,
          0.0005049984214274457,
          -1.4704460588632893,
          -0.7182810632592362,
          1.0186964015919555,
          0.32810942246810115,
          1.9309591729865268,
          0.8038576942986903,
          0.8756218332559942,
          -1.0666505502461914,
          -1.0510181493756838,
          -0.2912682250148873,
          0.3059903323155873,
          -1.908234964050675,
          1.2094879682052597,
          -0.757117810046278,
          0.46514112786638556,
          0.35786439629405603,
          -0.21542210618666743,
          -0.3775361308935086,
          -0.9056973876863151,
          -1.540000011394198,
          -0.6524691505476437,
          -1.2131501223230174,
          0.7013159962890776,
          0.6015820954987265,
          0.631729409813267,
          0.2262287779859158,
          1.7521376196545706,
          -0.9008828927174215,
          0.29622590474468463,
          -1.1387337517584761,
          0.5059678542850223,
          0.604072820940156,
          -1.2382051674250931,
          -1.24567760006479,
          -2.0463682556645204,
          1.1704787235390124,
          -0.46218038820151996,
          0.16209253937535292,
          0.5358061504376374,
          0.11096492207626416,
          1.5410285653681846,
          -0.5491359733770076,
          -0.9700881047981301,
          1.836525349008577,
          1.6409832427921889,
          0.5865629067921525,
          0.6056473553743362,
          -1.4241399492823092,
          1.810642261796107,
          0.04464561589919241,
          -0.020783291180607483,
          -0.6026931150904087,
          0.08165982744328275,
          -1.071954450334973,
          -0.36480160776764065,
          0.19830187506484495,
          0.6674827964834598,
          -0.5629708485622005,
          0.1460311580203172,
          -0.15723354232870776,
          2.262815096265747,
          -0.8344176355116457,
          -1.9770329723530427,
          2.365339474194019,
          -0.911632673960844,
          -0.2993617610562689,
          -0.33997941331627773,
          2.903217294791255,
          0.6860582536701976,
          0.2246270587763802,
          0.45311223014176544,
          -0.2869027424806527,
          0.35711606282446934,
          -1.2040578654721734,
          -0.14421497958018184,
          -0.3160450575038114,
          -1.6532203854716632,
          -0.8232146123013881,
          0.544357986645694,
          -0.24870863752261252,
          -0.14577872454421206,
          -0.9164635531160266,
          -2.0146306613226734,
          -0.607910873711525,
          -0.310017437974733,
          -1.8507490592129854,
          -0.28009256860376996,
          0.8413985381485636,
          1.4411723326217434,
          0.37869835280680075,
          -0.185552581575405,
          1.6065704688981217,
          -0.5094402483797944,
          0.48092754316768666,
          0.7159369499823789,
          0.5758927675058918,
          0.11115243024829241,
          1.2217096101625509,
          -2.2832503782321667,
          -0.4701750996422693,
          1.1656754839221406,
          -0.33770644570899255,
          -0.48737955851575643,
          -1.0505233111918657,
          -0.9352200757407488,
          -0.1454227359040893,
          0.548886175977773,
          0.9513184517026236,
          0.41952495289873504,
          -0.21121900989117706,
          -1.3927402226925676,
          -1.48658063655224,
          -1.798383579490326,
          0.04349886079065998,
          -2.5644451295519306,
          1.1101272542906326,
          0.5874323008161844,
          -0.5509859106048525,
          1.3555680664331835,
          1.2336987727215327,
          0.5019408442568258,
          -1.1392800058800627,
          2.609123715988076,
          0.18638434235125217,
          -0.2626335062885502,
          0.228529530538878,
          0.1579574105676858,
          0.06048954093472704,
          1.8261698743306203,
          -0.45528854880592007,
          0.33602220566809904,
          0.19880335010883013,
          2.5622864747155623,
          0.8289742471713732,
          -1.1888481730352993,
          -1.068898196316848,
          -0.6109462444722555,
          0.3345684033502288,
          0.707158804949356,
          0.5934647912887971,
          0.568975343155455,
          -0.1255669813922978,
          0.5458691815393871,
          -0.02937836690160486,
          0.6565369123419204,
          1.0786625734548285,
          -0.39086865795826736,
          -1.82189865757159,
          1.5909184658599556,
          1.289732674672499,
          -0.07962581627156104,
          -0.02880210598087524,
          -1.4840238078541144,
          0.07285640899971356,
          1.441865539534425,
          1.5329606976626022,
          -0.14115905787306324,
          -0.10952049111299114,
          0.8775815045891645,
          1.3651399833448938,
          0.0629527923500768,
          -0.7200954573372659,
          -0.5067217439739224,
          0.9865553730147567,
          -0.6410387953833273,
          -0.10830487504331233,
          1.1270528128959632,
          0.12487853707640229,
          0.13586072926628676,
          -1.5802602411622684,
          -1.0265042507498554,
          0.6530551099725725,
          0.7516757357382928,
          -2.1763408998028257,
          -0.07415422291326754,
          0.5149795555934964,
          0.5845010156166944,
          0.004623382475672308,
          -2.0454249575007557,
          1.2082193181874907,
          -1.0276300144403847,
          1.298826808962317,
          0.6114829949373314,
          0.43293473081553613,
          -0.04109051816035639,
          -0.18679480561711734,
          -0.26433973207149714,
          -2.115360178231293,
          -1.03615640750912,
          0.41034908028057143,
          1.105738140687717,
          -0.8966561408949176,
          0.8728384068555365,
          0.9043436869990963,
          -0.02070933429796758,
          -1.233455329819056,
          1.0729486637253518,
          -2.397845386899166,
          0.07401504086636229,
          0.25461058398531694,
          0.5846865427185666,
          1.1730606073199044,
          0.04164113775312933,
          -0.697262384296728,
          -0.9456908443976721,
          -0.0787778939718493,
          0.7615803114002672,
          -1.5088892489075914,
          -2.241901211947592,
          0.5244047057334146,
          -0.2999503642541892,
          1.6604742648835444,
          -1.3258833314929956,
          0.29719722623308703,
          0.26897128597237024,
          1.0770775335458034,
          -0.08155743920290709,
          0.44027866024149553,
          0.7104447924953253,
          -0.886421231219936,
          1.6702581727413244,
          0.3306192163893713,
          0.9452564226086757,
          0.2835053928605746,
          -1.0792094096215818,
          1.8540103595566768,
          -1.2275786197591971,
          0.7578152459795469,
          -0.6181931478604331,
          1.173431956293988,
          -0.28491902921621265,
          0.2778029936797117,
          -1.0030559280008566,
          0.8464389633558899,
          0.6834990513562794,
          0.6071192583502257,
          0.3070973459366138,
          -0.07578379058916133,
          0.5452772744155252,
          0.5791579594128204,
          0.38421944782340606,
          -0.5174897983098726,
          0.5905015904672142,
          1.1025616450602809,
          0.516919889207835,
          -0.5147443353051573,
          -0.8062236842776312,
          0.41065256300240477,
          0.7953641641592525,
          0.21726091175803927,
          -0.3204620761721068,
          -1.489054147911756,
          0.6239922279987005,
          0.47853183808881367,
          0.6395647760546764,
          0.4361034262220129,
          0.4040027221379328,
          1.2689901998146649,
          -1.4187227743486386,
          -1.4616214012575255,
          -0.993707196188246,
          0.9303724263912728,
          -1.1540695076963567,
          -0.7122579836469851,
          -1.2930055253086206,
          1.0576616066526596,
          -0.1719925769802513,
          -0.6353184339800432,
          0.637260778200866,
          0.2302054062637396,
          0.6423155567710952,
          0.1452277956761662,
          1.8528406178092125,
          0.4431884727925146
         ]
        }
       ],
       "layout": {
        "template": {
         "data": {
          "bar": [
           {
            "error_x": {
             "color": "#2a3f5f"
            },
            "error_y": {
             "color": "#2a3f5f"
            },
            "marker": {
             "line": {
              "color": "#E5ECF6",
              "width": 0.5
             },
             "pattern": {
              "fillmode": "overlay",
              "size": 10,
              "solidity": 0.2
             }
            },
            "type": "bar"
           }
          ],
          "barpolar": [
           {
            "marker": {
             "line": {
              "color": "#E5ECF6",
              "width": 0.5
             },
             "pattern": {
              "fillmode": "overlay",
              "size": 10,
              "solidity": 0.2
             }
            },
            "type": "barpolar"
           }
          ],
          "carpet": [
           {
            "aaxis": {
             "endlinecolor": "#2a3f5f",
             "gridcolor": "white",
             "linecolor": "white",
             "minorgridcolor": "white",
             "startlinecolor": "#2a3f5f"
            },
            "baxis": {
             "endlinecolor": "#2a3f5f",
             "gridcolor": "white",
             "linecolor": "white",
             "minorgridcolor": "white",
             "startlinecolor": "#2a3f5f"
            },
            "type": "carpet"
           }
          ],
          "choropleth": [
           {
            "colorbar": {
             "outlinewidth": 0,
             "ticks": ""
            },
            "type": "choropleth"
           }
          ],
          "contour": [
           {
            "colorbar": {
             "outlinewidth": 0,
             "ticks": ""
            },
            "colorscale": [
             [
              0,
              "#0d0887"
             ],
             [
              0.1111111111111111,
              "#46039f"
             ],
             [
              0.2222222222222222,
              "#7201a8"
             ],
             [
              0.3333333333333333,
              "#9c179e"
             ],
             [
              0.4444444444444444,
              "#bd3786"
             ],
             [
              0.5555555555555556,
              "#d8576b"
             ],
             [
              0.6666666666666666,
              "#ed7953"
             ],
             [
              0.7777777777777778,
              "#fb9f3a"
             ],
             [
              0.8888888888888888,
              "#fdca26"
             ],
             [
              1,
              "#f0f921"
             ]
            ],
            "type": "contour"
           }
          ],
          "contourcarpet": [
           {
            "colorbar": {
             "outlinewidth": 0,
             "ticks": ""
            },
            "type": "contourcarpet"
           }
          ],
          "heatmap": [
           {
            "colorbar": {
             "outlinewidth": 0,
             "ticks": ""
            },
            "colorscale": [
             [
              0,
              "#0d0887"
             ],
             [
              0.1111111111111111,
              "#46039f"
             ],
             [
              0.2222222222222222,
              "#7201a8"
             ],
             [
              0.3333333333333333,
              "#9c179e"
             ],
             [
              0.4444444444444444,
              "#bd3786"
             ],
             [
              0.5555555555555556,
              "#d8576b"
             ],
             [
              0.6666666666666666,
              "#ed7953"
             ],
             [
              0.7777777777777778,
              "#fb9f3a"
             ],
             [
              0.8888888888888888,
              "#fdca26"
             ],
             [
              1,
              "#f0f921"
             ]
            ],
            "type": "heatmap"
           }
          ],
          "heatmapgl": [
           {
            "colorbar": {
             "outlinewidth": 0,
             "ticks": ""
            },
            "colorscale": [
             [
              0,
              "#0d0887"
             ],
             [
              0.1111111111111111,
              "#46039f"
             ],
             [
              0.2222222222222222,
              "#7201a8"
             ],
             [
              0.3333333333333333,
              "#9c179e"
             ],
             [
              0.4444444444444444,
              "#bd3786"
             ],
             [
              0.5555555555555556,
              "#d8576b"
             ],
             [
              0.6666666666666666,
              "#ed7953"
             ],
             [
              0.7777777777777778,
              "#fb9f3a"
             ],
             [
              0.8888888888888888,
              "#fdca26"
             ],
             [
              1,
              "#f0f921"
             ]
            ],
            "type": "heatmapgl"
           }
          ],
          "histogram": [
           {
            "marker": {
             "pattern": {
              "fillmode": "overlay",
              "size": 10,
              "solidity": 0.2
             }
            },
            "type": "histogram"
           }
          ],
          "histogram2d": [
           {
            "colorbar": {
             "outlinewidth": 0,
             "ticks": ""
            },
            "colorscale": [
             [
              0,
              "#0d0887"
             ],
             [
              0.1111111111111111,
              "#46039f"
             ],
             [
              0.2222222222222222,
              "#7201a8"
             ],
             [
              0.3333333333333333,
              "#9c179e"
             ],
             [
              0.4444444444444444,
              "#bd3786"
             ],
             [
              0.5555555555555556,
              "#d8576b"
             ],
             [
              0.6666666666666666,
              "#ed7953"
             ],
             [
              0.7777777777777778,
              "#fb9f3a"
             ],
             [
              0.8888888888888888,
              "#fdca26"
             ],
             [
              1,
              "#f0f921"
             ]
            ],
            "type": "histogram2d"
           }
          ],
          "histogram2dcontour": [
           {
            "colorbar": {
             "outlinewidth": 0,
             "ticks": ""
            },
            "colorscale": [
             [
              0,
              "#0d0887"
             ],
             [
              0.1111111111111111,
              "#46039f"
             ],
             [
              0.2222222222222222,
              "#7201a8"
             ],
             [
              0.3333333333333333,
              "#9c179e"
             ],
             [
              0.4444444444444444,
              "#bd3786"
             ],
             [
              0.5555555555555556,
              "#d8576b"
             ],
             [
              0.6666666666666666,
              "#ed7953"
             ],
             [
              0.7777777777777778,
              "#fb9f3a"
             ],
             [
              0.8888888888888888,
              "#fdca26"
             ],
             [
              1,
              "#f0f921"
             ]
            ],
            "type": "histogram2dcontour"
           }
          ],
          "mesh3d": [
           {
            "colorbar": {
             "outlinewidth": 0,
             "ticks": ""
            },
            "type": "mesh3d"
           }
          ],
          "parcoords": [
           {
            "line": {
             "colorbar": {
              "outlinewidth": 0,
              "ticks": ""
             }
            },
            "type": "parcoords"
           }
          ],
          "pie": [
           {
            "automargin": true,
            "type": "pie"
           }
          ],
          "scatter": [
           {
            "fillpattern": {
             "fillmode": "overlay",
             "size": 10,
             "solidity": 0.2
            },
            "type": "scatter"
           }
          ],
          "scatter3d": [
           {
            "line": {
             "colorbar": {
              "outlinewidth": 0,
              "ticks": ""
             }
            },
            "marker": {
             "colorbar": {
              "outlinewidth": 0,
              "ticks": ""
             }
            },
            "type": "scatter3d"
           }
          ],
          "scattercarpet": [
           {
            "marker": {
             "colorbar": {
              "outlinewidth": 0,
              "ticks": ""
             }
            },
            "type": "scattercarpet"
           }
          ],
          "scattergeo": [
           {
            "marker": {
             "colorbar": {
              "outlinewidth": 0,
              "ticks": ""
             }
            },
            "type": "scattergeo"
           }
          ],
          "scattergl": [
           {
            "marker": {
             "colorbar": {
              "outlinewidth": 0,
              "ticks": ""
             }
            },
            "type": "scattergl"
           }
          ],
          "scattermapbox": [
           {
            "marker": {
             "colorbar": {
              "outlinewidth": 0,
              "ticks": ""
             }
            },
            "type": "scattermapbox"
           }
          ],
          "scatterpolar": [
           {
            "marker": {
             "colorbar": {
              "outlinewidth": 0,
              "ticks": ""
             }
            },
            "type": "scatterpolar"
           }
          ],
          "scatterpolargl": [
           {
            "marker": {
             "colorbar": {
              "outlinewidth": 0,
              "ticks": ""
             }
            },
            "type": "scatterpolargl"
           }
          ],
          "scatterternary": [
           {
            "marker": {
             "colorbar": {
              "outlinewidth": 0,
              "ticks": ""
             }
            },
            "type": "scatterternary"
           }
          ],
          "surface": [
           {
            "colorbar": {
             "outlinewidth": 0,
             "ticks": ""
            },
            "colorscale": [
             [
              0,
              "#0d0887"
             ],
             [
              0.1111111111111111,
              "#46039f"
             ],
             [
              0.2222222222222222,
              "#7201a8"
             ],
             [
              0.3333333333333333,
              "#9c179e"
             ],
             [
              0.4444444444444444,
              "#bd3786"
             ],
             [
              0.5555555555555556,
              "#d8576b"
             ],
             [
              0.6666666666666666,
              "#ed7953"
             ],
             [
              0.7777777777777778,
              "#fb9f3a"
             ],
             [
              0.8888888888888888,
              "#fdca26"
             ],
             [
              1,
              "#f0f921"
             ]
            ],
            "type": "surface"
           }
          ],
          "table": [
           {
            "cells": {
             "fill": {
              "color": "#EBF0F8"
             },
             "line": {
              "color": "white"
             }
            },
            "header": {
             "fill": {
              "color": "#C8D4E3"
             },
             "line": {
              "color": "white"
             }
            },
            "type": "table"
           }
          ]
         },
         "layout": {
          "annotationdefaults": {
           "arrowcolor": "#2a3f5f",
           "arrowhead": 0,
           "arrowwidth": 1
          },
          "autotypenumbers": "strict",
          "coloraxis": {
           "colorbar": {
            "outlinewidth": 0,
            "ticks": ""
           }
          },
          "colorscale": {
           "diverging": [
            [
             0,
             "#8e0152"
            ],
            [
             0.1,
             "#c51b7d"
            ],
            [
             0.2,
             "#de77ae"
            ],
            [
             0.3,
             "#f1b6da"
            ],
            [
             0.4,
             "#fde0ef"
            ],
            [
             0.5,
             "#f7f7f7"
            ],
            [
             0.6,
             "#e6f5d0"
            ],
            [
             0.7,
             "#b8e186"
            ],
            [
             0.8,
             "#7fbc41"
            ],
            [
             0.9,
             "#4d9221"
            ],
            [
             1,
             "#276419"
            ]
           ],
           "sequential": [
            [
             0,
             "#0d0887"
            ],
            [
             0.1111111111111111,
             "#46039f"
            ],
            [
             0.2222222222222222,
             "#7201a8"
            ],
            [
             0.3333333333333333,
             "#9c179e"
            ],
            [
             0.4444444444444444,
             "#bd3786"
            ],
            [
             0.5555555555555556,
             "#d8576b"
            ],
            [
             0.6666666666666666,
             "#ed7953"
            ],
            [
             0.7777777777777778,
             "#fb9f3a"
            ],
            [
             0.8888888888888888,
             "#fdca26"
            ],
            [
             1,
             "#f0f921"
            ]
           ],
           "sequentialminus": [
            [
             0,
             "#0d0887"
            ],
            [
             0.1111111111111111,
             "#46039f"
            ],
            [
             0.2222222222222222,
             "#7201a8"
            ],
            [
             0.3333333333333333,
             "#9c179e"
            ],
            [
             0.4444444444444444,
             "#bd3786"
            ],
            [
             0.5555555555555556,
             "#d8576b"
            ],
            [
             0.6666666666666666,
             "#ed7953"
            ],
            [
             0.7777777777777778,
             "#fb9f3a"
            ],
            [
             0.8888888888888888,
             "#fdca26"
            ],
            [
             1,
             "#f0f921"
            ]
           ]
          },
          "colorway": [
           "#636efa",
           "#EF553B",
           "#00cc96",
           "#ab63fa",
           "#FFA15A",
           "#19d3f3",
           "#FF6692",
           "#B6E880",
           "#FF97FF",
           "#FECB52"
          ],
          "font": {
           "color": "#2a3f5f"
          },
          "geo": {
           "bgcolor": "white",
           "lakecolor": "white",
           "landcolor": "#E5ECF6",
           "showlakes": true,
           "showland": true,
           "subunitcolor": "white"
          },
          "hoverlabel": {
           "align": "left"
          },
          "hovermode": "closest",
          "mapbox": {
           "style": "light"
          },
          "paper_bgcolor": "white",
          "plot_bgcolor": "#E5ECF6",
          "polar": {
           "angularaxis": {
            "gridcolor": "white",
            "linecolor": "white",
            "ticks": ""
           },
           "bgcolor": "#E5ECF6",
           "radialaxis": {
            "gridcolor": "white",
            "linecolor": "white",
            "ticks": ""
           }
          },
          "scene": {
           "xaxis": {
            "backgroundcolor": "#E5ECF6",
            "gridcolor": "white",
            "gridwidth": 2,
            "linecolor": "white",
            "showbackground": true,
            "ticks": "",
            "zerolinecolor": "white"
           },
           "yaxis": {
            "backgroundcolor": "#E5ECF6",
            "gridcolor": "white",
            "gridwidth": 2,
            "linecolor": "white",
            "showbackground": true,
            "ticks": "",
            "zerolinecolor": "white"
           },
           "zaxis": {
            "backgroundcolor": "#E5ECF6",
            "gridcolor": "white",
            "gridwidth": 2,
            "linecolor": "white",
            "showbackground": true,
            "ticks": "",
            "zerolinecolor": "white"
           }
          },
          "shapedefaults": {
           "line": {
            "color": "#2a3f5f"
           }
          },
          "ternary": {
           "aaxis": {
            "gridcolor": "white",
            "linecolor": "white",
            "ticks": ""
           },
           "baxis": {
            "gridcolor": "white",
            "linecolor": "white",
            "ticks": ""
           },
           "bgcolor": "#E5ECF6",
           "caxis": {
            "gridcolor": "white",
            "linecolor": "white",
            "ticks": ""
           }
          },
          "title": {
           "x": 0.05
          },
          "xaxis": {
           "automargin": true,
           "gridcolor": "white",
           "linecolor": "white",
           "ticks": "",
           "title": {
            "standoff": 15
           },
           "zerolinecolor": "white",
           "zerolinewidth": 2
          },
          "yaxis": {
           "automargin": true,
           "gridcolor": "white",
           "linecolor": "white",
           "ticks": "",
           "title": {
            "standoff": 15
           },
           "zerolinecolor": "white",
           "zerolinewidth": 2
          }
         }
        },
        "title": {
         "text": "2D random sample with no correlation"
        }
       }
      },
      "text/html": [
       "<div>                            <div id=\"e9a96f75-8e66-4765-a3f9-7b252a319e7c\" class=\"plotly-graph-div\" style=\"height:525px; width:100%;\"></div>            <script type=\"text/javascript\">                require([\"plotly\"], function(Plotly) {                    window.PLOTLYENV=window.PLOTLYENV || {};                                    if (document.getElementById(\"e9a96f75-8e66-4765-a3f9-7b252a319e7c\")) {                    Plotly.newPlot(                        \"e9a96f75-8e66-4765-a3f9-7b252a319e7c\",                        [{\"mode\":\"markers\",\"x\":[0.44855717685767066,1.3229843811413975,0.2806703197197823,-0.05945082952970034,-0.260318170911681,-0.562240044207738,0.41228855038735585,-1.691343252717753,-0.1586357248144375,1.4245352254581425,0.5683453723650591,1.0022078200700797,-0.056792838051823266,-0.6216776710340746,1.0730031250578733,1.099441085229037,0.21117666083364753,1.6409916469399355,-2.3603319811585446,0.7653379783883032,0.5056478448507599,-1.1523749086212998,0.6518185576382355,0.38580974813849644,-1.4477456499292578,-1.3851546862768718,-0.7174547953506238,0.6899251620568251,1.0882775772261921,1.849929499119731,0.8158100782424781,-0.528877409464286,-0.3810473307540286,-1.2421114098469856,-0.24192739720216444,-0.7817507055106316,-0.992585023868104,0.8565781378179179,0.33889355223404244,1.6601362625203808,-0.1527623209330719,-0.19194437594859043,-0.8697296208443811,2.0180515657367453,-0.9867826396357858,0.49629244237129727,1.3497497063672583,1.415909172590579,1.1116407185319042,-0.8172028470798239,-0.5219278822421737,0.15646720280045207,-0.3306396805198822,-0.9705106951446932,0.02507763422241905,0.08143009480485577,0.2927246217054916,0.09205439889075571,0.31208516166481076,-1.5040363327535708,-0.10920239390494133,-1.085170399520779,0.7031326339114583,-0.48604691462965033,0.2968560848937061,-0.8356184539411934,-0.5753641176276607,2.2998825959531928,-0.15258208447170427,0.9793018581284796,0.08516775596820253,0.8266848718290084,-1.6828579833849802,-0.30607899530626054,1.0306491800068502,0.0545943545262516,-0.013145111321582864,-0.17873699787792932,1.2765204562897208,-0.7753603997201414,0.08880835871252192,0.42719957192895364,0.8075353368090453,2.341659049512976,0.8672638213996918,-0.7086305515193886,0.2494620303673319,-0.35840294566099906,-0.5588276131600977,-1.1044749905251974,0.39342742696495553,-0.3139310057044962,0.5413272068233211,-0.10340204826762113,-0.8541311551968988,0.4322409010246958,0.14363843647831195,-1.1133551357916658,0.7498545941779801,-0.8527665580556655,0.8070706366521642,0.2915284460372927,-0.7341125614059512,1.8854035661192083,-0.5941007257862001,-0.7728307150952597,1.2430062239597741,0.595296207257068,-0.19717730233509473,-2.0249669845859932,-0.5898495746471156,-0.49252518089768443,-1.537795425135036,0.9466620562809652,-1.105180352577242,0.49594099375578726,0.9375588708083393,0.4238008183835635,1.7027195911996953,-0.10156247204796985,0.1841229643367657,-0.07610313093658803,-0.5938952645243586,-1.0133409892165082,0.6000905430123982,2.6962658697792663,-0.3446952899639687,-0.7708756948022442,1.2078310167358224,2.526151939043431,-1.264463838352773,-0.7254629660249282,-0.9525743411854142,1.6770600010388084,0.6191133660024313,-0.5306787220204308,-1.2294141109288572,0.8765631496479075,2.511507766631151,-0.487547945585169,0.6958722804476376,0.25895605627564516,0.766079354676265,-0.9454472782574629,1.0472678213914375,0.19705734791403942,1.148394978340336,-0.0028731425944119498,0.5281406306876482,0.7844890278254518,0.30571095456535957,0.32111240197205415,-0.22120992840574075,1.7297249966488946,0.5087938729440291,-0.46510298306709824,0.9846025204204171,-1.08549791321707,-1.4787139729527325,-0.044651783724035235,-0.8088169934342756,0.2904263188011011,0.1350812958867813,-0.28364047069006976,0.05515181533353039,-0.16276425292755523,-0.848450064234756,-1.5323176571305142,-0.660965066922378,2.4915470258770465,0.14564770168968347,0.6520088611198256,-0.1466925117321245,0.13407713012292313,-0.5464620171346078,0.8565706227385216,1.1087582167850032,-1.1479538977494914,-0.8854186200812951,0.45544328203391893,-0.7836177547171298,0.8001740341271345,-0.5387817202701853,-0.7643021455266666,0.8897021230007313,2.6391837151321385,-0.4027213804629869,-0.016266996997858676,0.5435025770433591,-1.0756994923698573,0.17614563953905688,-0.6531844828629922,-1.7241835941432708,0.41185340568399964,1.5121093456504033,-1.231191358053735,0.34199124007083215,-0.029558804344305467,-0.16293522707231067,-1.5633083053725825,0.27765571521885574,-0.3094543859522019,0.06077221167907249,1.3760511940432716,1.6947070223888236,-0.4801403850377701,0.3970436091028517,1.2124786450065117,-0.6692358227954208,-0.11441276151053997,0.3058375643023007,1.6931235626090528,0.24508318007537558,-0.36958884356748656,-0.6892333200914054,0.4724059662419696,0.8850500081995245,0.3044433087352349,0.7926067115028824,1.285265020486645,0.20541610873865274,-1.0460792741545297,-0.12734596014860725,-0.3059611053989639,-0.798835418877127,-1.9704044754601873,0.6461021481542362,0.1663145643594828,-0.5990256558144836,0.1911766921884431,1.7792241562367928,-0.4309998775750692,1.1130579946748866,-0.7480238990027634,0.08514191107248208,0.24339112836238663,-0.37495935620714915,0.3008707291795557,0.5818124158843744,0.5994777775804704,0.14199896516350105,-1.3162469458116428,1.3879420158974225,-0.5426544202280562,-0.5412633637703284,0.4084744141028586,-0.7003205775944956,-0.7145688111743109,-0.06229786700230257,-0.03180448204369035,0.024916412604795296,0.474996819572261,-0.22210933713500441,-0.14509998275374594,-0.7970418045498007,-0.9792215549632008,-0.8254371652025454,1.4801547412924296,-0.18167532714299767,0.8756108783861737,-2.5752256250691965,-2.424597476448239,0.17689752679707507,0.808760958184193,-0.3246126253224703,-0.7321536573137981,1.013538107945559,-0.594559562085321,0.5665424975699023,0.7096692577129907,-0.06702576603581316,0.5422057833426193,1.0514223746110507,-0.117896567536955,1.6561991783882868,0.95921697309957,2.392799322745566,0.7320400764610333,0.90567968819099,-0.22204114146770373,0.5649312914562117,2.480250724601611,-0.7015887564211897,-0.47937611621970744,1.050053093299504,0.4423648235720761,-0.28459760987626403,0.5512642310671293,1.147623206567922,0.2120725471904511,-0.127335835770934,-0.6845901860083519,-0.32905489502095975,-0.37061149509059604,-0.6458450951650013,0.47339917052306374,-2.5899108101738744,2.1012083957595027,-0.31380689405310724,-1.6920294287595226,-1.056755181941604,-1.0369158983793312,0.017512297458684375,-0.9820773084750408,0.9865155642729085,2.0995267818559213,-1.2390046152883722,-0.03109130750577024,-0.40789246355902314,0.5928579397510296,-0.2171911352188898,-0.625075875945589,0.2270908855920375,-1.5041533509841147,-0.014602358207367421,-0.13290636842077475,-0.43740365947756793,-0.47530854039040704,-1.7940281282218467,0.26114062935345184,0.5258099032577607,-2.1554867240764706,0.7650554928839063,-0.5733052904030745,-0.25720539132898695,-1.2863204923222484,0.8134276971256514,0.20654558105053514,0.6645200579714894,0.01855606959332191,-1.7225976149547029,1.1817240828847186,-0.7090727450684959,-0.6938902497935062,-0.9920005299920788,1.0949884042203368,0.3330584756288192,0.0017871180539688653,0.4016974604807184,-0.8692260713495678,0.11636929601466676,-0.7602719358390989,0.29532012278430614,1.545993774076535,-0.7911004390499718,-0.34717163584438765,-3.234391064434153,-0.5235330644967965,0.32351089171014386,0.06001984350747105,0.1646547205815058,-1.6107396749904934,-0.8471383571869523,-1.981923259021909,0.7326946296622765,-0.44540864664617624,0.4049180593431072,-0.7754966005352385,0.8851230358262846,-0.32409394997905855,0.024828198558184224,-0.057682430533426116,2.8069634573404354,-0.1360550606890558,1.3754774071551576,-1.6404752515148666,0.4648741246377202,1.2061629552754756,1.12538200595745,1.6004219294582176,0.5372788085541508,-0.676610837907225,0.971097769289709,-0.49891522665452187,-1.9940504260363152,0.0029128685694423894,-0.6014526217560597,-0.05675141908617649,-1.3923561422005628,1.3884473648839608,-0.4447857058869442,1.8246734553001156,2.3386170443524645,-0.6994288673420488,-1.9110493237102406,0.014319928115653491,-0.2961947720220196,1.8046259386704946,-0.5280636258298649,-0.755495130310922,-0.9935593650769357,1.0372837230045304,-1.0790430426921405,2.0499089893098557,-0.29398609581203866,-0.8963630259116241,-1.6350629345944905,-0.2249198407062578,-0.29371892760638824,1.0173726077727026,-0.1912888176066548,-0.8811847320685902,-1.5199131866372526,1.904375726538041,-0.2916277535159618,-1.0883615056732605,-0.786252425973811,0.7215413899948859,-0.6145624768307717,-0.1699069538764104,-0.4184365342287346,-0.027881850464710187,0.5552118473348774,0.4050456054384695,0.31618382927894767,-0.19477536083603947,0.679780731775864,0.25834743343782607,-0.9933098565640142,-0.3739446572334641,-0.6726455786582709,-1.858258289046117,-1.8450817093155634,-1.2108958634831042,0.4387686968758895,-0.870473741077711,0.21094051261398872,0.4071584587980588,-2.3287678111998478,-1.153631355823304,1.5651150297493712,-0.55619863590769,-0.009772134081392938,0.4650796380265132,0.16031546512970038,0.43401723462652214,0.039792278748823816,0.33099022495190844,0.7437146276044757,1.0357866831069555,0.04529644588166506,0.28104077483175816,-0.8471342010324453,1.5755081542017408,-1.7860567542848051,-1.6290613196286832,1.7178469384321162,1.272679958771415,-1.2212109058685912,-0.8753695521226972,0.9905910098362397,0.2959707616691848,-0.17399259841862172,0.6862402592039398,0.17168898617557446,0.29655179123627634,-0.6629551351234874,1.0057313080455177,-0.7091296933497857,0.7826071950917978,-0.26353936320801236,-0.3721631949940219,0.760937417172379,2.0061171633305603,1.1549485328150022,0.3025169510202861,-0.41039482469052746,0.2544251447517531,1.3727093466306686,0.5561432141010617,-1.3956937885304777,-0.132828950745114,0.19054921549774617,0.7282792045821449,0.8399635077109247,-1.466092655515579,-0.8210999777265204,0.556392493645649,-1.0307773751422649,-0.29956736132189976,1.1924271203351042,-0.6018927119366055,1.1485793813945189,-3.397681272428081,-1.9585120855829405,-0.9290498229705825,0.1781168800240023,-0.21640598421354418,1.0207537405037586,-0.47067470997205285,-1.447781000144597,0.0033776769666807207,0.8555436708097073,-1.4270964040372875,-1.3270239090472438,-1.9661803358693128,0.3755990051129103,-1.7215867314376805,-2.2960037930291692,-0.5020084817233722,-0.7801769151430356,0.4577412524006397,-1.1772969685255084,0.6449095207355846,-0.5321217615313958,-0.20088314920468833,0.08091783044069085,0.5764021391423294,0.6088082504986474,0.12790377967694871,1.267076745118315,0.27303020214768636,-1.494839358041543,-0.6561774088195539,-0.8132421657151911,1.1789161037074187,1.1565208010308594,0.15083771020307563,0.7270448905321814,-0.7036915904305184,0.2826517788495451,0.08972103006534998,2.2121448153774774,0.9160511151489171,0.1685001590050531,-0.22617562075152464,0.6787434713643922,1.7608919010063497,-0.2961502449034208,-1.2052563925966109,0.5329837180545852,-1.503622802340031,0.45390366243528685,-1.7691668572942467,0.39588978016885606,0.8041883332927217,0.41956528021840045,-0.04133657111195808,0.6936389116054517,-0.06146859247808471,-0.8588863974277082,-0.1563357259562144,-0.46340432324839853,0.265945923058859,-0.8552261853392434,0.7196407480283902,-1.457191576778632,2.20932807802128,0.15346399701067748,-1.899576919691774,0.1771199686372949,-0.36744910105291023,-0.0338011813087567,0.2506177417491446,1.0686640915129761,3.2506484380496055,1.1243792578520957,-0.5446568353134998,-0.9264489265138547,0.8580697499286953,-0.5329516451550522,-0.02789050405125069,-1.2526439712907953,0.21712921676073735,-1.2429815572223086,-1.8746257512143125,-0.09735944143010913,0.794230296397721,-1.4299863190370734,0.10378989382804264,0.016911836336698433,0.707114901083996,0.6523883197121431,0.006580413796117838,0.2656274114870674,0.353865319244619,0.964617509303043,-0.049031582663651575,0.8934564935116925,-0.13804526346315005,1.283843583541076,-0.8350584567560034,2.574362580158623,-1.4904784032233305,-1.3383691163731062,-0.616192691941211,-0.26226655196804677,0.9405420170882031,1.0270806403204502,0.11177656398950539,-0.8866677032662644,0.013482969159940775,-0.2071001587377073,1.077331085215074,1.358590022632998,0.15121477774391356,0.8457687802651924,-1.3588840849765416,0.1885865290852027,-0.13746920784061084,0.9451883418763793,0.15804286658218258,-0.2969039339487123,-0.7740733542717366,0.9632501950630623,-1.2597440672009368,1.2625867306291976,1.0794302091800185,-1.4370778012828658,0.1695608996543247,1.2021794496605802,2.138596509072505,2.4320032918603234,0.7411699526333958,0.0004836354527225155,-1.9365065463461835,-1.3637091707233688,1.0503503173594615,-0.20487070553045814,0.12207129183266623,-1.1898086860977335,-0.9345237710948616,0.41735355764726295,-0.9766746232549899,0.01723715326776605,0.9430023613537032,-0.580590177204266,-1.4158170986800542,-0.05475312192226928,-0.54079917169743,0.6519451978800807,0.1969927290260128,0.5835182300545771,0.29850618508483584,1.0558192056636462,0.022217196516212484,1.0208041435693824,1.2275148689420032,1.4400062447516448,1.0272115411913907,-1.224463851368164,-0.5960410600934997,1.6550020168664705,1.4625145589540582,-1.3175888613333713,-0.04403068311212578,-0.3737744517458347,-0.17771069714695564,-0.721695167888143,0.16699436511952062,-2.9595538956013017,-1.5560708878121654,0.20414326569267705,1.6507269794873711,-0.673648719982299,-1.1401719234701007,-0.9752252335613073,0.1097953898970114,-1.025923551871527,-1.6311193003095532,0.7652205554808628,1.0386150730758994,-0.02171095131344462,-1.1244674936104042,1.6849200589453117,0.6129426540991791,0.3208077814538987,-0.4455881999820446,0.6262202854171468,0.456779347508703,0.70196615610595,-0.055661183028729896,-0.9251679624542304,0.9748510061147049,1.2143875804475248,0.5047406031886662,0.524476562133624,-0.7372714090586608,-1.5312604628122823,-0.6791951801782664,-0.7824823614504658,-0.8315777213129065,-0.5827781239657225,-0.8656235130719793,-1.359539969921586,-2.2929554966880787,0.199130669424147,0.10763986415783025,0.7508043663430168,-0.592951340389619,-0.9155023797167913,0.9628309223671001,-0.7144485423576206,0.9080385079784731,1.6837924123513435,-1.9352534937809043,0.4802162795669824,0.062040793949846205,0.05094084898066578,-1.08142679460011,-1.4284234648143384,-0.4784606961862966,-1.2583261295056178,-1.0000710685845826,0.020131025277576233,0.30575600160854577,0.8978124467216053,-2.0920449404579813,-2.2279368843106155,0.13610081049294545,0.626858568204531,-0.34792766108670525,0.9564632126371518,0.7771813246039361,-1.7176591385127276,0.1300327888674638,-1.2314872575381557,-0.7471349827488913,0.3700293930452811,0.3045646884208641,0.0029030222756085333,1.298151569244278,-0.3825026660335403,0.4940500794007734,0.6353301857495123,-0.9034494514841019,1.4077689848868395,1.0916611929388707,1.4411979337663285,-0.05798107396286291,-1.4289703101684923,0.3143348339915227,0.608717492762504,-0.2715202827926982,-1.8665308493437547,1.0062138568572938,0.16121072327836894,1.2034762949985147,-1.4654461384177826,-0.10971243104580554,2.223743243622424,0.1289910537544369,-1.6818663383312107,-0.7407343568770474,1.503508406914863,0.35889086268851583,-1.3679301934867822,0.25774836217052666,1.728790024120506,0.9685347252137433,-1.2876708371912176,0.21943799409274897,0.9428381686774195,-0.6065861100901475,0.3724947411623966,0.14430428948254623,-0.021136588182788896,-0.08334648652798744,-1.270301603888712,0.8037987137089302,-0.1771004269473083,0.022403905862066115,-0.552758201992924,-0.4301997592012096,-0.7865509189979362,-1.6664576684763734,-1.337315863952041,-0.80050812931876,-0.12133782237611956,0.39881007610771135,0.33538157541236874,2.8282176827093872,-1.014151862957873,0.6334046945798225,2.598270229066151,-2.0948788618407304,-0.9997735558184743,-0.21364370673686903,0.4143485579174024,0.5615471316973509,-0.44823996326645066,-0.10793661142640779,0.32750585290486833,-1.1877675781772787,-2.9607794454780385,0.7388972959436365,0.43330758467371727,-0.3705493040360802,-2.0607277665623167,-1.9785658105290682,0.9336381271048276,-0.24253092384974198,-0.7475005945415946,0.38017355406605924,0.8465407813645434,0.3867367521752808,0.13271298612501972,-0.6747507367041401,-1.0297333360685723,0.5891090351908886,-1.1508214194895208,0.23709595786311768,1.03596633427217,-0.6849168585417648,-2.352064406415279,-0.5231407072234695,-2.403786486423982,-0.8600928329031166,-0.46516519978926063,0.014044757301978144,-0.11948418665793827,0.2608988824696614,0.8177488655075137,-2.023830309453254,0.6196353162271987,0.01420236390770829,1.577924183092429,-1.7802505609102046,-1.2067940594753577,0.0033630401781887865,0.791758141448947,-1.1733823822126017,-1.2088211761378076,0.5808522365217056,-0.19787731223747188,0.546234818311357,0.0754320801514165,0.11615502654359447,1.0485117762647973,-1.6507497739078423,0.3087042815744192,-0.48772618617634517,-1.8027252676590033,0.5127256825190534,-2.6190903959649416,-0.8839448717802466,0.034927282372674076,-0.11012850011111093,1.0368274971388347,1.5123186985809323,1.5040056716037171,0.6771757226754685,-0.9531593432286419,-1.1836734436861243,1.6091113740937648,-0.4750841550508191,-0.9894495366181697,-0.46920868601704835,0.7520556647918473,-1.2045522161320408,0.4824218317361146,-1.3314335677896174,-0.4942310148856713,0.015514107546622349,0.7843778979381801,-0.814429982368916,-2.6661320611126595,1.2495819408665334,-0.7561514484915055,-0.34341709626708117,1.3244425532093642,-0.09489728659812367,1.7359470097527163,1.3646133923816859,1.8449043731926194,1.2723522364989128,0.12932265961390854,0.07713851611091652,-1.340531034066117,-1.6966624028045953,-0.6385894167600874,-1.3571233033160375,-2.149151957676395,-1.032278140017676,1.0584003689198238,-0.5567378974663222,-0.8862471596797487,-0.8227531168065483,-1.3533043273448215,-0.3179514456175498,-0.4997291237591682,1.3643800959382917,1.5444419125652125,-0.17554412557277177,-0.8446826018120416,-0.07980754165375024,-1.7385554838456545,1.0375525308178648,0.5276515542217866,-0.7657758563438294,1.1358782625263801,-0.0130405145490894,0.2802166018374031,-1.6709319727163834,-1.017191403843156,1.0177266513428294,-0.732943380118205,-0.7135319508402431,-0.2847213089004724,1.0457407366441382,-0.7235193850999204,0.14843864606621265,0.6105811437191244,0.7479456534442973,1.0353377534715507,-2.0684347715408227,-0.5223700508606511,-0.29377737357956535,0.232877439070707,1.8032474366601225,-0.19342267424669546,-0.1473497342644293,-0.40999008738435705,-1.5099575437529755,0.8078254282461558,-0.27000367820675397,-0.23235023074624267,0.292397502931909,0.5961540463263082,-0.04866392244638434,1.2630539692958398,0.2903904242320413,-1.6405000100746308,0.12706565482944857,-0.21432348650533273,-0.39658190191823217,0.5737737808962358,-0.4916069944093428,-0.2618905132429428,0.41833717564608863,0.3265012664214445,1.813338395688136,0.22492715713015116,0.2359518391283723,0.19657473877713066,-0.904696791168232,1.3227377864562035,0.6789473225932764,-0.823008165274283,0.433753650350121,0.8918569556695024,-1.178167803300325,1.3149069097868467,0.7817773016186216,-0.16246519400468779,-1.0544783226983552,-1.1528763443117402,0.06146272345980309,0.9318048348763486,1.6401542354641643,1.0602816526006535,0.5346797032332421,-1.116796690001551,-1.1369376630940782,1.0031258357660895,0.10212998605950666,-0.7089649590174235,-1.500638337451723,1.1026650271716991,-0.19780940099301292,2.2393978782068253,-0.4599996209687622,-0.05649182322256962,1.826625291040513,1.1622073606335146,0.992403426689639,-0.17495612617914766,-0.015537029223681335,1.9105867942862362,-0.8098570948382402,1.124672887171896,-0.7867323748963941,1.4058346495390694,-0.48121793309330796,0.4234760243320953,-0.07254834875702512,-0.22397506237238965,1.8041240554489775,0.39264211583975556,-1.1805769547489382,-1.1932024282018336,1.8863399941285757,-0.19188698723508663,-0.4576437467653643,-1.1501008693973562,-1.4837328147945759,-0.9817555290304162,-1.0274172689563528,-0.12425906733668335,0.6183421872787944,-0.8044328114687938,1.8167403734326584,0.4104041966036067,-0.42295375649003175,-0.12653740683146467,-0.1750561020828943,-1.2091009364654797,-0.9014880572354281,-0.2416845387290106,-0.9617145476355723],\"y\":[-0.8981545726316835,0.958307844882304,0.17542986203053063,1.35680060424986,-0.7496356562741773,0.013121937963036331,0.37475703615249834,0.30909373563502834,1.4090778043152965,-1.312044826736755,-0.23169964488631478,-1.110713221130631,-0.1868735050394228,-1.7161413466848912,0.15473648267901796,-0.3806998404785175,-0.3250268320609294,-0.8784177960815334,-0.7989619774953443,-0.11974202043839749,0.2321256174329622,-0.858254450276355,-1.067297647881892,-0.42296144852557177,-1.3245354859760399,1.1696764415048742,-1.7944710552106857,-0.5747672556369159,1.8948524100373705,-0.006235516097915258,-0.04927136574729581,0.03003855782286475,-1.2366306805633624,-0.1448343247984027,1.050395563042179,-1.0459088008655344,2.671444917072499,-1.138205667738487,-1.2810316182774688,0.8992247648600855,0.09959724378004846,0.34664937261051804,-0.012005914956100216,0.978522607072404,0.8019387619288328,1.4665613136118214,-0.6791071558804878,1.2442882584204618,0.15232083821623002,-1.4927875407519844,-1.4659952003555388,-1.4431287735416432,-0.7595936733350329,0.7622149441274648,-1.0695891425508621,0.8516525708634021,-2.1382276732059675,-0.2428615388964217,0.8324338428295114,-0.2513742095892331,-0.2346627714424832,-0.6348668816242501,-1.0121433481673832,1.2566868525688941,1.7556992019136322,-0.7393298515544705,-1.9202322534814735,-0.26669516162732587,-1.4082745947345605,1.7343652742408344,1.5532644940525069,0.7229080893244308,-0.404258290465858,0.8222119177517275,0.39452276194157493,-1.205571554232182,-0.0875536711036252,0.09517749690964819,0.24940009889102235,1.3766958115779957,-0.8373951417138163,0.24044285499651588,-0.47797448545404075,0.8974506128411327,-0.5899523080532896,-0.25936471180517645,1.4487518788279048,-0.775340478216469,0.6438575078582052,-0.79467740857334,-0.2730963601644932,-2.302019793425293,-0.9851041048156398,1.828394718066755,0.31793860186653566,-0.7825761138613352,-0.0676734940081844,0.5430160478496231,0.21715688586869894,1.7251548671730816,1.5329633287365494,-0.7008835870219294,0.27446365975234094,-1.666747400793195,0.12446088918533574,0.601955557980137,-0.7200528719577405,-1.480569037136356,-0.0806031495513671,0.13544111069474316,1.181838604819315,-0.5815790512865775,0.6582020917205903,0.3964403699128238,-1.7777408739707319,-0.14409577064733242,-0.5618092649830575,1.0820918719897916,-1.445035193704256,-0.6194307830323512,-1.1722402942474226,0.07771268085860543,1.5083672607248184,-0.8066287913979246,-0.3707536818630657,-0.21414170592966297,-1.4881502306803343,-0.5586850736061718,-1.0554529421727434,0.8276373726683731,0.07146876556586525,0.8925174034835829,1.4705237738849615,0.943837390195943,0.9955923799740458,-0.02774325871626581,-0.6685842208787284,2.277719270149074,0.5237816514461023,-0.948364161517186,-0.8453100410056401,1.05562498263106,0.6947299825614125,-0.6087864593162515,0.37805591450446374,-0.9384151327480348,0.6406030792975127,2.3995013379693724,0.7428045628875154,0.49906846166135016,-1.077767954163257,0.037314499780267824,-0.6486564857094212,0.6241296846754192,0.016913549724033996,-1.6050955161654938,-0.6602900624807654,0.14114310508760206,1.8916328455535292,-1.4751690483941726,0.03130431305112117,0.6467001234050567,0.8583545332664669,-0.8005078448883698,0.6407820069431666,-2.6039089866244063,0.21885045207527984,-1.927309671074992,-2.2311461077882773,0.16346593045741942,-1.0815261500661255,0.2567553764064655,-0.7654127984114363,-1.1479695697180325,-2.636405385610905,-0.5032517799764683,0.13038192922761957,0.9293285368176346,-0.15624110810985212,1.5217566191873781,-0.7554861501094885,-0.40709632551842884,-0.9082607128008454,-1.4141956075403381,-0.22335556096381204,-0.6648640666648478,-0.845642443882462,0.05818827437384565,0.06382450517748697,-1.3770348528102003,1.2494190129283704,-2.173104777799369,0.7520109915016032,-0.13046933302896466,0.8623557558493194,-1.0461452986751283,-0.1849008905448433,-2.518702088281738,-1.9275030931836952,-0.8820918828398796,-0.19592142547043218,0.692601460049957,-1.4416758241067764,-1.1011352768795413,-1.0955786761235524,-1.022011992147784,-0.5336236032785133,0.045246683843232806,-1.849558739892487,0.26244263667954265,0.7620268081086352,1.785613375308064,0.726539494536812,-1.6042115910103718,-0.834502202565002,-0.9268520365101441,0.638493282394542,-0.22537029661021585,2.2706911494481896,-0.6094270636874597,-0.461200252017532,0.07984248579162562,-0.604212534624812,0.6690561540264599,1.247506420348346,-0.2614309747598606,0.4196405475650233,1.8580997581465106,-1.1277698342963103,-0.22841995451890112,0.8046581443240628,-0.9106172741443117,2.0171496761803436,1.0697098754559875,0.41638116254954033,0.3531814399758391,1.288529004323083,-1.6999479719028998,-0.2673736206457327,1.201941528893164,-1.8259673649280972,-0.12785162200902514,1.2451499564906243,-1.0427709850420468,0.679837339172007,0.7534747264065148,-1.9879495183887008,0.0913750945083935,-0.2606263676889136,-0.260720039444014,1.6305852061822106,1.1700884335187733,-0.7373036997301414,-0.674309540639222,-1.0767659296862555,-1.941268212400377,-0.8108560930255124,3.228659530313691,-1.109421277420619,0.47114089190374353,-0.5943359852719289,0.028357781094203137,1.832454987917869,-0.5971580639363403,1.846115170564283,-0.8635862625502945,1.7126106397256635,1.372730505240186,1.3377825600267774,1.7078856772134314,0.38336508621009835,-0.899252742171008,-0.539300010920663,0.7457553259578912,-0.1340724338452738,0.42684733504183414,0.002343013204554258,0.1911532183582647,2.8235332430638644,0.35432742895904595,-0.31596555302254714,0.6665103901582033,1.819634186233165,1.4981108163985009,0.11552258173229604,-0.29846635467485194,0.7559387045373215,0.8311248800130073,0.3697799288307466,-0.9333799558497157,-0.8787533853468774,-0.5333209281614849,0.656894816903783,0.7280490863501593,1.9710852786825972,0.18293774404277457,-0.730694622171098,-1.2978301875103095,1.1153610544888306,-0.7106222737038098,1.6491054632665867,-0.8054537296997203,-0.6507595915542506,1.924368747242817,-0.42337147573828576,0.39954022700095293,-0.24791770739094682,0.1753319278921419,-0.6359428739719395,-0.9538886700150756,0.12581958327604137,1.7290104446454448,0.7728213786236778,0.5905685961911391,-1.0196182349850702,-0.20617013586724822,0.7558334094504077,-0.7549211438133142,0.7403590814792356,-1.9463910399493198,-0.1264948776042591,-1.549589275622992,0.8896092110204123,0.5030592310054692,0.3435716656135616,-0.44412878552851687,-1.3712046307927204,0.3197318659800046,0.9242245724300754,-0.601138314759759,1.3478336354528546,-0.2987271040135429,-1.1060776574492674,1.6315127302389951,0.9826588675454901,1.4091657311265633,0.9483350450574592,-1.8832057395642574,-0.19817823782331415,-1.40500967145106,-0.9232988984484853,0.09893496475564045,-0.6147802396930938,1.8431043778178307,-0.11487042561055458,-1.0588195260568496,0.2401159462124294,1.025529688135064,1.0969970120052233,-1.687525511430343,0.43132131700463505,0.0803377949164442,1.5517033180377198,-0.8389793807211205,-0.046334218559283845,0.7927082525864593,-0.3057225109958071,0.211615666431207,0.4403945672573803,1.3360211489404876,-0.44628185683353805,0.9438837754158479,-0.5064490915116758,-1.7631047439168472,-1.0323437181427813,-0.44330700049863164,0.5060546738248346,0.18538811264727867,0.7751593627530208,0.207278924728986,-0.6695235662532324,1.780254203189806,-0.03582698103715872,-0.5767650786383898,-0.22208985414104818,1.3139113874966994,0.7922463574803198,-0.5053856540523645,-0.2364334931612359,-1.6467380287654179,-0.04547631619075789,0.0060813895355880465,-0.13802567697787874,0.6467669250106958,0.3320527945208618,0.27845082097091756,0.038335828062836225,-0.7810641801824497,-0.7720876899292548,-1.64315214309774,-0.8572227873750141,-0.47962303514158855,1.1374262321920332,0.36351174555291266,-1.0203296422654293,0.5928749979394881,0.40543717938430307,0.3685107765317492,0.2976087307703472,1.1348868820576348,0.883043625524218,0.5617320220862208,0.8623666449897162,0.5705126148003881,0.4051678320481088,-0.2594782197352341,1.2642652603502376,-0.026504746228482107,-0.5615982768674537,-1.7019399748902042,-0.011578695214956216,0.21754190423851505,1.5003928127242736,-1.3376023911677821,-0.1525098692518086,-1.2254545594936006,-1.0679839194069682,-0.053591840831548436,-0.13026327123848974,1.1845039139478761,-0.11354975604368084,1.257281164819208,0.7348962912058842,-0.5885398854704587,-0.9805132979350991,1.2518691582155257,0.6674058635974335,0.9196737419746339,0.7897319244020332,-0.30978982721699294,0.45671150667316907,-0.6275159988195963,-1.0815772285569776,-0.5016982741844809,1.284660255591659,-0.8548660267977357,-0.4349476120434367,0.1653135272683128,1.0127800458024694,-0.16667923324683478,-0.9260156736192205,-0.16603341896550083,-0.6075857412576546,-0.8201644064910628,2.0461301631400532,0.0490694087606335,0.07553441206802866,-0.27253025181077484,0.6806279622463443,-0.26138912071208403,-0.7618848506376718,-0.6192830942761547,0.1358559077502818,0.8576093485179316,1.1083407027463028,0.3107720158889111,-0.14450239184097083,-1.2483826586002806,0.40273753247651906,0.44857704465469017,-0.0809311399962037,-0.20021666470881114,0.5386886404093628,-0.2436168315472389,-0.6380425863923282,0.7526834281381372,-1.3563472940539127,1.203442877151117,1.264256993893773,-1.4667135406293281,0.6500035649712852,-0.9726584911942803,-0.1393706244460259,1.11206803137648,-0.8875287257983806,-1.7376676859787599,-0.35586937583312983,-0.7778842644187524,1.0573277505334464,1.130608433414723,-0.6863161205197064,-0.8684427578214233,0.07266602664518637,-0.7056472533653552,0.18730816254228191,-1.0596895262069166,-0.07500996729028392,-1.2110709502376455,-1.4843403372445019,0.13772861246667478,0.24002377067820505,-1.2421168228024653,-0.9592626744682573,0.36987333977076137,1.5342833510402596,-0.15770294775040752,1.2076817885690043,-1.0389018619730406,0.637844533418849,-1.773290835701863,1.4809645006340781,-0.6153804734148612,-0.5448063669042078,-1.3277171955143292,0.25047497154284243,-2.0683512402900313,0.06110340377732343,1.6739572040499375,0.0927199268840089,-0.6838038799529574,0.12522405837572936,0.2137526839020775,-1.0114556155459935,-1.2708942432396901,-1.3216263500116305,0.9859365256859497,-1.086347946610848,1.3197128047469104,-0.7016902144591181,-0.09613926324592868,1.0651265517656356,1.0017400726821508,1.6912414078222515,0.34914967708250644,0.27332371542983913,1.0631164520455234,-0.684291809933131,0.6838918162782484,0.5356763438553789,0.35713595262425685,0.6035618751367671,0.8027383482218026,-0.9995137264301235,-0.07746508427568323,-2.008220232280592,-0.7543797644146225,0.5858858282544399,0.955792397204199,-0.5659188409987512,0.3717896706551467,-0.13629010114067355,1.4680946835087392,-0.7496778082417647,0.29269166961067894,1.456842504054985,-0.03622680309059684,-1.035202352677081,-1.1528196446402112,-0.0690966021664504,-1.7168736541514868,-0.23046314464924295,-1.8234075625251855,0.34319459064099794,-0.5893278459694328,-0.5419225866352181,-0.6397546524295225,-0.3711682115572928,1.0068578401650186,1.0861075630265586,0.19107165434517429,0.22010632339139027,-1.1213473871161352,-1.1687616254531805,0.139958625924644,1.5200449822064557,0.24940514879073875,0.2516237062740477,-1.0633762040768753,-1.0303886313374242,-1.280217128798579,0.1209622496779686,-0.8210185518178802,-1.0904921860605947,-0.0052798786587114005,-0.5803082326091231,-2.5505163132759883,0.07043729012696352,1.0166836327004527,-0.3397582932748122,-2.2481413456275483,1.5647938977297073,-1.1182989063583013,0.35198333891675,0.693705358939242,0.2844289870061887,0.6690742952140172,0.16208963147254016,0.33058316089190354,0.5289049084094841,0.6308656500448631,-0.5177916752290734,-0.31955331460893005,2.4280361484756003,1.3236670364389498,-0.1566760094478639,-1.682311218287819,2.6082177143741783,1.3188663473075326,0.48103143440584123,-0.440270161322272,-2.1265359504115664,-1.2746638872220044,0.834950264180839,-0.6475910316329192,-1.4996395547042487,0.725144578780966,-0.08658783593193375,-1.0458375708900078,-0.869714216814835,0.1322406965569749,-0.5682407243495312,0.8277792942590905,-1.5391189268722119,0.5168762270524716,-0.5007969656703011,0.6526809194248685,0.12041697126018071,0.42735727159359543,0.20539563337868644,-0.6994893844292623,-0.038089269922908224,-0.23456035344664466,1.1209126299906311,-0.5648576615173115,0.5021060100953498,0.06524724630398042,0.02376435032531926,0.034465055693461984,-0.3719126342985453,0.053025065358290525,-1.2327519120714925,-0.0718725685258894,0.07056605312107822,0.3532119642514479,-0.39747067050201973,-0.18657494544777453,0.9732859363904116,0.11132529381635405,-0.9800522222692852,-0.09100010174632196,1.9148062347860526,-0.04133729801986173,-0.464099229336231,1.6022900980482457,-0.6238595091393497,0.23882522086786429,0.2964744870135315,-0.6434821753109999,-0.715247734799928,0.3592342662339131,-1.6438145770974448,0.4097628729309101,-1.3363302570515039,0.9818575983375258,-0.6963683721528086,0.6774932258698043,0.7905780726441519,0.7738619427168318,1.641033027789033,0.41025748183183697,-0.5485006138315167,0.7374980300824194,0.8697559685127195,0.3874237776492384,-0.6783218907752971,1.4236349104603445,0.9319088489646948,-0.6956794981670483,-0.2514636242658008,-0.5116710033203341,0.5915542220882348,1.0285594094945552,-1.9421721574728426,-2.249597151823274,1.700416045472601,0.6466519837011121,1.476398142235483,1.7626912486439306,-0.18361198398635611,0.026323269652184914,-0.6155515552340798,0.38588799495619586,-0.7935029313437088,-1.2717199050698378,0.35949464200852266,-0.02482980733119727,1.5549293619157785,-1.6399068661511758,0.7791996300390012,-1.2063966183829977,-2.161825243929876,3.058490766407278,-1.0438929304727234,-0.2842361959624954,0.7958691486564291,-0.15576839564978026,0.715338453699148,0.25445918209651236,0.6032617898453608,1.1080049071152553,-0.28195591007379744,-1.7806263765645698,3.239381399545431,0.8384533867280405,0.810167608331877,0.34680145790366823,1.8648810922000807,0.24780941209968932,1.6812049614908868,0.45884176640250274,-1.8749785558848544,-0.34431545162879806,0.15104223543775722,-0.7257489983747617,0.8728199918260606,1.290284440295405,1.2046277439432374,0.1797703537742477,-0.56685279021883,0.7950557603733985,-0.5270892126984328,-0.8741917878414943,1.1208666570954022,-0.3935003444180381,0.15749332202798516,0.0005049984214274457,-1.4704460588632893,-0.7182810632592362,1.0186964015919555,0.32810942246810115,1.9309591729865268,0.8038576942986903,0.8756218332559942,-1.0666505502461914,-1.0510181493756838,-0.2912682250148873,0.3059903323155873,-1.908234964050675,1.2094879682052597,-0.757117810046278,0.46514112786638556,0.35786439629405603,-0.21542210618666743,-0.3775361308935086,-0.9056973876863151,-1.540000011394198,-0.6524691505476437,-1.2131501223230174,0.7013159962890776,0.6015820954987265,0.631729409813267,0.2262287779859158,1.7521376196545706,-0.9008828927174215,0.29622590474468463,-1.1387337517584761,0.5059678542850223,0.604072820940156,-1.2382051674250931,-1.24567760006479,-2.0463682556645204,1.1704787235390124,-0.46218038820151996,0.16209253937535292,0.5358061504376374,0.11096492207626416,1.5410285653681846,-0.5491359733770076,-0.9700881047981301,1.836525349008577,1.6409832427921889,0.5865629067921525,0.6056473553743362,-1.4241399492823092,1.810642261796107,0.04464561589919241,-0.020783291180607483,-0.6026931150904087,0.08165982744328275,-1.071954450334973,-0.36480160776764065,0.19830187506484495,0.6674827964834598,-0.5629708485622005,0.1460311580203172,-0.15723354232870776,2.262815096265747,-0.8344176355116457,-1.9770329723530427,2.365339474194019,-0.911632673960844,-0.2993617610562689,-0.33997941331627773,2.903217294791255,0.6860582536701976,0.2246270587763802,0.45311223014176544,-0.2869027424806527,0.35711606282446934,-1.2040578654721734,-0.14421497958018184,-0.3160450575038114,-1.6532203854716632,-0.8232146123013881,0.544357986645694,-0.24870863752261252,-0.14577872454421206,-0.9164635531160266,-2.0146306613226734,-0.607910873711525,-0.310017437974733,-1.8507490592129854,-0.28009256860376996,0.8413985381485636,1.4411723326217434,0.37869835280680075,-0.185552581575405,1.6065704688981217,-0.5094402483797944,0.48092754316768666,0.7159369499823789,0.5758927675058918,0.11115243024829241,1.2217096101625509,-2.2832503782321667,-0.4701750996422693,1.1656754839221406,-0.33770644570899255,-0.48737955851575643,-1.0505233111918657,-0.9352200757407488,-0.1454227359040893,0.548886175977773,0.9513184517026236,0.41952495289873504,-0.21121900989117706,-1.3927402226925676,-1.48658063655224,-1.798383579490326,0.04349886079065998,-2.5644451295519306,1.1101272542906326,0.5874323008161844,-0.5509859106048525,1.3555680664331835,1.2336987727215327,0.5019408442568258,-1.1392800058800627,2.609123715988076,0.18638434235125217,-0.2626335062885502,0.228529530538878,0.1579574105676858,0.06048954093472704,1.8261698743306203,-0.45528854880592007,0.33602220566809904,0.19880335010883013,2.5622864747155623,0.8289742471713732,-1.1888481730352993,-1.068898196316848,-0.6109462444722555,0.3345684033502288,0.707158804949356,0.5934647912887971,0.568975343155455,-0.1255669813922978,0.5458691815393871,-0.02937836690160486,0.6565369123419204,1.0786625734548285,-0.39086865795826736,-1.82189865757159,1.5909184658599556,1.289732674672499,-0.07962581627156104,-0.02880210598087524,-1.4840238078541144,0.07285640899971356,1.441865539534425,1.5329606976626022,-0.14115905787306324,-0.10952049111299114,0.8775815045891645,1.3651399833448938,0.0629527923500768,-0.7200954573372659,-0.5067217439739224,0.9865553730147567,-0.6410387953833273,-0.10830487504331233,1.1270528128959632,0.12487853707640229,0.13586072926628676,-1.5802602411622684,-1.0265042507498554,0.6530551099725725,0.7516757357382928,-2.1763408998028257,-0.07415422291326754,0.5149795555934964,0.5845010156166944,0.004623382475672308,-2.0454249575007557,1.2082193181874907,-1.0276300144403847,1.298826808962317,0.6114829949373314,0.43293473081553613,-0.04109051816035639,-0.18679480561711734,-0.26433973207149714,-2.115360178231293,-1.03615640750912,0.41034908028057143,1.105738140687717,-0.8966561408949176,0.8728384068555365,0.9043436869990963,-0.02070933429796758,-1.233455329819056,1.0729486637253518,-2.397845386899166,0.07401504086636229,0.25461058398531694,0.5846865427185666,1.1730606073199044,0.04164113775312933,-0.697262384296728,-0.9456908443976721,-0.0787778939718493,0.7615803114002672,-1.5088892489075914,-2.241901211947592,0.5244047057334146,-0.2999503642541892,1.6604742648835444,-1.3258833314929956,0.29719722623308703,0.26897128597237024,1.0770775335458034,-0.08155743920290709,0.44027866024149553,0.7104447924953253,-0.886421231219936,1.6702581727413244,0.3306192163893713,0.9452564226086757,0.2835053928605746,-1.0792094096215818,1.8540103595566768,-1.2275786197591971,0.7578152459795469,-0.6181931478604331,1.173431956293988,-0.28491902921621265,0.2778029936797117,-1.0030559280008566,0.8464389633558899,0.6834990513562794,0.6071192583502257,0.3070973459366138,-0.07578379058916133,0.5452772744155252,0.5791579594128204,0.38421944782340606,-0.5174897983098726,0.5905015904672142,1.1025616450602809,0.516919889207835,-0.5147443353051573,-0.8062236842776312,0.41065256300240477,0.7953641641592525,0.21726091175803927,-0.3204620761721068,-1.489054147911756,0.6239922279987005,0.47853183808881367,0.6395647760546764,0.4361034262220129,0.4040027221379328,1.2689901998146649,-1.4187227743486386,-1.4616214012575255,-0.993707196188246,0.9303724263912728,-1.1540695076963567,-0.7122579836469851,-1.2930055253086206,1.0576616066526596,-0.1719925769802513,-0.6353184339800432,0.637260778200866,0.2302054062637396,0.6423155567710952,0.1452277956761662,1.8528406178092125,0.4431884727925146],\"type\":\"scatter\"}],                        {\"template\":{\"data\":{\"histogram2dcontour\":[{\"type\":\"histogram2dcontour\",\"colorbar\":{\"outlinewidth\":0,\"ticks\":\"\"},\"colorscale\":[[0.0,\"#0d0887\"],[0.1111111111111111,\"#46039f\"],[0.2222222222222222,\"#7201a8\"],[0.3333333333333333,\"#9c179e\"],[0.4444444444444444,\"#bd3786\"],[0.5555555555555556,\"#d8576b\"],[0.6666666666666666,\"#ed7953\"],[0.7777777777777778,\"#fb9f3a\"],[0.8888888888888888,\"#fdca26\"],[1.0,\"#f0f921\"]]}],\"choropleth\":[{\"type\":\"choropleth\",\"colorbar\":{\"outlinewidth\":0,\"ticks\":\"\"}}],\"histogram2d\":[{\"type\":\"histogram2d\",\"colorbar\":{\"outlinewidth\":0,\"ticks\":\"\"},\"colorscale\":[[0.0,\"#0d0887\"],[0.1111111111111111,\"#46039f\"],[0.2222222222222222,\"#7201a8\"],[0.3333333333333333,\"#9c179e\"],[0.4444444444444444,\"#bd3786\"],[0.5555555555555556,\"#d8576b\"],[0.6666666666666666,\"#ed7953\"],[0.7777777777777778,\"#fb9f3a\"],[0.8888888888888888,\"#fdca26\"],[1.0,\"#f0f921\"]]}],\"heatmap\":[{\"type\":\"heatmap\",\"colorbar\":{\"outlinewidth\":0,\"ticks\":\"\"},\"colorscale\":[[0.0,\"#0d0887\"],[0.1111111111111111,\"#46039f\"],[0.2222222222222222,\"#7201a8\"],[0.3333333333333333,\"#9c179e\"],[0.4444444444444444,\"#bd3786\"],[0.5555555555555556,\"#d8576b\"],[0.6666666666666666,\"#ed7953\"],[0.7777777777777778,\"#fb9f3a\"],[0.8888888888888888,\"#fdca26\"],[1.0,\"#f0f921\"]]}],\"heatmapgl\":[{\"type\":\"heatmapgl\",\"colorbar\":{\"outlinewidth\":0,\"ticks\":\"\"},\"colorscale\":[[0.0,\"#0d0887\"],[0.1111111111111111,\"#46039f\"],[0.2222222222222222,\"#7201a8\"],[0.3333333333333333,\"#9c179e\"],[0.4444444444444444,\"#bd3786\"],[0.5555555555555556,\"#d8576b\"],[0.6666666666666666,\"#ed7953\"],[0.7777777777777778,\"#fb9f3a\"],[0.8888888888888888,\"#fdca26\"],[1.0,\"#f0f921\"]]}],\"contourcarpet\":[{\"type\":\"contourcarpet\",\"colorbar\":{\"outlinewidth\":0,\"ticks\":\"\"}}],\"contour\":[{\"type\":\"contour\",\"colorbar\":{\"outlinewidth\":0,\"ticks\":\"\"},\"colorscale\":[[0.0,\"#0d0887\"],[0.1111111111111111,\"#46039f\"],[0.2222222222222222,\"#7201a8\"],[0.3333333333333333,\"#9c179e\"],[0.4444444444444444,\"#bd3786\"],[0.5555555555555556,\"#d8576b\"],[0.6666666666666666,\"#ed7953\"],[0.7777777777777778,\"#fb9f3a\"],[0.8888888888888888,\"#fdca26\"],[1.0,\"#f0f921\"]]}],\"surface\":[{\"type\":\"surface\",\"colorbar\":{\"outlinewidth\":0,\"ticks\":\"\"},\"colorscale\":[[0.0,\"#0d0887\"],[0.1111111111111111,\"#46039f\"],[0.2222222222222222,\"#7201a8\"],[0.3333333333333333,\"#9c179e\"],[0.4444444444444444,\"#bd3786\"],[0.5555555555555556,\"#d8576b\"],[0.6666666666666666,\"#ed7953\"],[0.7777777777777778,\"#fb9f3a\"],[0.8888888888888888,\"#fdca26\"],[1.0,\"#f0f921\"]]}],\"mesh3d\":[{\"type\":\"mesh3d\",\"colorbar\":{\"outlinewidth\":0,\"ticks\":\"\"}}],\"scatter\":[{\"fillpattern\":{\"fillmode\":\"overlay\",\"size\":10,\"solidity\":0.2},\"type\":\"scatter\"}],\"parcoords\":[{\"type\":\"parcoords\",\"line\":{\"colorbar\":{\"outlinewidth\":0,\"ticks\":\"\"}}}],\"scatterpolargl\":[{\"type\":\"scatterpolargl\",\"marker\":{\"colorbar\":{\"outlinewidth\":0,\"ticks\":\"\"}}}],\"bar\":[{\"error_x\":{\"color\":\"#2a3f5f\"},\"error_y\":{\"color\":\"#2a3f5f\"},\"marker\":{\"line\":{\"color\":\"#E5ECF6\",\"width\":0.5},\"pattern\":{\"fillmode\":\"overlay\",\"size\":10,\"solidity\":0.2}},\"type\":\"bar\"}],\"scattergeo\":[{\"type\":\"scattergeo\",\"marker\":{\"colorbar\":{\"outlinewidth\":0,\"ticks\":\"\"}}}],\"scatterpolar\":[{\"type\":\"scatterpolar\",\"marker\":{\"colorbar\":{\"outlinewidth\":0,\"ticks\":\"\"}}}],\"histogram\":[{\"marker\":{\"pattern\":{\"fillmode\":\"overlay\",\"size\":10,\"solidity\":0.2}},\"type\":\"histogram\"}],\"scattergl\":[{\"type\":\"scattergl\",\"marker\":{\"colorbar\":{\"outlinewidth\":0,\"ticks\":\"\"}}}],\"scatter3d\":[{\"type\":\"scatter3d\",\"line\":{\"colorbar\":{\"outlinewidth\":0,\"ticks\":\"\"}},\"marker\":{\"colorbar\":{\"outlinewidth\":0,\"ticks\":\"\"}}}],\"scattermapbox\":[{\"type\":\"scattermapbox\",\"marker\":{\"colorbar\":{\"outlinewidth\":0,\"ticks\":\"\"}}}],\"scatterternary\":[{\"type\":\"scatterternary\",\"marker\":{\"colorbar\":{\"outlinewidth\":0,\"ticks\":\"\"}}}],\"scattercarpet\":[{\"type\":\"scattercarpet\",\"marker\":{\"colorbar\":{\"outlinewidth\":0,\"ticks\":\"\"}}}],\"carpet\":[{\"aaxis\":{\"endlinecolor\":\"#2a3f5f\",\"gridcolor\":\"white\",\"linecolor\":\"white\",\"minorgridcolor\":\"white\",\"startlinecolor\":\"#2a3f5f\"},\"baxis\":{\"endlinecolor\":\"#2a3f5f\",\"gridcolor\":\"white\",\"linecolor\":\"white\",\"minorgridcolor\":\"white\",\"startlinecolor\":\"#2a3f5f\"},\"type\":\"carpet\"}],\"table\":[{\"cells\":{\"fill\":{\"color\":\"#EBF0F8\"},\"line\":{\"color\":\"white\"}},\"header\":{\"fill\":{\"color\":\"#C8D4E3\"},\"line\":{\"color\":\"white\"}},\"type\":\"table\"}],\"barpolar\":[{\"marker\":{\"line\":{\"color\":\"#E5ECF6\",\"width\":0.5},\"pattern\":{\"fillmode\":\"overlay\",\"size\":10,\"solidity\":0.2}},\"type\":\"barpolar\"}],\"pie\":[{\"automargin\":true,\"type\":\"pie\"}]},\"layout\":{\"autotypenumbers\":\"strict\",\"colorway\":[\"#636efa\",\"#EF553B\",\"#00cc96\",\"#ab63fa\",\"#FFA15A\",\"#19d3f3\",\"#FF6692\",\"#B6E880\",\"#FF97FF\",\"#FECB52\"],\"font\":{\"color\":\"#2a3f5f\"},\"hovermode\":\"closest\",\"hoverlabel\":{\"align\":\"left\"},\"paper_bgcolor\":\"white\",\"plot_bgcolor\":\"#E5ECF6\",\"polar\":{\"bgcolor\":\"#E5ECF6\",\"angularaxis\":{\"gridcolor\":\"white\",\"linecolor\":\"white\",\"ticks\":\"\"},\"radialaxis\":{\"gridcolor\":\"white\",\"linecolor\":\"white\",\"ticks\":\"\"}},\"ternary\":{\"bgcolor\":\"#E5ECF6\",\"aaxis\":{\"gridcolor\":\"white\",\"linecolor\":\"white\",\"ticks\":\"\"},\"baxis\":{\"gridcolor\":\"white\",\"linecolor\":\"white\",\"ticks\":\"\"},\"caxis\":{\"gridcolor\":\"white\",\"linecolor\":\"white\",\"ticks\":\"\"}},\"coloraxis\":{\"colorbar\":{\"outlinewidth\":0,\"ticks\":\"\"}},\"colorscale\":{\"sequential\":[[0.0,\"#0d0887\"],[0.1111111111111111,\"#46039f\"],[0.2222222222222222,\"#7201a8\"],[0.3333333333333333,\"#9c179e\"],[0.4444444444444444,\"#bd3786\"],[0.5555555555555556,\"#d8576b\"],[0.6666666666666666,\"#ed7953\"],[0.7777777777777778,\"#fb9f3a\"],[0.8888888888888888,\"#fdca26\"],[1.0,\"#f0f921\"]],\"sequentialminus\":[[0.0,\"#0d0887\"],[0.1111111111111111,\"#46039f\"],[0.2222222222222222,\"#7201a8\"],[0.3333333333333333,\"#9c179e\"],[0.4444444444444444,\"#bd3786\"],[0.5555555555555556,\"#d8576b\"],[0.6666666666666666,\"#ed7953\"],[0.7777777777777778,\"#fb9f3a\"],[0.8888888888888888,\"#fdca26\"],[1.0,\"#f0f921\"]],\"diverging\":[[0,\"#8e0152\"],[0.1,\"#c51b7d\"],[0.2,\"#de77ae\"],[0.3,\"#f1b6da\"],[0.4,\"#fde0ef\"],[0.5,\"#f7f7f7\"],[0.6,\"#e6f5d0\"],[0.7,\"#b8e186\"],[0.8,\"#7fbc41\"],[0.9,\"#4d9221\"],[1,\"#276419\"]]},\"xaxis\":{\"gridcolor\":\"white\",\"linecolor\":\"white\",\"ticks\":\"\",\"title\":{\"standoff\":15},\"zerolinecolor\":\"white\",\"automargin\":true,\"zerolinewidth\":2},\"yaxis\":{\"gridcolor\":\"white\",\"linecolor\":\"white\",\"ticks\":\"\",\"title\":{\"standoff\":15},\"zerolinecolor\":\"white\",\"automargin\":true,\"zerolinewidth\":2},\"scene\":{\"xaxis\":{\"backgroundcolor\":\"#E5ECF6\",\"gridcolor\":\"white\",\"linecolor\":\"white\",\"showbackground\":true,\"ticks\":\"\",\"zerolinecolor\":\"white\",\"gridwidth\":2},\"yaxis\":{\"backgroundcolor\":\"#E5ECF6\",\"gridcolor\":\"white\",\"linecolor\":\"white\",\"showbackground\":true,\"ticks\":\"\",\"zerolinecolor\":\"white\",\"gridwidth\":2},\"zaxis\":{\"backgroundcolor\":\"#E5ECF6\",\"gridcolor\":\"white\",\"linecolor\":\"white\",\"showbackground\":true,\"ticks\":\"\",\"zerolinecolor\":\"white\",\"gridwidth\":2}},\"shapedefaults\":{\"line\":{\"color\":\"#2a3f5f\"}},\"annotationdefaults\":{\"arrowcolor\":\"#2a3f5f\",\"arrowhead\":0,\"arrowwidth\":1},\"geo\":{\"bgcolor\":\"white\",\"landcolor\":\"#E5ECF6\",\"subunitcolor\":\"white\",\"showland\":true,\"showlakes\":true,\"lakecolor\":\"white\"},\"title\":{\"x\":0.05},\"mapbox\":{\"style\":\"light\"}}},\"title\":{\"text\":\"2D random sample with no correlation\"}},                        {\"responsive\": true}                    ).then(function(){\n",
       "                            \n",
       "var gd = document.getElementById('e9a96f75-8e66-4765-a3f9-7b252a319e7c');\n",
       "var x = new MutationObserver(function (mutations, observer) {{\n",
       "        var display = window.getComputedStyle(gd).display;\n",
       "        if (!display || display === 'none') {{\n",
       "            console.log([gd, 'removed!']);\n",
       "            Plotly.purge(gd);\n",
       "            observer.disconnect();\n",
       "        }}\n",
       "}});\n",
       "\n",
       "// Listen for the removal of the full notebook cells\n",
       "var notebookContainer = gd.closest('#notebook-container');\n",
       "if (notebookContainer) {{\n",
       "    x.observe(notebookContainer, {childList: true});\n",
       "}}\n",
       "\n",
       "// Listen for the clearing of the current output cell\n",
       "var outputEl = gd.closest('.output');\n",
       "if (outputEl) {{\n",
       "    x.observe(outputEl, {childList: true});\n",
       "}}\n",
       "\n",
       "                        })                };                });            </script>        </div>"
      ]
     },
     "metadata": {},
     "output_type": "display_data"
    },
    {
     "data": {
      "application/javascript": [
       "\n",
       "            setTimeout(function() {\n",
       "                var nbb_cell_id = 1649;\n",
       "                var nbb_unformatted_code = \"xs, ys = make_xs_ys()\\ngo_scatter(xs, ys, \\\"2D random sample with no correlation\\\")\";\n",
       "                var nbb_formatted_code = \"xs, ys = make_xs_ys()\\ngo_scatter(xs, ys, \\\"2D random sample with no correlation\\\")\";\n",
       "                var nbb_cells = Jupyter.notebook.get_cells();\n",
       "                for (var i = 0; i < nbb_cells.length; ++i) {\n",
       "                    if (nbb_cells[i].input_prompt_number == nbb_cell_id) {\n",
       "                        if (nbb_cells[i].get_text() == nbb_unformatted_code) {\n",
       "                             nbb_cells[i].set_text(nbb_formatted_code);\n",
       "                        }\n",
       "                        break;\n",
       "                    }\n",
       "                }\n",
       "            }, 500);\n",
       "            "
      ],
      "text/plain": [
       "<IPython.core.display.Javascript object>"
      ]
     },
     "metadata": {},
     "output_type": "display_data"
    }
   ],
   "source": [
    "xs, ys = make_xs_ys()\n",
    "go_scatter(xs, ys, \"2D random sample with no correlation\")"
   ]
  },
  {
   "cell_type": "markdown",
   "id": "1328ce5f",
   "metadata": {
    "hidden": true
   },
   "source": [
    "## Correlated 2D random samples"
   ]
  },
  {
   "cell_type": "code",
   "execution_count": 1650,
   "id": "4bf5cfd4",
   "metadata": {
    "hidden": true
   },
   "outputs": [
    {
     "data": {
      "application/javascript": [
       "\n",
       "            setTimeout(function() {\n",
       "                var nbb_cell_id = 1650;\n",
       "                var nbb_unformatted_code = \"def get_corr_cov():\\n    # Generate independent random normal numbers...\\n    somex = np.random.normal(0, 1, 1000)\\n    somey = np.random.normal(0, 1, 1000)\\n    # Create correlated variables from the 2 independent random variables\\n    corx = 2 * somex + 3 * somey\\n    cory = 5 * somex + 2 * somey\\n    return np.cov(corx, cory)\";\n",
       "                var nbb_formatted_code = \"def get_corr_cov():\\n    # Generate independent random normal numbers...\\n    somex = np.random.normal(0, 1, 1000)\\n    somey = np.random.normal(0, 1, 1000)\\n    # Create correlated variables from the 2 independent random variables\\n    corx = 2 * somex + 3 * somey\\n    cory = 5 * somex + 2 * somey\\n    return np.cov(corx, cory)\";\n",
       "                var nbb_cells = Jupyter.notebook.get_cells();\n",
       "                for (var i = 0; i < nbb_cells.length; ++i) {\n",
       "                    if (nbb_cells[i].input_prompt_number == nbb_cell_id) {\n",
       "                        if (nbb_cells[i].get_text() == nbb_unformatted_code) {\n",
       "                             nbb_cells[i].set_text(nbb_formatted_code);\n",
       "                        }\n",
       "                        break;\n",
       "                    }\n",
       "                }\n",
       "            }, 500);\n",
       "            "
      ],
      "text/plain": [
       "<IPython.core.display.Javascript object>"
      ]
     },
     "metadata": {},
     "output_type": "display_data"
    }
   ],
   "source": [
    "def get_corr_cov():\n",
    "    # Generate independent random normal numbers...\n",
    "    somex = np.random.normal(0, 1, 1000)\n",
    "    somey = np.random.normal(0, 1, 1000)\n",
    "    # Create correlated variables from the 2 independent random variables\n",
    "    corx = 2 * somex + 3 * somey\n",
    "    cory = 5 * somex + 2 * somey\n",
    "    return np.cov(corx, cory)"
   ]
  },
  {
   "cell_type": "code",
   "execution_count": 1652,
   "id": "8ca371ee",
   "metadata": {
    "hidden": true
   },
   "outputs": [
    {
     "data": {
      "text/plain": [
       "array([[13.29512065, 16.506827  ],\n",
       "       [16.506827  , 29.36201562]])"
      ]
     },
     "execution_count": 1652,
     "metadata": {},
     "output_type": "execute_result"
    },
    {
     "data": {
      "application/javascript": [
       "\n",
       "            setTimeout(function() {\n",
       "                var nbb_cell_id = 1652;\n",
       "                var nbb_unformatted_code = \"cov_matrix = get_corr_cov()\\ncov_matrix\";\n",
       "                var nbb_formatted_code = \"cov_matrix = get_corr_cov()\\ncov_matrix\";\n",
       "                var nbb_cells = Jupyter.notebook.get_cells();\n",
       "                for (var i = 0; i < nbb_cells.length; ++i) {\n",
       "                    if (nbb_cells[i].input_prompt_number == nbb_cell_id) {\n",
       "                        if (nbb_cells[i].get_text() == nbb_unformatted_code) {\n",
       "                             nbb_cells[i].set_text(nbb_formatted_code);\n",
       "                        }\n",
       "                        break;\n",
       "                    }\n",
       "                }\n",
       "            }, 500);\n",
       "            "
      ],
      "text/plain": [
       "<IPython.core.display.Javascript object>"
      ]
     },
     "metadata": {},
     "output_type": "display_data"
    }
   ],
   "source": [
    "cov_matrix = get_corr_cov()\n",
    "cov_matrix"
   ]
  },
  {
   "cell_type": "code",
   "execution_count": 1445,
   "id": "7fb0680d",
   "metadata": {
    "hidden": true
   },
   "outputs": [
    {
     "data": {
      "application/javascript": [
       "\n",
       "            setTimeout(function() {\n",
       "                var nbb_cell_id = 1445;\n",
       "                var nbb_unformatted_code = \"xs_c, ys_c = make_xs_ys(cov_matrix)\";\n",
       "                var nbb_formatted_code = \"xs_c, ys_c = make_xs_ys(cov_matrix)\";\n",
       "                var nbb_cells = Jupyter.notebook.get_cells();\n",
       "                for (var i = 0; i < nbb_cells.length; ++i) {\n",
       "                    if (nbb_cells[i].input_prompt_number == nbb_cell_id) {\n",
       "                        if (nbb_cells[i].get_text() == nbb_unformatted_code) {\n",
       "                             nbb_cells[i].set_text(nbb_formatted_code);\n",
       "                        }\n",
       "                        break;\n",
       "                    }\n",
       "                }\n",
       "            }, 500);\n",
       "            "
      ],
      "text/plain": [
       "<IPython.core.display.Javascript object>"
      ]
     },
     "metadata": {},
     "output_type": "display_data"
    }
   ],
   "source": [
    "xs_c, ys_c = make_xs_ys(cov_matrix)"
   ]
  },
  {
   "cell_type": "code",
   "execution_count": 1657,
   "id": "42707cbb",
   "metadata": {
    "hidden": true
   },
   "outputs": [
    {
     "data": {
      "application/vnd.plotly.v1+json": {
       "config": {
        "plotlyServerURL": "https://plot.ly"
       },
       "data": [
        {
         "mode": "markers",
         "type": "scatter",
         "x": [
          -4.19003747185981,
          -2.1058493314670623,
          1.4500606509306218,
          2.9519953656716726,
          0.28359057543159977,
          0.6384564894958669,
          -0.47187740122604493,
          -4.797728544724382,
          0.5630512493117426,
          -0.4852092844258515,
          3.846221728406655,
          1.2281963513182583,
          6.484477062370209,
          4.684745288619792,
          -9.243693452167332,
          -2.8756040338522273,
          0.25638173795696,
          -1.0056994531070156,
          -2.020741922245427,
          2.36355197563255,
          -5.559619438347141,
          0.14343096198884078,
          -1.7606357373667731,
          0.837703763227154,
          -0.5459095683095183,
          -2.8866655379738835,
          2.2802979255181737,
          2.7432687522238957,
          -0.1796243357040994,
          1.6937938521006375,
          -0.7009564336069408,
          2.184117823142279,
          -2.2008568029637683,
          4.7791105944574905,
          -0.8713636567325407,
          -2.569737736994239,
          -0.523694629435169,
          -5.235776770034973,
          3.303616851608691,
          2.4184374007984286,
          -2.017510159594449,
          -1.0686721320911425,
          3.604506262922117,
          -3.731608619315166,
          -2.372599098154783,
          -3.360439341421327,
          1.5422137968256413,
          -3.622278571676916,
          -5.500404168337205,
          4.344923798184168,
          2.3477757564840815,
          -0.49908879328438205,
          2.3604282275917137,
          -3.362764844063456,
          -3.9776472824562936,
          -4.492479137962603,
          2.0342050415165445,
          2.5949391566675217,
          2.807558270097852,
          -1.3332962301350437,
          -2.229836513162663,
          5.432997518588575,
          0.11364181925193528,
          0.5760874619596045,
          -1.1876166539393294,
          -4.324879919513194,
          2.6159016090713103,
          -0.3771365856261577,
          0.5090500306672449,
          -2.457713335948508,
          -0.902787840588523,
          -4.128640784540238,
          -1.784331448617031,
          -2.969752901210706,
          7.487730966873857,
          -3.0705150183629826,
          6.348122293296319,
          -0.41857247108903173,
          1.3169881365674327,
          -1.5488567960410995,
          3.1350635086708234,
          8.351146854080696,
          -4.651478478242651,
          -4.535881157820642,
          0.004574894627880299,
          -3.2686029624671917,
          0.021846728226237233,
          -5.141115659163783,
          -2.910767470010617,
          -0.2615265373049256,
          -5.146344586320078,
          3.112920022948318,
          -4.970242011437006,
          3.0729322787090885,
          -6.14041865256725,
          5.071507538412143,
          -3.8954495062818224,
          -3.308975336969464,
          0.44444107091393936,
          0.722186358457706,
          -2.1184466474084562,
          2.158929246823626,
          0.5848868833943462,
          3.9726138401388904,
          6.173077242952212,
          -6.448583388244082,
          0.43399084337022453,
          -2.9173105263943775,
          0.6063626564564837,
          -3.204618067299692,
          5.695602681207971,
          0.5398425900875012,
          -4.158951118631614,
          -1.022545733260245,
          -0.8362374858839925,
          0.3298005513263007,
          0.6665404495380503,
          -2.9820229865313883,
          0.26205484820039815,
          -3.5682875039988105,
          -6.591481576417643,
          -5.426569446094495,
          1.9514469040736147,
          -5.3141984038777546,
          -7.263076814391169,
          -1.6829882335594957,
          -0.3909778227252,
          7.3233470029072985,
          1.0481474370413988,
          1.6285255798865272,
          5.35563962602494,
          2.0888627091514413,
          3.8311333859541343,
          3.28299009930762,
          -3.865442528386562,
          3.6502140428766885,
          3.8439290298693662,
          -3.4483568745497393,
          0.9184882162669101,
          -2.1794688496696386,
          1.5673581657467108,
          -4.0355482170395,
          -2.7110579651429947,
          -1.5752767625231698,
          3.3835720011639006,
          0.2785384925255152,
          -1.8476932937738597,
          0.3551471744522998,
          -0.23943630643035296,
          -0.48797198217702553,
          -1.4490692487731167,
          0.13266600712089383,
          -9.147114052964442,
          -4.659414628403546,
          -3.332409996322605,
          -1.6683379748366813,
          -4.447061839166163,
          -3.8814494852800436,
          6.1766788846681475,
          5.144779032536112,
          1.1955285540539276,
          0.14634054496423332,
          -3.3681840126799454,
          -5.599235334872723,
          -0.6443167631983467,
          -6.5769665279430765,
          4.640301647516653,
          1.5440726568049001,
          -4.609489751456963,
          1.694505536359385,
          -4.188288020997886,
          3.3316363647789866,
          1.4931319627786053,
          2.9105476555146073,
          -2.826825886661153,
          1.5772006530636817,
          4.3772784804564076,
          -2.256935684649144,
          3.4032343152653257,
          -6.250421629049651,
          -0.18608354804694915,
          4.318826149082193,
          0.7603894996088205,
          -1.789345260255028,
          -1.692219880875253,
          -1.606470620376128,
          -3.0715338161937664,
          3.0901749449217193,
          -4.036707331830113,
          -2.68869390235705,
          6.424427390330173,
          -2.4725866171562054,
          3.4876333725605595,
          0.2531839454267789,
          -3.983160164611305,
          -5.80025202661559,
          3.998298565791686,
          3.647244268800416,
          0.7868794824924313,
          -5.632739056372727,
          5.444170091887255,
          1.9834092031263446,
          -0.8049322708572437,
          3.297770747271491,
          -1.7894625983139407,
          1.7662541016429012,
          -2.968523068226351,
          -5.926667302065106,
          -1.9940320798540485,
          -5.008917557703389,
          -0.8988572516321189,
          -4.407795316374095,
          -0.9955511014215244,
          0.9057644527491271,
          -3.4923529255416317,
          -2.3032780998513096,
          -4.2494386448167205,
          5.3734226106457905,
          1.321415188219776,
          -11.30497767903563,
          -12.749822786539127,
          0.14813991800587756,
          -4.119124959851467,
          1.429874365566822,
          -1.9867161076243607,
          2.6070875188160656,
          -3.930463672543619,
          -1.2463034652114733,
          -3.895257588265494,
          -2.038414699357106,
          2.197818600025743,
          -2.58245385647424,
          0.6111409303491875,
          -2.627057086264022,
          -2.3659949233887314,
          -1.1991810205175455,
          -2.303175835016399,
          -4.759417997767287,
          -3.9740567019931703,
          -6.139336297705,
          2.2353971423062284,
          1.8924111165514015,
          -5.858837718638976,
          -5.257537972856933,
          -6.819020340925892,
          -0.6446705365085937,
          -0.1113294500284813,
          -1.1931787479212321,
          8.107292523488235,
          -3.508760862703099,
          0.70562738778596,
          3.751560562887678,
          4.156744021593365,
          1.108119179832093,
          1.4798334037875434,
          3.9963575341707243,
          1.0361106244490141,
          -6.451117745561451,
          1.749131979249531,
          -3.0898240280292852,
          6.130383736014178,
          -3.263252750755142,
          1.2827587057260872,
          2.3503961413380443,
          1.8789502256531139,
          -3.129184829964692,
          -6.2673866496127,
          3.577477784109089,
          5.327769687468016,
          -3.8683444803368747,
          1.6854874395711186,
          0.6939381821020538,
          -7.923185291185732,
          -7.85721608686098,
          5.5726329587480485,
          -2.2707778415439015,
          -4.661207595422971,
          3.360451852498773,
          -1.6619886675633513,
          3.972304275698675,
          -3.125095444277779,
          2.4226339508953862,
          7.032387956713114,
          -0.4965555122635137,
          7.137146690891121,
          2.918367000423854,
          -1.4857203463591633,
          -5.036345698635026,
          1.4692137621067332,
          -5.068155803008949,
          2.59542967670469,
          2.2362423249005148,
          -6.858453120351859,
          7.295180023861466,
          -1.8756885164482922,
          0.37028033541656935,
          -0.10894954567697901,
          0.18068889404345767,
          -4.224607151187028,
          0.6938171867874875,
          4.503668162159807,
          -0.5225350846785127,
          3.5489370657678005,
          -4.410770697128324,
          -1.194395868243706,
          0.7641383277171645,
          -5.216384282613431,
          -0.32062570164312,
          -1.1960966968066544,
          -4.433835315571982,
          4.165779932438541,
          8.150345050265926,
          4.070369379378399,
          -4.190423700277278,
          -3.5868992306712144,
          6.2562809528954855,
          -1.343258741959063,
          0.5939309984902208,
          -2.1593087663624564,
          -8.674688063021286,
          3.6226947897901374,
          4.425418262998852,
          -6.959307648955853,
          -1.0941717911194369,
          3.1401461049709045,
          2.239443149708389,
          0.7997993109907968,
          -6.372666937460528,
          -11.356845590248,
          3.0685003003966247,
          1.5471768504619052,
          -3.519176336293515,
          -1.1134794728187,
          5.136336919843925,
          -2.489657411431788,
          -1.118581975765666,
          0.8243229468006228,
          0.11090862330439788,
          -3.000215886131993,
          -2.6324640600109412,
          -1.0878816472440538,
          1.4578126748823834,
          -7.155325967451002,
          -5.924631051400637,
          -2.5214603491522225,
          1.1388717924534517,
          2.64232473179633,
          -0.865760545714571,
          2.4729172561138952,
          -5.297145865084138,
          1.9432813567485576,
          0.4531105727604996,
          6.797159170457519,
          0.1879728390979596,
          3.8630295110095254,
          5.383689861201627,
          10.225316640801294,
          0.04066529163407573,
          -8.649490999671174,
          8.80213951920459,
          -2.0973937405026386,
          3.4310569189387903,
          6.3389557419574,
          -0.22494622598815317,
          5.275670189861219,
          -1.2139814050884077,
          4.140974419426602,
          0.8176029203105657,
          1.2353210561521497,
          0.8978706515449166,
          -5.122874540978561,
          4.247486475768703,
          0.7899594439691189,
          -3.678590868358259,
          7.982883124187275,
          -1.3501466551669974,
          1.7211036540100606,
          -7.971849807179247,
          -2.189652098132558,
          -5.568311473737548,
          0.9649560344796841,
          -4.876113977077297,
          3.689060824277872,
          7.124436810880331,
          -5.119844475340042,
          5.148268166596685,
          -0.779153443001684,
          5.229815897126607,
          -5.320205037870917,
          4.1203700209932945,
          -1.2099388440896748,
          3.7713198960766428,
          -0.2999892817429295,
          0.9196377115860079,
          -2.0771435040547375,
          -2.7167217213365813,
          -2.270855109444037,
          6.04281700551166,
          -2.803122315398598,
          -0.29224472209554764,
          -1.7114754739450948,
          0.5739715022899671,
          -6.08473832110505,
          4.542809750377423,
          0.4234916644442941,
          -3.1737307870465337,
          4.673870293461488,
          9.355202140440927,
          -3.451011902561021,
          -1.3309219795608742,
          -1.2772406432666348,
          -0.8546394250787954,
          -8.051974316399376,
          -0.7893536209077487,
          -1.2951074039579877,
          1.637473590556538,
          4.2744962148211965,
          1.2070003865395476,
          0.1265632131994573,
          3.5518504084218523,
          -6.181280814804312,
          2.590041316004621,
          -3.9047272283471326,
          1.434607879811698,
          -1.1408640076775198,
          -5.782142906309357,
          7.668565414539563,
          -1.0414139911207565,
          7.062897758624587,
          -3.3537372469907023,
          -0.6465504807487097,
          -1.7105085769965087,
          -1.9142834564669227,
          -2.9121283649865926,
          0.8861760945747474,
          -2.941780477312031,
          -4.8695379243058605,
          -1.58335900751176,
          -7.070366294329284,
          4.332231324942127,
          3.2829671376540186,
          2.1858782152913525,
          2.7516811025192194,
          7.798966223020241,
          -2.336888269988705,
          1.7794850343843733,
          3.494185730158037,
          1.1415003124711007,
          4.800728646509471,
          -0.6181301956984336,
          -4.311403045801695,
          -2.941050652852263,
          2.0988779519616774,
          4.2904940469905135,
          2.5647096543604695,
          3.652186327988562,
          -0.25532754817392245,
          -1.6434706270019512,
          -3.4338713195507076,
          0.4183741325921805,
          1.9873828755357223,
          -3.28513951361397,
          5.213946601784237,
          -2.8814216120380074,
          -0.06332813674773319,
          -2.4114641930551293,
          1.1524846041409043,
          1.2145118807957576,
          3.018072727951395,
          1.2462169978827449,
          5.650761419667378,
          1.3644521951655333,
          2.343493115414239,
          -3.6751285366175352,
          -1.2852771107901961,
          0.07823668695296299,
          0.07672983553496293,
          5.698199620715378,
          1.9129605459851398,
          1.3563799011149857,
          0.2769987156675352,
          2.5037305691274274,
          6.263674313946739,
          -3.392929048612295,
          0.3545420248478559,
          -2.5318213256150894,
          -0.001174195129431732,
          1.0300800221728832,
          -5.805404250134325,
          1.2646023147795937,
          -5.996446201049581,
          -1.768282394825246,
          3.7248776424424936,
          -7.350353791914687,
          0.255457183421435,
          2.3917206067202628,
          3.707357572769563,
          -1.0772211193315357,
          -4.467316301996957,
          4.748339674296211,
          4.308502514748959,
          -0.0033927503959021443,
          -3.0944942199343517,
          3.959406049612487,
          0.33362870464383365,
          -3.2120935552225216,
          -0.8247975311181308,
          -6.431837274113353,
          6.473605632310786,
          4.383842818839603,
          -2.3320459766551487,
          0.873036871927761,
          -5.669311180489924,
          2.5834739260765662,
          2.380378946805296,
          -0.5035010903646039,
          -1.205291754276361,
          -3.038187522213153,
          -0.0949487590286181,
          0.21064897487976375,
          4.612398011638234,
          -2.46920182205153,
          -2.6500281943011403,
          -1.654810314981244,
          0.975868280770795,
          1.4601854949605997,
          -0.5911733737982033,
          -0.6274706076896215,
          -1.2371504893198895,
          0.9810030364945672,
          -0.859582864484693,
          -2.1806684824642435,
          -1.3563801766267145,
          -1.2243877326320005,
          7.3535622020723785,
          4.127734770854081,
          3.085814843981076,
          -2.954900532028757,
          2.7687695429772075,
          -0.0772731890016971,
          3.417866863891863,
          2.001690562773981,
          -1.9495428261909318,
          -1.6427089959918035,
          -3.8640364142140937,
          1.1467375070721286,
          -2.503306269648882,
          1.749297787735249,
          -0.16640542012005666,
          1.0969000210937008,
          1.14017666873177,
          2.4581563822342836,
          1.2212130391177363,
          2.66480923665139,
          0.04109585917427999,
          3.1340156704687927,
          -1.1215934956117035,
          0.5928458181832688,
          -0.395683448866194,
          -0.4506896338025599,
          -2.2462142365819906,
          -1.5105494226723677,
          5.913213603994516,
          -0.8784276496975711,
          0.521895158948013,
          3.3696272592765166,
          3.802135501468199,
          2.1017975996938323,
          -1.0842242748746485,
          -3.894202164888785,
          7.393905067611118,
          1.331203416113956,
          -0.5966316110294952,
          1.0892248480481248,
          0.7615932488751378,
          1.8921639935184094,
          7.663138277676817,
          -1.2802850967898953,
          1.2012927124370734,
          1.1258360639049885,
          -0.8051732824873612,
          1.5296579182600865,
          -2.544851162513744,
          1.4560639741157169,
          -0.6836109976588551,
          -2.823339938728843,
          -0.5719436162463984,
          -0.3198364105535896,
          -1.1085512456242763,
          4.114454073635452,
          2.706746526882606,
          -2.6653113887081004,
          -1.3407710487650562,
          -3.2227922599472643,
          5.1749826695191885,
          2.7948855573365416,
          -2.2987841726892864,
          -4.855647478462187,
          -0.5250988686566793,
          -0.45486866957144967,
          2.243256567374161,
          -5.576036265347989,
          -4.3194332501278865,
          -3.043550268413128,
          -0.23919592775829468,
          -3.7476627425113684,
          2.236035086948363,
          -3.94397393191346,
          -4.7794794900943,
          4.538226045152562,
          2.5922511065974265,
          1.7886283742386884,
          -5.000950828200182,
          0.2132461947855585,
          -1.1484669905663922,
          -2.813889570161177,
          -4.589306096992322,
          4.9844632865769505,
          1.8783223951985242,
          -2.173003266612698,
          -3.097593577678643,
          1.8976373890449143,
          -0.5091135979100109,
          -5.561689192392658,
          1.2707296257574119,
          -5.614155350981696,
          5.230507814022117,
          -2.2898422752639274,
          2.250031358081481,
          -3.4384409211540703,
          4.429103442593076,
          -4.4656297376787215,
          -8.076668909809753,
          4.659844343134171,
          2.0687771537374346,
          0.7642853450770747,
          3.6098797145699484,
          -5.32041591105015,
          5.849458993902047,
          -2.0559321715616283,
          0.4898316932312659,
          1.2065234929864272,
          2.6650705974791773,
          -8.04313255301659,
          -1.06913100952473,
          1.7861817802911581,
          -1.1869849483839146,
          0.0999691383471899,
          -1.5457902660962382,
          1.1082456878965508,
          -0.5076735119769702,
          -5.7456290603015985,
          -1.4165468610842995,
          1.7714083734551083,
          -1.1002837835798163,
          3.6960246075299925,
          -0.28826899858917043,
          -1.5907448587359858,
          0.5221979288176881,
          -3.477383105893858,
          -4.745896470076565,
          1.1223932103447953,
          -3.3516869251518053,
          -1.5194643725609227,
          -1.6792400401340324,
          -7.4842445075587065,
          0.5015174961850729,
          -2.3499438289062304,
          3.0622601248507033,
          -1.0723325675757702,
          0.9295852007469638,
          1.48799766019244,
          -2.125772833258897,
          2.437563557515834,
          -3.2907260355223995,
          7.166920141639949,
          -3.9585106623795387,
          -6.780872923328974,
          -3.057426446876611,
          1.5586169660528462,
          -2.263722833874773,
          2.4999008884847442,
          -0.4952088212164458,
          -2.747797109996584,
          0.5602070267825754,
          1.1286974193324453,
          -1.3307226635580458,
          4.336749915739029,
          -3.7396355258423384,
          -0.3762836039137478,
          1.4937125913577223,
          -0.48582295530576713,
          0.7565695476152394,
          -2.6549282309616746,
          -1.2851889707495834,
          -1.2410825638522303,
          7.136209985765279,
          -6.633611871734295,
          0.7478569898516712,
          0.10865625640495691,
          -1.9866282920184855,
          7.703298179409581,
          -0.6654605338631195,
          -1.5835277206944323,
          -1.0335669149545395,
          5.142538070662934,
          -4.096345406512372,
          -0.98261758073359,
          -2.9572656010673217,
          -4.233774450640738,
          6.324483936451815,
          3.305828588579802,
          3.5784252905254146,
          4.292719909536898,
          -0.48344349323719205,
          2.8908859388733488,
          -1.4199090120869942,
          -4.0848261127151675,
          -2.0547451066893974,
          9.19671544380327,
          0.6780477277213781,
          -3.517875730295537,
          -1.1918269223444007,
          -3.2406689987615076,
          7.021260391973928,
          0.9086338409211661,
          -0.6115311116015401,
          -1.187899326577393,
          6.098191802184558,
          0.16875268341087413,
          0.9522977777009403,
          0.37767964541687055,
          6.704833780101386,
          3.2274585136815155,
          -5.877480596770502,
          1.3105720262093739,
          8.125780484229308,
          -3.161932415467262,
          3.9489363552731014,
          -1.2728887326957936,
          -7.976926313627983,
          -0.09651706692206052,
          0.058364904310757804,
          -0.01999584011018829,
          0.6002583264326996,
          1.3242803249573374,
          1.9248782744650113,
          -7.004693608842295,
          -4.293602041339218,
          0.32925115001239624,
          0.2388245882669755,
          1.6407215820103322,
          -6.343052809800107,
          -3.555472093005932,
          -8.062355713678688,
          -1.9871262235308742,
          -1.331604188586819,
          -7.793838024231711,
          2.617061018517892,
          0.5391118746950676,
          -0.02224216175789051,
          -1.679137259933921,
          1.8816230210262201,
          0.5500736585912713,
          -3.5105198208851958,
          -7.437267884587534,
          -0.844369121181791,
          -1.428162353960294,
          0.42325730256606714,
          -3.8649404873754634,
          1.4471892568374285,
          -5.490655379122292,
          0.0020493793310896874,
          2.3805624458826857,
          4.736266311690512,
          8.047021554567156,
          -2.2041999336648113,
          2.3883321657651178,
          0.34588376538802795,
          0.24932769597728427,
          2.608853756985395,
          1.1202171581095273,
          -5.648012181107353,
          5.788307039146483,
          -2.641410687648409,
          0.43728928447225135,
          6.506855785973436,
          -5.654036233615263,
          -3.1998412294475616,
          -3.860776332350163,
          1.7002699865366622,
          1.1582457440107994,
          2.615074173644302,
          0.24856685618842844,
          1.373724206257358,
          -0.578691553556945,
          -2.1116209999287525,
          8.591855632690061,
          -3.246995545259234,
          10.116776194954076,
          -6.527328881563,
          6.3858574891735165,
          3.590816742615883,
          1.974088902395627,
          1.5102708961297817,
          -4.465107605597195,
          -11.067208772240685,
          -1.3013880926780468,
          -0.0004103528119820954,
          -9.386026530182631,
          2.2418013554175396,
          -0.7756707957030107,
          3.6748648247115323,
          -1.6183839742985748,
          7.161859211863785,
          -0.3974645656736864,
          -3.06334838438349,
          4.858296489816953,
          -0.5814957219192725,
          0.5324267803849545,
          2.4309571843224496,
          5.7404002845524476,
          -2.7700979975602467,
          -0.018904054957913474,
          3.299558069602874,
          6.980636497642052,
          2.0050958021827165,
          4.155597530137946,
          0.4583778110001016,
          3.9167105086237353,
          3.3021348609390015,
          -6.7890587978992105,
          -1.9651277833975072,
          1.7881116759729245,
          -0.7902728439045889,
          -1.6975052817742848,
          -0.14018998310524053,
          4.1207542498408944,
          1.824982871411777,
          -6.699396442958477,
          9.21769091609749,
          2.4033138565667818,
          4.690318539379668,
          -6.676813029035012,
          3.9538369833982765,
          1.996898798047639,
          0.8950076330235692,
          -0.8642065659024121,
          -2.064870667620068,
          1.1494994315665612,
          -1.2844002524540332,
          -4.929705322362814,
          -1.2041136469319067,
          5.419184313297949,
          1.9061006409586443,
          -1.2486132034778048,
          -4.89765294650838,
          -4.281300097339782,
          1.2718261442564731,
          0.9602468458166187,
          0.6899480826803692,
          5.661684914926226,
          4.423764242791064,
          -1.9240794657262925,
          4.60189866621572,
          -3.2121176217620935,
          10.3485618586944,
          0.4222284839972956,
          -0.6155713802197958,
          -0.1592600660879746,
          1.5947539826657973,
          3.967698484440826,
          1.9218826300084442,
          1.6377810025985444,
          -1.0705893851093498,
          -0.41708634734302136,
          -1.3204338244219578,
          -4.0338121035291215,
          4.411394904143134,
          -7.315261193713181,
          -4.903582191663046,
          2.790273529937572,
          -5.184757530991393,
          -2.1125200216263527,
          4.52234729094666,
          2.543714218335859,
          9.059904996130976,
          -2.1912805539051416,
          -0.36604259767108166,
          -3.908139885608013,
          1.676724301259697,
          5.561577931651628,
          -3.0033021395536297,
          -2.2409013450712107,
          1.694139050530488,
          2.101548792235909,
          -2.759330668241001,
          1.1553357037678622,
          3.640784051929106,
          3.430091570518388,
          -2.977840348005662,
          -2.8124607799084003,
          -2.595618580852053,
          0.4672238128920656,
          6.119780928271205,
          0.31454094894345097,
          -0.5930561826184808,
          -1.453934425587966,
          7.03506759259912,
          -3.4334258869749092,
          1.515353642773889,
          5.435542306987926,
          6.470434415031451,
          0.660427640631714,
          -0.3984327527824685,
          -4.448846149854816,
          0.5545033365822765,
          0.07311220761175008,
          0.8433937516250938,
          -0.9709303607858759,
          -0.17118130676839205,
          -2.18691159236557,
          6.352100380215203,
          -0.4722574427480925,
          -4.716807592590668,
          -5.406520118128988,
          -1.5820640119745395,
          0.5018190145576544,
          3.023451189009301,
          0.6402824048129858,
          3.209374502140728,
          5.090758457094099,
          -4.617373287184757,
          0.47084194360165055,
          0.3786829972472687,
          -8.467158957734824,
          -2.125100994822083,
          5.558831928606964,
          1.3232410269513766,
          -6.734742662435986,
          -1.3330258768148653,
          -1.749674527414854,
          3.1549902441974527,
          -5.204287792713521,
          -4.971057927496221,
          -1.8364712465122826,
          0.0712557579368138,
          -1.9893322936801485,
          2.6189075478213155,
          7.455827928637836,
          0.36422226833889837,
          2.4655980656547145,
          3.3304714649427947,
          -1.3794817652845663,
          0.5126313533721527,
          0.09825570207178583,
          -1.9866555479175134,
          7.286888790341329,
          2.8938822414371566,
          -1.7397299270494897,
          4.209392500993104,
          -0.9914059505113004,
          -1.7949294004127965,
          3.980844749099068,
          -0.8060931957326667,
          -6.695835539727069,
          3.9624410874967824,
          -3.0976712097899988,
          3.548239957116722,
          0.06447986639302306,
          -3.2075165039021685,
          -1.6710919008008331,
          5.6462318850856725,
          1.1259451356709431,
          4.5742537074875,
          0.4009032145676972,
          1.0428586864060105,
          0.9164794423622618,
          -1.3946138536971806,
          -4.026364336828181,
          4.08939247536536,
          3.657437090094505,
          3.4546718533400447,
          2.323864065925361,
          10.58016427553179,
          -1.8629194535475195,
          -0.6352347649409223,
          -0.015437128837154868,
          1.5006226544560377,
          5.10938138580795,
          -2.7283939606209646,
          4.147779220756234,
          -6.844859609064069,
          -2.017813295423488,
          -7.217580793752194,
          -7.841370384447634,
          -2.0760911042131407,
          -2.0573885529648064,
          4.387666243397625,
          -4.207302094682365
         ],
         "y": [
          -10.02171143446227,
          -4.5112104941895055,
          3.8250662003658933,
          1.8561737897973107,
          1.352477765202043,
          2.053346514466918,
          7.912250931141237,
          -1.8542033820175203,
          -1.0159463671449096,
          0.4616290862681886,
          -2.7565485281015123,
          1.8750689000869278,
          6.43857659181323,
          1.7200286926369006,
          -9.170660494281865,
          -0.82829461680672,
          0.12781409173661823,
          -0.36199924721250476,
          -1.8294549859649265,
          3.2142970824991526,
          -4.258771156997559,
          0.5314120186673378,
          -3.197451486034822,
          3.6361911794515893,
          0.09863954809236333,
          -0.3462721044753261,
          0.26278825855174637,
          5.515379257642057,
          -4.266059854175073,
          2.342558084805896,
          2.3904803071185974,
          1.5021593857432427,
          -0.8208903363258034,
          1.4418275862224463,
          0.6288321897075948,
          -0.6144154619382883,
          1.6941308249503146,
          -5.29830891902448,
          6.396013841140864,
          -0.35228416854748346,
          -3.4359806064327505,
          -1.6536969810547935,
          6.404704305114938,
          -3.262634914263032,
          -5.761838302530461,
          -5.419438897541197,
          1.006063805042614,
          -8.059049811979497,
          -2.71243348317167,
          8.966092589289604,
          -0.024359583464943713,
          -0.34114268493599237,
          3.158382247330622,
          -3.2747818938893403,
          -7.187133238976006,
          -3.991589927136238,
          0.05861316363278557,
          2.844972024285484,
          8.488838003332269,
          -0.9844033267793328,
          -2.1916138434096295,
          7.359488709256348,
          2.667381968379491,
          2.936783107905001,
          -1.7832585747275367,
          -11.063053319346698,
          4.224871416578403,
          2.7723163558952515,
          -0.1273093242476469,
          -1.144445330270556,
          -2.7377168294983645,
          -7.648719756554752,
          -3.490069961521894,
          -3.7167950768516835,
          9.547868410065721,
          2.2986085587332195,
          6.913287926766391,
          -0.7137599657269788,
          6.82729311081752,
          -4.184099828454283,
          5.920349984413137,
          10.473108881409997,
          -6.33453440973757,
          -5.124538042245397,
          -4.2693635972121,
          -4.021732951180938,
          0.7292522870088184,
          -6.5192897438029185,
          -2.6011994952743223,
          -1.5447426153280395,
          -7.013990586172262,
          -0.8242732395731488,
          -5.058085153812035,
          1.74673794624425,
          -4.150998774860517,
          9.095469886156959,
          -1.1091318709312286,
          -2.9746797770959352,
          -1.4185386818274508,
          -0.5594892144085226,
          -1.8714974204895651,
          -1.7536530336011575,
          2.402885780701962,
          3.601047566311242,
          5.936683803948893,
          -9.526442981281924,
          2.27114366512544,
          -4.589154847303807,
          4.818961904701053,
          -8.753881437414874,
          11.302188588228884,
          0.6631866468474167,
          -10.825673990458863,
          -7.488489923161048,
          -0.2220108974684486,
          5.163158287308075,
          -0.45221611728152916,
          -4.307953777726275,
          1.4294095948734,
          -4.346881224343861,
          -8.728457443828601,
          -6.28505224070666,
          3.6317936201715653,
          -8.6802002111562,
          -11.126322450098533,
          -1.0117006212180986,
          -2.770130059948733,
          4.629080559265679,
          2.2313569631790053,
          2.2555082729136102,
          10.576612896897517,
          0.32825424750511734,
          3.561988067189084,
          6.913853777028114,
          -5.684755912475657,
          3.666716076077882,
          4.600003696775224,
          -7.065417188199352,
          -1.4804861846234654,
          -5.375918528851298,
          -2.0630556062301872,
          -6.777409541117972,
          -1.3513116138102506,
          -3.822436751878347,
          0.1874788560220615,
          3.313582988791032,
          -3.481474751712856,
          5.831073273040134,
          -2.274433369318788,
          0.17042941369508174,
          -1.3571603041916633,
          4.330826051707815,
          -9.908318393054486,
          -5.337352630401735,
          -6.37216681892611,
          -1.5253306032715326,
          -7.078850701680717,
          -0.7796232229170814,
          1.6535835092418294,
          4.75739193678101,
          3.5255314705220004,
          -2.2131157143918254,
          -7.097681390017374,
          -9.8990673247764,
          2.295378711887646,
          -5.874943226621038,
          5.296048110706831,
          7.834739268165455,
          -5.304986828697431,
          0.6329704035522854,
          -13.451445892188946,
          10.314994298167552,
          -0.14949902951583127,
          2.117308448958426,
          1.423791267195343,
          1.7360342887811588,
          1.6428983285632575,
          -4.52585364033177,
          4.763094171073544,
          -5.403059921372972,
          4.849866464782087,
          6.920652039537031,
          -3.6846903536298115,
          -4.72253765453701,
          -2.354039581185314,
          2.526402712782918,
          -8.09923045586871,
          6.304431036562713,
          -0.10566265503119454,
          -2.595720693410839,
          7.746867061693726,
          -3.6678441615571056,
          4.140196478294723,
          -1.6521387248511827,
          -2.1126973603052517,
          -7.381874400889345,
          6.032861697432403,
          5.659092362460219,
          -0.873958294347554,
          -9.390137101394473,
          3.315646241369442,
          3.055457757283665,
          -4.60126145566415,
          5.726969267385924,
          -4.681914414798254,
          2.162935734391131,
          -6.826375955552441,
          -6.667614472316966,
          -4.611315802776248,
          -8.775526091269612,
          -0.6011105692813352,
          -5.565575074780778,
          -11.118787876170313,
          1.9453745299526706,
          -8.538469264435504,
          -4.055457624107231,
          -4.2251920309451165,
          11.022212486507362,
          -0.8165547106398013,
          -13.345627441846858,
          -16.975953430796082,
          -5.011255740500636,
          -6.142317363369649,
          -1.7056053445029586,
          0.8675845885108029,
          12.870350516143262,
          -4.736713161867146,
          -4.12586574833562,
          -2.3255265231875137,
          1.3245477470624274,
          3.7705399378301676,
          -2.6859357686891574,
          5.176197267856299,
          3.1167554191324993,
          -2.33561823384316,
          -0.48413405196465886,
          -0.8429036802193964,
          -1.701123474350145,
          -6.537429022266014,
          -5.371238621664887,
          0.42897296749808234,
          0.32889119965120894,
          -5.090382707841364,
          -11.0514913472445,
          -7.093503468857103,
          0.17474939723585245,
          0.42293683543025806,
          -4.431327701544024,
          10.933398611043415,
          0.39574577830091484,
          2.291034673320901,
          2.540826833114907,
          7.885427380889619,
          2.7749669670351835,
          2.2494345361135717,
          8.433492803498716,
          -1.8875026451495456,
          -8.2154394021411,
          0.8778392896506535,
          -5.95402081488478,
          9.295511055257483,
          -2.6499608827087857,
          6.056162382921897,
          1.5640839714084303,
          -1.1909562929486055,
          -3.496505149177839,
          -5.204291285330144,
          10.22954215841258,
          5.388883627258188,
          -1.8636651930786041,
          3.633227228027096,
          2.992799160625209,
          -8.900030205245542,
          -12.216984276821867,
          3.549223262108483,
          -4.392265345025506,
          -6.434789922288237,
          0.9756666300703072,
          -2.6785993645043726,
          2.9473057678992003,
          -6.801004779106482,
          4.224763897681824,
          10.542071114410437,
          4.476825676377861,
          5.364226492382147,
          4.253987145985237,
          -4.734414383246392,
          -10.317858571445441,
          2.2930352574124173,
          -6.959900177511146,
          6.548630102185071,
          -2.4703767967550085,
          -10.235685859652623,
          5.278953327634328,
          -7.265374929759924,
          3.651068091700174,
          -2.0910986252444097,
          -2.937301385256771,
          -9.447097926199419,
          3.2379314898655673,
          6.096821000499617,
          0.6288996153061737,
          3.577892226443834,
          -2.484672432550698,
          4.370755353591169,
          0.8579272619753657,
          -7.471314623637951,
          -3.770976833266257,
          -0.031796779452777035,
          -0.9364162230263933,
          10.804256672658044,
          5.110603462658027,
          3.774403288552385,
          -10.501821721128282,
          -5.0449957248638375,
          4.583531057274691,
          0.09455462786665858,
          -0.2872403091189715,
          -1.5278867677365056,
          -9.841539843515106,
          1.8999653978684161,
          2.3019826089169184,
          -8.988218675988836,
          -7.700818374796633,
          -1.3034995269341,
          1.2034722442821684,
          3.7877498792721105,
          -3.735059219578897,
          -10.193817649657209,
          5.956361177199096,
          -0.23684150793061076,
          0.3447863000812963,
          -6.354236512350649,
          6.883473800031591,
          2.690948038309515,
          -0.7191055030877087,
          3.4099400828723,
          -1.8408128125336165,
          -7.95357434653281,
          -3.148071172330276,
          -7.387487267069368,
          0.6499716148068345,
          -6.9607340352662606,
          -5.480610674414759,
          -4.553580285559016,
          6.12653916473135,
          4.119330721949884,
          0.366784262063418,
          8.354962256768145,
          -5.200517203800789,
          6.247207772370222,
          0.18195078786455712,
          10.147645979262931,
          -2.083869553419681,
          7.063282491084558,
          7.583573756618648,
          13.834785516495781,
          -2.5275298363860275,
          -14.165986008330764,
          12.30244524289327,
          -2.1936723942254606,
          4.702923922330851,
          9.143193182654338,
          -1.5715618047397228,
          3.649422464315434,
          2.133539869209385,
          7.22106125540896,
          4.003066434216134,
          0.8521453596256179,
          1.2288086317355744,
          -5.5512865994585665,
          3.650901869004466,
          0.44659119578049056,
          -3.6499729711854845,
          10.827135763998593,
          -2.604890095047279,
          4.437593837977109,
          -5.546297191841317,
          -1.1760138633928987,
          -1.9457598443367647,
          4.712469065550975,
          -6.918863634277232,
          2.8658442119752454,
          6.92133439118475,
          -7.651476205887194,
          7.98789144401514,
          0.8779033982567019,
          10.762835390604028,
          -3.679667298542123,
          4.728497254574716,
          -1.2869951633269925,
          -1.308447351260463,
          5.082464643669457,
          2.4107902279909794,
          -3.7134004456722294,
          1.697992652560974,
          -2.462486367457549,
          1.8364423947611064,
          -4.766430153254263,
          -2.6458439535953913,
          -4.58638988309216,
          -1.8361085647016164,
          -6.728469302754343,
          3.8166981282286705,
          5.393639879015618,
          -1.2579208073264456,
          3.6634559185486295,
          4.033602634199864,
          -0.3377227145306747,
          3.2177358490485535,
          -2.3806414478092135,
          -0.13455488291953427,
          -10.349331767375395,
          -1.3933995483207462,
          -4.700628432906228,
          -1.1398326305881812,
          4.4546798020771154,
          -0.20445799456459357,
          -1.647324918325701,
          4.667198834689922,
          -2.219665159441834,
          6.514391239253312,
          -4.811933435110271,
          -0.5754556806967968,
          -1.7690464589487152,
          -5.229744353193972,
          6.857516432287687,
          -5.774372615719622,
          8.576465608949173,
          -6.801196987536254,
          0.11386938021782078,
          -2.4250418625588526,
          -4.261076785956814,
          -2.306552655713158,
          -0.014392509816235688,
          -5.9784085555992625,
          -7.681300010427659,
          0.15723244491274158,
          -4.9067212824430175,
          6.414748428967098,
          8.204936889267968,
          5.310696904996774,
          1.2345983973522867,
          10.637060613881317,
          -5.72398163131799,
          2.9772635780171552,
          4.472116297999581,
          1.7066794298039056,
          4.323920086082354,
          0.3531195647295839,
          -6.44664905571244,
          -5.183392525804102,
          0.08958405250575674,
          4.763466204017396,
          7.936647231360064,
          6.105292299064674,
          -1.5293391543440364,
          -4.809051781974632,
          -6.338744032736782,
          1.9746767575279254,
          -0.1985598417430512,
          -1.1928381612837418,
          6.283567932777357,
          -4.399045508328759,
          2.082663557749169,
          -4.432400394345096,
          -1.3561435243043136,
          1.635742761454928,
          5.632706055061477,
          -3.446233055971699,
          12.442000530579714,
          2.9212418145287895,
          0.5585406210346147,
          -6.895308569938685,
          -1.0826940469313318,
          -0.9533441240083038,
          1.535800605890068,
          4.496498415104288,
          3.0033482197327137,
          2.461783310404577,
          -1.8373934549220934,
          12.156138492612346,
          4.522078042563922,
          -3.9345997508316852,
          -1.3979726384473357,
          2.248797272801583,
          1.5521599554920458,
          -4.774156441917473,
          -7.832667611375787,
          2.9731473038068468,
          -6.480093872104238,
          -0.2933256216070166,
          3.7094024367747873,
          -7.625663664527564,
          -4.213573943124015,
          1.850090283667269,
          5.8905748360855545,
          2.8295593207881367,
          -10.12412591176673,
          -2.3273970025231314,
          4.285214663709163,
          4.675805027817022,
          -4.837763769474403,
          1.5769939841829221,
          1.7246067419791271,
          -0.7469566515322625,
          -1.7889362313735415,
          -7.805626687524089,
          7.465610534936658,
          8.391429124011054,
          -1.811970224647812,
          2.5890992979558978,
          -8.175464624742292,
          11.001971955095156,
          3.49761854723769,
          -2.0721345889462524,
          -1.5245865436078283,
          -0.06799009416168889,
          -2.3445755261244448,
          2.5884516263831805,
          7.355859969834396,
          -6.834431239973812,
          -2.4287208509867613,
          -2.6260621025318414,
          3.009029825231832,
          -0.4277609936406517,
          -1.6196344832757554,
          -1.054653462897422,
          -2.3647639503126228,
          0.49180351293503094,
          -0.5107054833526904,
          -1.9516730251147596,
          -4.603741951477721,
          -0.5606631437164773,
          9.469341646159394,
          5.054736046231467,
          6.030420055445296,
          -5.984378269098464,
          7.784724344300444,
          -1.1613642021848092,
          7.065090637634974,
          3.468105372923288,
          -3.3031034080014177,
          -1.314256035654799,
          -3.129904967513888,
          -1.5826111760554191,
          -1.6666024080389916,
          1.7290561102297768,
          3.2702743069726377,
          0.7344584872585664,
          4.353013651006092,
          0.10764789149534093,
          0.4411198378539141,
          1.9539905704083678,
          0.9105419512519659,
          4.404195767582421,
          -0.430274275923523,
          5.309605955818572,
          4.692779488037896,
          -4.542771547158185,
          -3.0325058978692936,
          -0.6393202556096091,
          3.441725204761883,
          -4.130739295000734,
          -0.8989773006302983,
          3.2917312284581537,
          5.598150099897718,
          -0.928481091424328,
          3.116190064802327,
          -4.841677700921189,
          16.091540688204372,
          2.460180143434808,
          -1.6812659710630409,
          4.243435250329152,
          -3.5096722862989607,
          5.168165000043076,
          7.96406185730366,
          -0.6722505050250611,
          -0.4586480890450927,
          -0.13411874637912446,
          3.851142460405886,
          3.7180779172840337,
          -6.421258186536125,
          -0.7567462116175293,
          -0.6450123175882707,
          -2.942418911625916,
          -0.2312663125247938,
          -3.680751940102637,
          0.08669793588924513,
          3.8817295235048377,
          2.125261151066063,
          -4.235199419415148,
          -1.2390002817207448,
          0.8271935874325439,
          7.656701684489477,
          5.9892834071099905,
          0.6685904687735652,
          -4.61588575255438,
          4.337662174776646,
          -4.773364658977761,
          3.3364471008077703,
          -7.0618508079006945,
          -5.392725560575076,
          -0.5865115485707506,
          -5.753510067120826,
          -6.833241636710738,
          0.0554262210954537,
          -4.326246494854822,
          -1.3821894312697434,
          2.7016110215701485,
          4.561476242738411,
          4.9008152193123005,
          -13.892772028276692,
          2.3718819708049885,
          -1.03002088108776,
          -2.2094091391525312,
          -3.4182670719536663,
          6.618614164336198,
          2.2927717429281262,
          -4.036072406355957,
          -6.186007770593644,
          -2.1955673011135115,
          -1.799177270672701,
          -7.301210433836745,
          5.895958905531977,
          -5.964256485237948,
          9.330435789949663,
          -4.032508340196973,
          6.784906129140739,
          -1.9451313859252988,
          3.812667368182107,
          -2.2109483866128503,
          -9.063464368756236,
          3.7530720215162754,
          6.326119322779577,
          1.9145229300319784,
          2.559981643658758,
          -4.109920126812012,
          8.405415391533152,
          -5.196434544176786,
          1.0692086779946763,
          -0.28825298370179214,
          5.569290431901589,
          -13.696496891282885,
          1.119790995246603,
          5.70794906439385,
          -2.160470101985445,
          5.493766012246095,
          1.34092108573973,
          -1.0307073766090444,
          -7.083275394961681,
          -6.492380842109986,
          -4.4897194169929495,
          1.1031851807144113,
          -2.530315924461577,
          5.421653781960509,
          0.6913567410355406,
          0.2344052462470625,
          -3.671912895129136,
          1.9070691531296096,
          -9.195370140442702,
          1.5426624978473509,
          -5.623102363293048,
          -3.872881623915744,
          1.8944982593012951,
          -10.722433094047567,
          -2.4083665558836422,
          -4.620378823538421,
          3.104217362341033,
          -9.007501756939297,
          -0.04021782440210503,
          -2.0420554034643823,
          -5.377911582774038,
          2.0995788348883657,
          -1.3888243230500021,
          9.80833101692702,
          -5.843444267447473,
          -4.810021000521408,
          -9.159986105559275,
          2.501013381625191,
          -5.563521760403442,
          -1.5980566414469641,
          3.52165752049038,
          1.675161631647318,
          3.3026264915379824,
          -5.031109008342491,
          -0.8295312633533535,
          1.3537685885041921,
          -7.973684025144341,
          6.861148301610392,
          -0.42796532842532214,
          4.038462881685691,
          -2.0944217954254833,
          -6.127373251935936,
          2.6426058674140736,
          -0.07967735228526007,
          8.565458139213032,
          -16.271555025378117,
          -2.2485488559461415,
          -3.4243491381268303,
          -0.5563923236946735,
          5.873141339637533,
          0.8507720580654188,
          -6.162884879173159,
          -0.3264677279348044,
          11.82110473657169,
          -2.3974161719754026,
          -1.1452775173756844,
          -6.166820621837857,
          -3.56803780562701,
          9.501191165265825,
          5.850191795818328,
          3.650357111524697,
          9.394383549208444,
          -0.12141394671802083,
          2.0575887891047198,
          -1.9182908767853293,
          -3.7232926647638678,
          -2.3658011936262584,
          8.35708370783609,
          -0.7869223118895874,
          -0.24030760938519613,
          -6.601797723504089,
          -3.862207858676323,
          8.084373690811146,
          6.560340162056315,
          -0.48803234840038556,
          -1.2363805279512752,
          5.269107977580661,
          -2.526758729384358,
          1.2108363362329109,
          1.5072750982354215,
          12.789485903764573,
          2.983980674397445,
          -4.084118749235946,
          3.6829922615632924,
          11.46353294655553,
          -6.745522644153638,
          0.9522395994879325,
          -1.5662345018403818,
          -7.350306954436007,
          -0.6172026829630353,
          2.1056988940347208,
          -4.093753379926745,
          0.25657482186718755,
          -0.24323128068991562,
          5.628856175180282,
          -9.77838747834447,
          -1.870241386538395,
          -3.538924235359801,
          1.933919335743124,
          -1.369984709404942,
          -5.053395034397017,
          -2.5501153794179237,
          -9.209423755080799,
          -1.9948112113711938,
          2.3281478441894965,
          -7.496659504001144,
          1.0539959650223325,
          3.430066043018652,
          6.385009827047118,
          0.43990084095177273,
          -0.6072914826286647,
          0.45649353045683194,
          -5.371377334118386,
          -7.124474518545662,
          -2.630125855059517,
          6.328187558293775,
          -1.250173818822463,
          -4.364837302206375,
          7.691855057703106,
          -4.808981832938731,
          -0.22243725604647682,
          9.712553468233438,
          9.416850939779652,
          9.578225833561374,
          -7.661961926545003,
          2.0715520307824185,
          0.2670818190261603,
          -0.9203186369748644,
          1.43294896466526,
          1.112456112353133,
          -7.567319392606975,
          4.89865054520811,
          -2.632486733830264,
          -2.391650645556337,
          8.362160347725125,
          -7.386517342803242,
          -2.9336392549927073,
          -6.140191671888914,
          1.8166745041404884,
          -3.3590741791291228,
          3.017836450073186,
          6.229829702692651,
          3.143909658642624,
          -0.3188125685256141,
          -6.302691726937946,
          11.294307640031679,
          -1.5033931944210412,
          16.257573313334692,
          -4.4566456816189,
          4.617030625713737,
          1.122334934669881,
          -2.795411902197733,
          0.3290815953270394,
          -3.731253333468013,
          -17.454271635102668,
          -1.8259280049859563,
          -3.799305267703894,
          -16.759965354831465,
          4.412900295720289,
          2.1127538452938075,
          5.899964862466829,
          -3.49946235516526,
          10.208579585974134,
          -3.423012009066559,
          -6.182951315981051,
          4.555724800645831,
          -0.2098880141309662,
          -2.785722233888072,
          5.198712877685239,
          8.41488438362522,
          -7.047644856034405,
          -1.9290705647598636,
          3.766737352968523,
          10.26238193751944,
          3.3971386295572925,
          1.3195643153269074,
          0.8660487329333182,
          9.229151025179956,
          5.025162366649857,
          -11.973539664949502,
          0.2182952123945766,
          7.6149447155276,
          -2.9123046495502667,
          -4.385093711138196,
          -0.7371030496972438,
          7.944226467232067,
          5.610568920913339,
          -12.596716994465803,
          9.309840097297528,
          5.834375328254935,
          8.636343721053244,
          -3.784567679328709,
          8.220926197885614,
          2.1665399129804457,
          3.757091340017174,
          1.502729078531503,
          1.0590600093104086,
          0.1743606576006559,
          -4.010965766755435,
          -4.192457876015034,
          0.4858262034173877,
          6.4632004260284,
          3.706579905936245,
          -3.399743308258061,
          -6.983377236235997,
          -10.683459306225869,
          2.836329169179698,
          -0.981842899264117,
          -1.2912981895671845,
          5.7266705465035415,
          2.3301941621093327,
          -8.18884396158176,
          5.345199938241218,
          -9.597297741599633,
          14.472972348340619,
          1.8921833436462492,
          -2.491006186510304,
          -1.8809795631194248,
          2.6875453187194323,
          5.907564106603018,
          -0.5010959656638908,
          3.1548746079143113,
          -8.77789472870028,
          -0.6700508250422587,
          3.5677881102461226,
          -8.325082644531939,
          6.569570165692791,
          -12.984016163322307,
          -10.054089122825202,
          -2.9512121119461634,
          -3.5349519567116516,
          1.7533788400231416,
          3.334749020785102,
          7.476357455310457,
          12.713890641817574,
          1.2394772424449148,
          0.4247036029279226,
          -4.167958337467489,
          -0.9132680006445939,
          7.783200146968456,
          -1.1359378592296858,
          1.875177702347942,
          5.060155276404524,
          4.803690449759336,
          -8.266590295623487,
          2.2180178845625793,
          -1.7365449279450746,
          3.097634079997276,
          -0.5145034166278046,
          0.08076211354409413,
          -5.7203625177733555,
          -3.0979855349837857,
          4.676537605954874,
          5.916507983906681,
          1.0502849931580287,
          -2.4322758764965204,
          10.325932248337743,
          -1.347111338470586,
          2.9801756093179756,
          5.698647413669069,
          5.029870915241975,
          5.153232759191267,
          -1.8493875830742827,
          -3.582877010655,
          3.4019356919380557,
          -1.5786665628058638,
          1.654828342774103,
          -2.854394118047903,
          -1.8771726482536897,
          1.6684642671341903,
          13.153961913750933,
          -0.02839591649239742,
          -7.997350689573415,
          -7.352385996231671,
          1.1904267482366397,
          -0.8348924584802176,
          5.824568286223928,
          3.6584893722946052,
          4.483695355359241,
          0.605779913049445,
          -1.2184244963794895,
          -1.5093571944192798,
          -1.7893321656105132,
          -10.219966647646382,
          -5.749932327602229,
          6.106387153479886,
          2.9622358969051237,
          -10.565422555927967,
          -4.2417237971828925,
          1.3399378551619237,
          3.940769126543917,
          -10.230364903208653,
          -5.41697229297295,
          1.721970625055763,
          0.1356905158931876,
          -4.0718895901041305,
          5.80727671312494,
          3.6370362249605885,
          2.4730407526373535,
          -3.156898177680462,
          1.6032822351660159,
          -2.5620697362447973,
          0.9832144860503089,
          -0.36269370965854564,
          -5.21446113955892,
          5.3578957142808274,
          1.5949132336993523,
          -4.143146185087516,
          4.152035554666609,
          2.7143149289529838,
          -5.227061358302966,
          -0.7184069126850701,
          -1.0679565583270791,
          -11.54658755735336,
          6.986827565220569,
          -8.99690076954466,
          4.2396536124271424,
          1.661315651200001,
          -2.7445852992173454,
          -9.269224404334354,
          11.84674013779835,
          2.1419311246197794,
          8.772625322565002,
          -0.5194416120933876,
          4.324610854813857,
          0.6097504269645475,
          -2.667458762253165,
          2.9950383190220515,
          8.141755693948594,
          2.28953703439735,
          3.5193106111703254,
          4.286962304237911,
          14.5097476659122,
          -2.2289594793305136,
          1.971880531303352,
          -0.9126537823138067,
          -2.144672961621503,
          3.118909022913625,
          -6.533260971501127,
          0.5596287720966409,
          -9.735539987697999,
          -1.507030027429826,
          -8.52814913430314,
          -11.787166796982303,
          -3.728389208602438,
          -3.9049382113600952,
          7.698901778740517,
          0.02861819233167795
         ]
        }
       ],
       "layout": {
        "template": {
         "data": {
          "bar": [
           {
            "error_x": {
             "color": "#2a3f5f"
            },
            "error_y": {
             "color": "#2a3f5f"
            },
            "marker": {
             "line": {
              "color": "#E5ECF6",
              "width": 0.5
             },
             "pattern": {
              "fillmode": "overlay",
              "size": 10,
              "solidity": 0.2
             }
            },
            "type": "bar"
           }
          ],
          "barpolar": [
           {
            "marker": {
             "line": {
              "color": "#E5ECF6",
              "width": 0.5
             },
             "pattern": {
              "fillmode": "overlay",
              "size": 10,
              "solidity": 0.2
             }
            },
            "type": "barpolar"
           }
          ],
          "carpet": [
           {
            "aaxis": {
             "endlinecolor": "#2a3f5f",
             "gridcolor": "white",
             "linecolor": "white",
             "minorgridcolor": "white",
             "startlinecolor": "#2a3f5f"
            },
            "baxis": {
             "endlinecolor": "#2a3f5f",
             "gridcolor": "white",
             "linecolor": "white",
             "minorgridcolor": "white",
             "startlinecolor": "#2a3f5f"
            },
            "type": "carpet"
           }
          ],
          "choropleth": [
           {
            "colorbar": {
             "outlinewidth": 0,
             "ticks": ""
            },
            "type": "choropleth"
           }
          ],
          "contour": [
           {
            "colorbar": {
             "outlinewidth": 0,
             "ticks": ""
            },
            "colorscale": [
             [
              0,
              "#0d0887"
             ],
             [
              0.1111111111111111,
              "#46039f"
             ],
             [
              0.2222222222222222,
              "#7201a8"
             ],
             [
              0.3333333333333333,
              "#9c179e"
             ],
             [
              0.4444444444444444,
              "#bd3786"
             ],
             [
              0.5555555555555556,
              "#d8576b"
             ],
             [
              0.6666666666666666,
              "#ed7953"
             ],
             [
              0.7777777777777778,
              "#fb9f3a"
             ],
             [
              0.8888888888888888,
              "#fdca26"
             ],
             [
              1,
              "#f0f921"
             ]
            ],
            "type": "contour"
           }
          ],
          "contourcarpet": [
           {
            "colorbar": {
             "outlinewidth": 0,
             "ticks": ""
            },
            "type": "contourcarpet"
           }
          ],
          "heatmap": [
           {
            "colorbar": {
             "outlinewidth": 0,
             "ticks": ""
            },
            "colorscale": [
             [
              0,
              "#0d0887"
             ],
             [
              0.1111111111111111,
              "#46039f"
             ],
             [
              0.2222222222222222,
              "#7201a8"
             ],
             [
              0.3333333333333333,
              "#9c179e"
             ],
             [
              0.4444444444444444,
              "#bd3786"
             ],
             [
              0.5555555555555556,
              "#d8576b"
             ],
             [
              0.6666666666666666,
              "#ed7953"
             ],
             [
              0.7777777777777778,
              "#fb9f3a"
             ],
             [
              0.8888888888888888,
              "#fdca26"
             ],
             [
              1,
              "#f0f921"
             ]
            ],
            "type": "heatmap"
           }
          ],
          "heatmapgl": [
           {
            "colorbar": {
             "outlinewidth": 0,
             "ticks": ""
            },
            "colorscale": [
             [
              0,
              "#0d0887"
             ],
             [
              0.1111111111111111,
              "#46039f"
             ],
             [
              0.2222222222222222,
              "#7201a8"
             ],
             [
              0.3333333333333333,
              "#9c179e"
             ],
             [
              0.4444444444444444,
              "#bd3786"
             ],
             [
              0.5555555555555556,
              "#d8576b"
             ],
             [
              0.6666666666666666,
              "#ed7953"
             ],
             [
              0.7777777777777778,
              "#fb9f3a"
             ],
             [
              0.8888888888888888,
              "#fdca26"
             ],
             [
              1,
              "#f0f921"
             ]
            ],
            "type": "heatmapgl"
           }
          ],
          "histogram": [
           {
            "marker": {
             "pattern": {
              "fillmode": "overlay",
              "size": 10,
              "solidity": 0.2
             }
            },
            "type": "histogram"
           }
          ],
          "histogram2d": [
           {
            "colorbar": {
             "outlinewidth": 0,
             "ticks": ""
            },
            "colorscale": [
             [
              0,
              "#0d0887"
             ],
             [
              0.1111111111111111,
              "#46039f"
             ],
             [
              0.2222222222222222,
              "#7201a8"
             ],
             [
              0.3333333333333333,
              "#9c179e"
             ],
             [
              0.4444444444444444,
              "#bd3786"
             ],
             [
              0.5555555555555556,
              "#d8576b"
             ],
             [
              0.6666666666666666,
              "#ed7953"
             ],
             [
              0.7777777777777778,
              "#fb9f3a"
             ],
             [
              0.8888888888888888,
              "#fdca26"
             ],
             [
              1,
              "#f0f921"
             ]
            ],
            "type": "histogram2d"
           }
          ],
          "histogram2dcontour": [
           {
            "colorbar": {
             "outlinewidth": 0,
             "ticks": ""
            },
            "colorscale": [
             [
              0,
              "#0d0887"
             ],
             [
              0.1111111111111111,
              "#46039f"
             ],
             [
              0.2222222222222222,
              "#7201a8"
             ],
             [
              0.3333333333333333,
              "#9c179e"
             ],
             [
              0.4444444444444444,
              "#bd3786"
             ],
             [
              0.5555555555555556,
              "#d8576b"
             ],
             [
              0.6666666666666666,
              "#ed7953"
             ],
             [
              0.7777777777777778,
              "#fb9f3a"
             ],
             [
              0.8888888888888888,
              "#fdca26"
             ],
             [
              1,
              "#f0f921"
             ]
            ],
            "type": "histogram2dcontour"
           }
          ],
          "mesh3d": [
           {
            "colorbar": {
             "outlinewidth": 0,
             "ticks": ""
            },
            "type": "mesh3d"
           }
          ],
          "parcoords": [
           {
            "line": {
             "colorbar": {
              "outlinewidth": 0,
              "ticks": ""
             }
            },
            "type": "parcoords"
           }
          ],
          "pie": [
           {
            "automargin": true,
            "type": "pie"
           }
          ],
          "scatter": [
           {
            "fillpattern": {
             "fillmode": "overlay",
             "size": 10,
             "solidity": 0.2
            },
            "type": "scatter"
           }
          ],
          "scatter3d": [
           {
            "line": {
             "colorbar": {
              "outlinewidth": 0,
              "ticks": ""
             }
            },
            "marker": {
             "colorbar": {
              "outlinewidth": 0,
              "ticks": ""
             }
            },
            "type": "scatter3d"
           }
          ],
          "scattercarpet": [
           {
            "marker": {
             "colorbar": {
              "outlinewidth": 0,
              "ticks": ""
             }
            },
            "type": "scattercarpet"
           }
          ],
          "scattergeo": [
           {
            "marker": {
             "colorbar": {
              "outlinewidth": 0,
              "ticks": ""
             }
            },
            "type": "scattergeo"
           }
          ],
          "scattergl": [
           {
            "marker": {
             "colorbar": {
              "outlinewidth": 0,
              "ticks": ""
             }
            },
            "type": "scattergl"
           }
          ],
          "scattermapbox": [
           {
            "marker": {
             "colorbar": {
              "outlinewidth": 0,
              "ticks": ""
             }
            },
            "type": "scattermapbox"
           }
          ],
          "scatterpolar": [
           {
            "marker": {
             "colorbar": {
              "outlinewidth": 0,
              "ticks": ""
             }
            },
            "type": "scatterpolar"
           }
          ],
          "scatterpolargl": [
           {
            "marker": {
             "colorbar": {
              "outlinewidth": 0,
              "ticks": ""
             }
            },
            "type": "scatterpolargl"
           }
          ],
          "scatterternary": [
           {
            "marker": {
             "colorbar": {
              "outlinewidth": 0,
              "ticks": ""
             }
            },
            "type": "scatterternary"
           }
          ],
          "surface": [
           {
            "colorbar": {
             "outlinewidth": 0,
             "ticks": ""
            },
            "colorscale": [
             [
              0,
              "#0d0887"
             ],
             [
              0.1111111111111111,
              "#46039f"
             ],
             [
              0.2222222222222222,
              "#7201a8"
             ],
             [
              0.3333333333333333,
              "#9c179e"
             ],
             [
              0.4444444444444444,
              "#bd3786"
             ],
             [
              0.5555555555555556,
              "#d8576b"
             ],
             [
              0.6666666666666666,
              "#ed7953"
             ],
             [
              0.7777777777777778,
              "#fb9f3a"
             ],
             [
              0.8888888888888888,
              "#fdca26"
             ],
             [
              1,
              "#f0f921"
             ]
            ],
            "type": "surface"
           }
          ],
          "table": [
           {
            "cells": {
             "fill": {
              "color": "#EBF0F8"
             },
             "line": {
              "color": "white"
             }
            },
            "header": {
             "fill": {
              "color": "#C8D4E3"
             },
             "line": {
              "color": "white"
             }
            },
            "type": "table"
           }
          ]
         },
         "layout": {
          "annotationdefaults": {
           "arrowcolor": "#2a3f5f",
           "arrowhead": 0,
           "arrowwidth": 1
          },
          "autotypenumbers": "strict",
          "coloraxis": {
           "colorbar": {
            "outlinewidth": 0,
            "ticks": ""
           }
          },
          "colorscale": {
           "diverging": [
            [
             0,
             "#8e0152"
            ],
            [
             0.1,
             "#c51b7d"
            ],
            [
             0.2,
             "#de77ae"
            ],
            [
             0.3,
             "#f1b6da"
            ],
            [
             0.4,
             "#fde0ef"
            ],
            [
             0.5,
             "#f7f7f7"
            ],
            [
             0.6,
             "#e6f5d0"
            ],
            [
             0.7,
             "#b8e186"
            ],
            [
             0.8,
             "#7fbc41"
            ],
            [
             0.9,
             "#4d9221"
            ],
            [
             1,
             "#276419"
            ]
           ],
           "sequential": [
            [
             0,
             "#0d0887"
            ],
            [
             0.1111111111111111,
             "#46039f"
            ],
            [
             0.2222222222222222,
             "#7201a8"
            ],
            [
             0.3333333333333333,
             "#9c179e"
            ],
            [
             0.4444444444444444,
             "#bd3786"
            ],
            [
             0.5555555555555556,
             "#d8576b"
            ],
            [
             0.6666666666666666,
             "#ed7953"
            ],
            [
             0.7777777777777778,
             "#fb9f3a"
            ],
            [
             0.8888888888888888,
             "#fdca26"
            ],
            [
             1,
             "#f0f921"
            ]
           ],
           "sequentialminus": [
            [
             0,
             "#0d0887"
            ],
            [
             0.1111111111111111,
             "#46039f"
            ],
            [
             0.2222222222222222,
             "#7201a8"
            ],
            [
             0.3333333333333333,
             "#9c179e"
            ],
            [
             0.4444444444444444,
             "#bd3786"
            ],
            [
             0.5555555555555556,
             "#d8576b"
            ],
            [
             0.6666666666666666,
             "#ed7953"
            ],
            [
             0.7777777777777778,
             "#fb9f3a"
            ],
            [
             0.8888888888888888,
             "#fdca26"
            ],
            [
             1,
             "#f0f921"
            ]
           ]
          },
          "colorway": [
           "#636efa",
           "#EF553B",
           "#00cc96",
           "#ab63fa",
           "#FFA15A",
           "#19d3f3",
           "#FF6692",
           "#B6E880",
           "#FF97FF",
           "#FECB52"
          ],
          "font": {
           "color": "#2a3f5f"
          },
          "geo": {
           "bgcolor": "white",
           "lakecolor": "white",
           "landcolor": "#E5ECF6",
           "showlakes": true,
           "showland": true,
           "subunitcolor": "white"
          },
          "hoverlabel": {
           "align": "left"
          },
          "hovermode": "closest",
          "mapbox": {
           "style": "light"
          },
          "paper_bgcolor": "white",
          "plot_bgcolor": "#E5ECF6",
          "polar": {
           "angularaxis": {
            "gridcolor": "white",
            "linecolor": "white",
            "ticks": ""
           },
           "bgcolor": "#E5ECF6",
           "radialaxis": {
            "gridcolor": "white",
            "linecolor": "white",
            "ticks": ""
           }
          },
          "scene": {
           "xaxis": {
            "backgroundcolor": "#E5ECF6",
            "gridcolor": "white",
            "gridwidth": 2,
            "linecolor": "white",
            "showbackground": true,
            "ticks": "",
            "zerolinecolor": "white"
           },
           "yaxis": {
            "backgroundcolor": "#E5ECF6",
            "gridcolor": "white",
            "gridwidth": 2,
            "linecolor": "white",
            "showbackground": true,
            "ticks": "",
            "zerolinecolor": "white"
           },
           "zaxis": {
            "backgroundcolor": "#E5ECF6",
            "gridcolor": "white",
            "gridwidth": 2,
            "linecolor": "white",
            "showbackground": true,
            "ticks": "",
            "zerolinecolor": "white"
           }
          },
          "shapedefaults": {
           "line": {
            "color": "#2a3f5f"
           }
          },
          "ternary": {
           "aaxis": {
            "gridcolor": "white",
            "linecolor": "white",
            "ticks": ""
           },
           "baxis": {
            "gridcolor": "white",
            "linecolor": "white",
            "ticks": ""
           },
           "bgcolor": "#E5ECF6",
           "caxis": {
            "gridcolor": "white",
            "linecolor": "white",
            "ticks": ""
           }
          },
          "title": {
           "x": 0.05
          },
          "xaxis": {
           "automargin": true,
           "gridcolor": "white",
           "linecolor": "white",
           "ticks": "",
           "title": {
            "standoff": 15
           },
           "zerolinecolor": "white",
           "zerolinewidth": 2
          },
          "yaxis": {
           "automargin": true,
           "gridcolor": "white",
           "linecolor": "white",
           "ticks": "",
           "title": {
            "standoff": 15
           },
           "zerolinecolor": "white",
           "zerolinewidth": 2
          }
         }
        },
        "title": {
         "text": "Correlated random 2D samples"
        }
       }
      },
      "text/html": [
       "<div>                            <div id=\"d12b66f7-da95-4e0d-87aa-5e038c32b07b\" class=\"plotly-graph-div\" style=\"height:525px; width:100%;\"></div>            <script type=\"text/javascript\">                require([\"plotly\"], function(Plotly) {                    window.PLOTLYENV=window.PLOTLYENV || {};                                    if (document.getElementById(\"d12b66f7-da95-4e0d-87aa-5e038c32b07b\")) {                    Plotly.newPlot(                        \"d12b66f7-da95-4e0d-87aa-5e038c32b07b\",                        [{\"mode\":\"markers\",\"x\":[-4.19003747185981,-2.1058493314670623,1.4500606509306218,2.9519953656716726,0.28359057543159977,0.6384564894958669,-0.47187740122604493,-4.797728544724382,0.5630512493117426,-0.4852092844258515,3.846221728406655,1.2281963513182583,6.484477062370209,4.684745288619792,-9.243693452167332,-2.8756040338522273,0.25638173795696,-1.0056994531070156,-2.020741922245427,2.36355197563255,-5.559619438347141,0.14343096198884078,-1.7606357373667731,0.837703763227154,-0.5459095683095183,-2.8866655379738835,2.2802979255181737,2.7432687522238957,-0.1796243357040994,1.6937938521006375,-0.7009564336069408,2.184117823142279,-2.2008568029637683,4.7791105944574905,-0.8713636567325407,-2.569737736994239,-0.523694629435169,-5.235776770034973,3.303616851608691,2.4184374007984286,-2.017510159594449,-1.0686721320911425,3.604506262922117,-3.731608619315166,-2.372599098154783,-3.360439341421327,1.5422137968256413,-3.622278571676916,-5.500404168337205,4.344923798184168,2.3477757564840815,-0.49908879328438205,2.3604282275917137,-3.362764844063456,-3.9776472824562936,-4.492479137962603,2.0342050415165445,2.5949391566675217,2.807558270097852,-1.3332962301350437,-2.229836513162663,5.432997518588575,0.11364181925193528,0.5760874619596045,-1.1876166539393294,-4.324879919513194,2.6159016090713103,-0.3771365856261577,0.5090500306672449,-2.457713335948508,-0.902787840588523,-4.128640784540238,-1.784331448617031,-2.969752901210706,7.487730966873857,-3.0705150183629826,6.348122293296319,-0.41857247108903173,1.3169881365674327,-1.5488567960410995,3.1350635086708234,8.351146854080696,-4.651478478242651,-4.535881157820642,0.004574894627880299,-3.2686029624671917,0.021846728226237233,-5.141115659163783,-2.910767470010617,-0.2615265373049256,-5.146344586320078,3.112920022948318,-4.970242011437006,3.0729322787090885,-6.14041865256725,5.071507538412143,-3.8954495062818224,-3.308975336969464,0.44444107091393936,0.722186358457706,-2.1184466474084562,2.158929246823626,0.5848868833943462,3.9726138401388904,6.173077242952212,-6.448583388244082,0.43399084337022453,-2.9173105263943775,0.6063626564564837,-3.204618067299692,5.695602681207971,0.5398425900875012,-4.158951118631614,-1.022545733260245,-0.8362374858839925,0.3298005513263007,0.6665404495380503,-2.9820229865313883,0.26205484820039815,-3.5682875039988105,-6.591481576417643,-5.426569446094495,1.9514469040736147,-5.3141984038777546,-7.263076814391169,-1.6829882335594957,-0.3909778227252,7.3233470029072985,1.0481474370413988,1.6285255798865272,5.35563962602494,2.0888627091514413,3.8311333859541343,3.28299009930762,-3.865442528386562,3.6502140428766885,3.8439290298693662,-3.4483568745497393,0.9184882162669101,-2.1794688496696386,1.5673581657467108,-4.0355482170395,-2.7110579651429947,-1.5752767625231698,3.3835720011639006,0.2785384925255152,-1.8476932937738597,0.3551471744522998,-0.23943630643035296,-0.48797198217702553,-1.4490692487731167,0.13266600712089383,-9.147114052964442,-4.659414628403546,-3.332409996322605,-1.6683379748366813,-4.447061839166163,-3.8814494852800436,6.1766788846681475,5.144779032536112,1.1955285540539276,0.14634054496423332,-3.3681840126799454,-5.599235334872723,-0.6443167631983467,-6.5769665279430765,4.640301647516653,1.5440726568049001,-4.609489751456963,1.694505536359385,-4.188288020997886,3.3316363647789866,1.4931319627786053,2.9105476555146073,-2.826825886661153,1.5772006530636817,4.3772784804564076,-2.256935684649144,3.4032343152653257,-6.250421629049651,-0.18608354804694915,4.318826149082193,0.7603894996088205,-1.789345260255028,-1.692219880875253,-1.606470620376128,-3.0715338161937664,3.0901749449217193,-4.036707331830113,-2.68869390235705,6.424427390330173,-2.4725866171562054,3.4876333725605595,0.2531839454267789,-3.983160164611305,-5.80025202661559,3.998298565791686,3.647244268800416,0.7868794824924313,-5.632739056372727,5.444170091887255,1.9834092031263446,-0.8049322708572437,3.297770747271491,-1.7894625983139407,1.7662541016429012,-2.968523068226351,-5.926667302065106,-1.9940320798540485,-5.008917557703389,-0.8988572516321189,-4.407795316374095,-0.9955511014215244,0.9057644527491271,-3.4923529255416317,-2.3032780998513096,-4.2494386448167205,5.3734226106457905,1.321415188219776,-11.30497767903563,-12.749822786539127,0.14813991800587756,-4.119124959851467,1.429874365566822,-1.9867161076243607,2.6070875188160656,-3.930463672543619,-1.2463034652114733,-3.895257588265494,-2.038414699357106,2.197818600025743,-2.58245385647424,0.6111409303491875,-2.627057086264022,-2.3659949233887314,-1.1991810205175455,-2.303175835016399,-4.759417997767287,-3.9740567019931703,-6.139336297705,2.2353971423062284,1.8924111165514015,-5.858837718638976,-5.257537972856933,-6.819020340925892,-0.6446705365085937,-0.1113294500284813,-1.1931787479212321,8.107292523488235,-3.508760862703099,0.70562738778596,3.751560562887678,4.156744021593365,1.108119179832093,1.4798334037875434,3.9963575341707243,1.0361106244490141,-6.451117745561451,1.749131979249531,-3.0898240280292852,6.130383736014178,-3.263252750755142,1.2827587057260872,2.3503961413380443,1.8789502256531139,-3.129184829964692,-6.2673866496127,3.577477784109089,5.327769687468016,-3.8683444803368747,1.6854874395711186,0.6939381821020538,-7.923185291185732,-7.85721608686098,5.5726329587480485,-2.2707778415439015,-4.661207595422971,3.360451852498773,-1.6619886675633513,3.972304275698675,-3.125095444277779,2.4226339508953862,7.032387956713114,-0.4965555122635137,7.137146690891121,2.918367000423854,-1.4857203463591633,-5.036345698635026,1.4692137621067332,-5.068155803008949,2.59542967670469,2.2362423249005148,-6.858453120351859,7.295180023861466,-1.8756885164482922,0.37028033541656935,-0.10894954567697901,0.18068889404345767,-4.224607151187028,0.6938171867874875,4.503668162159807,-0.5225350846785127,3.5489370657678005,-4.410770697128324,-1.194395868243706,0.7641383277171645,-5.216384282613431,-0.32062570164312,-1.1960966968066544,-4.433835315571982,4.165779932438541,8.150345050265926,4.070369379378399,-4.190423700277278,-3.5868992306712144,6.2562809528954855,-1.343258741959063,0.5939309984902208,-2.1593087663624564,-8.674688063021286,3.6226947897901374,4.425418262998852,-6.959307648955853,-1.0941717911194369,3.1401461049709045,2.239443149708389,0.7997993109907968,-6.372666937460528,-11.356845590248,3.0685003003966247,1.5471768504619052,-3.519176336293515,-1.1134794728187,5.136336919843925,-2.489657411431788,-1.118581975765666,0.8243229468006228,0.11090862330439788,-3.000215886131993,-2.6324640600109412,-1.0878816472440538,1.4578126748823834,-7.155325967451002,-5.924631051400637,-2.5214603491522225,1.1388717924534517,2.64232473179633,-0.865760545714571,2.4729172561138952,-5.297145865084138,1.9432813567485576,0.4531105727604996,6.797159170457519,0.1879728390979596,3.8630295110095254,5.383689861201627,10.225316640801294,0.04066529163407573,-8.649490999671174,8.80213951920459,-2.0973937405026386,3.4310569189387903,6.3389557419574,-0.22494622598815317,5.275670189861219,-1.2139814050884077,4.140974419426602,0.8176029203105657,1.2353210561521497,0.8978706515449166,-5.122874540978561,4.247486475768703,0.7899594439691189,-3.678590868358259,7.982883124187275,-1.3501466551669974,1.7211036540100606,-7.971849807179247,-2.189652098132558,-5.568311473737548,0.9649560344796841,-4.876113977077297,3.689060824277872,7.124436810880331,-5.119844475340042,5.148268166596685,-0.779153443001684,5.229815897126607,-5.320205037870917,4.1203700209932945,-1.2099388440896748,3.7713198960766428,-0.2999892817429295,0.9196377115860079,-2.0771435040547375,-2.7167217213365813,-2.270855109444037,6.04281700551166,-2.803122315398598,-0.29224472209554764,-1.7114754739450948,0.5739715022899671,-6.08473832110505,4.542809750377423,0.4234916644442941,-3.1737307870465337,4.673870293461488,9.355202140440927,-3.451011902561021,-1.3309219795608742,-1.2772406432666348,-0.8546394250787954,-8.051974316399376,-0.7893536209077487,-1.2951074039579877,1.637473590556538,4.2744962148211965,1.2070003865395476,0.1265632131994573,3.5518504084218523,-6.181280814804312,2.590041316004621,-3.9047272283471326,1.434607879811698,-1.1408640076775198,-5.782142906309357,7.668565414539563,-1.0414139911207565,7.062897758624587,-3.3537372469907023,-0.6465504807487097,-1.7105085769965087,-1.9142834564669227,-2.9121283649865926,0.8861760945747474,-2.941780477312031,-4.8695379243058605,-1.58335900751176,-7.070366294329284,4.332231324942127,3.2829671376540186,2.1858782152913525,2.7516811025192194,7.798966223020241,-2.336888269988705,1.7794850343843733,3.494185730158037,1.1415003124711007,4.800728646509471,-0.6181301956984336,-4.311403045801695,-2.941050652852263,2.0988779519616774,4.2904940469905135,2.5647096543604695,3.652186327988562,-0.25532754817392245,-1.6434706270019512,-3.4338713195507076,0.4183741325921805,1.9873828755357223,-3.28513951361397,5.213946601784237,-2.8814216120380074,-0.06332813674773319,-2.4114641930551293,1.1524846041409043,1.2145118807957576,3.018072727951395,1.2462169978827449,5.650761419667378,1.3644521951655333,2.343493115414239,-3.6751285366175352,-1.2852771107901961,0.07823668695296299,0.07672983553496293,5.698199620715378,1.9129605459851398,1.3563799011149857,0.2769987156675352,2.5037305691274274,6.263674313946739,-3.392929048612295,0.3545420248478559,-2.5318213256150894,-0.001174195129431732,1.0300800221728832,-5.805404250134325,1.2646023147795937,-5.996446201049581,-1.768282394825246,3.7248776424424936,-7.350353791914687,0.255457183421435,2.3917206067202628,3.707357572769563,-1.0772211193315357,-4.467316301996957,4.748339674296211,4.308502514748959,-0.0033927503959021443,-3.0944942199343517,3.959406049612487,0.33362870464383365,-3.2120935552225216,-0.8247975311181308,-6.431837274113353,6.473605632310786,4.383842818839603,-2.3320459766551487,0.873036871927761,-5.669311180489924,2.5834739260765662,2.380378946805296,-0.5035010903646039,-1.205291754276361,-3.038187522213153,-0.0949487590286181,0.21064897487976375,4.612398011638234,-2.46920182205153,-2.6500281943011403,-1.654810314981244,0.975868280770795,1.4601854949605997,-0.5911733737982033,-0.6274706076896215,-1.2371504893198895,0.9810030364945672,-0.859582864484693,-2.1806684824642435,-1.3563801766267145,-1.2243877326320005,7.3535622020723785,4.127734770854081,3.085814843981076,-2.954900532028757,2.7687695429772075,-0.0772731890016971,3.417866863891863,2.001690562773981,-1.9495428261909318,-1.6427089959918035,-3.8640364142140937,1.1467375070721286,-2.503306269648882,1.749297787735249,-0.16640542012005666,1.0969000210937008,1.14017666873177,2.4581563822342836,1.2212130391177363,2.66480923665139,0.04109585917427999,3.1340156704687927,-1.1215934956117035,0.5928458181832688,-0.395683448866194,-0.4506896338025599,-2.2462142365819906,-1.5105494226723677,5.913213603994516,-0.8784276496975711,0.521895158948013,3.3696272592765166,3.802135501468199,2.1017975996938323,-1.0842242748746485,-3.894202164888785,7.393905067611118,1.331203416113956,-0.5966316110294952,1.0892248480481248,0.7615932488751378,1.8921639935184094,7.663138277676817,-1.2802850967898953,1.2012927124370734,1.1258360639049885,-0.8051732824873612,1.5296579182600865,-2.544851162513744,1.4560639741157169,-0.6836109976588551,-2.823339938728843,-0.5719436162463984,-0.3198364105535896,-1.1085512456242763,4.114454073635452,2.706746526882606,-2.6653113887081004,-1.3407710487650562,-3.2227922599472643,5.1749826695191885,2.7948855573365416,-2.2987841726892864,-4.855647478462187,-0.5250988686566793,-0.45486866957144967,2.243256567374161,-5.576036265347989,-4.3194332501278865,-3.043550268413128,-0.23919592775829468,-3.7476627425113684,2.236035086948363,-3.94397393191346,-4.7794794900943,4.538226045152562,2.5922511065974265,1.7886283742386884,-5.000950828200182,0.2132461947855585,-1.1484669905663922,-2.813889570161177,-4.589306096992322,4.9844632865769505,1.8783223951985242,-2.173003266612698,-3.097593577678643,1.8976373890449143,-0.5091135979100109,-5.561689192392658,1.2707296257574119,-5.614155350981696,5.230507814022117,-2.2898422752639274,2.250031358081481,-3.4384409211540703,4.429103442593076,-4.4656297376787215,-8.076668909809753,4.659844343134171,2.0687771537374346,0.7642853450770747,3.6098797145699484,-5.32041591105015,5.849458993902047,-2.0559321715616283,0.4898316932312659,1.2065234929864272,2.6650705974791773,-8.04313255301659,-1.06913100952473,1.7861817802911581,-1.1869849483839146,0.0999691383471899,-1.5457902660962382,1.1082456878965508,-0.5076735119769702,-5.7456290603015985,-1.4165468610842995,1.7714083734551083,-1.1002837835798163,3.6960246075299925,-0.28826899858917043,-1.5907448587359858,0.5221979288176881,-3.477383105893858,-4.745896470076565,1.1223932103447953,-3.3516869251518053,-1.5194643725609227,-1.6792400401340324,-7.4842445075587065,0.5015174961850729,-2.3499438289062304,3.0622601248507033,-1.0723325675757702,0.9295852007469638,1.48799766019244,-2.125772833258897,2.437563557515834,-3.2907260355223995,7.166920141639949,-3.9585106623795387,-6.780872923328974,-3.057426446876611,1.5586169660528462,-2.263722833874773,2.4999008884847442,-0.4952088212164458,-2.747797109996584,0.5602070267825754,1.1286974193324453,-1.3307226635580458,4.336749915739029,-3.7396355258423384,-0.3762836039137478,1.4937125913577223,-0.48582295530576713,0.7565695476152394,-2.6549282309616746,-1.2851889707495834,-1.2410825638522303,7.136209985765279,-6.633611871734295,0.7478569898516712,0.10865625640495691,-1.9866282920184855,7.703298179409581,-0.6654605338631195,-1.5835277206944323,-1.0335669149545395,5.142538070662934,-4.096345406512372,-0.98261758073359,-2.9572656010673217,-4.233774450640738,6.324483936451815,3.305828588579802,3.5784252905254146,4.292719909536898,-0.48344349323719205,2.8908859388733488,-1.4199090120869942,-4.0848261127151675,-2.0547451066893974,9.19671544380327,0.6780477277213781,-3.517875730295537,-1.1918269223444007,-3.2406689987615076,7.021260391973928,0.9086338409211661,-0.6115311116015401,-1.187899326577393,6.098191802184558,0.16875268341087413,0.9522977777009403,0.37767964541687055,6.704833780101386,3.2274585136815155,-5.877480596770502,1.3105720262093739,8.125780484229308,-3.161932415467262,3.9489363552731014,-1.2728887326957936,-7.976926313627983,-0.09651706692206052,0.058364904310757804,-0.01999584011018829,0.6002583264326996,1.3242803249573374,1.9248782744650113,-7.004693608842295,-4.293602041339218,0.32925115001239624,0.2388245882669755,1.6407215820103322,-6.343052809800107,-3.555472093005932,-8.062355713678688,-1.9871262235308742,-1.331604188586819,-7.793838024231711,2.617061018517892,0.5391118746950676,-0.02224216175789051,-1.679137259933921,1.8816230210262201,0.5500736585912713,-3.5105198208851958,-7.437267884587534,-0.844369121181791,-1.428162353960294,0.42325730256606714,-3.8649404873754634,1.4471892568374285,-5.490655379122292,0.0020493793310896874,2.3805624458826857,4.736266311690512,8.047021554567156,-2.2041999336648113,2.3883321657651178,0.34588376538802795,0.24932769597728427,2.608853756985395,1.1202171581095273,-5.648012181107353,5.788307039146483,-2.641410687648409,0.43728928447225135,6.506855785973436,-5.654036233615263,-3.1998412294475616,-3.860776332350163,1.7002699865366622,1.1582457440107994,2.615074173644302,0.24856685618842844,1.373724206257358,-0.578691553556945,-2.1116209999287525,8.591855632690061,-3.246995545259234,10.116776194954076,-6.527328881563,6.3858574891735165,3.590816742615883,1.974088902395627,1.5102708961297817,-4.465107605597195,-11.067208772240685,-1.3013880926780468,-0.0004103528119820954,-9.386026530182631,2.2418013554175396,-0.7756707957030107,3.6748648247115323,-1.6183839742985748,7.161859211863785,-0.3974645656736864,-3.06334838438349,4.858296489816953,-0.5814957219192725,0.5324267803849545,2.4309571843224496,5.7404002845524476,-2.7700979975602467,-0.018904054957913474,3.299558069602874,6.980636497642052,2.0050958021827165,4.155597530137946,0.4583778110001016,3.9167105086237353,3.3021348609390015,-6.7890587978992105,-1.9651277833975072,1.7881116759729245,-0.7902728439045889,-1.6975052817742848,-0.14018998310524053,4.1207542498408944,1.824982871411777,-6.699396442958477,9.21769091609749,2.4033138565667818,4.690318539379668,-6.676813029035012,3.9538369833982765,1.996898798047639,0.8950076330235692,-0.8642065659024121,-2.064870667620068,1.1494994315665612,-1.2844002524540332,-4.929705322362814,-1.2041136469319067,5.419184313297949,1.9061006409586443,-1.2486132034778048,-4.89765294650838,-4.281300097339782,1.2718261442564731,0.9602468458166187,0.6899480826803692,5.661684914926226,4.423764242791064,-1.9240794657262925,4.60189866621572,-3.2121176217620935,10.3485618586944,0.4222284839972956,-0.6155713802197958,-0.1592600660879746,1.5947539826657973,3.967698484440826,1.9218826300084442,1.6377810025985444,-1.0705893851093498,-0.41708634734302136,-1.3204338244219578,-4.0338121035291215,4.411394904143134,-7.315261193713181,-4.903582191663046,2.790273529937572,-5.184757530991393,-2.1125200216263527,4.52234729094666,2.543714218335859,9.059904996130976,-2.1912805539051416,-0.36604259767108166,-3.908139885608013,1.676724301259697,5.561577931651628,-3.0033021395536297,-2.2409013450712107,1.694139050530488,2.101548792235909,-2.759330668241001,1.1553357037678622,3.640784051929106,3.430091570518388,-2.977840348005662,-2.8124607799084003,-2.595618580852053,0.4672238128920656,6.119780928271205,0.31454094894345097,-0.5930561826184808,-1.453934425587966,7.03506759259912,-3.4334258869749092,1.515353642773889,5.435542306987926,6.470434415031451,0.660427640631714,-0.3984327527824685,-4.448846149854816,0.5545033365822765,0.07311220761175008,0.8433937516250938,-0.9709303607858759,-0.17118130676839205,-2.18691159236557,6.352100380215203,-0.4722574427480925,-4.716807592590668,-5.406520118128988,-1.5820640119745395,0.5018190145576544,3.023451189009301,0.6402824048129858,3.209374502140728,5.090758457094099,-4.617373287184757,0.47084194360165055,0.3786829972472687,-8.467158957734824,-2.125100994822083,5.558831928606964,1.3232410269513766,-6.734742662435986,-1.3330258768148653,-1.749674527414854,3.1549902441974527,-5.204287792713521,-4.971057927496221,-1.8364712465122826,0.0712557579368138,-1.9893322936801485,2.6189075478213155,7.455827928637836,0.36422226833889837,2.4655980656547145,3.3304714649427947,-1.3794817652845663,0.5126313533721527,0.09825570207178583,-1.9866555479175134,7.286888790341329,2.8938822414371566,-1.7397299270494897,4.209392500993104,-0.9914059505113004,-1.7949294004127965,3.980844749099068,-0.8060931957326667,-6.695835539727069,3.9624410874967824,-3.0976712097899988,3.548239957116722,0.06447986639302306,-3.2075165039021685,-1.6710919008008331,5.6462318850856725,1.1259451356709431,4.5742537074875,0.4009032145676972,1.0428586864060105,0.9164794423622618,-1.3946138536971806,-4.026364336828181,4.08939247536536,3.657437090094505,3.4546718533400447,2.323864065925361,10.58016427553179,-1.8629194535475195,-0.6352347649409223,-0.015437128837154868,1.5006226544560377,5.10938138580795,-2.7283939606209646,4.147779220756234,-6.844859609064069,-2.017813295423488,-7.217580793752194,-7.841370384447634,-2.0760911042131407,-2.0573885529648064,4.387666243397625,-4.207302094682365],\"y\":[-10.02171143446227,-4.5112104941895055,3.8250662003658933,1.8561737897973107,1.352477765202043,2.053346514466918,7.912250931141237,-1.8542033820175203,-1.0159463671449096,0.4616290862681886,-2.7565485281015123,1.8750689000869278,6.43857659181323,1.7200286926369006,-9.170660494281865,-0.82829461680672,0.12781409173661823,-0.36199924721250476,-1.8294549859649265,3.2142970824991526,-4.258771156997559,0.5314120186673378,-3.197451486034822,3.6361911794515893,0.09863954809236333,-0.3462721044753261,0.26278825855174637,5.515379257642057,-4.266059854175073,2.342558084805896,2.3904803071185974,1.5021593857432427,-0.8208903363258034,1.4418275862224463,0.6288321897075948,-0.6144154619382883,1.6941308249503146,-5.29830891902448,6.396013841140864,-0.35228416854748346,-3.4359806064327505,-1.6536969810547935,6.404704305114938,-3.262634914263032,-5.761838302530461,-5.419438897541197,1.006063805042614,-8.059049811979497,-2.71243348317167,8.966092589289604,-0.024359583464943713,-0.34114268493599237,3.158382247330622,-3.2747818938893403,-7.187133238976006,-3.991589927136238,0.05861316363278557,2.844972024285484,8.488838003332269,-0.9844033267793328,-2.1916138434096295,7.359488709256348,2.667381968379491,2.936783107905001,-1.7832585747275367,-11.063053319346698,4.224871416578403,2.7723163558952515,-0.1273093242476469,-1.144445330270556,-2.7377168294983645,-7.648719756554752,-3.490069961521894,-3.7167950768516835,9.547868410065721,2.2986085587332195,6.913287926766391,-0.7137599657269788,6.82729311081752,-4.184099828454283,5.920349984413137,10.473108881409997,-6.33453440973757,-5.124538042245397,-4.2693635972121,-4.021732951180938,0.7292522870088184,-6.5192897438029185,-2.6011994952743223,-1.5447426153280395,-7.013990586172262,-0.8242732395731488,-5.058085153812035,1.74673794624425,-4.150998774860517,9.095469886156959,-1.1091318709312286,-2.9746797770959352,-1.4185386818274508,-0.5594892144085226,-1.8714974204895651,-1.7536530336011575,2.402885780701962,3.601047566311242,5.936683803948893,-9.526442981281924,2.27114366512544,-4.589154847303807,4.818961904701053,-8.753881437414874,11.302188588228884,0.6631866468474167,-10.825673990458863,-7.488489923161048,-0.2220108974684486,5.163158287308075,-0.45221611728152916,-4.307953777726275,1.4294095948734,-4.346881224343861,-8.728457443828601,-6.28505224070666,3.6317936201715653,-8.6802002111562,-11.126322450098533,-1.0117006212180986,-2.770130059948733,4.629080559265679,2.2313569631790053,2.2555082729136102,10.576612896897517,0.32825424750511734,3.561988067189084,6.913853777028114,-5.684755912475657,3.666716076077882,4.600003696775224,-7.065417188199352,-1.4804861846234654,-5.375918528851298,-2.0630556062301872,-6.777409541117972,-1.3513116138102506,-3.822436751878347,0.1874788560220615,3.313582988791032,-3.481474751712856,5.831073273040134,-2.274433369318788,0.17042941369508174,-1.3571603041916633,4.330826051707815,-9.908318393054486,-5.337352630401735,-6.37216681892611,-1.5253306032715326,-7.078850701680717,-0.7796232229170814,1.6535835092418294,4.75739193678101,3.5255314705220004,-2.2131157143918254,-7.097681390017374,-9.8990673247764,2.295378711887646,-5.874943226621038,5.296048110706831,7.834739268165455,-5.304986828697431,0.6329704035522854,-13.451445892188946,10.314994298167552,-0.14949902951583127,2.117308448958426,1.423791267195343,1.7360342887811588,1.6428983285632575,-4.52585364033177,4.763094171073544,-5.403059921372972,4.849866464782087,6.920652039537031,-3.6846903536298115,-4.72253765453701,-2.354039581185314,2.526402712782918,-8.09923045586871,6.304431036562713,-0.10566265503119454,-2.595720693410839,7.746867061693726,-3.6678441615571056,4.140196478294723,-1.6521387248511827,-2.1126973603052517,-7.381874400889345,6.032861697432403,5.659092362460219,-0.873958294347554,-9.390137101394473,3.315646241369442,3.055457757283665,-4.60126145566415,5.726969267385924,-4.681914414798254,2.162935734391131,-6.826375955552441,-6.667614472316966,-4.611315802776248,-8.775526091269612,-0.6011105692813352,-5.565575074780778,-11.118787876170313,1.9453745299526706,-8.538469264435504,-4.055457624107231,-4.2251920309451165,11.022212486507362,-0.8165547106398013,-13.345627441846858,-16.975953430796082,-5.011255740500636,-6.142317363369649,-1.7056053445029586,0.8675845885108029,12.870350516143262,-4.736713161867146,-4.12586574833562,-2.3255265231875137,1.3245477470624274,3.7705399378301676,-2.6859357686891574,5.176197267856299,3.1167554191324993,-2.33561823384316,-0.48413405196465886,-0.8429036802193964,-1.701123474350145,-6.537429022266014,-5.371238621664887,0.42897296749808234,0.32889119965120894,-5.090382707841364,-11.0514913472445,-7.093503468857103,0.17474939723585245,0.42293683543025806,-4.431327701544024,10.933398611043415,0.39574577830091484,2.291034673320901,2.540826833114907,7.885427380889619,2.7749669670351835,2.2494345361135717,8.433492803498716,-1.8875026451495456,-8.2154394021411,0.8778392896506535,-5.95402081488478,9.295511055257483,-2.6499608827087857,6.056162382921897,1.5640839714084303,-1.1909562929486055,-3.496505149177839,-5.204291285330144,10.22954215841258,5.388883627258188,-1.8636651930786041,3.633227228027096,2.992799160625209,-8.900030205245542,-12.216984276821867,3.549223262108483,-4.392265345025506,-6.434789922288237,0.9756666300703072,-2.6785993645043726,2.9473057678992003,-6.801004779106482,4.224763897681824,10.542071114410437,4.476825676377861,5.364226492382147,4.253987145985237,-4.734414383246392,-10.317858571445441,2.2930352574124173,-6.959900177511146,6.548630102185071,-2.4703767967550085,-10.235685859652623,5.278953327634328,-7.265374929759924,3.651068091700174,-2.0910986252444097,-2.937301385256771,-9.447097926199419,3.2379314898655673,6.096821000499617,0.6288996153061737,3.577892226443834,-2.484672432550698,4.370755353591169,0.8579272619753657,-7.471314623637951,-3.770976833266257,-0.031796779452777035,-0.9364162230263933,10.804256672658044,5.110603462658027,3.774403288552385,-10.501821721128282,-5.0449957248638375,4.583531057274691,0.09455462786665858,-0.2872403091189715,-1.5278867677365056,-9.841539843515106,1.8999653978684161,2.3019826089169184,-8.988218675988836,-7.700818374796633,-1.3034995269341,1.2034722442821684,3.7877498792721105,-3.735059219578897,-10.193817649657209,5.956361177199096,-0.23684150793061076,0.3447863000812963,-6.354236512350649,6.883473800031591,2.690948038309515,-0.7191055030877087,3.4099400828723,-1.8408128125336165,-7.95357434653281,-3.148071172330276,-7.387487267069368,0.6499716148068345,-6.9607340352662606,-5.480610674414759,-4.553580285559016,6.12653916473135,4.119330721949884,0.366784262063418,8.354962256768145,-5.200517203800789,6.247207772370222,0.18195078786455712,10.147645979262931,-2.083869553419681,7.063282491084558,7.583573756618648,13.834785516495781,-2.5275298363860275,-14.165986008330764,12.30244524289327,-2.1936723942254606,4.702923922330851,9.143193182654338,-1.5715618047397228,3.649422464315434,2.133539869209385,7.22106125540896,4.003066434216134,0.8521453596256179,1.2288086317355744,-5.5512865994585665,3.650901869004466,0.44659119578049056,-3.6499729711854845,10.827135763998593,-2.604890095047279,4.437593837977109,-5.546297191841317,-1.1760138633928987,-1.9457598443367647,4.712469065550975,-6.918863634277232,2.8658442119752454,6.92133439118475,-7.651476205887194,7.98789144401514,0.8779033982567019,10.762835390604028,-3.679667298542123,4.728497254574716,-1.2869951633269925,-1.308447351260463,5.082464643669457,2.4107902279909794,-3.7134004456722294,1.697992652560974,-2.462486367457549,1.8364423947611064,-4.766430153254263,-2.6458439535953913,-4.58638988309216,-1.8361085647016164,-6.728469302754343,3.8166981282286705,5.393639879015618,-1.2579208073264456,3.6634559185486295,4.033602634199864,-0.3377227145306747,3.2177358490485535,-2.3806414478092135,-0.13455488291953427,-10.349331767375395,-1.3933995483207462,-4.700628432906228,-1.1398326305881812,4.4546798020771154,-0.20445799456459357,-1.647324918325701,4.667198834689922,-2.219665159441834,6.514391239253312,-4.811933435110271,-0.5754556806967968,-1.7690464589487152,-5.229744353193972,6.857516432287687,-5.774372615719622,8.576465608949173,-6.801196987536254,0.11386938021782078,-2.4250418625588526,-4.261076785956814,-2.306552655713158,-0.014392509816235688,-5.9784085555992625,-7.681300010427659,0.15723244491274158,-4.9067212824430175,6.414748428967098,8.204936889267968,5.310696904996774,1.2345983973522867,10.637060613881317,-5.72398163131799,2.9772635780171552,4.472116297999581,1.7066794298039056,4.323920086082354,0.3531195647295839,-6.44664905571244,-5.183392525804102,0.08958405250575674,4.763466204017396,7.936647231360064,6.105292299064674,-1.5293391543440364,-4.809051781974632,-6.338744032736782,1.9746767575279254,-0.1985598417430512,-1.1928381612837418,6.283567932777357,-4.399045508328759,2.082663557749169,-4.432400394345096,-1.3561435243043136,1.635742761454928,5.632706055061477,-3.446233055971699,12.442000530579714,2.9212418145287895,0.5585406210346147,-6.895308569938685,-1.0826940469313318,-0.9533441240083038,1.535800605890068,4.496498415104288,3.0033482197327137,2.461783310404577,-1.8373934549220934,12.156138492612346,4.522078042563922,-3.9345997508316852,-1.3979726384473357,2.248797272801583,1.5521599554920458,-4.774156441917473,-7.832667611375787,2.9731473038068468,-6.480093872104238,-0.2933256216070166,3.7094024367747873,-7.625663664527564,-4.213573943124015,1.850090283667269,5.8905748360855545,2.8295593207881367,-10.12412591176673,-2.3273970025231314,4.285214663709163,4.675805027817022,-4.837763769474403,1.5769939841829221,1.7246067419791271,-0.7469566515322625,-1.7889362313735415,-7.805626687524089,7.465610534936658,8.391429124011054,-1.811970224647812,2.5890992979558978,-8.175464624742292,11.001971955095156,3.49761854723769,-2.0721345889462524,-1.5245865436078283,-0.06799009416168889,-2.3445755261244448,2.5884516263831805,7.355859969834396,-6.834431239973812,-2.4287208509867613,-2.6260621025318414,3.009029825231832,-0.4277609936406517,-1.6196344832757554,-1.054653462897422,-2.3647639503126228,0.49180351293503094,-0.5107054833526904,-1.9516730251147596,-4.603741951477721,-0.5606631437164773,9.469341646159394,5.054736046231467,6.030420055445296,-5.984378269098464,7.784724344300444,-1.1613642021848092,7.065090637634974,3.468105372923288,-3.3031034080014177,-1.314256035654799,-3.129904967513888,-1.5826111760554191,-1.6666024080389916,1.7290561102297768,3.2702743069726377,0.7344584872585664,4.353013651006092,0.10764789149534093,0.4411198378539141,1.9539905704083678,0.9105419512519659,4.404195767582421,-0.430274275923523,5.309605955818572,4.692779488037896,-4.542771547158185,-3.0325058978692936,-0.6393202556096091,3.441725204761883,-4.130739295000734,-0.8989773006302983,3.2917312284581537,5.598150099897718,-0.928481091424328,3.116190064802327,-4.841677700921189,16.091540688204372,2.460180143434808,-1.6812659710630409,4.243435250329152,-3.5096722862989607,5.168165000043076,7.96406185730366,-0.6722505050250611,-0.4586480890450927,-0.13411874637912446,3.851142460405886,3.7180779172840337,-6.421258186536125,-0.7567462116175293,-0.6450123175882707,-2.942418911625916,-0.2312663125247938,-3.680751940102637,0.08669793588924513,3.8817295235048377,2.125261151066063,-4.235199419415148,-1.2390002817207448,0.8271935874325439,7.656701684489477,5.9892834071099905,0.6685904687735652,-4.61588575255438,4.337662174776646,-4.773364658977761,3.3364471008077703,-7.0618508079006945,-5.392725560575076,-0.5865115485707506,-5.753510067120826,-6.833241636710738,0.0554262210954537,-4.326246494854822,-1.3821894312697434,2.7016110215701485,4.561476242738411,4.9008152193123005,-13.892772028276692,2.3718819708049885,-1.03002088108776,-2.2094091391525312,-3.4182670719536663,6.618614164336198,2.2927717429281262,-4.036072406355957,-6.186007770593644,-2.1955673011135115,-1.799177270672701,-7.301210433836745,5.895958905531977,-5.964256485237948,9.330435789949663,-4.032508340196973,6.784906129140739,-1.9451313859252988,3.812667368182107,-2.2109483866128503,-9.063464368756236,3.7530720215162754,6.326119322779577,1.9145229300319784,2.559981643658758,-4.109920126812012,8.405415391533152,-5.196434544176786,1.0692086779946763,-0.28825298370179214,5.569290431901589,-13.696496891282885,1.119790995246603,5.70794906439385,-2.160470101985445,5.493766012246095,1.34092108573973,-1.0307073766090444,-7.083275394961681,-6.492380842109986,-4.4897194169929495,1.1031851807144113,-2.530315924461577,5.421653781960509,0.6913567410355406,0.2344052462470625,-3.671912895129136,1.9070691531296096,-9.195370140442702,1.5426624978473509,-5.623102363293048,-3.872881623915744,1.8944982593012951,-10.722433094047567,-2.4083665558836422,-4.620378823538421,3.104217362341033,-9.007501756939297,-0.04021782440210503,-2.0420554034643823,-5.377911582774038,2.0995788348883657,-1.3888243230500021,9.80833101692702,-5.843444267447473,-4.810021000521408,-9.159986105559275,2.501013381625191,-5.563521760403442,-1.5980566414469641,3.52165752049038,1.675161631647318,3.3026264915379824,-5.031109008342491,-0.8295312633533535,1.3537685885041921,-7.973684025144341,6.861148301610392,-0.42796532842532214,4.038462881685691,-2.0944217954254833,-6.127373251935936,2.6426058674140736,-0.07967735228526007,8.565458139213032,-16.271555025378117,-2.2485488559461415,-3.4243491381268303,-0.5563923236946735,5.873141339637533,0.8507720580654188,-6.162884879173159,-0.3264677279348044,11.82110473657169,-2.3974161719754026,-1.1452775173756844,-6.166820621837857,-3.56803780562701,9.501191165265825,5.850191795818328,3.650357111524697,9.394383549208444,-0.12141394671802083,2.0575887891047198,-1.9182908767853293,-3.7232926647638678,-2.3658011936262584,8.35708370783609,-0.7869223118895874,-0.24030760938519613,-6.601797723504089,-3.862207858676323,8.084373690811146,6.560340162056315,-0.48803234840038556,-1.2363805279512752,5.269107977580661,-2.526758729384358,1.2108363362329109,1.5072750982354215,12.789485903764573,2.983980674397445,-4.084118749235946,3.6829922615632924,11.46353294655553,-6.745522644153638,0.9522395994879325,-1.5662345018403818,-7.350306954436007,-0.6172026829630353,2.1056988940347208,-4.093753379926745,0.25657482186718755,-0.24323128068991562,5.628856175180282,-9.77838747834447,-1.870241386538395,-3.538924235359801,1.933919335743124,-1.369984709404942,-5.053395034397017,-2.5501153794179237,-9.209423755080799,-1.9948112113711938,2.3281478441894965,-7.496659504001144,1.0539959650223325,3.430066043018652,6.385009827047118,0.43990084095177273,-0.6072914826286647,0.45649353045683194,-5.371377334118386,-7.124474518545662,-2.630125855059517,6.328187558293775,-1.250173818822463,-4.364837302206375,7.691855057703106,-4.808981832938731,-0.22243725604647682,9.712553468233438,9.416850939779652,9.578225833561374,-7.661961926545003,2.0715520307824185,0.2670818190261603,-0.9203186369748644,1.43294896466526,1.112456112353133,-7.567319392606975,4.89865054520811,-2.632486733830264,-2.391650645556337,8.362160347725125,-7.386517342803242,-2.9336392549927073,-6.140191671888914,1.8166745041404884,-3.3590741791291228,3.017836450073186,6.229829702692651,3.143909658642624,-0.3188125685256141,-6.302691726937946,11.294307640031679,-1.5033931944210412,16.257573313334692,-4.4566456816189,4.617030625713737,1.122334934669881,-2.795411902197733,0.3290815953270394,-3.731253333468013,-17.454271635102668,-1.8259280049859563,-3.799305267703894,-16.759965354831465,4.412900295720289,2.1127538452938075,5.899964862466829,-3.49946235516526,10.208579585974134,-3.423012009066559,-6.182951315981051,4.555724800645831,-0.2098880141309662,-2.785722233888072,5.198712877685239,8.41488438362522,-7.047644856034405,-1.9290705647598636,3.766737352968523,10.26238193751944,3.3971386295572925,1.3195643153269074,0.8660487329333182,9.229151025179956,5.025162366649857,-11.973539664949502,0.2182952123945766,7.6149447155276,-2.9123046495502667,-4.385093711138196,-0.7371030496972438,7.944226467232067,5.610568920913339,-12.596716994465803,9.309840097297528,5.834375328254935,8.636343721053244,-3.784567679328709,8.220926197885614,2.1665399129804457,3.757091340017174,1.502729078531503,1.0590600093104086,0.1743606576006559,-4.010965766755435,-4.192457876015034,0.4858262034173877,6.4632004260284,3.706579905936245,-3.399743308258061,-6.983377236235997,-10.683459306225869,2.836329169179698,-0.981842899264117,-1.2912981895671845,5.7266705465035415,2.3301941621093327,-8.18884396158176,5.345199938241218,-9.597297741599633,14.472972348340619,1.8921833436462492,-2.491006186510304,-1.8809795631194248,2.6875453187194323,5.907564106603018,-0.5010959656638908,3.1548746079143113,-8.77789472870028,-0.6700508250422587,3.5677881102461226,-8.325082644531939,6.569570165692791,-12.984016163322307,-10.054089122825202,-2.9512121119461634,-3.5349519567116516,1.7533788400231416,3.334749020785102,7.476357455310457,12.713890641817574,1.2394772424449148,0.4247036029279226,-4.167958337467489,-0.9132680006445939,7.783200146968456,-1.1359378592296858,1.875177702347942,5.060155276404524,4.803690449759336,-8.266590295623487,2.2180178845625793,-1.7365449279450746,3.097634079997276,-0.5145034166278046,0.08076211354409413,-5.7203625177733555,-3.0979855349837857,4.676537605954874,5.916507983906681,1.0502849931580287,-2.4322758764965204,10.325932248337743,-1.347111338470586,2.9801756093179756,5.698647413669069,5.029870915241975,5.153232759191267,-1.8493875830742827,-3.582877010655,3.4019356919380557,-1.5786665628058638,1.654828342774103,-2.854394118047903,-1.8771726482536897,1.6684642671341903,13.153961913750933,-0.02839591649239742,-7.997350689573415,-7.352385996231671,1.1904267482366397,-0.8348924584802176,5.824568286223928,3.6584893722946052,4.483695355359241,0.605779913049445,-1.2184244963794895,-1.5093571944192798,-1.7893321656105132,-10.219966647646382,-5.749932327602229,6.106387153479886,2.9622358969051237,-10.565422555927967,-4.2417237971828925,1.3399378551619237,3.940769126543917,-10.230364903208653,-5.41697229297295,1.721970625055763,0.1356905158931876,-4.0718895901041305,5.80727671312494,3.6370362249605885,2.4730407526373535,-3.156898177680462,1.6032822351660159,-2.5620697362447973,0.9832144860503089,-0.36269370965854564,-5.21446113955892,5.3578957142808274,1.5949132336993523,-4.143146185087516,4.152035554666609,2.7143149289529838,-5.227061358302966,-0.7184069126850701,-1.0679565583270791,-11.54658755735336,6.986827565220569,-8.99690076954466,4.2396536124271424,1.661315651200001,-2.7445852992173454,-9.269224404334354,11.84674013779835,2.1419311246197794,8.772625322565002,-0.5194416120933876,4.324610854813857,0.6097504269645475,-2.667458762253165,2.9950383190220515,8.141755693948594,2.28953703439735,3.5193106111703254,4.286962304237911,14.5097476659122,-2.2289594793305136,1.971880531303352,-0.9126537823138067,-2.144672961621503,3.118909022913625,-6.533260971501127,0.5596287720966409,-9.735539987697999,-1.507030027429826,-8.52814913430314,-11.787166796982303,-3.728389208602438,-3.9049382113600952,7.698901778740517,0.02861819233167795],\"type\":\"scatter\"}],                        {\"template\":{\"data\":{\"histogram2dcontour\":[{\"type\":\"histogram2dcontour\",\"colorbar\":{\"outlinewidth\":0,\"ticks\":\"\"},\"colorscale\":[[0.0,\"#0d0887\"],[0.1111111111111111,\"#46039f\"],[0.2222222222222222,\"#7201a8\"],[0.3333333333333333,\"#9c179e\"],[0.4444444444444444,\"#bd3786\"],[0.5555555555555556,\"#d8576b\"],[0.6666666666666666,\"#ed7953\"],[0.7777777777777778,\"#fb9f3a\"],[0.8888888888888888,\"#fdca26\"],[1.0,\"#f0f921\"]]}],\"choropleth\":[{\"type\":\"choropleth\",\"colorbar\":{\"outlinewidth\":0,\"ticks\":\"\"}}],\"histogram2d\":[{\"type\":\"histogram2d\",\"colorbar\":{\"outlinewidth\":0,\"ticks\":\"\"},\"colorscale\":[[0.0,\"#0d0887\"],[0.1111111111111111,\"#46039f\"],[0.2222222222222222,\"#7201a8\"],[0.3333333333333333,\"#9c179e\"],[0.4444444444444444,\"#bd3786\"],[0.5555555555555556,\"#d8576b\"],[0.6666666666666666,\"#ed7953\"],[0.7777777777777778,\"#fb9f3a\"],[0.8888888888888888,\"#fdca26\"],[1.0,\"#f0f921\"]]}],\"heatmap\":[{\"type\":\"heatmap\",\"colorbar\":{\"outlinewidth\":0,\"ticks\":\"\"},\"colorscale\":[[0.0,\"#0d0887\"],[0.1111111111111111,\"#46039f\"],[0.2222222222222222,\"#7201a8\"],[0.3333333333333333,\"#9c179e\"],[0.4444444444444444,\"#bd3786\"],[0.5555555555555556,\"#d8576b\"],[0.6666666666666666,\"#ed7953\"],[0.7777777777777778,\"#fb9f3a\"],[0.8888888888888888,\"#fdca26\"],[1.0,\"#f0f921\"]]}],\"heatmapgl\":[{\"type\":\"heatmapgl\",\"colorbar\":{\"outlinewidth\":0,\"ticks\":\"\"},\"colorscale\":[[0.0,\"#0d0887\"],[0.1111111111111111,\"#46039f\"],[0.2222222222222222,\"#7201a8\"],[0.3333333333333333,\"#9c179e\"],[0.4444444444444444,\"#bd3786\"],[0.5555555555555556,\"#d8576b\"],[0.6666666666666666,\"#ed7953\"],[0.7777777777777778,\"#fb9f3a\"],[0.8888888888888888,\"#fdca26\"],[1.0,\"#f0f921\"]]}],\"contourcarpet\":[{\"type\":\"contourcarpet\",\"colorbar\":{\"outlinewidth\":0,\"ticks\":\"\"}}],\"contour\":[{\"type\":\"contour\",\"colorbar\":{\"outlinewidth\":0,\"ticks\":\"\"},\"colorscale\":[[0.0,\"#0d0887\"],[0.1111111111111111,\"#46039f\"],[0.2222222222222222,\"#7201a8\"],[0.3333333333333333,\"#9c179e\"],[0.4444444444444444,\"#bd3786\"],[0.5555555555555556,\"#d8576b\"],[0.6666666666666666,\"#ed7953\"],[0.7777777777777778,\"#fb9f3a\"],[0.8888888888888888,\"#fdca26\"],[1.0,\"#f0f921\"]]}],\"surface\":[{\"type\":\"surface\",\"colorbar\":{\"outlinewidth\":0,\"ticks\":\"\"},\"colorscale\":[[0.0,\"#0d0887\"],[0.1111111111111111,\"#46039f\"],[0.2222222222222222,\"#7201a8\"],[0.3333333333333333,\"#9c179e\"],[0.4444444444444444,\"#bd3786\"],[0.5555555555555556,\"#d8576b\"],[0.6666666666666666,\"#ed7953\"],[0.7777777777777778,\"#fb9f3a\"],[0.8888888888888888,\"#fdca26\"],[1.0,\"#f0f921\"]]}],\"mesh3d\":[{\"type\":\"mesh3d\",\"colorbar\":{\"outlinewidth\":0,\"ticks\":\"\"}}],\"scatter\":[{\"fillpattern\":{\"fillmode\":\"overlay\",\"size\":10,\"solidity\":0.2},\"type\":\"scatter\"}],\"parcoords\":[{\"type\":\"parcoords\",\"line\":{\"colorbar\":{\"outlinewidth\":0,\"ticks\":\"\"}}}],\"scatterpolargl\":[{\"type\":\"scatterpolargl\",\"marker\":{\"colorbar\":{\"outlinewidth\":0,\"ticks\":\"\"}}}],\"bar\":[{\"error_x\":{\"color\":\"#2a3f5f\"},\"error_y\":{\"color\":\"#2a3f5f\"},\"marker\":{\"line\":{\"color\":\"#E5ECF6\",\"width\":0.5},\"pattern\":{\"fillmode\":\"overlay\",\"size\":10,\"solidity\":0.2}},\"type\":\"bar\"}],\"scattergeo\":[{\"type\":\"scattergeo\",\"marker\":{\"colorbar\":{\"outlinewidth\":0,\"ticks\":\"\"}}}],\"scatterpolar\":[{\"type\":\"scatterpolar\",\"marker\":{\"colorbar\":{\"outlinewidth\":0,\"ticks\":\"\"}}}],\"histogram\":[{\"marker\":{\"pattern\":{\"fillmode\":\"overlay\",\"size\":10,\"solidity\":0.2}},\"type\":\"histogram\"}],\"scattergl\":[{\"type\":\"scattergl\",\"marker\":{\"colorbar\":{\"outlinewidth\":0,\"ticks\":\"\"}}}],\"scatter3d\":[{\"type\":\"scatter3d\",\"line\":{\"colorbar\":{\"outlinewidth\":0,\"ticks\":\"\"}},\"marker\":{\"colorbar\":{\"outlinewidth\":0,\"ticks\":\"\"}}}],\"scattermapbox\":[{\"type\":\"scattermapbox\",\"marker\":{\"colorbar\":{\"outlinewidth\":0,\"ticks\":\"\"}}}],\"scatterternary\":[{\"type\":\"scatterternary\",\"marker\":{\"colorbar\":{\"outlinewidth\":0,\"ticks\":\"\"}}}],\"scattercarpet\":[{\"type\":\"scattercarpet\",\"marker\":{\"colorbar\":{\"outlinewidth\":0,\"ticks\":\"\"}}}],\"carpet\":[{\"aaxis\":{\"endlinecolor\":\"#2a3f5f\",\"gridcolor\":\"white\",\"linecolor\":\"white\",\"minorgridcolor\":\"white\",\"startlinecolor\":\"#2a3f5f\"},\"baxis\":{\"endlinecolor\":\"#2a3f5f\",\"gridcolor\":\"white\",\"linecolor\":\"white\",\"minorgridcolor\":\"white\",\"startlinecolor\":\"#2a3f5f\"},\"type\":\"carpet\"}],\"table\":[{\"cells\":{\"fill\":{\"color\":\"#EBF0F8\"},\"line\":{\"color\":\"white\"}},\"header\":{\"fill\":{\"color\":\"#C8D4E3\"},\"line\":{\"color\":\"white\"}},\"type\":\"table\"}],\"barpolar\":[{\"marker\":{\"line\":{\"color\":\"#E5ECF6\",\"width\":0.5},\"pattern\":{\"fillmode\":\"overlay\",\"size\":10,\"solidity\":0.2}},\"type\":\"barpolar\"}],\"pie\":[{\"automargin\":true,\"type\":\"pie\"}]},\"layout\":{\"autotypenumbers\":\"strict\",\"colorway\":[\"#636efa\",\"#EF553B\",\"#00cc96\",\"#ab63fa\",\"#FFA15A\",\"#19d3f3\",\"#FF6692\",\"#B6E880\",\"#FF97FF\",\"#FECB52\"],\"font\":{\"color\":\"#2a3f5f\"},\"hovermode\":\"closest\",\"hoverlabel\":{\"align\":\"left\"},\"paper_bgcolor\":\"white\",\"plot_bgcolor\":\"#E5ECF6\",\"polar\":{\"bgcolor\":\"#E5ECF6\",\"angularaxis\":{\"gridcolor\":\"white\",\"linecolor\":\"white\",\"ticks\":\"\"},\"radialaxis\":{\"gridcolor\":\"white\",\"linecolor\":\"white\",\"ticks\":\"\"}},\"ternary\":{\"bgcolor\":\"#E5ECF6\",\"aaxis\":{\"gridcolor\":\"white\",\"linecolor\":\"white\",\"ticks\":\"\"},\"baxis\":{\"gridcolor\":\"white\",\"linecolor\":\"white\",\"ticks\":\"\"},\"caxis\":{\"gridcolor\":\"white\",\"linecolor\":\"white\",\"ticks\":\"\"}},\"coloraxis\":{\"colorbar\":{\"outlinewidth\":0,\"ticks\":\"\"}},\"colorscale\":{\"sequential\":[[0.0,\"#0d0887\"],[0.1111111111111111,\"#46039f\"],[0.2222222222222222,\"#7201a8\"],[0.3333333333333333,\"#9c179e\"],[0.4444444444444444,\"#bd3786\"],[0.5555555555555556,\"#d8576b\"],[0.6666666666666666,\"#ed7953\"],[0.7777777777777778,\"#fb9f3a\"],[0.8888888888888888,\"#fdca26\"],[1.0,\"#f0f921\"]],\"sequentialminus\":[[0.0,\"#0d0887\"],[0.1111111111111111,\"#46039f\"],[0.2222222222222222,\"#7201a8\"],[0.3333333333333333,\"#9c179e\"],[0.4444444444444444,\"#bd3786\"],[0.5555555555555556,\"#d8576b\"],[0.6666666666666666,\"#ed7953\"],[0.7777777777777778,\"#fb9f3a\"],[0.8888888888888888,\"#fdca26\"],[1.0,\"#f0f921\"]],\"diverging\":[[0,\"#8e0152\"],[0.1,\"#c51b7d\"],[0.2,\"#de77ae\"],[0.3,\"#f1b6da\"],[0.4,\"#fde0ef\"],[0.5,\"#f7f7f7\"],[0.6,\"#e6f5d0\"],[0.7,\"#b8e186\"],[0.8,\"#7fbc41\"],[0.9,\"#4d9221\"],[1,\"#276419\"]]},\"xaxis\":{\"gridcolor\":\"white\",\"linecolor\":\"white\",\"ticks\":\"\",\"title\":{\"standoff\":15},\"zerolinecolor\":\"white\",\"automargin\":true,\"zerolinewidth\":2},\"yaxis\":{\"gridcolor\":\"white\",\"linecolor\":\"white\",\"ticks\":\"\",\"title\":{\"standoff\":15},\"zerolinecolor\":\"white\",\"automargin\":true,\"zerolinewidth\":2},\"scene\":{\"xaxis\":{\"backgroundcolor\":\"#E5ECF6\",\"gridcolor\":\"white\",\"linecolor\":\"white\",\"showbackground\":true,\"ticks\":\"\",\"zerolinecolor\":\"white\",\"gridwidth\":2},\"yaxis\":{\"backgroundcolor\":\"#E5ECF6\",\"gridcolor\":\"white\",\"linecolor\":\"white\",\"showbackground\":true,\"ticks\":\"\",\"zerolinecolor\":\"white\",\"gridwidth\":2},\"zaxis\":{\"backgroundcolor\":\"#E5ECF6\",\"gridcolor\":\"white\",\"linecolor\":\"white\",\"showbackground\":true,\"ticks\":\"\",\"zerolinecolor\":\"white\",\"gridwidth\":2}},\"shapedefaults\":{\"line\":{\"color\":\"#2a3f5f\"}},\"annotationdefaults\":{\"arrowcolor\":\"#2a3f5f\",\"arrowhead\":0,\"arrowwidth\":1},\"geo\":{\"bgcolor\":\"white\",\"landcolor\":\"#E5ECF6\",\"subunitcolor\":\"white\",\"showland\":true,\"showlakes\":true,\"lakecolor\":\"white\"},\"title\":{\"x\":0.05},\"mapbox\":{\"style\":\"light\"}}},\"title\":{\"text\":\"Correlated random 2D samples\"}},                        {\"responsive\": true}                    ).then(function(){\n",
       "                            \n",
       "var gd = document.getElementById('d12b66f7-da95-4e0d-87aa-5e038c32b07b');\n",
       "var x = new MutationObserver(function (mutations, observer) {{\n",
       "        var display = window.getComputedStyle(gd).display;\n",
       "        if (!display || display === 'none') {{\n",
       "            console.log([gd, 'removed!']);\n",
       "            Plotly.purge(gd);\n",
       "            observer.disconnect();\n",
       "        }}\n",
       "}});\n",
       "\n",
       "// Listen for the removal of the full notebook cells\n",
       "var notebookContainer = gd.closest('#notebook-container');\n",
       "if (notebookContainer) {{\n",
       "    x.observe(notebookContainer, {childList: true});\n",
       "}}\n",
       "\n",
       "// Listen for the clearing of the current output cell\n",
       "var outputEl = gd.closest('.output');\n",
       "if (outputEl) {{\n",
       "    x.observe(outputEl, {childList: true});\n",
       "}}\n",
       "\n",
       "                        })                };                });            </script>        </div>"
      ]
     },
     "metadata": {},
     "output_type": "display_data"
    },
    {
     "data": {
      "application/javascript": [
       "\n",
       "            setTimeout(function() {\n",
       "                var nbb_cell_id = 1657;\n",
       "                var nbb_unformatted_code = \"xs_c, ys_c = make_xs_ys(cov_matrix)\\nfig = go_scatter(xs_c, ys_c, \\\"Correlated random 2D samples\\\")\\nfig\";\n",
       "                var nbb_formatted_code = \"xs_c, ys_c = make_xs_ys(cov_matrix)\\nfig = go_scatter(xs_c, ys_c, \\\"Correlated random 2D samples\\\")\\nfig\";\n",
       "                var nbb_cells = Jupyter.notebook.get_cells();\n",
       "                for (var i = 0; i < nbb_cells.length; ++i) {\n",
       "                    if (nbb_cells[i].input_prompt_number == nbb_cell_id) {\n",
       "                        if (nbb_cells[i].get_text() == nbb_unformatted_code) {\n",
       "                             nbb_cells[i].set_text(nbb_formatted_code);\n",
       "                        }\n",
       "                        break;\n",
       "                    }\n",
       "                }\n",
       "            }, 500);\n",
       "            "
      ],
      "text/plain": [
       "<IPython.core.display.Javascript object>"
      ]
     },
     "metadata": {},
     "output_type": "display_data"
    }
   ],
   "source": [
    "xs_c, ys_c = make_xs_ys(cov_matrix)\n",
    "fig = go_scatter(xs_c, ys_c, \"Correlated random 2D samples\")\n",
    "fig"
   ]
  },
  {
   "cell_type": "markdown",
   "id": "e303c01a",
   "metadata": {
    "hidden": true
   },
   "source": [
    "## (Empirical) Conditioning of a correlated 2D distribution"
   ]
  },
  {
   "cell_type": "code",
   "execution_count": 1658,
   "id": "f12ec600",
   "metadata": {
    "hidden": true
   },
   "outputs": [
    {
     "data": {
      "application/javascript": [
       "\n",
       "            setTimeout(function() {\n",
       "                var nbb_cell_id = 1658;\n",
       "                var nbb_unformatted_code = \"def make_y_for_x(given_x, mean=[0, 0], cov_matrix=[[1, 0], [0, 1]], tol=0.01):\\n    n = 0\\n    xs = []\\n    ys = []\\n    while n < 100:\\n        x, y = np.random.multivariate_normal(mean, cov_matrix)\\n        if np.abs(x - given_x) <= tol:\\n            xs.append(x)\\n            ys.append(y)\\n            n += 1\\n    return xs, ys\";\n",
       "                var nbb_formatted_code = \"def make_y_for_x(given_x, mean=[0, 0], cov_matrix=[[1, 0], [0, 1]], tol=0.01):\\n    n = 0\\n    xs = []\\n    ys = []\\n    while n < 100:\\n        x, y = np.random.multivariate_normal(mean, cov_matrix)\\n        if np.abs(x - given_x) <= tol:\\n            xs.append(x)\\n            ys.append(y)\\n            n += 1\\n    return xs, ys\";\n",
       "                var nbb_cells = Jupyter.notebook.get_cells();\n",
       "                for (var i = 0; i < nbb_cells.length; ++i) {\n",
       "                    if (nbb_cells[i].input_prompt_number == nbb_cell_id) {\n",
       "                        if (nbb_cells[i].get_text() == nbb_unformatted_code) {\n",
       "                             nbb_cells[i].set_text(nbb_formatted_code);\n",
       "                        }\n",
       "                        break;\n",
       "                    }\n",
       "                }\n",
       "            }, 500);\n",
       "            "
      ],
      "text/plain": [
       "<IPython.core.display.Javascript object>"
      ]
     },
     "metadata": {},
     "output_type": "display_data"
    }
   ],
   "source": [
    "def make_y_for_x(given_x, mean=[0, 0], cov_matrix=[[1, 0], [0, 1]], tol=0.01):\n",
    "    n = 0\n",
    "    xs = []\n",
    "    ys = []\n",
    "    while n < 100:\n",
    "        x, y = np.random.multivariate_normal(mean, cov_matrix)\n",
    "        if np.abs(x - given_x) <= tol:\n",
    "            xs.append(x)\n",
    "            ys.append(y)\n",
    "            n += 1\n",
    "    return xs, ys"
   ]
  },
  {
   "cell_type": "code",
   "execution_count": 1659,
   "id": "74779909",
   "metadata": {
    "hidden": true
   },
   "outputs": [
    {
     "data": {
      "application/javascript": [
       "\n",
       "            setTimeout(function() {\n",
       "                var nbb_cell_id = 1659;\n",
       "                var nbb_unformatted_code = \"cov_matrix = get_corr_cov()\";\n",
       "                var nbb_formatted_code = \"cov_matrix = get_corr_cov()\";\n",
       "                var nbb_cells = Jupyter.notebook.get_cells();\n",
       "                for (var i = 0; i < nbb_cells.length; ++i) {\n",
       "                    if (nbb_cells[i].input_prompt_number == nbb_cell_id) {\n",
       "                        if (nbb_cells[i].get_text() == nbb_unformatted_code) {\n",
       "                             nbb_cells[i].set_text(nbb_formatted_code);\n",
       "                        }\n",
       "                        break;\n",
       "                    }\n",
       "                }\n",
       "            }, 500);\n",
       "            "
      ],
      "text/plain": [
       "<IPython.core.display.Javascript object>"
      ]
     },
     "metadata": {},
     "output_type": "display_data"
    }
   ],
   "source": [
    "cov_matrix = get_corr_cov()"
   ]
  },
  {
   "cell_type": "code",
   "execution_count": 1660,
   "id": "7be0de69",
   "metadata": {
    "hidden": true,
    "scrolled": false
   },
   "outputs": [
    {
     "data": {
      "application/vnd.plotly.v1+json": {
       "config": {
        "plotlyServerURL": "https://plot.ly"
       },
       "data": [
        {
         "mode": "markers",
         "type": "scatter",
         "x": [
          2.9998932508179643,
          3.002604523116491,
          2.998883329041894,
          2.9980713527990774,
          2.993135983672567,
          2.9993519393988546,
          3.0091450728805365,
          3.0032518618569233,
          2.9985772440924436,
          3.00375023740066,
          2.9912117204149595,
          3.008958330956414,
          3.0062341263016084,
          2.996879052283777,
          2.9907041589499848,
          3.006837950449114,
          2.999428283492912,
          2.992012314677411,
          3.0002967220968584,
          3.003314818752151,
          3.0032574380223687,
          2.9996407874758364,
          3.005004732104764,
          3.003778930310446,
          3.003359054712472,
          2.996460130094768,
          3.0022850332951285,
          2.9906122248248095,
          3.009508646464356,
          2.993132887237518,
          3.007112239797215,
          3.0090851428098375,
          3.0011248738643133,
          2.997268308749147,
          3.0043335648535017,
          2.999760152873616,
          3.0037258330344137,
          2.9934260345983246,
          3.0031074516593517,
          2.991672632810054,
          2.992761605101614,
          2.9935643699027144,
          2.9995610566247244,
          3.0040543183882815,
          2.9934263309018263,
          3.001363185631065,
          2.999609363390854,
          3.00138217962412,
          3.0057328184860705,
          3.0060912492232723,
          3.0067447996144194,
          2.9907054639540824,
          3.000041237666008,
          2.9904952996583356,
          3.0093341693750943,
          2.9960828974174567,
          2.99808435965134,
          2.99152779087291,
          3.007204539670524,
          3.007564125663516,
          3.0050086917414154,
          3.009856270321791,
          2.9971139713531123,
          3.00778025835907,
          3.0079366149703057,
          2.9981656279684454,
          3.006514670475381,
          2.9957179251336794,
          2.995464700635181,
          3.006884303940163,
          3.00110763928717,
          2.9941300183211768,
          3.007202589524771,
          2.990262419617625,
          3.005140496421292,
          3.006915783977739,
          2.9964585149619456,
          3.0013794085254264,
          2.9989194934222696,
          2.9922708180841004,
          3.0045733319015917,
          2.9977595105731183,
          2.9997715166716676,
          3.0035589995428507,
          3.002623531797115,
          3.005720851121431,
          3.000509070745471,
          2.9995419044282823,
          2.992509530579473,
          2.997906655808571,
          2.9944039283424777,
          3.005154601787465,
          2.9985649965927212,
          3.004740018865996,
          3.0099356593816493,
          2.9902113512886968,
          3.0053746021257415,
          3.0083542435679282,
          2.991746525284175,
          2.997559924615363
         ],
         "y": [
          10.279661211503901,
          -2.377898712672084,
          3.8858865049238753,
          1.3737015954520115,
          3.390913557347547,
          1.7185907469497361,
          6.515135437070868,
          1.411120255077258,
          3.0322535386308864,
          9.5712457284179,
          6.178026310865082,
          6.813413793646901,
          1.0537031561076027,
          5.167525988516533,
          5.0469411390725325,
          4.172278592259102,
          5.4710942192915155,
          4.440452214152649,
          6.643573635829672,
          2.3435846652028727,
          4.957868184609109,
          2.674123523510498,
          5.412927855687475,
          5.805229732555513,
          5.3253158474466,
          4.821888610821596,
          3.875391524646604,
          3.1090363493110393,
          5.684821842476347,
          4.426531765625772,
          1.3380368766403596,
          1.3648488512520736,
          6.7592506697687265,
          1.56899194186881,
          7.386432634864302,
          -2.6423250741595212,
          8.481565125549025,
          -1.2065834195016811,
          6.5177890136190015,
          10.579023875483454,
          5.042082559950815,
          7.883630823428106,
          7.747363069443698,
          4.311431559749071,
          0.5829205217884934,
          5.847849098995901,
          6.486951926507058,
          -2.2327010230836692,
          1.588678544026338,
          0.6059042727102373,
          -0.5169993572349734,
          3.0235950578733672,
          2.1057651685964833,
          -0.9265987476258588,
          2.8921170702276617,
          0.7556337681108254,
          3.5088046666750055,
          2.469284671552738,
          10.531466166278777,
          -0.4625137099640684,
          2.443274274768488,
          6.8975358071714,
          4.687769447356146,
          4.959591109538001,
          0.675125368350266,
          2.5983207034096316,
          1.1620513105243213,
          1.9099915921645145,
          2.4441867018117076,
          4.859835842713676,
          2.051858436923493,
          6.733732100516219,
          -1.6335326123864942,
          4.467615580958172,
          4.602885252680656,
          2.051551337711764,
          0.39119743821402175,
          1.5754979192622383,
          5.587033936468477,
          9.344119569001125,
          5.252502104412326,
          4.200232652722651,
          5.623409600370114,
          2.8673483694638313,
          10.309554993323781,
          4.729695146652797,
          7.175309268433994,
          2.5177449428758214,
          4.760861172312226,
          9.93087180372599,
          5.337864792735953,
          4.198856091775644,
          7.598034701870734,
          4.525882933371736,
          4.16157088831687,
          5.913281455455598,
          5.467916908787232,
          6.8531218004676795,
          5.304064590338323,
          2.275036634101248
         ]
        }
       ],
       "layout": {
        "template": {
         "data": {
          "bar": [
           {
            "error_x": {
             "color": "#2a3f5f"
            },
            "error_y": {
             "color": "#2a3f5f"
            },
            "marker": {
             "line": {
              "color": "#E5ECF6",
              "width": 0.5
             },
             "pattern": {
              "fillmode": "overlay",
              "size": 10,
              "solidity": 0.2
             }
            },
            "type": "bar"
           }
          ],
          "barpolar": [
           {
            "marker": {
             "line": {
              "color": "#E5ECF6",
              "width": 0.5
             },
             "pattern": {
              "fillmode": "overlay",
              "size": 10,
              "solidity": 0.2
             }
            },
            "type": "barpolar"
           }
          ],
          "carpet": [
           {
            "aaxis": {
             "endlinecolor": "#2a3f5f",
             "gridcolor": "white",
             "linecolor": "white",
             "minorgridcolor": "white",
             "startlinecolor": "#2a3f5f"
            },
            "baxis": {
             "endlinecolor": "#2a3f5f",
             "gridcolor": "white",
             "linecolor": "white",
             "minorgridcolor": "white",
             "startlinecolor": "#2a3f5f"
            },
            "type": "carpet"
           }
          ],
          "choropleth": [
           {
            "colorbar": {
             "outlinewidth": 0,
             "ticks": ""
            },
            "type": "choropleth"
           }
          ],
          "contour": [
           {
            "colorbar": {
             "outlinewidth": 0,
             "ticks": ""
            },
            "colorscale": [
             [
              0,
              "#0d0887"
             ],
             [
              0.1111111111111111,
              "#46039f"
             ],
             [
              0.2222222222222222,
              "#7201a8"
             ],
             [
              0.3333333333333333,
              "#9c179e"
             ],
             [
              0.4444444444444444,
              "#bd3786"
             ],
             [
              0.5555555555555556,
              "#d8576b"
             ],
             [
              0.6666666666666666,
              "#ed7953"
             ],
             [
              0.7777777777777778,
              "#fb9f3a"
             ],
             [
              0.8888888888888888,
              "#fdca26"
             ],
             [
              1,
              "#f0f921"
             ]
            ],
            "type": "contour"
           }
          ],
          "contourcarpet": [
           {
            "colorbar": {
             "outlinewidth": 0,
             "ticks": ""
            },
            "type": "contourcarpet"
           }
          ],
          "heatmap": [
           {
            "colorbar": {
             "outlinewidth": 0,
             "ticks": ""
            },
            "colorscale": [
             [
              0,
              "#0d0887"
             ],
             [
              0.1111111111111111,
              "#46039f"
             ],
             [
              0.2222222222222222,
              "#7201a8"
             ],
             [
              0.3333333333333333,
              "#9c179e"
             ],
             [
              0.4444444444444444,
              "#bd3786"
             ],
             [
              0.5555555555555556,
              "#d8576b"
             ],
             [
              0.6666666666666666,
              "#ed7953"
             ],
             [
              0.7777777777777778,
              "#fb9f3a"
             ],
             [
              0.8888888888888888,
              "#fdca26"
             ],
             [
              1,
              "#f0f921"
             ]
            ],
            "type": "heatmap"
           }
          ],
          "heatmapgl": [
           {
            "colorbar": {
             "outlinewidth": 0,
             "ticks": ""
            },
            "colorscale": [
             [
              0,
              "#0d0887"
             ],
             [
              0.1111111111111111,
              "#46039f"
             ],
             [
              0.2222222222222222,
              "#7201a8"
             ],
             [
              0.3333333333333333,
              "#9c179e"
             ],
             [
              0.4444444444444444,
              "#bd3786"
             ],
             [
              0.5555555555555556,
              "#d8576b"
             ],
             [
              0.6666666666666666,
              "#ed7953"
             ],
             [
              0.7777777777777778,
              "#fb9f3a"
             ],
             [
              0.8888888888888888,
              "#fdca26"
             ],
             [
              1,
              "#f0f921"
             ]
            ],
            "type": "heatmapgl"
           }
          ],
          "histogram": [
           {
            "marker": {
             "pattern": {
              "fillmode": "overlay",
              "size": 10,
              "solidity": 0.2
             }
            },
            "type": "histogram"
           }
          ],
          "histogram2d": [
           {
            "colorbar": {
             "outlinewidth": 0,
             "ticks": ""
            },
            "colorscale": [
             [
              0,
              "#0d0887"
             ],
             [
              0.1111111111111111,
              "#46039f"
             ],
             [
              0.2222222222222222,
              "#7201a8"
             ],
             [
              0.3333333333333333,
              "#9c179e"
             ],
             [
              0.4444444444444444,
              "#bd3786"
             ],
             [
              0.5555555555555556,
              "#d8576b"
             ],
             [
              0.6666666666666666,
              "#ed7953"
             ],
             [
              0.7777777777777778,
              "#fb9f3a"
             ],
             [
              0.8888888888888888,
              "#fdca26"
             ],
             [
              1,
              "#f0f921"
             ]
            ],
            "type": "histogram2d"
           }
          ],
          "histogram2dcontour": [
           {
            "colorbar": {
             "outlinewidth": 0,
             "ticks": ""
            },
            "colorscale": [
             [
              0,
              "#0d0887"
             ],
             [
              0.1111111111111111,
              "#46039f"
             ],
             [
              0.2222222222222222,
              "#7201a8"
             ],
             [
              0.3333333333333333,
              "#9c179e"
             ],
             [
              0.4444444444444444,
              "#bd3786"
             ],
             [
              0.5555555555555556,
              "#d8576b"
             ],
             [
              0.6666666666666666,
              "#ed7953"
             ],
             [
              0.7777777777777778,
              "#fb9f3a"
             ],
             [
              0.8888888888888888,
              "#fdca26"
             ],
             [
              1,
              "#f0f921"
             ]
            ],
            "type": "histogram2dcontour"
           }
          ],
          "mesh3d": [
           {
            "colorbar": {
             "outlinewidth": 0,
             "ticks": ""
            },
            "type": "mesh3d"
           }
          ],
          "parcoords": [
           {
            "line": {
             "colorbar": {
              "outlinewidth": 0,
              "ticks": ""
             }
            },
            "type": "parcoords"
           }
          ],
          "pie": [
           {
            "automargin": true,
            "type": "pie"
           }
          ],
          "scatter": [
           {
            "fillpattern": {
             "fillmode": "overlay",
             "size": 10,
             "solidity": 0.2
            },
            "type": "scatter"
           }
          ],
          "scatter3d": [
           {
            "line": {
             "colorbar": {
              "outlinewidth": 0,
              "ticks": ""
             }
            },
            "marker": {
             "colorbar": {
              "outlinewidth": 0,
              "ticks": ""
             }
            },
            "type": "scatter3d"
           }
          ],
          "scattercarpet": [
           {
            "marker": {
             "colorbar": {
              "outlinewidth": 0,
              "ticks": ""
             }
            },
            "type": "scattercarpet"
           }
          ],
          "scattergeo": [
           {
            "marker": {
             "colorbar": {
              "outlinewidth": 0,
              "ticks": ""
             }
            },
            "type": "scattergeo"
           }
          ],
          "scattergl": [
           {
            "marker": {
             "colorbar": {
              "outlinewidth": 0,
              "ticks": ""
             }
            },
            "type": "scattergl"
           }
          ],
          "scattermapbox": [
           {
            "marker": {
             "colorbar": {
              "outlinewidth": 0,
              "ticks": ""
             }
            },
            "type": "scattermapbox"
           }
          ],
          "scatterpolar": [
           {
            "marker": {
             "colorbar": {
              "outlinewidth": 0,
              "ticks": ""
             }
            },
            "type": "scatterpolar"
           }
          ],
          "scatterpolargl": [
           {
            "marker": {
             "colorbar": {
              "outlinewidth": 0,
              "ticks": ""
             }
            },
            "type": "scatterpolargl"
           }
          ],
          "scatterternary": [
           {
            "marker": {
             "colorbar": {
              "outlinewidth": 0,
              "ticks": ""
             }
            },
            "type": "scatterternary"
           }
          ],
          "surface": [
           {
            "colorbar": {
             "outlinewidth": 0,
             "ticks": ""
            },
            "colorscale": [
             [
              0,
              "#0d0887"
             ],
             [
              0.1111111111111111,
              "#46039f"
             ],
             [
              0.2222222222222222,
              "#7201a8"
             ],
             [
              0.3333333333333333,
              "#9c179e"
             ],
             [
              0.4444444444444444,
              "#bd3786"
             ],
             [
              0.5555555555555556,
              "#d8576b"
             ],
             [
              0.6666666666666666,
              "#ed7953"
             ],
             [
              0.7777777777777778,
              "#fb9f3a"
             ],
             [
              0.8888888888888888,
              "#fdca26"
             ],
             [
              1,
              "#f0f921"
             ]
            ],
            "type": "surface"
           }
          ],
          "table": [
           {
            "cells": {
             "fill": {
              "color": "#EBF0F8"
             },
             "line": {
              "color": "white"
             }
            },
            "header": {
             "fill": {
              "color": "#C8D4E3"
             },
             "line": {
              "color": "white"
             }
            },
            "type": "table"
           }
          ]
         },
         "layout": {
          "annotationdefaults": {
           "arrowcolor": "#2a3f5f",
           "arrowhead": 0,
           "arrowwidth": 1
          },
          "autotypenumbers": "strict",
          "coloraxis": {
           "colorbar": {
            "outlinewidth": 0,
            "ticks": ""
           }
          },
          "colorscale": {
           "diverging": [
            [
             0,
             "#8e0152"
            ],
            [
             0.1,
             "#c51b7d"
            ],
            [
             0.2,
             "#de77ae"
            ],
            [
             0.3,
             "#f1b6da"
            ],
            [
             0.4,
             "#fde0ef"
            ],
            [
             0.5,
             "#f7f7f7"
            ],
            [
             0.6,
             "#e6f5d0"
            ],
            [
             0.7,
             "#b8e186"
            ],
            [
             0.8,
             "#7fbc41"
            ],
            [
             0.9,
             "#4d9221"
            ],
            [
             1,
             "#276419"
            ]
           ],
           "sequential": [
            [
             0,
             "#0d0887"
            ],
            [
             0.1111111111111111,
             "#46039f"
            ],
            [
             0.2222222222222222,
             "#7201a8"
            ],
            [
             0.3333333333333333,
             "#9c179e"
            ],
            [
             0.4444444444444444,
             "#bd3786"
            ],
            [
             0.5555555555555556,
             "#d8576b"
            ],
            [
             0.6666666666666666,
             "#ed7953"
            ],
            [
             0.7777777777777778,
             "#fb9f3a"
            ],
            [
             0.8888888888888888,
             "#fdca26"
            ],
            [
             1,
             "#f0f921"
            ]
           ],
           "sequentialminus": [
            [
             0,
             "#0d0887"
            ],
            [
             0.1111111111111111,
             "#46039f"
            ],
            [
             0.2222222222222222,
             "#7201a8"
            ],
            [
             0.3333333333333333,
             "#9c179e"
            ],
            [
             0.4444444444444444,
             "#bd3786"
            ],
            [
             0.5555555555555556,
             "#d8576b"
            ],
            [
             0.6666666666666666,
             "#ed7953"
            ],
            [
             0.7777777777777778,
             "#fb9f3a"
            ],
            [
             0.8888888888888888,
             "#fdca26"
            ],
            [
             1,
             "#f0f921"
            ]
           ]
          },
          "colorway": [
           "#636efa",
           "#EF553B",
           "#00cc96",
           "#ab63fa",
           "#FFA15A",
           "#19d3f3",
           "#FF6692",
           "#B6E880",
           "#FF97FF",
           "#FECB52"
          ],
          "font": {
           "color": "#2a3f5f"
          },
          "geo": {
           "bgcolor": "white",
           "lakecolor": "white",
           "landcolor": "#E5ECF6",
           "showlakes": true,
           "showland": true,
           "subunitcolor": "white"
          },
          "hoverlabel": {
           "align": "left"
          },
          "hovermode": "closest",
          "mapbox": {
           "style": "light"
          },
          "paper_bgcolor": "white",
          "plot_bgcolor": "#E5ECF6",
          "polar": {
           "angularaxis": {
            "gridcolor": "white",
            "linecolor": "white",
            "ticks": ""
           },
           "bgcolor": "#E5ECF6",
           "radialaxis": {
            "gridcolor": "white",
            "linecolor": "white",
            "ticks": ""
           }
          },
          "scene": {
           "xaxis": {
            "backgroundcolor": "#E5ECF6",
            "gridcolor": "white",
            "gridwidth": 2,
            "linecolor": "white",
            "showbackground": true,
            "ticks": "",
            "zerolinecolor": "white"
           },
           "yaxis": {
            "backgroundcolor": "#E5ECF6",
            "gridcolor": "white",
            "gridwidth": 2,
            "linecolor": "white",
            "showbackground": true,
            "ticks": "",
            "zerolinecolor": "white"
           },
           "zaxis": {
            "backgroundcolor": "#E5ECF6",
            "gridcolor": "white",
            "gridwidth": 2,
            "linecolor": "white",
            "showbackground": true,
            "ticks": "",
            "zerolinecolor": "white"
           }
          },
          "shapedefaults": {
           "line": {
            "color": "#2a3f5f"
           }
          },
          "ternary": {
           "aaxis": {
            "gridcolor": "white",
            "linecolor": "white",
            "ticks": ""
           },
           "baxis": {
            "gridcolor": "white",
            "linecolor": "white",
            "ticks": ""
           },
           "bgcolor": "#E5ECF6",
           "caxis": {
            "gridcolor": "white",
            "linecolor": "white",
            "ticks": ""
           }
          },
          "title": {
           "x": 0.05
          },
          "xaxis": {
           "automargin": true,
           "gridcolor": "white",
           "linecolor": "white",
           "ticks": "",
           "title": {
            "standoff": 15
           },
           "zerolinecolor": "white",
           "zerolinewidth": 2
          },
          "yaxis": {
           "automargin": true,
           "gridcolor": "white",
           "linecolor": "white",
           "ticks": "",
           "title": {
            "standoff": 15
           },
           "zerolinecolor": "white",
           "zerolinewidth": 2
          }
         }
        },
        "title": {
         "text": "Correlated 2D samples at x ~ 3"
        },
        "xaxis": {
         "range": [
          -4,
          4
         ]
        },
        "yaxis": {
         "range": [
          -15,
          15
         ]
        }
       }
      },
      "text/html": [
       "<div>                            <div id=\"64ff21b1-f14d-4d46-95bf-5b4465ca818f\" class=\"plotly-graph-div\" style=\"height:525px; width:100%;\"></div>            <script type=\"text/javascript\">                require([\"plotly\"], function(Plotly) {                    window.PLOTLYENV=window.PLOTLYENV || {};                                    if (document.getElementById(\"64ff21b1-f14d-4d46-95bf-5b4465ca818f\")) {                    Plotly.newPlot(                        \"64ff21b1-f14d-4d46-95bf-5b4465ca818f\",                        [{\"mode\":\"markers\",\"x\":[2.9998932508179643,3.002604523116491,2.998883329041894,2.9980713527990774,2.993135983672567,2.9993519393988546,3.0091450728805365,3.0032518618569233,2.9985772440924436,3.00375023740066,2.9912117204149595,3.008958330956414,3.0062341263016084,2.996879052283777,2.9907041589499848,3.006837950449114,2.999428283492912,2.992012314677411,3.0002967220968584,3.003314818752151,3.0032574380223687,2.9996407874758364,3.005004732104764,3.003778930310446,3.003359054712472,2.996460130094768,3.0022850332951285,2.9906122248248095,3.009508646464356,2.993132887237518,3.007112239797215,3.0090851428098375,3.0011248738643133,2.997268308749147,3.0043335648535017,2.999760152873616,3.0037258330344137,2.9934260345983246,3.0031074516593517,2.991672632810054,2.992761605101614,2.9935643699027144,2.9995610566247244,3.0040543183882815,2.9934263309018263,3.001363185631065,2.999609363390854,3.00138217962412,3.0057328184860705,3.0060912492232723,3.0067447996144194,2.9907054639540824,3.000041237666008,2.9904952996583356,3.0093341693750943,2.9960828974174567,2.99808435965134,2.99152779087291,3.007204539670524,3.007564125663516,3.0050086917414154,3.009856270321791,2.9971139713531123,3.00778025835907,3.0079366149703057,2.9981656279684454,3.006514670475381,2.9957179251336794,2.995464700635181,3.006884303940163,3.00110763928717,2.9941300183211768,3.007202589524771,2.990262419617625,3.005140496421292,3.006915783977739,2.9964585149619456,3.0013794085254264,2.9989194934222696,2.9922708180841004,3.0045733319015917,2.9977595105731183,2.9997715166716676,3.0035589995428507,3.002623531797115,3.005720851121431,3.000509070745471,2.9995419044282823,2.992509530579473,2.997906655808571,2.9944039283424777,3.005154601787465,2.9985649965927212,3.004740018865996,3.0099356593816493,2.9902113512886968,3.0053746021257415,3.0083542435679282,2.991746525284175,2.997559924615363],\"y\":[10.279661211503901,-2.377898712672084,3.8858865049238753,1.3737015954520115,3.390913557347547,1.7185907469497361,6.515135437070868,1.411120255077258,3.0322535386308864,9.5712457284179,6.178026310865082,6.813413793646901,1.0537031561076027,5.167525988516533,5.0469411390725325,4.172278592259102,5.4710942192915155,4.440452214152649,6.643573635829672,2.3435846652028727,4.957868184609109,2.674123523510498,5.412927855687475,5.805229732555513,5.3253158474466,4.821888610821596,3.875391524646604,3.1090363493110393,5.684821842476347,4.426531765625772,1.3380368766403596,1.3648488512520736,6.7592506697687265,1.56899194186881,7.386432634864302,-2.6423250741595212,8.481565125549025,-1.2065834195016811,6.5177890136190015,10.579023875483454,5.042082559950815,7.883630823428106,7.747363069443698,4.311431559749071,0.5829205217884934,5.847849098995901,6.486951926507058,-2.2327010230836692,1.588678544026338,0.6059042727102373,-0.5169993572349734,3.0235950578733672,2.1057651685964833,-0.9265987476258588,2.8921170702276617,0.7556337681108254,3.5088046666750055,2.469284671552738,10.531466166278777,-0.4625137099640684,2.443274274768488,6.8975358071714,4.687769447356146,4.959591109538001,0.675125368350266,2.5983207034096316,1.1620513105243213,1.9099915921645145,2.4441867018117076,4.859835842713676,2.051858436923493,6.733732100516219,-1.6335326123864942,4.467615580958172,4.602885252680656,2.051551337711764,0.39119743821402175,1.5754979192622383,5.587033936468477,9.344119569001125,5.252502104412326,4.200232652722651,5.623409600370114,2.8673483694638313,10.309554993323781,4.729695146652797,7.175309268433994,2.5177449428758214,4.760861172312226,9.93087180372599,5.337864792735953,4.198856091775644,7.598034701870734,4.525882933371736,4.16157088831687,5.913281455455598,5.467916908787232,6.8531218004676795,5.304064590338323,2.275036634101248],\"type\":\"scatter\"}],                        {\"template\":{\"data\":{\"histogram2dcontour\":[{\"type\":\"histogram2dcontour\",\"colorbar\":{\"outlinewidth\":0,\"ticks\":\"\"},\"colorscale\":[[0.0,\"#0d0887\"],[0.1111111111111111,\"#46039f\"],[0.2222222222222222,\"#7201a8\"],[0.3333333333333333,\"#9c179e\"],[0.4444444444444444,\"#bd3786\"],[0.5555555555555556,\"#d8576b\"],[0.6666666666666666,\"#ed7953\"],[0.7777777777777778,\"#fb9f3a\"],[0.8888888888888888,\"#fdca26\"],[1.0,\"#f0f921\"]]}],\"choropleth\":[{\"type\":\"choropleth\",\"colorbar\":{\"outlinewidth\":0,\"ticks\":\"\"}}],\"histogram2d\":[{\"type\":\"histogram2d\",\"colorbar\":{\"outlinewidth\":0,\"ticks\":\"\"},\"colorscale\":[[0.0,\"#0d0887\"],[0.1111111111111111,\"#46039f\"],[0.2222222222222222,\"#7201a8\"],[0.3333333333333333,\"#9c179e\"],[0.4444444444444444,\"#bd3786\"],[0.5555555555555556,\"#d8576b\"],[0.6666666666666666,\"#ed7953\"],[0.7777777777777778,\"#fb9f3a\"],[0.8888888888888888,\"#fdca26\"],[1.0,\"#f0f921\"]]}],\"heatmap\":[{\"type\":\"heatmap\",\"colorbar\":{\"outlinewidth\":0,\"ticks\":\"\"},\"colorscale\":[[0.0,\"#0d0887\"],[0.1111111111111111,\"#46039f\"],[0.2222222222222222,\"#7201a8\"],[0.3333333333333333,\"#9c179e\"],[0.4444444444444444,\"#bd3786\"],[0.5555555555555556,\"#d8576b\"],[0.6666666666666666,\"#ed7953\"],[0.7777777777777778,\"#fb9f3a\"],[0.8888888888888888,\"#fdca26\"],[1.0,\"#f0f921\"]]}],\"heatmapgl\":[{\"type\":\"heatmapgl\",\"colorbar\":{\"outlinewidth\":0,\"ticks\":\"\"},\"colorscale\":[[0.0,\"#0d0887\"],[0.1111111111111111,\"#46039f\"],[0.2222222222222222,\"#7201a8\"],[0.3333333333333333,\"#9c179e\"],[0.4444444444444444,\"#bd3786\"],[0.5555555555555556,\"#d8576b\"],[0.6666666666666666,\"#ed7953\"],[0.7777777777777778,\"#fb9f3a\"],[0.8888888888888888,\"#fdca26\"],[1.0,\"#f0f921\"]]}],\"contourcarpet\":[{\"type\":\"contourcarpet\",\"colorbar\":{\"outlinewidth\":0,\"ticks\":\"\"}}],\"contour\":[{\"type\":\"contour\",\"colorbar\":{\"outlinewidth\":0,\"ticks\":\"\"},\"colorscale\":[[0.0,\"#0d0887\"],[0.1111111111111111,\"#46039f\"],[0.2222222222222222,\"#7201a8\"],[0.3333333333333333,\"#9c179e\"],[0.4444444444444444,\"#bd3786\"],[0.5555555555555556,\"#d8576b\"],[0.6666666666666666,\"#ed7953\"],[0.7777777777777778,\"#fb9f3a\"],[0.8888888888888888,\"#fdca26\"],[1.0,\"#f0f921\"]]}],\"surface\":[{\"type\":\"surface\",\"colorbar\":{\"outlinewidth\":0,\"ticks\":\"\"},\"colorscale\":[[0.0,\"#0d0887\"],[0.1111111111111111,\"#46039f\"],[0.2222222222222222,\"#7201a8\"],[0.3333333333333333,\"#9c179e\"],[0.4444444444444444,\"#bd3786\"],[0.5555555555555556,\"#d8576b\"],[0.6666666666666666,\"#ed7953\"],[0.7777777777777778,\"#fb9f3a\"],[0.8888888888888888,\"#fdca26\"],[1.0,\"#f0f921\"]]}],\"mesh3d\":[{\"type\":\"mesh3d\",\"colorbar\":{\"outlinewidth\":0,\"ticks\":\"\"}}],\"scatter\":[{\"fillpattern\":{\"fillmode\":\"overlay\",\"size\":10,\"solidity\":0.2},\"type\":\"scatter\"}],\"parcoords\":[{\"type\":\"parcoords\",\"line\":{\"colorbar\":{\"outlinewidth\":0,\"ticks\":\"\"}}}],\"scatterpolargl\":[{\"type\":\"scatterpolargl\",\"marker\":{\"colorbar\":{\"outlinewidth\":0,\"ticks\":\"\"}}}],\"bar\":[{\"error_x\":{\"color\":\"#2a3f5f\"},\"error_y\":{\"color\":\"#2a3f5f\"},\"marker\":{\"line\":{\"color\":\"#E5ECF6\",\"width\":0.5},\"pattern\":{\"fillmode\":\"overlay\",\"size\":10,\"solidity\":0.2}},\"type\":\"bar\"}],\"scattergeo\":[{\"type\":\"scattergeo\",\"marker\":{\"colorbar\":{\"outlinewidth\":0,\"ticks\":\"\"}}}],\"scatterpolar\":[{\"type\":\"scatterpolar\",\"marker\":{\"colorbar\":{\"outlinewidth\":0,\"ticks\":\"\"}}}],\"histogram\":[{\"marker\":{\"pattern\":{\"fillmode\":\"overlay\",\"size\":10,\"solidity\":0.2}},\"type\":\"histogram\"}],\"scattergl\":[{\"type\":\"scattergl\",\"marker\":{\"colorbar\":{\"outlinewidth\":0,\"ticks\":\"\"}}}],\"scatter3d\":[{\"type\":\"scatter3d\",\"line\":{\"colorbar\":{\"outlinewidth\":0,\"ticks\":\"\"}},\"marker\":{\"colorbar\":{\"outlinewidth\":0,\"ticks\":\"\"}}}],\"scattermapbox\":[{\"type\":\"scattermapbox\",\"marker\":{\"colorbar\":{\"outlinewidth\":0,\"ticks\":\"\"}}}],\"scatterternary\":[{\"type\":\"scatterternary\",\"marker\":{\"colorbar\":{\"outlinewidth\":0,\"ticks\":\"\"}}}],\"scattercarpet\":[{\"type\":\"scattercarpet\",\"marker\":{\"colorbar\":{\"outlinewidth\":0,\"ticks\":\"\"}}}],\"carpet\":[{\"aaxis\":{\"endlinecolor\":\"#2a3f5f\",\"gridcolor\":\"white\",\"linecolor\":\"white\",\"minorgridcolor\":\"white\",\"startlinecolor\":\"#2a3f5f\"},\"baxis\":{\"endlinecolor\":\"#2a3f5f\",\"gridcolor\":\"white\",\"linecolor\":\"white\",\"minorgridcolor\":\"white\",\"startlinecolor\":\"#2a3f5f\"},\"type\":\"carpet\"}],\"table\":[{\"cells\":{\"fill\":{\"color\":\"#EBF0F8\"},\"line\":{\"color\":\"white\"}},\"header\":{\"fill\":{\"color\":\"#C8D4E3\"},\"line\":{\"color\":\"white\"}},\"type\":\"table\"}],\"barpolar\":[{\"marker\":{\"line\":{\"color\":\"#E5ECF6\",\"width\":0.5},\"pattern\":{\"fillmode\":\"overlay\",\"size\":10,\"solidity\":0.2}},\"type\":\"barpolar\"}],\"pie\":[{\"automargin\":true,\"type\":\"pie\"}]},\"layout\":{\"autotypenumbers\":\"strict\",\"colorway\":[\"#636efa\",\"#EF553B\",\"#00cc96\",\"#ab63fa\",\"#FFA15A\",\"#19d3f3\",\"#FF6692\",\"#B6E880\",\"#FF97FF\",\"#FECB52\"],\"font\":{\"color\":\"#2a3f5f\"},\"hovermode\":\"closest\",\"hoverlabel\":{\"align\":\"left\"},\"paper_bgcolor\":\"white\",\"plot_bgcolor\":\"#E5ECF6\",\"polar\":{\"bgcolor\":\"#E5ECF6\",\"angularaxis\":{\"gridcolor\":\"white\",\"linecolor\":\"white\",\"ticks\":\"\"},\"radialaxis\":{\"gridcolor\":\"white\",\"linecolor\":\"white\",\"ticks\":\"\"}},\"ternary\":{\"bgcolor\":\"#E5ECF6\",\"aaxis\":{\"gridcolor\":\"white\",\"linecolor\":\"white\",\"ticks\":\"\"},\"baxis\":{\"gridcolor\":\"white\",\"linecolor\":\"white\",\"ticks\":\"\"},\"caxis\":{\"gridcolor\":\"white\",\"linecolor\":\"white\",\"ticks\":\"\"}},\"coloraxis\":{\"colorbar\":{\"outlinewidth\":0,\"ticks\":\"\"}},\"colorscale\":{\"sequential\":[[0.0,\"#0d0887\"],[0.1111111111111111,\"#46039f\"],[0.2222222222222222,\"#7201a8\"],[0.3333333333333333,\"#9c179e\"],[0.4444444444444444,\"#bd3786\"],[0.5555555555555556,\"#d8576b\"],[0.6666666666666666,\"#ed7953\"],[0.7777777777777778,\"#fb9f3a\"],[0.8888888888888888,\"#fdca26\"],[1.0,\"#f0f921\"]],\"sequentialminus\":[[0.0,\"#0d0887\"],[0.1111111111111111,\"#46039f\"],[0.2222222222222222,\"#7201a8\"],[0.3333333333333333,\"#9c179e\"],[0.4444444444444444,\"#bd3786\"],[0.5555555555555556,\"#d8576b\"],[0.6666666666666666,\"#ed7953\"],[0.7777777777777778,\"#fb9f3a\"],[0.8888888888888888,\"#fdca26\"],[1.0,\"#f0f921\"]],\"diverging\":[[0,\"#8e0152\"],[0.1,\"#c51b7d\"],[0.2,\"#de77ae\"],[0.3,\"#f1b6da\"],[0.4,\"#fde0ef\"],[0.5,\"#f7f7f7\"],[0.6,\"#e6f5d0\"],[0.7,\"#b8e186\"],[0.8,\"#7fbc41\"],[0.9,\"#4d9221\"],[1,\"#276419\"]]},\"xaxis\":{\"gridcolor\":\"white\",\"linecolor\":\"white\",\"ticks\":\"\",\"title\":{\"standoff\":15},\"zerolinecolor\":\"white\",\"automargin\":true,\"zerolinewidth\":2},\"yaxis\":{\"gridcolor\":\"white\",\"linecolor\":\"white\",\"ticks\":\"\",\"title\":{\"standoff\":15},\"zerolinecolor\":\"white\",\"automargin\":true,\"zerolinewidth\":2},\"scene\":{\"xaxis\":{\"backgroundcolor\":\"#E5ECF6\",\"gridcolor\":\"white\",\"linecolor\":\"white\",\"showbackground\":true,\"ticks\":\"\",\"zerolinecolor\":\"white\",\"gridwidth\":2},\"yaxis\":{\"backgroundcolor\":\"#E5ECF6\",\"gridcolor\":\"white\",\"linecolor\":\"white\",\"showbackground\":true,\"ticks\":\"\",\"zerolinecolor\":\"white\",\"gridwidth\":2},\"zaxis\":{\"backgroundcolor\":\"#E5ECF6\",\"gridcolor\":\"white\",\"linecolor\":\"white\",\"showbackground\":true,\"ticks\":\"\",\"zerolinecolor\":\"white\",\"gridwidth\":2}},\"shapedefaults\":{\"line\":{\"color\":\"#2a3f5f\"}},\"annotationdefaults\":{\"arrowcolor\":\"#2a3f5f\",\"arrowhead\":0,\"arrowwidth\":1},\"geo\":{\"bgcolor\":\"white\",\"landcolor\":\"#E5ECF6\",\"subunitcolor\":\"white\",\"showland\":true,\"showlakes\":true,\"lakecolor\":\"white\"},\"title\":{\"x\":0.05},\"mapbox\":{\"style\":\"light\"}}},\"title\":{\"text\":\"Correlated 2D samples at x ~ 3\"},\"xaxis\":{\"range\":[-4,4]},\"yaxis\":{\"range\":[-15,15]}},                        {\"responsive\": true}                    ).then(function(){\n",
       "                            \n",
       "var gd = document.getElementById('64ff21b1-f14d-4d46-95bf-5b4465ca818f');\n",
       "var x = new MutationObserver(function (mutations, observer) {{\n",
       "        var display = window.getComputedStyle(gd).display;\n",
       "        if (!display || display === 'none') {{\n",
       "            console.log([gd, 'removed!']);\n",
       "            Plotly.purge(gd);\n",
       "            observer.disconnect();\n",
       "        }}\n",
       "}});\n",
       "\n",
       "// Listen for the removal of the full notebook cells\n",
       "var notebookContainer = gd.closest('#notebook-container');\n",
       "if (notebookContainer) {{\n",
       "    x.observe(notebookContainer, {childList: true});\n",
       "}}\n",
       "\n",
       "// Listen for the clearing of the current output cell\n",
       "var outputEl = gd.closest('.output');\n",
       "if (outputEl) {{\n",
       "    x.observe(outputEl, {childList: true});\n",
       "}}\n",
       "\n",
       "                        })                };                });            </script>        </div>"
      ]
     },
     "metadata": {},
     "output_type": "display_data"
    },
    {
     "data": {
      "application/javascript": [
       "\n",
       "            setTimeout(function() {\n",
       "                var nbb_cell_id = 1660;\n",
       "                var nbb_unformatted_code = \"xs_c_m, ys_c_m = make_y_for_x(3, cov_matrix=cov_matrix)\\nfig = go_scatter(xs_c_m, ys_c_m, title=\\\"Correlated 2D samples at x ~ 3\\\")\\nfig.update_xaxes(range=[-4, 4])\\nfig.update_yaxes(range=[-15, 15])\";\n",
       "                var nbb_formatted_code = \"xs_c_m, ys_c_m = make_y_for_x(3, cov_matrix=cov_matrix)\\nfig = go_scatter(xs_c_m, ys_c_m, title=\\\"Correlated 2D samples at x ~ 3\\\")\\nfig.update_xaxes(range=[-4, 4])\\nfig.update_yaxes(range=[-15, 15])\";\n",
       "                var nbb_cells = Jupyter.notebook.get_cells();\n",
       "                for (var i = 0; i < nbb_cells.length; ++i) {\n",
       "                    if (nbb_cells[i].input_prompt_number == nbb_cell_id) {\n",
       "                        if (nbb_cells[i].get_text() == nbb_unformatted_code) {\n",
       "                             nbb_cells[i].set_text(nbb_formatted_code);\n",
       "                        }\n",
       "                        break;\n",
       "                    }\n",
       "                }\n",
       "            }, 500);\n",
       "            "
      ],
      "text/plain": [
       "<IPython.core.display.Javascript object>"
      ]
     },
     "metadata": {},
     "output_type": "display_data"
    }
   ],
   "source": [
    "xs_c_m, ys_c_m = make_y_for_x(3, cov_matrix=cov_matrix)\n",
    "fig = go_scatter(xs_c_m, ys_c_m, title=\"Correlated 2D samples at x ~ 3\")\n",
    "fig.update_xaxes(range=[-4, 4])\n",
    "fig.update_yaxes(range=[-15, 15])"
   ]
  },
  {
   "cell_type": "code",
   "execution_count": 1661,
   "id": "9519be75",
   "metadata": {
    "hidden": true
   },
   "outputs": [
    {
     "data": {
      "application/vnd.plotly.v1+json": {
       "config": {
        "plotlyServerURL": "https://plot.ly"
       },
       "data": [
        {
         "mode": "markers",
         "type": "scatter",
         "x": [
          -3.0065548679559626,
          -3.006560855327969,
          -3.0090576678614345,
          -3.0060937469263647,
          -3.001960336397212,
          -2.9938460856581623,
          -3.00805559511112,
          -3.005164798186815,
          -2.9918912233239263,
          -3.002086427685362,
          -2.999331703166623,
          -3.0080873641717076,
          -2.9990218300412286,
          -3.007141347575898,
          -2.996389237266885,
          -3.004307005769484,
          -3.0093365777104704,
          -3.0067402191132855,
          -2.997753164509372,
          -3.0035509060233565,
          -3.005024022380568,
          -2.99219674106493,
          -2.9948214379624543,
          -3.0017344508721657,
          -2.9973761286531424,
          -3.0045977937476733,
          -2.9901146526993907,
          -2.9982734377195595,
          -2.9911465923793052,
          -3.003233158109767,
          -2.9988986912147437,
          -3.000080917949103,
          -3.002353885737935,
          -3.0010826606086094,
          -3.0078403277540584,
          -2.9967723006334905,
          -2.99254763854992,
          -3.002729413935737,
          -2.997285145457073,
          -2.997087353670274,
          -2.9900778658394183,
          -2.995042626028836,
          -2.990308551552867,
          -3.007228326248052,
          -3.007693139902939,
          -3.00911019221468,
          -3.0044115030813168,
          -3.007015322458271,
          -2.998101764803328,
          -3.0078082069312995,
          -2.995020293514369,
          -3.0082185838208644,
          -2.995802061744125,
          -3.0060694726437402,
          -3.005800312824937,
          -3.008334770297459,
          -3.0065955413350007,
          -3.0075109938648366,
          -3.0096308603627575,
          -3.004420601783166,
          -2.9978923477678197,
          -3.0083244994492557,
          -2.9916680294276707,
          -2.998454939231226,
          -3.0004296277111857,
          -3.0051636709226752,
          -2.9947055419981004,
          -3.0093366656867264,
          -3.0028206351932,
          -3.008624275859219,
          -3.0002139815625437,
          -3.000988937781141,
          -3.0033163723251346,
          -3.0098533576589666,
          -3.005006999810978,
          -3.0015689272557458,
          -2.994667311280509,
          -2.996387348986214,
          -2.9966304847076377,
          -2.9959290842065887,
          -3.007809513183979,
          -2.992264360460529,
          -2.9998269753606537,
          -3.0081888423081224,
          -2.998155549114208,
          -3.005469029628913,
          -2.9918220857449187,
          -3.0068651773150004,
          -3.0049850976256076,
          -3.0056155758000047,
          -3.006556848618823,
          -3.0069605335693432,
          -3.001006608893392,
          -3.0034051147930185,
          -2.999051165133157,
          -3.000116088885058,
          -2.9915828700208578,
          -2.9980674286891533,
          -3.009168727364464,
          -3.0078151162887012
         ],
         "y": [
          -5.487741900398953,
          -3.887813367665051,
          -8.600763040321988,
          -7.4256754485338945,
          -0.06926218306249332,
          -1.559716418381321,
          -8.733104687709233,
          -4.734525975258746,
          -5.362938434627216,
          -4.047637889702809,
          -5.211269039733273,
          -4.10717850582697,
          -2.040829707806851,
          -9.086711021158012,
          -0.006615197051834887,
          -3.0577598839035343,
          -5.37120800823713,
          -9.965524724127839,
          -1.0224917049545241,
          0.5649213095441024,
          -2.841428937474993,
          -0.3102891103171339,
          -2.0166200594583343,
          -8.609822619089588,
          -1.7158238514999438,
          -2.1366138651519373,
          -7.346173292639633,
          -8.84524188714759,
          -5.177150260380363,
          -4.945497351512703,
          -0.7460481022082659,
          -3.6972815292423125,
          0.8742797730689517,
          -5.546377807692764,
          -1.3198990202620766,
          0.22952856194909432,
          -3.979205133518223,
          -10.014193750233346,
          1.6441593028713208,
          -4.3641339344194945,
          -5.4807064484773536,
          1.072732720571015,
          -4.044506817795313,
          -4.181338915400398,
          -11.62224221182288,
          -4.472451398735148,
          -5.875932776556388,
          -2.799849969083573,
          -2.8572786479384282,
          -3.5703261612619452,
          -10.686940207810132,
          -0.8947734544280417,
          -9.911479114028529,
          -7.208382673573946,
          -3.0579151727486122,
          -3.4001781113985747,
          -1.8749867961613704,
          -3.3931806792246344,
          1.5826200956125205,
          -3.101306191993283,
          -5.393182732723487,
          -0.4335689139774148,
          1.7177692868485206,
          -3.4594976282321,
          -2.1777557937312184,
          -6.143490094446946,
          4.021821874142451,
          -5.190573149730823,
          -5.888289191536854,
          -7.335268343896856,
          1.3096198573853037,
          -0.7057885886595452,
          -5.733866983580909,
          -6.662888593753869,
          -6.882313973168397,
          -3.76216859309771,
          -0.6146731063540292,
          -2.5869843070037915,
          -1.386040769889199,
          -1.901551668415197,
          -2.6801681968953885,
          -7.630365432109999,
          -0.6803323431333252,
          -3.8219366910024357,
          0.8082475758215244,
          -0.3805643394346261,
          -1.0705286079070198,
          -3.1075664742908815,
          -7.770499164320555,
          -6.4448417794083825,
          -0.8181024726750241,
          -2.8443239519390726,
          -7.545116784267196,
          -2.736655742581991,
          -4.893228698275289,
          -5.383199556184708,
          -4.851971677318251,
          -1.3796108308362824,
          -5.90149709776483,
          -5.022962836429553
         ]
        }
       ],
       "layout": {
        "template": {
         "data": {
          "bar": [
           {
            "error_x": {
             "color": "#2a3f5f"
            },
            "error_y": {
             "color": "#2a3f5f"
            },
            "marker": {
             "line": {
              "color": "#E5ECF6",
              "width": 0.5
             },
             "pattern": {
              "fillmode": "overlay",
              "size": 10,
              "solidity": 0.2
             }
            },
            "type": "bar"
           }
          ],
          "barpolar": [
           {
            "marker": {
             "line": {
              "color": "#E5ECF6",
              "width": 0.5
             },
             "pattern": {
              "fillmode": "overlay",
              "size": 10,
              "solidity": 0.2
             }
            },
            "type": "barpolar"
           }
          ],
          "carpet": [
           {
            "aaxis": {
             "endlinecolor": "#2a3f5f",
             "gridcolor": "white",
             "linecolor": "white",
             "minorgridcolor": "white",
             "startlinecolor": "#2a3f5f"
            },
            "baxis": {
             "endlinecolor": "#2a3f5f",
             "gridcolor": "white",
             "linecolor": "white",
             "minorgridcolor": "white",
             "startlinecolor": "#2a3f5f"
            },
            "type": "carpet"
           }
          ],
          "choropleth": [
           {
            "colorbar": {
             "outlinewidth": 0,
             "ticks": ""
            },
            "type": "choropleth"
           }
          ],
          "contour": [
           {
            "colorbar": {
             "outlinewidth": 0,
             "ticks": ""
            },
            "colorscale": [
             [
              0,
              "#0d0887"
             ],
             [
              0.1111111111111111,
              "#46039f"
             ],
             [
              0.2222222222222222,
              "#7201a8"
             ],
             [
              0.3333333333333333,
              "#9c179e"
             ],
             [
              0.4444444444444444,
              "#bd3786"
             ],
             [
              0.5555555555555556,
              "#d8576b"
             ],
             [
              0.6666666666666666,
              "#ed7953"
             ],
             [
              0.7777777777777778,
              "#fb9f3a"
             ],
             [
              0.8888888888888888,
              "#fdca26"
             ],
             [
              1,
              "#f0f921"
             ]
            ],
            "type": "contour"
           }
          ],
          "contourcarpet": [
           {
            "colorbar": {
             "outlinewidth": 0,
             "ticks": ""
            },
            "type": "contourcarpet"
           }
          ],
          "heatmap": [
           {
            "colorbar": {
             "outlinewidth": 0,
             "ticks": ""
            },
            "colorscale": [
             [
              0,
              "#0d0887"
             ],
             [
              0.1111111111111111,
              "#46039f"
             ],
             [
              0.2222222222222222,
              "#7201a8"
             ],
             [
              0.3333333333333333,
              "#9c179e"
             ],
             [
              0.4444444444444444,
              "#bd3786"
             ],
             [
              0.5555555555555556,
              "#d8576b"
             ],
             [
              0.6666666666666666,
              "#ed7953"
             ],
             [
              0.7777777777777778,
              "#fb9f3a"
             ],
             [
              0.8888888888888888,
              "#fdca26"
             ],
             [
              1,
              "#f0f921"
             ]
            ],
            "type": "heatmap"
           }
          ],
          "heatmapgl": [
           {
            "colorbar": {
             "outlinewidth": 0,
             "ticks": ""
            },
            "colorscale": [
             [
              0,
              "#0d0887"
             ],
             [
              0.1111111111111111,
              "#46039f"
             ],
             [
              0.2222222222222222,
              "#7201a8"
             ],
             [
              0.3333333333333333,
              "#9c179e"
             ],
             [
              0.4444444444444444,
              "#bd3786"
             ],
             [
              0.5555555555555556,
              "#d8576b"
             ],
             [
              0.6666666666666666,
              "#ed7953"
             ],
             [
              0.7777777777777778,
              "#fb9f3a"
             ],
             [
              0.8888888888888888,
              "#fdca26"
             ],
             [
              1,
              "#f0f921"
             ]
            ],
            "type": "heatmapgl"
           }
          ],
          "histogram": [
           {
            "marker": {
             "pattern": {
              "fillmode": "overlay",
              "size": 10,
              "solidity": 0.2
             }
            },
            "type": "histogram"
           }
          ],
          "histogram2d": [
           {
            "colorbar": {
             "outlinewidth": 0,
             "ticks": ""
            },
            "colorscale": [
             [
              0,
              "#0d0887"
             ],
             [
              0.1111111111111111,
              "#46039f"
             ],
             [
              0.2222222222222222,
              "#7201a8"
             ],
             [
              0.3333333333333333,
              "#9c179e"
             ],
             [
              0.4444444444444444,
              "#bd3786"
             ],
             [
              0.5555555555555556,
              "#d8576b"
             ],
             [
              0.6666666666666666,
              "#ed7953"
             ],
             [
              0.7777777777777778,
              "#fb9f3a"
             ],
             [
              0.8888888888888888,
              "#fdca26"
             ],
             [
              1,
              "#f0f921"
             ]
            ],
            "type": "histogram2d"
           }
          ],
          "histogram2dcontour": [
           {
            "colorbar": {
             "outlinewidth": 0,
             "ticks": ""
            },
            "colorscale": [
             [
              0,
              "#0d0887"
             ],
             [
              0.1111111111111111,
              "#46039f"
             ],
             [
              0.2222222222222222,
              "#7201a8"
             ],
             [
              0.3333333333333333,
              "#9c179e"
             ],
             [
              0.4444444444444444,
              "#bd3786"
             ],
             [
              0.5555555555555556,
              "#d8576b"
             ],
             [
              0.6666666666666666,
              "#ed7953"
             ],
             [
              0.7777777777777778,
              "#fb9f3a"
             ],
             [
              0.8888888888888888,
              "#fdca26"
             ],
             [
              1,
              "#f0f921"
             ]
            ],
            "type": "histogram2dcontour"
           }
          ],
          "mesh3d": [
           {
            "colorbar": {
             "outlinewidth": 0,
             "ticks": ""
            },
            "type": "mesh3d"
           }
          ],
          "parcoords": [
           {
            "line": {
             "colorbar": {
              "outlinewidth": 0,
              "ticks": ""
             }
            },
            "type": "parcoords"
           }
          ],
          "pie": [
           {
            "automargin": true,
            "type": "pie"
           }
          ],
          "scatter": [
           {
            "fillpattern": {
             "fillmode": "overlay",
             "size": 10,
             "solidity": 0.2
            },
            "type": "scatter"
           }
          ],
          "scatter3d": [
           {
            "line": {
             "colorbar": {
              "outlinewidth": 0,
              "ticks": ""
             }
            },
            "marker": {
             "colorbar": {
              "outlinewidth": 0,
              "ticks": ""
             }
            },
            "type": "scatter3d"
           }
          ],
          "scattercarpet": [
           {
            "marker": {
             "colorbar": {
              "outlinewidth": 0,
              "ticks": ""
             }
            },
            "type": "scattercarpet"
           }
          ],
          "scattergeo": [
           {
            "marker": {
             "colorbar": {
              "outlinewidth": 0,
              "ticks": ""
             }
            },
            "type": "scattergeo"
           }
          ],
          "scattergl": [
           {
            "marker": {
             "colorbar": {
              "outlinewidth": 0,
              "ticks": ""
             }
            },
            "type": "scattergl"
           }
          ],
          "scattermapbox": [
           {
            "marker": {
             "colorbar": {
              "outlinewidth": 0,
              "ticks": ""
             }
            },
            "type": "scattermapbox"
           }
          ],
          "scatterpolar": [
           {
            "marker": {
             "colorbar": {
              "outlinewidth": 0,
              "ticks": ""
             }
            },
            "type": "scatterpolar"
           }
          ],
          "scatterpolargl": [
           {
            "marker": {
             "colorbar": {
              "outlinewidth": 0,
              "ticks": ""
             }
            },
            "type": "scatterpolargl"
           }
          ],
          "scatterternary": [
           {
            "marker": {
             "colorbar": {
              "outlinewidth": 0,
              "ticks": ""
             }
            },
            "type": "scatterternary"
           }
          ],
          "surface": [
           {
            "colorbar": {
             "outlinewidth": 0,
             "ticks": ""
            },
            "colorscale": [
             [
              0,
              "#0d0887"
             ],
             [
              0.1111111111111111,
              "#46039f"
             ],
             [
              0.2222222222222222,
              "#7201a8"
             ],
             [
              0.3333333333333333,
              "#9c179e"
             ],
             [
              0.4444444444444444,
              "#bd3786"
             ],
             [
              0.5555555555555556,
              "#d8576b"
             ],
             [
              0.6666666666666666,
              "#ed7953"
             ],
             [
              0.7777777777777778,
              "#fb9f3a"
             ],
             [
              0.8888888888888888,
              "#fdca26"
             ],
             [
              1,
              "#f0f921"
             ]
            ],
            "type": "surface"
           }
          ],
          "table": [
           {
            "cells": {
             "fill": {
              "color": "#EBF0F8"
             },
             "line": {
              "color": "white"
             }
            },
            "header": {
             "fill": {
              "color": "#C8D4E3"
             },
             "line": {
              "color": "white"
             }
            },
            "type": "table"
           }
          ]
         },
         "layout": {
          "annotationdefaults": {
           "arrowcolor": "#2a3f5f",
           "arrowhead": 0,
           "arrowwidth": 1
          },
          "autotypenumbers": "strict",
          "coloraxis": {
           "colorbar": {
            "outlinewidth": 0,
            "ticks": ""
           }
          },
          "colorscale": {
           "diverging": [
            [
             0,
             "#8e0152"
            ],
            [
             0.1,
             "#c51b7d"
            ],
            [
             0.2,
             "#de77ae"
            ],
            [
             0.3,
             "#f1b6da"
            ],
            [
             0.4,
             "#fde0ef"
            ],
            [
             0.5,
             "#f7f7f7"
            ],
            [
             0.6,
             "#e6f5d0"
            ],
            [
             0.7,
             "#b8e186"
            ],
            [
             0.8,
             "#7fbc41"
            ],
            [
             0.9,
             "#4d9221"
            ],
            [
             1,
             "#276419"
            ]
           ],
           "sequential": [
            [
             0,
             "#0d0887"
            ],
            [
             0.1111111111111111,
             "#46039f"
            ],
            [
             0.2222222222222222,
             "#7201a8"
            ],
            [
             0.3333333333333333,
             "#9c179e"
            ],
            [
             0.4444444444444444,
             "#bd3786"
            ],
            [
             0.5555555555555556,
             "#d8576b"
            ],
            [
             0.6666666666666666,
             "#ed7953"
            ],
            [
             0.7777777777777778,
             "#fb9f3a"
            ],
            [
             0.8888888888888888,
             "#fdca26"
            ],
            [
             1,
             "#f0f921"
            ]
           ],
           "sequentialminus": [
            [
             0,
             "#0d0887"
            ],
            [
             0.1111111111111111,
             "#46039f"
            ],
            [
             0.2222222222222222,
             "#7201a8"
            ],
            [
             0.3333333333333333,
             "#9c179e"
            ],
            [
             0.4444444444444444,
             "#bd3786"
            ],
            [
             0.5555555555555556,
             "#d8576b"
            ],
            [
             0.6666666666666666,
             "#ed7953"
            ],
            [
             0.7777777777777778,
             "#fb9f3a"
            ],
            [
             0.8888888888888888,
             "#fdca26"
            ],
            [
             1,
             "#f0f921"
            ]
           ]
          },
          "colorway": [
           "#636efa",
           "#EF553B",
           "#00cc96",
           "#ab63fa",
           "#FFA15A",
           "#19d3f3",
           "#FF6692",
           "#B6E880",
           "#FF97FF",
           "#FECB52"
          ],
          "font": {
           "color": "#2a3f5f"
          },
          "geo": {
           "bgcolor": "white",
           "lakecolor": "white",
           "landcolor": "#E5ECF6",
           "showlakes": true,
           "showland": true,
           "subunitcolor": "white"
          },
          "hoverlabel": {
           "align": "left"
          },
          "hovermode": "closest",
          "mapbox": {
           "style": "light"
          },
          "paper_bgcolor": "white",
          "plot_bgcolor": "#E5ECF6",
          "polar": {
           "angularaxis": {
            "gridcolor": "white",
            "linecolor": "white",
            "ticks": ""
           },
           "bgcolor": "#E5ECF6",
           "radialaxis": {
            "gridcolor": "white",
            "linecolor": "white",
            "ticks": ""
           }
          },
          "scene": {
           "xaxis": {
            "backgroundcolor": "#E5ECF6",
            "gridcolor": "white",
            "gridwidth": 2,
            "linecolor": "white",
            "showbackground": true,
            "ticks": "",
            "zerolinecolor": "white"
           },
           "yaxis": {
            "backgroundcolor": "#E5ECF6",
            "gridcolor": "white",
            "gridwidth": 2,
            "linecolor": "white",
            "showbackground": true,
            "ticks": "",
            "zerolinecolor": "white"
           },
           "zaxis": {
            "backgroundcolor": "#E5ECF6",
            "gridcolor": "white",
            "gridwidth": 2,
            "linecolor": "white",
            "showbackground": true,
            "ticks": "",
            "zerolinecolor": "white"
           }
          },
          "shapedefaults": {
           "line": {
            "color": "#2a3f5f"
           }
          },
          "ternary": {
           "aaxis": {
            "gridcolor": "white",
            "linecolor": "white",
            "ticks": ""
           },
           "baxis": {
            "gridcolor": "white",
            "linecolor": "white",
            "ticks": ""
           },
           "bgcolor": "#E5ECF6",
           "caxis": {
            "gridcolor": "white",
            "linecolor": "white",
            "ticks": ""
           }
          },
          "title": {
           "x": 0.05
          },
          "xaxis": {
           "automargin": true,
           "gridcolor": "white",
           "linecolor": "white",
           "ticks": "",
           "title": {
            "standoff": 15
           },
           "zerolinecolor": "white",
           "zerolinewidth": 2
          },
          "yaxis": {
           "automargin": true,
           "gridcolor": "white",
           "linecolor": "white",
           "ticks": "",
           "title": {
            "standoff": 15
           },
           "zerolinecolor": "white",
           "zerolinewidth": 2
          }
         }
        },
        "title": {
         "text": "Correlated 2D samples at x ~ -3"
        },
        "xaxis": {
         "range": [
          -4,
          4
         ]
        },
        "yaxis": {
         "range": [
          -10,
          10
         ]
        }
       }
      },
      "text/html": [
       "<div>                            <div id=\"d3ebb1d8-c856-4c0e-a452-3918fe4e8aa5\" class=\"plotly-graph-div\" style=\"height:525px; width:100%;\"></div>            <script type=\"text/javascript\">                require([\"plotly\"], function(Plotly) {                    window.PLOTLYENV=window.PLOTLYENV || {};                                    if (document.getElementById(\"d3ebb1d8-c856-4c0e-a452-3918fe4e8aa5\")) {                    Plotly.newPlot(                        \"d3ebb1d8-c856-4c0e-a452-3918fe4e8aa5\",                        [{\"mode\":\"markers\",\"x\":[-3.0065548679559626,-3.006560855327969,-3.0090576678614345,-3.0060937469263647,-3.001960336397212,-2.9938460856581623,-3.00805559511112,-3.005164798186815,-2.9918912233239263,-3.002086427685362,-2.999331703166623,-3.0080873641717076,-2.9990218300412286,-3.007141347575898,-2.996389237266885,-3.004307005769484,-3.0093365777104704,-3.0067402191132855,-2.997753164509372,-3.0035509060233565,-3.005024022380568,-2.99219674106493,-2.9948214379624543,-3.0017344508721657,-2.9973761286531424,-3.0045977937476733,-2.9901146526993907,-2.9982734377195595,-2.9911465923793052,-3.003233158109767,-2.9988986912147437,-3.000080917949103,-3.002353885737935,-3.0010826606086094,-3.0078403277540584,-2.9967723006334905,-2.99254763854992,-3.002729413935737,-2.997285145457073,-2.997087353670274,-2.9900778658394183,-2.995042626028836,-2.990308551552867,-3.007228326248052,-3.007693139902939,-3.00911019221468,-3.0044115030813168,-3.007015322458271,-2.998101764803328,-3.0078082069312995,-2.995020293514369,-3.0082185838208644,-2.995802061744125,-3.0060694726437402,-3.005800312824937,-3.008334770297459,-3.0065955413350007,-3.0075109938648366,-3.0096308603627575,-3.004420601783166,-2.9978923477678197,-3.0083244994492557,-2.9916680294276707,-2.998454939231226,-3.0004296277111857,-3.0051636709226752,-2.9947055419981004,-3.0093366656867264,-3.0028206351932,-3.008624275859219,-3.0002139815625437,-3.000988937781141,-3.0033163723251346,-3.0098533576589666,-3.005006999810978,-3.0015689272557458,-2.994667311280509,-2.996387348986214,-2.9966304847076377,-2.9959290842065887,-3.007809513183979,-2.992264360460529,-2.9998269753606537,-3.0081888423081224,-2.998155549114208,-3.005469029628913,-2.9918220857449187,-3.0068651773150004,-3.0049850976256076,-3.0056155758000047,-3.006556848618823,-3.0069605335693432,-3.001006608893392,-3.0034051147930185,-2.999051165133157,-3.000116088885058,-2.9915828700208578,-2.9980674286891533,-3.009168727364464,-3.0078151162887012],\"y\":[-5.487741900398953,-3.887813367665051,-8.600763040321988,-7.4256754485338945,-0.06926218306249332,-1.559716418381321,-8.733104687709233,-4.734525975258746,-5.362938434627216,-4.047637889702809,-5.211269039733273,-4.10717850582697,-2.040829707806851,-9.086711021158012,-0.006615197051834887,-3.0577598839035343,-5.37120800823713,-9.965524724127839,-1.0224917049545241,0.5649213095441024,-2.841428937474993,-0.3102891103171339,-2.0166200594583343,-8.609822619089588,-1.7158238514999438,-2.1366138651519373,-7.346173292639633,-8.84524188714759,-5.177150260380363,-4.945497351512703,-0.7460481022082659,-3.6972815292423125,0.8742797730689517,-5.546377807692764,-1.3198990202620766,0.22952856194909432,-3.979205133518223,-10.014193750233346,1.6441593028713208,-4.3641339344194945,-5.4807064484773536,1.072732720571015,-4.044506817795313,-4.181338915400398,-11.62224221182288,-4.472451398735148,-5.875932776556388,-2.799849969083573,-2.8572786479384282,-3.5703261612619452,-10.686940207810132,-0.8947734544280417,-9.911479114028529,-7.208382673573946,-3.0579151727486122,-3.4001781113985747,-1.8749867961613704,-3.3931806792246344,1.5826200956125205,-3.101306191993283,-5.393182732723487,-0.4335689139774148,1.7177692868485206,-3.4594976282321,-2.1777557937312184,-6.143490094446946,4.021821874142451,-5.190573149730823,-5.888289191536854,-7.335268343896856,1.3096198573853037,-0.7057885886595452,-5.733866983580909,-6.662888593753869,-6.882313973168397,-3.76216859309771,-0.6146731063540292,-2.5869843070037915,-1.386040769889199,-1.901551668415197,-2.6801681968953885,-7.630365432109999,-0.6803323431333252,-3.8219366910024357,0.8082475758215244,-0.3805643394346261,-1.0705286079070198,-3.1075664742908815,-7.770499164320555,-6.4448417794083825,-0.8181024726750241,-2.8443239519390726,-7.545116784267196,-2.736655742581991,-4.893228698275289,-5.383199556184708,-4.851971677318251,-1.3796108308362824,-5.90149709776483,-5.022962836429553],\"type\":\"scatter\"}],                        {\"template\":{\"data\":{\"histogram2dcontour\":[{\"type\":\"histogram2dcontour\",\"colorbar\":{\"outlinewidth\":0,\"ticks\":\"\"},\"colorscale\":[[0.0,\"#0d0887\"],[0.1111111111111111,\"#46039f\"],[0.2222222222222222,\"#7201a8\"],[0.3333333333333333,\"#9c179e\"],[0.4444444444444444,\"#bd3786\"],[0.5555555555555556,\"#d8576b\"],[0.6666666666666666,\"#ed7953\"],[0.7777777777777778,\"#fb9f3a\"],[0.8888888888888888,\"#fdca26\"],[1.0,\"#f0f921\"]]}],\"choropleth\":[{\"type\":\"choropleth\",\"colorbar\":{\"outlinewidth\":0,\"ticks\":\"\"}}],\"histogram2d\":[{\"type\":\"histogram2d\",\"colorbar\":{\"outlinewidth\":0,\"ticks\":\"\"},\"colorscale\":[[0.0,\"#0d0887\"],[0.1111111111111111,\"#46039f\"],[0.2222222222222222,\"#7201a8\"],[0.3333333333333333,\"#9c179e\"],[0.4444444444444444,\"#bd3786\"],[0.5555555555555556,\"#d8576b\"],[0.6666666666666666,\"#ed7953\"],[0.7777777777777778,\"#fb9f3a\"],[0.8888888888888888,\"#fdca26\"],[1.0,\"#f0f921\"]]}],\"heatmap\":[{\"type\":\"heatmap\",\"colorbar\":{\"outlinewidth\":0,\"ticks\":\"\"},\"colorscale\":[[0.0,\"#0d0887\"],[0.1111111111111111,\"#46039f\"],[0.2222222222222222,\"#7201a8\"],[0.3333333333333333,\"#9c179e\"],[0.4444444444444444,\"#bd3786\"],[0.5555555555555556,\"#d8576b\"],[0.6666666666666666,\"#ed7953\"],[0.7777777777777778,\"#fb9f3a\"],[0.8888888888888888,\"#fdca26\"],[1.0,\"#f0f921\"]]}],\"heatmapgl\":[{\"type\":\"heatmapgl\",\"colorbar\":{\"outlinewidth\":0,\"ticks\":\"\"},\"colorscale\":[[0.0,\"#0d0887\"],[0.1111111111111111,\"#46039f\"],[0.2222222222222222,\"#7201a8\"],[0.3333333333333333,\"#9c179e\"],[0.4444444444444444,\"#bd3786\"],[0.5555555555555556,\"#d8576b\"],[0.6666666666666666,\"#ed7953\"],[0.7777777777777778,\"#fb9f3a\"],[0.8888888888888888,\"#fdca26\"],[1.0,\"#f0f921\"]]}],\"contourcarpet\":[{\"type\":\"contourcarpet\",\"colorbar\":{\"outlinewidth\":0,\"ticks\":\"\"}}],\"contour\":[{\"type\":\"contour\",\"colorbar\":{\"outlinewidth\":0,\"ticks\":\"\"},\"colorscale\":[[0.0,\"#0d0887\"],[0.1111111111111111,\"#46039f\"],[0.2222222222222222,\"#7201a8\"],[0.3333333333333333,\"#9c179e\"],[0.4444444444444444,\"#bd3786\"],[0.5555555555555556,\"#d8576b\"],[0.6666666666666666,\"#ed7953\"],[0.7777777777777778,\"#fb9f3a\"],[0.8888888888888888,\"#fdca26\"],[1.0,\"#f0f921\"]]}],\"surface\":[{\"type\":\"surface\",\"colorbar\":{\"outlinewidth\":0,\"ticks\":\"\"},\"colorscale\":[[0.0,\"#0d0887\"],[0.1111111111111111,\"#46039f\"],[0.2222222222222222,\"#7201a8\"],[0.3333333333333333,\"#9c179e\"],[0.4444444444444444,\"#bd3786\"],[0.5555555555555556,\"#d8576b\"],[0.6666666666666666,\"#ed7953\"],[0.7777777777777778,\"#fb9f3a\"],[0.8888888888888888,\"#fdca26\"],[1.0,\"#f0f921\"]]}],\"mesh3d\":[{\"type\":\"mesh3d\",\"colorbar\":{\"outlinewidth\":0,\"ticks\":\"\"}}],\"scatter\":[{\"fillpattern\":{\"fillmode\":\"overlay\",\"size\":10,\"solidity\":0.2},\"type\":\"scatter\"}],\"parcoords\":[{\"type\":\"parcoords\",\"line\":{\"colorbar\":{\"outlinewidth\":0,\"ticks\":\"\"}}}],\"scatterpolargl\":[{\"type\":\"scatterpolargl\",\"marker\":{\"colorbar\":{\"outlinewidth\":0,\"ticks\":\"\"}}}],\"bar\":[{\"error_x\":{\"color\":\"#2a3f5f\"},\"error_y\":{\"color\":\"#2a3f5f\"},\"marker\":{\"line\":{\"color\":\"#E5ECF6\",\"width\":0.5},\"pattern\":{\"fillmode\":\"overlay\",\"size\":10,\"solidity\":0.2}},\"type\":\"bar\"}],\"scattergeo\":[{\"type\":\"scattergeo\",\"marker\":{\"colorbar\":{\"outlinewidth\":0,\"ticks\":\"\"}}}],\"scatterpolar\":[{\"type\":\"scatterpolar\",\"marker\":{\"colorbar\":{\"outlinewidth\":0,\"ticks\":\"\"}}}],\"histogram\":[{\"marker\":{\"pattern\":{\"fillmode\":\"overlay\",\"size\":10,\"solidity\":0.2}},\"type\":\"histogram\"}],\"scattergl\":[{\"type\":\"scattergl\",\"marker\":{\"colorbar\":{\"outlinewidth\":0,\"ticks\":\"\"}}}],\"scatter3d\":[{\"type\":\"scatter3d\",\"line\":{\"colorbar\":{\"outlinewidth\":0,\"ticks\":\"\"}},\"marker\":{\"colorbar\":{\"outlinewidth\":0,\"ticks\":\"\"}}}],\"scattermapbox\":[{\"type\":\"scattermapbox\",\"marker\":{\"colorbar\":{\"outlinewidth\":0,\"ticks\":\"\"}}}],\"scatterternary\":[{\"type\":\"scatterternary\",\"marker\":{\"colorbar\":{\"outlinewidth\":0,\"ticks\":\"\"}}}],\"scattercarpet\":[{\"type\":\"scattercarpet\",\"marker\":{\"colorbar\":{\"outlinewidth\":0,\"ticks\":\"\"}}}],\"carpet\":[{\"aaxis\":{\"endlinecolor\":\"#2a3f5f\",\"gridcolor\":\"white\",\"linecolor\":\"white\",\"minorgridcolor\":\"white\",\"startlinecolor\":\"#2a3f5f\"},\"baxis\":{\"endlinecolor\":\"#2a3f5f\",\"gridcolor\":\"white\",\"linecolor\":\"white\",\"minorgridcolor\":\"white\",\"startlinecolor\":\"#2a3f5f\"},\"type\":\"carpet\"}],\"table\":[{\"cells\":{\"fill\":{\"color\":\"#EBF0F8\"},\"line\":{\"color\":\"white\"}},\"header\":{\"fill\":{\"color\":\"#C8D4E3\"},\"line\":{\"color\":\"white\"}},\"type\":\"table\"}],\"barpolar\":[{\"marker\":{\"line\":{\"color\":\"#E5ECF6\",\"width\":0.5},\"pattern\":{\"fillmode\":\"overlay\",\"size\":10,\"solidity\":0.2}},\"type\":\"barpolar\"}],\"pie\":[{\"automargin\":true,\"type\":\"pie\"}]},\"layout\":{\"autotypenumbers\":\"strict\",\"colorway\":[\"#636efa\",\"#EF553B\",\"#00cc96\",\"#ab63fa\",\"#FFA15A\",\"#19d3f3\",\"#FF6692\",\"#B6E880\",\"#FF97FF\",\"#FECB52\"],\"font\":{\"color\":\"#2a3f5f\"},\"hovermode\":\"closest\",\"hoverlabel\":{\"align\":\"left\"},\"paper_bgcolor\":\"white\",\"plot_bgcolor\":\"#E5ECF6\",\"polar\":{\"bgcolor\":\"#E5ECF6\",\"angularaxis\":{\"gridcolor\":\"white\",\"linecolor\":\"white\",\"ticks\":\"\"},\"radialaxis\":{\"gridcolor\":\"white\",\"linecolor\":\"white\",\"ticks\":\"\"}},\"ternary\":{\"bgcolor\":\"#E5ECF6\",\"aaxis\":{\"gridcolor\":\"white\",\"linecolor\":\"white\",\"ticks\":\"\"},\"baxis\":{\"gridcolor\":\"white\",\"linecolor\":\"white\",\"ticks\":\"\"},\"caxis\":{\"gridcolor\":\"white\",\"linecolor\":\"white\",\"ticks\":\"\"}},\"coloraxis\":{\"colorbar\":{\"outlinewidth\":0,\"ticks\":\"\"}},\"colorscale\":{\"sequential\":[[0.0,\"#0d0887\"],[0.1111111111111111,\"#46039f\"],[0.2222222222222222,\"#7201a8\"],[0.3333333333333333,\"#9c179e\"],[0.4444444444444444,\"#bd3786\"],[0.5555555555555556,\"#d8576b\"],[0.6666666666666666,\"#ed7953\"],[0.7777777777777778,\"#fb9f3a\"],[0.8888888888888888,\"#fdca26\"],[1.0,\"#f0f921\"]],\"sequentialminus\":[[0.0,\"#0d0887\"],[0.1111111111111111,\"#46039f\"],[0.2222222222222222,\"#7201a8\"],[0.3333333333333333,\"#9c179e\"],[0.4444444444444444,\"#bd3786\"],[0.5555555555555556,\"#d8576b\"],[0.6666666666666666,\"#ed7953\"],[0.7777777777777778,\"#fb9f3a\"],[0.8888888888888888,\"#fdca26\"],[1.0,\"#f0f921\"]],\"diverging\":[[0,\"#8e0152\"],[0.1,\"#c51b7d\"],[0.2,\"#de77ae\"],[0.3,\"#f1b6da\"],[0.4,\"#fde0ef\"],[0.5,\"#f7f7f7\"],[0.6,\"#e6f5d0\"],[0.7,\"#b8e186\"],[0.8,\"#7fbc41\"],[0.9,\"#4d9221\"],[1,\"#276419\"]]},\"xaxis\":{\"gridcolor\":\"white\",\"linecolor\":\"white\",\"ticks\":\"\",\"title\":{\"standoff\":15},\"zerolinecolor\":\"white\",\"automargin\":true,\"zerolinewidth\":2},\"yaxis\":{\"gridcolor\":\"white\",\"linecolor\":\"white\",\"ticks\":\"\",\"title\":{\"standoff\":15},\"zerolinecolor\":\"white\",\"automargin\":true,\"zerolinewidth\":2},\"scene\":{\"xaxis\":{\"backgroundcolor\":\"#E5ECF6\",\"gridcolor\":\"white\",\"linecolor\":\"white\",\"showbackground\":true,\"ticks\":\"\",\"zerolinecolor\":\"white\",\"gridwidth\":2},\"yaxis\":{\"backgroundcolor\":\"#E5ECF6\",\"gridcolor\":\"white\",\"linecolor\":\"white\",\"showbackground\":true,\"ticks\":\"\",\"zerolinecolor\":\"white\",\"gridwidth\":2},\"zaxis\":{\"backgroundcolor\":\"#E5ECF6\",\"gridcolor\":\"white\",\"linecolor\":\"white\",\"showbackground\":true,\"ticks\":\"\",\"zerolinecolor\":\"white\",\"gridwidth\":2}},\"shapedefaults\":{\"line\":{\"color\":\"#2a3f5f\"}},\"annotationdefaults\":{\"arrowcolor\":\"#2a3f5f\",\"arrowhead\":0,\"arrowwidth\":1},\"geo\":{\"bgcolor\":\"white\",\"landcolor\":\"#E5ECF6\",\"subunitcolor\":\"white\",\"showland\":true,\"showlakes\":true,\"lakecolor\":\"white\"},\"title\":{\"x\":0.05},\"mapbox\":{\"style\":\"light\"}}},\"title\":{\"text\":\"Correlated 2D samples at x ~ -3\"},\"xaxis\":{\"range\":[-4,4]},\"yaxis\":{\"range\":[-10,10]}},                        {\"responsive\": true}                    ).then(function(){\n",
       "                            \n",
       "var gd = document.getElementById('d3ebb1d8-c856-4c0e-a452-3918fe4e8aa5');\n",
       "var x = new MutationObserver(function (mutations, observer) {{\n",
       "        var display = window.getComputedStyle(gd).display;\n",
       "        if (!display || display === 'none') {{\n",
       "            console.log([gd, 'removed!']);\n",
       "            Plotly.purge(gd);\n",
       "            observer.disconnect();\n",
       "        }}\n",
       "}});\n",
       "\n",
       "// Listen for the removal of the full notebook cells\n",
       "var notebookContainer = gd.closest('#notebook-container');\n",
       "if (notebookContainer) {{\n",
       "    x.observe(notebookContainer, {childList: true});\n",
       "}}\n",
       "\n",
       "// Listen for the clearing of the current output cell\n",
       "var outputEl = gd.closest('.output');\n",
       "if (outputEl) {{\n",
       "    x.observe(outputEl, {childList: true});\n",
       "}}\n",
       "\n",
       "                        })                };                });            </script>        </div>"
      ]
     },
     "metadata": {},
     "output_type": "display_data"
    },
    {
     "data": {
      "application/javascript": [
       "\n",
       "            setTimeout(function() {\n",
       "                var nbb_cell_id = 1661;\n",
       "                var nbb_unformatted_code = \"xs_c_m, ys_c_m = make_y_for_x(-3, cov_matrix=cov_matrix)\\nfig = go_scatter(xs_c_m, ys_c_m, title=\\\"Correlated 2D samples at x ~ -3\\\")\\nfig.update_xaxes(range=[-4, 4])\\nfig.update_yaxes(range=[-10, 10])\";\n",
       "                var nbb_formatted_code = \"xs_c_m, ys_c_m = make_y_for_x(-3, cov_matrix=cov_matrix)\\nfig = go_scatter(xs_c_m, ys_c_m, title=\\\"Correlated 2D samples at x ~ -3\\\")\\nfig.update_xaxes(range=[-4, 4])\\nfig.update_yaxes(range=[-10, 10])\";\n",
       "                var nbb_cells = Jupyter.notebook.get_cells();\n",
       "                for (var i = 0; i < nbb_cells.length; ++i) {\n",
       "                    if (nbb_cells[i].input_prompt_number == nbb_cell_id) {\n",
       "                        if (nbb_cells[i].get_text() == nbb_unformatted_code) {\n",
       "                             nbb_cells[i].set_text(nbb_formatted_code);\n",
       "                        }\n",
       "                        break;\n",
       "                    }\n",
       "                }\n",
       "            }, 500);\n",
       "            "
      ],
      "text/plain": [
       "<IPython.core.display.Javascript object>"
      ]
     },
     "metadata": {},
     "output_type": "display_data"
    }
   ],
   "source": [
    "xs_c_m, ys_c_m = make_y_for_x(-3, cov_matrix=cov_matrix)\n",
    "fig = go_scatter(xs_c_m, ys_c_m, title=\"Correlated 2D samples at x ~ -3\")\n",
    "fig.update_xaxes(range=[-4, 4])\n",
    "fig.update_yaxes(range=[-10, 10])"
   ]
  },
  {
   "cell_type": "code",
   "execution_count": null,
   "id": "d6034bd1",
   "metadata": {
    "hidden": true
   },
   "outputs": [],
   "source": []
  },
  {
   "cell_type": "code",
   "execution_count": null,
   "id": "16248844",
   "metadata": {
    "hidden": true
   },
   "outputs": [],
   "source": []
  },
  {
   "cell_type": "markdown",
   "id": "d7e9c42e",
   "metadata": {
    "heading_collapsed": true
   },
   "source": [
    "# Functions as random samples"
   ]
  },
  {
   "cell_type": "code",
   "execution_count": 1662,
   "id": "15a4c96b",
   "metadata": {
    "hidden": true
   },
   "outputs": [
    {
     "data": {
      "application/javascript": [
       "\n",
       "            setTimeout(function() {\n",
       "                var nbb_cell_id = 1662;\n",
       "                var nbb_unformatted_code = \"def get_nd_cov(d):\\n    #\\n    # Return a positive-definite matrix : A^T*A is positive-definite for any A\\n    # NOTE:\\n    # Positive definite does not mean each entry is positive....!\\n    # It means that all its eigen values are real and positive....\\n    #\\n    m1 = np.matrix(np.random.normal(0, 20, d * d)).reshape(d, d)\\n    m2 = np.transpose(m1).dot(m1)\\n    return m2\";\n",
       "                var nbb_formatted_code = \"def get_nd_cov(d):\\n    #\\n    # Return a positive-definite matrix : A^T*A is positive-definite for any A\\n    # NOTE:\\n    # Positive definite does not mean each entry is positive....!\\n    # It means that all its eigen values are real and positive....\\n    #\\n    m1 = np.matrix(np.random.normal(0, 20, d * d)).reshape(d, d)\\n    m2 = np.transpose(m1).dot(m1)\\n    return m2\";\n",
       "                var nbb_cells = Jupyter.notebook.get_cells();\n",
       "                for (var i = 0; i < nbb_cells.length; ++i) {\n",
       "                    if (nbb_cells[i].input_prompt_number == nbb_cell_id) {\n",
       "                        if (nbb_cells[i].get_text() == nbb_unformatted_code) {\n",
       "                             nbb_cells[i].set_text(nbb_formatted_code);\n",
       "                        }\n",
       "                        break;\n",
       "                    }\n",
       "                }\n",
       "            }, 500);\n",
       "            "
      ],
      "text/plain": [
       "<IPython.core.display.Javascript object>"
      ]
     },
     "metadata": {},
     "output_type": "display_data"
    }
   ],
   "source": [
    "def get_nd_cov(d):\n",
    "    #\n",
    "    # Return a positive-definite matrix : A^T*A is positive-definite for any A\n",
    "    # NOTE:\n",
    "    # Positive definite does not mean each entry is positive....!\n",
    "    # It means that all its eigen values are real and positive....\n",
    "    #\n",
    "    m1 = np.matrix(np.random.normal(0, 20, d * d)).reshape(d, d)\n",
    "    m2 = np.transpose(m1).dot(m1)\n",
    "    return m2"
   ]
  },
  {
   "cell_type": "code",
   "execution_count": 1663,
   "id": "885a7135",
   "metadata": {
    "hidden": true
   },
   "outputs": [
    {
     "data": {
      "application/javascript": [
       "\n",
       "            setTimeout(function() {\n",
       "                var nbb_cell_id = 1663;\n",
       "                var nbb_unformatted_code = \"m1 = get_nd_cov(50)\\nassert (m1 == m1.T).sum() == 50 * 50\";\n",
       "                var nbb_formatted_code = \"m1 = get_nd_cov(50)\\nassert (m1 == m1.T).sum() == 50 * 50\";\n",
       "                var nbb_cells = Jupyter.notebook.get_cells();\n",
       "                for (var i = 0; i < nbb_cells.length; ++i) {\n",
       "                    if (nbb_cells[i].input_prompt_number == nbb_cell_id) {\n",
       "                        if (nbb_cells[i].get_text() == nbb_unformatted_code) {\n",
       "                             nbb_cells[i].set_text(nbb_formatted_code);\n",
       "                        }\n",
       "                        break;\n",
       "                    }\n",
       "                }\n",
       "            }, 500);\n",
       "            "
      ],
      "text/plain": [
       "<IPython.core.display.Javascript object>"
      ]
     },
     "metadata": {},
     "output_type": "display_data"
    }
   ],
   "source": [
    "m1 = get_nd_cov(50)\n",
    "assert (m1 == m1.T).sum() == 50 * 50"
   ]
  },
  {
   "cell_type": "code",
   "execution_count": 1664,
   "id": "d8590133",
   "metadata": {
    "hidden": true
   },
   "outputs": [
    {
     "data": {
      "text/plain": [
       "array([7.42162137e+04, 7.25909918e+04, 6.21573522e+04, 5.75979557e+04,\n",
       "       5.13203328e+04, 4.74667715e+04, 4.28532377e+04, 4.17321159e+04,\n",
       "       3.77472673e+04, 3.50953773e+04, 3.39861659e+04, 3.35774640e+04,\n",
       "       3.08787331e+04, 2.89265845e+04, 2.60146580e+04, 2.54387207e+04,\n",
       "       2.28358819e+04, 2.16629987e+04, 2.04696764e+04, 1.95047365e+04,\n",
       "       1.66376316e+04, 1.63373972e+04, 1.56053179e+04, 1.39303213e+04,\n",
       "       1.33785896e+04, 1.22955821e+04, 1.11908436e+04, 1.03603887e+04,\n",
       "       9.01750506e+03, 8.21390715e+03, 7.12890127e+03, 6.45689455e+03,\n",
       "       6.06229065e+03, 5.21607941e+03, 5.03709283e+03, 3.60162153e+03,\n",
       "       3.14596904e+03, 2.93034265e+03, 2.61754621e+03, 2.41194650e+03,\n",
       "       1.65627818e+03, 1.28921127e+03, 8.66737254e+02, 6.37409195e+02,\n",
       "       4.68504871e+02, 2.27819353e+02, 1.48174626e+02, 8.02463873e-01,\n",
       "       1.87119417e+01, 5.02518466e+01])"
      ]
     },
     "execution_count": 1664,
     "metadata": {},
     "output_type": "execute_result"
    },
    {
     "data": {
      "application/javascript": [
       "\n",
       "            setTimeout(function() {\n",
       "                var nbb_cell_id = 1664;\n",
       "                var nbb_unformatted_code = \"eivals, _ = np.linalg.eig(get_nd_cov(50))\\neivals\";\n",
       "                var nbb_formatted_code = \"eivals, _ = np.linalg.eig(get_nd_cov(50))\\neivals\";\n",
       "                var nbb_cells = Jupyter.notebook.get_cells();\n",
       "                for (var i = 0; i < nbb_cells.length; ++i) {\n",
       "                    if (nbb_cells[i].input_prompt_number == nbb_cell_id) {\n",
       "                        if (nbb_cells[i].get_text() == nbb_unformatted_code) {\n",
       "                             nbb_cells[i].set_text(nbb_formatted_code);\n",
       "                        }\n",
       "                        break;\n",
       "                    }\n",
       "                }\n",
       "            }, 500);\n",
       "            "
      ],
      "text/plain": [
       "<IPython.core.display.Javascript object>"
      ]
     },
     "metadata": {},
     "output_type": "display_data"
    }
   ],
   "source": [
    "eivals, _ = np.linalg.eig(get_nd_cov(50))\n",
    "eivals"
   ]
  },
  {
   "cell_type": "code",
   "execution_count": 1665,
   "id": "44d99966",
   "metadata": {
    "hidden": true
   },
   "outputs": [
    {
     "data": {
      "application/javascript": [
       "\n",
       "            setTimeout(function() {\n",
       "                var nbb_cell_id = 1665;\n",
       "                var nbb_unformatted_code = \"import time\\nimport matplotlib.pyplot as plt\\n\\n\\ndef plot_random_func(nd=50):\\n    fig = go.Figure()\\n    fig.add_trace(\\n        go.Scatter(\\n            x=list(range(nd)),\\n            y=np.random.multivariate_normal([0] * nd, get_nd_cov(nd)),\\n        )\\n    )\\n    fig.update_layout(title=\\\"Function as a random sample\\\")\\n    fig.show()\";\n",
       "                var nbb_formatted_code = \"import time\\nimport matplotlib.pyplot as plt\\n\\n\\ndef plot_random_func(nd=50):\\n    fig = go.Figure()\\n    fig.add_trace(\\n        go.Scatter(\\n            x=list(range(nd)),\\n            y=np.random.multivariate_normal([0] * nd, get_nd_cov(nd)),\\n        )\\n    )\\n    fig.update_layout(title=\\\"Function as a random sample\\\")\\n    fig.show()\";\n",
       "                var nbb_cells = Jupyter.notebook.get_cells();\n",
       "                for (var i = 0; i < nbb_cells.length; ++i) {\n",
       "                    if (nbb_cells[i].input_prompt_number == nbb_cell_id) {\n",
       "                        if (nbb_cells[i].get_text() == nbb_unformatted_code) {\n",
       "                             nbb_cells[i].set_text(nbb_formatted_code);\n",
       "                        }\n",
       "                        break;\n",
       "                    }\n",
       "                }\n",
       "            }, 500);\n",
       "            "
      ],
      "text/plain": [
       "<IPython.core.display.Javascript object>"
      ]
     },
     "metadata": {},
     "output_type": "display_data"
    }
   ],
   "source": [
    "import time\n",
    "import matplotlib.pyplot as plt\n",
    "\n",
    "\n",
    "def plot_random_func(nd=50):\n",
    "    fig = go.Figure()\n",
    "    fig.add_trace(\n",
    "        go.Scatter(\n",
    "            x=list(range(nd)),\n",
    "            y=np.random.multivariate_normal([0] * nd, get_nd_cov(nd)),\n",
    "        )\n",
    "    )\n",
    "    fig.update_layout(title=\"Function as a random sample\")\n",
    "    fig.show()"
   ]
  },
  {
   "cell_type": "markdown",
   "id": "58394748",
   "metadata": {
    "hidden": true
   },
   "source": [
    "## Random functions"
   ]
  },
  {
   "cell_type": "code",
   "execution_count": 1677,
   "id": "6c4da026",
   "metadata": {
    "hidden": true
   },
   "outputs": [
    {
     "data": {
      "application/vnd.plotly.v1+json": {
       "config": {
        "plotlyServerURL": "https://plot.ly"
       },
       "data": [
        {
         "type": "scatter",
         "x": [
          0,
          1,
          2,
          3,
          4,
          5,
          6,
          7,
          8,
          9,
          10,
          11,
          12,
          13,
          14,
          15,
          16,
          17,
          18,
          19,
          20,
          21,
          22,
          23,
          24,
          25,
          26,
          27,
          28,
          29,
          30,
          31,
          32,
          33,
          34,
          35,
          36,
          37,
          38,
          39,
          40,
          41,
          42,
          43,
          44,
          45,
          46,
          47,
          48,
          49
         ],
         "y": [
          -176.40650815586147,
          58.295412269441385,
          213.93775854893082,
          -76.42945777290986,
          -71.44600028517911,
          -67.15484660359878,
          -78.01580614205955,
          224.76065804023696,
          151.12766463564117,
          -38.391392728512066,
          79.42996685104673,
          166.24392306320067,
          -27.425711676740168,
          264.32984064597616,
          24.232473646196816,
          -54.78786355640505,
          -8.256926321967121,
          376.12665700092674,
          54.56167710037828,
          101.70633597082288,
          -161.30604304044476,
          -6.717113194772677,
          173.85263713880335,
          -277.62579810979065,
          70.43181321195064,
          -65.71019255346961,
          57.692473076185344,
          -154.30456761752725,
          81.13891184126797,
          -109.74891137092477,
          259.9334103744083,
          228.36088904310049,
          -90.90958336875647,
          -131.55668538939952,
          90.74339233889808,
          36.94174928670212,
          267.48926701790776,
          12.48925574149317,
          -45.83790805382594,
          100.25671047350137,
          198.81761789996824,
          130.88094368404245,
          -1.6625411815022773,
          -148.7137377942336,
          139.0393258618853,
          117.70352950816154,
          -98.40463890893024,
          127.80301715736191,
          -170.3762897926838,
          -138.69734028848802
         ]
        }
       ],
       "layout": {
        "template": {
         "data": {
          "bar": [
           {
            "error_x": {
             "color": "#2a3f5f"
            },
            "error_y": {
             "color": "#2a3f5f"
            },
            "marker": {
             "line": {
              "color": "#E5ECF6",
              "width": 0.5
             },
             "pattern": {
              "fillmode": "overlay",
              "size": 10,
              "solidity": 0.2
             }
            },
            "type": "bar"
           }
          ],
          "barpolar": [
           {
            "marker": {
             "line": {
              "color": "#E5ECF6",
              "width": 0.5
             },
             "pattern": {
              "fillmode": "overlay",
              "size": 10,
              "solidity": 0.2
             }
            },
            "type": "barpolar"
           }
          ],
          "carpet": [
           {
            "aaxis": {
             "endlinecolor": "#2a3f5f",
             "gridcolor": "white",
             "linecolor": "white",
             "minorgridcolor": "white",
             "startlinecolor": "#2a3f5f"
            },
            "baxis": {
             "endlinecolor": "#2a3f5f",
             "gridcolor": "white",
             "linecolor": "white",
             "minorgridcolor": "white",
             "startlinecolor": "#2a3f5f"
            },
            "type": "carpet"
           }
          ],
          "choropleth": [
           {
            "colorbar": {
             "outlinewidth": 0,
             "ticks": ""
            },
            "type": "choropleth"
           }
          ],
          "contour": [
           {
            "colorbar": {
             "outlinewidth": 0,
             "ticks": ""
            },
            "colorscale": [
             [
              0,
              "#0d0887"
             ],
             [
              0.1111111111111111,
              "#46039f"
             ],
             [
              0.2222222222222222,
              "#7201a8"
             ],
             [
              0.3333333333333333,
              "#9c179e"
             ],
             [
              0.4444444444444444,
              "#bd3786"
             ],
             [
              0.5555555555555556,
              "#d8576b"
             ],
             [
              0.6666666666666666,
              "#ed7953"
             ],
             [
              0.7777777777777778,
              "#fb9f3a"
             ],
             [
              0.8888888888888888,
              "#fdca26"
             ],
             [
              1,
              "#f0f921"
             ]
            ],
            "type": "contour"
           }
          ],
          "contourcarpet": [
           {
            "colorbar": {
             "outlinewidth": 0,
             "ticks": ""
            },
            "type": "contourcarpet"
           }
          ],
          "heatmap": [
           {
            "colorbar": {
             "outlinewidth": 0,
             "ticks": ""
            },
            "colorscale": [
             [
              0,
              "#0d0887"
             ],
             [
              0.1111111111111111,
              "#46039f"
             ],
             [
              0.2222222222222222,
              "#7201a8"
             ],
             [
              0.3333333333333333,
              "#9c179e"
             ],
             [
              0.4444444444444444,
              "#bd3786"
             ],
             [
              0.5555555555555556,
              "#d8576b"
             ],
             [
              0.6666666666666666,
              "#ed7953"
             ],
             [
              0.7777777777777778,
              "#fb9f3a"
             ],
             [
              0.8888888888888888,
              "#fdca26"
             ],
             [
              1,
              "#f0f921"
             ]
            ],
            "type": "heatmap"
           }
          ],
          "heatmapgl": [
           {
            "colorbar": {
             "outlinewidth": 0,
             "ticks": ""
            },
            "colorscale": [
             [
              0,
              "#0d0887"
             ],
             [
              0.1111111111111111,
              "#46039f"
             ],
             [
              0.2222222222222222,
              "#7201a8"
             ],
             [
              0.3333333333333333,
              "#9c179e"
             ],
             [
              0.4444444444444444,
              "#bd3786"
             ],
             [
              0.5555555555555556,
              "#d8576b"
             ],
             [
              0.6666666666666666,
              "#ed7953"
             ],
             [
              0.7777777777777778,
              "#fb9f3a"
             ],
             [
              0.8888888888888888,
              "#fdca26"
             ],
             [
              1,
              "#f0f921"
             ]
            ],
            "type": "heatmapgl"
           }
          ],
          "histogram": [
           {
            "marker": {
             "pattern": {
              "fillmode": "overlay",
              "size": 10,
              "solidity": 0.2
             }
            },
            "type": "histogram"
           }
          ],
          "histogram2d": [
           {
            "colorbar": {
             "outlinewidth": 0,
             "ticks": ""
            },
            "colorscale": [
             [
              0,
              "#0d0887"
             ],
             [
              0.1111111111111111,
              "#46039f"
             ],
             [
              0.2222222222222222,
              "#7201a8"
             ],
             [
              0.3333333333333333,
              "#9c179e"
             ],
             [
              0.4444444444444444,
              "#bd3786"
             ],
             [
              0.5555555555555556,
              "#d8576b"
             ],
             [
              0.6666666666666666,
              "#ed7953"
             ],
             [
              0.7777777777777778,
              "#fb9f3a"
             ],
             [
              0.8888888888888888,
              "#fdca26"
             ],
             [
              1,
              "#f0f921"
             ]
            ],
            "type": "histogram2d"
           }
          ],
          "histogram2dcontour": [
           {
            "colorbar": {
             "outlinewidth": 0,
             "ticks": ""
            },
            "colorscale": [
             [
              0,
              "#0d0887"
             ],
             [
              0.1111111111111111,
              "#46039f"
             ],
             [
              0.2222222222222222,
              "#7201a8"
             ],
             [
              0.3333333333333333,
              "#9c179e"
             ],
             [
              0.4444444444444444,
              "#bd3786"
             ],
             [
              0.5555555555555556,
              "#d8576b"
             ],
             [
              0.6666666666666666,
              "#ed7953"
             ],
             [
              0.7777777777777778,
              "#fb9f3a"
             ],
             [
              0.8888888888888888,
              "#fdca26"
             ],
             [
              1,
              "#f0f921"
             ]
            ],
            "type": "histogram2dcontour"
           }
          ],
          "mesh3d": [
           {
            "colorbar": {
             "outlinewidth": 0,
             "ticks": ""
            },
            "type": "mesh3d"
           }
          ],
          "parcoords": [
           {
            "line": {
             "colorbar": {
              "outlinewidth": 0,
              "ticks": ""
             }
            },
            "type": "parcoords"
           }
          ],
          "pie": [
           {
            "automargin": true,
            "type": "pie"
           }
          ],
          "scatter": [
           {
            "fillpattern": {
             "fillmode": "overlay",
             "size": 10,
             "solidity": 0.2
            },
            "type": "scatter"
           }
          ],
          "scatter3d": [
           {
            "line": {
             "colorbar": {
              "outlinewidth": 0,
              "ticks": ""
             }
            },
            "marker": {
             "colorbar": {
              "outlinewidth": 0,
              "ticks": ""
             }
            },
            "type": "scatter3d"
           }
          ],
          "scattercarpet": [
           {
            "marker": {
             "colorbar": {
              "outlinewidth": 0,
              "ticks": ""
             }
            },
            "type": "scattercarpet"
           }
          ],
          "scattergeo": [
           {
            "marker": {
             "colorbar": {
              "outlinewidth": 0,
              "ticks": ""
             }
            },
            "type": "scattergeo"
           }
          ],
          "scattergl": [
           {
            "marker": {
             "colorbar": {
              "outlinewidth": 0,
              "ticks": ""
             }
            },
            "type": "scattergl"
           }
          ],
          "scattermapbox": [
           {
            "marker": {
             "colorbar": {
              "outlinewidth": 0,
              "ticks": ""
             }
            },
            "type": "scattermapbox"
           }
          ],
          "scatterpolar": [
           {
            "marker": {
             "colorbar": {
              "outlinewidth": 0,
              "ticks": ""
             }
            },
            "type": "scatterpolar"
           }
          ],
          "scatterpolargl": [
           {
            "marker": {
             "colorbar": {
              "outlinewidth": 0,
              "ticks": ""
             }
            },
            "type": "scatterpolargl"
           }
          ],
          "scatterternary": [
           {
            "marker": {
             "colorbar": {
              "outlinewidth": 0,
              "ticks": ""
             }
            },
            "type": "scatterternary"
           }
          ],
          "surface": [
           {
            "colorbar": {
             "outlinewidth": 0,
             "ticks": ""
            },
            "colorscale": [
             [
              0,
              "#0d0887"
             ],
             [
              0.1111111111111111,
              "#46039f"
             ],
             [
              0.2222222222222222,
              "#7201a8"
             ],
             [
              0.3333333333333333,
              "#9c179e"
             ],
             [
              0.4444444444444444,
              "#bd3786"
             ],
             [
              0.5555555555555556,
              "#d8576b"
             ],
             [
              0.6666666666666666,
              "#ed7953"
             ],
             [
              0.7777777777777778,
              "#fb9f3a"
             ],
             [
              0.8888888888888888,
              "#fdca26"
             ],
             [
              1,
              "#f0f921"
             ]
            ],
            "type": "surface"
           }
          ],
          "table": [
           {
            "cells": {
             "fill": {
              "color": "#EBF0F8"
             },
             "line": {
              "color": "white"
             }
            },
            "header": {
             "fill": {
              "color": "#C8D4E3"
             },
             "line": {
              "color": "white"
             }
            },
            "type": "table"
           }
          ]
         },
         "layout": {
          "annotationdefaults": {
           "arrowcolor": "#2a3f5f",
           "arrowhead": 0,
           "arrowwidth": 1
          },
          "autotypenumbers": "strict",
          "coloraxis": {
           "colorbar": {
            "outlinewidth": 0,
            "ticks": ""
           }
          },
          "colorscale": {
           "diverging": [
            [
             0,
             "#8e0152"
            ],
            [
             0.1,
             "#c51b7d"
            ],
            [
             0.2,
             "#de77ae"
            ],
            [
             0.3,
             "#f1b6da"
            ],
            [
             0.4,
             "#fde0ef"
            ],
            [
             0.5,
             "#f7f7f7"
            ],
            [
             0.6,
             "#e6f5d0"
            ],
            [
             0.7,
             "#b8e186"
            ],
            [
             0.8,
             "#7fbc41"
            ],
            [
             0.9,
             "#4d9221"
            ],
            [
             1,
             "#276419"
            ]
           ],
           "sequential": [
            [
             0,
             "#0d0887"
            ],
            [
             0.1111111111111111,
             "#46039f"
            ],
            [
             0.2222222222222222,
             "#7201a8"
            ],
            [
             0.3333333333333333,
             "#9c179e"
            ],
            [
             0.4444444444444444,
             "#bd3786"
            ],
            [
             0.5555555555555556,
             "#d8576b"
            ],
            [
             0.6666666666666666,
             "#ed7953"
            ],
            [
             0.7777777777777778,
             "#fb9f3a"
            ],
            [
             0.8888888888888888,
             "#fdca26"
            ],
            [
             1,
             "#f0f921"
            ]
           ],
           "sequentialminus": [
            [
             0,
             "#0d0887"
            ],
            [
             0.1111111111111111,
             "#46039f"
            ],
            [
             0.2222222222222222,
             "#7201a8"
            ],
            [
             0.3333333333333333,
             "#9c179e"
            ],
            [
             0.4444444444444444,
             "#bd3786"
            ],
            [
             0.5555555555555556,
             "#d8576b"
            ],
            [
             0.6666666666666666,
             "#ed7953"
            ],
            [
             0.7777777777777778,
             "#fb9f3a"
            ],
            [
             0.8888888888888888,
             "#fdca26"
            ],
            [
             1,
             "#f0f921"
            ]
           ]
          },
          "colorway": [
           "#636efa",
           "#EF553B",
           "#00cc96",
           "#ab63fa",
           "#FFA15A",
           "#19d3f3",
           "#FF6692",
           "#B6E880",
           "#FF97FF",
           "#FECB52"
          ],
          "font": {
           "color": "#2a3f5f"
          },
          "geo": {
           "bgcolor": "white",
           "lakecolor": "white",
           "landcolor": "#E5ECF6",
           "showlakes": true,
           "showland": true,
           "subunitcolor": "white"
          },
          "hoverlabel": {
           "align": "left"
          },
          "hovermode": "closest",
          "mapbox": {
           "style": "light"
          },
          "paper_bgcolor": "white",
          "plot_bgcolor": "#E5ECF6",
          "polar": {
           "angularaxis": {
            "gridcolor": "white",
            "linecolor": "white",
            "ticks": ""
           },
           "bgcolor": "#E5ECF6",
           "radialaxis": {
            "gridcolor": "white",
            "linecolor": "white",
            "ticks": ""
           }
          },
          "scene": {
           "xaxis": {
            "backgroundcolor": "#E5ECF6",
            "gridcolor": "white",
            "gridwidth": 2,
            "linecolor": "white",
            "showbackground": true,
            "ticks": "",
            "zerolinecolor": "white"
           },
           "yaxis": {
            "backgroundcolor": "#E5ECF6",
            "gridcolor": "white",
            "gridwidth": 2,
            "linecolor": "white",
            "showbackground": true,
            "ticks": "",
            "zerolinecolor": "white"
           },
           "zaxis": {
            "backgroundcolor": "#E5ECF6",
            "gridcolor": "white",
            "gridwidth": 2,
            "linecolor": "white",
            "showbackground": true,
            "ticks": "",
            "zerolinecolor": "white"
           }
          },
          "shapedefaults": {
           "line": {
            "color": "#2a3f5f"
           }
          },
          "ternary": {
           "aaxis": {
            "gridcolor": "white",
            "linecolor": "white",
            "ticks": ""
           },
           "baxis": {
            "gridcolor": "white",
            "linecolor": "white",
            "ticks": ""
           },
           "bgcolor": "#E5ECF6",
           "caxis": {
            "gridcolor": "white",
            "linecolor": "white",
            "ticks": ""
           }
          },
          "title": {
           "x": 0.05
          },
          "xaxis": {
           "automargin": true,
           "gridcolor": "white",
           "linecolor": "white",
           "ticks": "",
           "title": {
            "standoff": 15
           },
           "zerolinecolor": "white",
           "zerolinewidth": 2
          },
          "yaxis": {
           "automargin": true,
           "gridcolor": "white",
           "linecolor": "white",
           "ticks": "",
           "title": {
            "standoff": 15
           },
           "zerolinecolor": "white",
           "zerolinewidth": 2
          }
         }
        },
        "title": {
         "text": "Function as a random sample"
        }
       }
      },
      "text/html": [
       "<div>                            <div id=\"234ca6bd-25f8-47c8-931c-0e3da39ceff2\" class=\"plotly-graph-div\" style=\"height:525px; width:100%;\"></div>            <script type=\"text/javascript\">                require([\"plotly\"], function(Plotly) {                    window.PLOTLYENV=window.PLOTLYENV || {};                                    if (document.getElementById(\"234ca6bd-25f8-47c8-931c-0e3da39ceff2\")) {                    Plotly.newPlot(                        \"234ca6bd-25f8-47c8-931c-0e3da39ceff2\",                        [{\"x\":[0,1,2,3,4,5,6,7,8,9,10,11,12,13,14,15,16,17,18,19,20,21,22,23,24,25,26,27,28,29,30,31,32,33,34,35,36,37,38,39,40,41,42,43,44,45,46,47,48,49],\"y\":[-176.40650815586147,58.295412269441385,213.93775854893082,-76.42945777290986,-71.44600028517911,-67.15484660359878,-78.01580614205955,224.76065804023696,151.12766463564117,-38.391392728512066,79.42996685104673,166.24392306320067,-27.425711676740168,264.32984064597616,24.232473646196816,-54.78786355640505,-8.256926321967121,376.12665700092674,54.56167710037828,101.70633597082288,-161.30604304044476,-6.717113194772677,173.85263713880335,-277.62579810979065,70.43181321195064,-65.71019255346961,57.692473076185344,-154.30456761752725,81.13891184126797,-109.74891137092477,259.9334103744083,228.36088904310049,-90.90958336875647,-131.55668538939952,90.74339233889808,36.94174928670212,267.48926701790776,12.48925574149317,-45.83790805382594,100.25671047350137,198.81761789996824,130.88094368404245,-1.6625411815022773,-148.7137377942336,139.0393258618853,117.70352950816154,-98.40463890893024,127.80301715736191,-170.3762897926838,-138.69734028848802],\"type\":\"scatter\"}],                        {\"template\":{\"data\":{\"histogram2dcontour\":[{\"type\":\"histogram2dcontour\",\"colorbar\":{\"outlinewidth\":0,\"ticks\":\"\"},\"colorscale\":[[0.0,\"#0d0887\"],[0.1111111111111111,\"#46039f\"],[0.2222222222222222,\"#7201a8\"],[0.3333333333333333,\"#9c179e\"],[0.4444444444444444,\"#bd3786\"],[0.5555555555555556,\"#d8576b\"],[0.6666666666666666,\"#ed7953\"],[0.7777777777777778,\"#fb9f3a\"],[0.8888888888888888,\"#fdca26\"],[1.0,\"#f0f921\"]]}],\"choropleth\":[{\"type\":\"choropleth\",\"colorbar\":{\"outlinewidth\":0,\"ticks\":\"\"}}],\"histogram2d\":[{\"type\":\"histogram2d\",\"colorbar\":{\"outlinewidth\":0,\"ticks\":\"\"},\"colorscale\":[[0.0,\"#0d0887\"],[0.1111111111111111,\"#46039f\"],[0.2222222222222222,\"#7201a8\"],[0.3333333333333333,\"#9c179e\"],[0.4444444444444444,\"#bd3786\"],[0.5555555555555556,\"#d8576b\"],[0.6666666666666666,\"#ed7953\"],[0.7777777777777778,\"#fb9f3a\"],[0.8888888888888888,\"#fdca26\"],[1.0,\"#f0f921\"]]}],\"heatmap\":[{\"type\":\"heatmap\",\"colorbar\":{\"outlinewidth\":0,\"ticks\":\"\"},\"colorscale\":[[0.0,\"#0d0887\"],[0.1111111111111111,\"#46039f\"],[0.2222222222222222,\"#7201a8\"],[0.3333333333333333,\"#9c179e\"],[0.4444444444444444,\"#bd3786\"],[0.5555555555555556,\"#d8576b\"],[0.6666666666666666,\"#ed7953\"],[0.7777777777777778,\"#fb9f3a\"],[0.8888888888888888,\"#fdca26\"],[1.0,\"#f0f921\"]]}],\"heatmapgl\":[{\"type\":\"heatmapgl\",\"colorbar\":{\"outlinewidth\":0,\"ticks\":\"\"},\"colorscale\":[[0.0,\"#0d0887\"],[0.1111111111111111,\"#46039f\"],[0.2222222222222222,\"#7201a8\"],[0.3333333333333333,\"#9c179e\"],[0.4444444444444444,\"#bd3786\"],[0.5555555555555556,\"#d8576b\"],[0.6666666666666666,\"#ed7953\"],[0.7777777777777778,\"#fb9f3a\"],[0.8888888888888888,\"#fdca26\"],[1.0,\"#f0f921\"]]}],\"contourcarpet\":[{\"type\":\"contourcarpet\",\"colorbar\":{\"outlinewidth\":0,\"ticks\":\"\"}}],\"contour\":[{\"type\":\"contour\",\"colorbar\":{\"outlinewidth\":0,\"ticks\":\"\"},\"colorscale\":[[0.0,\"#0d0887\"],[0.1111111111111111,\"#46039f\"],[0.2222222222222222,\"#7201a8\"],[0.3333333333333333,\"#9c179e\"],[0.4444444444444444,\"#bd3786\"],[0.5555555555555556,\"#d8576b\"],[0.6666666666666666,\"#ed7953\"],[0.7777777777777778,\"#fb9f3a\"],[0.8888888888888888,\"#fdca26\"],[1.0,\"#f0f921\"]]}],\"surface\":[{\"type\":\"surface\",\"colorbar\":{\"outlinewidth\":0,\"ticks\":\"\"},\"colorscale\":[[0.0,\"#0d0887\"],[0.1111111111111111,\"#46039f\"],[0.2222222222222222,\"#7201a8\"],[0.3333333333333333,\"#9c179e\"],[0.4444444444444444,\"#bd3786\"],[0.5555555555555556,\"#d8576b\"],[0.6666666666666666,\"#ed7953\"],[0.7777777777777778,\"#fb9f3a\"],[0.8888888888888888,\"#fdca26\"],[1.0,\"#f0f921\"]]}],\"mesh3d\":[{\"type\":\"mesh3d\",\"colorbar\":{\"outlinewidth\":0,\"ticks\":\"\"}}],\"scatter\":[{\"fillpattern\":{\"fillmode\":\"overlay\",\"size\":10,\"solidity\":0.2},\"type\":\"scatter\"}],\"parcoords\":[{\"type\":\"parcoords\",\"line\":{\"colorbar\":{\"outlinewidth\":0,\"ticks\":\"\"}}}],\"scatterpolargl\":[{\"type\":\"scatterpolargl\",\"marker\":{\"colorbar\":{\"outlinewidth\":0,\"ticks\":\"\"}}}],\"bar\":[{\"error_x\":{\"color\":\"#2a3f5f\"},\"error_y\":{\"color\":\"#2a3f5f\"},\"marker\":{\"line\":{\"color\":\"#E5ECF6\",\"width\":0.5},\"pattern\":{\"fillmode\":\"overlay\",\"size\":10,\"solidity\":0.2}},\"type\":\"bar\"}],\"scattergeo\":[{\"type\":\"scattergeo\",\"marker\":{\"colorbar\":{\"outlinewidth\":0,\"ticks\":\"\"}}}],\"scatterpolar\":[{\"type\":\"scatterpolar\",\"marker\":{\"colorbar\":{\"outlinewidth\":0,\"ticks\":\"\"}}}],\"histogram\":[{\"marker\":{\"pattern\":{\"fillmode\":\"overlay\",\"size\":10,\"solidity\":0.2}},\"type\":\"histogram\"}],\"scattergl\":[{\"type\":\"scattergl\",\"marker\":{\"colorbar\":{\"outlinewidth\":0,\"ticks\":\"\"}}}],\"scatter3d\":[{\"type\":\"scatter3d\",\"line\":{\"colorbar\":{\"outlinewidth\":0,\"ticks\":\"\"}},\"marker\":{\"colorbar\":{\"outlinewidth\":0,\"ticks\":\"\"}}}],\"scattermapbox\":[{\"type\":\"scattermapbox\",\"marker\":{\"colorbar\":{\"outlinewidth\":0,\"ticks\":\"\"}}}],\"scatterternary\":[{\"type\":\"scatterternary\",\"marker\":{\"colorbar\":{\"outlinewidth\":0,\"ticks\":\"\"}}}],\"scattercarpet\":[{\"type\":\"scattercarpet\",\"marker\":{\"colorbar\":{\"outlinewidth\":0,\"ticks\":\"\"}}}],\"carpet\":[{\"aaxis\":{\"endlinecolor\":\"#2a3f5f\",\"gridcolor\":\"white\",\"linecolor\":\"white\",\"minorgridcolor\":\"white\",\"startlinecolor\":\"#2a3f5f\"},\"baxis\":{\"endlinecolor\":\"#2a3f5f\",\"gridcolor\":\"white\",\"linecolor\":\"white\",\"minorgridcolor\":\"white\",\"startlinecolor\":\"#2a3f5f\"},\"type\":\"carpet\"}],\"table\":[{\"cells\":{\"fill\":{\"color\":\"#EBF0F8\"},\"line\":{\"color\":\"white\"}},\"header\":{\"fill\":{\"color\":\"#C8D4E3\"},\"line\":{\"color\":\"white\"}},\"type\":\"table\"}],\"barpolar\":[{\"marker\":{\"line\":{\"color\":\"#E5ECF6\",\"width\":0.5},\"pattern\":{\"fillmode\":\"overlay\",\"size\":10,\"solidity\":0.2}},\"type\":\"barpolar\"}],\"pie\":[{\"automargin\":true,\"type\":\"pie\"}]},\"layout\":{\"autotypenumbers\":\"strict\",\"colorway\":[\"#636efa\",\"#EF553B\",\"#00cc96\",\"#ab63fa\",\"#FFA15A\",\"#19d3f3\",\"#FF6692\",\"#B6E880\",\"#FF97FF\",\"#FECB52\"],\"font\":{\"color\":\"#2a3f5f\"},\"hovermode\":\"closest\",\"hoverlabel\":{\"align\":\"left\"},\"paper_bgcolor\":\"white\",\"plot_bgcolor\":\"#E5ECF6\",\"polar\":{\"bgcolor\":\"#E5ECF6\",\"angularaxis\":{\"gridcolor\":\"white\",\"linecolor\":\"white\",\"ticks\":\"\"},\"radialaxis\":{\"gridcolor\":\"white\",\"linecolor\":\"white\",\"ticks\":\"\"}},\"ternary\":{\"bgcolor\":\"#E5ECF6\",\"aaxis\":{\"gridcolor\":\"white\",\"linecolor\":\"white\",\"ticks\":\"\"},\"baxis\":{\"gridcolor\":\"white\",\"linecolor\":\"white\",\"ticks\":\"\"},\"caxis\":{\"gridcolor\":\"white\",\"linecolor\":\"white\",\"ticks\":\"\"}},\"coloraxis\":{\"colorbar\":{\"outlinewidth\":0,\"ticks\":\"\"}},\"colorscale\":{\"sequential\":[[0.0,\"#0d0887\"],[0.1111111111111111,\"#46039f\"],[0.2222222222222222,\"#7201a8\"],[0.3333333333333333,\"#9c179e\"],[0.4444444444444444,\"#bd3786\"],[0.5555555555555556,\"#d8576b\"],[0.6666666666666666,\"#ed7953\"],[0.7777777777777778,\"#fb9f3a\"],[0.8888888888888888,\"#fdca26\"],[1.0,\"#f0f921\"]],\"sequentialminus\":[[0.0,\"#0d0887\"],[0.1111111111111111,\"#46039f\"],[0.2222222222222222,\"#7201a8\"],[0.3333333333333333,\"#9c179e\"],[0.4444444444444444,\"#bd3786\"],[0.5555555555555556,\"#d8576b\"],[0.6666666666666666,\"#ed7953\"],[0.7777777777777778,\"#fb9f3a\"],[0.8888888888888888,\"#fdca26\"],[1.0,\"#f0f921\"]],\"diverging\":[[0,\"#8e0152\"],[0.1,\"#c51b7d\"],[0.2,\"#de77ae\"],[0.3,\"#f1b6da\"],[0.4,\"#fde0ef\"],[0.5,\"#f7f7f7\"],[0.6,\"#e6f5d0\"],[0.7,\"#b8e186\"],[0.8,\"#7fbc41\"],[0.9,\"#4d9221\"],[1,\"#276419\"]]},\"xaxis\":{\"gridcolor\":\"white\",\"linecolor\":\"white\",\"ticks\":\"\",\"title\":{\"standoff\":15},\"zerolinecolor\":\"white\",\"automargin\":true,\"zerolinewidth\":2},\"yaxis\":{\"gridcolor\":\"white\",\"linecolor\":\"white\",\"ticks\":\"\",\"title\":{\"standoff\":15},\"zerolinecolor\":\"white\",\"automargin\":true,\"zerolinewidth\":2},\"scene\":{\"xaxis\":{\"backgroundcolor\":\"#E5ECF6\",\"gridcolor\":\"white\",\"linecolor\":\"white\",\"showbackground\":true,\"ticks\":\"\",\"zerolinecolor\":\"white\",\"gridwidth\":2},\"yaxis\":{\"backgroundcolor\":\"#E5ECF6\",\"gridcolor\":\"white\",\"linecolor\":\"white\",\"showbackground\":true,\"ticks\":\"\",\"zerolinecolor\":\"white\",\"gridwidth\":2},\"zaxis\":{\"backgroundcolor\":\"#E5ECF6\",\"gridcolor\":\"white\",\"linecolor\":\"white\",\"showbackground\":true,\"ticks\":\"\",\"zerolinecolor\":\"white\",\"gridwidth\":2}},\"shapedefaults\":{\"line\":{\"color\":\"#2a3f5f\"}},\"annotationdefaults\":{\"arrowcolor\":\"#2a3f5f\",\"arrowhead\":0,\"arrowwidth\":1},\"geo\":{\"bgcolor\":\"white\",\"landcolor\":\"#E5ECF6\",\"subunitcolor\":\"white\",\"showland\":true,\"showlakes\":true,\"lakecolor\":\"white\"},\"title\":{\"x\":0.05},\"mapbox\":{\"style\":\"light\"}}},\"title\":{\"text\":\"Function as a random sample\"}},                        {\"responsive\": true}                    ).then(function(){\n",
       "                            \n",
       "var gd = document.getElementById('234ca6bd-25f8-47c8-931c-0e3da39ceff2');\n",
       "var x = new MutationObserver(function (mutations, observer) {{\n",
       "        var display = window.getComputedStyle(gd).display;\n",
       "        if (!display || display === 'none') {{\n",
       "            console.log([gd, 'removed!']);\n",
       "            Plotly.purge(gd);\n",
       "            observer.disconnect();\n",
       "        }}\n",
       "}});\n",
       "\n",
       "// Listen for the removal of the full notebook cells\n",
       "var notebookContainer = gd.closest('#notebook-container');\n",
       "if (notebookContainer) {{\n",
       "    x.observe(notebookContainer, {childList: true});\n",
       "}}\n",
       "\n",
       "// Listen for the clearing of the current output cell\n",
       "var outputEl = gd.closest('.output');\n",
       "if (outputEl) {{\n",
       "    x.observe(outputEl, {childList: true});\n",
       "}}\n",
       "\n",
       "                        })                };                });            </script>        </div>"
      ]
     },
     "metadata": {},
     "output_type": "display_data"
    },
    {
     "data": {
      "application/javascript": [
       "\n",
       "            setTimeout(function() {\n",
       "                var nbb_cell_id = 1677;\n",
       "                var nbb_unformatted_code = \"plot_random_func()\";\n",
       "                var nbb_formatted_code = \"plot_random_func()\";\n",
       "                var nbb_cells = Jupyter.notebook.get_cells();\n",
       "                for (var i = 0; i < nbb_cells.length; ++i) {\n",
       "                    if (nbb_cells[i].input_prompt_number == nbb_cell_id) {\n",
       "                        if (nbb_cells[i].get_text() == nbb_unformatted_code) {\n",
       "                             nbb_cells[i].set_text(nbb_formatted_code);\n",
       "                        }\n",
       "                        break;\n",
       "                    }\n",
       "                }\n",
       "            }, 500);\n",
       "            "
      ],
      "text/plain": [
       "<IPython.core.display.Javascript object>"
      ]
     },
     "metadata": {},
     "output_type": "display_data"
    }
   ],
   "source": [
    "plot_random_func()"
   ]
  },
  {
   "cell_type": "markdown",
   "id": "8dc048d5",
   "metadata": {
    "heading_collapsed": true
   },
   "source": [
    "# Functions as smooth random samples"
   ]
  },
  {
   "cell_type": "code",
   "execution_count": 1712,
   "id": "a4067a11",
   "metadata": {
    "hidden": true
   },
   "outputs": [
    {
     "data": {
      "application/javascript": [
       "\n",
       "            setTimeout(function() {\n",
       "                var nbb_cell_id = 1712;\n",
       "                var nbb_unformatted_code = \"import math\\n\\n\\ndef get_nd_smooth_cov(d):\\n    npa = np.zeros(shape=(d, d))\\n    for i in range(d):\\n        for j in range(d):\\n            npa[i, j] = 4 * math.exp(-(abs(i - j) ** 2) / 75)\\n    return npa\";\n",
       "                var nbb_formatted_code = \"import math\\n\\n\\ndef get_nd_smooth_cov(d):\\n    npa = np.zeros(shape=(d, d))\\n    for i in range(d):\\n        for j in range(d):\\n            npa[i, j] = 4 * math.exp(-(abs(i - j) ** 2) / 75)\\n    return npa\";\n",
       "                var nbb_cells = Jupyter.notebook.get_cells();\n",
       "                for (var i = 0; i < nbb_cells.length; ++i) {\n",
       "                    if (nbb_cells[i].input_prompt_number == nbb_cell_id) {\n",
       "                        if (nbb_cells[i].get_text() == nbb_unformatted_code) {\n",
       "                             nbb_cells[i].set_text(nbb_formatted_code);\n",
       "                        }\n",
       "                        break;\n",
       "                    }\n",
       "                }\n",
       "            }, 500);\n",
       "            "
      ],
      "text/plain": [
       "<IPython.core.display.Javascript object>"
      ]
     },
     "metadata": {},
     "output_type": "display_data"
    }
   ],
   "source": [
    "import math\n",
    "\n",
    "\n",
    "def get_nd_smooth_cov(d):\n",
    "    npa = np.zeros(shape=(d, d))\n",
    "    for i in range(d):\n",
    "        for j in range(d):\n",
    "            npa[i, j] = 4 * math.exp(-(abs(i - j) ** 2) / 75)\n",
    "    return npa\n"
   ]
  },
  {
   "cell_type": "code",
   "execution_count": 1713,
   "id": "3c1b317d",
   "metadata": {
    "hidden": true
   },
   "outputs": [
    {
     "data": {
      "application/javascript": [
       "\n",
       "            setTimeout(function() {\n",
       "                var nbb_cell_id = 1713;\n",
       "                var nbb_unformatted_code = \"# m1 = get_nd_smooth_cov(50)\\n# np.linalg.eig(m1)[0]\";\n",
       "                var nbb_formatted_code = \"# m1 = get_nd_smooth_cov(50)\\n# np.linalg.eig(m1)[0]\";\n",
       "                var nbb_cells = Jupyter.notebook.get_cells();\n",
       "                for (var i = 0; i < nbb_cells.length; ++i) {\n",
       "                    if (nbb_cells[i].input_prompt_number == nbb_cell_id) {\n",
       "                        if (nbb_cells[i].get_text() == nbb_unformatted_code) {\n",
       "                             nbb_cells[i].set_text(nbb_formatted_code);\n",
       "                        }\n",
       "                        break;\n",
       "                    }\n",
       "                }\n",
       "            }, 500);\n",
       "            "
      ],
      "text/plain": [
       "<IPython.core.display.Javascript object>"
      ]
     },
     "metadata": {},
     "output_type": "display_data"
    }
   ],
   "source": [
    "# m1 = get_nd_smooth_cov(50)\n",
    "# np.linalg.eig(m1)[0]"
   ]
  },
  {
   "cell_type": "code",
   "execution_count": 1714,
   "id": "ff45c1ab",
   "metadata": {
    "hidden": true
   },
   "outputs": [
    {
     "data": {
      "application/javascript": [
       "\n",
       "            setTimeout(function() {\n",
       "                var nbb_cell_id = 1714;\n",
       "                var nbb_unformatted_code = \"import time\\nimport matplotlib.pyplot as plt\\n\\n\\ndef plot_random_smooth_func(nd=50):\\n    fig = go.Figure()\\n    fig.add_trace(\\n        go.Scatter(\\n            x=list(range(nd)),\\n            y=np.random.multivariate_normal([0] * nd, get_nd_smooth_cov(nd)),\\n        )\\n    )\\n    fig.update_layout(title=\\\"Smooth function as a random sample\\\")\\n    fig.show()\";\n",
       "                var nbb_formatted_code = \"import time\\nimport matplotlib.pyplot as plt\\n\\n\\ndef plot_random_smooth_func(nd=50):\\n    fig = go.Figure()\\n    fig.add_trace(\\n        go.Scatter(\\n            x=list(range(nd)),\\n            y=np.random.multivariate_normal([0] * nd, get_nd_smooth_cov(nd)),\\n        )\\n    )\\n    fig.update_layout(title=\\\"Smooth function as a random sample\\\")\\n    fig.show()\";\n",
       "                var nbb_cells = Jupyter.notebook.get_cells();\n",
       "                for (var i = 0; i < nbb_cells.length; ++i) {\n",
       "                    if (nbb_cells[i].input_prompt_number == nbb_cell_id) {\n",
       "                        if (nbb_cells[i].get_text() == nbb_unformatted_code) {\n",
       "                             nbb_cells[i].set_text(nbb_formatted_code);\n",
       "                        }\n",
       "                        break;\n",
       "                    }\n",
       "                }\n",
       "            }, 500);\n",
       "            "
      ],
      "text/plain": [
       "<IPython.core.display.Javascript object>"
      ]
     },
     "metadata": {},
     "output_type": "display_data"
    }
   ],
   "source": [
    "import time\n",
    "import matplotlib.pyplot as plt\n",
    "\n",
    "\n",
    "def plot_random_smooth_func(nd=50):\n",
    "    fig = go.Figure()\n",
    "    fig.add_trace(\n",
    "        go.Scatter(\n",
    "            x=list(range(nd)),\n",
    "            y=np.random.multivariate_normal([0] * nd, get_nd_smooth_cov(nd)),\n",
    "        )\n",
    "    )\n",
    "    fig.update_layout(title=\"Smooth function as a random sample\")\n",
    "    fig.show()"
   ]
  },
  {
   "cell_type": "code",
   "execution_count": 1715,
   "id": "d55c7ee4",
   "metadata": {
    "hidden": true
   },
   "outputs": [
    {
     "data": {
      "application/javascript": [
       "\n",
       "            setTimeout(function() {\n",
       "                var nbb_cell_id = 1715;\n",
       "                var nbb_unformatted_code = \"# np.linalg.eig(get_nd_smooth_cov(50))[0]\";\n",
       "                var nbb_formatted_code = \"# np.linalg.eig(get_nd_smooth_cov(50))[0]\";\n",
       "                var nbb_cells = Jupyter.notebook.get_cells();\n",
       "                for (var i = 0; i < nbb_cells.length; ++i) {\n",
       "                    if (nbb_cells[i].input_prompt_number == nbb_cell_id) {\n",
       "                        if (nbb_cells[i].get_text() == nbb_unformatted_code) {\n",
       "                             nbb_cells[i].set_text(nbb_formatted_code);\n",
       "                        }\n",
       "                        break;\n",
       "                    }\n",
       "                }\n",
       "            }, 500);\n",
       "            "
      ],
      "text/plain": [
       "<IPython.core.display.Javascript object>"
      ]
     },
     "metadata": {},
     "output_type": "display_data"
    }
   ],
   "source": [
    "# np.linalg.eig(get_nd_smooth_cov(50))[0]"
   ]
  },
  {
   "cell_type": "code",
   "execution_count": 1725,
   "id": "277eef9e",
   "metadata": {
    "hidden": true
   },
   "outputs": [
    {
     "data": {
      "application/vnd.plotly.v1+json": {
       "config": {
        "plotlyServerURL": "https://plot.ly"
       },
       "data": [
        {
         "type": "scatter",
         "x": [
          0,
          1,
          2,
          3,
          4,
          5,
          6,
          7,
          8,
          9,
          10,
          11,
          12,
          13,
          14,
          15,
          16,
          17,
          18,
          19,
          20,
          21,
          22,
          23,
          24,
          25,
          26,
          27,
          28,
          29,
          30,
          31,
          32,
          33,
          34,
          35,
          36,
          37,
          38,
          39,
          40,
          41,
          42,
          43,
          44,
          45,
          46,
          47,
          48,
          49
         ],
         "y": [
          -0.012500901426358426,
          0.21007461038545122,
          0.5819207862033424,
          1.096566987013898,
          1.7280338269075555,
          2.430323576550541,
          3.140070282631816,
          3.783761151296048,
          4.289406467168567,
          4.6005019580386595,
          4.6885082578685555,
          4.5597856952984275,
          4.254279268203407,
          3.835809683678813,
          3.3766111118018434,
          2.9406845880764934,
          2.570840444071547,
          2.2829350931610906,
          2.068286268358841,
          1.9025530808569724,
          1.7574578185236507,
          1.6112352281978402,
          1.454674170335481,
          1.2915611527271793,
          1.134406421059995,
          0.9977392633422183,
          0.8916260863940737,
          0.8174804431382418,
          0.7671790100872874,
          0.7254326942959127,
          0.6745484658887155,
          0.6001781154043382,
          0.49636302104295527,
          0.3682205829601327,
          0.2311466908550178,
          0.10647191762949076,
          0.01483715757576258,
          -0.030408957186095164,
          -0.027298633709079707,
          0.014777381227304412,
          0.07912064477978994,
          0.14799724728671543,
          0.20833754486515293,
          0.25433876327719046,
          0.2858794640721105,
          0.3036478099290914,
          0.3035451676918721,
          0.27346286806629755,
          0.19466155599580467,
          0.048001182224154504
         ]
        }
       ],
       "layout": {
        "template": {
         "data": {
          "bar": [
           {
            "error_x": {
             "color": "#2a3f5f"
            },
            "error_y": {
             "color": "#2a3f5f"
            },
            "marker": {
             "line": {
              "color": "#E5ECF6",
              "width": 0.5
             },
             "pattern": {
              "fillmode": "overlay",
              "size": 10,
              "solidity": 0.2
             }
            },
            "type": "bar"
           }
          ],
          "barpolar": [
           {
            "marker": {
             "line": {
              "color": "#E5ECF6",
              "width": 0.5
             },
             "pattern": {
              "fillmode": "overlay",
              "size": 10,
              "solidity": 0.2
             }
            },
            "type": "barpolar"
           }
          ],
          "carpet": [
           {
            "aaxis": {
             "endlinecolor": "#2a3f5f",
             "gridcolor": "white",
             "linecolor": "white",
             "minorgridcolor": "white",
             "startlinecolor": "#2a3f5f"
            },
            "baxis": {
             "endlinecolor": "#2a3f5f",
             "gridcolor": "white",
             "linecolor": "white",
             "minorgridcolor": "white",
             "startlinecolor": "#2a3f5f"
            },
            "type": "carpet"
           }
          ],
          "choropleth": [
           {
            "colorbar": {
             "outlinewidth": 0,
             "ticks": ""
            },
            "type": "choropleth"
           }
          ],
          "contour": [
           {
            "colorbar": {
             "outlinewidth": 0,
             "ticks": ""
            },
            "colorscale": [
             [
              0,
              "#0d0887"
             ],
             [
              0.1111111111111111,
              "#46039f"
             ],
             [
              0.2222222222222222,
              "#7201a8"
             ],
             [
              0.3333333333333333,
              "#9c179e"
             ],
             [
              0.4444444444444444,
              "#bd3786"
             ],
             [
              0.5555555555555556,
              "#d8576b"
             ],
             [
              0.6666666666666666,
              "#ed7953"
             ],
             [
              0.7777777777777778,
              "#fb9f3a"
             ],
             [
              0.8888888888888888,
              "#fdca26"
             ],
             [
              1,
              "#f0f921"
             ]
            ],
            "type": "contour"
           }
          ],
          "contourcarpet": [
           {
            "colorbar": {
             "outlinewidth": 0,
             "ticks": ""
            },
            "type": "contourcarpet"
           }
          ],
          "heatmap": [
           {
            "colorbar": {
             "outlinewidth": 0,
             "ticks": ""
            },
            "colorscale": [
             [
              0,
              "#0d0887"
             ],
             [
              0.1111111111111111,
              "#46039f"
             ],
             [
              0.2222222222222222,
              "#7201a8"
             ],
             [
              0.3333333333333333,
              "#9c179e"
             ],
             [
              0.4444444444444444,
              "#bd3786"
             ],
             [
              0.5555555555555556,
              "#d8576b"
             ],
             [
              0.6666666666666666,
              "#ed7953"
             ],
             [
              0.7777777777777778,
              "#fb9f3a"
             ],
             [
              0.8888888888888888,
              "#fdca26"
             ],
             [
              1,
              "#f0f921"
             ]
            ],
            "type": "heatmap"
           }
          ],
          "heatmapgl": [
           {
            "colorbar": {
             "outlinewidth": 0,
             "ticks": ""
            },
            "colorscale": [
             [
              0,
              "#0d0887"
             ],
             [
              0.1111111111111111,
              "#46039f"
             ],
             [
              0.2222222222222222,
              "#7201a8"
             ],
             [
              0.3333333333333333,
              "#9c179e"
             ],
             [
              0.4444444444444444,
              "#bd3786"
             ],
             [
              0.5555555555555556,
              "#d8576b"
             ],
             [
              0.6666666666666666,
              "#ed7953"
             ],
             [
              0.7777777777777778,
              "#fb9f3a"
             ],
             [
              0.8888888888888888,
              "#fdca26"
             ],
             [
              1,
              "#f0f921"
             ]
            ],
            "type": "heatmapgl"
           }
          ],
          "histogram": [
           {
            "marker": {
             "pattern": {
              "fillmode": "overlay",
              "size": 10,
              "solidity": 0.2
             }
            },
            "type": "histogram"
           }
          ],
          "histogram2d": [
           {
            "colorbar": {
             "outlinewidth": 0,
             "ticks": ""
            },
            "colorscale": [
             [
              0,
              "#0d0887"
             ],
             [
              0.1111111111111111,
              "#46039f"
             ],
             [
              0.2222222222222222,
              "#7201a8"
             ],
             [
              0.3333333333333333,
              "#9c179e"
             ],
             [
              0.4444444444444444,
              "#bd3786"
             ],
             [
              0.5555555555555556,
              "#d8576b"
             ],
             [
              0.6666666666666666,
              "#ed7953"
             ],
             [
              0.7777777777777778,
              "#fb9f3a"
             ],
             [
              0.8888888888888888,
              "#fdca26"
             ],
             [
              1,
              "#f0f921"
             ]
            ],
            "type": "histogram2d"
           }
          ],
          "histogram2dcontour": [
           {
            "colorbar": {
             "outlinewidth": 0,
             "ticks": ""
            },
            "colorscale": [
             [
              0,
              "#0d0887"
             ],
             [
              0.1111111111111111,
              "#46039f"
             ],
             [
              0.2222222222222222,
              "#7201a8"
             ],
             [
              0.3333333333333333,
              "#9c179e"
             ],
             [
              0.4444444444444444,
              "#bd3786"
             ],
             [
              0.5555555555555556,
              "#d8576b"
             ],
             [
              0.6666666666666666,
              "#ed7953"
             ],
             [
              0.7777777777777778,
              "#fb9f3a"
             ],
             [
              0.8888888888888888,
              "#fdca26"
             ],
             [
              1,
              "#f0f921"
             ]
            ],
            "type": "histogram2dcontour"
           }
          ],
          "mesh3d": [
           {
            "colorbar": {
             "outlinewidth": 0,
             "ticks": ""
            },
            "type": "mesh3d"
           }
          ],
          "parcoords": [
           {
            "line": {
             "colorbar": {
              "outlinewidth": 0,
              "ticks": ""
             }
            },
            "type": "parcoords"
           }
          ],
          "pie": [
           {
            "automargin": true,
            "type": "pie"
           }
          ],
          "scatter": [
           {
            "fillpattern": {
             "fillmode": "overlay",
             "size": 10,
             "solidity": 0.2
            },
            "type": "scatter"
           }
          ],
          "scatter3d": [
           {
            "line": {
             "colorbar": {
              "outlinewidth": 0,
              "ticks": ""
             }
            },
            "marker": {
             "colorbar": {
              "outlinewidth": 0,
              "ticks": ""
             }
            },
            "type": "scatter3d"
           }
          ],
          "scattercarpet": [
           {
            "marker": {
             "colorbar": {
              "outlinewidth": 0,
              "ticks": ""
             }
            },
            "type": "scattercarpet"
           }
          ],
          "scattergeo": [
           {
            "marker": {
             "colorbar": {
              "outlinewidth": 0,
              "ticks": ""
             }
            },
            "type": "scattergeo"
           }
          ],
          "scattergl": [
           {
            "marker": {
             "colorbar": {
              "outlinewidth": 0,
              "ticks": ""
             }
            },
            "type": "scattergl"
           }
          ],
          "scattermapbox": [
           {
            "marker": {
             "colorbar": {
              "outlinewidth": 0,
              "ticks": ""
             }
            },
            "type": "scattermapbox"
           }
          ],
          "scatterpolar": [
           {
            "marker": {
             "colorbar": {
              "outlinewidth": 0,
              "ticks": ""
             }
            },
            "type": "scatterpolar"
           }
          ],
          "scatterpolargl": [
           {
            "marker": {
             "colorbar": {
              "outlinewidth": 0,
              "ticks": ""
             }
            },
            "type": "scatterpolargl"
           }
          ],
          "scatterternary": [
           {
            "marker": {
             "colorbar": {
              "outlinewidth": 0,
              "ticks": ""
             }
            },
            "type": "scatterternary"
           }
          ],
          "surface": [
           {
            "colorbar": {
             "outlinewidth": 0,
             "ticks": ""
            },
            "colorscale": [
             [
              0,
              "#0d0887"
             ],
             [
              0.1111111111111111,
              "#46039f"
             ],
             [
              0.2222222222222222,
              "#7201a8"
             ],
             [
              0.3333333333333333,
              "#9c179e"
             ],
             [
              0.4444444444444444,
              "#bd3786"
             ],
             [
              0.5555555555555556,
              "#d8576b"
             ],
             [
              0.6666666666666666,
              "#ed7953"
             ],
             [
              0.7777777777777778,
              "#fb9f3a"
             ],
             [
              0.8888888888888888,
              "#fdca26"
             ],
             [
              1,
              "#f0f921"
             ]
            ],
            "type": "surface"
           }
          ],
          "table": [
           {
            "cells": {
             "fill": {
              "color": "#EBF0F8"
             },
             "line": {
              "color": "white"
             }
            },
            "header": {
             "fill": {
              "color": "#C8D4E3"
             },
             "line": {
              "color": "white"
             }
            },
            "type": "table"
           }
          ]
         },
         "layout": {
          "annotationdefaults": {
           "arrowcolor": "#2a3f5f",
           "arrowhead": 0,
           "arrowwidth": 1
          },
          "autotypenumbers": "strict",
          "coloraxis": {
           "colorbar": {
            "outlinewidth": 0,
            "ticks": ""
           }
          },
          "colorscale": {
           "diverging": [
            [
             0,
             "#8e0152"
            ],
            [
             0.1,
             "#c51b7d"
            ],
            [
             0.2,
             "#de77ae"
            ],
            [
             0.3,
             "#f1b6da"
            ],
            [
             0.4,
             "#fde0ef"
            ],
            [
             0.5,
             "#f7f7f7"
            ],
            [
             0.6,
             "#e6f5d0"
            ],
            [
             0.7,
             "#b8e186"
            ],
            [
             0.8,
             "#7fbc41"
            ],
            [
             0.9,
             "#4d9221"
            ],
            [
             1,
             "#276419"
            ]
           ],
           "sequential": [
            [
             0,
             "#0d0887"
            ],
            [
             0.1111111111111111,
             "#46039f"
            ],
            [
             0.2222222222222222,
             "#7201a8"
            ],
            [
             0.3333333333333333,
             "#9c179e"
            ],
            [
             0.4444444444444444,
             "#bd3786"
            ],
            [
             0.5555555555555556,
             "#d8576b"
            ],
            [
             0.6666666666666666,
             "#ed7953"
            ],
            [
             0.7777777777777778,
             "#fb9f3a"
            ],
            [
             0.8888888888888888,
             "#fdca26"
            ],
            [
             1,
             "#f0f921"
            ]
           ],
           "sequentialminus": [
            [
             0,
             "#0d0887"
            ],
            [
             0.1111111111111111,
             "#46039f"
            ],
            [
             0.2222222222222222,
             "#7201a8"
            ],
            [
             0.3333333333333333,
             "#9c179e"
            ],
            [
             0.4444444444444444,
             "#bd3786"
            ],
            [
             0.5555555555555556,
             "#d8576b"
            ],
            [
             0.6666666666666666,
             "#ed7953"
            ],
            [
             0.7777777777777778,
             "#fb9f3a"
            ],
            [
             0.8888888888888888,
             "#fdca26"
            ],
            [
             1,
             "#f0f921"
            ]
           ]
          },
          "colorway": [
           "#636efa",
           "#EF553B",
           "#00cc96",
           "#ab63fa",
           "#FFA15A",
           "#19d3f3",
           "#FF6692",
           "#B6E880",
           "#FF97FF",
           "#FECB52"
          ],
          "font": {
           "color": "#2a3f5f"
          },
          "geo": {
           "bgcolor": "white",
           "lakecolor": "white",
           "landcolor": "#E5ECF6",
           "showlakes": true,
           "showland": true,
           "subunitcolor": "white"
          },
          "hoverlabel": {
           "align": "left"
          },
          "hovermode": "closest",
          "mapbox": {
           "style": "light"
          },
          "paper_bgcolor": "white",
          "plot_bgcolor": "#E5ECF6",
          "polar": {
           "angularaxis": {
            "gridcolor": "white",
            "linecolor": "white",
            "ticks": ""
           },
           "bgcolor": "#E5ECF6",
           "radialaxis": {
            "gridcolor": "white",
            "linecolor": "white",
            "ticks": ""
           }
          },
          "scene": {
           "xaxis": {
            "backgroundcolor": "#E5ECF6",
            "gridcolor": "white",
            "gridwidth": 2,
            "linecolor": "white",
            "showbackground": true,
            "ticks": "",
            "zerolinecolor": "white"
           },
           "yaxis": {
            "backgroundcolor": "#E5ECF6",
            "gridcolor": "white",
            "gridwidth": 2,
            "linecolor": "white",
            "showbackground": true,
            "ticks": "",
            "zerolinecolor": "white"
           },
           "zaxis": {
            "backgroundcolor": "#E5ECF6",
            "gridcolor": "white",
            "gridwidth": 2,
            "linecolor": "white",
            "showbackground": true,
            "ticks": "",
            "zerolinecolor": "white"
           }
          },
          "shapedefaults": {
           "line": {
            "color": "#2a3f5f"
           }
          },
          "ternary": {
           "aaxis": {
            "gridcolor": "white",
            "linecolor": "white",
            "ticks": ""
           },
           "baxis": {
            "gridcolor": "white",
            "linecolor": "white",
            "ticks": ""
           },
           "bgcolor": "#E5ECF6",
           "caxis": {
            "gridcolor": "white",
            "linecolor": "white",
            "ticks": ""
           }
          },
          "title": {
           "x": 0.05
          },
          "xaxis": {
           "automargin": true,
           "gridcolor": "white",
           "linecolor": "white",
           "ticks": "",
           "title": {
            "standoff": 15
           },
           "zerolinecolor": "white",
           "zerolinewidth": 2
          },
          "yaxis": {
           "automargin": true,
           "gridcolor": "white",
           "linecolor": "white",
           "ticks": "",
           "title": {
            "standoff": 15
           },
           "zerolinecolor": "white",
           "zerolinewidth": 2
          }
         }
        },
        "title": {
         "text": "Smooth function as a random sample"
        }
       }
      },
      "text/html": [
       "<div>                            <div id=\"5deb3b51-5b88-4f5e-ad7d-310bac798b90\" class=\"plotly-graph-div\" style=\"height:525px; width:100%;\"></div>            <script type=\"text/javascript\">                require([\"plotly\"], function(Plotly) {                    window.PLOTLYENV=window.PLOTLYENV || {};                                    if (document.getElementById(\"5deb3b51-5b88-4f5e-ad7d-310bac798b90\")) {                    Plotly.newPlot(                        \"5deb3b51-5b88-4f5e-ad7d-310bac798b90\",                        [{\"x\":[0,1,2,3,4,5,6,7,8,9,10,11,12,13,14,15,16,17,18,19,20,21,22,23,24,25,26,27,28,29,30,31,32,33,34,35,36,37,38,39,40,41,42,43,44,45,46,47,48,49],\"y\":[-0.012500901426358426,0.21007461038545122,0.5819207862033424,1.096566987013898,1.7280338269075555,2.430323576550541,3.140070282631816,3.783761151296048,4.289406467168567,4.6005019580386595,4.6885082578685555,4.5597856952984275,4.254279268203407,3.835809683678813,3.3766111118018434,2.9406845880764934,2.570840444071547,2.2829350931610906,2.068286268358841,1.9025530808569724,1.7574578185236507,1.6112352281978402,1.454674170335481,1.2915611527271793,1.134406421059995,0.9977392633422183,0.8916260863940737,0.8174804431382418,0.7671790100872874,0.7254326942959127,0.6745484658887155,0.6001781154043382,0.49636302104295527,0.3682205829601327,0.2311466908550178,0.10647191762949076,0.01483715757576258,-0.030408957186095164,-0.027298633709079707,0.014777381227304412,0.07912064477978994,0.14799724728671543,0.20833754486515293,0.25433876327719046,0.2858794640721105,0.3036478099290914,0.3035451676918721,0.27346286806629755,0.19466155599580467,0.048001182224154504],\"type\":\"scatter\"}],                        {\"template\":{\"data\":{\"histogram2dcontour\":[{\"type\":\"histogram2dcontour\",\"colorbar\":{\"outlinewidth\":0,\"ticks\":\"\"},\"colorscale\":[[0.0,\"#0d0887\"],[0.1111111111111111,\"#46039f\"],[0.2222222222222222,\"#7201a8\"],[0.3333333333333333,\"#9c179e\"],[0.4444444444444444,\"#bd3786\"],[0.5555555555555556,\"#d8576b\"],[0.6666666666666666,\"#ed7953\"],[0.7777777777777778,\"#fb9f3a\"],[0.8888888888888888,\"#fdca26\"],[1.0,\"#f0f921\"]]}],\"choropleth\":[{\"type\":\"choropleth\",\"colorbar\":{\"outlinewidth\":0,\"ticks\":\"\"}}],\"histogram2d\":[{\"type\":\"histogram2d\",\"colorbar\":{\"outlinewidth\":0,\"ticks\":\"\"},\"colorscale\":[[0.0,\"#0d0887\"],[0.1111111111111111,\"#46039f\"],[0.2222222222222222,\"#7201a8\"],[0.3333333333333333,\"#9c179e\"],[0.4444444444444444,\"#bd3786\"],[0.5555555555555556,\"#d8576b\"],[0.6666666666666666,\"#ed7953\"],[0.7777777777777778,\"#fb9f3a\"],[0.8888888888888888,\"#fdca26\"],[1.0,\"#f0f921\"]]}],\"heatmap\":[{\"type\":\"heatmap\",\"colorbar\":{\"outlinewidth\":0,\"ticks\":\"\"},\"colorscale\":[[0.0,\"#0d0887\"],[0.1111111111111111,\"#46039f\"],[0.2222222222222222,\"#7201a8\"],[0.3333333333333333,\"#9c179e\"],[0.4444444444444444,\"#bd3786\"],[0.5555555555555556,\"#d8576b\"],[0.6666666666666666,\"#ed7953\"],[0.7777777777777778,\"#fb9f3a\"],[0.8888888888888888,\"#fdca26\"],[1.0,\"#f0f921\"]]}],\"heatmapgl\":[{\"type\":\"heatmapgl\",\"colorbar\":{\"outlinewidth\":0,\"ticks\":\"\"},\"colorscale\":[[0.0,\"#0d0887\"],[0.1111111111111111,\"#46039f\"],[0.2222222222222222,\"#7201a8\"],[0.3333333333333333,\"#9c179e\"],[0.4444444444444444,\"#bd3786\"],[0.5555555555555556,\"#d8576b\"],[0.6666666666666666,\"#ed7953\"],[0.7777777777777778,\"#fb9f3a\"],[0.8888888888888888,\"#fdca26\"],[1.0,\"#f0f921\"]]}],\"contourcarpet\":[{\"type\":\"contourcarpet\",\"colorbar\":{\"outlinewidth\":0,\"ticks\":\"\"}}],\"contour\":[{\"type\":\"contour\",\"colorbar\":{\"outlinewidth\":0,\"ticks\":\"\"},\"colorscale\":[[0.0,\"#0d0887\"],[0.1111111111111111,\"#46039f\"],[0.2222222222222222,\"#7201a8\"],[0.3333333333333333,\"#9c179e\"],[0.4444444444444444,\"#bd3786\"],[0.5555555555555556,\"#d8576b\"],[0.6666666666666666,\"#ed7953\"],[0.7777777777777778,\"#fb9f3a\"],[0.8888888888888888,\"#fdca26\"],[1.0,\"#f0f921\"]]}],\"surface\":[{\"type\":\"surface\",\"colorbar\":{\"outlinewidth\":0,\"ticks\":\"\"},\"colorscale\":[[0.0,\"#0d0887\"],[0.1111111111111111,\"#46039f\"],[0.2222222222222222,\"#7201a8\"],[0.3333333333333333,\"#9c179e\"],[0.4444444444444444,\"#bd3786\"],[0.5555555555555556,\"#d8576b\"],[0.6666666666666666,\"#ed7953\"],[0.7777777777777778,\"#fb9f3a\"],[0.8888888888888888,\"#fdca26\"],[1.0,\"#f0f921\"]]}],\"mesh3d\":[{\"type\":\"mesh3d\",\"colorbar\":{\"outlinewidth\":0,\"ticks\":\"\"}}],\"scatter\":[{\"fillpattern\":{\"fillmode\":\"overlay\",\"size\":10,\"solidity\":0.2},\"type\":\"scatter\"}],\"parcoords\":[{\"type\":\"parcoords\",\"line\":{\"colorbar\":{\"outlinewidth\":0,\"ticks\":\"\"}}}],\"scatterpolargl\":[{\"type\":\"scatterpolargl\",\"marker\":{\"colorbar\":{\"outlinewidth\":0,\"ticks\":\"\"}}}],\"bar\":[{\"error_x\":{\"color\":\"#2a3f5f\"},\"error_y\":{\"color\":\"#2a3f5f\"},\"marker\":{\"line\":{\"color\":\"#E5ECF6\",\"width\":0.5},\"pattern\":{\"fillmode\":\"overlay\",\"size\":10,\"solidity\":0.2}},\"type\":\"bar\"}],\"scattergeo\":[{\"type\":\"scattergeo\",\"marker\":{\"colorbar\":{\"outlinewidth\":0,\"ticks\":\"\"}}}],\"scatterpolar\":[{\"type\":\"scatterpolar\",\"marker\":{\"colorbar\":{\"outlinewidth\":0,\"ticks\":\"\"}}}],\"histogram\":[{\"marker\":{\"pattern\":{\"fillmode\":\"overlay\",\"size\":10,\"solidity\":0.2}},\"type\":\"histogram\"}],\"scattergl\":[{\"type\":\"scattergl\",\"marker\":{\"colorbar\":{\"outlinewidth\":0,\"ticks\":\"\"}}}],\"scatter3d\":[{\"type\":\"scatter3d\",\"line\":{\"colorbar\":{\"outlinewidth\":0,\"ticks\":\"\"}},\"marker\":{\"colorbar\":{\"outlinewidth\":0,\"ticks\":\"\"}}}],\"scattermapbox\":[{\"type\":\"scattermapbox\",\"marker\":{\"colorbar\":{\"outlinewidth\":0,\"ticks\":\"\"}}}],\"scatterternary\":[{\"type\":\"scatterternary\",\"marker\":{\"colorbar\":{\"outlinewidth\":0,\"ticks\":\"\"}}}],\"scattercarpet\":[{\"type\":\"scattercarpet\",\"marker\":{\"colorbar\":{\"outlinewidth\":0,\"ticks\":\"\"}}}],\"carpet\":[{\"aaxis\":{\"endlinecolor\":\"#2a3f5f\",\"gridcolor\":\"white\",\"linecolor\":\"white\",\"minorgridcolor\":\"white\",\"startlinecolor\":\"#2a3f5f\"},\"baxis\":{\"endlinecolor\":\"#2a3f5f\",\"gridcolor\":\"white\",\"linecolor\":\"white\",\"minorgridcolor\":\"white\",\"startlinecolor\":\"#2a3f5f\"},\"type\":\"carpet\"}],\"table\":[{\"cells\":{\"fill\":{\"color\":\"#EBF0F8\"},\"line\":{\"color\":\"white\"}},\"header\":{\"fill\":{\"color\":\"#C8D4E3\"},\"line\":{\"color\":\"white\"}},\"type\":\"table\"}],\"barpolar\":[{\"marker\":{\"line\":{\"color\":\"#E5ECF6\",\"width\":0.5},\"pattern\":{\"fillmode\":\"overlay\",\"size\":10,\"solidity\":0.2}},\"type\":\"barpolar\"}],\"pie\":[{\"automargin\":true,\"type\":\"pie\"}]},\"layout\":{\"autotypenumbers\":\"strict\",\"colorway\":[\"#636efa\",\"#EF553B\",\"#00cc96\",\"#ab63fa\",\"#FFA15A\",\"#19d3f3\",\"#FF6692\",\"#B6E880\",\"#FF97FF\",\"#FECB52\"],\"font\":{\"color\":\"#2a3f5f\"},\"hovermode\":\"closest\",\"hoverlabel\":{\"align\":\"left\"},\"paper_bgcolor\":\"white\",\"plot_bgcolor\":\"#E5ECF6\",\"polar\":{\"bgcolor\":\"#E5ECF6\",\"angularaxis\":{\"gridcolor\":\"white\",\"linecolor\":\"white\",\"ticks\":\"\"},\"radialaxis\":{\"gridcolor\":\"white\",\"linecolor\":\"white\",\"ticks\":\"\"}},\"ternary\":{\"bgcolor\":\"#E5ECF6\",\"aaxis\":{\"gridcolor\":\"white\",\"linecolor\":\"white\",\"ticks\":\"\"},\"baxis\":{\"gridcolor\":\"white\",\"linecolor\":\"white\",\"ticks\":\"\"},\"caxis\":{\"gridcolor\":\"white\",\"linecolor\":\"white\",\"ticks\":\"\"}},\"coloraxis\":{\"colorbar\":{\"outlinewidth\":0,\"ticks\":\"\"}},\"colorscale\":{\"sequential\":[[0.0,\"#0d0887\"],[0.1111111111111111,\"#46039f\"],[0.2222222222222222,\"#7201a8\"],[0.3333333333333333,\"#9c179e\"],[0.4444444444444444,\"#bd3786\"],[0.5555555555555556,\"#d8576b\"],[0.6666666666666666,\"#ed7953\"],[0.7777777777777778,\"#fb9f3a\"],[0.8888888888888888,\"#fdca26\"],[1.0,\"#f0f921\"]],\"sequentialminus\":[[0.0,\"#0d0887\"],[0.1111111111111111,\"#46039f\"],[0.2222222222222222,\"#7201a8\"],[0.3333333333333333,\"#9c179e\"],[0.4444444444444444,\"#bd3786\"],[0.5555555555555556,\"#d8576b\"],[0.6666666666666666,\"#ed7953\"],[0.7777777777777778,\"#fb9f3a\"],[0.8888888888888888,\"#fdca26\"],[1.0,\"#f0f921\"]],\"diverging\":[[0,\"#8e0152\"],[0.1,\"#c51b7d\"],[0.2,\"#de77ae\"],[0.3,\"#f1b6da\"],[0.4,\"#fde0ef\"],[0.5,\"#f7f7f7\"],[0.6,\"#e6f5d0\"],[0.7,\"#b8e186\"],[0.8,\"#7fbc41\"],[0.9,\"#4d9221\"],[1,\"#276419\"]]},\"xaxis\":{\"gridcolor\":\"white\",\"linecolor\":\"white\",\"ticks\":\"\",\"title\":{\"standoff\":15},\"zerolinecolor\":\"white\",\"automargin\":true,\"zerolinewidth\":2},\"yaxis\":{\"gridcolor\":\"white\",\"linecolor\":\"white\",\"ticks\":\"\",\"title\":{\"standoff\":15},\"zerolinecolor\":\"white\",\"automargin\":true,\"zerolinewidth\":2},\"scene\":{\"xaxis\":{\"backgroundcolor\":\"#E5ECF6\",\"gridcolor\":\"white\",\"linecolor\":\"white\",\"showbackground\":true,\"ticks\":\"\",\"zerolinecolor\":\"white\",\"gridwidth\":2},\"yaxis\":{\"backgroundcolor\":\"#E5ECF6\",\"gridcolor\":\"white\",\"linecolor\":\"white\",\"showbackground\":true,\"ticks\":\"\",\"zerolinecolor\":\"white\",\"gridwidth\":2},\"zaxis\":{\"backgroundcolor\":\"#E5ECF6\",\"gridcolor\":\"white\",\"linecolor\":\"white\",\"showbackground\":true,\"ticks\":\"\",\"zerolinecolor\":\"white\",\"gridwidth\":2}},\"shapedefaults\":{\"line\":{\"color\":\"#2a3f5f\"}},\"annotationdefaults\":{\"arrowcolor\":\"#2a3f5f\",\"arrowhead\":0,\"arrowwidth\":1},\"geo\":{\"bgcolor\":\"white\",\"landcolor\":\"#E5ECF6\",\"subunitcolor\":\"white\",\"showland\":true,\"showlakes\":true,\"lakecolor\":\"white\"},\"title\":{\"x\":0.05},\"mapbox\":{\"style\":\"light\"}}},\"title\":{\"text\":\"Smooth function as a random sample\"}},                        {\"responsive\": true}                    ).then(function(){\n",
       "                            \n",
       "var gd = document.getElementById('5deb3b51-5b88-4f5e-ad7d-310bac798b90');\n",
       "var x = new MutationObserver(function (mutations, observer) {{\n",
       "        var display = window.getComputedStyle(gd).display;\n",
       "        if (!display || display === 'none') {{\n",
       "            console.log([gd, 'removed!']);\n",
       "            Plotly.purge(gd);\n",
       "            observer.disconnect();\n",
       "        }}\n",
       "}});\n",
       "\n",
       "// Listen for the removal of the full notebook cells\n",
       "var notebookContainer = gd.closest('#notebook-container');\n",
       "if (notebookContainer) {{\n",
       "    x.observe(notebookContainer, {childList: true});\n",
       "}}\n",
       "\n",
       "// Listen for the clearing of the current output cell\n",
       "var outputEl = gd.closest('.output');\n",
       "if (outputEl) {{\n",
       "    x.observe(outputEl, {childList: true});\n",
       "}}\n",
       "\n",
       "                        })                };                });            </script>        </div>"
      ]
     },
     "metadata": {},
     "output_type": "display_data"
    },
    {
     "data": {
      "application/javascript": [
       "\n",
       "            setTimeout(function() {\n",
       "                var nbb_cell_id = 1725;\n",
       "                var nbb_unformatted_code = \"plot_random_smooth_func()\";\n",
       "                var nbb_formatted_code = \"plot_random_smooth_func()\";\n",
       "                var nbb_cells = Jupyter.notebook.get_cells();\n",
       "                for (var i = 0; i < nbb_cells.length; ++i) {\n",
       "                    if (nbb_cells[i].input_prompt_number == nbb_cell_id) {\n",
       "                        if (nbb_cells[i].get_text() == nbb_unformatted_code) {\n",
       "                             nbb_cells[i].set_text(nbb_formatted_code);\n",
       "                        }\n",
       "                        break;\n",
       "                    }\n",
       "                }\n",
       "            }, 500);\n",
       "            "
      ],
      "text/plain": [
       "<IPython.core.display.Javascript object>"
      ]
     },
     "metadata": {},
     "output_type": "display_data"
    }
   ],
   "source": [
    "plot_random_smooth_func()"
   ]
  },
  {
   "cell_type": "markdown",
   "id": "a3a98fec",
   "metadata": {
    "heading_collapsed": true
   },
   "source": [
    "# (Empirical) Smooth functions as random samples but conditioned"
   ]
  },
  {
   "cell_type": "code",
   "execution_count": 1726,
   "id": "286413f3",
   "metadata": {
    "hidden": true
   },
   "outputs": [
    {
     "data": {
      "application/javascript": [
       "\n",
       "            setTimeout(function() {\n",
       "                var nbb_cell_id = 1726;\n",
       "                var nbb_unformatted_code = \"def plot_random_smooth_func_conditioned(known_dict, nd=50, tol=0.1):\\n    fig = go.Figure()\\n\\n    cov_matrix = get_nd_smooth_cov(nd)\\n    failed = True\\n    while failed:\\n        candidate = np.random.multivariate_normal([0] * nd, cov_matrix)\\n        failed = False\\n        for idx in known_dict.keys():\\n            if np.abs(candidate[idx] - known_dict[idx]) > tol:\\n                failed = True\\n                break\\n\\n    known_points = list(known_dict.keys())\\n    known_values = [known_dict[x] for x in known_points]\\n    fig.add_trace(\\n        go.Scatter(\\n            x=list(range(nd)),\\n            y=candidate,\\n        )\\n    )\\n    fig.add_trace(go.Scatter(x=known_points, y=known_values, mode=\\\"markers\\\"))\\n    fig.update_layout(\\n        title=\\\"Smooth function as a random sample conditioned on known points\\\"\\n    )\\n    fig.show()\";\n",
       "                var nbb_formatted_code = \"def plot_random_smooth_func_conditioned(known_dict, nd=50, tol=0.1):\\n    fig = go.Figure()\\n\\n    cov_matrix = get_nd_smooth_cov(nd)\\n    failed = True\\n    while failed:\\n        candidate = np.random.multivariate_normal([0] * nd, cov_matrix)\\n        failed = False\\n        for idx in known_dict.keys():\\n            if np.abs(candidate[idx] - known_dict[idx]) > tol:\\n                failed = True\\n                break\\n\\n    known_points = list(known_dict.keys())\\n    known_values = [known_dict[x] for x in known_points]\\n    fig.add_trace(\\n        go.Scatter(\\n            x=list(range(nd)),\\n            y=candidate,\\n        )\\n    )\\n    fig.add_trace(go.Scatter(x=known_points, y=known_values, mode=\\\"markers\\\"))\\n    fig.update_layout(\\n        title=\\\"Smooth function as a random sample conditioned on known points\\\"\\n    )\\n    fig.show()\";\n",
       "                var nbb_cells = Jupyter.notebook.get_cells();\n",
       "                for (var i = 0; i < nbb_cells.length; ++i) {\n",
       "                    if (nbb_cells[i].input_prompt_number == nbb_cell_id) {\n",
       "                        if (nbb_cells[i].get_text() == nbb_unformatted_code) {\n",
       "                             nbb_cells[i].set_text(nbb_formatted_code);\n",
       "                        }\n",
       "                        break;\n",
       "                    }\n",
       "                }\n",
       "            }, 500);\n",
       "            "
      ],
      "text/plain": [
       "<IPython.core.display.Javascript object>"
      ]
     },
     "metadata": {},
     "output_type": "display_data"
    }
   ],
   "source": [
    "def plot_random_smooth_func_conditioned(known_dict, nd=50, tol=0.1):\n",
    "    fig = go.Figure()\n",
    "\n",
    "    cov_matrix = get_nd_smooth_cov(nd)\n",
    "    failed = True\n",
    "    while failed:\n",
    "        candidate = np.random.multivariate_normal([0] * nd, cov_matrix)\n",
    "        failed = False\n",
    "        for idx in known_dict.keys():\n",
    "            if np.abs(candidate[idx] - known_dict[idx]) > tol:\n",
    "                failed = True\n",
    "                break\n",
    "\n",
    "    known_points = list(known_dict.keys())\n",
    "    known_values = [known_dict[x] for x in known_points]\n",
    "    fig.add_trace(\n",
    "        go.Scatter(\n",
    "            x=list(range(nd)),\n",
    "            y=candidate,\n",
    "        )\n",
    "    )\n",
    "    fig.add_trace(go.Scatter(x=known_points, y=known_values, mode=\"markers\"))\n",
    "    fig.update_layout(\n",
    "        title=\"Smooth function as a random sample conditioned on known points\"\n",
    "    )\n",
    "    fig.show()"
   ]
  },
  {
   "cell_type": "code",
   "execution_count": 1734,
   "id": "7c3f4cde",
   "metadata": {
    "hidden": true
   },
   "outputs": [
    {
     "data": {
      "application/vnd.plotly.v1+json": {
       "config": {
        "plotlyServerURL": "https://plot.ly"
       },
       "data": [
        {
         "type": "scatter",
         "x": [
          0,
          1,
          2,
          3,
          4,
          5,
          6,
          7,
          8,
          9,
          10,
          11,
          12,
          13,
          14,
          15,
          16,
          17,
          18,
          19,
          20,
          21,
          22,
          23,
          24,
          25,
          26,
          27,
          28,
          29,
          30,
          31,
          32,
          33,
          34,
          35,
          36,
          37,
          38,
          39,
          40,
          41,
          42,
          43,
          44,
          45,
          46,
          47,
          48,
          49
         ],
         "y": [
          0.1614802225530484,
          0.42410684673243915,
          0.5691601731198475,
          0.620805260600341,
          0.6123631491911307,
          0.5784226397392337,
          0.5482087883918446,
          0.5411510442533687,
          0.5651304572343174,
          0.6174542206930976,
          0.6880839028609128,
          0.7640718543438142,
          0.8337897028674762,
          0.8895928451006633,
          0.9281408717965152,
          0.9484913497857327,
          0.9489560289658996,
          0.9241874673671798,
          0.8638815798028227,
          0.7539174523907156,
          0.5799068485409992,
          0.3322973320326405,
          0.011594940657952172,
          -0.36791427022490947,
          -0.7772917038089536,
          -1.1755800847608837,
          -1.515657192756009,
          -1.7521023326712852,
          -1.8492687574684192,
          -1.7877079172851968,
          -1.567621613077574,
          -1.2088918341746702,
          -0.7481113732050833,
          -0.2335587286115825,
          0.2808604395340753,
          0.7419393036466855,
          1.1032740229497962,
          1.3307177179244292,
          1.4065714267053775,
          1.3316433085688675,
          1.1243017536576023,
          0.8160907089655927,
          0.4443612198628604,
          0.04339594147165422,
          -0.3636891519470108,
          -0.7698307684294153,
          -1.183861737329012,
          -1.6248264889814148,
          -2.1119605645641792,
          -2.65308384280265
         ]
        },
        {
         "mode": "markers",
         "type": "scatter",
         "x": [
          0,
          5,
          25,
          40
         ],
         "y": [
          0.5,
          1,
          -1,
          1.5
         ]
        }
       ],
       "layout": {
        "template": {
         "data": {
          "bar": [
           {
            "error_x": {
             "color": "#2a3f5f"
            },
            "error_y": {
             "color": "#2a3f5f"
            },
            "marker": {
             "line": {
              "color": "#E5ECF6",
              "width": 0.5
             },
             "pattern": {
              "fillmode": "overlay",
              "size": 10,
              "solidity": 0.2
             }
            },
            "type": "bar"
           }
          ],
          "barpolar": [
           {
            "marker": {
             "line": {
              "color": "#E5ECF6",
              "width": 0.5
             },
             "pattern": {
              "fillmode": "overlay",
              "size": 10,
              "solidity": 0.2
             }
            },
            "type": "barpolar"
           }
          ],
          "carpet": [
           {
            "aaxis": {
             "endlinecolor": "#2a3f5f",
             "gridcolor": "white",
             "linecolor": "white",
             "minorgridcolor": "white",
             "startlinecolor": "#2a3f5f"
            },
            "baxis": {
             "endlinecolor": "#2a3f5f",
             "gridcolor": "white",
             "linecolor": "white",
             "minorgridcolor": "white",
             "startlinecolor": "#2a3f5f"
            },
            "type": "carpet"
           }
          ],
          "choropleth": [
           {
            "colorbar": {
             "outlinewidth": 0,
             "ticks": ""
            },
            "type": "choropleth"
           }
          ],
          "contour": [
           {
            "colorbar": {
             "outlinewidth": 0,
             "ticks": ""
            },
            "colorscale": [
             [
              0,
              "#0d0887"
             ],
             [
              0.1111111111111111,
              "#46039f"
             ],
             [
              0.2222222222222222,
              "#7201a8"
             ],
             [
              0.3333333333333333,
              "#9c179e"
             ],
             [
              0.4444444444444444,
              "#bd3786"
             ],
             [
              0.5555555555555556,
              "#d8576b"
             ],
             [
              0.6666666666666666,
              "#ed7953"
             ],
             [
              0.7777777777777778,
              "#fb9f3a"
             ],
             [
              0.8888888888888888,
              "#fdca26"
             ],
             [
              1,
              "#f0f921"
             ]
            ],
            "type": "contour"
           }
          ],
          "contourcarpet": [
           {
            "colorbar": {
             "outlinewidth": 0,
             "ticks": ""
            },
            "type": "contourcarpet"
           }
          ],
          "heatmap": [
           {
            "colorbar": {
             "outlinewidth": 0,
             "ticks": ""
            },
            "colorscale": [
             [
              0,
              "#0d0887"
             ],
             [
              0.1111111111111111,
              "#46039f"
             ],
             [
              0.2222222222222222,
              "#7201a8"
             ],
             [
              0.3333333333333333,
              "#9c179e"
             ],
             [
              0.4444444444444444,
              "#bd3786"
             ],
             [
              0.5555555555555556,
              "#d8576b"
             ],
             [
              0.6666666666666666,
              "#ed7953"
             ],
             [
              0.7777777777777778,
              "#fb9f3a"
             ],
             [
              0.8888888888888888,
              "#fdca26"
             ],
             [
              1,
              "#f0f921"
             ]
            ],
            "type": "heatmap"
           }
          ],
          "heatmapgl": [
           {
            "colorbar": {
             "outlinewidth": 0,
             "ticks": ""
            },
            "colorscale": [
             [
              0,
              "#0d0887"
             ],
             [
              0.1111111111111111,
              "#46039f"
             ],
             [
              0.2222222222222222,
              "#7201a8"
             ],
             [
              0.3333333333333333,
              "#9c179e"
             ],
             [
              0.4444444444444444,
              "#bd3786"
             ],
             [
              0.5555555555555556,
              "#d8576b"
             ],
             [
              0.6666666666666666,
              "#ed7953"
             ],
             [
              0.7777777777777778,
              "#fb9f3a"
             ],
             [
              0.8888888888888888,
              "#fdca26"
             ],
             [
              1,
              "#f0f921"
             ]
            ],
            "type": "heatmapgl"
           }
          ],
          "histogram": [
           {
            "marker": {
             "pattern": {
              "fillmode": "overlay",
              "size": 10,
              "solidity": 0.2
             }
            },
            "type": "histogram"
           }
          ],
          "histogram2d": [
           {
            "colorbar": {
             "outlinewidth": 0,
             "ticks": ""
            },
            "colorscale": [
             [
              0,
              "#0d0887"
             ],
             [
              0.1111111111111111,
              "#46039f"
             ],
             [
              0.2222222222222222,
              "#7201a8"
             ],
             [
              0.3333333333333333,
              "#9c179e"
             ],
             [
              0.4444444444444444,
              "#bd3786"
             ],
             [
              0.5555555555555556,
              "#d8576b"
             ],
             [
              0.6666666666666666,
              "#ed7953"
             ],
             [
              0.7777777777777778,
              "#fb9f3a"
             ],
             [
              0.8888888888888888,
              "#fdca26"
             ],
             [
              1,
              "#f0f921"
             ]
            ],
            "type": "histogram2d"
           }
          ],
          "histogram2dcontour": [
           {
            "colorbar": {
             "outlinewidth": 0,
             "ticks": ""
            },
            "colorscale": [
             [
              0,
              "#0d0887"
             ],
             [
              0.1111111111111111,
              "#46039f"
             ],
             [
              0.2222222222222222,
              "#7201a8"
             ],
             [
              0.3333333333333333,
              "#9c179e"
             ],
             [
              0.4444444444444444,
              "#bd3786"
             ],
             [
              0.5555555555555556,
              "#d8576b"
             ],
             [
              0.6666666666666666,
              "#ed7953"
             ],
             [
              0.7777777777777778,
              "#fb9f3a"
             ],
             [
              0.8888888888888888,
              "#fdca26"
             ],
             [
              1,
              "#f0f921"
             ]
            ],
            "type": "histogram2dcontour"
           }
          ],
          "mesh3d": [
           {
            "colorbar": {
             "outlinewidth": 0,
             "ticks": ""
            },
            "type": "mesh3d"
           }
          ],
          "parcoords": [
           {
            "line": {
             "colorbar": {
              "outlinewidth": 0,
              "ticks": ""
             }
            },
            "type": "parcoords"
           }
          ],
          "pie": [
           {
            "automargin": true,
            "type": "pie"
           }
          ],
          "scatter": [
           {
            "fillpattern": {
             "fillmode": "overlay",
             "size": 10,
             "solidity": 0.2
            },
            "type": "scatter"
           }
          ],
          "scatter3d": [
           {
            "line": {
             "colorbar": {
              "outlinewidth": 0,
              "ticks": ""
             }
            },
            "marker": {
             "colorbar": {
              "outlinewidth": 0,
              "ticks": ""
             }
            },
            "type": "scatter3d"
           }
          ],
          "scattercarpet": [
           {
            "marker": {
             "colorbar": {
              "outlinewidth": 0,
              "ticks": ""
             }
            },
            "type": "scattercarpet"
           }
          ],
          "scattergeo": [
           {
            "marker": {
             "colorbar": {
              "outlinewidth": 0,
              "ticks": ""
             }
            },
            "type": "scattergeo"
           }
          ],
          "scattergl": [
           {
            "marker": {
             "colorbar": {
              "outlinewidth": 0,
              "ticks": ""
             }
            },
            "type": "scattergl"
           }
          ],
          "scattermapbox": [
           {
            "marker": {
             "colorbar": {
              "outlinewidth": 0,
              "ticks": ""
             }
            },
            "type": "scattermapbox"
           }
          ],
          "scatterpolar": [
           {
            "marker": {
             "colorbar": {
              "outlinewidth": 0,
              "ticks": ""
             }
            },
            "type": "scatterpolar"
           }
          ],
          "scatterpolargl": [
           {
            "marker": {
             "colorbar": {
              "outlinewidth": 0,
              "ticks": ""
             }
            },
            "type": "scatterpolargl"
           }
          ],
          "scatterternary": [
           {
            "marker": {
             "colorbar": {
              "outlinewidth": 0,
              "ticks": ""
             }
            },
            "type": "scatterternary"
           }
          ],
          "surface": [
           {
            "colorbar": {
             "outlinewidth": 0,
             "ticks": ""
            },
            "colorscale": [
             [
              0,
              "#0d0887"
             ],
             [
              0.1111111111111111,
              "#46039f"
             ],
             [
              0.2222222222222222,
              "#7201a8"
             ],
             [
              0.3333333333333333,
              "#9c179e"
             ],
             [
              0.4444444444444444,
              "#bd3786"
             ],
             [
              0.5555555555555556,
              "#d8576b"
             ],
             [
              0.6666666666666666,
              "#ed7953"
             ],
             [
              0.7777777777777778,
              "#fb9f3a"
             ],
             [
              0.8888888888888888,
              "#fdca26"
             ],
             [
              1,
              "#f0f921"
             ]
            ],
            "type": "surface"
           }
          ],
          "table": [
           {
            "cells": {
             "fill": {
              "color": "#EBF0F8"
             },
             "line": {
              "color": "white"
             }
            },
            "header": {
             "fill": {
              "color": "#C8D4E3"
             },
             "line": {
              "color": "white"
             }
            },
            "type": "table"
           }
          ]
         },
         "layout": {
          "annotationdefaults": {
           "arrowcolor": "#2a3f5f",
           "arrowhead": 0,
           "arrowwidth": 1
          },
          "autotypenumbers": "strict",
          "coloraxis": {
           "colorbar": {
            "outlinewidth": 0,
            "ticks": ""
           }
          },
          "colorscale": {
           "diverging": [
            [
             0,
             "#8e0152"
            ],
            [
             0.1,
             "#c51b7d"
            ],
            [
             0.2,
             "#de77ae"
            ],
            [
             0.3,
             "#f1b6da"
            ],
            [
             0.4,
             "#fde0ef"
            ],
            [
             0.5,
             "#f7f7f7"
            ],
            [
             0.6,
             "#e6f5d0"
            ],
            [
             0.7,
             "#b8e186"
            ],
            [
             0.8,
             "#7fbc41"
            ],
            [
             0.9,
             "#4d9221"
            ],
            [
             1,
             "#276419"
            ]
           ],
           "sequential": [
            [
             0,
             "#0d0887"
            ],
            [
             0.1111111111111111,
             "#46039f"
            ],
            [
             0.2222222222222222,
             "#7201a8"
            ],
            [
             0.3333333333333333,
             "#9c179e"
            ],
            [
             0.4444444444444444,
             "#bd3786"
            ],
            [
             0.5555555555555556,
             "#d8576b"
            ],
            [
             0.6666666666666666,
             "#ed7953"
            ],
            [
             0.7777777777777778,
             "#fb9f3a"
            ],
            [
             0.8888888888888888,
             "#fdca26"
            ],
            [
             1,
             "#f0f921"
            ]
           ],
           "sequentialminus": [
            [
             0,
             "#0d0887"
            ],
            [
             0.1111111111111111,
             "#46039f"
            ],
            [
             0.2222222222222222,
             "#7201a8"
            ],
            [
             0.3333333333333333,
             "#9c179e"
            ],
            [
             0.4444444444444444,
             "#bd3786"
            ],
            [
             0.5555555555555556,
             "#d8576b"
            ],
            [
             0.6666666666666666,
             "#ed7953"
            ],
            [
             0.7777777777777778,
             "#fb9f3a"
            ],
            [
             0.8888888888888888,
             "#fdca26"
            ],
            [
             1,
             "#f0f921"
            ]
           ]
          },
          "colorway": [
           "#636efa",
           "#EF553B",
           "#00cc96",
           "#ab63fa",
           "#FFA15A",
           "#19d3f3",
           "#FF6692",
           "#B6E880",
           "#FF97FF",
           "#FECB52"
          ],
          "font": {
           "color": "#2a3f5f"
          },
          "geo": {
           "bgcolor": "white",
           "lakecolor": "white",
           "landcolor": "#E5ECF6",
           "showlakes": true,
           "showland": true,
           "subunitcolor": "white"
          },
          "hoverlabel": {
           "align": "left"
          },
          "hovermode": "closest",
          "mapbox": {
           "style": "light"
          },
          "paper_bgcolor": "white",
          "plot_bgcolor": "#E5ECF6",
          "polar": {
           "angularaxis": {
            "gridcolor": "white",
            "linecolor": "white",
            "ticks": ""
           },
           "bgcolor": "#E5ECF6",
           "radialaxis": {
            "gridcolor": "white",
            "linecolor": "white",
            "ticks": ""
           }
          },
          "scene": {
           "xaxis": {
            "backgroundcolor": "#E5ECF6",
            "gridcolor": "white",
            "gridwidth": 2,
            "linecolor": "white",
            "showbackground": true,
            "ticks": "",
            "zerolinecolor": "white"
           },
           "yaxis": {
            "backgroundcolor": "#E5ECF6",
            "gridcolor": "white",
            "gridwidth": 2,
            "linecolor": "white",
            "showbackground": true,
            "ticks": "",
            "zerolinecolor": "white"
           },
           "zaxis": {
            "backgroundcolor": "#E5ECF6",
            "gridcolor": "white",
            "gridwidth": 2,
            "linecolor": "white",
            "showbackground": true,
            "ticks": "",
            "zerolinecolor": "white"
           }
          },
          "shapedefaults": {
           "line": {
            "color": "#2a3f5f"
           }
          },
          "ternary": {
           "aaxis": {
            "gridcolor": "white",
            "linecolor": "white",
            "ticks": ""
           },
           "baxis": {
            "gridcolor": "white",
            "linecolor": "white",
            "ticks": ""
           },
           "bgcolor": "#E5ECF6",
           "caxis": {
            "gridcolor": "white",
            "linecolor": "white",
            "ticks": ""
           }
          },
          "title": {
           "x": 0.05
          },
          "xaxis": {
           "automargin": true,
           "gridcolor": "white",
           "linecolor": "white",
           "ticks": "",
           "title": {
            "standoff": 15
           },
           "zerolinecolor": "white",
           "zerolinewidth": 2
          },
          "yaxis": {
           "automargin": true,
           "gridcolor": "white",
           "linecolor": "white",
           "ticks": "",
           "title": {
            "standoff": 15
           },
           "zerolinecolor": "white",
           "zerolinewidth": 2
          }
         }
        },
        "title": {
         "text": "Smooth function as a random sample conditioned on known points"
        }
       }
      },
      "text/html": [
       "<div>                            <div id=\"ab76b608-1e10-4840-889d-3d19167fe564\" class=\"plotly-graph-div\" style=\"height:525px; width:100%;\"></div>            <script type=\"text/javascript\">                require([\"plotly\"], function(Plotly) {                    window.PLOTLYENV=window.PLOTLYENV || {};                                    if (document.getElementById(\"ab76b608-1e10-4840-889d-3d19167fe564\")) {                    Plotly.newPlot(                        \"ab76b608-1e10-4840-889d-3d19167fe564\",                        [{\"x\":[0,1,2,3,4,5,6,7,8,9,10,11,12,13,14,15,16,17,18,19,20,21,22,23,24,25,26,27,28,29,30,31,32,33,34,35,36,37,38,39,40,41,42,43,44,45,46,47,48,49],\"y\":[0.1614802225530484,0.42410684673243915,0.5691601731198475,0.620805260600341,0.6123631491911307,0.5784226397392337,0.5482087883918446,0.5411510442533687,0.5651304572343174,0.6174542206930976,0.6880839028609128,0.7640718543438142,0.8337897028674762,0.8895928451006633,0.9281408717965152,0.9484913497857327,0.9489560289658996,0.9241874673671798,0.8638815798028227,0.7539174523907156,0.5799068485409992,0.3322973320326405,0.011594940657952172,-0.36791427022490947,-0.7772917038089536,-1.1755800847608837,-1.515657192756009,-1.7521023326712852,-1.8492687574684192,-1.7877079172851968,-1.567621613077574,-1.2088918341746702,-0.7481113732050833,-0.2335587286115825,0.2808604395340753,0.7419393036466855,1.1032740229497962,1.3307177179244292,1.4065714267053775,1.3316433085688675,1.1243017536576023,0.8160907089655927,0.4443612198628604,0.04339594147165422,-0.3636891519470108,-0.7698307684294153,-1.183861737329012,-1.6248264889814148,-2.1119605645641792,-2.65308384280265],\"type\":\"scatter\"},{\"mode\":\"markers\",\"x\":[0,5,25,40],\"y\":[0.5,1,-1,1.5],\"type\":\"scatter\"}],                        {\"template\":{\"data\":{\"histogram2dcontour\":[{\"type\":\"histogram2dcontour\",\"colorbar\":{\"outlinewidth\":0,\"ticks\":\"\"},\"colorscale\":[[0.0,\"#0d0887\"],[0.1111111111111111,\"#46039f\"],[0.2222222222222222,\"#7201a8\"],[0.3333333333333333,\"#9c179e\"],[0.4444444444444444,\"#bd3786\"],[0.5555555555555556,\"#d8576b\"],[0.6666666666666666,\"#ed7953\"],[0.7777777777777778,\"#fb9f3a\"],[0.8888888888888888,\"#fdca26\"],[1.0,\"#f0f921\"]]}],\"choropleth\":[{\"type\":\"choropleth\",\"colorbar\":{\"outlinewidth\":0,\"ticks\":\"\"}}],\"histogram2d\":[{\"type\":\"histogram2d\",\"colorbar\":{\"outlinewidth\":0,\"ticks\":\"\"},\"colorscale\":[[0.0,\"#0d0887\"],[0.1111111111111111,\"#46039f\"],[0.2222222222222222,\"#7201a8\"],[0.3333333333333333,\"#9c179e\"],[0.4444444444444444,\"#bd3786\"],[0.5555555555555556,\"#d8576b\"],[0.6666666666666666,\"#ed7953\"],[0.7777777777777778,\"#fb9f3a\"],[0.8888888888888888,\"#fdca26\"],[1.0,\"#f0f921\"]]}],\"heatmap\":[{\"type\":\"heatmap\",\"colorbar\":{\"outlinewidth\":0,\"ticks\":\"\"},\"colorscale\":[[0.0,\"#0d0887\"],[0.1111111111111111,\"#46039f\"],[0.2222222222222222,\"#7201a8\"],[0.3333333333333333,\"#9c179e\"],[0.4444444444444444,\"#bd3786\"],[0.5555555555555556,\"#d8576b\"],[0.6666666666666666,\"#ed7953\"],[0.7777777777777778,\"#fb9f3a\"],[0.8888888888888888,\"#fdca26\"],[1.0,\"#f0f921\"]]}],\"heatmapgl\":[{\"type\":\"heatmapgl\",\"colorbar\":{\"outlinewidth\":0,\"ticks\":\"\"},\"colorscale\":[[0.0,\"#0d0887\"],[0.1111111111111111,\"#46039f\"],[0.2222222222222222,\"#7201a8\"],[0.3333333333333333,\"#9c179e\"],[0.4444444444444444,\"#bd3786\"],[0.5555555555555556,\"#d8576b\"],[0.6666666666666666,\"#ed7953\"],[0.7777777777777778,\"#fb9f3a\"],[0.8888888888888888,\"#fdca26\"],[1.0,\"#f0f921\"]]}],\"contourcarpet\":[{\"type\":\"contourcarpet\",\"colorbar\":{\"outlinewidth\":0,\"ticks\":\"\"}}],\"contour\":[{\"type\":\"contour\",\"colorbar\":{\"outlinewidth\":0,\"ticks\":\"\"},\"colorscale\":[[0.0,\"#0d0887\"],[0.1111111111111111,\"#46039f\"],[0.2222222222222222,\"#7201a8\"],[0.3333333333333333,\"#9c179e\"],[0.4444444444444444,\"#bd3786\"],[0.5555555555555556,\"#d8576b\"],[0.6666666666666666,\"#ed7953\"],[0.7777777777777778,\"#fb9f3a\"],[0.8888888888888888,\"#fdca26\"],[1.0,\"#f0f921\"]]}],\"surface\":[{\"type\":\"surface\",\"colorbar\":{\"outlinewidth\":0,\"ticks\":\"\"},\"colorscale\":[[0.0,\"#0d0887\"],[0.1111111111111111,\"#46039f\"],[0.2222222222222222,\"#7201a8\"],[0.3333333333333333,\"#9c179e\"],[0.4444444444444444,\"#bd3786\"],[0.5555555555555556,\"#d8576b\"],[0.6666666666666666,\"#ed7953\"],[0.7777777777777778,\"#fb9f3a\"],[0.8888888888888888,\"#fdca26\"],[1.0,\"#f0f921\"]]}],\"mesh3d\":[{\"type\":\"mesh3d\",\"colorbar\":{\"outlinewidth\":0,\"ticks\":\"\"}}],\"scatter\":[{\"fillpattern\":{\"fillmode\":\"overlay\",\"size\":10,\"solidity\":0.2},\"type\":\"scatter\"}],\"parcoords\":[{\"type\":\"parcoords\",\"line\":{\"colorbar\":{\"outlinewidth\":0,\"ticks\":\"\"}}}],\"scatterpolargl\":[{\"type\":\"scatterpolargl\",\"marker\":{\"colorbar\":{\"outlinewidth\":0,\"ticks\":\"\"}}}],\"bar\":[{\"error_x\":{\"color\":\"#2a3f5f\"},\"error_y\":{\"color\":\"#2a3f5f\"},\"marker\":{\"line\":{\"color\":\"#E5ECF6\",\"width\":0.5},\"pattern\":{\"fillmode\":\"overlay\",\"size\":10,\"solidity\":0.2}},\"type\":\"bar\"}],\"scattergeo\":[{\"type\":\"scattergeo\",\"marker\":{\"colorbar\":{\"outlinewidth\":0,\"ticks\":\"\"}}}],\"scatterpolar\":[{\"type\":\"scatterpolar\",\"marker\":{\"colorbar\":{\"outlinewidth\":0,\"ticks\":\"\"}}}],\"histogram\":[{\"marker\":{\"pattern\":{\"fillmode\":\"overlay\",\"size\":10,\"solidity\":0.2}},\"type\":\"histogram\"}],\"scattergl\":[{\"type\":\"scattergl\",\"marker\":{\"colorbar\":{\"outlinewidth\":0,\"ticks\":\"\"}}}],\"scatter3d\":[{\"type\":\"scatter3d\",\"line\":{\"colorbar\":{\"outlinewidth\":0,\"ticks\":\"\"}},\"marker\":{\"colorbar\":{\"outlinewidth\":0,\"ticks\":\"\"}}}],\"scattermapbox\":[{\"type\":\"scattermapbox\",\"marker\":{\"colorbar\":{\"outlinewidth\":0,\"ticks\":\"\"}}}],\"scatterternary\":[{\"type\":\"scatterternary\",\"marker\":{\"colorbar\":{\"outlinewidth\":0,\"ticks\":\"\"}}}],\"scattercarpet\":[{\"type\":\"scattercarpet\",\"marker\":{\"colorbar\":{\"outlinewidth\":0,\"ticks\":\"\"}}}],\"carpet\":[{\"aaxis\":{\"endlinecolor\":\"#2a3f5f\",\"gridcolor\":\"white\",\"linecolor\":\"white\",\"minorgridcolor\":\"white\",\"startlinecolor\":\"#2a3f5f\"},\"baxis\":{\"endlinecolor\":\"#2a3f5f\",\"gridcolor\":\"white\",\"linecolor\":\"white\",\"minorgridcolor\":\"white\",\"startlinecolor\":\"#2a3f5f\"},\"type\":\"carpet\"}],\"table\":[{\"cells\":{\"fill\":{\"color\":\"#EBF0F8\"},\"line\":{\"color\":\"white\"}},\"header\":{\"fill\":{\"color\":\"#C8D4E3\"},\"line\":{\"color\":\"white\"}},\"type\":\"table\"}],\"barpolar\":[{\"marker\":{\"line\":{\"color\":\"#E5ECF6\",\"width\":0.5},\"pattern\":{\"fillmode\":\"overlay\",\"size\":10,\"solidity\":0.2}},\"type\":\"barpolar\"}],\"pie\":[{\"automargin\":true,\"type\":\"pie\"}]},\"layout\":{\"autotypenumbers\":\"strict\",\"colorway\":[\"#636efa\",\"#EF553B\",\"#00cc96\",\"#ab63fa\",\"#FFA15A\",\"#19d3f3\",\"#FF6692\",\"#B6E880\",\"#FF97FF\",\"#FECB52\"],\"font\":{\"color\":\"#2a3f5f\"},\"hovermode\":\"closest\",\"hoverlabel\":{\"align\":\"left\"},\"paper_bgcolor\":\"white\",\"plot_bgcolor\":\"#E5ECF6\",\"polar\":{\"bgcolor\":\"#E5ECF6\",\"angularaxis\":{\"gridcolor\":\"white\",\"linecolor\":\"white\",\"ticks\":\"\"},\"radialaxis\":{\"gridcolor\":\"white\",\"linecolor\":\"white\",\"ticks\":\"\"}},\"ternary\":{\"bgcolor\":\"#E5ECF6\",\"aaxis\":{\"gridcolor\":\"white\",\"linecolor\":\"white\",\"ticks\":\"\"},\"baxis\":{\"gridcolor\":\"white\",\"linecolor\":\"white\",\"ticks\":\"\"},\"caxis\":{\"gridcolor\":\"white\",\"linecolor\":\"white\",\"ticks\":\"\"}},\"coloraxis\":{\"colorbar\":{\"outlinewidth\":0,\"ticks\":\"\"}},\"colorscale\":{\"sequential\":[[0.0,\"#0d0887\"],[0.1111111111111111,\"#46039f\"],[0.2222222222222222,\"#7201a8\"],[0.3333333333333333,\"#9c179e\"],[0.4444444444444444,\"#bd3786\"],[0.5555555555555556,\"#d8576b\"],[0.6666666666666666,\"#ed7953\"],[0.7777777777777778,\"#fb9f3a\"],[0.8888888888888888,\"#fdca26\"],[1.0,\"#f0f921\"]],\"sequentialminus\":[[0.0,\"#0d0887\"],[0.1111111111111111,\"#46039f\"],[0.2222222222222222,\"#7201a8\"],[0.3333333333333333,\"#9c179e\"],[0.4444444444444444,\"#bd3786\"],[0.5555555555555556,\"#d8576b\"],[0.6666666666666666,\"#ed7953\"],[0.7777777777777778,\"#fb9f3a\"],[0.8888888888888888,\"#fdca26\"],[1.0,\"#f0f921\"]],\"diverging\":[[0,\"#8e0152\"],[0.1,\"#c51b7d\"],[0.2,\"#de77ae\"],[0.3,\"#f1b6da\"],[0.4,\"#fde0ef\"],[0.5,\"#f7f7f7\"],[0.6,\"#e6f5d0\"],[0.7,\"#b8e186\"],[0.8,\"#7fbc41\"],[0.9,\"#4d9221\"],[1,\"#276419\"]]},\"xaxis\":{\"gridcolor\":\"white\",\"linecolor\":\"white\",\"ticks\":\"\",\"title\":{\"standoff\":15},\"zerolinecolor\":\"white\",\"automargin\":true,\"zerolinewidth\":2},\"yaxis\":{\"gridcolor\":\"white\",\"linecolor\":\"white\",\"ticks\":\"\",\"title\":{\"standoff\":15},\"zerolinecolor\":\"white\",\"automargin\":true,\"zerolinewidth\":2},\"scene\":{\"xaxis\":{\"backgroundcolor\":\"#E5ECF6\",\"gridcolor\":\"white\",\"linecolor\":\"white\",\"showbackground\":true,\"ticks\":\"\",\"zerolinecolor\":\"white\",\"gridwidth\":2},\"yaxis\":{\"backgroundcolor\":\"#E5ECF6\",\"gridcolor\":\"white\",\"linecolor\":\"white\",\"showbackground\":true,\"ticks\":\"\",\"zerolinecolor\":\"white\",\"gridwidth\":2},\"zaxis\":{\"backgroundcolor\":\"#E5ECF6\",\"gridcolor\":\"white\",\"linecolor\":\"white\",\"showbackground\":true,\"ticks\":\"\",\"zerolinecolor\":\"white\",\"gridwidth\":2}},\"shapedefaults\":{\"line\":{\"color\":\"#2a3f5f\"}},\"annotationdefaults\":{\"arrowcolor\":\"#2a3f5f\",\"arrowhead\":0,\"arrowwidth\":1},\"geo\":{\"bgcolor\":\"white\",\"landcolor\":\"#E5ECF6\",\"subunitcolor\":\"white\",\"showland\":true,\"showlakes\":true,\"lakecolor\":\"white\"},\"title\":{\"x\":0.05},\"mapbox\":{\"style\":\"light\"}}},\"title\":{\"text\":\"Smooth function as a random sample conditioned on known points\"}},                        {\"responsive\": true}                    ).then(function(){\n",
       "                            \n",
       "var gd = document.getElementById('ab76b608-1e10-4840-889d-3d19167fe564');\n",
       "var x = new MutationObserver(function (mutations, observer) {{\n",
       "        var display = window.getComputedStyle(gd).display;\n",
       "        if (!display || display === 'none') {{\n",
       "            console.log([gd, 'removed!']);\n",
       "            Plotly.purge(gd);\n",
       "            observer.disconnect();\n",
       "        }}\n",
       "}});\n",
       "\n",
       "// Listen for the removal of the full notebook cells\n",
       "var notebookContainer = gd.closest('#notebook-container');\n",
       "if (notebookContainer) {{\n",
       "    x.observe(notebookContainer, {childList: true});\n",
       "}}\n",
       "\n",
       "// Listen for the clearing of the current output cell\n",
       "var outputEl = gd.closest('.output');\n",
       "if (outputEl) {{\n",
       "    x.observe(outputEl, {childList: true});\n",
       "}}\n",
       "\n",
       "                        })                };                });            </script>        </div>"
      ]
     },
     "metadata": {},
     "output_type": "display_data"
    },
    {
     "data": {
      "application/javascript": [
       "\n",
       "            setTimeout(function() {\n",
       "                var nbb_cell_id = 1734;\n",
       "                var nbb_unformatted_code = \"plot_random_smooth_func_conditioned({0: 0.5, 5: 1, 25: -1, 40: 1.5}, tol=0.5)\";\n",
       "                var nbb_formatted_code = \"plot_random_smooth_func_conditioned({0: 0.5, 5: 1, 25: -1, 40: 1.5}, tol=0.5)\";\n",
       "                var nbb_cells = Jupyter.notebook.get_cells();\n",
       "                for (var i = 0; i < nbb_cells.length; ++i) {\n",
       "                    if (nbb_cells[i].input_prompt_number == nbb_cell_id) {\n",
       "                        if (nbb_cells[i].get_text() == nbb_unformatted_code) {\n",
       "                             nbb_cells[i].set_text(nbb_formatted_code);\n",
       "                        }\n",
       "                        break;\n",
       "                    }\n",
       "                }\n",
       "            }, 500);\n",
       "            "
      ],
      "text/plain": [
       "<IPython.core.display.Javascript object>"
      ]
     },
     "metadata": {},
     "output_type": "display_data"
    }
   ],
   "source": [
    "plot_random_smooth_func_conditioned({0: 0.5, 5: 1, 25: -1, 40: 1.5}, tol=0.5)"
   ]
  },
  {
   "cell_type": "markdown",
   "id": "8149944a",
   "metadata": {
    "heading_collapsed": true
   },
   "source": [
    "# (Theoretical) Smooth functions random samples but conditioned"
   ]
  },
  {
   "cell_type": "code",
   "execution_count": 1735,
   "id": "34fba732",
   "metadata": {
    "hidden": true
   },
   "outputs": [
    {
     "data": {
      "application/javascript": [
       "\n",
       "            setTimeout(function() {\n",
       "                var nbb_cell_id = 1735;\n",
       "                var nbb_unformatted_code = \"def plot_random_smooth_func_conditioned_theoretical(known_dict, nd=50, n_output=1):\\n    fig = go.Figure()\\n\\n    known_dimensions = list(known_dict.keys())\\n    unknown_dimensions = [x for x in range(nd) if x not in known_dimensions]\\n    known_values = [known_dict[dim] for dim in known_dimensions]\\n\\n    assert len(known_dimensions) > 0\\n\\n    cov_matrix = get_nd_smooth_cov(nd)\\n\\n    # Need to find cov matrix for the conditional distribution\\n    # For this: we will apply the analytical formula\\n    #           So we need to first separate out the cov_matrix as A, B and C\\n    #           Refer RW.pdf conditional distribution (or see in the notebook above)\\n    #           to know what A, B and C are\\n\\n    A = cov_matrix[unknown_dimensions, :][:, unknown_dimensions]\\n    B = cov_matrix[known_dimensions, :][:, known_dimensions]\\n    C = cov_matrix[unknown_dimensions, :][:, known_dimensions]\\n\\n    #\\n    # Find conditional distribution parameters\\n    #\\n    new_mean = (\\n        np.array([0] * len(unknown_dimensions)).reshape(-1, 1)\\n        + C.dot(np.linalg.inv(B)).dot(np.array(known_values).reshape(-1, 1))\\n    )[:, 0]\\n\\n    new_cov = A - C.dot(np.linalg.inv(B)).dot(np.transpose(C))\\n\\n    for _ in range(n_output):\\n        unknown_values = np.random.multivariate_normal(new_mean, new_cov)\\n        unknown_dict = dict(zip(unknown_dimensions, unknown_values))\\n\\n        merged_values = [\\n            known_dict[d] if d in known_dimensions else unknown_dict[d]\\n            for d in range(nd)\\n        ]\\n\\n        fig.add_trace(go.Scatter(x=list(range(nd)), y=merged_values))\\n    fig.add_trace(\\n        go.Scatter(\\n            x=known_dimensions, y=known_values, mode=\\\"markers\\\", marker={\\\"color\\\": \\\"red\\\"}\\n        )\\n    )\\n    fig.update_layout(\\n        title=\\\"Smooth function as a random sample conditioned on known points\\\"\\n    )\\n    fig.show()\";\n",
       "                var nbb_formatted_code = \"def plot_random_smooth_func_conditioned_theoretical(known_dict, nd=50, n_output=1):\\n    fig = go.Figure()\\n\\n    known_dimensions = list(known_dict.keys())\\n    unknown_dimensions = [x for x in range(nd) if x not in known_dimensions]\\n    known_values = [known_dict[dim] for dim in known_dimensions]\\n\\n    assert len(known_dimensions) > 0\\n\\n    cov_matrix = get_nd_smooth_cov(nd)\\n\\n    # Need to find cov matrix for the conditional distribution\\n    # For this: we will apply the analytical formula\\n    #           So we need to first separate out the cov_matrix as A, B and C\\n    #           Refer RW.pdf conditional distribution (or see in the notebook above)\\n    #           to know what A, B and C are\\n\\n    A = cov_matrix[unknown_dimensions, :][:, unknown_dimensions]\\n    B = cov_matrix[known_dimensions, :][:, known_dimensions]\\n    C = cov_matrix[unknown_dimensions, :][:, known_dimensions]\\n\\n    #\\n    # Find conditional distribution parameters\\n    #\\n    new_mean = (\\n        np.array([0] * len(unknown_dimensions)).reshape(-1, 1)\\n        + C.dot(np.linalg.inv(B)).dot(np.array(known_values).reshape(-1, 1))\\n    )[:, 0]\\n\\n    new_cov = A - C.dot(np.linalg.inv(B)).dot(np.transpose(C))\\n\\n    for _ in range(n_output):\\n        unknown_values = np.random.multivariate_normal(new_mean, new_cov)\\n        unknown_dict = dict(zip(unknown_dimensions, unknown_values))\\n\\n        merged_values = [\\n            known_dict[d] if d in known_dimensions else unknown_dict[d]\\n            for d in range(nd)\\n        ]\\n\\n        fig.add_trace(go.Scatter(x=list(range(nd)), y=merged_values))\\n    fig.add_trace(\\n        go.Scatter(\\n            x=known_dimensions, y=known_values, mode=\\\"markers\\\", marker={\\\"color\\\": \\\"red\\\"}\\n        )\\n    )\\n    fig.update_layout(\\n        title=\\\"Smooth function as a random sample conditioned on known points\\\"\\n    )\\n    fig.show()\";\n",
       "                var nbb_cells = Jupyter.notebook.get_cells();\n",
       "                for (var i = 0; i < nbb_cells.length; ++i) {\n",
       "                    if (nbb_cells[i].input_prompt_number == nbb_cell_id) {\n",
       "                        if (nbb_cells[i].get_text() == nbb_unformatted_code) {\n",
       "                             nbb_cells[i].set_text(nbb_formatted_code);\n",
       "                        }\n",
       "                        break;\n",
       "                    }\n",
       "                }\n",
       "            }, 500);\n",
       "            "
      ],
      "text/plain": [
       "<IPython.core.display.Javascript object>"
      ]
     },
     "metadata": {},
     "output_type": "display_data"
    }
   ],
   "source": [
    "def plot_random_smooth_func_conditioned_theoretical(known_dict, nd=50, n_output=1):\n",
    "    fig = go.Figure()\n",
    "\n",
    "    known_dimensions = list(known_dict.keys())\n",
    "    unknown_dimensions = [x for x in range(nd) if x not in known_dimensions]\n",
    "    known_values = [known_dict[dim] for dim in known_dimensions]\n",
    "\n",
    "    assert len(known_dimensions) > 0\n",
    "\n",
    "    cov_matrix = get_nd_smooth_cov(nd)\n",
    "\n",
    "    # Need to find cov matrix for the conditional distribution\n",
    "    # For this: we will apply the analytical formula\n",
    "    #           So we need to first separate out the cov_matrix as A, B and C\n",
    "    #           Refer RW.pdf conditional distribution (or see in the notebook above)\n",
    "    #           to know what A, B and C are\n",
    "\n",
    "    A = cov_matrix[unknown_dimensions, :][:, unknown_dimensions]\n",
    "    B = cov_matrix[known_dimensions, :][:, known_dimensions]\n",
    "    C = cov_matrix[unknown_dimensions, :][:, known_dimensions]\n",
    "\n",
    "    #\n",
    "    # Find conditional distribution parameters\n",
    "    #\n",
    "    new_mean = (\n",
    "        np.array([0] * len(unknown_dimensions)).reshape(-1, 1)\n",
    "        + C.dot(np.linalg.inv(B)).dot(np.array(known_values).reshape(-1, 1))\n",
    "    )[:, 0]\n",
    "\n",
    "    new_cov = A - C.dot(np.linalg.inv(B)).dot(np.transpose(C))\n",
    "\n",
    "    for _ in range(n_output):\n",
    "        unknown_values = np.random.multivariate_normal(new_mean, new_cov)\n",
    "        unknown_dict = dict(zip(unknown_dimensions, unknown_values))\n",
    "\n",
    "        merged_values = [\n",
    "            known_dict[d] if d in known_dimensions else unknown_dict[d]\n",
    "            for d in range(nd)\n",
    "        ]\n",
    "\n",
    "        fig.add_trace(go.Scatter(x=list(range(nd)), y=merged_values))\n",
    "    fig.add_trace(\n",
    "        go.Scatter(\n",
    "            x=known_dimensions, y=known_values, mode=\"markers\", marker={\"color\": \"red\"}\n",
    "        )\n",
    "    )\n",
    "    fig.update_layout(\n",
    "        title=\"Smooth function as a random sample conditioned on known points\"\n",
    "    )\n",
    "    fig.show()"
   ]
  },
  {
   "cell_type": "code",
   "execution_count": 1767,
   "id": "2a0dcc01",
   "metadata": {
    "hidden": true,
    "scrolled": false
   },
   "outputs": [
    {
     "data": {
      "application/vnd.plotly.v1+json": {
       "config": {
        "plotlyServerURL": "https://plot.ly"
       },
       "data": [
        {
         "type": "scatter",
         "x": [
          0,
          1,
          2,
          3,
          4,
          5,
          6,
          7,
          8,
          9,
          10,
          11,
          12,
          13,
          14,
          15,
          16,
          17,
          18,
          19,
          20,
          21,
          22,
          23,
          24,
          25,
          26,
          27,
          28,
          29,
          30,
          31,
          32,
          33,
          34,
          35,
          36,
          37,
          38,
          39,
          40,
          41,
          42,
          43,
          44,
          45,
          46,
          47,
          48,
          49,
          50,
          51,
          52,
          53,
          54,
          55,
          56,
          57,
          58,
          59,
          60,
          61,
          62,
          63,
          64,
          65,
          66,
          67,
          68,
          69,
          70,
          71,
          72,
          73,
          74,
          75,
          76,
          77,
          78,
          79,
          80,
          81,
          82,
          83,
          84,
          85,
          86,
          87,
          88,
          89,
          90,
          91,
          92,
          93,
          94,
          95,
          96,
          97,
          98,
          99
         ],
         "y": [
          0.5,
          -0.605502493752732,
          -1.5480008575419044,
          -2.1928970506157413,
          -2.4507977386807296,
          -2.2956718971372823,
          -1.7735548318116388,
          -1,
          -0.14521499376244312,
          0.592636353825146,
          1.0228422275636841,
          1,
          0.45581981498010227,
          -0.5835407933431718,
          -2,
          -3.6060528809314802,
          -5.18171730088901,
          -6.5164174185512005,
          -7.445511096733835,
          -7.873618545752564,
          -7.78145222659916,
          -7.217626998857483,
          -6.280316759949348,
          -5.094883488943065,
          -3.7929267973054497,
          -2.4964154745630864,
          -1.3084819096196063,
          -0.31061817821349536,
          0.4354092761517627,
          0.8835185936808769,
          1,
          0.7632111993480195,
          0.16715471753307487,
          -0.7720777428925782,
          -2.0096874603516515,
          -3.4688151842989723,
          -5.043225539428979,
          -6.606907766573809,
          -8.029032548640277,
          -9.190786185412273,
          -10,
          -10.400497839151837,
          -10.375089915525798,
          -9.943172815986358,
          -9.15496863683887,
          -8.084216062087178,
          -6.820117829125457,
          -5.458444052932194,
          -4.091691497601726,
          -2.7990966116103224,
          -1.6384341391896307,
          -0.6419156320299111,
          0.1823702761039041,
          0.8438976367345579,
          1.360340301971942,
          1.7486662296034927,
          2.0194753026082273,
          2.175807758325685,
          2.2158345484403874,
          2.1375971538902996,
          1.9437107726384386,
          1.6445141478044278,
          1.2590884261489812,
          0.8143560568324527,
          0.3428296449014735,
          -0.1204641113055506,
          -0.5415924207724039,
          -0.8916709557755667,
          -1.1508259722974636,
          -1.3114578212311234,
          -1.3797952647177578,
          -1.3747924494331452,
          -1.3239899717690322,
          -1.2569172821109253,
          -1.1975834727508985,
          -1.158185209068337,
          -1.1360379305864758,
          -1.1149208653571396,
          -1.0706938395274233,
          -0.979661896664753,
          -0.8271715411662102,
          -0.613733416914489,
          -0.35671112618709117,
          -0.08704948265263868,
          0.15787827373266602,
          0.3430882246775605,
          0.4439973325599132,
          0.4517368094893145,
          0.37492925794524207,
          0.2380583473856051,
          0.07714335124033322,
          -0.06639360015561944,
          -0.15275800446838572,
          -0.15071878281739343,
          -0.04329235250781533,
          0.169060469495143,
          0.46871047043012315,
          0.8249184751320937,
          1.2010084676780712,
          1.5630333137527082
         ]
        },
        {
         "marker": {
          "color": "red"
         },
         "mode": "markers",
         "type": "scatter",
         "x": [
          0,
          7,
          11,
          14,
          30,
          40
         ],
         "y": [
          0.5,
          -1,
          1,
          -2,
          1,
          -10
         ]
        }
       ],
       "layout": {
        "template": {
         "data": {
          "bar": [
           {
            "error_x": {
             "color": "#2a3f5f"
            },
            "error_y": {
             "color": "#2a3f5f"
            },
            "marker": {
             "line": {
              "color": "#E5ECF6",
              "width": 0.5
             },
             "pattern": {
              "fillmode": "overlay",
              "size": 10,
              "solidity": 0.2
             }
            },
            "type": "bar"
           }
          ],
          "barpolar": [
           {
            "marker": {
             "line": {
              "color": "#E5ECF6",
              "width": 0.5
             },
             "pattern": {
              "fillmode": "overlay",
              "size": 10,
              "solidity": 0.2
             }
            },
            "type": "barpolar"
           }
          ],
          "carpet": [
           {
            "aaxis": {
             "endlinecolor": "#2a3f5f",
             "gridcolor": "white",
             "linecolor": "white",
             "minorgridcolor": "white",
             "startlinecolor": "#2a3f5f"
            },
            "baxis": {
             "endlinecolor": "#2a3f5f",
             "gridcolor": "white",
             "linecolor": "white",
             "minorgridcolor": "white",
             "startlinecolor": "#2a3f5f"
            },
            "type": "carpet"
           }
          ],
          "choropleth": [
           {
            "colorbar": {
             "outlinewidth": 0,
             "ticks": ""
            },
            "type": "choropleth"
           }
          ],
          "contour": [
           {
            "colorbar": {
             "outlinewidth": 0,
             "ticks": ""
            },
            "colorscale": [
             [
              0,
              "#0d0887"
             ],
             [
              0.1111111111111111,
              "#46039f"
             ],
             [
              0.2222222222222222,
              "#7201a8"
             ],
             [
              0.3333333333333333,
              "#9c179e"
             ],
             [
              0.4444444444444444,
              "#bd3786"
             ],
             [
              0.5555555555555556,
              "#d8576b"
             ],
             [
              0.6666666666666666,
              "#ed7953"
             ],
             [
              0.7777777777777778,
              "#fb9f3a"
             ],
             [
              0.8888888888888888,
              "#fdca26"
             ],
             [
              1,
              "#f0f921"
             ]
            ],
            "type": "contour"
           }
          ],
          "contourcarpet": [
           {
            "colorbar": {
             "outlinewidth": 0,
             "ticks": ""
            },
            "type": "contourcarpet"
           }
          ],
          "heatmap": [
           {
            "colorbar": {
             "outlinewidth": 0,
             "ticks": ""
            },
            "colorscale": [
             [
              0,
              "#0d0887"
             ],
             [
              0.1111111111111111,
              "#46039f"
             ],
             [
              0.2222222222222222,
              "#7201a8"
             ],
             [
              0.3333333333333333,
              "#9c179e"
             ],
             [
              0.4444444444444444,
              "#bd3786"
             ],
             [
              0.5555555555555556,
              "#d8576b"
             ],
             [
              0.6666666666666666,
              "#ed7953"
             ],
             [
              0.7777777777777778,
              "#fb9f3a"
             ],
             [
              0.8888888888888888,
              "#fdca26"
             ],
             [
              1,
              "#f0f921"
             ]
            ],
            "type": "heatmap"
           }
          ],
          "heatmapgl": [
           {
            "colorbar": {
             "outlinewidth": 0,
             "ticks": ""
            },
            "colorscale": [
             [
              0,
              "#0d0887"
             ],
             [
              0.1111111111111111,
              "#46039f"
             ],
             [
              0.2222222222222222,
              "#7201a8"
             ],
             [
              0.3333333333333333,
              "#9c179e"
             ],
             [
              0.4444444444444444,
              "#bd3786"
             ],
             [
              0.5555555555555556,
              "#d8576b"
             ],
             [
              0.6666666666666666,
              "#ed7953"
             ],
             [
              0.7777777777777778,
              "#fb9f3a"
             ],
             [
              0.8888888888888888,
              "#fdca26"
             ],
             [
              1,
              "#f0f921"
             ]
            ],
            "type": "heatmapgl"
           }
          ],
          "histogram": [
           {
            "marker": {
             "pattern": {
              "fillmode": "overlay",
              "size": 10,
              "solidity": 0.2
             }
            },
            "type": "histogram"
           }
          ],
          "histogram2d": [
           {
            "colorbar": {
             "outlinewidth": 0,
             "ticks": ""
            },
            "colorscale": [
             [
              0,
              "#0d0887"
             ],
             [
              0.1111111111111111,
              "#46039f"
             ],
             [
              0.2222222222222222,
              "#7201a8"
             ],
             [
              0.3333333333333333,
              "#9c179e"
             ],
             [
              0.4444444444444444,
              "#bd3786"
             ],
             [
              0.5555555555555556,
              "#d8576b"
             ],
             [
              0.6666666666666666,
              "#ed7953"
             ],
             [
              0.7777777777777778,
              "#fb9f3a"
             ],
             [
              0.8888888888888888,
              "#fdca26"
             ],
             [
              1,
              "#f0f921"
             ]
            ],
            "type": "histogram2d"
           }
          ],
          "histogram2dcontour": [
           {
            "colorbar": {
             "outlinewidth": 0,
             "ticks": ""
            },
            "colorscale": [
             [
              0,
              "#0d0887"
             ],
             [
              0.1111111111111111,
              "#46039f"
             ],
             [
              0.2222222222222222,
              "#7201a8"
             ],
             [
              0.3333333333333333,
              "#9c179e"
             ],
             [
              0.4444444444444444,
              "#bd3786"
             ],
             [
              0.5555555555555556,
              "#d8576b"
             ],
             [
              0.6666666666666666,
              "#ed7953"
             ],
             [
              0.7777777777777778,
              "#fb9f3a"
             ],
             [
              0.8888888888888888,
              "#fdca26"
             ],
             [
              1,
              "#f0f921"
             ]
            ],
            "type": "histogram2dcontour"
           }
          ],
          "mesh3d": [
           {
            "colorbar": {
             "outlinewidth": 0,
             "ticks": ""
            },
            "type": "mesh3d"
           }
          ],
          "parcoords": [
           {
            "line": {
             "colorbar": {
              "outlinewidth": 0,
              "ticks": ""
             }
            },
            "type": "parcoords"
           }
          ],
          "pie": [
           {
            "automargin": true,
            "type": "pie"
           }
          ],
          "scatter": [
           {
            "fillpattern": {
             "fillmode": "overlay",
             "size": 10,
             "solidity": 0.2
            },
            "type": "scatter"
           }
          ],
          "scatter3d": [
           {
            "line": {
             "colorbar": {
              "outlinewidth": 0,
              "ticks": ""
             }
            },
            "marker": {
             "colorbar": {
              "outlinewidth": 0,
              "ticks": ""
             }
            },
            "type": "scatter3d"
           }
          ],
          "scattercarpet": [
           {
            "marker": {
             "colorbar": {
              "outlinewidth": 0,
              "ticks": ""
             }
            },
            "type": "scattercarpet"
           }
          ],
          "scattergeo": [
           {
            "marker": {
             "colorbar": {
              "outlinewidth": 0,
              "ticks": ""
             }
            },
            "type": "scattergeo"
           }
          ],
          "scattergl": [
           {
            "marker": {
             "colorbar": {
              "outlinewidth": 0,
              "ticks": ""
             }
            },
            "type": "scattergl"
           }
          ],
          "scattermapbox": [
           {
            "marker": {
             "colorbar": {
              "outlinewidth": 0,
              "ticks": ""
             }
            },
            "type": "scattermapbox"
           }
          ],
          "scatterpolar": [
           {
            "marker": {
             "colorbar": {
              "outlinewidth": 0,
              "ticks": ""
             }
            },
            "type": "scatterpolar"
           }
          ],
          "scatterpolargl": [
           {
            "marker": {
             "colorbar": {
              "outlinewidth": 0,
              "ticks": ""
             }
            },
            "type": "scatterpolargl"
           }
          ],
          "scatterternary": [
           {
            "marker": {
             "colorbar": {
              "outlinewidth": 0,
              "ticks": ""
             }
            },
            "type": "scatterternary"
           }
          ],
          "surface": [
           {
            "colorbar": {
             "outlinewidth": 0,
             "ticks": ""
            },
            "colorscale": [
             [
              0,
              "#0d0887"
             ],
             [
              0.1111111111111111,
              "#46039f"
             ],
             [
              0.2222222222222222,
              "#7201a8"
             ],
             [
              0.3333333333333333,
              "#9c179e"
             ],
             [
              0.4444444444444444,
              "#bd3786"
             ],
             [
              0.5555555555555556,
              "#d8576b"
             ],
             [
              0.6666666666666666,
              "#ed7953"
             ],
             [
              0.7777777777777778,
              "#fb9f3a"
             ],
             [
              0.8888888888888888,
              "#fdca26"
             ],
             [
              1,
              "#f0f921"
             ]
            ],
            "type": "surface"
           }
          ],
          "table": [
           {
            "cells": {
             "fill": {
              "color": "#EBF0F8"
             },
             "line": {
              "color": "white"
             }
            },
            "header": {
             "fill": {
              "color": "#C8D4E3"
             },
             "line": {
              "color": "white"
             }
            },
            "type": "table"
           }
          ]
         },
         "layout": {
          "annotationdefaults": {
           "arrowcolor": "#2a3f5f",
           "arrowhead": 0,
           "arrowwidth": 1
          },
          "autotypenumbers": "strict",
          "coloraxis": {
           "colorbar": {
            "outlinewidth": 0,
            "ticks": ""
           }
          },
          "colorscale": {
           "diverging": [
            [
             0,
             "#8e0152"
            ],
            [
             0.1,
             "#c51b7d"
            ],
            [
             0.2,
             "#de77ae"
            ],
            [
             0.3,
             "#f1b6da"
            ],
            [
             0.4,
             "#fde0ef"
            ],
            [
             0.5,
             "#f7f7f7"
            ],
            [
             0.6,
             "#e6f5d0"
            ],
            [
             0.7,
             "#b8e186"
            ],
            [
             0.8,
             "#7fbc41"
            ],
            [
             0.9,
             "#4d9221"
            ],
            [
             1,
             "#276419"
            ]
           ],
           "sequential": [
            [
             0,
             "#0d0887"
            ],
            [
             0.1111111111111111,
             "#46039f"
            ],
            [
             0.2222222222222222,
             "#7201a8"
            ],
            [
             0.3333333333333333,
             "#9c179e"
            ],
            [
             0.4444444444444444,
             "#bd3786"
            ],
            [
             0.5555555555555556,
             "#d8576b"
            ],
            [
             0.6666666666666666,
             "#ed7953"
            ],
            [
             0.7777777777777778,
             "#fb9f3a"
            ],
            [
             0.8888888888888888,
             "#fdca26"
            ],
            [
             1,
             "#f0f921"
            ]
           ],
           "sequentialminus": [
            [
             0,
             "#0d0887"
            ],
            [
             0.1111111111111111,
             "#46039f"
            ],
            [
             0.2222222222222222,
             "#7201a8"
            ],
            [
             0.3333333333333333,
             "#9c179e"
            ],
            [
             0.4444444444444444,
             "#bd3786"
            ],
            [
             0.5555555555555556,
             "#d8576b"
            ],
            [
             0.6666666666666666,
             "#ed7953"
            ],
            [
             0.7777777777777778,
             "#fb9f3a"
            ],
            [
             0.8888888888888888,
             "#fdca26"
            ],
            [
             1,
             "#f0f921"
            ]
           ]
          },
          "colorway": [
           "#636efa",
           "#EF553B",
           "#00cc96",
           "#ab63fa",
           "#FFA15A",
           "#19d3f3",
           "#FF6692",
           "#B6E880",
           "#FF97FF",
           "#FECB52"
          ],
          "font": {
           "color": "#2a3f5f"
          },
          "geo": {
           "bgcolor": "white",
           "lakecolor": "white",
           "landcolor": "#E5ECF6",
           "showlakes": true,
           "showland": true,
           "subunitcolor": "white"
          },
          "hoverlabel": {
           "align": "left"
          },
          "hovermode": "closest",
          "mapbox": {
           "style": "light"
          },
          "paper_bgcolor": "white",
          "plot_bgcolor": "#E5ECF6",
          "polar": {
           "angularaxis": {
            "gridcolor": "white",
            "linecolor": "white",
            "ticks": ""
           },
           "bgcolor": "#E5ECF6",
           "radialaxis": {
            "gridcolor": "white",
            "linecolor": "white",
            "ticks": ""
           }
          },
          "scene": {
           "xaxis": {
            "backgroundcolor": "#E5ECF6",
            "gridcolor": "white",
            "gridwidth": 2,
            "linecolor": "white",
            "showbackground": true,
            "ticks": "",
            "zerolinecolor": "white"
           },
           "yaxis": {
            "backgroundcolor": "#E5ECF6",
            "gridcolor": "white",
            "gridwidth": 2,
            "linecolor": "white",
            "showbackground": true,
            "ticks": "",
            "zerolinecolor": "white"
           },
           "zaxis": {
            "backgroundcolor": "#E5ECF6",
            "gridcolor": "white",
            "gridwidth": 2,
            "linecolor": "white",
            "showbackground": true,
            "ticks": "",
            "zerolinecolor": "white"
           }
          },
          "shapedefaults": {
           "line": {
            "color": "#2a3f5f"
           }
          },
          "ternary": {
           "aaxis": {
            "gridcolor": "white",
            "linecolor": "white",
            "ticks": ""
           },
           "baxis": {
            "gridcolor": "white",
            "linecolor": "white",
            "ticks": ""
           },
           "bgcolor": "#E5ECF6",
           "caxis": {
            "gridcolor": "white",
            "linecolor": "white",
            "ticks": ""
           }
          },
          "title": {
           "x": 0.05
          },
          "xaxis": {
           "automargin": true,
           "gridcolor": "white",
           "linecolor": "white",
           "ticks": "",
           "title": {
            "standoff": 15
           },
           "zerolinecolor": "white",
           "zerolinewidth": 2
          },
          "yaxis": {
           "automargin": true,
           "gridcolor": "white",
           "linecolor": "white",
           "ticks": "",
           "title": {
            "standoff": 15
           },
           "zerolinecolor": "white",
           "zerolinewidth": 2
          }
         }
        },
        "title": {
         "text": "Smooth function as a random sample conditioned on known points"
        }
       }
      },
      "text/html": [
       "<div>                            <div id=\"703a794f-736d-47f4-af14-b7ba4a080113\" class=\"plotly-graph-div\" style=\"height:525px; width:100%;\"></div>            <script type=\"text/javascript\">                require([\"plotly\"], function(Plotly) {                    window.PLOTLYENV=window.PLOTLYENV || {};                                    if (document.getElementById(\"703a794f-736d-47f4-af14-b7ba4a080113\")) {                    Plotly.newPlot(                        \"703a794f-736d-47f4-af14-b7ba4a080113\",                        [{\"x\":[0,1,2,3,4,5,6,7,8,9,10,11,12,13,14,15,16,17,18,19,20,21,22,23,24,25,26,27,28,29,30,31,32,33,34,35,36,37,38,39,40,41,42,43,44,45,46,47,48,49,50,51,52,53,54,55,56,57,58,59,60,61,62,63,64,65,66,67,68,69,70,71,72,73,74,75,76,77,78,79,80,81,82,83,84,85,86,87,88,89,90,91,92,93,94,95,96,97,98,99],\"y\":[0.5,-0.605502493752732,-1.5480008575419044,-2.1928970506157413,-2.4507977386807296,-2.2956718971372823,-1.7735548318116388,-1,-0.14521499376244312,0.592636353825146,1.0228422275636841,1,0.45581981498010227,-0.5835407933431718,-2,-3.6060528809314802,-5.18171730088901,-6.5164174185512005,-7.445511096733835,-7.873618545752564,-7.78145222659916,-7.217626998857483,-6.280316759949348,-5.094883488943065,-3.7929267973054497,-2.4964154745630864,-1.3084819096196063,-0.31061817821349536,0.4354092761517627,0.8835185936808769,1,0.7632111993480195,0.16715471753307487,-0.7720777428925782,-2.0096874603516515,-3.4688151842989723,-5.043225539428979,-6.606907766573809,-8.029032548640277,-9.190786185412273,-10,-10.400497839151837,-10.375089915525798,-9.943172815986358,-9.15496863683887,-8.084216062087178,-6.820117829125457,-5.458444052932194,-4.091691497601726,-2.7990966116103224,-1.6384341391896307,-0.6419156320299111,0.1823702761039041,0.8438976367345579,1.360340301971942,1.7486662296034927,2.0194753026082273,2.175807758325685,2.2158345484403874,2.1375971538902996,1.9437107726384386,1.6445141478044278,1.2590884261489812,0.8143560568324527,0.3428296449014735,-0.1204641113055506,-0.5415924207724039,-0.8916709557755667,-1.1508259722974636,-1.3114578212311234,-1.3797952647177578,-1.3747924494331452,-1.3239899717690322,-1.2569172821109253,-1.1975834727508985,-1.158185209068337,-1.1360379305864758,-1.1149208653571396,-1.0706938395274233,-0.979661896664753,-0.8271715411662102,-0.613733416914489,-0.35671112618709117,-0.08704948265263868,0.15787827373266602,0.3430882246775605,0.4439973325599132,0.4517368094893145,0.37492925794524207,0.2380583473856051,0.07714335124033322,-0.06639360015561944,-0.15275800446838572,-0.15071878281739343,-0.04329235250781533,0.169060469495143,0.46871047043012315,0.8249184751320937,1.2010084676780712,1.5630333137527082],\"type\":\"scatter\"},{\"marker\":{\"color\":\"red\"},\"mode\":\"markers\",\"x\":[0,7,11,14,30,40],\"y\":[0.5,-1,1,-2,1,-10],\"type\":\"scatter\"}],                        {\"template\":{\"data\":{\"histogram2dcontour\":[{\"type\":\"histogram2dcontour\",\"colorbar\":{\"outlinewidth\":0,\"ticks\":\"\"},\"colorscale\":[[0.0,\"#0d0887\"],[0.1111111111111111,\"#46039f\"],[0.2222222222222222,\"#7201a8\"],[0.3333333333333333,\"#9c179e\"],[0.4444444444444444,\"#bd3786\"],[0.5555555555555556,\"#d8576b\"],[0.6666666666666666,\"#ed7953\"],[0.7777777777777778,\"#fb9f3a\"],[0.8888888888888888,\"#fdca26\"],[1.0,\"#f0f921\"]]}],\"choropleth\":[{\"type\":\"choropleth\",\"colorbar\":{\"outlinewidth\":0,\"ticks\":\"\"}}],\"histogram2d\":[{\"type\":\"histogram2d\",\"colorbar\":{\"outlinewidth\":0,\"ticks\":\"\"},\"colorscale\":[[0.0,\"#0d0887\"],[0.1111111111111111,\"#46039f\"],[0.2222222222222222,\"#7201a8\"],[0.3333333333333333,\"#9c179e\"],[0.4444444444444444,\"#bd3786\"],[0.5555555555555556,\"#d8576b\"],[0.6666666666666666,\"#ed7953\"],[0.7777777777777778,\"#fb9f3a\"],[0.8888888888888888,\"#fdca26\"],[1.0,\"#f0f921\"]]}],\"heatmap\":[{\"type\":\"heatmap\",\"colorbar\":{\"outlinewidth\":0,\"ticks\":\"\"},\"colorscale\":[[0.0,\"#0d0887\"],[0.1111111111111111,\"#46039f\"],[0.2222222222222222,\"#7201a8\"],[0.3333333333333333,\"#9c179e\"],[0.4444444444444444,\"#bd3786\"],[0.5555555555555556,\"#d8576b\"],[0.6666666666666666,\"#ed7953\"],[0.7777777777777778,\"#fb9f3a\"],[0.8888888888888888,\"#fdca26\"],[1.0,\"#f0f921\"]]}],\"heatmapgl\":[{\"type\":\"heatmapgl\",\"colorbar\":{\"outlinewidth\":0,\"ticks\":\"\"},\"colorscale\":[[0.0,\"#0d0887\"],[0.1111111111111111,\"#46039f\"],[0.2222222222222222,\"#7201a8\"],[0.3333333333333333,\"#9c179e\"],[0.4444444444444444,\"#bd3786\"],[0.5555555555555556,\"#d8576b\"],[0.6666666666666666,\"#ed7953\"],[0.7777777777777778,\"#fb9f3a\"],[0.8888888888888888,\"#fdca26\"],[1.0,\"#f0f921\"]]}],\"contourcarpet\":[{\"type\":\"contourcarpet\",\"colorbar\":{\"outlinewidth\":0,\"ticks\":\"\"}}],\"contour\":[{\"type\":\"contour\",\"colorbar\":{\"outlinewidth\":0,\"ticks\":\"\"},\"colorscale\":[[0.0,\"#0d0887\"],[0.1111111111111111,\"#46039f\"],[0.2222222222222222,\"#7201a8\"],[0.3333333333333333,\"#9c179e\"],[0.4444444444444444,\"#bd3786\"],[0.5555555555555556,\"#d8576b\"],[0.6666666666666666,\"#ed7953\"],[0.7777777777777778,\"#fb9f3a\"],[0.8888888888888888,\"#fdca26\"],[1.0,\"#f0f921\"]]}],\"surface\":[{\"type\":\"surface\",\"colorbar\":{\"outlinewidth\":0,\"ticks\":\"\"},\"colorscale\":[[0.0,\"#0d0887\"],[0.1111111111111111,\"#46039f\"],[0.2222222222222222,\"#7201a8\"],[0.3333333333333333,\"#9c179e\"],[0.4444444444444444,\"#bd3786\"],[0.5555555555555556,\"#d8576b\"],[0.6666666666666666,\"#ed7953\"],[0.7777777777777778,\"#fb9f3a\"],[0.8888888888888888,\"#fdca26\"],[1.0,\"#f0f921\"]]}],\"mesh3d\":[{\"type\":\"mesh3d\",\"colorbar\":{\"outlinewidth\":0,\"ticks\":\"\"}}],\"scatter\":[{\"fillpattern\":{\"fillmode\":\"overlay\",\"size\":10,\"solidity\":0.2},\"type\":\"scatter\"}],\"parcoords\":[{\"type\":\"parcoords\",\"line\":{\"colorbar\":{\"outlinewidth\":0,\"ticks\":\"\"}}}],\"scatterpolargl\":[{\"type\":\"scatterpolargl\",\"marker\":{\"colorbar\":{\"outlinewidth\":0,\"ticks\":\"\"}}}],\"bar\":[{\"error_x\":{\"color\":\"#2a3f5f\"},\"error_y\":{\"color\":\"#2a3f5f\"},\"marker\":{\"line\":{\"color\":\"#E5ECF6\",\"width\":0.5},\"pattern\":{\"fillmode\":\"overlay\",\"size\":10,\"solidity\":0.2}},\"type\":\"bar\"}],\"scattergeo\":[{\"type\":\"scattergeo\",\"marker\":{\"colorbar\":{\"outlinewidth\":0,\"ticks\":\"\"}}}],\"scatterpolar\":[{\"type\":\"scatterpolar\",\"marker\":{\"colorbar\":{\"outlinewidth\":0,\"ticks\":\"\"}}}],\"histogram\":[{\"marker\":{\"pattern\":{\"fillmode\":\"overlay\",\"size\":10,\"solidity\":0.2}},\"type\":\"histogram\"}],\"scattergl\":[{\"type\":\"scattergl\",\"marker\":{\"colorbar\":{\"outlinewidth\":0,\"ticks\":\"\"}}}],\"scatter3d\":[{\"type\":\"scatter3d\",\"line\":{\"colorbar\":{\"outlinewidth\":0,\"ticks\":\"\"}},\"marker\":{\"colorbar\":{\"outlinewidth\":0,\"ticks\":\"\"}}}],\"scattermapbox\":[{\"type\":\"scattermapbox\",\"marker\":{\"colorbar\":{\"outlinewidth\":0,\"ticks\":\"\"}}}],\"scatterternary\":[{\"type\":\"scatterternary\",\"marker\":{\"colorbar\":{\"outlinewidth\":0,\"ticks\":\"\"}}}],\"scattercarpet\":[{\"type\":\"scattercarpet\",\"marker\":{\"colorbar\":{\"outlinewidth\":0,\"ticks\":\"\"}}}],\"carpet\":[{\"aaxis\":{\"endlinecolor\":\"#2a3f5f\",\"gridcolor\":\"white\",\"linecolor\":\"white\",\"minorgridcolor\":\"white\",\"startlinecolor\":\"#2a3f5f\"},\"baxis\":{\"endlinecolor\":\"#2a3f5f\",\"gridcolor\":\"white\",\"linecolor\":\"white\",\"minorgridcolor\":\"white\",\"startlinecolor\":\"#2a3f5f\"},\"type\":\"carpet\"}],\"table\":[{\"cells\":{\"fill\":{\"color\":\"#EBF0F8\"},\"line\":{\"color\":\"white\"}},\"header\":{\"fill\":{\"color\":\"#C8D4E3\"},\"line\":{\"color\":\"white\"}},\"type\":\"table\"}],\"barpolar\":[{\"marker\":{\"line\":{\"color\":\"#E5ECF6\",\"width\":0.5},\"pattern\":{\"fillmode\":\"overlay\",\"size\":10,\"solidity\":0.2}},\"type\":\"barpolar\"}],\"pie\":[{\"automargin\":true,\"type\":\"pie\"}]},\"layout\":{\"autotypenumbers\":\"strict\",\"colorway\":[\"#636efa\",\"#EF553B\",\"#00cc96\",\"#ab63fa\",\"#FFA15A\",\"#19d3f3\",\"#FF6692\",\"#B6E880\",\"#FF97FF\",\"#FECB52\"],\"font\":{\"color\":\"#2a3f5f\"},\"hovermode\":\"closest\",\"hoverlabel\":{\"align\":\"left\"},\"paper_bgcolor\":\"white\",\"plot_bgcolor\":\"#E5ECF6\",\"polar\":{\"bgcolor\":\"#E5ECF6\",\"angularaxis\":{\"gridcolor\":\"white\",\"linecolor\":\"white\",\"ticks\":\"\"},\"radialaxis\":{\"gridcolor\":\"white\",\"linecolor\":\"white\",\"ticks\":\"\"}},\"ternary\":{\"bgcolor\":\"#E5ECF6\",\"aaxis\":{\"gridcolor\":\"white\",\"linecolor\":\"white\",\"ticks\":\"\"},\"baxis\":{\"gridcolor\":\"white\",\"linecolor\":\"white\",\"ticks\":\"\"},\"caxis\":{\"gridcolor\":\"white\",\"linecolor\":\"white\",\"ticks\":\"\"}},\"coloraxis\":{\"colorbar\":{\"outlinewidth\":0,\"ticks\":\"\"}},\"colorscale\":{\"sequential\":[[0.0,\"#0d0887\"],[0.1111111111111111,\"#46039f\"],[0.2222222222222222,\"#7201a8\"],[0.3333333333333333,\"#9c179e\"],[0.4444444444444444,\"#bd3786\"],[0.5555555555555556,\"#d8576b\"],[0.6666666666666666,\"#ed7953\"],[0.7777777777777778,\"#fb9f3a\"],[0.8888888888888888,\"#fdca26\"],[1.0,\"#f0f921\"]],\"sequentialminus\":[[0.0,\"#0d0887\"],[0.1111111111111111,\"#46039f\"],[0.2222222222222222,\"#7201a8\"],[0.3333333333333333,\"#9c179e\"],[0.4444444444444444,\"#bd3786\"],[0.5555555555555556,\"#d8576b\"],[0.6666666666666666,\"#ed7953\"],[0.7777777777777778,\"#fb9f3a\"],[0.8888888888888888,\"#fdca26\"],[1.0,\"#f0f921\"]],\"diverging\":[[0,\"#8e0152\"],[0.1,\"#c51b7d\"],[0.2,\"#de77ae\"],[0.3,\"#f1b6da\"],[0.4,\"#fde0ef\"],[0.5,\"#f7f7f7\"],[0.6,\"#e6f5d0\"],[0.7,\"#b8e186\"],[0.8,\"#7fbc41\"],[0.9,\"#4d9221\"],[1,\"#276419\"]]},\"xaxis\":{\"gridcolor\":\"white\",\"linecolor\":\"white\",\"ticks\":\"\",\"title\":{\"standoff\":15},\"zerolinecolor\":\"white\",\"automargin\":true,\"zerolinewidth\":2},\"yaxis\":{\"gridcolor\":\"white\",\"linecolor\":\"white\",\"ticks\":\"\",\"title\":{\"standoff\":15},\"zerolinecolor\":\"white\",\"automargin\":true,\"zerolinewidth\":2},\"scene\":{\"xaxis\":{\"backgroundcolor\":\"#E5ECF6\",\"gridcolor\":\"white\",\"linecolor\":\"white\",\"showbackground\":true,\"ticks\":\"\",\"zerolinecolor\":\"white\",\"gridwidth\":2},\"yaxis\":{\"backgroundcolor\":\"#E5ECF6\",\"gridcolor\":\"white\",\"linecolor\":\"white\",\"showbackground\":true,\"ticks\":\"\",\"zerolinecolor\":\"white\",\"gridwidth\":2},\"zaxis\":{\"backgroundcolor\":\"#E5ECF6\",\"gridcolor\":\"white\",\"linecolor\":\"white\",\"showbackground\":true,\"ticks\":\"\",\"zerolinecolor\":\"white\",\"gridwidth\":2}},\"shapedefaults\":{\"line\":{\"color\":\"#2a3f5f\"}},\"annotationdefaults\":{\"arrowcolor\":\"#2a3f5f\",\"arrowhead\":0,\"arrowwidth\":1},\"geo\":{\"bgcolor\":\"white\",\"landcolor\":\"#E5ECF6\",\"subunitcolor\":\"white\",\"showland\":true,\"showlakes\":true,\"lakecolor\":\"white\"},\"title\":{\"x\":0.05},\"mapbox\":{\"style\":\"light\"}}},\"title\":{\"text\":\"Smooth function as a random sample conditioned on known points\"}},                        {\"responsive\": true}                    ).then(function(){\n",
       "                            \n",
       "var gd = document.getElementById('703a794f-736d-47f4-af14-b7ba4a080113');\n",
       "var x = new MutationObserver(function (mutations, observer) {{\n",
       "        var display = window.getComputedStyle(gd).display;\n",
       "        if (!display || display === 'none') {{\n",
       "            console.log([gd, 'removed!']);\n",
       "            Plotly.purge(gd);\n",
       "            observer.disconnect();\n",
       "        }}\n",
       "}});\n",
       "\n",
       "// Listen for the removal of the full notebook cells\n",
       "var notebookContainer = gd.closest('#notebook-container');\n",
       "if (notebookContainer) {{\n",
       "    x.observe(notebookContainer, {childList: true});\n",
       "}}\n",
       "\n",
       "// Listen for the clearing of the current output cell\n",
       "var outputEl = gd.closest('.output');\n",
       "if (outputEl) {{\n",
       "    x.observe(outputEl, {childList: true});\n",
       "}}\n",
       "\n",
       "                        })                };                });            </script>        </div>"
      ]
     },
     "metadata": {},
     "output_type": "display_data"
    },
    {
     "data": {
      "application/javascript": [
       "\n",
       "            setTimeout(function() {\n",
       "                var nbb_cell_id = 1767;\n",
       "                var nbb_unformatted_code = \"plot_random_smooth_func_conditioned_theoretical(\\n    {0: 0.5, 7: -1, 11: 1, 14: -2, 30: 1, 40: -10},\\n    nd=100,\\n    n_output=1,\\n)\";\n",
       "                var nbb_formatted_code = \"plot_random_smooth_func_conditioned_theoretical(\\n    {0: 0.5, 7: -1, 11: 1, 14: -2, 30: 1, 40: -10},\\n    nd=100,\\n    n_output=1,\\n)\";\n",
       "                var nbb_cells = Jupyter.notebook.get_cells();\n",
       "                for (var i = 0; i < nbb_cells.length; ++i) {\n",
       "                    if (nbb_cells[i].input_prompt_number == nbb_cell_id) {\n",
       "                        if (nbb_cells[i].get_text() == nbb_unformatted_code) {\n",
       "                             nbb_cells[i].set_text(nbb_formatted_code);\n",
       "                        }\n",
       "                        break;\n",
       "                    }\n",
       "                }\n",
       "            }, 500);\n",
       "            "
      ],
      "text/plain": [
       "<IPython.core.display.Javascript object>"
      ]
     },
     "metadata": {},
     "output_type": "display_data"
    }
   ],
   "source": [
    "plot_random_smooth_func_conditioned_theoretical(\n",
    "    {0: 0.5, 7: -1, 11: 1, 14: -2, 30: 1, 40: -10},\n",
    "    nd=100,\n",
    "    n_output=1,\n",
    ")"
   ]
  },
  {
   "cell_type": "markdown",
   "id": "bb9ff985",
   "metadata": {
    "heading_collapsed": true
   },
   "source": [
    "# Gaussian process regression - A handcoded example"
   ]
  },
  {
   "cell_type": "markdown",
   "id": "42c2e892",
   "metadata": {
    "hidden": true
   },
   "source": [
    "| Height | Weight | Age | BPsystolic | BPDiastolic | FastingSugarLevel | <span style=\"color:red\">TimeToCompletePhysicalTask</span> |\n",
    "| ---- | ---- | ---- |---- | ---- | ---- |---- |\n",
    "| 6.23 | 66 | 34 | 120 | 89 | 342 | <span style=\"color:red\">2.34 </span> |\n",
    "| 5.2 | 56 | 37 | 145 | 80 | 242 | <span style=\"color:red\">1.34</span> |\n",
    "| 4.45 | 50 | 24 | 130 | 70 | 82 | <span style=\"color:red\">2.54</span> |\n",
    "| 7.10 | 89 | 40 | 101 | 65 | 202 | <span style=\"color:red\">3.34</span> |\n",
    "| 6.23 | 92 | 27 | 148 | 89 | 102 | <span style=\"color:red\">4.34</span> |\n",
    "| 6.95 | 123 | 47 | 153 | 86 | 294 | <span style=\"color:red\">1.04</span> |\n",
    "| 4.9 | 51 | 67 | 123 | 72 | 194 | <span style=\"color:red\">2.54</span> |\n",
    "| 5.2 | 56 | 25 | 115 | 74 | 142 | <span style=\"color:red\">3.04</span> |\n",
    "| 5.57 | 70 | 40 | 104 | 67 | 104 | <span style=\"color:red\">2.74</span> |\n",
    "| 5.9 | 62 | 89 | 109 | 90 | 243 | <span style=\"color:red\">1.34</span> |\n",
    "| 4.67 | 60 | 12 | 135 | 95 | 104 | <span style=\"color:red\">1.94</span> |\n",
    "| 6.59 | 70 | 41 | 145 | 69 | 120 |<span style=\"color:red\"> 2.14</span> |\n",
    "<br>\n",
    "\n",
    "### Can we answer the following from the above??\n",
    "\n",
    "<br>\n",
    "\n",
    "| Height | Weight | Age | BPsystolic | BPDiastolic | FastingSugarLevel | <span style=\"color:red\">TimeToCompletePhysicalTask</span> |\n",
    "| ---- | ---- | ---- |---- | ---- | ---- |---- |\n",
    "| 5.12 | 52 | 23 | 134 | 84 | 183 |<span style=\"color:red\"> ? </span> |\n",
    "| 6.2 | 78 | 43 | 143 | 93 | 135 |<span style=\"color:red\"> ? </span> |"
   ]
  },
  {
   "cell_type": "code",
   "execution_count": 1768,
   "id": "37de4e1f",
   "metadata": {
    "hidden": true
   },
   "outputs": [
    {
     "data": {
      "application/javascript": [
       "\n",
       "            setTimeout(function() {\n",
       "                var nbb_cell_id = 1768;\n",
       "                var nbb_unformatted_code = \"known_dimensions = np.array(\\n    [\\n        [6.23, 66, 34, 120, 89, 342],\\n        [5.2, 56, 37, 145, 80, 242],\\n        [4.45, 50, 24, 130, 70, 82],\\n        [7.10, 89, 40, 101, 65, 202],\\n        [6.23, 92, 27, 148, 89, 102],\\n        [6.95, 123, 47, 153, 86, 294],\\n        [4.9, 51, 67, 123, 72, 194],\\n        [5.2, 56, 25, 115, 74, 142],\\n        [5.57, 70, 40, 104, 67, 104],\\n        [5.9, 62, 89, 109, 90, 243],\\n        [4.67, 60, 12, 135, 95, 104],\\n        [6.59, 70, 41, 145, 69, 120],\\n    ]\\n)\\n\\nunknown_dimensions = np.array(\\n    [[5.12, 52, 23, 134, 84, 183], [6.2, 78, 43, 143, 93, 135]]\\n)\\n\\nknown_values = [2.34, 1.34, 2.54, 3.34, 4.34, 1.04, 2.54, 3.04, 2.74, 1.34, 1.94, 2.14]\";\n",
       "                var nbb_formatted_code = \"known_dimensions = np.array(\\n    [\\n        [6.23, 66, 34, 120, 89, 342],\\n        [5.2, 56, 37, 145, 80, 242],\\n        [4.45, 50, 24, 130, 70, 82],\\n        [7.10, 89, 40, 101, 65, 202],\\n        [6.23, 92, 27, 148, 89, 102],\\n        [6.95, 123, 47, 153, 86, 294],\\n        [4.9, 51, 67, 123, 72, 194],\\n        [5.2, 56, 25, 115, 74, 142],\\n        [5.57, 70, 40, 104, 67, 104],\\n        [5.9, 62, 89, 109, 90, 243],\\n        [4.67, 60, 12, 135, 95, 104],\\n        [6.59, 70, 41, 145, 69, 120],\\n    ]\\n)\\n\\nunknown_dimensions = np.array(\\n    [[5.12, 52, 23, 134, 84, 183], [6.2, 78, 43, 143, 93, 135]]\\n)\\n\\nknown_values = [2.34, 1.34, 2.54, 3.34, 4.34, 1.04, 2.54, 3.04, 2.74, 1.34, 1.94, 2.14]\";\n",
       "                var nbb_cells = Jupyter.notebook.get_cells();\n",
       "                for (var i = 0; i < nbb_cells.length; ++i) {\n",
       "                    if (nbb_cells[i].input_prompt_number == nbb_cell_id) {\n",
       "                        if (nbb_cells[i].get_text() == nbb_unformatted_code) {\n",
       "                             nbb_cells[i].set_text(nbb_formatted_code);\n",
       "                        }\n",
       "                        break;\n",
       "                    }\n",
       "                }\n",
       "            }, 500);\n",
       "            "
      ],
      "text/plain": [
       "<IPython.core.display.Javascript object>"
      ]
     },
     "metadata": {},
     "output_type": "display_data"
    }
   ],
   "source": [
    "known_dimensions = np.array(\n",
    "    [\n",
    "        [6.23, 66, 34, 120, 89, 342],\n",
    "        [5.2, 56, 37, 145, 80, 242],\n",
    "        [4.45, 50, 24, 130, 70, 82],\n",
    "        [7.10, 89, 40, 101, 65, 202],\n",
    "        [6.23, 92, 27, 148, 89, 102],\n",
    "        [6.95, 123, 47, 153, 86, 294],\n",
    "        [4.9, 51, 67, 123, 72, 194],\n",
    "        [5.2, 56, 25, 115, 74, 142],\n",
    "        [5.57, 70, 40, 104, 67, 104],\n",
    "        [5.9, 62, 89, 109, 90, 243],\n",
    "        [4.67, 60, 12, 135, 95, 104],\n",
    "        [6.59, 70, 41, 145, 69, 120],\n",
    "    ]\n",
    ")\n",
    "\n",
    "unknown_dimensions = np.array(\n",
    "    [[5.12, 52, 23, 134, 84, 183], [6.2, 78, 43, 143, 93, 135]]\n",
    ")\n",
    "\n",
    "known_values = [2.34, 1.34, 2.54, 3.34, 4.34, 1.04, 2.54, 3.04, 2.74, 1.34, 1.94, 2.14]"
   ]
  },
  {
   "cell_type": "code",
   "execution_count": 1769,
   "id": "54e88917",
   "metadata": {
    "hidden": true
   },
   "outputs": [
    {
     "data": {
      "text/plain": [
       "(12, 6)"
      ]
     },
     "execution_count": 1769,
     "metadata": {},
     "output_type": "execute_result"
    },
    {
     "data": {
      "application/javascript": [
       "\n",
       "            setTimeout(function() {\n",
       "                var nbb_cell_id = 1769;\n",
       "                var nbb_unformatted_code = \"known_dimensions.shape\";\n",
       "                var nbb_formatted_code = \"known_dimensions.shape\";\n",
       "                var nbb_cells = Jupyter.notebook.get_cells();\n",
       "                for (var i = 0; i < nbb_cells.length; ++i) {\n",
       "                    if (nbb_cells[i].input_prompt_number == nbb_cell_id) {\n",
       "                        if (nbb_cells[i].get_text() == nbb_unformatted_code) {\n",
       "                             nbb_cells[i].set_text(nbb_formatted_code);\n",
       "                        }\n",
       "                        break;\n",
       "                    }\n",
       "                }\n",
       "            }, 500);\n",
       "            "
      ],
      "text/plain": [
       "<IPython.core.display.Javascript object>"
      ]
     },
     "metadata": {},
     "output_type": "display_data"
    }
   ],
   "source": [
    "known_dimensions.shape"
   ]
  },
  {
   "cell_type": "code",
   "execution_count": 1770,
   "id": "101d8469",
   "metadata": {
    "hidden": true
   },
   "outputs": [
    {
     "data": {
      "text/plain": [
       "(2, 6)"
      ]
     },
     "execution_count": 1770,
     "metadata": {},
     "output_type": "execute_result"
    },
    {
     "data": {
      "application/javascript": [
       "\n",
       "            setTimeout(function() {\n",
       "                var nbb_cell_id = 1770;\n",
       "                var nbb_unformatted_code = \"unknown_dimensions.shape\";\n",
       "                var nbb_formatted_code = \"unknown_dimensions.shape\";\n",
       "                var nbb_cells = Jupyter.notebook.get_cells();\n",
       "                for (var i = 0; i < nbb_cells.length; ++i) {\n",
       "                    if (nbb_cells[i].input_prompt_number == nbb_cell_id) {\n",
       "                        if (nbb_cells[i].get_text() == nbb_unformatted_code) {\n",
       "                             nbb_cells[i].set_text(nbb_formatted_code);\n",
       "                        }\n",
       "                        break;\n",
       "                    }\n",
       "                }\n",
       "            }, 500);\n",
       "            "
      ],
      "text/plain": [
       "<IPython.core.display.Javascript object>"
      ]
     },
     "metadata": {},
     "output_type": "display_data"
    }
   ],
   "source": [
    "unknown_dimensions.shape"
   ]
  },
  {
   "cell_type": "code",
   "execution_count": 1771,
   "id": "820a5b0c",
   "metadata": {
    "hidden": true
   },
   "outputs": [
    {
     "data": {
      "application/javascript": [
       "\n",
       "            setTimeout(function() {\n",
       "                var nbb_cell_id = 1771;\n",
       "                var nbb_unformatted_code = \"cov_base = np.cov(known_dimensions, unknown_dimensions)\";\n",
       "                var nbb_formatted_code = \"cov_base = np.cov(known_dimensions, unknown_dimensions)\";\n",
       "                var nbb_cells = Jupyter.notebook.get_cells();\n",
       "                for (var i = 0; i < nbb_cells.length; ++i) {\n",
       "                    if (nbb_cells[i].input_prompt_number == nbb_cell_id) {\n",
       "                        if (nbb_cells[i].get_text() == nbb_unformatted_code) {\n",
       "                             nbb_cells[i].set_text(nbb_formatted_code);\n",
       "                        }\n",
       "                        break;\n",
       "                    }\n",
       "                }\n",
       "            }, 500);\n",
       "            "
      ],
      "text/plain": [
       "<IPython.core.display.Javascript object>"
      ]
     },
     "metadata": {},
     "output_type": "display_data"
    }
   ],
   "source": [
    "cov_base = np.cov(known_dimensions, unknown_dimensions)"
   ]
  },
  {
   "cell_type": "code",
   "execution_count": 1772,
   "id": "ff1e1c09",
   "metadata": {
    "hidden": true
   },
   "outputs": [
    {
     "data": {
      "text/plain": [
       "(14, 14)"
      ]
     },
     "execution_count": 1772,
     "metadata": {},
     "output_type": "execute_result"
    },
    {
     "data": {
      "application/javascript": [
       "\n",
       "            setTimeout(function() {\n",
       "                var nbb_cell_id = 1772;\n",
       "                var nbb_unformatted_code = \"cov_base.shape\";\n",
       "                var nbb_formatted_code = \"cov_base.shape\";\n",
       "                var nbb_cells = Jupyter.notebook.get_cells();\n",
       "                for (var i = 0; i < nbb_cells.length; ++i) {\n",
       "                    if (nbb_cells[i].input_prompt_number == nbb_cell_id) {\n",
       "                        if (nbb_cells[i].get_text() == nbb_unformatted_code) {\n",
       "                             nbb_cells[i].set_text(nbb_formatted_code);\n",
       "                        }\n",
       "                        break;\n",
       "                    }\n",
       "                }\n",
       "            }, 500);\n",
       "            "
      ],
      "text/plain": [
       "<IPython.core.display.Javascript object>"
      ]
     },
     "metadata": {},
     "output_type": "display_data"
    }
   ],
   "source": [
    "cov_base.shape"
   ]
  },
  {
   "cell_type": "code",
   "execution_count": 1773,
   "id": "6888a963",
   "metadata": {
    "hidden": true
   },
   "outputs": [
    {
     "data": {
      "text/plain": [
       "array([[14568.78681667, 10071.866     ,  2906.92625   ,  7809.79183333,\n",
       "         3348.56648333, 11710.91175   ,  7423.57083333,  5565.80066667,\n",
       "         3448.66285   ,  9149.64983333,  3927.19735   ,  4233.92795   ,\n",
       "         7537.36293333,  4736.72566667],\n",
       "       [10071.866     ,  7455.84      ,  2810.15      ,  5548.74      ,\n",
       "         3143.386     ,  8399.77      ,  5536.5       ,  4349.36      ,\n",
       "         2849.054     ,  6438.06      ,  3497.234     ,  3703.298     ,\n",
       "         5780.824     ,  3981.16      ],\n",
       "       [ 2906.92625   ,  2810.15      ,  1993.15375   ,  1880.3575    ,\n",
       "         2244.22125   ,  2935.33625   ,  2073.0825    ,  2026.77      ,\n",
       "         1551.85875   ,  1935.8675    ,  2273.15625   ,  2180.81125   ,\n",
       "         2515.5       ,  2240.045     ],\n",
       "       [ 7809.79183333,  5548.74      ,  1880.3575    ,  4489.72166667,\n",
       "         2329.23516667,  6731.9425    ,  4107.33166667,  3215.63333333,\n",
       "         2184.4315    ,  4949.46166667,  2433.6065    ,  2669.1405    ,\n",
       "         4224.45066667,  2921.38333333],\n",
       "       [ 3348.56648333,  3143.386     ,  2244.22125   ,  2329.23516667,\n",
       "         2708.51281667,  3596.85675   ,  2264.99416667,  2333.98733333,\n",
       "         1859.72985   ,  2146.77316667,  2628.37435   ,  2497.75695   ,\n",
       "         2837.16826667,  2608.01233333],\n",
       "       [11710.91175   ,  8399.77      ,  2935.33625   ,  6731.9425    ,\n",
       "         3596.85675   , 10124.49375   ,  6186.4975    ,  4888.19      ,\n",
       "         3312.90325   ,  7368.8325    ,  3756.98575   ,  4109.48275   ,\n",
       "         6422.412     ,  4455.115     ],\n",
       "       [ 7423.57083333,  5536.5       ,  2073.0825    ,  4107.33166667,\n",
       "         2264.99416667,  6186.4975    ,  4277.88166667,  3196.67333333,\n",
       "         2149.4325    ,  5017.35166667,  2494.1775    ,  2780.8275    ,\n",
       "         4240.50666667,  2971.92333333],\n",
       "       [ 5565.80066667,  4349.36      ,  2026.77      ,  3215.63333333,\n",
       "         2333.98733333,  4888.19      ,  3196.67333333,  2728.74666667,\n",
       "         1895.466     ,  3557.03333333,  2490.406     ,  2479.942     ,\n",
       "         3534.34933333,  2666.14666667],\n",
       "       [ 3448.66285   ,  2849.054     ,  1551.85875   ,  2184.4315    ,\n",
       "         1859.72985   ,  3312.90325   ,  2149.4325    ,  1895.466     ,\n",
       "         1445.57415   ,  2317.0935    ,  1838.88965   ,  1872.69105   ,\n",
       "         2373.2024    ,  1985.441     ],\n",
       "       [ 9149.64983333,  6438.06      ,  1935.8675    ,  4949.46166667,\n",
       "         2146.77316667,  7368.8325    ,  5017.35166667,  3557.03333333,\n",
       "         2317.0935    ,  6209.92166667,  2472.1685    ,  2825.3345    ,\n",
       "         4782.48266667,  3146.58333333],\n",
       "       [ 3927.19735   ,  3497.234     ,  2273.15625   ,  2433.6065    ,\n",
       "         2628.37435   ,  3756.98575   ,  2494.1775    ,  2490.406     ,\n",
       "         1838.88965   ,  2472.1685    ,  2744.70015   ,  2484.73955   ,\n",
       "         3118.3304    ,  2661.131     ],\n",
       "       [ 4233.92795   ,  3703.298     ,  2180.81125   ,  2669.1405    ,\n",
       "         2497.75695   ,  4109.48275   ,  2780.8275    ,  2479.942     ,\n",
       "         1872.69105   ,  2825.3345    ,  2484.73955   ,  2564.30135   ,\n",
       "         3118.2488    ,  2623.767     ],\n",
       "       [ 7537.36293333,  5780.824     ,  2515.5       ,  4224.45066667,\n",
       "         2837.16826667,  6422.412     ,  4240.50666667,  3534.34933333,\n",
       "         2373.2024    ,  4782.48266667,  3118.3304    ,  3118.2488    ,\n",
       "         4636.16106667,  3361.34933333],\n",
       "       [ 4736.72566667,  3981.16      ,  2240.045     ,  2921.38333333,\n",
       "         2608.01233333,  4455.115     ,  2971.92333333,  2666.14666667,\n",
       "         1985.441     ,  3146.58333333,  2661.131     ,  2623.767     ,\n",
       "         3361.34933333,  2785.44666667]])"
      ]
     },
     "execution_count": 1773,
     "metadata": {},
     "output_type": "execute_result"
    },
    {
     "data": {
      "application/javascript": [
       "\n",
       "            setTimeout(function() {\n",
       "                var nbb_cell_id = 1773;\n",
       "                var nbb_unformatted_code = \"cov_base\";\n",
       "                var nbb_formatted_code = \"cov_base\";\n",
       "                var nbb_cells = Jupyter.notebook.get_cells();\n",
       "                for (var i = 0; i < nbb_cells.length; ++i) {\n",
       "                    if (nbb_cells[i].input_prompt_number == nbb_cell_id) {\n",
       "                        if (nbb_cells[i].get_text() == nbb_unformatted_code) {\n",
       "                             nbb_cells[i].set_text(nbb_formatted_code);\n",
       "                        }\n",
       "                        break;\n",
       "                    }\n",
       "                }\n",
       "            }, 500);\n",
       "            "
      ],
      "text/plain": [
       "<IPython.core.display.Javascript object>"
      ]
     },
     "metadata": {},
     "output_type": "display_data"
    }
   ],
   "source": [
    "cov_base"
   ]
  },
  {
   "cell_type": "code",
   "execution_count": 1814,
   "id": "30b9851b",
   "metadata": {
    "hidden": true
   },
   "outputs": [
    {
     "data": {
      "text/plain": [
       "(2, 2)"
      ]
     },
     "execution_count": 1814,
     "metadata": {},
     "output_type": "execute_result"
    },
    {
     "data": {
      "application/javascript": [
       "\n",
       "            setTimeout(function() {\n",
       "                var nbb_cell_id = 1814;\n",
       "                var nbb_unformatted_code = \"# unknown dims with unknown dims\\nA = cov_base[[12, 13], :][:, [12, 13]]\\nA.shape\";\n",
       "                var nbb_formatted_code = \"# unknown dims with unknown dims\\nA = cov_base[[12, 13], :][:, [12, 13]]\\nA.shape\";\n",
       "                var nbb_cells = Jupyter.notebook.get_cells();\n",
       "                for (var i = 0; i < nbb_cells.length; ++i) {\n",
       "                    if (nbb_cells[i].input_prompt_number == nbb_cell_id) {\n",
       "                        if (nbb_cells[i].get_text() == nbb_unformatted_code) {\n",
       "                             nbb_cells[i].set_text(nbb_formatted_code);\n",
       "                        }\n",
       "                        break;\n",
       "                    }\n",
       "                }\n",
       "            }, 500);\n",
       "            "
      ],
      "text/plain": [
       "<IPython.core.display.Javascript object>"
      ]
     },
     "metadata": {},
     "output_type": "display_data"
    }
   ],
   "source": [
    "# unknown dims with unknown dims\n",
    "A = cov_base[[12, 13], :][:, [12, 13]]\n",
    "A.shape"
   ]
  },
  {
   "cell_type": "code",
   "execution_count": 1815,
   "id": "e2600f5f",
   "metadata": {
    "hidden": true
   },
   "outputs": [
    {
     "data": {
      "text/plain": [
       "(12, 12)"
      ]
     },
     "execution_count": 1815,
     "metadata": {},
     "output_type": "execute_result"
    },
    {
     "data": {
      "application/javascript": [
       "\n",
       "            setTimeout(function() {\n",
       "                var nbb_cell_id = 1815;\n",
       "                var nbb_unformatted_code = \"# known with known\\nB = cov_base[0:12, :][:, 0:12]\\nB.shape\";\n",
       "                var nbb_formatted_code = \"# known with known\\nB = cov_base[0:12, :][:, 0:12]\\nB.shape\";\n",
       "                var nbb_cells = Jupyter.notebook.get_cells();\n",
       "                for (var i = 0; i < nbb_cells.length; ++i) {\n",
       "                    if (nbb_cells[i].input_prompt_number == nbb_cell_id) {\n",
       "                        if (nbb_cells[i].get_text() == nbb_unformatted_code) {\n",
       "                             nbb_cells[i].set_text(nbb_formatted_code);\n",
       "                        }\n",
       "                        break;\n",
       "                    }\n",
       "                }\n",
       "            }, 500);\n",
       "            "
      ],
      "text/plain": [
       "<IPython.core.display.Javascript object>"
      ]
     },
     "metadata": {},
     "output_type": "display_data"
    }
   ],
   "source": [
    "# known with known\n",
    "B = cov_base[0:12, :][:, 0:12]\n",
    "B.shape"
   ]
  },
  {
   "cell_type": "code",
   "execution_count": 1816,
   "id": "2ff71202",
   "metadata": {
    "hidden": true
   },
   "outputs": [
    {
     "data": {
      "text/plain": [
       "(2, 12)"
      ]
     },
     "execution_count": 1816,
     "metadata": {},
     "output_type": "execute_result"
    },
    {
     "data": {
      "application/javascript": [
       "\n",
       "            setTimeout(function() {\n",
       "                var nbb_cell_id = 1816;\n",
       "                var nbb_unformatted_code = \"# unknown with known\\nC = cov_base[[12, 13], :][:, 0:12]\\nC.shape\";\n",
       "                var nbb_formatted_code = \"# unknown with known\\nC = cov_base[[12, 13], :][:, 0:12]\\nC.shape\";\n",
       "                var nbb_cells = Jupyter.notebook.get_cells();\n",
       "                for (var i = 0; i < nbb_cells.length; ++i) {\n",
       "                    if (nbb_cells[i].input_prompt_number == nbb_cell_id) {\n",
       "                        if (nbb_cells[i].get_text() == nbb_unformatted_code) {\n",
       "                             nbb_cells[i].set_text(nbb_formatted_code);\n",
       "                        }\n",
       "                        break;\n",
       "                    }\n",
       "                }\n",
       "            }, 500);\n",
       "            "
      ],
      "text/plain": [
       "<IPython.core.display.Javascript object>"
      ]
     },
     "metadata": {},
     "output_type": "display_data"
    }
   ],
   "source": [
    "# unknown with known\n",
    "C = cov_base[[12, 13], :][:, 0:12]\n",
    "C.shape"
   ]
  },
  {
   "cell_type": "code",
   "execution_count": 1817,
   "id": "bce13ae2",
   "metadata": {
    "hidden": true
   },
   "outputs": [
    {
     "data": {
      "application/javascript": [
       "\n",
       "            setTimeout(function() {\n",
       "                var nbb_cell_id = 1817;\n",
       "                var nbb_unformatted_code = \"# Find the conditional distribution\\nnew_mean = (\\n    np.array([0] * 2).reshape(-1, 1)\\n    + C.dot(np.linalg.inv(B)).dot(np.array(known_values).reshape(-1, 1))\\n)[:, 0]\\n\\nnew_cov = A - C.dot(np.linalg.inv(B)).dot(np.transpose(C))\";\n",
       "                var nbb_formatted_code = \"# Find the conditional distribution\\nnew_mean = (\\n    np.array([0] * 2).reshape(-1, 1)\\n    + C.dot(np.linalg.inv(B)).dot(np.array(known_values).reshape(-1, 1))\\n)[:, 0]\\n\\nnew_cov = A - C.dot(np.linalg.inv(B)).dot(np.transpose(C))\";\n",
       "                var nbb_cells = Jupyter.notebook.get_cells();\n",
       "                for (var i = 0; i < nbb_cells.length; ++i) {\n",
       "                    if (nbb_cells[i].input_prompt_number == nbb_cell_id) {\n",
       "                        if (nbb_cells[i].get_text() == nbb_unformatted_code) {\n",
       "                             nbb_cells[i].set_text(nbb_formatted_code);\n",
       "                        }\n",
       "                        break;\n",
       "                    }\n",
       "                }\n",
       "            }, 500);\n",
       "            "
      ],
      "text/plain": [
       "<IPython.core.display.Javascript object>"
      ]
     },
     "metadata": {},
     "output_type": "display_data"
    }
   ],
   "source": [
    "# Find the conditional distribution\n",
    "new_mean = (\n",
    "    np.array([0] * 2).reshape(-1, 1)\n",
    "    + C.dot(np.linalg.inv(B)).dot(np.array(known_values).reshape(-1, 1))\n",
    ")[:, 0]\n",
    "\n",
    "new_cov = A - C.dot(np.linalg.inv(B)).dot(np.transpose(C))\n"
   ]
  },
  {
   "cell_type": "code",
   "execution_count": 1818,
   "id": "e374c0ee",
   "metadata": {
    "hidden": true
   },
   "outputs": [
    {
     "data": {
      "text/plain": [
       "array([2.82468648, 2.81332251])"
      ]
     },
     "execution_count": 1818,
     "metadata": {},
     "output_type": "execute_result"
    },
    {
     "data": {
      "application/javascript": [
       "\n",
       "            setTimeout(function() {\n",
       "                var nbb_cell_id = 1818;\n",
       "                var nbb_unformatted_code = \"new_mean\";\n",
       "                var nbb_formatted_code = \"new_mean\";\n",
       "                var nbb_cells = Jupyter.notebook.get_cells();\n",
       "                for (var i = 0; i < nbb_cells.length; ++i) {\n",
       "                    if (nbb_cells[i].input_prompt_number == nbb_cell_id) {\n",
       "                        if (nbb_cells[i].get_text() == nbb_unformatted_code) {\n",
       "                             nbb_cells[i].set_text(nbb_formatted_code);\n",
       "                        }\n",
       "                        break;\n",
       "                    }\n",
       "                }\n",
       "            }, 500);\n",
       "            "
      ],
      "text/plain": [
       "<IPython.core.display.Javascript object>"
      ]
     },
     "metadata": {},
     "output_type": "display_data"
    }
   ],
   "source": [
    "new_mean"
   ]
  },
  {
   "cell_type": "code",
   "execution_count": 1819,
   "id": "11d74281",
   "metadata": {
    "hidden": true
   },
   "outputs": [
    {
     "data": {
      "text/plain": [
       "array([[ -929.98587014,  -798.86137568],\n",
       "       [-2130.81348423, -1551.61161511]])"
      ]
     },
     "execution_count": 1819,
     "metadata": {},
     "output_type": "execute_result"
    },
    {
     "data": {
      "application/javascript": [
       "\n",
       "            setTimeout(function() {\n",
       "                var nbb_cell_id = 1819;\n",
       "                var nbb_unformatted_code = \"new_cov\";\n",
       "                var nbb_formatted_code = \"new_cov\";\n",
       "                var nbb_cells = Jupyter.notebook.get_cells();\n",
       "                for (var i = 0; i < nbb_cells.length; ++i) {\n",
       "                    if (nbb_cells[i].input_prompt_number == nbb_cell_id) {\n",
       "                        if (nbb_cells[i].get_text() == nbb_unformatted_code) {\n",
       "                             nbb_cells[i].set_text(nbb_formatted_code);\n",
       "                        }\n",
       "                        break;\n",
       "                    }\n",
       "                }\n",
       "            }, 500);\n",
       "            "
      ],
      "text/plain": [
       "<IPython.core.display.Javascript object>"
      ]
     },
     "metadata": {},
     "output_type": "display_data"
    }
   ],
   "source": [
    "new_cov"
   ]
  },
  {
   "cell_type": "markdown",
   "id": "5a982040",
   "metadata": {
    "hidden": true
   },
   "source": [
    "## Well... Thats kind of stupid!\n",
    "#### But we can see why!\n",
    "\n",
    "```\n",
    "The Covariance numbers were inflated due to the \"Glucose levels\" which is on a much higher scale.\n",
    "So the model believes there is so much variance and reflects the same in the result....\n",
    "Either we should standardize (or) we should use a proper kernel\n",
    "```\n",
    "\n",
    "### Lets try RBF kernel with proper scale instead of np.cov\n",
    "[RBF kernel formula](https://scikit-learn.org/stable/modules/generated/sklearn.gaussian_process.kernels.RBF.html)\n"
   ]
  },
  {
   "cell_type": "code",
   "execution_count": 1820,
   "id": "65a76eee",
   "metadata": {
    "hidden": true
   },
   "outputs": [
    {
     "data": {
      "application/javascript": [
       "\n",
       "            setTimeout(function() {\n",
       "                var nbb_cell_id = 1820;\n",
       "                var nbb_unformatted_code = \"known_unknown_dimensions = np.concatenate(\\n    [known_dimensions, unknown_dimensions], axis=0\\n)\";\n",
       "                var nbb_formatted_code = \"known_unknown_dimensions = np.concatenate(\\n    [known_dimensions, unknown_dimensions], axis=0\\n)\";\n",
       "                var nbb_cells = Jupyter.notebook.get_cells();\n",
       "                for (var i = 0; i < nbb_cells.length; ++i) {\n",
       "                    if (nbb_cells[i].input_prompt_number == nbb_cell_id) {\n",
       "                        if (nbb_cells[i].get_text() == nbb_unformatted_code) {\n",
       "                             nbb_cells[i].set_text(nbb_formatted_code);\n",
       "                        }\n",
       "                        break;\n",
       "                    }\n",
       "                }\n",
       "            }, 500);\n",
       "            "
      ],
      "text/plain": [
       "<IPython.core.display.Javascript object>"
      ]
     },
     "metadata": {},
     "output_type": "display_data"
    }
   ],
   "source": [
    "known_unknown_dimensions = np.concatenate(\n",
    "    [known_dimensions, unknown_dimensions], axis=0\n",
    ")"
   ]
  },
  {
   "cell_type": "code",
   "execution_count": 1821,
   "id": "2ddf6026",
   "metadata": {
    "hidden": true
   },
   "outputs": [
    {
     "data": {
      "application/javascript": [
       "\n",
       "            setTimeout(function() {\n",
       "                var nbb_cell_id = 1821;\n",
       "                var nbb_unformatted_code = \"from sklearn.preprocessing import StandardScaler\\n\\nscaler = StandardScaler()\\nstd_known_unknown_dimensions = scaler.fit_transform(known_unknown_dimensions)\";\n",
       "                var nbb_formatted_code = \"from sklearn.preprocessing import StandardScaler\\n\\nscaler = StandardScaler()\\nstd_known_unknown_dimensions = scaler.fit_transform(known_unknown_dimensions)\";\n",
       "                var nbb_cells = Jupyter.notebook.get_cells();\n",
       "                for (var i = 0; i < nbb_cells.length; ++i) {\n",
       "                    if (nbb_cells[i].input_prompt_number == nbb_cell_id) {\n",
       "                        if (nbb_cells[i].get_text() == nbb_unformatted_code) {\n",
       "                             nbb_cells[i].set_text(nbb_formatted_code);\n",
       "                        }\n",
       "                        break;\n",
       "                    }\n",
       "                }\n",
       "            }, 500);\n",
       "            "
      ],
      "text/plain": [
       "<IPython.core.display.Javascript object>"
      ]
     },
     "metadata": {},
     "output_type": "display_data"
    }
   ],
   "source": [
    "from sklearn.preprocessing import StandardScaler\n",
    "\n",
    "scaler = StandardScaler()\n",
    "std_known_unknown_dimensions = scaler.fit_transform(known_unknown_dimensions)"
   ]
  },
  {
   "cell_type": "code",
   "execution_count": 1822,
   "id": "011fa3a4",
   "metadata": {
    "hidden": true
   },
   "outputs": [
    {
     "data": {
      "text/plain": [
       "(14, 6)"
      ]
     },
     "execution_count": 1822,
     "metadata": {},
     "output_type": "execute_result"
    },
    {
     "data": {
      "application/javascript": [
       "\n",
       "            setTimeout(function() {\n",
       "                var nbb_cell_id = 1822;\n",
       "                var nbb_unformatted_code = \"std_known_unknown_dimensions.shape\";\n",
       "                var nbb_formatted_code = \"std_known_unknown_dimensions.shape\";\n",
       "                var nbb_cells = Jupyter.notebook.get_cells();\n",
       "                for (var i = 0; i < nbb_cells.length; ++i) {\n",
       "                    if (nbb_cells[i].input_prompt_number == nbb_cell_id) {\n",
       "                        if (nbb_cells[i].get_text() == nbb_unformatted_code) {\n",
       "                             nbb_cells[i].set_text(nbb_formatted_code);\n",
       "                        }\n",
       "                        break;\n",
       "                    }\n",
       "                }\n",
       "            }, 500);\n",
       "            "
      ],
      "text/plain": [
       "<IPython.core.display.Javascript object>"
      ]
     },
     "metadata": {},
     "output_type": "display_data"
    }
   ],
   "source": [
    "std_known_unknown_dimensions.shape"
   ]
  },
  {
   "cell_type": "code",
   "execution_count": 1823,
   "id": "1d6643c6",
   "metadata": {
    "hidden": true
   },
   "outputs": [
    {
     "data": {
      "text/plain": [
       "(2.723576031763683, -1.6887840059376862)"
      ]
     },
     "execution_count": 1823,
     "metadata": {},
     "output_type": "execute_result"
    },
    {
     "data": {
      "application/javascript": [
       "\n",
       "            setTimeout(function() {\n",
       "                var nbb_cell_id = 1823;\n",
       "                var nbb_unformatted_code = \"np.max(std_known_unknown_dimensions), np.min(std_known_unknown_dimensions)\";\n",
       "                var nbb_formatted_code = \"np.max(std_known_unknown_dimensions), np.min(std_known_unknown_dimensions)\";\n",
       "                var nbb_cells = Jupyter.notebook.get_cells();\n",
       "                for (var i = 0; i < nbb_cells.length; ++i) {\n",
       "                    if (nbb_cells[i].input_prompt_number == nbb_cell_id) {\n",
       "                        if (nbb_cells[i].get_text() == nbb_unformatted_code) {\n",
       "                             nbb_cells[i].set_text(nbb_formatted_code);\n",
       "                        }\n",
       "                        break;\n",
       "                    }\n",
       "                }\n",
       "            }, 500);\n",
       "            "
      ],
      "text/plain": [
       "<IPython.core.display.Javascript object>"
      ]
     },
     "metadata": {},
     "output_type": "display_data"
    }
   ],
   "source": [
    "np.max(std_known_unknown_dimensions), np.min(std_known_unknown_dimensions)"
   ]
  },
  {
   "cell_type": "code",
   "execution_count": 1824,
   "id": "8422af32",
   "metadata": {
    "hidden": true
   },
   "outputs": [
    {
     "data": {
      "application/javascript": [
       "\n",
       "            setTimeout(function() {\n",
       "                var nbb_cell_id = 1824;\n",
       "                var nbb_unformatted_code = \"def rbf_cov(npa, scale=100):\\n    cov_matrix = np.zeros(shape=(len(npa), len(npa)))\\n    for idx_i, i in enumerate(npa):\\n        for idx_j, j in enumerate(npa):\\n            dist = np.sum((i - j) ** 2)\\n            # print(dist)\\n            cov_matrix[idx_i, idx_j] = math.exp(-dist / (2 * scale * scale))\\n    return cov_matrix\";\n",
       "                var nbb_formatted_code = \"def rbf_cov(npa, scale=100):\\n    cov_matrix = np.zeros(shape=(len(npa), len(npa)))\\n    for idx_i, i in enumerate(npa):\\n        for idx_j, j in enumerate(npa):\\n            dist = np.sum((i - j) ** 2)\\n            # print(dist)\\n            cov_matrix[idx_i, idx_j] = math.exp(-dist / (2 * scale * scale))\\n    return cov_matrix\";\n",
       "                var nbb_cells = Jupyter.notebook.get_cells();\n",
       "                for (var i = 0; i < nbb_cells.length; ++i) {\n",
       "                    if (nbb_cells[i].input_prompt_number == nbb_cell_id) {\n",
       "                        if (nbb_cells[i].get_text() == nbb_unformatted_code) {\n",
       "                             nbb_cells[i].set_text(nbb_formatted_code);\n",
       "                        }\n",
       "                        break;\n",
       "                    }\n",
       "                }\n",
       "            }, 500);\n",
       "            "
      ],
      "text/plain": [
       "<IPython.core.display.Javascript object>"
      ]
     },
     "metadata": {},
     "output_type": "display_data"
    }
   ],
   "source": [
    "def rbf_cov(npa, scale=100):\n",
    "    cov_matrix = np.zeros(shape=(len(npa), len(npa)))\n",
    "    for idx_i, i in enumerate(npa):\n",
    "        for idx_j, j in enumerate(npa):\n",
    "            dist = np.sum((i - j) ** 2)\n",
    "            # print(dist)\n",
    "            cov_matrix[idx_i, idx_j] = math.exp(-dist / (2 * scale * scale))\n",
    "    return cov_matrix"
   ]
  },
  {
   "cell_type": "code",
   "execution_count": 1825,
   "id": "007654c1",
   "metadata": {
    "hidden": true
   },
   "outputs": [
    {
     "data": {
      "application/javascript": [
       "\n",
       "            setTimeout(function() {\n",
       "                var nbb_cell_id = 1825;\n",
       "                var nbb_unformatted_code = \"rbf_cov_base = rbf_cov(std_known_unknown_dimensions, scale=2)\";\n",
       "                var nbb_formatted_code = \"rbf_cov_base = rbf_cov(std_known_unknown_dimensions, scale=2)\";\n",
       "                var nbb_cells = Jupyter.notebook.get_cells();\n",
       "                for (var i = 0; i < nbb_cells.length; ++i) {\n",
       "                    if (nbb_cells[i].input_prompt_number == nbb_cell_id) {\n",
       "                        if (nbb_cells[i].get_text() == nbb_unformatted_code) {\n",
       "                             nbb_cells[i].set_text(nbb_formatted_code);\n",
       "                        }\n",
       "                        break;\n",
       "                    }\n",
       "                }\n",
       "            }, 500);\n",
       "            "
      ],
      "text/plain": [
       "<IPython.core.display.Javascript object>"
      ]
     },
     "metadata": {},
     "output_type": "display_data"
    }
   ],
   "source": [
    "rbf_cov_base = rbf_cov(std_known_unknown_dimensions, scale=2)"
   ]
  },
  {
   "cell_type": "code",
   "execution_count": 1826,
   "id": "18b3fbf0",
   "metadata": {
    "hidden": true
   },
   "outputs": [
    {
     "data": {
      "text/plain": [
       "array([[1.        , 0.43390857, 0.07064525, 0.1978881 , 0.16116078,\n",
       "        0.16968129, 0.19794039, 0.24568411, 0.132411  , 0.2563205 ,\n",
       "        0.13549289, 0.15307387, 0.36811812, 0.28597932],\n",
       "       [0.43390857, 1.        , 0.38671239, 0.10692934, 0.30727571,\n",
       "        0.11001561, 0.50029138, 0.48674181, 0.22863759, 0.16932276,\n",
       "        0.36481966, 0.40614689, 0.79849241, 0.4433452 ],\n",
       "       [0.07064525, 0.38671239, 1.        , 0.07172427, 0.16915066,\n",
       "        0.00985884, 0.37248371, 0.72782286, 0.45469598, 0.04136838,\n",
       "        0.4133895 , 0.29158496, 0.57541533, 0.17385194],\n",
       "       [0.1978881 , 0.10692934, 0.07172427, 1.        , 0.11795745,\n",
       "        0.09468598, 0.14584467, 0.2510167 , 0.46125922, 0.11161977,\n",
       "        0.0299798 , 0.29667503, 0.10665067, 0.12716834],\n",
       "       [0.16116078, 0.30727571, 0.16915066, 0.11795745, 1.        ,\n",
       "        0.25620661, 0.10337833, 0.23868477, 0.16862106, 0.06118142,\n",
       "        0.36995047, 0.4701984 , 0.36063536, 0.81147806],\n",
       "       [0.16968129, 0.11001561, 0.00985884, 0.09468598, 0.25620661,\n",
       "        1.        , 0.0305128 , 0.02895542, 0.02721362, 0.04958643,\n",
       "        0.02408513, 0.13763225, 0.05442085, 0.24242241],\n",
       "       [0.19794039, 0.50029138, 0.37248371, 0.14584467, 0.10337833,\n",
       "        0.0305128 , 1.        , 0.47669513, 0.43655693, 0.39104363,\n",
       "        0.13591212, 0.2878504 , 0.39487105, 0.21012138],\n",
       "       [0.24568411, 0.48674181, 0.72782286, 0.2510167 , 0.23868477,\n",
       "        0.02895542, 0.47669513, 1.        , 0.72929274, 0.12220947,\n",
       "        0.41716811, 0.37841558, 0.71766929, 0.28234156],\n",
       "       [0.132411  , 0.22863759, 0.45469598, 0.46125922, 0.16862106,\n",
       "        0.02721362, 0.43655693, 0.72929274, 1.        , 0.14012165,\n",
       "        0.15464025, 0.3769814 , 0.31786945, 0.19274284],\n",
       "       [0.2563205 , 0.16932276, 0.04136838, 0.11161977, 0.06118142,\n",
       "        0.04958643, 0.39104363, 0.12220947, 0.14012165, 1.        ,\n",
       "        0.04345475, 0.09223143, 0.12309544, 0.19454226],\n",
       "       [0.13549289, 0.36481966, 0.4133895 , 0.0299798 , 0.36995047,\n",
       "        0.02408513, 0.13591212, 0.41716811, 0.15464025, 0.04345475,\n",
       "        1.        , 0.14819712, 0.68083366, 0.38975051],\n",
       "       [0.15307387, 0.40614689, 0.29158496, 0.29667503, 0.4701984 ,\n",
       "        0.13763225, 0.2878504 , 0.37841558, 0.3769814 , 0.09223143,\n",
       "        0.14819712, 1.        , 0.35164279, 0.46472793],\n",
       "       [0.36811812, 0.79849241, 0.57541533, 0.10665067, 0.36063536,\n",
       "        0.05442085, 0.39487105, 0.71766929, 0.31786945, 0.12309544,\n",
       "        0.68083366, 0.35164279, 1.        , 0.46402712],\n",
       "       [0.28597932, 0.4433452 , 0.17385194, 0.12716834, 0.81147806,\n",
       "        0.24242241, 0.21012138, 0.28234156, 0.19274284, 0.19454226,\n",
       "        0.38975051, 0.46472793, 0.46402712, 1.        ]])"
      ]
     },
     "execution_count": 1826,
     "metadata": {},
     "output_type": "execute_result"
    },
    {
     "data": {
      "application/javascript": [
       "\n",
       "            setTimeout(function() {\n",
       "                var nbb_cell_id = 1826;\n",
       "                var nbb_unformatted_code = \"rbf_cov_base\";\n",
       "                var nbb_formatted_code = \"rbf_cov_base\";\n",
       "                var nbb_cells = Jupyter.notebook.get_cells();\n",
       "                for (var i = 0; i < nbb_cells.length; ++i) {\n",
       "                    if (nbb_cells[i].input_prompt_number == nbb_cell_id) {\n",
       "                        if (nbb_cells[i].get_text() == nbb_unformatted_code) {\n",
       "                             nbb_cells[i].set_text(nbb_formatted_code);\n",
       "                        }\n",
       "                        break;\n",
       "                    }\n",
       "                }\n",
       "            }, 500);\n",
       "            "
      ],
      "text/plain": [
       "<IPython.core.display.Javascript object>"
      ]
     },
     "metadata": {},
     "output_type": "display_data"
    }
   ],
   "source": [
    "rbf_cov_base"
   ]
  },
  {
   "cell_type": "code",
   "execution_count": 1827,
   "id": "449de76a",
   "metadata": {
    "hidden": true
   },
   "outputs": [
    {
     "data": {
      "text/plain": [
       "(2, 2)"
      ]
     },
     "execution_count": 1827,
     "metadata": {},
     "output_type": "execute_result"
    },
    {
     "data": {
      "application/javascript": [
       "\n",
       "            setTimeout(function() {\n",
       "                var nbb_cell_id = 1827;\n",
       "                var nbb_unformatted_code = \"# unknown dims with unknown dims\\nrbf_A = rbf_cov_base[[12, 13], :][:, [12, 13]]\\nrbf_A.shape\";\n",
       "                var nbb_formatted_code = \"# unknown dims with unknown dims\\nrbf_A = rbf_cov_base[[12, 13], :][:, [12, 13]]\\nrbf_A.shape\";\n",
       "                var nbb_cells = Jupyter.notebook.get_cells();\n",
       "                for (var i = 0; i < nbb_cells.length; ++i) {\n",
       "                    if (nbb_cells[i].input_prompt_number == nbb_cell_id) {\n",
       "                        if (nbb_cells[i].get_text() == nbb_unformatted_code) {\n",
       "                             nbb_cells[i].set_text(nbb_formatted_code);\n",
       "                        }\n",
       "                        break;\n",
       "                    }\n",
       "                }\n",
       "            }, 500);\n",
       "            "
      ],
      "text/plain": [
       "<IPython.core.display.Javascript object>"
      ]
     },
     "metadata": {},
     "output_type": "display_data"
    }
   ],
   "source": [
    "# unknown dims with unknown dims\n",
    "rbf_A = rbf_cov_base[[12, 13], :][:, [12, 13]]\n",
    "rbf_A.shape"
   ]
  },
  {
   "cell_type": "code",
   "execution_count": 1828,
   "id": "0eb8d623",
   "metadata": {
    "hidden": true
   },
   "outputs": [
    {
     "data": {
      "text/plain": [
       "(12, 12)"
      ]
     },
     "execution_count": 1828,
     "metadata": {},
     "output_type": "execute_result"
    },
    {
     "data": {
      "application/javascript": [
       "\n",
       "            setTimeout(function() {\n",
       "                var nbb_cell_id = 1828;\n",
       "                var nbb_unformatted_code = \"# known with known\\nrbf_B = rbf_cov_base[0:12, :][:, 0:12]\\nrbf_B.shape\";\n",
       "                var nbb_formatted_code = \"# known with known\\nrbf_B = rbf_cov_base[0:12, :][:, 0:12]\\nrbf_B.shape\";\n",
       "                var nbb_cells = Jupyter.notebook.get_cells();\n",
       "                for (var i = 0; i < nbb_cells.length; ++i) {\n",
       "                    if (nbb_cells[i].input_prompt_number == nbb_cell_id) {\n",
       "                        if (nbb_cells[i].get_text() == nbb_unformatted_code) {\n",
       "                             nbb_cells[i].set_text(nbb_formatted_code);\n",
       "                        }\n",
       "                        break;\n",
       "                    }\n",
       "                }\n",
       "            }, 500);\n",
       "            "
      ],
      "text/plain": [
       "<IPython.core.display.Javascript object>"
      ]
     },
     "metadata": {},
     "output_type": "display_data"
    }
   ],
   "source": [
    "# known with known\n",
    "rbf_B = rbf_cov_base[0:12, :][:, 0:12]\n",
    "rbf_B.shape"
   ]
  },
  {
   "cell_type": "code",
   "execution_count": 1829,
   "id": "a877b4fe",
   "metadata": {
    "hidden": true
   },
   "outputs": [
    {
     "data": {
      "text/plain": [
       "(2, 12)"
      ]
     },
     "execution_count": 1829,
     "metadata": {},
     "output_type": "execute_result"
    },
    {
     "data": {
      "application/javascript": [
       "\n",
       "            setTimeout(function() {\n",
       "                var nbb_cell_id = 1829;\n",
       "                var nbb_unformatted_code = \"# unknown with known\\nrbf_C = rbf_cov_base[[12, 13], :][:, 0:12]\\nrbf_C.shape\";\n",
       "                var nbb_formatted_code = \"# unknown with known\\nrbf_C = rbf_cov_base[[12, 13], :][:, 0:12]\\nrbf_C.shape\";\n",
       "                var nbb_cells = Jupyter.notebook.get_cells();\n",
       "                for (var i = 0; i < nbb_cells.length; ++i) {\n",
       "                    if (nbb_cells[i].input_prompt_number == nbb_cell_id) {\n",
       "                        if (nbb_cells[i].get_text() == nbb_unformatted_code) {\n",
       "                             nbb_cells[i].set_text(nbb_formatted_code);\n",
       "                        }\n",
       "                        break;\n",
       "                    }\n",
       "                }\n",
       "            }, 500);\n",
       "            "
      ],
      "text/plain": [
       "<IPython.core.display.Javascript object>"
      ]
     },
     "metadata": {},
     "output_type": "display_data"
    }
   ],
   "source": [
    "# unknown with known\n",
    "rbf_C = rbf_cov_base[[12, 13], :][:, 0:12]\n",
    "rbf_C.shape"
   ]
  },
  {
   "cell_type": "code",
   "execution_count": 1830,
   "id": "7af3488e",
   "metadata": {
    "hidden": true
   },
   "outputs": [
    {
     "data": {
      "application/javascript": [
       "\n",
       "            setTimeout(function() {\n",
       "                var nbb_cell_id = 1830;\n",
       "                var nbb_unformatted_code = \"rbf_new_mean = (\\n    np.array([0] * 2).reshape(-1, 1)\\n    + rbf_C.dot(np.linalg.inv(rbf_B)).dot(np.array(known_values).reshape(-1, 1))\\n)[:, 0]\\n\\nrbf_new_cov = rbf_A - rbf_C.dot(np.linalg.inv(rbf_B)).dot(np.transpose(rbf_C))\";\n",
       "                var nbb_formatted_code = \"rbf_new_mean = (\\n    np.array([0] * 2).reshape(-1, 1)\\n    + rbf_C.dot(np.linalg.inv(rbf_B)).dot(np.array(known_values).reshape(-1, 1))\\n)[:, 0]\\n\\nrbf_new_cov = rbf_A - rbf_C.dot(np.linalg.inv(rbf_B)).dot(np.transpose(rbf_C))\";\n",
       "                var nbb_cells = Jupyter.notebook.get_cells();\n",
       "                for (var i = 0; i < nbb_cells.length; ++i) {\n",
       "                    if (nbb_cells[i].input_prompt_number == nbb_cell_id) {\n",
       "                        if (nbb_cells[i].get_text() == nbb_unformatted_code) {\n",
       "                             nbb_cells[i].set_text(nbb_formatted_code);\n",
       "                        }\n",
       "                        break;\n",
       "                    }\n",
       "                }\n",
       "            }, 500);\n",
       "            "
      ],
      "text/plain": [
       "<IPython.core.display.Javascript object>"
      ]
     },
     "metadata": {},
     "output_type": "display_data"
    }
   ],
   "source": [
    "rbf_new_mean = (\n",
    "    np.array([0] * 2).reshape(-1, 1)\n",
    "    + rbf_C.dot(np.linalg.inv(rbf_B)).dot(np.array(known_values).reshape(-1, 1))\n",
    ")[:, 0]\n",
    "\n",
    "rbf_new_cov = rbf_A - rbf_C.dot(np.linalg.inv(rbf_B)).dot(np.transpose(rbf_C))\n"
   ]
  },
  {
   "cell_type": "code",
   "execution_count": 1831,
   "id": "538e2a8c",
   "metadata": {
    "hidden": true
   },
   "outputs": [
    {
     "data": {
      "text/plain": [
       "array([2.22966123, 3.61475337])"
      ]
     },
     "execution_count": 1831,
     "metadata": {},
     "output_type": "execute_result"
    },
    {
     "data": {
      "application/javascript": [
       "\n",
       "            setTimeout(function() {\n",
       "                var nbb_cell_id = 1831;\n",
       "                var nbb_unformatted_code = \"rbf_new_mean\";\n",
       "                var nbb_formatted_code = \"rbf_new_mean\";\n",
       "                var nbb_cells = Jupyter.notebook.get_cells();\n",
       "                for (var i = 0; i < nbb_cells.length; ++i) {\n",
       "                    if (nbb_cells[i].input_prompt_number == nbb_cell_id) {\n",
       "                        if (nbb_cells[i].get_text() == nbb_unformatted_code) {\n",
       "                             nbb_cells[i].set_text(nbb_formatted_code);\n",
       "                        }\n",
       "                        break;\n",
       "                    }\n",
       "                }\n",
       "            }, 500);\n",
       "            "
      ],
      "text/plain": [
       "<IPython.core.display.Javascript object>"
      ]
     },
     "metadata": {},
     "output_type": "display_data"
    }
   ],
   "source": [
    "rbf_new_mean"
   ]
  },
  {
   "cell_type": "code",
   "execution_count": 1832,
   "id": "a76d14e6",
   "metadata": {
    "hidden": true
   },
   "outputs": [
    {
     "data": {
      "text/plain": [
       "array([[0.09593392, 0.01547774],\n",
       "       [0.01547774, 0.27593681]])"
      ]
     },
     "execution_count": 1832,
     "metadata": {},
     "output_type": "execute_result"
    },
    {
     "data": {
      "application/javascript": [
       "\n",
       "            setTimeout(function() {\n",
       "                var nbb_cell_id = 1832;\n",
       "                var nbb_unformatted_code = \"rbf_new_cov\";\n",
       "                var nbb_formatted_code = \"rbf_new_cov\";\n",
       "                var nbb_cells = Jupyter.notebook.get_cells();\n",
       "                for (var i = 0; i < nbb_cells.length; ++i) {\n",
       "                    if (nbb_cells[i].input_prompt_number == nbb_cell_id) {\n",
       "                        if (nbb_cells[i].get_text() == nbb_unformatted_code) {\n",
       "                             nbb_cells[i].set_text(nbb_formatted_code);\n",
       "                        }\n",
       "                        break;\n",
       "                    }\n",
       "                }\n",
       "            }, 500);\n",
       "            "
      ],
      "text/plain": [
       "<IPython.core.display.Javascript object>"
      ]
     },
     "metadata": {},
     "output_type": "display_data"
    }
   ],
   "source": [
    "rbf_new_cov"
   ]
  },
  {
   "cell_type": "markdown",
   "id": "6a2d4a07",
   "metadata": {
    "hidden": true
   },
   "source": [
    "| Height | Weight | Age | BPsystolic | BPDiastolic | FastingSugarLevel | <span style=\"color:green\">Predicted TimeToCompletePhysicalTask</span> |\n",
    "| ---- | ---- | ---- |---- | ---- | ---- |---- |\n",
    "| 5.12 | 52 | 23 | 134 | 84 | 183 |<span style=\"color:green\"> 2.14 on avg with 0.002 variance </span> |\n",
    "| 6.2 | 78 | 43 | 143 | 93 | 135 |<span style=\"color:green\">  3.07 on avg with 0.018 variance </span> |"
   ]
  },
  {
   "cell_type": "code",
   "execution_count": null,
   "id": "96039b7c",
   "metadata": {
    "hidden": true
   },
   "outputs": [],
   "source": []
  }
 ],
 "metadata": {
  "kernelspec": {
   "display_name": "Python 3",
   "language": "python",
   "name": "python3"
  },
  "language_info": {
   "codemirror_mode": {
    "name": "ipython",
    "version": 3
   },
   "file_extension": ".py",
   "mimetype": "text/x-python",
   "name": "python",
   "nbconvert_exporter": "python",
   "pygments_lexer": "ipython3",
   "version": "3.8.9"
  }
 },
 "nbformat": 4,
 "nbformat_minor": 5
}
