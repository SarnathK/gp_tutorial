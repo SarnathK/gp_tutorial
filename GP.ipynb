{
 "cells": [
  {
   "cell_type": "markdown",
   "id": "a5b014c7",
   "metadata": {},
   "source": [
    "# initial imports"
   ]
  },
  {
   "cell_type": "code",
   "execution_count": 1,
   "id": "ff1478da",
   "metadata": {},
   "outputs": [],
   "source": [
    "import numpy as np\n",
    "import pandas as pd\n",
    "from plotly import  graph_objects as go"
   ]
  },
  {
   "cell_type": "code",
   "execution_count": 8,
   "id": "20c6856e",
   "metadata": {},
   "outputs": [
    {
     "data": {
      "text/html": [
       "        <script type=\"text/javascript\">\n",
       "        window.PlotlyConfig = {MathJaxConfig: 'local'};\n",
       "        if (window.MathJax && window.MathJax.Hub && window.MathJax.Hub.Config) {window.MathJax.Hub.Config({SVG: {font: \"STIX-Web\"}});}\n",
       "        if (typeof require !== 'undefined') {\n",
       "        require.undef(\"plotly\");\n",
       "        requirejs.config({\n",
       "            paths: {\n",
       "                'plotly': ['https://cdn.plot.ly/plotly-2.12.1.min']\n",
       "            }\n",
       "        });\n",
       "        require(['plotly'], function(Plotly) {\n",
       "            window._Plotly = Plotly;\n",
       "        });\n",
       "        }\n",
       "        </script>\n",
       "        "
      ]
     },
     "metadata": {},
     "output_type": "display_data"
    },
    {
     "data": {
      "application/javascript": [
       "\n",
       "            setTimeout(function() {\n",
       "                var nbb_cell_id = 8;\n",
       "                var nbb_unformatted_code = \"from plotly.offline import init_notebook_mode\\ninit_notebook_mode(connected = True)\";\n",
       "                var nbb_formatted_code = \"from plotly.offline import init_notebook_mode\\n\\ninit_notebook_mode(connected=True)\";\n",
       "                var nbb_cells = Jupyter.notebook.get_cells();\n",
       "                for (var i = 0; i < nbb_cells.length; ++i) {\n",
       "                    if (nbb_cells[i].input_prompt_number == nbb_cell_id) {\n",
       "                        if (nbb_cells[i].get_text() == nbb_unformatted_code) {\n",
       "                             nbb_cells[i].set_text(nbb_formatted_code);\n",
       "                        }\n",
       "                        break;\n",
       "                    }\n",
       "                }\n",
       "            }, 500);\n",
       "            "
      ],
      "text/plain": [
       "<IPython.core.display.Javascript object>"
      ]
     },
     "metadata": {},
     "output_type": "display_data"
    }
   ],
   "source": [
    "from plotly.offline import init_notebook_mode\n",
    "\n",
    "init_notebook_mode(connected=True)"
   ]
  },
  {
   "cell_type": "code",
   "execution_count": 9,
   "id": "b37d1623",
   "metadata": {},
   "outputs": [
    {
     "name": "stdout",
     "output_type": "stream",
     "text": [
      "The nb_black extension is already loaded. To reload it, use:\n",
      "  %reload_ext nb_black\n"
     ]
    },
    {
     "data": {
      "application/javascript": [
       "\n",
       "            setTimeout(function() {\n",
       "                var nbb_cell_id = 9;\n",
       "                var nbb_unformatted_code = \"%load_ext nb_black\";\n",
       "                var nbb_formatted_code = \"%load_ext nb_black\";\n",
       "                var nbb_cells = Jupyter.notebook.get_cells();\n",
       "                for (var i = 0; i < nbb_cells.length; ++i) {\n",
       "                    if (nbb_cells[i].input_prompt_number == nbb_cell_id) {\n",
       "                        if (nbb_cells[i].get_text() == nbb_unformatted_code) {\n",
       "                             nbb_cells[i].set_text(nbb_formatted_code);\n",
       "                        }\n",
       "                        break;\n",
       "                    }\n",
       "                }\n",
       "            }, 500);\n",
       "            "
      ],
      "text/plain": [
       "<IPython.core.display.Javascript object>"
      ]
     },
     "metadata": {},
     "output_type": "display_data"
    }
   ],
   "source": [
    "%load_ext nb_black"
   ]
  },
  {
   "cell_type": "code",
   "execution_count": 10,
   "id": "22f37f75",
   "metadata": {},
   "outputs": [
    {
     "data": {
      "application/javascript": [
       "\n",
       "            setTimeout(function() {\n",
       "                var nbb_cell_id = 10;\n",
       "                var nbb_unformatted_code = \"#!pip install jupyter_contrib_nbextensions\\n# Configure the nbextensions and install it for the user (doc available in internet)\\n#!pip install nb_black\";\n",
       "                var nbb_formatted_code = \"#!pip install jupyter_contrib_nbextensions\\n# Configure the nbextensions and install it for the user (doc available in internet)\\n#!pip install nb_black\";\n",
       "                var nbb_cells = Jupyter.notebook.get_cells();\n",
       "                for (var i = 0; i < nbb_cells.length; ++i) {\n",
       "                    if (nbb_cells[i].input_prompt_number == nbb_cell_id) {\n",
       "                        if (nbb_cells[i].get_text() == nbb_unformatted_code) {\n",
       "                             nbb_cells[i].set_text(nbb_formatted_code);\n",
       "                        }\n",
       "                        break;\n",
       "                    }\n",
       "                }\n",
       "            }, 500);\n",
       "            "
      ],
      "text/plain": [
       "<IPython.core.display.Javascript object>"
      ]
     },
     "metadata": {},
     "output_type": "display_data"
    }
   ],
   "source": [
    "#!pip install jupyter_contrib_nbextensions\n",
    "# Configure the nbextensions and install it for the user (doc available in internet)\n",
    "#!pip install nb_black"
   ]
  },
  {
   "cell_type": "markdown",
   "id": "7844dd8d",
   "metadata": {
    "heading_collapsed": true
   },
   "source": [
    "#  This notebook is in Github!\n",
    "[Notebook link in Github : https://github.com/SarnathK/gp_tutorial](https://github.com/SarnathK/gp_tutorial)"
   ]
  },
  {
   "cell_type": "markdown",
   "id": "a762045b",
   "metadata": {
    "heading_collapsed": true
   },
   "source": [
    "# Authoritative reference book for Gaussian process"
   ]
  },
  {
   "cell_type": "markdown",
   "id": "b0b7e4d8",
   "metadata": {
    "heading_collapsed": true,
    "hidden": true
   },
   "source": [
    "## Hear it from the founders\n",
    "\n",
    "## The Rasmussen and williams book - RW.pdf\n",
    "\n",
    "### Free download!\n",
    "\n",
    "[RW.pdf : Rassmussen & williams book - RW.pdf](http://gaussianprocess.org/gpml/chapters/RW.pdf)"
   ]
  },
  {
   "cell_type": "markdown",
   "id": "9e632b6e",
   "metadata": {
    "heading_collapsed": true
   },
   "source": [
    "# Univariate discrete Distributions"
   ]
  },
  {
   "cell_type": "markdown",
   "id": "d7616175",
   "metadata": {
    "hidden": true
   },
   "source": [
    "**Rolling of dice**\n",
    "```\n",
    "    P(1) = 1/6\n",
    "    P(2) = 1/6\n",
    "    ...\n",
    "    P(6) = 1/6\n",
    "\n",
    "Fair dice -> Probability mass function (PMF)!\n",
    "```\n",
    "\n",
    "**Bernoulli distribution**\n",
    "```\n",
    "    Define event: Rolling of dice results in a prime number (2,3,5)\n",
    "    P(e) in 1 roll = 1/2\n",
    "    P(not e) in 1 r roll = 1/2\n",
    "    \n",
    "    For bernoulli -> You always start with an event with a known probability P(event)\n",
    "    \n",
    "    The bernoulli distribution:\n",
    "        In N rolls of dice, what is the probability of the event occurence?\n",
    "        Event occuring once, Event occuring twice, ..... , Even occurring N times\n",
    "        Define probability for each.\n",
    "        That is a discrete distribution\n",
    "```\n",
    "\n",
    "**Geometric distribution**\n",
    "```\n",
    "    Number of times you failed the parking test in Dubai before getting the License from RTA\n",
    "    Thats a geometric distribution.\n",
    "    Again you start with P(event of success) say 0.1\n",
    "    And then calculate probability of success after N failures.\n",
    "    i.e. 0.9^K * 0.1 = P(success at the K+1th attempt)\n",
    "    This is a PMF\n",
    "```"
   ]
  },
  {
   "cell_type": "markdown",
   "id": "a13a97fc",
   "metadata": {
    "heading_collapsed": true
   },
   "source": [
    "# Univariate gaussian distribution formula"
   ]
  },
  {
   "cell_type": "markdown",
   "id": "a0ad310b",
   "metadata": {
    "hidden": true
   },
   "source": [
    "## Continuous random variables have Density functions\n",
    "\n",
    "'x' is a random variable which is centered around the \"mean\" value\n",
    "\n",
    "e.g. x could be Height of students in a class\n",
    "\n",
    "![Univariate gaussian distribution](./img/gaussian_formula.jpg)"
   ]
  },
  {
   "cell_type": "markdown",
   "id": "de4c97b7",
   "metadata": {
    "heading_collapsed": true
   },
   "source": [
    "# Multivariate discrete distributions"
   ]
  },
  {
   "cell_type": "markdown",
   "id": "59cb0d30",
   "metadata": {
    "heading_collapsed": true,
    "hidden": true
   },
   "source": [
    "### (discrete) Joint probability distribution of \"Rainy\" and \"Weekdays\"\n",
    "\n",
    "|<span style=\"color:red\">Rainy</span>| Monday| Tuesday | Wednesday | Thursday | Friday |<span style=\"color:blue\">Total</span>|\n",
    "|------   |--------|----|     -----     |    ----- | -----  | ---- |\n",
    "| Yes     | 0.02 | 0.03 | 0.10 | 0.20 | 0.07 | 0.42 |\n",
    "| No      | 0.18 | 0.17 | 0.10 | 0    | 0.13 | 0.58 |\n",
    "| <span style=\"color:blue\">Total </span>   | 0.20 | 0.20 | 0.20 | 0.20 | 0.20 | 0.20 |\n",
    "\n",
    "### Conditioning \n",
    "\n",
    "\n",
    "**<span style=\"color:green\">If it rained, what is the probability that it was a Tuesday??</span>**\n",
    "\n",
    "<br>\n",
    "\n",
    "\n",
    "|<span style=\"color:red\">Rainy</span>| Monday| Tuesday | Wednesday | Thursday | Friday |<span style=\"color:blue\">Total</span>|\n",
    "|------   |--------|----|     -----     |    ----- | -----  | ---- |\n",
    "| Yes     | 0.02 | 0.03 | 0.10 | 0.20 | 0.07 | 0.42 |\n",
    "\n",
    "<br>\n",
    "\n",
    "**Calulating probability...** \n",
    "<br>\n",
    "```\n",
    "= 0.03 / (0.02 + 0.03 + 0.10 + 0.20 + 0.07)\n",
    "= 0.03 / 0.42\n",
    "= ~7%\n",
    "```\n",
    "<br>\n",
    "\n",
    "**This is same as bayes formula**\n",
    "<br>\n",
    "```\n",
    "P(Tuesday | Rainy) = P(Tuesday and Rainy) / P(Rainy)\n",
    "```\n",
    "<br>\n",
    "\n",
    "### Marginalize on \"Rainy\"\n",
    "\n",
    "|<span style=\"color:red\">Rainy</span>| Marginalized probability |\n",
    "|------   | ---- |\n",
    "| Yes     | 0.42 |\n",
    "| No      | 0.58 |\n",
    "\n",
    "### Marginalize on \"Weekdays\"\n",
    "| Monday| Tuesday | Wednesday | Thursday | Friday |\n",
    "|--------|----|     -----     |    ----- | -----  |\n",
    "| 0.2 | 0.2 | 0.2| 0.2 | 0.2 |\n",
    "\n"
   ]
  },
  {
   "cell_type": "markdown",
   "id": "a7265909",
   "metadata": {
    "heading_collapsed": true
   },
   "source": [
    "# Multivariate gaussian joint distribution\n"
   ]
  },
  {
   "cell_type": "markdown",
   "id": "7cc5db7f",
   "metadata": {
    "hidden": true
   },
   "source": [
    "## Analytical formula\n",
    "### Courtesy: Wikipedia\n",
    "\n",
    "![Multivariate gaussian joint distribution PDF analytical formula](./img/mvg_formula.jpg)"
   ]
  },
  {
   "cell_type": "markdown",
   "id": "b1d9d07b",
   "metadata": {
    "hidden": true
   },
   "source": [
    "## Gaussians are closed under Conditioning and Marginalization\n",
    "#### [Click here for full mathematical proof on this subject from a PhD student](https://fabiandablander.com/statistics/Two-Properties.html)"
   ]
  },
  {
   "cell_type": "markdown",
   "id": "84cb4944",
   "metadata": {
    "heading_collapsed": true,
    "hidden": true
   },
   "source": [
    "### Marginalizing a gaussian distribution always returns a gaussian distribution\n",
    "Let **x** and **y** be 2 gaussian multivariate normal vectors...\n",
    "![Joint distribution of 2 random vectors X and Y](img/gaussian_joint_x_y.jpg)\n",
    "Then if you marginalize for **x** then:\n",
    "![Marginalized x](img/x_marginalized.jpg)\n",
    "#### How to calculate marginal distributions?\n",
    "<br>\n",
    "Integrate out the dimensions that are not needed and keep only the dimensions that are needed\n",
    "<br>\n",
    "The easier proof is to see that if \"x\" is multivariate gaussian vector, and if A is some arbitrary \"matrix\" then A.x is also a gaussian. One can use this lemma to come up with a A that extracts only the first K components from X and thus the subset of that X will also be a gaussian. \n",
    "\n",
    "You can see the same proof in <br>\n",
    "\n",
    "[reference URL set in the header](https://fabiandablander.com/statistics/Two-Properties.html)\n",
    "\n",
    "You can also see this from <br>\n",
    "\n",
    "[youtube video from Math monk]('https://www.youtube.com/watch?v=ycDSJkZ_h0I') "
   ]
  },
  {
   "cell_type": "markdown",
   "id": "ef8b1048",
   "metadata": {
    "hidden": true
   },
   "source": [
    "### Conditional distributions of Multivariate gaussians"
   ]
  },
  {
   "cell_type": "markdown",
   "id": "80ba5c08",
   "metadata": {
    "hidden": true
   },
   "source": [
    "```\n",
    "Conditional distribution (bayes conditional probability)\n",
    "\n",
    "P(X1,X2,X3,...,Xk | Y1,Y2,Y3,...Ym) \n",
    "              = \n",
    "P(X1, X2, X3, .......Xk, Y1, Y2, ..... Ym) / P(Y1, Y2, ...., Ym)\n",
    "\n",
    "The denominator can be calculated from the marginal distribution of Y by substituting \"Y\" as \"Y1, Y2, ... Ym\"\n",
    "\n",
    "The numerator is the joint probability distribution of X and Y where Y is substited for \"Y1, Y2, ... Ym\"\n",
    "\n",
    "Thus the term yields the distribution of X1, X2, ..... Xk\n",
    "\n",
    "This distribution happens to be Gaussian!\n",
    "```\n",
    "For a mathematical proof: <br>\n",
    "\n",
    "[Proof that gaussian is closed under conditioning](https://fabiandablander.com/statistics/Two-Properties.html)\n",
    "\n",
    "#### Analytical formula here from RW.pdf:\n",
    "![Conditional distribution formula for gaussians](img/gaussian_conditional_formula.jpg)"
   ]
  },
  {
   "cell_type": "markdown",
   "id": "67a0ada3",
   "metadata": {
    "heading_collapsed": true
   },
   "source": [
    "# Multivariate distribution : 2D distribution"
   ]
  },
  {
   "cell_type": "code",
   "execution_count": 11,
   "id": "8ec7291c",
   "metadata": {
    "hidden": true
   },
   "outputs": [
    {
     "data": {
      "text/plain": [
       "array([-0.19279694,  1.03681602])"
      ]
     },
     "execution_count": 11,
     "metadata": {},
     "output_type": "execute_result"
    },
    {
     "data": {
      "application/javascript": [
       "\n",
       "            setTimeout(function() {\n",
       "                var nbb_cell_id = 11;\n",
       "                var nbb_unformatted_code = \"np.random.multivariate_normal([0, 0], [[1, 0], [0, 1]])\";\n",
       "                var nbb_formatted_code = \"np.random.multivariate_normal([0, 0], [[1, 0], [0, 1]])\";\n",
       "                var nbb_cells = Jupyter.notebook.get_cells();\n",
       "                for (var i = 0; i < nbb_cells.length; ++i) {\n",
       "                    if (nbb_cells[i].input_prompt_number == nbb_cell_id) {\n",
       "                        if (nbb_cells[i].get_text() == nbb_unformatted_code) {\n",
       "                             nbb_cells[i].set_text(nbb_formatted_code);\n",
       "                        }\n",
       "                        break;\n",
       "                    }\n",
       "                }\n",
       "            }, 500);\n",
       "            "
      ],
      "text/plain": [
       "<IPython.core.display.Javascript object>"
      ]
     },
     "metadata": {},
     "output_type": "display_data"
    }
   ],
   "source": [
    "np.random.multivariate_normal([0, 0], [[1, 0], [0, 1]])"
   ]
  },
  {
   "cell_type": "code",
   "execution_count": 12,
   "id": "bd33053a",
   "metadata": {
    "hidden": true
   },
   "outputs": [
    {
     "data": {
      "text/plain": [
       "array([ 0.79003282, -0.04460392])"
      ]
     },
     "execution_count": 12,
     "metadata": {},
     "output_type": "execute_result"
    },
    {
     "data": {
      "application/javascript": [
       "\n",
       "            setTimeout(function() {\n",
       "                var nbb_cell_id = 12;\n",
       "                var nbb_unformatted_code = \"np.random.multivariate_normal([0, 0], [[1, 0], [0, 1]])\";\n",
       "                var nbb_formatted_code = \"np.random.multivariate_normal([0, 0], [[1, 0], [0, 1]])\";\n",
       "                var nbb_cells = Jupyter.notebook.get_cells();\n",
       "                for (var i = 0; i < nbb_cells.length; ++i) {\n",
       "                    if (nbb_cells[i].input_prompt_number == nbb_cell_id) {\n",
       "                        if (nbb_cells[i].get_text() == nbb_unformatted_code) {\n",
       "                             nbb_cells[i].set_text(nbb_formatted_code);\n",
       "                        }\n",
       "                        break;\n",
       "                    }\n",
       "                }\n",
       "            }, 500);\n",
       "            "
      ],
      "text/plain": [
       "<IPython.core.display.Javascript object>"
      ]
     },
     "metadata": {},
     "output_type": "display_data"
    }
   ],
   "source": [
    "np.random.multivariate_normal([0, 0], [[1, 0], [0, 1]])"
   ]
  },
  {
   "cell_type": "markdown",
   "id": "1057153f",
   "metadata": {
    "heading_collapsed": true,
    "hidden": true
   },
   "source": [
    "## Random sample 2D: Scatter plot"
   ]
  },
  {
   "cell_type": "code",
   "execution_count": 13,
   "id": "003a66cb",
   "metadata": {
    "hidden": true
   },
   "outputs": [
    {
     "data": {
      "application/javascript": [
       "\n",
       "            setTimeout(function() {\n",
       "                var nbb_cell_id = 13;\n",
       "                var nbb_unformatted_code = \"def make_xs_ys(covm=[[1, 0], [0, 1]]):\\n    xs = []\\n    ys = []\\n    for _ in range(1000):\\n        x, y = np.random.multivariate_normal([0, 0], covm)\\n        xs.append(x)\\n        ys.append(y)\\n    return xs, ys\";\n",
       "                var nbb_formatted_code = \"def make_xs_ys(covm=[[1, 0], [0, 1]]):\\n    xs = []\\n    ys = []\\n    for _ in range(1000):\\n        x, y = np.random.multivariate_normal([0, 0], covm)\\n        xs.append(x)\\n        ys.append(y)\\n    return xs, ys\";\n",
       "                var nbb_cells = Jupyter.notebook.get_cells();\n",
       "                for (var i = 0; i < nbb_cells.length; ++i) {\n",
       "                    if (nbb_cells[i].input_prompt_number == nbb_cell_id) {\n",
       "                        if (nbb_cells[i].get_text() == nbb_unformatted_code) {\n",
       "                             nbb_cells[i].set_text(nbb_formatted_code);\n",
       "                        }\n",
       "                        break;\n",
       "                    }\n",
       "                }\n",
       "            }, 500);\n",
       "            "
      ],
      "text/plain": [
       "<IPython.core.display.Javascript object>"
      ]
     },
     "metadata": {},
     "output_type": "display_data"
    }
   ],
   "source": [
    "def make_xs_ys(covm=[[1, 0], [0, 1]]):\n",
    "    xs = []\n",
    "    ys = []\n",
    "    for _ in range(1000):\n",
    "        x, y = np.random.multivariate_normal([0, 0], covm)\n",
    "        xs.append(x)\n",
    "        ys.append(y)\n",
    "    return xs, ys"
   ]
  },
  {
   "cell_type": "code",
   "execution_count": 14,
   "id": "40def40d",
   "metadata": {
    "hidden": true
   },
   "outputs": [
    {
     "data": {
      "application/javascript": [
       "\n",
       "            setTimeout(function() {\n",
       "                var nbb_cell_id = 14;\n",
       "                var nbb_unformatted_code = \"def go_scatter(xs, ys, title):\\n    fig = go.Figure()\\n\\n    fig.add_trace(go.Scatter(x=xs, y=ys, mode=\\\"markers\\\"))\\n\\n    fig.update_layout(title=title)\\n    return fig\";\n",
       "                var nbb_formatted_code = \"def go_scatter(xs, ys, title):\\n    fig = go.Figure()\\n\\n    fig.add_trace(go.Scatter(x=xs, y=ys, mode=\\\"markers\\\"))\\n\\n    fig.update_layout(title=title)\\n    return fig\";\n",
       "                var nbb_cells = Jupyter.notebook.get_cells();\n",
       "                for (var i = 0; i < nbb_cells.length; ++i) {\n",
       "                    if (nbb_cells[i].input_prompt_number == nbb_cell_id) {\n",
       "                        if (nbb_cells[i].get_text() == nbb_unformatted_code) {\n",
       "                             nbb_cells[i].set_text(nbb_formatted_code);\n",
       "                        }\n",
       "                        break;\n",
       "                    }\n",
       "                }\n",
       "            }, 500);\n",
       "            "
      ],
      "text/plain": [
       "<IPython.core.display.Javascript object>"
      ]
     },
     "metadata": {},
     "output_type": "display_data"
    }
   ],
   "source": [
    "def go_scatter(xs, ys, title):\n",
    "    fig = go.Figure()\n",
    "\n",
    "    fig.add_trace(go.Scatter(x=xs, y=ys, mode=\"markers\"))\n",
    "\n",
    "    fig.update_layout(title=title)\n",
    "    return fig"
   ]
  },
  {
   "cell_type": "code",
   "execution_count": 15,
   "id": "56a68f9d",
   "metadata": {
    "hidden": true
   },
   "outputs": [
    {
     "data": {
      "application/javascript": [
       "\n",
       "            setTimeout(function() {\n",
       "                var nbb_cell_id = 15;\n",
       "                var nbb_unformatted_code = \"xs, ys = make_xs_ys()\";\n",
       "                var nbb_formatted_code = \"xs, ys = make_xs_ys()\";\n",
       "                var nbb_cells = Jupyter.notebook.get_cells();\n",
       "                for (var i = 0; i < nbb_cells.length; ++i) {\n",
       "                    if (nbb_cells[i].input_prompt_number == nbb_cell_id) {\n",
       "                        if (nbb_cells[i].get_text() == nbb_unformatted_code) {\n",
       "                             nbb_cells[i].set_text(nbb_formatted_code);\n",
       "                        }\n",
       "                        break;\n",
       "                    }\n",
       "                }\n",
       "            }, 500);\n",
       "            "
      ],
      "text/plain": [
       "<IPython.core.display.Javascript object>"
      ]
     },
     "metadata": {},
     "output_type": "display_data"
    }
   ],
   "source": [
    "xs, ys = make_xs_ys()"
   ]
  },
  {
   "cell_type": "code",
   "execution_count": 16,
   "id": "21215d19",
   "metadata": {
    "hidden": true
   },
   "outputs": [
    {
     "data": {
      "application/vnd.plotly.v1+json": {
       "config": {
        "plotlyServerURL": "https://plot.ly"
       },
       "data": [
        {
         "mode": "markers",
         "type": "scatter",
         "x": [
          0.5366979243847566,
          -2.053221920476342,
          0.20025777876091944,
          -2.6328185448862738,
          1.2187865431800597,
          1.7582697098115956,
          -0.9958700178989964,
          -1.6861953754480594,
          1.554354991043311,
          0.07376275996196237,
          1.637726204158494,
          0.664456725897098,
          -1.3816795195771643,
          -0.6120019423617706,
          0.26457228722729703,
          0.5686552182659513,
          -0.2412882376925385,
          -0.6463157839015583,
          0.7650705502841125,
          0.05211439670497348,
          -0.21876931615566364,
          -0.36777973448718654,
          -0.9371008850613227,
          -0.1157228941374375,
          -0.5293639682072686,
          -0.015725229597750676,
          -0.2446490634758075,
          0.9056357149791178,
          -0.5731813395472196,
          0.6557954578688443,
          0.3337675489837219,
          -1.5640331532290495,
          -0.21642330972851004,
          0.5990597281751968,
          -0.28796414092238476,
          0.5762504655683776,
          -0.5722497611973334,
          0.09099830521158021,
          0.951425149579499,
          -0.664739442744507,
          0.2413140303832637,
          -0.9799782820267976,
          0.6332314590556651,
          -0.6772127359138412,
          -0.11515569266849532,
          0.320516897110389,
          1.9847057385763656,
          -0.3201013312100017,
          0.9260034164363461,
          0.39805250086359484,
          1.1978891410411259,
          -0.7130258982270398,
          -0.4098412994609816,
          1.1800200788813853,
          1.3499961383228372,
          1.498616096331664,
          0.9422083504443991,
          1.1580234355815118,
          0.9146293447365993,
          0.8975879794191289,
          0.7950034920212571,
          -0.6955299716212722,
          -1.4430724354181228,
          0.21312200348193333,
          -0.3733230446584844,
          -0.6448806804840485,
          -0.7158544538133677,
          -0.027084229228243262,
          -0.14465517260930913,
          0.1296343068233988,
          -0.3822894096435143,
          -0.07963456850087337,
          -0.12183060931316035,
          -0.19390460879200827,
          0.7749286530405403,
          0.29468425746232074,
          1.1634887855502605,
          0.38093157947309386,
          -0.748686649711846,
          0.2078641840309677,
          -0.3473096285428861,
          -0.69498755677832,
          0.8183800498732899,
          -0.9767930162022725,
          -1.6616953979000946,
          0.9860524266833135,
          -0.5043515203660002,
          -0.023024625284546806,
          0.9785506649897572,
          -0.00841047991751756,
          -0.6806102245876288,
          2.286258801232256,
          -0.4285941181790381,
          1.2822637976622056,
          2.453393701169606,
          0.5693621648571732,
          0.9654476175220632,
          0.9375477137078424,
          -0.5778551590527347,
          -1.0574073237243422,
          -1.3841915136509866,
          -0.745503713109439,
          -0.844636365200609,
          0.025579276177322526,
          0.7428214579102201,
          1.166832315086838,
          0.6222018538819191,
          0.7012183900240521,
          0.6216549090215336,
          -1.179899791035201,
          -0.7595113749641635,
          0.9205563315518756,
          0.17949320956365483,
          -2.2529437419259746,
          0.6934219055744221,
          0.0986835398879396,
          1.285567552980863,
          0.012997307098393682,
          -1.813328537236311,
          0.25637429754465113,
          -1.6462538329943996,
          -0.11914489182042674,
          1.0364973296917621,
          0.5740740663247332,
          -0.32986817674610835,
          -0.606002920737691,
          0.36118411156524177,
          0.6863768378660657,
          -1.6635234703238557,
          -0.7281822415838609,
          -0.9082488531657349,
          -1.0651017572679773,
          1.1444246632668005,
          -0.733235152215448,
          -1.0467834572499204,
          -1.6421578713585632,
          0.6166490431066836,
          -1.6569428996761133,
          0.2825425251300485,
          -0.9260265738983048,
          -1.4198767186232704,
          -0.04272557639212142,
          0.40002778045152293,
          0.3351944830882615,
          -1.0724897642560585,
          -1.4659062115304295,
          -0.2122484577329892,
          0.5432980997941709,
          -0.35586404219818596,
          -3.3384847624495477,
          -1.9580729660191798,
          0.3628706188761548,
          -0.5748280974168135,
          0.02016704949022243,
          -0.23692245553443644,
          2.0820236523165865,
          0.3292265209569883,
          0.2016313506590445,
          0.4109595163081737,
          0.1770012004404674,
          -1.5023584483064851,
          -0.11449262435988175,
          -1.9511204801552968,
          0.42782621330069776,
          -0.495303122647465,
          0.1874956765020142,
          1.7165102588805237,
          -1.1261193629284656,
          0.8736228250162396,
          0.07876234860359115,
          0.4405976771741169,
          0.092549866935011,
          -1.642658926829415,
          0.3999690640505604,
          0.20994801169675778,
          -0.7983460737962378,
          -0.15988314309749802,
          -0.5525432872922847,
          1.096943453279275,
          -0.32298631760915447,
          -1.2918165013935765,
          0.511871612842695,
          0.8729176725920043,
          -1.3165243399405033,
          -0.9698790154553102,
          -1.5728201221250147,
          -0.1822505275508623,
          1.1632526667588687,
          -0.12371700741213386,
          -1.1437639542716358,
          0.7294079365058569,
          0.31636440827072276,
          -0.7079802141146522,
          0.5344847915466878,
          1.062909877348641,
          -0.6236615998327139,
          0.0536951173404749,
          -1.2806964519724304,
          -1.1871746756883075,
          0.48204794174041005,
          1.5854942343163256,
          0.868677760642727,
          -0.15208168450389478,
          -0.5661629427639658,
          1.7128733970258856,
          -1.125473113296651,
          1.1115665380800437,
          -0.4258631858479665,
          -0.5699788514588336,
          -0.5833639407938658,
          -0.936526413865753,
          1.1628916038269,
          -1.6383724215864244,
          0.5461124499769262,
          0.45200863404764074,
          -0.02963910489104074,
          -1.338220458957687,
          2.1350484923510704,
          -0.4440956841564033,
          1.4005346413024868,
          0.2779964589086172,
          0.7571591734435676,
          -1.129680292595123,
          0.15046258171216378,
          0.8391450772122531,
          0.49205028083473273,
          -0.2614181191502051,
          -0.24221754699061773,
          0.1765930985511558,
          0.30788580238333924,
          -0.1306216240317794,
          0.20921148715470195,
          -0.9222590153763105,
          -0.7081657035355678,
          0.9645089117098274,
          -0.42112066529171616,
          0.7778207218559394,
          0.24559717293356462,
          0.7772953306926198,
          0.6702151838713376,
          1.3231248953659789,
          -1.298124974927459,
          0.5404520358459918,
          0.810054365751934,
          -1.3137040613898903,
          1.611525038849247,
          0.3874034894410509,
          2.126936345796868,
          -0.8371606607481495,
          0.2996885903051406,
          -0.55159710773132,
          -0.9367955207157282,
          0.8310696712223269,
          -0.6459608561299421,
          1.0387945922232635,
          0.5634200156965572,
          -0.20972130232057515,
          0.8797669274831915,
          0.8129057396359538,
          2.0562409325166953,
          -0.762875909102653,
          0.9964585384595346,
          -1.0647315163301572,
          1.3879958387573843,
          -1.3769422704939616,
          -0.39824037328164985,
          -0.35496275940201094,
          0.27604318278877066,
          0.24062290601313588,
          0.05101446501670848,
          -0.5290309678329389,
          -0.8353063772868526,
          -0.27709914806674374,
          0.5180753293688227,
          -0.23156105804979463,
          0.3906575950601809,
          0.8605534478662922,
          0.98970418325496,
          1.1819538636899545,
          0.8421357218235616,
          1.6993568963530075,
          -2.2114020826842973,
          1.0736007488369426,
          -0.10032900288883385,
          2.2872546253725345,
          0.34913640437466453,
          -0.8911050550697937,
          -1.5090808293002733,
          0.6952973919731933,
          -0.3115658695970502,
          0.34115897805524853,
          1.1936050447326458,
          0.008408286210882736,
          -0.010833954530970347,
          0.48278663302955227,
          0.0012810295799552452,
          0.10330021743146699,
          1.31788337533886,
          -0.8279407684164675,
          0.6649376339569368,
          -0.20641066002801275,
          0.7742154938144807,
          0.1455262357400232,
          2.961432318818098,
          0.3918096352484903,
          -0.22150810327336737,
          -1.1317441456577806,
          1.396787067348584,
          -1.1862570485431634,
          -1.2563935970767743,
          0.1969501509754539,
          0.14174699989800274,
          1.0435297445590517,
          -0.29537597302218654,
          0.7747091267407851,
          0.8073999551015234,
          0.4666249188065689,
          0.5571548055201578,
          0.590987692441633,
          -0.3531129607881942,
          -0.7830636698593413,
          -0.6841320801379225,
          0.635754484025994,
          0.7265069263227721,
          0.3986432335151565,
          -0.9131130105767429,
          -0.12828888774137215,
          0.6370065268916375,
          0.25252845275415764,
          0.4233139796921284,
          -0.07749877403823677,
          -0.8389653796045318,
          0.9344315121949612,
          -0.5501523076207576,
          -2.5490642367573635,
          -1.3689012890454397,
          -0.25569452334496784,
          -0.7255310354795184,
          -0.30631976674147,
          -0.5583922577436388,
          0.17833831499226377,
          1.264026853275129,
          0.5316333344726477,
          0.7674482500181651,
          0.5055826076015305,
          0.7121323790913073,
          -0.24122470786495737,
          1.1555932317808406,
          1.2219345001372421,
          0.9265570763962991,
          0.12265672136518237,
          -0.5128616508800427,
          0.21763115347055242,
          0.13699247144722757,
          -0.6895025134042714,
          -0.46130618807070284,
          -1.490072010953751,
          1.0624177710486187,
          -0.19087848672507624,
          0.5257164549796739,
          1.2679270127651934,
          1.1652783924529846,
          1.7430395679258657,
          1.1017778416828272,
          -0.11822978297664224,
          -0.8944709320498458,
          0.21280740560868194,
          0.21847953394453468,
          -2.396007009478948,
          -0.0017022722621693506,
          -0.6946013122035691,
          -0.22218893584951144,
          1.1900364132243144,
          -1.0554028141074987,
          0.7632940585321115,
          0.16455288043206923,
          0.28781506610075575,
          -0.6812192499446141,
          -0.2527152555170344,
          -0.30964068306901854,
          -1.2922981131337627,
          0.8090070653749826,
          0.3223297054246256,
          -0.22324734915547548,
          0.8716863882052857,
          0.6372239955309315,
          0.21414600617801863,
          -1.1954695109214741,
          1.9098282223661007,
          0.5225488661267952,
          0.9150555290500618,
          1.2769089494881036,
          -0.6134768885664353,
          1.3236466154705353,
          1.1755221227551664,
          0.8212399701147446,
          -1.3964838391231882,
          1.0737229313439083,
          -0.62484781569653,
          -1.0583829642957505,
          -0.5132045802297504,
          1.1594333960104815,
          -0.09425213171635059,
          0.8683950911418811,
          -1.4977408703267876,
          -0.6490484095822926,
          2.302738892191574,
          -1.4018509793900666,
          1.1290765346503109,
          -0.6721824827246162,
          -0.32693714492313186,
          0.42122706164603124,
          0.5807403117232529,
          -0.8317180903296644,
          0.12957358197134627,
          -0.2909672963004507,
          -0.9896198581304416,
          0.5622931613290099,
          -0.2447321329378703,
          0.7998557773259545,
          -0.6192832105215292,
          -0.5919626536828709,
          -0.49536821519435054,
          0.2438024888183521,
          -0.8611802560622553,
          -0.6350567051508841,
          2.0316427834646644,
          0.11614657724215464,
          -0.6920294952548015,
          -0.9196643472005607,
          0.06674024251044815,
          0.6754679064980036,
          0.2665093726344197,
          0.23084442022540855,
          0.4438495734235672,
          0.015254610611041898,
          0.5861700768884582,
          0.6983819886636667,
          -1.254360943985382,
          -0.12041260073814006,
          1.2635887434906439,
          1.372247863607655,
          -0.24755557402687398,
          0.7681968053350947,
          -1.7871735718521524,
          -0.8855555792524216,
          -1.613038516364699,
          0.7406565687934434,
          0.6201255608203847,
          0.32642275299758056,
          0.9773432360956631,
          0.18814535947225286,
          -0.5278053671009042,
          1.852780690889149,
          0.5409421357448652,
          0.5976400416751626,
          -0.10536916087715648,
          0.05397192078995417,
          0.285816474251257,
          0.48457355510542316,
          1.322579203285061,
          -0.7591602562700687,
          -0.16939665966598852,
          0.17328698555086613,
          -0.968823587064825,
          -0.11342414028609402,
          1.095429973763698,
          -1.2214219473527526,
          0.00704886785875443,
          -1.21787633549537,
          0.7214331166367199,
          -0.4802819958786821,
          -2.1419004202729823,
          -2.211511880506866,
          -0.9439804405296395,
          -1.690755927097444,
          1.7704178122306755,
          -0.07162112973167595,
          -1.8778697628919347,
          -1.5961439475147126,
          -1.3269790710973195,
          -2.204530930589555,
          0.5834190728780811,
          0.9009140277156735,
          -0.27688068457684334,
          1.4403570051325323,
          1.0143107165932364,
          -0.38849416384200186,
          -1.0071062962067665,
          2.086651867893047,
          -0.6207221709738053,
          -1.4611039197571998,
          -1.7610693391505332,
          -1.6138812453116256,
          -0.1023154243176643,
          1.6044903964019928,
          -0.10252353414465885,
          -0.6269405502275529,
          -2.372993569304659,
          -0.0664919753805807,
          -0.542081960958647,
          -0.5116377303564623,
          0.1415079451501499,
          1.2812133750881483,
          0.49536490856389687,
          -1.0488115686264448,
          -0.9767553499186163,
          0.044898907970875465,
          0.21692671073867326,
          1.317620262381611,
          1.728370626193137,
          1.0135961101171065,
          1.0743660287325452,
          0.7161444511745003,
          0.8258684190174508,
          -1.0187846108712046,
          1.9957492095827336,
          -0.7532335035082439,
          1.7929254739417428,
          -1.8856245321926957,
          0.26671438710664147,
          0.6195174626034451,
          0.7492940558892228,
          -0.8370131903150247,
          1.7977998419883185,
          -0.21362077371207436,
          -0.2935484300258611,
          -1.346609390383634,
          0.04434504149210752,
          -0.7114331145137066,
          0.04383345696118617,
          1.5619041626660153,
          1.194312894678908,
          1.939192467098187,
          1.1624433907229945,
          0.33770213993601556,
          -1.7881388655021935,
          0.6951894673891099,
          1.051412361568472,
          0.8598571212114837,
          -0.877803008955401,
          -0.48338537929748054,
          0.40351272890289236,
          0.41754093575756057,
          -0.48275141122352294,
          -0.09088985194155916,
          -2.704048902937333,
          -1.20367323190218,
          0.3806174311916097,
          1.5555517310525107,
          -0.6102258019379827,
          0.1727744094197821,
          0.2011014880599722,
          0.535847101462096,
          1.3927298603362037,
          -1.0564404650502024,
          -0.1782177262349286,
          0.4744823166980387,
          0.08866269155479888,
          -0.10031639187614633,
          -0.9936827856147635,
          -0.7247110399286965,
          -0.2854591388731473,
          0.03654801997862985,
          -0.3842871103930282,
          0.09291942081789246,
          -1.2988011172953815,
          -0.8490292947752923,
          0.08362804892464945,
          -0.9250468380771912,
          0.9462061097077218,
          0.1972592885666418,
          0.6342509126816679,
          0.951610301949186,
          0.24519149219287326,
          -1.3748106459528755,
          -1.3925899372404926,
          -1.3373619541197805,
          -1.0954751997598287,
          -0.005046897345232197,
          -1.2150321463757436,
          -0.8412702707895017,
          1.1288387730318563,
          -1.9458306554570355,
          -1.6572123654356838,
          -0.8234171488918344,
          1.3043209982850268,
          1.753260164876214,
          0.11372265209362488,
          -1.3702088626570073,
          -0.45472038320455155,
          -0.33351523640926056,
          -0.936872667062602,
          -0.6681662736734676,
          -0.48316060981213993,
          0.42337569616555953,
          0.0670570841440736,
          -0.49372185056636236,
          0.6671835965114018,
          0.20086509849238854,
          1.6198219270680188,
          -0.435039344642093,
          0.09867100100325049,
          0.35379227823650705,
          -1.1697390205888183,
          0.440137704201647,
          0.015145587846193635,
          -0.4980436367531757,
          0.7515674886242186,
          0.6286714812150286,
          1.6616399106124955,
          1.0839139018710124,
          0.28150168745889576,
          1.0049911908178453,
          -0.032350764293076546,
          0.9728830424804692,
          -0.1011179926666941,
          0.2898220883018423,
          -0.4421719463547722,
          0.4870310830390722,
          -0.1008175612759078,
          0.21937503660445498,
          -1.6404614385906102,
          -1.26117369911741,
          0.14890618735104658,
          -1.2397770727089001,
          -0.3453726743959894,
          -0.29279723416304976,
          -0.6084152372659891,
          -0.7051502075964953,
          1.4065770291615252,
          2.5944999825373682,
          -1.5024112208671416,
          -1.4830347711717085,
          -0.019628554867650753,
          -1.170457845223805,
          0.5213171582153657,
          0.4547532214307726,
          -0.6216204471314195,
          0.37069788975503204,
          0.885100012136638,
          0.5351828680421962,
          -0.8194760317213396,
          0.2152705125052911,
          0.5329134926230028,
          -0.0651272921393118,
          0.3614761637871908,
          -0.4017286447810085,
          1.6876367229273277,
          0.42278307200532866,
          -1.0101510097436137,
          -0.6334839365165342,
          -0.8357138858628291,
          1.1618171280676226,
          -0.5525672974772257,
          0.9234159216585087,
          -0.6019518242988009,
          0.578253392968112,
          0.609254366590156,
          0.8244129573658758,
          -0.7580893390347215,
          0.26969957826773266,
          1.9467319546401112,
          -1.1789899004716564,
          1.0800951423417993,
          -0.6363215622235974,
          2.069760097445179,
          0.0289413459457743,
          0.5274027511761801,
          -1.0809883291786324,
          -1.0241063963528336,
          2.034659002900041,
          1.2907558081236452,
          -0.9522091460650539,
          0.5421281685250203,
          -1.0377213825233618,
          0.20519397711260456,
          0.545660634422661,
          1.0556119568290439,
          -1.1760765340390869,
          -1.1545032639777904,
          -2.4331242792058028,
          0.7715917425983815,
          0.7654988645259533,
          -0.6019608679693509,
          -0.5077116704616547,
          -0.038641784935149505,
          2.223801810691222,
          -0.4184061847869952,
          1.540607369066704,
          -0.3816363066818408,
          -1.044093171661792,
          0.8392223776797013,
          -0.42834137494508706,
          -0.7731704665805091,
          -0.9325568782470148,
          0.5241632646668332,
          0.8465190674485961,
          -0.03321252481614786,
          0.34028856395721263,
          0.6538895883720243,
          -1.3474551225304,
          1.0242711497752695,
          -0.701911100293599,
          0.33160524893667037,
          -1.2494836511048393,
          0.49359585403986456,
          -0.6960302270508737,
          -0.8689974587648457,
          -1.4574230370087322,
          -0.19623836046014606,
          -1.9303705931918531,
          -0.2695632736905854,
          0.4795304468291322,
          -1.908024275358591,
          0.5935957062820885,
          0.7804683570025314,
          0.7986862072276049,
          -0.24913958218244656,
          -0.563599751341648,
          0.6973747870964606,
          0.3582715929162706,
          1.5904928206067022,
          0.9826905206530027,
          0.08422481254335232,
          0.45129119884632546,
          -0.7112733416240246,
          -0.3908471735962978,
          2.3383728013363325,
          0.01810384790559204,
          1.6233196952732574,
          0.09895705165799283,
          1.0345400916618575,
          0.8962974819136394,
          -1.1213656784205246,
          0.6207112191530968,
          -0.3571592004507379,
          0.19262424859604066,
          0.6285585157236743,
          1.9382855636891028,
          1.9778186536916502,
          0.7388057301461812,
          0.16256415271128494,
          -0.06992030095186275,
          -0.6284854733641287,
          -1.4038209336922463,
          0.2741966132424119,
          -0.35718207596189244,
          -0.6616701221362644,
          -1.2436499573197266,
          0.16018920994758146,
          -0.1262692639165336,
          -0.309075041752283,
          -0.9682307719004469,
          0.23191572245580935,
          2.6740722581115333,
          0.42321502128818717,
          0.22501966783349417,
          -0.7318049345017903,
          -0.5304145177960237,
          2.2493000043597204,
          -0.7138586587919685,
          0.062706574240857,
          -3.15486919396068,
          -0.6244986533246089,
          0.5911317413759031,
          -0.36516574219102177,
          -1.0973843900679936,
          -0.36869520019134566,
          -1.6598193971367527,
          0.4089316250133263,
          -0.07499187080376488,
          0.5029127812414966,
          -0.3525891160598807,
          0.5852195519455745,
          1.8469411733694292,
          1.2164802037351892,
          -1.9222908687668507,
          0.6648499764898747,
          1.6985310020331958,
          -0.6559551565465997,
          1.3688689626330386,
          1.6952866457248124,
          -0.4492632725961543,
          -1.9195893059036575,
          -0.4905546475537708,
          -2.1845367695855424,
          -0.8865585018962796,
          0.25005723249758177,
          0.14425395916402897,
          -0.4963303639931109,
          0.9780098135052016,
          1.8885833626809754,
          0.7800849617093595,
          1.1571415646455838,
          0.5591468155849494,
          -0.5881572219611576,
          -0.29881027838491286,
          -0.43619036503374053,
          0.3710895153329472,
          -0.9860071728093364,
          1.3716351042437196,
          2.0014309249868143,
          0.3125780067832773,
          1.168064305796919,
          0.6560941978170355,
          1.087788535820881,
          -0.26842631930713073,
          -0.2260961826710013,
          -0.600620140865698,
          -1.1989814147426934,
          -0.059966322387307015,
          -0.20784089423157776,
          0.025212227872111942,
          0.6066847517282282,
          0.812847362587456,
          0.5117156469289469,
          0.0745752617740074,
          0.9102531397081425,
          -1.6679018210679821,
          -0.1492787295352004,
          0.42801114673204044,
          0.3117187302432971,
          -0.27619357215689316,
          1.686724118958899,
          -0.5428966604250118,
          -0.5925278781283226,
          0.6379065341717953,
          -0.48309278993540505,
          -0.7298911635883848,
          -0.7912013603436079,
          -2.2729143732321364,
          0.09849675360007006,
          -0.16579936740947493,
          0.004730562619893293,
          -0.8822374551981353,
          -0.06613785463271536,
          -0.4496212585091252,
          -0.9918240240031057,
          -2.8614314592873393,
          -2.164525016084599,
          -0.5696474176768405,
          -0.37506013833569446,
          -0.3440046742913024,
          0.44502767807410387,
          1.9127745763968231,
          -0.5144107999394576,
          1.2490157685053456,
          0.49239110016121374,
          3.7263910776682914,
          -0.2125236956922255,
          3.0466277560510293,
          -1.3208232491141434,
          0.6811291062972966,
          1.36507526581229,
          -0.3925672540909784,
          0.587209314212627,
          -1.2495454105664707,
          -1.8664285469367574,
          0.047381372883598956,
          -2.024786389085085,
          0.40238870144519134,
          0.3696747903422601,
          -0.6005107202644864,
          0.19132463007716194,
          -0.4236412650950767,
          0.08135664098886158,
          -1.1117315050582501,
          0.839420214918518,
          0.20719070556267621,
          -1.0838249835035105,
          0.23563549095942832,
          1.14373405237207,
          -0.4541658900073227,
          0.9502584041814465,
          -0.5280824232600307,
          -2.081982419849298,
          0.07406068139464002,
          0.23703280148015415,
          1.6426150775742465,
          -1.985994666311677,
          -0.545351907233115,
          -0.09049941390781803,
          0.9713824005854161,
          0.6683410793204462,
          0.7190652883025693,
          -0.1790780340681119,
          -0.7626566542265594,
          -0.5196546260807337,
          -0.7046493772512507,
          0.7366803480907652,
          -1.875968470779691,
          0.19654268099774425,
          -0.3928724580643814,
          0.0019782629080643327,
          -1.827122483702615,
          0.26468004370983556,
          1.2536730697920397,
          -0.9285206947081357,
          -0.5941573087089805,
          -1.203484072156861,
          0.25994479415407745,
          -0.20441350080521203,
          0.7616668591918507,
          0.26099276507844704,
          -0.1424091566362213,
          0.8623302004623978,
          3.435275446234903,
          0.5584757453210006,
          -0.10209226258671322,
          0.6087128202252108,
          0.02222624594900608,
          -0.6125512105592452,
          0.21878607307487027,
          0.07669996514026305,
          0.5881278036630273,
          1.5227060598093423,
          1.289802694926986,
          -0.5984005884617791,
          -1.4012353262841182,
          -0.9922763847220166,
          1.9606462816126329,
          -0.04969906479339806,
          1.4015562560401613,
          0.8791985840974325,
          -0.9728843356255957,
          -0.9253437689400431,
          0.5154937490886392,
          -1.9224752712361262,
          1.9517441666750663,
          0.4266081714259783,
          0.7327532550599243,
          0.09753424507040363,
          -2.172123862651981,
          1.041659616731487,
          -0.34533034744956187,
          0.21105022728940373,
          -0.9052168322498613,
          2.1601765352827633,
          -2.4734929789078115,
          -0.14743335415548053,
          -0.08625173434269984,
          -0.690534164899388,
          0.13209817721546138,
          -1.1199624255282603,
          0.718466596886547,
          0.37338990083224677,
          1.0259051277756186,
          -0.48362694960619196,
          -1.3352507325476353,
          0.9432784156203052,
          1.0548786832281796,
          -0.38668568380841833,
          -0.12903845774347508,
          -0.7407737886668776,
          0.6299567601575835,
          -0.44616680002933634,
          -0.2689288774661908,
          0.6419472058170796,
          1.742771155024741,
          0.9844186539262614,
          1.1733658462184333,
          -0.43182529269184405,
          -1.7167137516787503,
          -0.41339834525089497,
          -1.5147225561442146,
          1.1021487601135642,
          -1.2367301738399283,
          0.5342655352687381,
          -0.2197213116349526,
          0.020068748749919416,
          -0.8802944045842606,
          -1.8156734586870058,
          -0.9674839994503474,
          0.3729889288174516,
          0.7699310799087722,
          -0.18835821041418468,
          0.2585656146576917,
          1.424940253085364,
          1.3707366402953152,
          -0.36060168981658997,
          0.4684093947560517,
          1.0757024561256534,
          1.7756805629066228,
          0.7290685968162856,
          0.06972220990751532,
          -0.6425434962642144,
          -0.10295659134747331,
          1.1972428196742726,
          -0.2881056811395231,
          1.9891042891908197,
          1.0402969674904705,
          0.7372542110351279,
          -0.6454714889124598,
          -0.0978835790884727,
          0.22305968203156612,
          1.2583995055720443,
          -0.3102618282413293,
          2.322628032037727,
          0.5508254760449781
         ],
         "y": [
          -0.09767238830703989,
          1.0877465697221442,
          0.6371575179364241,
          -0.04323226863716998,
          -1.0109128896375332,
          0.10669521503657577,
          0.033365069072164015,
          0.1481536337517753,
          0.908876295524671,
          1.764017352665062,
          0.85529005082526,
          0.2830959275101152,
          0.5954182598933457,
          -0.444752220210701,
          0.6776358739095315,
          1.1652992546130698,
          0.052995833992432656,
          0.48156107358404604,
          0.011235413369617569,
          -1.1872744700900852,
          1.6956356336852894,
          -0.04667061456664443,
          -1.506882609248022,
          -1.188042942679493,
          -0.8612348262671469,
          2.023899886219119,
          1.404158797772227,
          -0.852399338148412,
          -1.1755715823549462,
          -1.0559568184958479,
          0.7464515941410328,
          0.0348948733156285,
          -0.21967163627979322,
          -0.3386406745306314,
          -1.50213447067385,
          0.19835763740284668,
          -1.0922841257756006,
          -2.5444377858798886,
          2.6452651855943117,
          0.3265355865724907,
          -0.1409420321866947,
          -0.8769403695176364,
          -1.116561839890559,
          0.27373585729347555,
          0.821068154649886,
          0.12837773590730397,
          1.0672391085060813,
          -0.1572069250636157,
          -0.3873799737949253,
          1.3849845846812527,
          -0.8735114477366438,
          -0.6019217807098017,
          2.775412387257232,
          -1.2515662376043462,
          0.048932318837473426,
          0.44783281201506,
          -0.5503342682152146,
          1.3985447611465687,
          0.5081463529902882,
          -1.1273710964744623,
          0.41750740598739433,
          0.4480349244907773,
          0.5855909043099261,
          1.2025587577818921,
          0.9378315945933285,
          0.29502817307315365,
          -0.23224729415863418,
          0.03249829359478824,
          -0.01563565583772616,
          0.923886657452563,
          0.2564170856354064,
          -0.022366345640326118,
          3.365637022255826,
          -0.9766736147705565,
          0.21911350692422277,
          0.06141415616639242,
          0.9337213974650782,
          -0.9322325291610559,
          0.6060516735096431,
          0.294319088701702,
          -1.5490839850520768,
          0.47671506540396,
          0.018166475709199995,
          -0.06294709635611163,
          -1.5785016775586613,
          -0.2208796399886623,
          0.506443963602548,
          0.9357258866083422,
          0.3106360468565935,
          0.08334989435229616,
          -1.08061138036845,
          0.026273896384181806,
          2.1729124457479716,
          -1.1230780484622216,
          -1.1112518726130687,
          -0.25381802057609715,
          -1.9264018520526414,
          -0.05915761928836583,
          3.9431458711820255,
          1.349747553472295,
          0.7245015398748298,
          1.40462200376603,
          1.0082167061924519,
          0.04585473137365555,
          0.13253779201329588,
          0.09891972706705118,
          -2.086257178297891,
          -0.24816899632714037,
          -1.207599267467207,
          -0.5584440504408017,
          0.4034354582495052,
          1.5387447175062234,
          -0.6803214927737073,
          -0.07731446338511634,
          0.6056735869797123,
          -0.35093962314907584,
          -1.0332645254502344,
          1.115320526145065,
          0.3099731839343459,
          0.040005183787021614,
          -0.3009559138240292,
          0.010034908811236741,
          0.43915475047201985,
          0.7224588126861795,
          -0.4335912939129761,
          0.3947711402034713,
          0.6900260878412989,
          -1.311868691105679,
          0.776949132211751,
          -1.4965175068864793,
          0.5589432993076396,
          -0.22690604263627687,
          -1.4961740087544253,
          0.2059984794456134,
          -1.4493464577683093,
          1.4371577256107397,
          0.3572638445389699,
          0.023574697321663535,
          -0.8585802947230511,
          -0.8731150098589495,
          -0.2470292104197897,
          0.7526140603396838,
          1.619045876924166,
          0.7046501225715355,
          -0.05609472879233792,
          -0.9044005307549796,
          -1.4400302355771224,
          0.8587475318546052,
          1.2033037681963916,
          0.1543152099275463,
          0.6282209860430632,
          -0.1949513295764792,
          0.8141180410049247,
          -1.2821878847363222,
          0.5303405547906112,
          0.10988381596969117,
          0.2900100296615205,
          0.2359746052152065,
          -0.9162816209459542,
          0.8766117756773433,
          0.14469351319949808,
          -0.213498856846683,
          1.7525843218161035,
          1.2601657450030053,
          -0.5504682162282337,
          0.008781850847289463,
          -0.9180457281165039,
          0.47412369404173077,
          -0.10532171892297755,
          0.2070086751946101,
          -1.0589938038623496,
          -0.3779191235683671,
          -1.5744433122797798,
          0.7452721143225708,
          0.7581509110543578,
          0.07485718089118727,
          -0.04436685742092021,
          -0.759800143253267,
          -0.35391609529256424,
          -2.3617431351090055,
          -0.6483767563937891,
          0.26002751170471694,
          1.9183626557366242,
          0.3063867269665025,
          -0.08407929382196332,
          -1.449877291629573,
          -0.2698619158071707,
          -0.7050979351023239,
          -1.252366635476647,
          1.653863618946132,
          1.1369834039749638,
          -2.272328936999462,
          -0.03485277847896913,
          -0.6024265996130914,
          0.03179373260326402,
          -0.19793988096077825,
          -1.011207176923419,
          0.8485365362857987,
          0.9430030284940504,
          -0.10159401699747427,
          0.12490935760751115,
          1.7921833724809033,
          1.1625195299346869,
          -2.1989144770264555,
          0.19924588978433536,
          1.2454881662390647,
          0.1251432577646523,
          0.6661125875902174,
          0.49359363624877794,
          1.7219288280226204,
          -1.4380059480919973,
          -0.37094368989559345,
          0.5629999235878543,
          -0.12166387219752987,
          -2.7823298511494823,
          -0.3381909915204133,
          0.2714349672213005,
          1.3308085317888525,
          1.7877776836929355,
          1.563684738172308,
          -1.2761521881747013,
          -0.9153687893997655,
          -0.25900254837781356,
          0.1937181399696267,
          -0.12344327862652262,
          0.4835178155486557,
          0.26891915475477773,
          -0.05290909394018002,
          0.26012137124031554,
          -0.5316888823832446,
          1.5554633923617458,
          -0.3118465956268729,
          0.87253993443661,
          0.46728572223820963,
          0.3718822527421981,
          0.7865099315660433,
          1.788345546768797,
          2.0948294490115624,
          -0.3684845541073391,
          0.4413130667685449,
          1.2517200930134789,
          0.8009980649383748,
          1.134327659014812,
          1.3796464684646825,
          0.01239821307124378,
          1.1197090331456885,
          -0.33739087474887797,
          0.3772206438184716,
          0.9710657065269724,
          0.15662191947552478,
          -0.5953058897723672,
          1.9595637624642317,
          0.843335692892303,
          1.1483172646800939,
          -0.060897456743874666,
          2.174910553952978,
          -0.010757253562014351,
          -0.5422664106113053,
          1.1041720477961172,
          -1.070279438287883,
          1.583172710119009,
          0.4638681500484913,
          -1.442178323951647,
          -0.8099897929162682,
          0.06932613477679724,
          0.33584964110786,
          0.095008521793833,
          -1.8723107447351846,
          -0.5188585978838413,
          0.8356618166063239,
          0.34270213442692715,
          0.7031869076060246,
          0.03423441460237612,
          0.38397094486510797,
          0.20847422377011823,
          -1.172289887468621,
          -0.11212163697604977,
          0.7121835802388363,
          0.6903571261256272,
          -0.12803013819582829,
          1.8021883400951804,
          -0.25394861043239464,
          -1.5988138921446164,
          1.681387510827098,
          0.018626707088395835,
          -0.0015047038988442328,
          -0.04061022316006539,
          1.1482294784855591,
          0.238572850147305,
          -0.6129591426302342,
          -0.7291547576862734,
          1.724790366011329,
          -1.0574141473910492,
          0.1858965695534601,
          -0.040229528819146564,
          1.0978650806775023,
          0.6417542643398809,
          0.011803214317976964,
          1.3678897571648438,
          -0.43974075699485876,
          -0.7005016943272088,
          -0.44056374654976566,
          2.3824504609747934,
          0.7231169282510465,
          0.37972899802661586,
          0.045922335357339,
          0.9060807193295838,
          -0.5450931811122031,
          0.047370035647206314,
          0.4914250032044693,
          0.5047008322635705,
          0.9343518612035309,
          -2.0281206889808265,
          -0.14855152292909446,
          2.2964118903704045,
          -2.5850099963623547,
          -0.19833552774411478,
          -1.0789545825011562,
          0.6556775244777263,
          -0.2790341884371595,
          0.657072593305377,
          0.9381568791832302,
          0.7191506973614646,
          0.06830445992580442,
          0.6882105440384065,
          -0.4525027546096922,
          -0.7141367040426447,
          -1.8075692329390076,
          -1.0550745946319233,
          1.2640603301499969,
          -1.6265954460750804,
          -0.14826392998777874,
          -0.34266060573049684,
          0.25366401208570216,
          -2.5699867105588194,
          -0.9140291067058117,
          -0.6197293421439521,
          0.7995186947463927,
          0.2771337630546764,
          1.2526981983691983,
          0.09132889483123609,
          -0.3910776693068882,
          0.506264964057752,
          -0.21453249947724673,
          0.6423421707498607,
          0.10448494725129888,
          0.38538117306500763,
          0.07197451177225478,
          1.1828527979541636,
          0.5906350943984766,
          2.3309212431688007,
          0.1428441985761728,
          -0.6626401898754096,
          0.027861867584882676,
          -0.7098409265859638,
          -1.3851882133762812,
          0.7703483540640838,
          1.6089737768860426,
          0.9282217048051152,
          -0.0010958751772570583,
          -0.564266990437303,
          0.21249952423936455,
          -1.9797349764824665,
          -0.34017546706314444,
          1.2099075270710362,
          0.19796059688657186,
          0.2631867322638173,
          -0.5344348553400684,
          0.12286176984338355,
          -0.5739841847892929,
          -0.44664825403716124,
          0.23922681670368925,
          -0.13977117880275172,
          -0.1170148814203246,
          0.5600179009707899,
          -0.04697865619246102,
          0.5315824943724689,
          1.3844990727232125,
          0.06552329020329677,
          0.5885389847134788,
          0.3699836517131205,
          1.7789402444626796,
          -0.7383701609828186,
          0.788654644430142,
          0.3419674750914219,
          -2.13051414872604,
          0.07559057324646568,
          -1.3811846444955942,
          0.6393488835472674,
          0.32553645616679644,
          -0.17756840684521888,
          0.031662404372134495,
          -0.8019578344493982,
          0.5465756296192391,
          0.3586649933215843,
          -1.0038073658867268,
          0.8201502525568573,
          1.1567240889947183,
          0.41937462893945787,
          -1.1665532675084835,
          0.695335942502806,
          -0.005095502790639753,
          -0.5776792934622371,
          1.0678307178843778,
          1.0817366593158309,
          -0.30936587786150366,
          0.39573184095827413,
          -1.5996221227569385,
          -0.6596422190387775,
          0.006873219452288623,
          0.8196559071971674,
          2.3603560750678754,
          -0.2962412263379204,
          -0.8820501454803243,
          -1.0495985173905504,
          1.3065851365343755,
          0.7058063870878679,
          1.7956517459000978,
          -0.5654883701918633,
          1.7185892321465461,
          -1.0571320082680729,
          -0.7562943285997138,
          0.5833708113776737,
          -0.8056742882808656,
          -0.25466498880620153,
          -0.5944343202590343,
          0.09131814336055578,
          -0.28659268971266105,
          0.4399189626373175,
          0.2767175960554724,
          0.9019034210681544,
          -0.7745577951591841,
          -0.8400329003901478,
          -0.5392327725720153,
          -1.423981080064137,
          0.7531991148763663,
          0.3047328771163901,
          -1.1632611583369143,
          1.548139920937568,
          -0.38078328760761593,
          -0.4872393632527051,
          1.7226889280717879,
          -0.7055304959335098,
          -1.080215808863505,
          -1.2448635764221148,
          -0.5513503914112016,
          0.2896870915957522,
          0.7754549410393604,
          0.7513763623164065,
          0.337846602358495,
          0.8024931781290858,
          0.054838263799909276,
          -0.6128629820882101,
          -0.6215066999367532,
          0.10860854051661216,
          0.4111385556675905,
          0.15659708529146169,
          0.13117796176150287,
          1.7741624101339333,
          -0.8860696428158616,
          -0.46023445346117015,
          -0.050058595540364015,
          0.9397866531968568,
          1.5486792737626125,
          0.22252110581088697,
          0.25060107693018135,
          0.27943327264695383,
          -0.6999887130026995,
          0.9156203253885025,
          0.6213522309859243,
          0.3290510114495622,
          -0.08638991314702278,
          0.021242632803968823,
          0.48121884042381957,
          1.365098313582285,
          0.2944521495987768,
          -0.9028174841335059,
          -1.346517031891433,
          0.7010728961026464,
          -0.755013040497598,
          0.13623498935701991,
          0.6351510308153695,
          1.0170152042868774,
          -0.9450770808579891,
          1.2115983114720323,
          -0.8813094125947193,
          0.7915744964267842,
          0.18414166569195756,
          0.0830850058405749,
          -0.294185339568948,
          -1.7372777166087925,
          0.9033405343446287,
          -2.587282511772158,
          1.703998432847193,
          -0.030742285324982035,
          -0.9129423388525371,
          -0.02992018625927012,
          0.02704071904790295,
          -1.2834810728673682,
          -0.6876791286399877,
          0.07254356005947309,
          -0.6158656094716195,
          0.7270628173514023,
          0.17173544647630393,
          -2.604929864469067,
          0.9393958986381847,
          -0.9825358868737134,
          -1.1628359855823196,
          1.44198478300721,
          1.174792981312312,
          1.3205596006320415,
          -0.9726564305716681,
          0.6423730727332756,
          -0.32569888615662457,
          1.2932400113233806,
          -0.5034771932446709,
          1.761254334627507,
          0.03442038693015328,
          1.2694220738994402,
          0.4117388132037265,
          -0.7086522669270539,
          1.0719653619844525,
          -0.45040735339656707,
          -1.3340616082848131,
          -0.5284295863009325,
          0.6269381560377177,
          -1.1064579912770622,
          0.9065186231166446,
          -0.27826215371739527,
          0.9414113393228298,
          -0.3676558393948862,
          0.3487766695514831,
          0.28356719477589154,
          -1.1940862624216313,
          -2.124274132879873,
          -1.4778775604916734,
          2.0756040475223374,
          -0.14722723901590443,
          3.0938950784094366,
          0.07642118146403519,
          1.6994465603000568,
          1.4762173091340651,
          -0.3141429853956622,
          3.184660204761386,
          1.0004822303540555,
          0.05243358568243637,
          0.7264852290161891,
          1.3149618298087637,
          1.419879272978053,
          -0.42460655144317516,
          -0.5619282901142856,
          1.5817975019010722,
          -0.7564563033234919,
          -0.65796912031612,
          0.7013174082111624,
          -1.3106022461041442,
          0.4113042106327036,
          -0.8690548002294843,
          -0.07591168591454465,
          -0.25585461687113703,
          0.2853926285893726,
          1.1123452818858013,
          -0.0339299066668921,
          -0.6910705257017736,
          0.6822625205154529,
          -0.13923083246232812,
          -0.0988789092750425,
          -0.4271773484446654,
          -2.5576853071337053,
          -0.15419555735346435,
          0.5728214775001926,
          1.818369835406782,
          -0.6804023313555626,
          0.5516613400497601,
          -0.7098159098260358,
          0.797036524114333,
          0.4030188824262426,
          -0.2276163252104381,
          -0.9775115027207817,
          -1.240442280669823,
          -0.5382677595724321,
          -0.528834159524125,
          2.039113088473808,
          0.48143655375924194,
          -0.7861708460965485,
          -0.9671018980688547,
          -0.02193653482569735,
          -0.6818339526524939,
          -1.986240176887465,
          -0.8956928434468687,
          -0.11333812353862842,
          -0.5344502365654501,
          -0.19017810492513693,
          0.20142845732659806,
          -0.7124696961586641,
          -1.053865154321792,
          2.152751577134435,
          2.096935825702748,
          -0.46784325779201846,
          -0.38330850412905665,
          2.126775362968011,
          -0.6814568215124176,
          0.27799720042907794,
          2.311736837714428,
          -0.6944994014508787,
          0.6042915600669608,
          0.24315004548651784,
          -0.4067500504419696,
          -0.16543514801688528,
          1.5345025166248523,
          -1.878983978952151,
          -1.670467254106363,
          -0.11296704257579339,
          0.08134928850847765,
          -0.14709354125494542,
          -0.9714753530009177,
          0.40868342913616884,
          0.0030142186030410485,
          0.8688570116112779,
          0.38346988828909473,
          0.12284820665443177,
          0.5297792363147399,
          -0.4619279779885241,
          -0.3447127708711428,
          -0.8264727606081362,
          0.1896801845910679,
          0.08572175671526783,
          -1.2953033225252422,
          0.8486783059950497,
          -0.16346788783843025,
          -0.782499914926442,
          1.3253106561864145,
          -1.135854960267114,
          -1.3873009423971987,
          -1.274114076860828,
          -0.2139964180633235,
          -1.1107520986170463,
          -0.11045530373035446,
          0.45308935217175506,
          1.0622421655008314,
          -1.2183691815417015,
          -2.703676397799172,
          1.0030440309620572,
          1.782258120177857,
          0.03392256705624396,
          0.3426417038424094,
          1.2069174237565388,
          -0.04621797654958395,
          -0.6613519797077863,
          0.8499604108276276,
          1.3893191399279117,
          -0.6644479518021916,
          0.39654777683356685,
          2.1722087589906875,
          0.9282324488050853,
          0.7483210344836861,
          0.7234864330456138,
          -0.445003904583748,
          0.20731236824172544,
          -1.2424824950534115,
          -1.043663170429416,
          -1.7309693530070533,
          -0.48305055899436894,
          -0.4195769246978301,
          0.3326205348066345,
          -0.8820750548228904,
          -0.772609337697643,
          0.7814789868074019,
          0.8424538592801509,
          0.9129886798159609,
          0.36427125946623395,
          1.8440970803343244,
          -2.1757826513912426,
          0.1383184536873098,
          0.4186366266202435,
          -1.9627062231131205,
          0.6678320838388812,
          0.8425401723986196,
          1.0495538773482824,
          -1.594181847670222,
          0.27943479992218084,
          2.516066506644716,
          1.524431484937678,
          -0.8945629842495036,
          0.17789552599781333,
          0.561772655562177,
          -0.4662938301402284,
          0.4889735037976126,
          -0.18945046117335287,
          0.759007223127116,
          -1.3771187075494564,
          -0.16954954664669458,
          -0.051551608484597555,
          0.023628159081376308,
          -0.7241010970177774,
          0.8494949532386248,
          -1.0319715444173523,
          -1.2065900905205578,
          -0.5625540020549472,
          0.6422697786001936,
          -0.4994052346407834,
          0.06479043484831491,
          1.067535181618709,
          0.6918335431125192,
          -1.4606459748351786,
          0.7089570838960223,
          1.9755718470092067,
          0.10462527967933888,
          -0.3064820427154778,
          1.141393050955836,
          -0.6710590749388994,
          -0.14586661061278025,
          0.2499309775476451,
          -0.2626132276401945,
          -0.21981935455160878,
          1.3270271634713977,
          -0.9684269125195185,
          1.0108900763911568,
          0.7514579301762287,
          0.4275059359249194,
          0.24540055173081443,
          1.572095063925289,
          0.6212492050131968,
          1.1281887713994556,
          -0.2192505625650834,
          -1.267153106899342,
          -0.10669604620419978,
          -1.892586271634826,
          -1.410033974346931,
          0.7123855736719596,
          0.669926481293694,
          0.2055813949773345,
          -1.3159363964537238,
          1.0812634825234442,
          0.668806174308215,
          1.1587325781428535,
          1.7289332944851032,
          -2.655629981259504,
          1.6440369787909115,
          -2.309350988545688,
          0.9795282365098076,
          0.525753496302072,
          -1.2933641702750878,
          -0.20654970652790186,
          -1.0649984532684469,
          1.4057066081687055,
          -2.0426251716272663,
          -0.860559507855782,
          -1.016352126619623,
          -0.9530057185580593,
          -0.1596210429080565,
          -0.019165227448683996,
          0.15599479717531192,
          0.6775530807150488,
          -0.163503306997122,
          -1.6162265214133131,
          1.739938440755698,
          -0.29539658300089694,
          0.589054643269933,
          0.9959216800531637,
          -0.06636764657647735,
          -1.6731220307068377,
          0.6449766314733822,
          0.5618169095476483,
          -0.14251962515425307,
          0.36126542450822247,
          -1.235865100533111,
          0.6185311138799324,
          -0.3989493485210833,
          -1.6111598426887161,
          1.186815804303857,
          1.0001595120870326,
          1.7255697953289397,
          0.6005803687316089,
          0.6673559772927433,
          0.18229355902763764,
          -1.9473930534274762,
          -0.43917294682261754,
          -1.7033541037567081,
          1.0724244344963083,
          -0.5786035417330524,
          -1.4123422747084804,
          0.2979290344755107,
          -0.041091374457187316,
          0.46578262008642807,
          0.15475121652973212,
          0.3078951615201732,
          3.034676465601788,
          0.13138847685652377,
          -1.258711134337139,
          -1.841667997709259,
          -1.3258656460221658,
          -0.11402747606602844,
          -1.326702811169871,
          1.0498449537371946,
          1.400961756752816,
          0.1316083555090818,
          -1.0018342565025102,
          -0.7824565297974092,
          -0.9269485596666864,
          0.8303547670275204,
          -1.054787178889987,
          0.038846758998140295,
          -0.051106407696222295,
          0.17467944098423005,
          -1.7854035168227205,
          -0.8482797390823998,
          -0.055993424537047885,
          -0.8022566908106838,
          -2.520029242803328,
          -0.5543463984432714,
          -0.4517603967017978,
          -1.9147073501997822,
          1.0410685206391923,
          1.9950475453748988,
          -0.0708289503817176,
          -0.6503270245408868,
          -0.39748592677306716,
          1.2695295284044033,
          0.4363198749473497,
          -0.2401129665249516,
          -0.32654522943469894,
          1.3716492788849937,
          0.17650919899089793,
          0.03156484975254922,
          -0.21574203867433564,
          1.3436808421098898,
          -1.5575145558148498,
          -0.49251766023527904,
          0.439871946836782,
          1.5250352757167134,
          0.6140741881134726,
          -0.636881013816751,
          -0.4455353323813057,
          0.9128617697025868,
          -1.298025665038341,
          0.5492256752546216,
          0.5365028270116676,
          -0.45039937306327915,
          0.4052129533241261,
          -0.029210268103999,
          1.3458688615086358,
          -0.1851749343603538,
          1.5164080877627686,
          -0.310816748676473,
          -0.2023216731259157,
          -1.1427961383957725,
          -1.0819868741632765,
          -1.157176046084087,
          -0.21721385859232673,
          -0.7621903522888166,
          -0.5160425982406349,
          0.28360499703724035,
          1.1101342829889773,
          1.0933558218794124,
          -1.5761195880599268,
          -0.46074789037784947,
          -0.22977838394100053,
          1.6088208066300664,
          0.38070272143107164,
          -0.13567027678001142,
          -0.6408777221140651,
          -0.7191590874034667,
          0.161390801367617,
          0.4181421488975909,
          -0.8612865039665041,
          -1.2505808584830396,
          -0.04367677711389493,
          -0.19501736013607163,
          -1.9112802846796741,
          -0.14854249156996155,
          0.4179329281549356,
          0.8249354124639812,
          0.7292140999114373,
          -0.6746968581165406,
          -0.34421208329565733,
          -0.15844058253015536,
          -0.4322181773719565,
          0.13337438579030075,
          0.6950784632408946,
          -0.5808599704056758,
          -0.7404557528548387,
          -0.37432352410930303,
          1.483169377532571,
          -0.3902544513635037,
          -0.9328571919505295,
          1.570653936777682,
          -0.4535165603592992,
          -1.0881928791716104,
          2.5026978469654555,
          0.7223582361925134,
          -0.9997786369556559,
          -0.2582709833072433,
          -0.32257957020826306,
          0.8748671756831611,
          0.48160600469718523,
          1.8522079301031007,
          -1.1985303936802494,
          -1.3686916724442997,
          -1.5181582329706396,
          0.527973308733508,
          0.2270165418580246,
          -1.0900858773400657,
          -0.28113925468964995,
          0.5917920032264079,
          -1.2889293063383829,
          0.6533696903484781,
          1.3277655284847902,
          -0.19841742443110288,
          0.981913696023407,
          -0.530260384075822,
          -0.5269779042453956,
          -1.1764713968004035,
          -1.5784712310804614,
          0.29544331587538974,
          -1.1001632698456614,
          -0.005332379352580969,
          -1.150878923902021,
          2.0565160777486935,
          -1.2931643977922465,
          -0.009736324721260183,
          0.3083521467275503,
          -0.7129448699718066,
          0.007707359501879469,
          0.3790916484796668,
          0.31131366255529946,
          -1.3930324073308902,
          -0.569347974116477,
          0.9526221817599931,
          -0.019150284893384717,
          0.6806959788435062,
          -0.534009895128373,
          -0.17349463290461636,
          -0.010704187318665246,
          -1.3040592592488,
          -0.2924566383167752,
          -0.13888087928211731,
          0.2748989734629411,
          -0.13646618992588355,
          1.2102136406615804,
          0.3905905744285742,
          0.9665848894227385,
          0.6122039760663109,
          1.1278618174653023,
          0.30907496331802586,
          0.320305943068268,
          0.3599591693357128,
          0.45048327431497087,
          -0.7888876946799036,
          -0.03292274462557335,
          -0.043141014176413084,
          -0.7299168258297005,
          -0.023475667399741128,
          -0.3813658442383168,
          1.0893596613637369,
          0.9997462092730195,
          0.7024452059715183,
          -0.7384278433102164,
          0.9485617643766738,
          0.15787196215840626,
          -0.42546725999716156,
          0.45565806252382884,
          -1.5172325008484617,
          -0.5408004123066086,
          -2.53993429281229,
          0.1710534267826418,
          -0.7561224213360938,
          0.19297481637078118,
          -1.537289891505789,
          -0.6558445925973236,
          0.14597227184091685,
          -0.4149239872846642,
          1.226650298399365,
          0.2867704642935247,
          -1.5440721393712042,
          -0.6460100614383765,
          0.5191141302270842,
          -0.7493488586567246,
          0.825171918448047,
          0.2180500794111058,
          1.434743281346651,
          1.396934069460765,
          0.6543211847145958,
          0.10883315877723305,
          0.4046546433516667,
          -0.2547567609688062,
          -0.36012141431824024,
          0.4438394194790601,
          1.1417887781319682,
          0.6955918328470443,
          0.4989617510396067,
          -0.5263096455804321,
          -0.37708890250071886,
          0.709351467579628,
          1.586310873086937,
          0.7910521682971071,
          0.6354027774082726,
          -0.6901283982900014,
          0.134820142341747,
          -0.8318681144226283
         ]
        }
       ],
       "layout": {
        "template": {
         "data": {
          "bar": [
           {
            "error_x": {
             "color": "#2a3f5f"
            },
            "error_y": {
             "color": "#2a3f5f"
            },
            "marker": {
             "line": {
              "color": "#E5ECF6",
              "width": 0.5
             },
             "pattern": {
              "fillmode": "overlay",
              "size": 10,
              "solidity": 0.2
             }
            },
            "type": "bar"
           }
          ],
          "barpolar": [
           {
            "marker": {
             "line": {
              "color": "#E5ECF6",
              "width": 0.5
             },
             "pattern": {
              "fillmode": "overlay",
              "size": 10,
              "solidity": 0.2
             }
            },
            "type": "barpolar"
           }
          ],
          "carpet": [
           {
            "aaxis": {
             "endlinecolor": "#2a3f5f",
             "gridcolor": "white",
             "linecolor": "white",
             "minorgridcolor": "white",
             "startlinecolor": "#2a3f5f"
            },
            "baxis": {
             "endlinecolor": "#2a3f5f",
             "gridcolor": "white",
             "linecolor": "white",
             "minorgridcolor": "white",
             "startlinecolor": "#2a3f5f"
            },
            "type": "carpet"
           }
          ],
          "choropleth": [
           {
            "colorbar": {
             "outlinewidth": 0,
             "ticks": ""
            },
            "type": "choropleth"
           }
          ],
          "contour": [
           {
            "colorbar": {
             "outlinewidth": 0,
             "ticks": ""
            },
            "colorscale": [
             [
              0,
              "#0d0887"
             ],
             [
              0.1111111111111111,
              "#46039f"
             ],
             [
              0.2222222222222222,
              "#7201a8"
             ],
             [
              0.3333333333333333,
              "#9c179e"
             ],
             [
              0.4444444444444444,
              "#bd3786"
             ],
             [
              0.5555555555555556,
              "#d8576b"
             ],
             [
              0.6666666666666666,
              "#ed7953"
             ],
             [
              0.7777777777777778,
              "#fb9f3a"
             ],
             [
              0.8888888888888888,
              "#fdca26"
             ],
             [
              1,
              "#f0f921"
             ]
            ],
            "type": "contour"
           }
          ],
          "contourcarpet": [
           {
            "colorbar": {
             "outlinewidth": 0,
             "ticks": ""
            },
            "type": "contourcarpet"
           }
          ],
          "heatmap": [
           {
            "colorbar": {
             "outlinewidth": 0,
             "ticks": ""
            },
            "colorscale": [
             [
              0,
              "#0d0887"
             ],
             [
              0.1111111111111111,
              "#46039f"
             ],
             [
              0.2222222222222222,
              "#7201a8"
             ],
             [
              0.3333333333333333,
              "#9c179e"
             ],
             [
              0.4444444444444444,
              "#bd3786"
             ],
             [
              0.5555555555555556,
              "#d8576b"
             ],
             [
              0.6666666666666666,
              "#ed7953"
             ],
             [
              0.7777777777777778,
              "#fb9f3a"
             ],
             [
              0.8888888888888888,
              "#fdca26"
             ],
             [
              1,
              "#f0f921"
             ]
            ],
            "type": "heatmap"
           }
          ],
          "heatmapgl": [
           {
            "colorbar": {
             "outlinewidth": 0,
             "ticks": ""
            },
            "colorscale": [
             [
              0,
              "#0d0887"
             ],
             [
              0.1111111111111111,
              "#46039f"
             ],
             [
              0.2222222222222222,
              "#7201a8"
             ],
             [
              0.3333333333333333,
              "#9c179e"
             ],
             [
              0.4444444444444444,
              "#bd3786"
             ],
             [
              0.5555555555555556,
              "#d8576b"
             ],
             [
              0.6666666666666666,
              "#ed7953"
             ],
             [
              0.7777777777777778,
              "#fb9f3a"
             ],
             [
              0.8888888888888888,
              "#fdca26"
             ],
             [
              1,
              "#f0f921"
             ]
            ],
            "type": "heatmapgl"
           }
          ],
          "histogram": [
           {
            "marker": {
             "pattern": {
              "fillmode": "overlay",
              "size": 10,
              "solidity": 0.2
             }
            },
            "type": "histogram"
           }
          ],
          "histogram2d": [
           {
            "colorbar": {
             "outlinewidth": 0,
             "ticks": ""
            },
            "colorscale": [
             [
              0,
              "#0d0887"
             ],
             [
              0.1111111111111111,
              "#46039f"
             ],
             [
              0.2222222222222222,
              "#7201a8"
             ],
             [
              0.3333333333333333,
              "#9c179e"
             ],
             [
              0.4444444444444444,
              "#bd3786"
             ],
             [
              0.5555555555555556,
              "#d8576b"
             ],
             [
              0.6666666666666666,
              "#ed7953"
             ],
             [
              0.7777777777777778,
              "#fb9f3a"
             ],
             [
              0.8888888888888888,
              "#fdca26"
             ],
             [
              1,
              "#f0f921"
             ]
            ],
            "type": "histogram2d"
           }
          ],
          "histogram2dcontour": [
           {
            "colorbar": {
             "outlinewidth": 0,
             "ticks": ""
            },
            "colorscale": [
             [
              0,
              "#0d0887"
             ],
             [
              0.1111111111111111,
              "#46039f"
             ],
             [
              0.2222222222222222,
              "#7201a8"
             ],
             [
              0.3333333333333333,
              "#9c179e"
             ],
             [
              0.4444444444444444,
              "#bd3786"
             ],
             [
              0.5555555555555556,
              "#d8576b"
             ],
             [
              0.6666666666666666,
              "#ed7953"
             ],
             [
              0.7777777777777778,
              "#fb9f3a"
             ],
             [
              0.8888888888888888,
              "#fdca26"
             ],
             [
              1,
              "#f0f921"
             ]
            ],
            "type": "histogram2dcontour"
           }
          ],
          "mesh3d": [
           {
            "colorbar": {
             "outlinewidth": 0,
             "ticks": ""
            },
            "type": "mesh3d"
           }
          ],
          "parcoords": [
           {
            "line": {
             "colorbar": {
              "outlinewidth": 0,
              "ticks": ""
             }
            },
            "type": "parcoords"
           }
          ],
          "pie": [
           {
            "automargin": true,
            "type": "pie"
           }
          ],
          "scatter": [
           {
            "fillpattern": {
             "fillmode": "overlay",
             "size": 10,
             "solidity": 0.2
            },
            "type": "scatter"
           }
          ],
          "scatter3d": [
           {
            "line": {
             "colorbar": {
              "outlinewidth": 0,
              "ticks": ""
             }
            },
            "marker": {
             "colorbar": {
              "outlinewidth": 0,
              "ticks": ""
             }
            },
            "type": "scatter3d"
           }
          ],
          "scattercarpet": [
           {
            "marker": {
             "colorbar": {
              "outlinewidth": 0,
              "ticks": ""
             }
            },
            "type": "scattercarpet"
           }
          ],
          "scattergeo": [
           {
            "marker": {
             "colorbar": {
              "outlinewidth": 0,
              "ticks": ""
             }
            },
            "type": "scattergeo"
           }
          ],
          "scattergl": [
           {
            "marker": {
             "colorbar": {
              "outlinewidth": 0,
              "ticks": ""
             }
            },
            "type": "scattergl"
           }
          ],
          "scattermapbox": [
           {
            "marker": {
             "colorbar": {
              "outlinewidth": 0,
              "ticks": ""
             }
            },
            "type": "scattermapbox"
           }
          ],
          "scatterpolar": [
           {
            "marker": {
             "colorbar": {
              "outlinewidth": 0,
              "ticks": ""
             }
            },
            "type": "scatterpolar"
           }
          ],
          "scatterpolargl": [
           {
            "marker": {
             "colorbar": {
              "outlinewidth": 0,
              "ticks": ""
             }
            },
            "type": "scatterpolargl"
           }
          ],
          "scatterternary": [
           {
            "marker": {
             "colorbar": {
              "outlinewidth": 0,
              "ticks": ""
             }
            },
            "type": "scatterternary"
           }
          ],
          "surface": [
           {
            "colorbar": {
             "outlinewidth": 0,
             "ticks": ""
            },
            "colorscale": [
             [
              0,
              "#0d0887"
             ],
             [
              0.1111111111111111,
              "#46039f"
             ],
             [
              0.2222222222222222,
              "#7201a8"
             ],
             [
              0.3333333333333333,
              "#9c179e"
             ],
             [
              0.4444444444444444,
              "#bd3786"
             ],
             [
              0.5555555555555556,
              "#d8576b"
             ],
             [
              0.6666666666666666,
              "#ed7953"
             ],
             [
              0.7777777777777778,
              "#fb9f3a"
             ],
             [
              0.8888888888888888,
              "#fdca26"
             ],
             [
              1,
              "#f0f921"
             ]
            ],
            "type": "surface"
           }
          ],
          "table": [
           {
            "cells": {
             "fill": {
              "color": "#EBF0F8"
             },
             "line": {
              "color": "white"
             }
            },
            "header": {
             "fill": {
              "color": "#C8D4E3"
             },
             "line": {
              "color": "white"
             }
            },
            "type": "table"
           }
          ]
         },
         "layout": {
          "annotationdefaults": {
           "arrowcolor": "#2a3f5f",
           "arrowhead": 0,
           "arrowwidth": 1
          },
          "autotypenumbers": "strict",
          "coloraxis": {
           "colorbar": {
            "outlinewidth": 0,
            "ticks": ""
           }
          },
          "colorscale": {
           "diverging": [
            [
             0,
             "#8e0152"
            ],
            [
             0.1,
             "#c51b7d"
            ],
            [
             0.2,
             "#de77ae"
            ],
            [
             0.3,
             "#f1b6da"
            ],
            [
             0.4,
             "#fde0ef"
            ],
            [
             0.5,
             "#f7f7f7"
            ],
            [
             0.6,
             "#e6f5d0"
            ],
            [
             0.7,
             "#b8e186"
            ],
            [
             0.8,
             "#7fbc41"
            ],
            [
             0.9,
             "#4d9221"
            ],
            [
             1,
             "#276419"
            ]
           ],
           "sequential": [
            [
             0,
             "#0d0887"
            ],
            [
             0.1111111111111111,
             "#46039f"
            ],
            [
             0.2222222222222222,
             "#7201a8"
            ],
            [
             0.3333333333333333,
             "#9c179e"
            ],
            [
             0.4444444444444444,
             "#bd3786"
            ],
            [
             0.5555555555555556,
             "#d8576b"
            ],
            [
             0.6666666666666666,
             "#ed7953"
            ],
            [
             0.7777777777777778,
             "#fb9f3a"
            ],
            [
             0.8888888888888888,
             "#fdca26"
            ],
            [
             1,
             "#f0f921"
            ]
           ],
           "sequentialminus": [
            [
             0,
             "#0d0887"
            ],
            [
             0.1111111111111111,
             "#46039f"
            ],
            [
             0.2222222222222222,
             "#7201a8"
            ],
            [
             0.3333333333333333,
             "#9c179e"
            ],
            [
             0.4444444444444444,
             "#bd3786"
            ],
            [
             0.5555555555555556,
             "#d8576b"
            ],
            [
             0.6666666666666666,
             "#ed7953"
            ],
            [
             0.7777777777777778,
             "#fb9f3a"
            ],
            [
             0.8888888888888888,
             "#fdca26"
            ],
            [
             1,
             "#f0f921"
            ]
           ]
          },
          "colorway": [
           "#636efa",
           "#EF553B",
           "#00cc96",
           "#ab63fa",
           "#FFA15A",
           "#19d3f3",
           "#FF6692",
           "#B6E880",
           "#FF97FF",
           "#FECB52"
          ],
          "font": {
           "color": "#2a3f5f"
          },
          "geo": {
           "bgcolor": "white",
           "lakecolor": "white",
           "landcolor": "#E5ECF6",
           "showlakes": true,
           "showland": true,
           "subunitcolor": "white"
          },
          "hoverlabel": {
           "align": "left"
          },
          "hovermode": "closest",
          "mapbox": {
           "style": "light"
          },
          "paper_bgcolor": "white",
          "plot_bgcolor": "#E5ECF6",
          "polar": {
           "angularaxis": {
            "gridcolor": "white",
            "linecolor": "white",
            "ticks": ""
           },
           "bgcolor": "#E5ECF6",
           "radialaxis": {
            "gridcolor": "white",
            "linecolor": "white",
            "ticks": ""
           }
          },
          "scene": {
           "xaxis": {
            "backgroundcolor": "#E5ECF6",
            "gridcolor": "white",
            "gridwidth": 2,
            "linecolor": "white",
            "showbackground": true,
            "ticks": "",
            "zerolinecolor": "white"
           },
           "yaxis": {
            "backgroundcolor": "#E5ECF6",
            "gridcolor": "white",
            "gridwidth": 2,
            "linecolor": "white",
            "showbackground": true,
            "ticks": "",
            "zerolinecolor": "white"
           },
           "zaxis": {
            "backgroundcolor": "#E5ECF6",
            "gridcolor": "white",
            "gridwidth": 2,
            "linecolor": "white",
            "showbackground": true,
            "ticks": "",
            "zerolinecolor": "white"
           }
          },
          "shapedefaults": {
           "line": {
            "color": "#2a3f5f"
           }
          },
          "ternary": {
           "aaxis": {
            "gridcolor": "white",
            "linecolor": "white",
            "ticks": ""
           },
           "baxis": {
            "gridcolor": "white",
            "linecolor": "white",
            "ticks": ""
           },
           "bgcolor": "#E5ECF6",
           "caxis": {
            "gridcolor": "white",
            "linecolor": "white",
            "ticks": ""
           }
          },
          "title": {
           "x": 0.05
          },
          "xaxis": {
           "automargin": true,
           "gridcolor": "white",
           "linecolor": "white",
           "ticks": "",
           "title": {
            "standoff": 15
           },
           "zerolinecolor": "white",
           "zerolinewidth": 2
          },
          "yaxis": {
           "automargin": true,
           "gridcolor": "white",
           "linecolor": "white",
           "ticks": "",
           "title": {
            "standoff": 15
           },
           "zerolinecolor": "white",
           "zerolinewidth": 2
          }
         }
        },
        "title": {
         "text": "2D random sample with no correlation"
        }
       }
      },
      "text/html": [
       "<div>                            <div id=\"c5e4997f-c936-449c-8138-971b87e820e0\" class=\"plotly-graph-div\" style=\"height:525px; width:100%;\"></div>            <script type=\"text/javascript\">                require([\"plotly\"], function(Plotly) {                    window.PLOTLYENV=window.PLOTLYENV || {};                                    if (document.getElementById(\"c5e4997f-c936-449c-8138-971b87e820e0\")) {                    Plotly.newPlot(                        \"c5e4997f-c936-449c-8138-971b87e820e0\",                        [{\"mode\":\"markers\",\"x\":[0.5366979243847566,-2.053221920476342,0.20025777876091944,-2.6328185448862738,1.2187865431800597,1.7582697098115956,-0.9958700178989964,-1.6861953754480594,1.554354991043311,0.07376275996196237,1.637726204158494,0.664456725897098,-1.3816795195771643,-0.6120019423617706,0.26457228722729703,0.5686552182659513,-0.2412882376925385,-0.6463157839015583,0.7650705502841125,0.05211439670497348,-0.21876931615566364,-0.36777973448718654,-0.9371008850613227,-0.1157228941374375,-0.5293639682072686,-0.015725229597750676,-0.2446490634758075,0.9056357149791178,-0.5731813395472196,0.6557954578688443,0.3337675489837219,-1.5640331532290495,-0.21642330972851004,0.5990597281751968,-0.28796414092238476,0.5762504655683776,-0.5722497611973334,0.09099830521158021,0.951425149579499,-0.664739442744507,0.2413140303832637,-0.9799782820267976,0.6332314590556651,-0.6772127359138412,-0.11515569266849532,0.320516897110389,1.9847057385763656,-0.3201013312100017,0.9260034164363461,0.39805250086359484,1.1978891410411259,-0.7130258982270398,-0.4098412994609816,1.1800200788813853,1.3499961383228372,1.498616096331664,0.9422083504443991,1.1580234355815118,0.9146293447365993,0.8975879794191289,0.7950034920212571,-0.6955299716212722,-1.4430724354181228,0.21312200348193333,-0.3733230446584844,-0.6448806804840485,-0.7158544538133677,-0.027084229228243262,-0.14465517260930913,0.1296343068233988,-0.3822894096435143,-0.07963456850087337,-0.12183060931316035,-0.19390460879200827,0.7749286530405403,0.29468425746232074,1.1634887855502605,0.38093157947309386,-0.748686649711846,0.2078641840309677,-0.3473096285428861,-0.69498755677832,0.8183800498732899,-0.9767930162022725,-1.6616953979000946,0.9860524266833135,-0.5043515203660002,-0.023024625284546806,0.9785506649897572,-0.00841047991751756,-0.6806102245876288,2.286258801232256,-0.4285941181790381,1.2822637976622056,2.453393701169606,0.5693621648571732,0.9654476175220632,0.9375477137078424,-0.5778551590527347,-1.0574073237243422,-1.3841915136509866,-0.745503713109439,-0.844636365200609,0.025579276177322526,0.7428214579102201,1.166832315086838,0.6222018538819191,0.7012183900240521,0.6216549090215336,-1.179899791035201,-0.7595113749641635,0.9205563315518756,0.17949320956365483,-2.2529437419259746,0.6934219055744221,0.0986835398879396,1.285567552980863,0.012997307098393682,-1.813328537236311,0.25637429754465113,-1.6462538329943996,-0.11914489182042674,1.0364973296917621,0.5740740663247332,-0.32986817674610835,-0.606002920737691,0.36118411156524177,0.6863768378660657,-1.6635234703238557,-0.7281822415838609,-0.9082488531657349,-1.0651017572679773,1.1444246632668005,-0.733235152215448,-1.0467834572499204,-1.6421578713585632,0.6166490431066836,-1.6569428996761133,0.2825425251300485,-0.9260265738983048,-1.4198767186232704,-0.04272557639212142,0.40002778045152293,0.3351944830882615,-1.0724897642560585,-1.4659062115304295,-0.2122484577329892,0.5432980997941709,-0.35586404219818596,-3.3384847624495477,-1.9580729660191798,0.3628706188761548,-0.5748280974168135,0.02016704949022243,-0.23692245553443644,2.0820236523165865,0.3292265209569883,0.2016313506590445,0.4109595163081737,0.1770012004404674,-1.5023584483064851,-0.11449262435988175,-1.9511204801552968,0.42782621330069776,-0.495303122647465,0.1874956765020142,1.7165102588805237,-1.1261193629284656,0.8736228250162396,0.07876234860359115,0.4405976771741169,0.092549866935011,-1.642658926829415,0.3999690640505604,0.20994801169675778,-0.7983460737962378,-0.15988314309749802,-0.5525432872922847,1.096943453279275,-0.32298631760915447,-1.2918165013935765,0.511871612842695,0.8729176725920043,-1.3165243399405033,-0.9698790154553102,-1.5728201221250147,-0.1822505275508623,1.1632526667588687,-0.12371700741213386,-1.1437639542716358,0.7294079365058569,0.31636440827072276,-0.7079802141146522,0.5344847915466878,1.062909877348641,-0.6236615998327139,0.0536951173404749,-1.2806964519724304,-1.1871746756883075,0.48204794174041005,1.5854942343163256,0.868677760642727,-0.15208168450389478,-0.5661629427639658,1.7128733970258856,-1.125473113296651,1.1115665380800437,-0.4258631858479665,-0.5699788514588336,-0.5833639407938658,-0.936526413865753,1.1628916038269,-1.6383724215864244,0.5461124499769262,0.45200863404764074,-0.02963910489104074,-1.338220458957687,2.1350484923510704,-0.4440956841564033,1.4005346413024868,0.2779964589086172,0.7571591734435676,-1.129680292595123,0.15046258171216378,0.8391450772122531,0.49205028083473273,-0.2614181191502051,-0.24221754699061773,0.1765930985511558,0.30788580238333924,-0.1306216240317794,0.20921148715470195,-0.9222590153763105,-0.7081657035355678,0.9645089117098274,-0.42112066529171616,0.7778207218559394,0.24559717293356462,0.7772953306926198,0.6702151838713376,1.3231248953659789,-1.298124974927459,0.5404520358459918,0.810054365751934,-1.3137040613898903,1.611525038849247,0.3874034894410509,2.126936345796868,-0.8371606607481495,0.2996885903051406,-0.55159710773132,-0.9367955207157282,0.8310696712223269,-0.6459608561299421,1.0387945922232635,0.5634200156965572,-0.20972130232057515,0.8797669274831915,0.8129057396359538,2.0562409325166953,-0.762875909102653,0.9964585384595346,-1.0647315163301572,1.3879958387573843,-1.3769422704939616,-0.39824037328164985,-0.35496275940201094,0.27604318278877066,0.24062290601313588,0.05101446501670848,-0.5290309678329389,-0.8353063772868526,-0.27709914806674374,0.5180753293688227,-0.23156105804979463,0.3906575950601809,0.8605534478662922,0.98970418325496,1.1819538636899545,0.8421357218235616,1.6993568963530075,-2.2114020826842973,1.0736007488369426,-0.10032900288883385,2.2872546253725345,0.34913640437466453,-0.8911050550697937,-1.5090808293002733,0.6952973919731933,-0.3115658695970502,0.34115897805524853,1.1936050447326458,0.008408286210882736,-0.010833954530970347,0.48278663302955227,0.0012810295799552452,0.10330021743146699,1.31788337533886,-0.8279407684164675,0.6649376339569368,-0.20641066002801275,0.7742154938144807,0.1455262357400232,2.961432318818098,0.3918096352484903,-0.22150810327336737,-1.1317441456577806,1.396787067348584,-1.1862570485431634,-1.2563935970767743,0.1969501509754539,0.14174699989800274,1.0435297445590517,-0.29537597302218654,0.7747091267407851,0.8073999551015234,0.4666249188065689,0.5571548055201578,0.590987692441633,-0.3531129607881942,-0.7830636698593413,-0.6841320801379225,0.635754484025994,0.7265069263227721,0.3986432335151565,-0.9131130105767429,-0.12828888774137215,0.6370065268916375,0.25252845275415764,0.4233139796921284,-0.07749877403823677,-0.8389653796045318,0.9344315121949612,-0.5501523076207576,-2.5490642367573635,-1.3689012890454397,-0.25569452334496784,-0.7255310354795184,-0.30631976674147,-0.5583922577436388,0.17833831499226377,1.264026853275129,0.5316333344726477,0.7674482500181651,0.5055826076015305,0.7121323790913073,-0.24122470786495737,1.1555932317808406,1.2219345001372421,0.9265570763962991,0.12265672136518237,-0.5128616508800427,0.21763115347055242,0.13699247144722757,-0.6895025134042714,-0.46130618807070284,-1.490072010953751,1.0624177710486187,-0.19087848672507624,0.5257164549796739,1.2679270127651934,1.1652783924529846,1.7430395679258657,1.1017778416828272,-0.11822978297664224,-0.8944709320498458,0.21280740560868194,0.21847953394453468,-2.396007009478948,-0.0017022722621693506,-0.6946013122035691,-0.22218893584951144,1.1900364132243144,-1.0554028141074987,0.7632940585321115,0.16455288043206923,0.28781506610075575,-0.6812192499446141,-0.2527152555170344,-0.30964068306901854,-1.2922981131337627,0.8090070653749826,0.3223297054246256,-0.22324734915547548,0.8716863882052857,0.6372239955309315,0.21414600617801863,-1.1954695109214741,1.9098282223661007,0.5225488661267952,0.9150555290500618,1.2769089494881036,-0.6134768885664353,1.3236466154705353,1.1755221227551664,0.8212399701147446,-1.3964838391231882,1.0737229313439083,-0.62484781569653,-1.0583829642957505,-0.5132045802297504,1.1594333960104815,-0.09425213171635059,0.8683950911418811,-1.4977408703267876,-0.6490484095822926,2.302738892191574,-1.4018509793900666,1.1290765346503109,-0.6721824827246162,-0.32693714492313186,0.42122706164603124,0.5807403117232529,-0.8317180903296644,0.12957358197134627,-0.2909672963004507,-0.9896198581304416,0.5622931613290099,-0.2447321329378703,0.7998557773259545,-0.6192832105215292,-0.5919626536828709,-0.49536821519435054,0.2438024888183521,-0.8611802560622553,-0.6350567051508841,2.0316427834646644,0.11614657724215464,-0.6920294952548015,-0.9196643472005607,0.06674024251044815,0.6754679064980036,0.2665093726344197,0.23084442022540855,0.4438495734235672,0.015254610611041898,0.5861700768884582,0.6983819886636667,-1.254360943985382,-0.12041260073814006,1.2635887434906439,1.372247863607655,-0.24755557402687398,0.7681968053350947,-1.7871735718521524,-0.8855555792524216,-1.613038516364699,0.7406565687934434,0.6201255608203847,0.32642275299758056,0.9773432360956631,0.18814535947225286,-0.5278053671009042,1.852780690889149,0.5409421357448652,0.5976400416751626,-0.10536916087715648,0.05397192078995417,0.285816474251257,0.48457355510542316,1.322579203285061,-0.7591602562700687,-0.16939665966598852,0.17328698555086613,-0.968823587064825,-0.11342414028609402,1.095429973763698,-1.2214219473527526,0.00704886785875443,-1.21787633549537,0.7214331166367199,-0.4802819958786821,-2.1419004202729823,-2.211511880506866,-0.9439804405296395,-1.690755927097444,1.7704178122306755,-0.07162112973167595,-1.8778697628919347,-1.5961439475147126,-1.3269790710973195,-2.204530930589555,0.5834190728780811,0.9009140277156735,-0.27688068457684334,1.4403570051325323,1.0143107165932364,-0.38849416384200186,-1.0071062962067665,2.086651867893047,-0.6207221709738053,-1.4611039197571998,-1.7610693391505332,-1.6138812453116256,-0.1023154243176643,1.6044903964019928,-0.10252353414465885,-0.6269405502275529,-2.372993569304659,-0.0664919753805807,-0.542081960958647,-0.5116377303564623,0.1415079451501499,1.2812133750881483,0.49536490856389687,-1.0488115686264448,-0.9767553499186163,0.044898907970875465,0.21692671073867326,1.317620262381611,1.728370626193137,1.0135961101171065,1.0743660287325452,0.7161444511745003,0.8258684190174508,-1.0187846108712046,1.9957492095827336,-0.7532335035082439,1.7929254739417428,-1.8856245321926957,0.26671438710664147,0.6195174626034451,0.7492940558892228,-0.8370131903150247,1.7977998419883185,-0.21362077371207436,-0.2935484300258611,-1.346609390383634,0.04434504149210752,-0.7114331145137066,0.04383345696118617,1.5619041626660153,1.194312894678908,1.939192467098187,1.1624433907229945,0.33770213993601556,-1.7881388655021935,0.6951894673891099,1.051412361568472,0.8598571212114837,-0.877803008955401,-0.48338537929748054,0.40351272890289236,0.41754093575756057,-0.48275141122352294,-0.09088985194155916,-2.704048902937333,-1.20367323190218,0.3806174311916097,1.5555517310525107,-0.6102258019379827,0.1727744094197821,0.2011014880599722,0.535847101462096,1.3927298603362037,-1.0564404650502024,-0.1782177262349286,0.4744823166980387,0.08866269155479888,-0.10031639187614633,-0.9936827856147635,-0.7247110399286965,-0.2854591388731473,0.03654801997862985,-0.3842871103930282,0.09291942081789246,-1.2988011172953815,-0.8490292947752923,0.08362804892464945,-0.9250468380771912,0.9462061097077218,0.1972592885666418,0.6342509126816679,0.951610301949186,0.24519149219287326,-1.3748106459528755,-1.3925899372404926,-1.3373619541197805,-1.0954751997598287,-0.005046897345232197,-1.2150321463757436,-0.8412702707895017,1.1288387730318563,-1.9458306554570355,-1.6572123654356838,-0.8234171488918344,1.3043209982850268,1.753260164876214,0.11372265209362488,-1.3702088626570073,-0.45472038320455155,-0.33351523640926056,-0.936872667062602,-0.6681662736734676,-0.48316060981213993,0.42337569616555953,0.0670570841440736,-0.49372185056636236,0.6671835965114018,0.20086509849238854,1.6198219270680188,-0.435039344642093,0.09867100100325049,0.35379227823650705,-1.1697390205888183,0.440137704201647,0.015145587846193635,-0.4980436367531757,0.7515674886242186,0.6286714812150286,1.6616399106124955,1.0839139018710124,0.28150168745889576,1.0049911908178453,-0.032350764293076546,0.9728830424804692,-0.1011179926666941,0.2898220883018423,-0.4421719463547722,0.4870310830390722,-0.1008175612759078,0.21937503660445498,-1.6404614385906102,-1.26117369911741,0.14890618735104658,-1.2397770727089001,-0.3453726743959894,-0.29279723416304976,-0.6084152372659891,-0.7051502075964953,1.4065770291615252,2.5944999825373682,-1.5024112208671416,-1.4830347711717085,-0.019628554867650753,-1.170457845223805,0.5213171582153657,0.4547532214307726,-0.6216204471314195,0.37069788975503204,0.885100012136638,0.5351828680421962,-0.8194760317213396,0.2152705125052911,0.5329134926230028,-0.0651272921393118,0.3614761637871908,-0.4017286447810085,1.6876367229273277,0.42278307200532866,-1.0101510097436137,-0.6334839365165342,-0.8357138858628291,1.1618171280676226,-0.5525672974772257,0.9234159216585087,-0.6019518242988009,0.578253392968112,0.609254366590156,0.8244129573658758,-0.7580893390347215,0.26969957826773266,1.9467319546401112,-1.1789899004716564,1.0800951423417993,-0.6363215622235974,2.069760097445179,0.0289413459457743,0.5274027511761801,-1.0809883291786324,-1.0241063963528336,2.034659002900041,1.2907558081236452,-0.9522091460650539,0.5421281685250203,-1.0377213825233618,0.20519397711260456,0.545660634422661,1.0556119568290439,-1.1760765340390869,-1.1545032639777904,-2.4331242792058028,0.7715917425983815,0.7654988645259533,-0.6019608679693509,-0.5077116704616547,-0.038641784935149505,2.223801810691222,-0.4184061847869952,1.540607369066704,-0.3816363066818408,-1.044093171661792,0.8392223776797013,-0.42834137494508706,-0.7731704665805091,-0.9325568782470148,0.5241632646668332,0.8465190674485961,-0.03321252481614786,0.34028856395721263,0.6538895883720243,-1.3474551225304,1.0242711497752695,-0.701911100293599,0.33160524893667037,-1.2494836511048393,0.49359585403986456,-0.6960302270508737,-0.8689974587648457,-1.4574230370087322,-0.19623836046014606,-1.9303705931918531,-0.2695632736905854,0.4795304468291322,-1.908024275358591,0.5935957062820885,0.7804683570025314,0.7986862072276049,-0.24913958218244656,-0.563599751341648,0.6973747870964606,0.3582715929162706,1.5904928206067022,0.9826905206530027,0.08422481254335232,0.45129119884632546,-0.7112733416240246,-0.3908471735962978,2.3383728013363325,0.01810384790559204,1.6233196952732574,0.09895705165799283,1.0345400916618575,0.8962974819136394,-1.1213656784205246,0.6207112191530968,-0.3571592004507379,0.19262424859604066,0.6285585157236743,1.9382855636891028,1.9778186536916502,0.7388057301461812,0.16256415271128494,-0.06992030095186275,-0.6284854733641287,-1.4038209336922463,0.2741966132424119,-0.35718207596189244,-0.6616701221362644,-1.2436499573197266,0.16018920994758146,-0.1262692639165336,-0.309075041752283,-0.9682307719004469,0.23191572245580935,2.6740722581115333,0.42321502128818717,0.22501966783349417,-0.7318049345017903,-0.5304145177960237,2.2493000043597204,-0.7138586587919685,0.062706574240857,-3.15486919396068,-0.6244986533246089,0.5911317413759031,-0.36516574219102177,-1.0973843900679936,-0.36869520019134566,-1.6598193971367527,0.4089316250133263,-0.07499187080376488,0.5029127812414966,-0.3525891160598807,0.5852195519455745,1.8469411733694292,1.2164802037351892,-1.9222908687668507,0.6648499764898747,1.6985310020331958,-0.6559551565465997,1.3688689626330386,1.6952866457248124,-0.4492632725961543,-1.9195893059036575,-0.4905546475537708,-2.1845367695855424,-0.8865585018962796,0.25005723249758177,0.14425395916402897,-0.4963303639931109,0.9780098135052016,1.8885833626809754,0.7800849617093595,1.1571415646455838,0.5591468155849494,-0.5881572219611576,-0.29881027838491286,-0.43619036503374053,0.3710895153329472,-0.9860071728093364,1.3716351042437196,2.0014309249868143,0.3125780067832773,1.168064305796919,0.6560941978170355,1.087788535820881,-0.26842631930713073,-0.2260961826710013,-0.600620140865698,-1.1989814147426934,-0.059966322387307015,-0.20784089423157776,0.025212227872111942,0.6066847517282282,0.812847362587456,0.5117156469289469,0.0745752617740074,0.9102531397081425,-1.6679018210679821,-0.1492787295352004,0.42801114673204044,0.3117187302432971,-0.27619357215689316,1.686724118958899,-0.5428966604250118,-0.5925278781283226,0.6379065341717953,-0.48309278993540505,-0.7298911635883848,-0.7912013603436079,-2.2729143732321364,0.09849675360007006,-0.16579936740947493,0.004730562619893293,-0.8822374551981353,-0.06613785463271536,-0.4496212585091252,-0.9918240240031057,-2.8614314592873393,-2.164525016084599,-0.5696474176768405,-0.37506013833569446,-0.3440046742913024,0.44502767807410387,1.9127745763968231,-0.5144107999394576,1.2490157685053456,0.49239110016121374,3.7263910776682914,-0.2125236956922255,3.0466277560510293,-1.3208232491141434,0.6811291062972966,1.36507526581229,-0.3925672540909784,0.587209314212627,-1.2495454105664707,-1.8664285469367574,0.047381372883598956,-2.024786389085085,0.40238870144519134,0.3696747903422601,-0.6005107202644864,0.19132463007716194,-0.4236412650950767,0.08135664098886158,-1.1117315050582501,0.839420214918518,0.20719070556267621,-1.0838249835035105,0.23563549095942832,1.14373405237207,-0.4541658900073227,0.9502584041814465,-0.5280824232600307,-2.081982419849298,0.07406068139464002,0.23703280148015415,1.6426150775742465,-1.985994666311677,-0.545351907233115,-0.09049941390781803,0.9713824005854161,0.6683410793204462,0.7190652883025693,-0.1790780340681119,-0.7626566542265594,-0.5196546260807337,-0.7046493772512507,0.7366803480907652,-1.875968470779691,0.19654268099774425,-0.3928724580643814,0.0019782629080643327,-1.827122483702615,0.26468004370983556,1.2536730697920397,-0.9285206947081357,-0.5941573087089805,-1.203484072156861,0.25994479415407745,-0.20441350080521203,0.7616668591918507,0.26099276507844704,-0.1424091566362213,0.8623302004623978,3.435275446234903,0.5584757453210006,-0.10209226258671322,0.6087128202252108,0.02222624594900608,-0.6125512105592452,0.21878607307487027,0.07669996514026305,0.5881278036630273,1.5227060598093423,1.289802694926986,-0.5984005884617791,-1.4012353262841182,-0.9922763847220166,1.9606462816126329,-0.04969906479339806,1.4015562560401613,0.8791985840974325,-0.9728843356255957,-0.9253437689400431,0.5154937490886392,-1.9224752712361262,1.9517441666750663,0.4266081714259783,0.7327532550599243,0.09753424507040363,-2.172123862651981,1.041659616731487,-0.34533034744956187,0.21105022728940373,-0.9052168322498613,2.1601765352827633,-2.4734929789078115,-0.14743335415548053,-0.08625173434269984,-0.690534164899388,0.13209817721546138,-1.1199624255282603,0.718466596886547,0.37338990083224677,1.0259051277756186,-0.48362694960619196,-1.3352507325476353,0.9432784156203052,1.0548786832281796,-0.38668568380841833,-0.12903845774347508,-0.7407737886668776,0.6299567601575835,-0.44616680002933634,-0.2689288774661908,0.6419472058170796,1.742771155024741,0.9844186539262614,1.1733658462184333,-0.43182529269184405,-1.7167137516787503,-0.41339834525089497,-1.5147225561442146,1.1021487601135642,-1.2367301738399283,0.5342655352687381,-0.2197213116349526,0.020068748749919416,-0.8802944045842606,-1.8156734586870058,-0.9674839994503474,0.3729889288174516,0.7699310799087722,-0.18835821041418468,0.2585656146576917,1.424940253085364,1.3707366402953152,-0.36060168981658997,0.4684093947560517,1.0757024561256534,1.7756805629066228,0.7290685968162856,0.06972220990751532,-0.6425434962642144,-0.10295659134747331,1.1972428196742726,-0.2881056811395231,1.9891042891908197,1.0402969674904705,0.7372542110351279,-0.6454714889124598,-0.0978835790884727,0.22305968203156612,1.2583995055720443,-0.3102618282413293,2.322628032037727,0.5508254760449781],\"y\":[-0.09767238830703989,1.0877465697221442,0.6371575179364241,-0.04323226863716998,-1.0109128896375332,0.10669521503657577,0.033365069072164015,0.1481536337517753,0.908876295524671,1.764017352665062,0.85529005082526,0.2830959275101152,0.5954182598933457,-0.444752220210701,0.6776358739095315,1.1652992546130698,0.052995833992432656,0.48156107358404604,0.011235413369617569,-1.1872744700900852,1.6956356336852894,-0.04667061456664443,-1.506882609248022,-1.188042942679493,-0.8612348262671469,2.023899886219119,1.404158797772227,-0.852399338148412,-1.1755715823549462,-1.0559568184958479,0.7464515941410328,0.0348948733156285,-0.21967163627979322,-0.3386406745306314,-1.50213447067385,0.19835763740284668,-1.0922841257756006,-2.5444377858798886,2.6452651855943117,0.3265355865724907,-0.1409420321866947,-0.8769403695176364,-1.116561839890559,0.27373585729347555,0.821068154649886,0.12837773590730397,1.0672391085060813,-0.1572069250636157,-0.3873799737949253,1.3849845846812527,-0.8735114477366438,-0.6019217807098017,2.775412387257232,-1.2515662376043462,0.048932318837473426,0.44783281201506,-0.5503342682152146,1.3985447611465687,0.5081463529902882,-1.1273710964744623,0.41750740598739433,0.4480349244907773,0.5855909043099261,1.2025587577818921,0.9378315945933285,0.29502817307315365,-0.23224729415863418,0.03249829359478824,-0.01563565583772616,0.923886657452563,0.2564170856354064,-0.022366345640326118,3.365637022255826,-0.9766736147705565,0.21911350692422277,0.06141415616639242,0.9337213974650782,-0.9322325291610559,0.6060516735096431,0.294319088701702,-1.5490839850520768,0.47671506540396,0.018166475709199995,-0.06294709635611163,-1.5785016775586613,-0.2208796399886623,0.506443963602548,0.9357258866083422,0.3106360468565935,0.08334989435229616,-1.08061138036845,0.026273896384181806,2.1729124457479716,-1.1230780484622216,-1.1112518726130687,-0.25381802057609715,-1.9264018520526414,-0.05915761928836583,3.9431458711820255,1.349747553472295,0.7245015398748298,1.40462200376603,1.0082167061924519,0.04585473137365555,0.13253779201329588,0.09891972706705118,-2.086257178297891,-0.24816899632714037,-1.207599267467207,-0.5584440504408017,0.4034354582495052,1.5387447175062234,-0.6803214927737073,-0.07731446338511634,0.6056735869797123,-0.35093962314907584,-1.0332645254502344,1.115320526145065,0.3099731839343459,0.040005183787021614,-0.3009559138240292,0.010034908811236741,0.43915475047201985,0.7224588126861795,-0.4335912939129761,0.3947711402034713,0.6900260878412989,-1.311868691105679,0.776949132211751,-1.4965175068864793,0.5589432993076396,-0.22690604263627687,-1.4961740087544253,0.2059984794456134,-1.4493464577683093,1.4371577256107397,0.3572638445389699,0.023574697321663535,-0.8585802947230511,-0.8731150098589495,-0.2470292104197897,0.7526140603396838,1.619045876924166,0.7046501225715355,-0.05609472879233792,-0.9044005307549796,-1.4400302355771224,0.8587475318546052,1.2033037681963916,0.1543152099275463,0.6282209860430632,-0.1949513295764792,0.8141180410049247,-1.2821878847363222,0.5303405547906112,0.10988381596969117,0.2900100296615205,0.2359746052152065,-0.9162816209459542,0.8766117756773433,0.14469351319949808,-0.213498856846683,1.7525843218161035,1.2601657450030053,-0.5504682162282337,0.008781850847289463,-0.9180457281165039,0.47412369404173077,-0.10532171892297755,0.2070086751946101,-1.0589938038623496,-0.3779191235683671,-1.5744433122797798,0.7452721143225708,0.7581509110543578,0.07485718089118727,-0.04436685742092021,-0.759800143253267,-0.35391609529256424,-2.3617431351090055,-0.6483767563937891,0.26002751170471694,1.9183626557366242,0.3063867269665025,-0.08407929382196332,-1.449877291629573,-0.2698619158071707,-0.7050979351023239,-1.252366635476647,1.653863618946132,1.1369834039749638,-2.272328936999462,-0.03485277847896913,-0.6024265996130914,0.03179373260326402,-0.19793988096077825,-1.011207176923419,0.8485365362857987,0.9430030284940504,-0.10159401699747427,0.12490935760751115,1.7921833724809033,1.1625195299346869,-2.1989144770264555,0.19924588978433536,1.2454881662390647,0.1251432577646523,0.6661125875902174,0.49359363624877794,1.7219288280226204,-1.4380059480919973,-0.37094368989559345,0.5629999235878543,-0.12166387219752987,-2.7823298511494823,-0.3381909915204133,0.2714349672213005,1.3308085317888525,1.7877776836929355,1.563684738172308,-1.2761521881747013,-0.9153687893997655,-0.25900254837781356,0.1937181399696267,-0.12344327862652262,0.4835178155486557,0.26891915475477773,-0.05290909394018002,0.26012137124031554,-0.5316888823832446,1.5554633923617458,-0.3118465956268729,0.87253993443661,0.46728572223820963,0.3718822527421981,0.7865099315660433,1.788345546768797,2.0948294490115624,-0.3684845541073391,0.4413130667685449,1.2517200930134789,0.8009980649383748,1.134327659014812,1.3796464684646825,0.01239821307124378,1.1197090331456885,-0.33739087474887797,0.3772206438184716,0.9710657065269724,0.15662191947552478,-0.5953058897723672,1.9595637624642317,0.843335692892303,1.1483172646800939,-0.060897456743874666,2.174910553952978,-0.010757253562014351,-0.5422664106113053,1.1041720477961172,-1.070279438287883,1.583172710119009,0.4638681500484913,-1.442178323951647,-0.8099897929162682,0.06932613477679724,0.33584964110786,0.095008521793833,-1.8723107447351846,-0.5188585978838413,0.8356618166063239,0.34270213442692715,0.7031869076060246,0.03423441460237612,0.38397094486510797,0.20847422377011823,-1.172289887468621,-0.11212163697604977,0.7121835802388363,0.6903571261256272,-0.12803013819582829,1.8021883400951804,-0.25394861043239464,-1.5988138921446164,1.681387510827098,0.018626707088395835,-0.0015047038988442328,-0.04061022316006539,1.1482294784855591,0.238572850147305,-0.6129591426302342,-0.7291547576862734,1.724790366011329,-1.0574141473910492,0.1858965695534601,-0.040229528819146564,1.0978650806775023,0.6417542643398809,0.011803214317976964,1.3678897571648438,-0.43974075699485876,-0.7005016943272088,-0.44056374654976566,2.3824504609747934,0.7231169282510465,0.37972899802661586,0.045922335357339,0.9060807193295838,-0.5450931811122031,0.047370035647206314,0.4914250032044693,0.5047008322635705,0.9343518612035309,-2.0281206889808265,-0.14855152292909446,2.2964118903704045,-2.5850099963623547,-0.19833552774411478,-1.0789545825011562,0.6556775244777263,-0.2790341884371595,0.657072593305377,0.9381568791832302,0.7191506973614646,0.06830445992580442,0.6882105440384065,-0.4525027546096922,-0.7141367040426447,-1.8075692329390076,-1.0550745946319233,1.2640603301499969,-1.6265954460750804,-0.14826392998777874,-0.34266060573049684,0.25366401208570216,-2.5699867105588194,-0.9140291067058117,-0.6197293421439521,0.7995186947463927,0.2771337630546764,1.2526981983691983,0.09132889483123609,-0.3910776693068882,0.506264964057752,-0.21453249947724673,0.6423421707498607,0.10448494725129888,0.38538117306500763,0.07197451177225478,1.1828527979541636,0.5906350943984766,2.3309212431688007,0.1428441985761728,-0.6626401898754096,0.027861867584882676,-0.7098409265859638,-1.3851882133762812,0.7703483540640838,1.6089737768860426,0.9282217048051152,-0.0010958751772570583,-0.564266990437303,0.21249952423936455,-1.9797349764824665,-0.34017546706314444,1.2099075270710362,0.19796059688657186,0.2631867322638173,-0.5344348553400684,0.12286176984338355,-0.5739841847892929,-0.44664825403716124,0.23922681670368925,-0.13977117880275172,-0.1170148814203246,0.5600179009707899,-0.04697865619246102,0.5315824943724689,1.3844990727232125,0.06552329020329677,0.5885389847134788,0.3699836517131205,1.7789402444626796,-0.7383701609828186,0.788654644430142,0.3419674750914219,-2.13051414872604,0.07559057324646568,-1.3811846444955942,0.6393488835472674,0.32553645616679644,-0.17756840684521888,0.031662404372134495,-0.8019578344493982,0.5465756296192391,0.3586649933215843,-1.0038073658867268,0.8201502525568573,1.1567240889947183,0.41937462893945787,-1.1665532675084835,0.695335942502806,-0.005095502790639753,-0.5776792934622371,1.0678307178843778,1.0817366593158309,-0.30936587786150366,0.39573184095827413,-1.5996221227569385,-0.6596422190387775,0.006873219452288623,0.8196559071971674,2.3603560750678754,-0.2962412263379204,-0.8820501454803243,-1.0495985173905504,1.3065851365343755,0.7058063870878679,1.7956517459000978,-0.5654883701918633,1.7185892321465461,-1.0571320082680729,-0.7562943285997138,0.5833708113776737,-0.8056742882808656,-0.25466498880620153,-0.5944343202590343,0.09131814336055578,-0.28659268971266105,0.4399189626373175,0.2767175960554724,0.9019034210681544,-0.7745577951591841,-0.8400329003901478,-0.5392327725720153,-1.423981080064137,0.7531991148763663,0.3047328771163901,-1.1632611583369143,1.548139920937568,-0.38078328760761593,-0.4872393632527051,1.7226889280717879,-0.7055304959335098,-1.080215808863505,-1.2448635764221148,-0.5513503914112016,0.2896870915957522,0.7754549410393604,0.7513763623164065,0.337846602358495,0.8024931781290858,0.054838263799909276,-0.6128629820882101,-0.6215066999367532,0.10860854051661216,0.4111385556675905,0.15659708529146169,0.13117796176150287,1.7741624101339333,-0.8860696428158616,-0.46023445346117015,-0.050058595540364015,0.9397866531968568,1.5486792737626125,0.22252110581088697,0.25060107693018135,0.27943327264695383,-0.6999887130026995,0.9156203253885025,0.6213522309859243,0.3290510114495622,-0.08638991314702278,0.021242632803968823,0.48121884042381957,1.365098313582285,0.2944521495987768,-0.9028174841335059,-1.346517031891433,0.7010728961026464,-0.755013040497598,0.13623498935701991,0.6351510308153695,1.0170152042868774,-0.9450770808579891,1.2115983114720323,-0.8813094125947193,0.7915744964267842,0.18414166569195756,0.0830850058405749,-0.294185339568948,-1.7372777166087925,0.9033405343446287,-2.587282511772158,1.703998432847193,-0.030742285324982035,-0.9129423388525371,-0.02992018625927012,0.02704071904790295,-1.2834810728673682,-0.6876791286399877,0.07254356005947309,-0.6158656094716195,0.7270628173514023,0.17173544647630393,-2.604929864469067,0.9393958986381847,-0.9825358868737134,-1.1628359855823196,1.44198478300721,1.174792981312312,1.3205596006320415,-0.9726564305716681,0.6423730727332756,-0.32569888615662457,1.2932400113233806,-0.5034771932446709,1.761254334627507,0.03442038693015328,1.2694220738994402,0.4117388132037265,-0.7086522669270539,1.0719653619844525,-0.45040735339656707,-1.3340616082848131,-0.5284295863009325,0.6269381560377177,-1.1064579912770622,0.9065186231166446,-0.27826215371739527,0.9414113393228298,-0.3676558393948862,0.3487766695514831,0.28356719477589154,-1.1940862624216313,-2.124274132879873,-1.4778775604916734,2.0756040475223374,-0.14722723901590443,3.0938950784094366,0.07642118146403519,1.6994465603000568,1.4762173091340651,-0.3141429853956622,3.184660204761386,1.0004822303540555,0.05243358568243637,0.7264852290161891,1.3149618298087637,1.419879272978053,-0.42460655144317516,-0.5619282901142856,1.5817975019010722,-0.7564563033234919,-0.65796912031612,0.7013174082111624,-1.3106022461041442,0.4113042106327036,-0.8690548002294843,-0.07591168591454465,-0.25585461687113703,0.2853926285893726,1.1123452818858013,-0.0339299066668921,-0.6910705257017736,0.6822625205154529,-0.13923083246232812,-0.0988789092750425,-0.4271773484446654,-2.5576853071337053,-0.15419555735346435,0.5728214775001926,1.818369835406782,-0.6804023313555626,0.5516613400497601,-0.7098159098260358,0.797036524114333,0.4030188824262426,-0.2276163252104381,-0.9775115027207817,-1.240442280669823,-0.5382677595724321,-0.528834159524125,2.039113088473808,0.48143655375924194,-0.7861708460965485,-0.9671018980688547,-0.02193653482569735,-0.6818339526524939,-1.986240176887465,-0.8956928434468687,-0.11333812353862842,-0.5344502365654501,-0.19017810492513693,0.20142845732659806,-0.7124696961586641,-1.053865154321792,2.152751577134435,2.096935825702748,-0.46784325779201846,-0.38330850412905665,2.126775362968011,-0.6814568215124176,0.27799720042907794,2.311736837714428,-0.6944994014508787,0.6042915600669608,0.24315004548651784,-0.4067500504419696,-0.16543514801688528,1.5345025166248523,-1.878983978952151,-1.670467254106363,-0.11296704257579339,0.08134928850847765,-0.14709354125494542,-0.9714753530009177,0.40868342913616884,0.0030142186030410485,0.8688570116112779,0.38346988828909473,0.12284820665443177,0.5297792363147399,-0.4619279779885241,-0.3447127708711428,-0.8264727606081362,0.1896801845910679,0.08572175671526783,-1.2953033225252422,0.8486783059950497,-0.16346788783843025,-0.782499914926442,1.3253106561864145,-1.135854960267114,-1.3873009423971987,-1.274114076860828,-0.2139964180633235,-1.1107520986170463,-0.11045530373035446,0.45308935217175506,1.0622421655008314,-1.2183691815417015,-2.703676397799172,1.0030440309620572,1.782258120177857,0.03392256705624396,0.3426417038424094,1.2069174237565388,-0.04621797654958395,-0.6613519797077863,0.8499604108276276,1.3893191399279117,-0.6644479518021916,0.39654777683356685,2.1722087589906875,0.9282324488050853,0.7483210344836861,0.7234864330456138,-0.445003904583748,0.20731236824172544,-1.2424824950534115,-1.043663170429416,-1.7309693530070533,-0.48305055899436894,-0.4195769246978301,0.3326205348066345,-0.8820750548228904,-0.772609337697643,0.7814789868074019,0.8424538592801509,0.9129886798159609,0.36427125946623395,1.8440970803343244,-2.1757826513912426,0.1383184536873098,0.4186366266202435,-1.9627062231131205,0.6678320838388812,0.8425401723986196,1.0495538773482824,-1.594181847670222,0.27943479992218084,2.516066506644716,1.524431484937678,-0.8945629842495036,0.17789552599781333,0.561772655562177,-0.4662938301402284,0.4889735037976126,-0.18945046117335287,0.759007223127116,-1.3771187075494564,-0.16954954664669458,-0.051551608484597555,0.023628159081376308,-0.7241010970177774,0.8494949532386248,-1.0319715444173523,-1.2065900905205578,-0.5625540020549472,0.6422697786001936,-0.4994052346407834,0.06479043484831491,1.067535181618709,0.6918335431125192,-1.4606459748351786,0.7089570838960223,1.9755718470092067,0.10462527967933888,-0.3064820427154778,1.141393050955836,-0.6710590749388994,-0.14586661061278025,0.2499309775476451,-0.2626132276401945,-0.21981935455160878,1.3270271634713977,-0.9684269125195185,1.0108900763911568,0.7514579301762287,0.4275059359249194,0.24540055173081443,1.572095063925289,0.6212492050131968,1.1281887713994556,-0.2192505625650834,-1.267153106899342,-0.10669604620419978,-1.892586271634826,-1.410033974346931,0.7123855736719596,0.669926481293694,0.2055813949773345,-1.3159363964537238,1.0812634825234442,0.668806174308215,1.1587325781428535,1.7289332944851032,-2.655629981259504,1.6440369787909115,-2.309350988545688,0.9795282365098076,0.525753496302072,-1.2933641702750878,-0.20654970652790186,-1.0649984532684469,1.4057066081687055,-2.0426251716272663,-0.860559507855782,-1.016352126619623,-0.9530057185580593,-0.1596210429080565,-0.019165227448683996,0.15599479717531192,0.6775530807150488,-0.163503306997122,-1.6162265214133131,1.739938440755698,-0.29539658300089694,0.589054643269933,0.9959216800531637,-0.06636764657647735,-1.6731220307068377,0.6449766314733822,0.5618169095476483,-0.14251962515425307,0.36126542450822247,-1.235865100533111,0.6185311138799324,-0.3989493485210833,-1.6111598426887161,1.186815804303857,1.0001595120870326,1.7255697953289397,0.6005803687316089,0.6673559772927433,0.18229355902763764,-1.9473930534274762,-0.43917294682261754,-1.7033541037567081,1.0724244344963083,-0.5786035417330524,-1.4123422747084804,0.2979290344755107,-0.041091374457187316,0.46578262008642807,0.15475121652973212,0.3078951615201732,3.034676465601788,0.13138847685652377,-1.258711134337139,-1.841667997709259,-1.3258656460221658,-0.11402747606602844,-1.326702811169871,1.0498449537371946,1.400961756752816,0.1316083555090818,-1.0018342565025102,-0.7824565297974092,-0.9269485596666864,0.8303547670275204,-1.054787178889987,0.038846758998140295,-0.051106407696222295,0.17467944098423005,-1.7854035168227205,-0.8482797390823998,-0.055993424537047885,-0.8022566908106838,-2.520029242803328,-0.5543463984432714,-0.4517603967017978,-1.9147073501997822,1.0410685206391923,1.9950475453748988,-0.0708289503817176,-0.6503270245408868,-0.39748592677306716,1.2695295284044033,0.4363198749473497,-0.2401129665249516,-0.32654522943469894,1.3716492788849937,0.17650919899089793,0.03156484975254922,-0.21574203867433564,1.3436808421098898,-1.5575145558148498,-0.49251766023527904,0.439871946836782,1.5250352757167134,0.6140741881134726,-0.636881013816751,-0.4455353323813057,0.9128617697025868,-1.298025665038341,0.5492256752546216,0.5365028270116676,-0.45039937306327915,0.4052129533241261,-0.029210268103999,1.3458688615086358,-0.1851749343603538,1.5164080877627686,-0.310816748676473,-0.2023216731259157,-1.1427961383957725,-1.0819868741632765,-1.157176046084087,-0.21721385859232673,-0.7621903522888166,-0.5160425982406349,0.28360499703724035,1.1101342829889773,1.0933558218794124,-1.5761195880599268,-0.46074789037784947,-0.22977838394100053,1.6088208066300664,0.38070272143107164,-0.13567027678001142,-0.6408777221140651,-0.7191590874034667,0.161390801367617,0.4181421488975909,-0.8612865039665041,-1.2505808584830396,-0.04367677711389493,-0.19501736013607163,-1.9112802846796741,-0.14854249156996155,0.4179329281549356,0.8249354124639812,0.7292140999114373,-0.6746968581165406,-0.34421208329565733,-0.15844058253015536,-0.4322181773719565,0.13337438579030075,0.6950784632408946,-0.5808599704056758,-0.7404557528548387,-0.37432352410930303,1.483169377532571,-0.3902544513635037,-0.9328571919505295,1.570653936777682,-0.4535165603592992,-1.0881928791716104,2.5026978469654555,0.7223582361925134,-0.9997786369556559,-0.2582709833072433,-0.32257957020826306,0.8748671756831611,0.48160600469718523,1.8522079301031007,-1.1985303936802494,-1.3686916724442997,-1.5181582329706396,0.527973308733508,0.2270165418580246,-1.0900858773400657,-0.28113925468964995,0.5917920032264079,-1.2889293063383829,0.6533696903484781,1.3277655284847902,-0.19841742443110288,0.981913696023407,-0.530260384075822,-0.5269779042453956,-1.1764713968004035,-1.5784712310804614,0.29544331587538974,-1.1001632698456614,-0.005332379352580969,-1.150878923902021,2.0565160777486935,-1.2931643977922465,-0.009736324721260183,0.3083521467275503,-0.7129448699718066,0.007707359501879469,0.3790916484796668,0.31131366255529946,-1.3930324073308902,-0.569347974116477,0.9526221817599931,-0.019150284893384717,0.6806959788435062,-0.534009895128373,-0.17349463290461636,-0.010704187318665246,-1.3040592592488,-0.2924566383167752,-0.13888087928211731,0.2748989734629411,-0.13646618992588355,1.2102136406615804,0.3905905744285742,0.9665848894227385,0.6122039760663109,1.1278618174653023,0.30907496331802586,0.320305943068268,0.3599591693357128,0.45048327431497087,-0.7888876946799036,-0.03292274462557335,-0.043141014176413084,-0.7299168258297005,-0.023475667399741128,-0.3813658442383168,1.0893596613637369,0.9997462092730195,0.7024452059715183,-0.7384278433102164,0.9485617643766738,0.15787196215840626,-0.42546725999716156,0.45565806252382884,-1.5172325008484617,-0.5408004123066086,-2.53993429281229,0.1710534267826418,-0.7561224213360938,0.19297481637078118,-1.537289891505789,-0.6558445925973236,0.14597227184091685,-0.4149239872846642,1.226650298399365,0.2867704642935247,-1.5440721393712042,-0.6460100614383765,0.5191141302270842,-0.7493488586567246,0.825171918448047,0.2180500794111058,1.434743281346651,1.396934069460765,0.6543211847145958,0.10883315877723305,0.4046546433516667,-0.2547567609688062,-0.36012141431824024,0.4438394194790601,1.1417887781319682,0.6955918328470443,0.4989617510396067,-0.5263096455804321,-0.37708890250071886,0.709351467579628,1.586310873086937,0.7910521682971071,0.6354027774082726,-0.6901283982900014,0.134820142341747,-0.8318681144226283],\"type\":\"scatter\"}],                        {\"template\":{\"data\":{\"histogram2dcontour\":[{\"type\":\"histogram2dcontour\",\"colorbar\":{\"outlinewidth\":0,\"ticks\":\"\"},\"colorscale\":[[0.0,\"#0d0887\"],[0.1111111111111111,\"#46039f\"],[0.2222222222222222,\"#7201a8\"],[0.3333333333333333,\"#9c179e\"],[0.4444444444444444,\"#bd3786\"],[0.5555555555555556,\"#d8576b\"],[0.6666666666666666,\"#ed7953\"],[0.7777777777777778,\"#fb9f3a\"],[0.8888888888888888,\"#fdca26\"],[1.0,\"#f0f921\"]]}],\"choropleth\":[{\"type\":\"choropleth\",\"colorbar\":{\"outlinewidth\":0,\"ticks\":\"\"}}],\"histogram2d\":[{\"type\":\"histogram2d\",\"colorbar\":{\"outlinewidth\":0,\"ticks\":\"\"},\"colorscale\":[[0.0,\"#0d0887\"],[0.1111111111111111,\"#46039f\"],[0.2222222222222222,\"#7201a8\"],[0.3333333333333333,\"#9c179e\"],[0.4444444444444444,\"#bd3786\"],[0.5555555555555556,\"#d8576b\"],[0.6666666666666666,\"#ed7953\"],[0.7777777777777778,\"#fb9f3a\"],[0.8888888888888888,\"#fdca26\"],[1.0,\"#f0f921\"]]}],\"heatmap\":[{\"type\":\"heatmap\",\"colorbar\":{\"outlinewidth\":0,\"ticks\":\"\"},\"colorscale\":[[0.0,\"#0d0887\"],[0.1111111111111111,\"#46039f\"],[0.2222222222222222,\"#7201a8\"],[0.3333333333333333,\"#9c179e\"],[0.4444444444444444,\"#bd3786\"],[0.5555555555555556,\"#d8576b\"],[0.6666666666666666,\"#ed7953\"],[0.7777777777777778,\"#fb9f3a\"],[0.8888888888888888,\"#fdca26\"],[1.0,\"#f0f921\"]]}],\"heatmapgl\":[{\"type\":\"heatmapgl\",\"colorbar\":{\"outlinewidth\":0,\"ticks\":\"\"},\"colorscale\":[[0.0,\"#0d0887\"],[0.1111111111111111,\"#46039f\"],[0.2222222222222222,\"#7201a8\"],[0.3333333333333333,\"#9c179e\"],[0.4444444444444444,\"#bd3786\"],[0.5555555555555556,\"#d8576b\"],[0.6666666666666666,\"#ed7953\"],[0.7777777777777778,\"#fb9f3a\"],[0.8888888888888888,\"#fdca26\"],[1.0,\"#f0f921\"]]}],\"contourcarpet\":[{\"type\":\"contourcarpet\",\"colorbar\":{\"outlinewidth\":0,\"ticks\":\"\"}}],\"contour\":[{\"type\":\"contour\",\"colorbar\":{\"outlinewidth\":0,\"ticks\":\"\"},\"colorscale\":[[0.0,\"#0d0887\"],[0.1111111111111111,\"#46039f\"],[0.2222222222222222,\"#7201a8\"],[0.3333333333333333,\"#9c179e\"],[0.4444444444444444,\"#bd3786\"],[0.5555555555555556,\"#d8576b\"],[0.6666666666666666,\"#ed7953\"],[0.7777777777777778,\"#fb9f3a\"],[0.8888888888888888,\"#fdca26\"],[1.0,\"#f0f921\"]]}],\"surface\":[{\"type\":\"surface\",\"colorbar\":{\"outlinewidth\":0,\"ticks\":\"\"},\"colorscale\":[[0.0,\"#0d0887\"],[0.1111111111111111,\"#46039f\"],[0.2222222222222222,\"#7201a8\"],[0.3333333333333333,\"#9c179e\"],[0.4444444444444444,\"#bd3786\"],[0.5555555555555556,\"#d8576b\"],[0.6666666666666666,\"#ed7953\"],[0.7777777777777778,\"#fb9f3a\"],[0.8888888888888888,\"#fdca26\"],[1.0,\"#f0f921\"]]}],\"mesh3d\":[{\"type\":\"mesh3d\",\"colorbar\":{\"outlinewidth\":0,\"ticks\":\"\"}}],\"scatter\":[{\"fillpattern\":{\"fillmode\":\"overlay\",\"size\":10,\"solidity\":0.2},\"type\":\"scatter\"}],\"parcoords\":[{\"type\":\"parcoords\",\"line\":{\"colorbar\":{\"outlinewidth\":0,\"ticks\":\"\"}}}],\"scatterpolargl\":[{\"type\":\"scatterpolargl\",\"marker\":{\"colorbar\":{\"outlinewidth\":0,\"ticks\":\"\"}}}],\"bar\":[{\"error_x\":{\"color\":\"#2a3f5f\"},\"error_y\":{\"color\":\"#2a3f5f\"},\"marker\":{\"line\":{\"color\":\"#E5ECF6\",\"width\":0.5},\"pattern\":{\"fillmode\":\"overlay\",\"size\":10,\"solidity\":0.2}},\"type\":\"bar\"}],\"scattergeo\":[{\"type\":\"scattergeo\",\"marker\":{\"colorbar\":{\"outlinewidth\":0,\"ticks\":\"\"}}}],\"scatterpolar\":[{\"type\":\"scatterpolar\",\"marker\":{\"colorbar\":{\"outlinewidth\":0,\"ticks\":\"\"}}}],\"histogram\":[{\"marker\":{\"pattern\":{\"fillmode\":\"overlay\",\"size\":10,\"solidity\":0.2}},\"type\":\"histogram\"}],\"scattergl\":[{\"type\":\"scattergl\",\"marker\":{\"colorbar\":{\"outlinewidth\":0,\"ticks\":\"\"}}}],\"scatter3d\":[{\"type\":\"scatter3d\",\"line\":{\"colorbar\":{\"outlinewidth\":0,\"ticks\":\"\"}},\"marker\":{\"colorbar\":{\"outlinewidth\":0,\"ticks\":\"\"}}}],\"scattermapbox\":[{\"type\":\"scattermapbox\",\"marker\":{\"colorbar\":{\"outlinewidth\":0,\"ticks\":\"\"}}}],\"scatterternary\":[{\"type\":\"scatterternary\",\"marker\":{\"colorbar\":{\"outlinewidth\":0,\"ticks\":\"\"}}}],\"scattercarpet\":[{\"type\":\"scattercarpet\",\"marker\":{\"colorbar\":{\"outlinewidth\":0,\"ticks\":\"\"}}}],\"carpet\":[{\"aaxis\":{\"endlinecolor\":\"#2a3f5f\",\"gridcolor\":\"white\",\"linecolor\":\"white\",\"minorgridcolor\":\"white\",\"startlinecolor\":\"#2a3f5f\"},\"baxis\":{\"endlinecolor\":\"#2a3f5f\",\"gridcolor\":\"white\",\"linecolor\":\"white\",\"minorgridcolor\":\"white\",\"startlinecolor\":\"#2a3f5f\"},\"type\":\"carpet\"}],\"table\":[{\"cells\":{\"fill\":{\"color\":\"#EBF0F8\"},\"line\":{\"color\":\"white\"}},\"header\":{\"fill\":{\"color\":\"#C8D4E3\"},\"line\":{\"color\":\"white\"}},\"type\":\"table\"}],\"barpolar\":[{\"marker\":{\"line\":{\"color\":\"#E5ECF6\",\"width\":0.5},\"pattern\":{\"fillmode\":\"overlay\",\"size\":10,\"solidity\":0.2}},\"type\":\"barpolar\"}],\"pie\":[{\"automargin\":true,\"type\":\"pie\"}]},\"layout\":{\"autotypenumbers\":\"strict\",\"colorway\":[\"#636efa\",\"#EF553B\",\"#00cc96\",\"#ab63fa\",\"#FFA15A\",\"#19d3f3\",\"#FF6692\",\"#B6E880\",\"#FF97FF\",\"#FECB52\"],\"font\":{\"color\":\"#2a3f5f\"},\"hovermode\":\"closest\",\"hoverlabel\":{\"align\":\"left\"},\"paper_bgcolor\":\"white\",\"plot_bgcolor\":\"#E5ECF6\",\"polar\":{\"bgcolor\":\"#E5ECF6\",\"angularaxis\":{\"gridcolor\":\"white\",\"linecolor\":\"white\",\"ticks\":\"\"},\"radialaxis\":{\"gridcolor\":\"white\",\"linecolor\":\"white\",\"ticks\":\"\"}},\"ternary\":{\"bgcolor\":\"#E5ECF6\",\"aaxis\":{\"gridcolor\":\"white\",\"linecolor\":\"white\",\"ticks\":\"\"},\"baxis\":{\"gridcolor\":\"white\",\"linecolor\":\"white\",\"ticks\":\"\"},\"caxis\":{\"gridcolor\":\"white\",\"linecolor\":\"white\",\"ticks\":\"\"}},\"coloraxis\":{\"colorbar\":{\"outlinewidth\":0,\"ticks\":\"\"}},\"colorscale\":{\"sequential\":[[0.0,\"#0d0887\"],[0.1111111111111111,\"#46039f\"],[0.2222222222222222,\"#7201a8\"],[0.3333333333333333,\"#9c179e\"],[0.4444444444444444,\"#bd3786\"],[0.5555555555555556,\"#d8576b\"],[0.6666666666666666,\"#ed7953\"],[0.7777777777777778,\"#fb9f3a\"],[0.8888888888888888,\"#fdca26\"],[1.0,\"#f0f921\"]],\"sequentialminus\":[[0.0,\"#0d0887\"],[0.1111111111111111,\"#46039f\"],[0.2222222222222222,\"#7201a8\"],[0.3333333333333333,\"#9c179e\"],[0.4444444444444444,\"#bd3786\"],[0.5555555555555556,\"#d8576b\"],[0.6666666666666666,\"#ed7953\"],[0.7777777777777778,\"#fb9f3a\"],[0.8888888888888888,\"#fdca26\"],[1.0,\"#f0f921\"]],\"diverging\":[[0,\"#8e0152\"],[0.1,\"#c51b7d\"],[0.2,\"#de77ae\"],[0.3,\"#f1b6da\"],[0.4,\"#fde0ef\"],[0.5,\"#f7f7f7\"],[0.6,\"#e6f5d0\"],[0.7,\"#b8e186\"],[0.8,\"#7fbc41\"],[0.9,\"#4d9221\"],[1,\"#276419\"]]},\"xaxis\":{\"gridcolor\":\"white\",\"linecolor\":\"white\",\"ticks\":\"\",\"title\":{\"standoff\":15},\"zerolinecolor\":\"white\",\"automargin\":true,\"zerolinewidth\":2},\"yaxis\":{\"gridcolor\":\"white\",\"linecolor\":\"white\",\"ticks\":\"\",\"title\":{\"standoff\":15},\"zerolinecolor\":\"white\",\"automargin\":true,\"zerolinewidth\":2},\"scene\":{\"xaxis\":{\"backgroundcolor\":\"#E5ECF6\",\"gridcolor\":\"white\",\"linecolor\":\"white\",\"showbackground\":true,\"ticks\":\"\",\"zerolinecolor\":\"white\",\"gridwidth\":2},\"yaxis\":{\"backgroundcolor\":\"#E5ECF6\",\"gridcolor\":\"white\",\"linecolor\":\"white\",\"showbackground\":true,\"ticks\":\"\",\"zerolinecolor\":\"white\",\"gridwidth\":2},\"zaxis\":{\"backgroundcolor\":\"#E5ECF6\",\"gridcolor\":\"white\",\"linecolor\":\"white\",\"showbackground\":true,\"ticks\":\"\",\"zerolinecolor\":\"white\",\"gridwidth\":2}},\"shapedefaults\":{\"line\":{\"color\":\"#2a3f5f\"}},\"annotationdefaults\":{\"arrowcolor\":\"#2a3f5f\",\"arrowhead\":0,\"arrowwidth\":1},\"geo\":{\"bgcolor\":\"white\",\"landcolor\":\"#E5ECF6\",\"subunitcolor\":\"white\",\"showland\":true,\"showlakes\":true,\"lakecolor\":\"white\"},\"title\":{\"x\":0.05},\"mapbox\":{\"style\":\"light\"}}},\"title\":{\"text\":\"2D random sample with no correlation\"}},                        {\"responsive\": true}                    ).then(function(){\n",
       "                            \n",
       "var gd = document.getElementById('c5e4997f-c936-449c-8138-971b87e820e0');\n",
       "var x = new MutationObserver(function (mutations, observer) {{\n",
       "        var display = window.getComputedStyle(gd).display;\n",
       "        if (!display || display === 'none') {{\n",
       "            console.log([gd, 'removed!']);\n",
       "            Plotly.purge(gd);\n",
       "            observer.disconnect();\n",
       "        }}\n",
       "}});\n",
       "\n",
       "// Listen for the removal of the full notebook cells\n",
       "var notebookContainer = gd.closest('#notebook-container');\n",
       "if (notebookContainer) {{\n",
       "    x.observe(notebookContainer, {childList: true});\n",
       "}}\n",
       "\n",
       "// Listen for the clearing of the current output cell\n",
       "var outputEl = gd.closest('.output');\n",
       "if (outputEl) {{\n",
       "    x.observe(outputEl, {childList: true});\n",
       "}}\n",
       "\n",
       "                        })                };                });            </script>        </div>"
      ]
     },
     "metadata": {},
     "output_type": "display_data"
    },
    {
     "data": {
      "application/javascript": [
       "\n",
       "            setTimeout(function() {\n",
       "                var nbb_cell_id = 16;\n",
       "                var nbb_unformatted_code = \"go_scatter(xs, ys, '2D random sample with no correlation')\";\n",
       "                var nbb_formatted_code = \"go_scatter(xs, ys, \\\"2D random sample with no correlation\\\")\";\n",
       "                var nbb_cells = Jupyter.notebook.get_cells();\n",
       "                for (var i = 0; i < nbb_cells.length; ++i) {\n",
       "                    if (nbb_cells[i].input_prompt_number == nbb_cell_id) {\n",
       "                        if (nbb_cells[i].get_text() == nbb_unformatted_code) {\n",
       "                             nbb_cells[i].set_text(nbb_formatted_code);\n",
       "                        }\n",
       "                        break;\n",
       "                    }\n",
       "                }\n",
       "            }, 500);\n",
       "            "
      ],
      "text/plain": [
       "<IPython.core.display.Javascript object>"
      ]
     },
     "metadata": {},
     "output_type": "display_data"
    }
   ],
   "source": [
    "go_scatter(xs, ys, \"2D random sample with no correlation\")"
   ]
  },
  {
   "cell_type": "markdown",
   "id": "1328ce5f",
   "metadata": {
    "heading_collapsed": true,
    "hidden": true
   },
   "source": [
    "## Correlated 2D random samples"
   ]
  },
  {
   "cell_type": "code",
   "execution_count": 24,
   "id": "4bf5cfd4",
   "metadata": {
    "hidden": true
   },
   "outputs": [
    {
     "data": {
      "application/javascript": [
       "\n",
       "            setTimeout(function() {\n",
       "                var nbb_cell_id = 24;\n",
       "                var nbb_unformatted_code = \"def get_corr_cov():\\n    # Generate independent random normal numbers...\\n    somex = np.random.normal(0, 1, 1000)\\n    somey = np.random.normal(0, 1, 1000)\\n    # Create correlated variables from the 2 independent random variables\\n    corx = 2 * somex + 3 * somey\\n    cory = 5 * somex + 2 * somey\\n    return np.cov(corx, cory)\";\n",
       "                var nbb_formatted_code = \"def get_corr_cov():\\n    # Generate independent random normal numbers...\\n    somex = np.random.normal(0, 1, 1000)\\n    somey = np.random.normal(0, 1, 1000)\\n    # Create correlated variables from the 2 independent random variables\\n    corx = 2 * somex + 3 * somey\\n    cory = 5 * somex + 2 * somey\\n    return np.cov(corx, cory)\";\n",
       "                var nbb_cells = Jupyter.notebook.get_cells();\n",
       "                for (var i = 0; i < nbb_cells.length; ++i) {\n",
       "                    if (nbb_cells[i].input_prompt_number == nbb_cell_id) {\n",
       "                        if (nbb_cells[i].get_text() == nbb_unformatted_code) {\n",
       "                             nbb_cells[i].set_text(nbb_formatted_code);\n",
       "                        }\n",
       "                        break;\n",
       "                    }\n",
       "                }\n",
       "            }, 500);\n",
       "            "
      ],
      "text/plain": [
       "<IPython.core.display.Javascript object>"
      ]
     },
     "metadata": {},
     "output_type": "display_data"
    }
   ],
   "source": [
    "def get_corr_cov():\n",
    "    # Generate independent random normal numbers...\n",
    "    somex = np.random.normal(0, 1, 1000)\n",
    "    somey = np.random.normal(0, 1, 1000)\n",
    "    # Create correlated variables from the 2 independent random variables\n",
    "    corx = 2 * somex + 3 * somey\n",
    "    cory = 5 * somex + 2 * somey\n",
    "    return np.cov(corx, cory)"
   ]
  },
  {
   "cell_type": "code",
   "execution_count": 25,
   "id": "8ca371ee",
   "metadata": {
    "hidden": true
   },
   "outputs": [
    {
     "data": {
      "text/plain": [
       "array([[13.16320429, 16.0789857 ],\n",
       "       [16.0789857 , 28.26308702]])"
      ]
     },
     "execution_count": 25,
     "metadata": {},
     "output_type": "execute_result"
    },
    {
     "data": {
      "application/javascript": [
       "\n",
       "            setTimeout(function() {\n",
       "                var nbb_cell_id = 25;\n",
       "                var nbb_unformatted_code = \"cov_matrix = get_corr_cov()\\ncov_matrix\";\n",
       "                var nbb_formatted_code = \"cov_matrix = get_corr_cov()\\ncov_matrix\";\n",
       "                var nbb_cells = Jupyter.notebook.get_cells();\n",
       "                for (var i = 0; i < nbb_cells.length; ++i) {\n",
       "                    if (nbb_cells[i].input_prompt_number == nbb_cell_id) {\n",
       "                        if (nbb_cells[i].get_text() == nbb_unformatted_code) {\n",
       "                             nbb_cells[i].set_text(nbb_formatted_code);\n",
       "                        }\n",
       "                        break;\n",
       "                    }\n",
       "                }\n",
       "            }, 500);\n",
       "            "
      ],
      "text/plain": [
       "<IPython.core.display.Javascript object>"
      ]
     },
     "metadata": {},
     "output_type": "display_data"
    }
   ],
   "source": [
    "cov_matrix = get_corr_cov()\n",
    "cov_matrix"
   ]
  },
  {
   "cell_type": "code",
   "execution_count": 26,
   "id": "7fb0680d",
   "metadata": {
    "hidden": true
   },
   "outputs": [
    {
     "data": {
      "application/javascript": [
       "\n",
       "            setTimeout(function() {\n",
       "                var nbb_cell_id = 26;\n",
       "                var nbb_unformatted_code = \"xs_c, ys_c = make_xs_ys(cov_matrix)\";\n",
       "                var nbb_formatted_code = \"xs_c, ys_c = make_xs_ys(cov_matrix)\";\n",
       "                var nbb_cells = Jupyter.notebook.get_cells();\n",
       "                for (var i = 0; i < nbb_cells.length; ++i) {\n",
       "                    if (nbb_cells[i].input_prompt_number == nbb_cell_id) {\n",
       "                        if (nbb_cells[i].get_text() == nbb_unformatted_code) {\n",
       "                             nbb_cells[i].set_text(nbb_formatted_code);\n",
       "                        }\n",
       "                        break;\n",
       "                    }\n",
       "                }\n",
       "            }, 500);\n",
       "            "
      ],
      "text/plain": [
       "<IPython.core.display.Javascript object>"
      ]
     },
     "metadata": {},
     "output_type": "display_data"
    }
   ],
   "source": [
    "xs_c, ys_c = make_xs_ys(cov_matrix)"
   ]
  },
  {
   "cell_type": "code",
   "execution_count": 31,
   "id": "42707cbb",
   "metadata": {
    "hidden": true
   },
   "outputs": [
    {
     "data": {
      "application/vnd.plotly.v1+json": {
       "config": {
        "plotlyServerURL": "https://plot.ly"
       },
       "data": [
        {
         "mode": "markers",
         "type": "scatter",
         "x": [
          2.4806528428621446,
          -4.026250305018954,
          2.52538120223729,
          0.4429830744867893,
          -2.9184624077331884,
          -1.8777023186732495,
          1.6143842875445849,
          -6.230796842525783,
          -6.366231945033293,
          7.473784548337767,
          -2.5746310469032876,
          -1.1987692892535287,
          1.8807626984092525,
          2.246235490165059,
          -1.7538357492607999,
          1.9929357144430893,
          -1.542703013092264,
          -7.926780376439496,
          0.04052923429593469,
          -6.658105825275193,
          2.2019670081705285,
          0.9199592742598237,
          0.2662116833623063,
          4.087935542360331,
          -0.19980465916868934,
          2.3427301213388114,
          3.4017162022995096,
          4.917510096168026,
          -3.6006742140067227,
          1.0278825921764345,
          -0.6362179084310994,
          4.8403417659559,
          -2.3493893834515003,
          -1.2012471457606178,
          6.7414916197347186,
          -1.0382499867626929,
          -1.9864711339670982,
          -1.9044398038790626,
          -0.7848157579771686,
          3.0619264251763516,
          -0.06988724713084848,
          -1.881787121279854,
          1.7722988661202796,
          5.09059729282764,
          -2.6221934746045,
          6.132150540553646,
          0.09480094981487647,
          -2.674404113310362,
          -3.5024324625060848,
          -3.1615912745196666,
          3.4221127194349616,
          1.0981109156289774,
          -4.908539797047816,
          -2.117193307353312,
          0.45760014556885986,
          2.2447037385344846,
          -1.242918308718684,
          2.233200544363245,
          6.194997453285886,
          3.4314720026426935,
          -2.292707483865265,
          3.506876939086851,
          0.9679547789670929,
          -5.690219847519007,
          0.24792136490173977,
          2.8256740925514503,
          3.8856182094017613,
          6.005361623852687,
          -1.5381670042784081,
          1.2694560722374413,
          2.35420121425953,
          5.325945044123784,
          3.9872225112734494,
          -0.007039355509131262,
          -2.612455626905924,
          -0.045015186815140495,
          -5.110531474789594,
          0.014098321964261973,
          4.874616093963173,
          -0.963227458607737,
          0.7091567437574238,
          -5.461842727478606,
          -9.76167344326813,
          -4.6911166238708635,
          -1.611216010339306,
          -0.3993476577488557,
          -2.3026885192867717,
          -0.7572384623762134,
          -2.3699458837063565,
          -0.9662618821150166,
          1.767546642666962,
          2.0475336961471693,
          1.0038632887832877,
          -0.33671410265512014,
          -0.7375596516992454,
          -2.6761483726930497,
          -2.0785768101928204,
          4.423492573364993,
          10.616602968498858,
          -6.511474731182755,
          -7.081995561371633,
          -1.8421684278193595,
          4.276454775923729,
          0.5544776147497732,
          -1.1413289492461742,
          4.286629779713201,
          -3.3415654754864237,
          1.9692541841088609,
          -0.6299762505127806,
          1.627863146543456,
          -3.8859820220136334,
          -7.174189629541738,
          8.565602833557122,
          -0.6121728770942807,
          4.582290267503826,
          -1.3401826668242203,
          2.06461936806883,
          -1.8464369735008779,
          -1.2381834844196284,
          3.78639992964748,
          -3.1020994753557676,
          6.589028974155242,
          8.488165057037415,
          1.1330197788180358,
          1.1726338264514187,
          1.901964535218275,
          5.655237917411176,
          2.905642005170218,
          -1.5508428337303255,
          1.5000036722460575,
          -5.543387904895679,
          -4.324771999959362,
          -1.9525675467174075,
          5.302261397054634,
          1.7745882592813822,
          -3.6673459224847496,
          1.96734046415153,
          1.2310325797941912,
          -2.7597335157257357,
          3.1548550491415424,
          0.8259572439172381,
          9.194564469058381,
          -7.08311295028215,
          4.034468901424445,
          4.181266195127273,
          -1.5387654888162043,
          -3.6038905182909504,
          2.399550092509668,
          -5.279754149612495,
          6.487774714521406,
          1.8748715897670776,
          1.3606559369628826,
          -0.8815966824250294,
          -5.108894874023186,
          3.4738047193198485,
          2.2712412155241983,
          -2.301596317220725,
          2.1116973112735162,
          4.438359091979864,
          0.2867454846198986,
          -1.2870495932594317,
          3.0453646267671037,
          5.744164648654655,
          0.4631113694175837,
          2.9608984334436768,
          1.4460859388131033,
          2.349259803195883,
          2.512990907738721,
          -2.124911145987901,
          -1.0145185420081242,
          -1.1323466731352847,
          5.016705292492869,
          8.553197492231698,
          -10.066901460773687,
          0.9125041532856524,
          2.7769681194206095,
          2.247437455399326,
          3.4605448112750583,
          -5.54808837478215,
          1.529872740024314,
          0.5300080829816639,
          -2.891312289700831,
          -2.898454561747311,
          4.271758359285582,
          -2.6810048225607073,
          -1.6690161115768463,
          -4.041331141993345,
          4.00144307862508,
          10.889820972097631,
          -4.499194606078019,
          0.034908637608671134,
          2.6232953721463086,
          -2.883641625590398,
          0.11183239711692416,
          6.542772966721402,
          0.21784199718551778,
          -4.11553616923101,
          -0.6298058702950995,
          -4.664277487066349,
          -1.5096384280006794,
          4.05856017705247,
          2.645773816403279,
          -4.07116335049913,
          -3.92197481049383,
          2.9909305704556046,
          7.250825553000191,
          -3.9904223970140187,
          6.124903866973826,
          -4.869469797550228,
          3.3114008928259104,
          -1.2040696562485276,
          6.168230021554632,
          -1.390099485739377,
          -11.70838972616762,
          1.9085391039792354,
          0.828278451564687,
          -4.671675828718956,
          0.4880692951293473,
          1.289744850507298,
          2.2587628776593913,
          1.7960721518983838,
          -0.3948936841938684,
          -2.427197596302768,
          2.5938924684675353,
          -3.350111520606475,
          2.9898780825308395,
          -1.4274620166562975,
          2.3497075516685992,
          3.696456103430941,
          1.6015683753493328,
          -2.010394026502714,
          -2.291415686223507,
          -5.910644632623775,
          -1.683535401940435,
          -3.7587240299903835,
          -1.5400581043887949,
          -2.1143726210289158,
          3.001273520921293,
          0.9972590610974124,
          2.4496321195895896,
          -1.995155759577826,
          2.837796986214598,
          6.0338542026155935,
          1.3245782839845535,
          0.7518619125056063,
          3.6594442378246486,
          -2.8601936544973907,
          -1.8446039162347507,
          -2.1306703528353834,
          -0.4084328450161179,
          2.3991540852949234,
          -3.2433202369785836,
          3.1507399950587196,
          1.6692623737581993,
          -0.4368708750345922,
          -1.9278559514959612,
          4.217212983890558,
          1.57653513913003,
          -1.6163589340836286,
          2.993937477228664,
          -0.9890076925872455,
          3.291304682917879,
          -5.011131155558241,
          0.43734158671253254,
          -0.11781512630707702,
          2.383837455817754,
          -4.1099205083788055,
          -4.812960019796333,
          -2.410453750592537,
          -4.253369871220026,
          0.37290156199737134,
          1.360449920128246,
          -0.4375480854962077,
          1.3145486470778565,
          -9.479956553497088,
          -5.961096502781336,
          -5.588624188422438,
          0.4204050464831499,
          -0.03162829317291538,
          0.20866042689845377,
          -1.3171502706303464,
          -4.654690476906493,
          2.9214494433687537,
          2.2375562807372265,
          1.823282127055693,
          1.3002116235738774,
          1.2199849779556093,
          2.9378958639725354,
          -2.22808051309522,
          -1.869538020035618,
          2.3878554937869,
          2.718484712141457,
          -4.68227486946156,
          -0.7372495786230635,
          0.42391008152680354,
          1.2399488855437673,
          -0.46919491730954604,
          1.4427243801700114,
          3.657378927077636,
          -3.7400685476624678,
          1.9288833025529817,
          -6.485065120459972,
          7.016825506850046,
          6.870866318125172,
          -7.027892919040239,
          1.635955809734365,
          -0.7053886289606515,
          0.2871921681869851,
          2.782124958923713,
          5.077751375783275,
          -2.6603160378572266,
          -8.079376122612507,
          -2.837701820058335,
          -6.914612916603912,
          6.404554883959792,
          2.1133025759718365,
          -2.689091996831057,
          -4.4413976847755166,
          4.497861837306978,
          3.1878066528258167,
          5.477863601571556,
          -5.648034952460431,
          -5.801899911034165,
          -7.6844946389804,
          1.1823637087416152,
          1.2850377788376715,
          -1.1529699406396208,
          -0.37189399587602956,
          0.7429736381840287,
          -3.2644779529539116,
          -0.7766879949916219,
          -5.7806992235192745,
          3.092905491343903,
          -0.6698046646429787,
          5.640710942398199,
          -4.926272957854373,
          -8.235569149433559,
          -5.79007678027152,
          -3.25649003695325,
          -5.822041791545146,
          6.69353253324681,
          1.376979723882239,
          -5.426861176413905,
          -4.464676718008429,
          -5.738087441136364,
          4.68513941017282,
          -5.920584027363108,
          -7.4311899449782,
          6.405390480274481,
          -3.373783706180963,
          -1.1045271504622434,
          -2.1430150043502336,
          -0.47141396073728015,
          7.0838237291164035,
          1.836368935875586,
          0.7819091064249882,
          2.6908676875435074,
          4.274688773840657,
          2.222274314117753,
          5.668294164837066,
          4.706862100636278,
          -1.5586536420005768,
          -3.103395688668769,
          -6.235187796259519,
          2.001443363635111,
          -1.1647829746213447,
          -2.7179441591123297,
          -3.117214659377645,
          -3.12017053494679,
          1.0723410484090312,
          2.816601237031561,
          -6.276354885959796,
          -5.698815741660944,
          -3.0776266871348255,
          -3.1966325718815365,
          -0.7438926761640179,
          2.0501787578897823,
          -5.351618590645358,
          -2.157994197217331,
          1.4309065150520928,
          5.042286207311812,
          -0.5376434351863719,
          0.7639374999439017,
          5.556582409859974,
          -6.813428494920396,
          4.514996847532891,
          -0.6259662040030609,
          -5.4188537298222945,
          -0.3591628357551543,
          -1.9968084432381712,
          -1.1438103489884144,
          5.133796930067916,
          -3.5412830020323867,
          5.902471377368231,
          2.8479457808094533,
          5.147981337479449,
          -0.4552651576940181,
          -3.2853034159831442,
          -5.454438726658497,
          -2.930669242945647,
          -2.8575281352597295,
          -2.2115686626425193,
          1.0786632079085323,
          1.8737012714316879,
          2.487680525016326,
          -1.883498461452092,
          -0.0013506932104645486,
          2.97537921313301,
          -3.5015082323948308,
          -1.310770980922448,
          -0.900913743608094,
          2.917228506553645,
          -1.7321965409590645,
          -0.08517490296418417,
          5.573019160086369,
          -4.650709590875664,
          1.33994008449103,
          4.471735956659603,
          -5.35734599026869,
          1.277927441232847,
          2.538224812758794,
          -3.932648105206131,
          2.088183401128628,
          3.6907850356659666,
          -0.6327949421582881,
          2.8392703504092127,
          0.3560330144245074,
          -2.3382560895065883,
          -0.29741719962901936,
          3.4159512373084793,
          -2.806773945589134,
          0.056249237617391756,
          -2.4873093752992745,
          7.507318855278237,
          -4.100324893009409,
          1.483616880957239,
          -4.164369553329944,
          1.2758265501965744,
          -1.1720458121214332,
          -1.1434790878118462,
          -1.1169280013102068,
          1.592689070152347,
          0.32368893461826276,
          2.904853859700792,
          -8.656024037358383,
          -1.0740171218345747,
          2.928214861823262,
          3.508221024656744,
          -1.2898227633004433,
          1.9325602558450985,
          4.017781109300357,
          -3.6776543067097585,
          -1.4566754073356063,
          2.9266902597153917,
          -2.30353066920516,
          -1.297418094102592,
          2.1821936163274667,
          -0.4696072895259098,
          0.7266176080091991,
          -2.5816015921078455,
          0.2890252545734156,
          -4.20819575193162,
          -3.7532861721777415,
          -3.926615113546884,
          0.6790306524655372,
          6.195229248355132,
          5.692842425573687,
          -4.710621206083142,
          3.6805260004147202,
          -1.86703025906047,
          -1.2371956806323727,
          -7.173798288215261,
          -3.2129288893951253,
          1.7189898904294096,
          -0.08069723574565968,
          -0.25073856469705613,
          0.9539430431462164,
          7.155919346102405,
          0.9565403816129755,
          -0.7894353703179687,
          3.469100597459262,
          -1.37454674125849,
          2.9328031349813313,
          1.1076829268995383,
          4.011711979500023,
          -3.5694323857007437,
          -4.726567527200015,
          -2.507845258258883,
          6.481253833646524,
          -0.29639494959030444,
          3.480742609986424,
          0.9124088123015093,
          2.396504486277384,
          1.4876895426976933,
          -2.1086175840623214,
          -0.9705349494530451,
          -0.05442472168550813,
          4.31068873349634,
          -3.329848662382675,
          2.7639734371032074,
          1.8451637914042571,
          -2.280763349245437,
          2.1309842756278523,
          1.3430804447263904,
          4.682948308525958,
          -3.9598062740091065,
          -3.2958455329639293,
          -0.7605104196989984,
          -2.531231349734661,
          2.5724886840098233,
          -6.24406397211745,
          -3.909998182590408,
          2.3110993408223406,
          -5.747034342946064,
          0.9494522088114175,
          -1.098463823366153,
          0.23811928969668728,
          4.132910522742972,
          -4.285092914451204,
          8.085311914199178,
          3.9426520175506674,
          -4.517171146692936,
          0.8248831880049081,
          -6.941143792252214,
          1.4865456773764687,
          -0.7398427556595049,
          -8.419586837765472,
          3.0373695766818747,
          -2.752697432159172,
          3.523662803736751,
          -0.7260569350406796,
          -0.6861386346568894,
          -2.665532892160155,
          3.704638787684749,
          -4.070561283247848,
          6.561413898108038,
          3.373230817595688,
          0.9028302484427551,
          -0.8708168012185213,
          -0.3521508424560993,
          -0.21141865812874694,
          -2.4764934039475097,
          -1.4847413269750136,
          9.217151878247213,
          -0.7670769607515545,
          -3.9070666066798707,
          -5.89736619750656,
          -4.092523949345611,
          -0.21220699233440865,
          -0.43763703172072843,
          -2.5184724387376085,
          -2.633329566331386,
          4.092087918738768,
          -2.622488290339749,
          -1.1336578291552248,
          2.199044641764205,
          -3.9772211116400733,
          0.7738799603879575,
          5.119972089255996,
          -6.543647820122564,
          1.8337677534805987,
          3.851930001836373,
          -1.2444755695303735,
          -1.0470407896440679,
          -5.737713537021459,
          1.179760752381501,
          -2.3319201594700694,
          -0.061642391277748954,
          0.9563490067666609,
          0.9133691752445581,
          -2.853839080278094,
          -2.276817256660018,
          -3.794658839559461,
          2.4982917837198575,
          5.22737011335429,
          -4.831955593167655,
          6.970269900088548,
          -6.255899361096227,
          3.957241972696602,
          1.7366600946225528,
          -0.11747430258702218,
          -0.5674649416986663,
          1.2004768692392167,
          -7.594701573674841,
          -1.7574003897466648,
          3.5983903070016545,
          -0.7574629997655399,
          1.7291359742927934,
          4.83163846177592,
          -3.3092598786273735,
          0.45350791394898493,
          0.44632815703042517,
          -6.806558341822744,
          4.531330989450545,
          7.184345921059605,
          -5.585086835494925,
          -4.537240943768485,
          -4.744893787585456,
          -0.8874978338688388,
          1.874367335554322,
          8.744029504759428,
          -2.77292736988755,
          -1.0835452002153367,
          -0.19299287474721893,
          2.3765502078791174,
          -5.306841632683752,
          -0.988468994478678,
          -0.7812370239158319,
          -4.319682863324743,
          4.256376280270083,
          -4.227614350266543,
          5.811783054627208,
          7.113679156589112,
          3.5193862913335154,
          0.4967666605548793,
          -3.4260305571325538,
          3.9519233987718403,
          4.002953822061452,
          2.2143512237485186,
          -1.267323882723753,
          0.9119121707018252,
          0.027296421461531217,
          -11.400725271225015,
          2.896741001202306,
          -1.7411439156451847,
          -0.015217347515309898,
          7.670179267811182,
          -3.9213126174039714,
          -0.8484583340531402,
          0.7678942087864945,
          -3.1309361655281966,
          1.0845399955633641,
          -0.90312171262856,
          -4.642338007300481,
          3.760297234898045,
          1.6880194927941972,
          -0.20473976777402442,
          -3.167876789305016,
          -2.070058616762106,
          2.883142611096771,
          -3.7024773714072037,
          4.024322549838141,
          1.775986119796642,
          0.8537748122478279,
          6.814637620846906,
          2.777900667421914,
          -1.8684126358494089,
          -6.051512649264275,
          2.001131167629686,
          2.4247718298742273,
          -7.875914157160185,
          3.3737291419836772,
          -5.100142135611013,
          -6.515916009655355,
          -3.375779002390746,
          -2.5908175973325736,
          3.891348637242329,
          -2.6587067425126736,
          -2.924841135352903,
          -0.6592285706790514,
          1.6830023098014926,
          -0.6382999168911074,
          2.163279012394497,
          -3.815897070834061,
          -0.33389079184864623,
          -4.577275586792275,
          6.018291221123004,
          -0.14105115304927818,
          -0.011738970372914104,
          0.2692905695821477,
          -5.483893659829305,
          0.2796505372655961,
          -3.1846104162340847,
          1.3261994772155163,
          -2.16266535734031,
          5.624943921417666,
          1.7778181367950494,
          0.37399375742881424,
          0.41055746708053276,
          0.5286592764332265,
          -2.2739966910271496,
          3.5217370936040457,
          5.069062174384314,
          -3.8339819739805168,
          0.7469666024678956,
          4.539456683365422,
          2.7184947697955737,
          -5.2712978416067156,
          -3.0297105764428522,
          2.2466535513816104,
          -5.555861742136572,
          3.199129417954386,
          -4.1112501495348965,
          1.7810234832992433,
          -0.17035196542289643,
          -0.17843091786835263,
          -0.7497384825135689,
          -1.6036792000571423,
          -0.46858073114284093,
          0.33428914228504025,
          -1.9655789305587557,
          -0.23957899016797501,
          -2.9093088648109466,
          3.4960726528376247,
          2.398038825538853,
          5.566035993216056,
          1.5654755733508274,
          6.0207900441163416,
          2.001708990391414,
          3.4241811522759753,
          -1.496184482055666,
          -6.6756717345885335,
          0.7845116519417359,
          -2.5760056143798726,
          -3.745262156113072,
          2.360179259414525,
          -3.8771256055656096,
          1.8798156293274566,
          -7.198191767489416,
          -4.9124661791149435,
          0.22166576110952874,
          -2.618607189902578,
          0.4110291413911904,
          0.18718730991638322,
          -2.1306916153679585,
          3.4236932131132347,
          0.8724941648217586,
          -2.36833955801488,
          -3.3852350200015415,
          0.44540471677882787,
          4.873001442990903,
          1.7064542597884198,
          -5.906292414815209,
          5.8781440355364225,
          1.0250432075608795,
          9.604741192163734,
          -2.3742954339615006,
          -0.32201008368762807,
          2.0514578107349206,
          -1.1111220645237223,
          1.1584746137675812,
          -1.185958887729574,
          -4.952828978946389,
          6.715070140181991,
          2.491880941542887,
          0.6216748849270476,
          -2.3963086331705625,
          -5.732939329257059,
          2.070533622753652,
          5.608056834799125,
          -3.991202471419572,
          0.7192250851397202,
          3.922740329911877,
          1.3691659591128864,
          0.8928051325778361,
          -3.9881833343602975,
          -1.1458913734210179,
          -0.9135645694969837,
          -0.0626401474484728,
          -0.8124256682006292,
          1.2592799481284132,
          -4.685427458875152,
          1.3553530609717972,
          -7.8488733857592505,
          1.7184852793891876,
          4.57087538399017,
          2.617153525381478,
          3.479752919311162,
          6.349887668204765,
          -2.8848189821087424,
          -2.3326075067659695,
          -3.0167604734545557,
          -0.3890129817251424,
          -3.1203729915638627,
          3.2088136682834936,
          5.381366732601034,
          -0.9062986489234348,
          0.6204680326002336,
          -0.15913949032473718,
          -0.17069267211195305,
          1.2230361625502506,
          0.0942073277118704,
          3.8403499758467348,
          -0.6029607637091836,
          -4.834583023728362,
          3.680473728990192,
          0.9830498447118952,
          1.73338311802885,
          -4.184269380709368,
          3.0227048468844577,
          -2.979529717749234,
          2.3813000158840487,
          -4.0449637949117925,
          0.2938121040030772,
          -4.23559020500377,
          0.9259582955839936,
          -5.851194719434618,
          -7.56431686792374,
          1.1991885930861628,
          -0.20837276255089443,
          -1.8911303245969917,
          3.0609023703781633,
          -0.8420066248331286,
          2.4043694422382913,
          -1.6253585617531248,
          -4.1957763301513955,
          -7.8753137462140375,
          6.503783617749387,
          -1.259753425142415,
          -3.9881635551742742,
          -5.627043999611882,
          3.0875718476287735,
          -4.253324293192097,
          -2.1910703762340398,
          -7.546781131663139,
          2.8924870717258035,
          -6.2231395491621955,
          -5.198588314205602,
          -3.4112231429466418,
          6.871129557327255,
          2.977585175565086,
          4.826592220446748,
          5.800757340348214,
          -0.10691503526547352,
          4.305098510216639,
          -1.998062320008926,
          9.627576609997426,
          -0.5770166040502115,
          4.729850517735594,
          7.170626424743479,
          1.181162014693142,
          0.2686536329178013,
          -5.227524431807101,
          0.02118933762215447,
          -0.24711148529752025,
          -0.21182598782621348,
          5.4653678279814795,
          2.989307563455015,
          5.61029162499633,
          -1.5339206877210314,
          -4.146696330165845,
          1.878219229846657,
          2.269556571726886,
          0.6369402037752693,
          -0.383626634265325,
          4.73050149787541,
          -0.8341482046950399,
          0.7174182156490532,
          -0.8837518198196779,
          0.7702651403988565,
          -4.910287530037931,
          0.7300144981780001,
          -3.244780415282926,
          -2.8086945351527945,
          1.2921100011554438,
          -0.8738603719028544,
          3.2985779510800115,
          9.035955130312658,
          2.957822057736874,
          -1.477377964968002,
          -0.19766947292953985,
          0.3155914467509189,
          5.3038293493580655,
          0.35714311463747417,
          2.7752253880779363,
          -1.65511359358343,
          12.216996860097547,
          3.1977901639958373,
          0.24743682199233952,
          0.6949874435965544,
          0.5789243148962665,
          -3.467725359347271,
          1.0441148615828824,
          0.506974527056258,
          2.1391056246705755,
          2.997914098155108,
          -0.7652504080209512,
          0.8918378529693775,
          0.17868001583583493,
          1.8740834422849717,
          5.240225389642901,
          -4.175995709800255,
          0.3646076637417286,
          -10.07810728534957,
          -5.651477270650719,
          2.2443921772334035,
          0.6421608606143071,
          1.3376576659290922,
          -0.896147093555083,
          0.041677530031430154,
          4.391590344031669,
          1.3044366175627553,
          -5.992525061436334,
          4.103160536541621,
          2.0462897843511465,
          -7.168156615515965,
          -3.0273827944061473,
          -5.551720893856254,
          4.675770777244429,
          4.640223685054706,
          -1.8675209388005087,
          -3.1053030668195367,
          2.6395850995195578,
          -4.554389259765819,
          -5.158736028085729,
          1.1902219485316072,
          4.291028582727883,
          -2.1174700743701953,
          2.98769096944312,
          6.14056094294612,
          0.6378332428937844,
          -5.049139948948375,
          6.598222718136543,
          0.16299281213782124,
          -3.0427162085480766,
          0.2761345639564914,
          -0.4773681222133391,
          3.0518289910002068,
          3.8684027885476517,
          2.845241121827727,
          11.160209074899404,
          5.5915174070306675,
          1.6304002982281585,
          0.5656495202308592,
          0.9555352298281825,
          5.131907008327474,
          -5.3052247185294235,
          -2.3616411948090317,
          -4.7486238106794625,
          1.3524915245757034,
          5.6124085985891545,
          0.8069852505548682,
          -3.788783528346685,
          -3.396947888921994,
          -0.44126067350224696,
          0.10146723190978557,
          1.7140886320170008,
          -1.7249099642982486,
          -2.433057776426197,
          -1.0771277561933168,
          -0.7431672109098177,
          -4.9919124634210785,
          7.9146725373542886,
          0.4655911711018239,
          -2.2990153199656604,
          1.1945106986116276,
          4.371130730379781,
          3.811592339458896,
          -2.8940724791534334,
          -1.4994197616956277,
          -1.2612492589543653,
          -7.626873327963835,
          4.7718690461720925,
          3.071830914482798,
          -9.10049620532969,
          3.7407752299197323,
          1.964202549330593,
          -7.007584785046613,
          5.720511278157515,
          1.6177827142153285,
          4.827522140562067,
          4.485864742918078,
          -3.8064696372468227,
          -3.507786874658268,
          1.9993139240127626,
          1.2111820699244797,
          5.7302849223557235,
          0.5330037292126006,
          3.209138734245724,
          0.337574789131978,
          -6.445542481237993,
          -1.1940123583167703,
          -0.7109568221223999,
          -0.8759487005655795,
          -3.254180599901437,
          4.545069980483602,
          3.4098976683077264,
          -2.814953738741978,
          -0.7309684074725409,
          -0.40201219277690026,
          2.1709952334452716,
          -0.41211559485504373,
          -8.612717870040216,
          -4.836995274111084,
          5.590868749450504,
          6.869187008267739,
          -5.848728879781808,
          -0.600713440239317,
          -5.505372185432881,
          6.4040167460452375,
          7.088982876267575,
          -0.6438267600571259,
          -2.1721061871927296,
          -1.3371988159446757,
          -0.8609855554820539,
          1.9734917754666998,
          2.1450007476798207,
          -5.201638394996244,
          0.07084546360002131,
          1.1703746615601014
         ],
         "y": [
          1.0606276965649024,
          -8.658183538413537,
          5.310910025512474,
          2.1512114635933672,
          -3.7416721259652643,
          -4.0512247530513585,
          4.304793499207104,
          -7.935953802490251,
          -1.883042013106122,
          10.490190478645989,
          -4.719545604522663,
          -4.014750668870206,
          0.553808915069907,
          2.341266609021785,
          -2.6837086809150312,
          -4.211932969873002,
          -1.481849974479326,
          -11.084296225258687,
          3.3541251659327047,
          -8.686057854117568,
          2.6555516393593344,
          -4.83502582290717,
          -2.8306194458503273,
          9.663998643351762,
          -0.377207755617851,
          5.699950819933446,
          5.585102952000753,
          5.4161453390037515,
          -3.848640732458029,
          2.9570796607865346,
          1.709201955133599,
          2.69923189604659,
          -3.501125508191699,
          -5.673528594516616,
          10.677338505900845,
          -3.2145283042930934,
          -2.9555050148788484,
          1.2378805677305746,
          -2.787753260597177,
          5.074212446838335,
          4.009351553855104,
          -3.4158851001108976,
          4.045442636788427,
          2.4677625276466,
          0.09416648797717087,
          7.230817532576742,
          -0.39277575036230145,
          -4.033082383656102,
          -4.307936309029114,
          0.9608158127223112,
          7.718114911686041,
          5.784308205331127,
          -6.718911224747437,
          -0.9580964850254885,
          -0.25761626122695724,
          5.811664816144357,
          -3.518995505823719,
          3.315606311256805,
          7.015194561415112,
          6.931711139611422,
          -1.3899957696718448,
          6.760113064950228,
          -0.5207317787323378,
          -4.309408188184809,
          -1.2398950875220636,
          2.5253180824901884,
          5.99305187156053,
          6.728550737615087,
          0.7090592560617307,
          4.394281348454085,
          0.12099050184302795,
          8.857208448106144,
          5.839501594472261,
          1.1154351537220542,
          -6.163871259639688,
          1.0020249926421256,
          -7.595194597966373,
          0.6034523366787149,
          3.0617334838094985,
          -3.3043111268335243,
          4.4390677558298774,
          -4.153146186419125,
          -12.093211796938839,
          -11.989552241437536,
          -2.6198258109380816,
          -2.7133692365529303,
          -8.15376804096185,
          -1.8336390951724941,
          -3.82218199199898,
          2.700579489951706,
          2.308117430995519,
          4.379014898913864,
          -5.014720026847799,
          4.896189678783886,
          2.6359967563554108,
          -0.02243724195728114,
          0.08103905974060632,
          5.782046069760889,
          12.646583247455322,
          -6.208091722408995,
          -12.141110538371533,
          -2.894010361071766,
          1.308882451026409,
          -1.0497343026340182,
          -1.495297065131987,
          5.509104445113822,
          -8.953626923759828,
          7.925207587683713,
          -2.403787247934541,
          2.18715507010621,
          -2.6035317860747385,
          -14.51724117931652,
          10.048828698114779,
          4.225691119087769,
          12.05668345498899,
          -3.6942430946811964,
          1.3302021737754481,
          -4.168246712054597,
          -5.299288222045572,
          5.174239724586054,
          -2.669544275732548,
          10.827147206812718,
          11.809779825406018,
          -1.746548355324669,
          7.041361699197507,
          4.4692945512713065,
          6.841445545856499,
          9.158574009407879,
          -1.9481190151781353,
          1.553436686475759,
          -5.037591650307361,
          -8.137028452679273,
          -1.0207568999449537,
          1.3900812226409975,
          5.1304068729876375,
          -5.8240738908764245,
          1.3174603436928276,
          3.154282935101657,
          -2.9431302629372076,
          0.038176090301016874,
          -0.5905869071672808,
          7.430851904225703,
          -5.349362090983367,
          1.7829478259546132,
          2.030383042268026,
          -4.521732793607432,
          -2.2251320172085642,
          -2.730359121557935,
          -3.762796125459851,
          8.890728326835907,
          3.225599389795399,
          2.7154098326508556,
          -3.6850442060159074,
          -3.9692990117263234,
          -0.36617760261318266,
          2.1822782799423073,
          -1.326148782235005,
          3.5956002524262223,
          1.8793217654196608,
          -0.5565277851606367,
          -5.614652227717521,
          4.599417568307865,
          11.829080055939087,
          -3.4647174079627145,
          4.721676707846765,
          -0.32526104288734004,
          1.968063633409543,
          6.660749954349033,
          1.6239103217531843,
          -0.33832797871317316,
          2.822179072053336,
          10.808062144152327,
          13.251247454106633,
          -10.786888075970186,
          2.937640624648234,
          3.015445624545224,
          2.9016993021553774,
          4.720130549892802,
          -3.5365977628227374,
          2.07397985771577,
          0.18077914472530587,
          -0.9034662658835617,
          -3.398861759128257,
          3.47058755255801,
          3.4017456444863363,
          -2.05559617473852,
          -3.2007983572516947,
          10.128372033648883,
          17.37665962040208,
          -8.413025393644268,
          -3.7997975740870644,
          6.663396245990759,
          -3.9012085912485004,
          2.786747944296205,
          17.02635822764794,
          -2.2250755251522993,
          -5.289679990213453,
          1.448630582923458,
          -9.552773597768816,
          1.1739567796896844,
          8.468307328982144,
          10.79646912184152,
          -2.8440226243810542,
          -4.357318131970397,
          5.592548081671372,
          4.533709919855914,
          -5.3422471504419216,
          2.4252041113825924,
          -10.665902142139638,
          2.2985036299249524,
          -7.835768786203592,
          10.20994897704257,
          -2.2714960821015433,
          -16.9973900729629,
          2.225871696654802,
          -1.6291161490189436,
          -5.9483545849383015,
          1.2177058840079351,
          1.7986069589869331,
          1.600975165650054,
          -2.1428380649306984,
          -5.387387226291916,
          1.8903754715929808,
          2.493935230379855,
          -5.9437669172258945,
          2.9713518293009775,
          -2.3878273207019536,
          3.433692386282625,
          7.11368008713551,
          4.96586911975061,
          1.9335926320780152,
          2.999847978152549,
          -9.81306662919092,
          -4.795260530037072,
          -5.298202807247615,
          0.3810731332275604,
          -0.8723547565004702,
          6.097183037971491,
          0.3718804214096523,
          4.09396630673973,
          0.0020706079991051896,
          6.515466025830924,
          6.301054584832563,
          0.3792510010284218,
          3.422127760413735,
          5.514533711465861,
          -9.015964707905269,
          -0.35762741391613706,
          -2.2485648660583024,
          -4.507649840892463,
          5.480932013433417,
          -3.9156674436882377,
          0.3416386460820926,
          0.7487396824315173,
          4.145633699128295,
          -3.620014230231181,
          5.0685740971810125,
          -1.279019761102959,
          -3.9953131056584628,
          -0.3811309520595816,
          1.71282211753174,
          9.171030889917732,
          -6.566344972473704,
          3.3798726981355016,
          -4.921687392888314,
          7.062158238761368,
          -6.977915473035837,
          -6.93427428783106,
          0.760188774727158,
          -7.234496864305668,
          1.8179659123448848,
          -2.748937661038571,
          -1.2742325621434092,
          1.6861366196089063,
          -15.983495450343186,
          -10.333703743001669,
          -8.153885913967867,
          5.740166218243214,
          1.3795853823500785,
          3.0343053446127635,
          0.7452564545633755,
          -5.326530588982633,
          8.07797761252156,
          -1.390712202742452,
          1.0925586097845401,
          -3.5045992534257038,
          4.804989582453888,
          7.151829883147927,
          -3.195281037830422,
          1.271206149643863,
          5.0844431617860675,
          4.9805560067395716,
          -6.084679380691445,
          -4.355768309145843,
          0.9541067372849791,
          5.102167837589717,
          0.24302593549485585,
          -1.3693163264017838,
          6.353052160292364,
          -5.125795400538763,
          -3.526921032127662,
          -8.251582106219008,
          5.715461360925831,
          14.235406312327472,
          -13.648069194054518,
          0.8992502445366566,
          -0.40918393772736833,
          1.4502110494647733,
          6.905016668877606,
          5.0221593317536275,
          -9.748121668199213,
          -3.9563986857534315,
          -1.5677698619198468,
          -9.157682259132848,
          5.690968411182293,
          5.208859257833044,
          -4.315212949883661,
          -2.623649045865327,
          8.263578797628506,
          2.299254142053772,
          5.634618168275597,
          -6.650830515441678,
          -1.7364229432212928,
          -11.065556309891843,
          2.492233080416391,
          -0.9646840371058655,
          -1.860492979784594,
          -1.5599267439721305,
          2.311017349423317,
          -6.284417323250548,
          -5.545727449173386,
          -3.5670247516624976,
          6.403933408932974,
          2.7320340467662607,
          5.650440603768027,
          -11.674691478290072,
          -10.506624876924464,
          -8.202006240013297,
          -1.82626201523219,
          -6.807431118578379,
          5.794991680336977,
          2.181165127329425,
          -8.636512195647263,
          -5.9103154760737775,
          -7.490699142583947,
          8.87822887793325,
          -10.758345416032629,
          -6.673596599402925,
          7.175886268431388,
          -4.772990390497236,
          3.9177295931562583,
          0.26211253153488534,
          0.8257674433694507,
          12.73703807551609,
          -3.8543520883461815,
          -0.9880713479815014,
          0.7151557059733291,
          7.090580889487054,
          0.7612259352514263,
          6.453497431815584,
          13.267159342368833,
          -0.8823152031568368,
          0.916635052333505,
          -7.082041905358157,
          0.5235075014814845,
          -0.14600540562874054,
          -6.089137566258124,
          -0.7475302241084079,
          -0.7063287490487149,
          0.02901554114828231,
          4.196887564386774,
          -7.409252686185552,
          -6.959973649391061,
          -5.417764491488252,
          -4.6063181239345,
          -7.715962349900705,
          2.4321203093448633,
          -5.768887529227078,
          -6.020390062110102,
          1.4139300035431273,
          5.268483126938959,
          1.1024470169027425,
          6.816104210095427,
          2.5254185795833926,
          -4.465707620154969,
          5.336904584402548,
          3.444231298024752,
          -3.321644586309879,
          -1.954341623088356,
          -3.458584672817838,
          0.4850395448532627,
          9.008562953839434,
          0.18829805268359467,
          8.663823735477822,
          3.6767969773321427,
          7.447469450736221,
          2.436860389476977,
          -3.1548693230230165,
          -1.761775159490139,
          -3.034831722451967,
          -3.080189500957436,
          -2.297869210347129,
          2.2710310331890464,
          -0.20222460855407742,
          0.052385503205437,
          -3.8357982980653427,
          3.5530500815019606,
          1.9246817323990326,
          -4.532328592337438,
          1.7032317519754656,
          2.051139015920995,
          0.6448400802663066,
          2.832262620031755,
          0.9835715780209533,
          9.442165804318721,
          0.012625472168650287,
          0.47141285313754544,
          8.7437025352304,
          -7.152859211385292,
          -3.8095075051469403,
          10.02141103124474,
          -3.3554764465988716,
          5.596711285054744,
          4.703685412546299,
          -3.3678063868373727,
          1.9145542537252063,
          7.300724004663941,
          2.7436149356897483,
          -0.06383256740492131,
          4.933422929317462,
          -1.6398914309087784,
          3.5802190931822837,
          1.578230875944312,
          7.625735154050078,
          -8.450713455353545,
          0.37818838456385273,
          -7.41465275534314,
          5.59723117945036,
          -2.26729134044011,
          -3.5352670549975698,
          -3.4722966272975255,
          5.464502257983497,
          2.419261726459596,
          1.1843685021180543,
          -8.603663700568752,
          -1.253984114836475,
          1.5655751232393622,
          1.0376223634435466,
          -0.1521398111083273,
          0.5972390790773193,
          8.54254099784737,
          -4.274184085015478,
          -1.5859900023760711,
          3.022209161927629,
          0.7572448752674242,
          5.34486661513149,
          -2.389701362761556,
          -4.01850618168475,
          5.281854113833942,
          -1.6537257698685637,
          0.039735839313562185,
          -8.520954225631947,
          -2.918089480261237,
          -5.3573833048925525,
          7.803241765116473,
          6.507014040095543,
          11.691397344352632,
          -2.2817035216978288,
          4.668248067223907,
          -1.9780931552615773,
          -0.9476743950900732,
          -4.832050075232127,
          -6.095483907136378,
          4.93592381835689,
          -0.6720080758889218,
          -3.3056599192108047,
          -1.8433949305621176,
          7.137775552885543,
          2.6650435108661084,
          1.981852480645181,
          4.4356955655345836,
          -3.52131023874993,
          6.387534955870574,
          4.208315819161742,
          2.5419576396709864,
          -6.381354181550712,
          -5.330525400350713,
          -0.8032289444312588,
          5.253130641627323,
          -2.5084027095992294,
          2.1140920296811525,
          0.7687030706346958,
          0.8536081415065144,
          -1.1269867596666991,
          -7.693016705299433,
          -3.9783510477936437,
          -0.3896904648580511,
          3.14976966304502,
          -3.880935349213825,
          9.917799946478079,
          2.448553749124322,
          -3.269216399524797,
          5.140259743605102,
          2.6584365119970093,
          6.3565718326439615,
          -5.314910939939456,
          -1.5394112106186113,
          -1.6023115421732432,
          -1.2329884541040568,
          5.578837191258293,
          -14.119700579614092,
          -7.207230188562638,
          0.32974819444083625,
          -4.424883186276682,
          5.780322556001002,
          1.0033967713559364,
          -1.0684465109254369,
          3.0317135180165957,
          -7.186382896097306,
          9.085564241826962,
          2.912215752907314,
          -5.510105425039287,
          3.9812444507600335,
          -3.3345627195968,
          1.6809017324709705,
          -5.206355539470027,
          -12.451143412300532,
          -0.4218899260067359,
          -4.417344660501358,
          1.6895676166096663,
          -4.76197312764472,
          5.375781817906895,
          -2.550400359290128,
          8.650215071760924,
          -3.06691030565206,
          2.3495920749004653,
          2.579953399578785,
          0.5817361072578513,
          3.6791437305572723,
          1.9774141277700252,
          2.262220450317739,
          -7.255978443650701,
          -1.8272848001905275,
          12.472408377370707,
          -2.1287660470038072,
          -1.956378491138352,
          1.6820174681531301,
          0.09460836397541961,
          -2.0483938427723976,
          1.3093500419474946,
          0.7650073591220383,
          -0.8427071347174714,
          1.4616546582764283,
          -3.7471392945301134,
          -0.5450507098420254,
          2.7454154437586467,
          -7.924880203267455,
          1.5115368387618107,
          6.540684579852883,
          -12.499129490167654,
          5.8199013573667235,
          6.561785075391007,
          3.2575735271579576,
          0.3517510511772165,
          -5.973018699235567,
          -2.1618923398835266,
          -7.338128686212877,
          -0.6770379535182172,
          4.1908378274059945,
          5.7068184006771805,
          0.05878225670264503,
          -2.831043907639395,
          -1.931489485401709,
          6.381837045015237,
          7.852447127198747,
          -11.65323002111584,
          2.2667012706311733,
          -12.039082644650808,
          8.335236417767144,
          4.157338207984504,
          -3.42847552046005,
          0.1481535629231383,
          -4.4818592678475335,
          -16.19261178553348,
          -1.661118054096398,
          -0.14046300174293003,
          -0.8442268678708779,
          1.3270950961835035,
          8.95802379078773,
          -3.7432536485569785,
          0.13612792706312138,
          3.5515421205377757,
          -3.4994803926933415,
          8.286661994318093,
          12.073029188671693,
          -6.074949427314341,
          -7.107415439770421,
          -6.532414368940016,
          -2.0109732273484426,
          -1.455182835435079,
          12.92494466301971,
          0.5844039893158625,
          -1.1869132573802077,
          -4.013180691321779,
          4.4440840615766515,
          -8.104986611657086,
          -5.138460547406878,
          -5.278776994110296,
          -6.134636755980778,
          6.928106661226761,
          -8.859781516099345,
          7.446223462545157,
          9.287121721824061,
          3.1683388498883622,
          -5.189644134797189,
          -3.34101719409327,
          7.0029433476426535,
          4.121554790465066,
          5.523585116709854,
          0.741596177466539,
          4.399223431334473,
          0.6783732166041521,
          -13.365203269968239,
          10.17810195205006,
          -2.626098425649461,
          -2.7639222748160996,
          4.684161536555827,
          -5.24988071544851,
          7.870278103150268,
          -1.0479279674942834,
          -4.43051294849826,
          3.7638330528261785,
          -4.594843223044048,
          -9.395866199336789,
          4.198312601346381,
          6.215703250627592,
          0.903280644374309,
          -3.684961678408792,
          -2.629270234958605,
          4.325624513902961,
          -6.230129418321173,
          1.132364302788494,
          3.734071069222024,
          3.4942980009741587,
          8.770409247985395,
          1.272605807041855,
          -1.2776669409566805,
          -6.6327178299209475,
          4.100165047820444,
          5.849415507119276,
          -5.869353213295168,
          4.3455386056704155,
          -6.263304482173835,
          -4.230215141087676,
          0.7278258893545935,
          -2.2396364060083784,
          4.122568960365158,
          -3.606671326503506,
          -1.0755783380442554,
          -2.2063897152998537,
          5.591283149647892,
          0.33008701818683495,
          1.9533270228587463,
          -3.628882034009105,
          -0.5637196932784333,
          -2.1790088862663906,
          3.0862534691685446,
          -5.346651071038977,
          -0.6073905393790467,
          2.8612255797341466,
          -7.662524792775763,
          0.4223619693127924,
          -6.383286978740807,
          1.4654752781307485,
          -6.563656372515338,
          5.5093824143043735,
          3.1192553177078945,
          2.1631189946386624,
          7.6049927123715975,
          1.1746994797789139,
          -4.786302401718855,
          1.4490917098580856,
          3.3074423016485186,
          -0.38180680321623894,
          3.5954332413462735,
          3.5462529253443793,
          4.549921902701413,
          -5.105974139637613,
          -3.474130092568992,
          5.206566185178624,
          -4.37590375327694,
          3.373733553478256,
          -5.53419308573189,
          2.4394031130739244,
          -4.382086273452653,
          1.2957739954152614,
          2.7149801718241733,
          -5.544107122071908,
          -4.572431928218799,
          6.016448967605476,
          3.002293793388318,
          -2.539271348208477,
          -2.288591046174544,
          3.462284681173495,
          4.404862370263955,
          12.58590778565705,
          2.5133136668764,
          9.542101354523886,
          1.3178676409207934,
          6.666817170097342,
          1.928254018589814,
          -5.863217370290842,
          -7.3419363377379945,
          -5.238054797774229,
          -6.731792137128349,
          0.7436168311456055,
          -1.1447892306568437,
          2.0072173941229314,
          -7.617445466676619,
          -6.594368853085323,
          2.936417889977991,
          -8.400609850666683,
          -9.271014848639307,
          3.1579195760288834,
          -3.492823153575882,
          4.28263198754707,
          -1.0243571464279448,
          -3.0462099667059355,
          -2.194115993955875,
          2.1690545832317656,
          5.319381807297024,
          6.126901689810881,
          -11.496649094210616,
          5.931937082955171,
          5.917250259757567,
          10.0763450687465,
          -5.531669626090325,
          1.0594842350531832,
          4.7974615275167025,
          -0.725445168796663,
          1.1576530862944194,
          0.6735145735769881,
          -7.441934208664871,
          5.691979773300072,
          3.9750032341775983,
          0.5186400507032708,
          2.9365970921708295,
          -6.44254648020692,
          2.229311924673184,
          4.002047759642273,
          -9.794017471754017,
          2.2841928391268573,
          8.538608834038557,
          -2.147124892609994,
          1.5208603255248305,
          -6.612361536737163,
          -0.10189910902371396,
          -0.9201220848179469,
          -0.7941580459395856,
          -4.406745655828296,
          -0.9613689043662969,
          -4.923283741051074,
          -0.814698158520031,
          -3.4624584793186544,
          0.6363211163720701,
          4.038077255290977,
          4.97974120649049,
          4.6985731767533725,
          10.615445724066875,
          -3.8973413373558174,
          -3.411435333405771,
          -4.593639300431528,
          -4.279750770468794,
          -1.3697420041495547,
          2.7099623378385873,
          7.730123847629993,
          0.7074879321558931,
          -1.4141007921703341,
          -3.7510949024667974,
          6.031232649767239,
          3.026001963243537,
          -0.17250969804638602,
          1.171535760743294,
          -4.669193437259179,
          -1.3081182369295519,
          0.14241799695810076,
          0.8502932910997163,
          2.3489501374675945,
          -6.4506162593755345,
          0.7370607963373899,
          -3.700635416557061,
          2.107920733365256,
          -4.238112505402626,
          6.704266454935396,
          2.636239093575303,
          -4.303059793000678,
          -4.468028218136084,
          -5.003874074711301,
          1.8075421510796421,
          1.3344738713189308,
          -5.973143763011974,
          8.235155687107696,
          -5.4505295923071175,
          -0.9109221256573055,
          -4.026979377383635,
          -6.509900388463856,
          -13.097097802378226,
          12.019788267783756,
          -0.88561430960914,
          -7.91761308740522,
          -4.710330419909483,
          4.520619951205976,
          -2.645640705901007,
          1.7859646421576938,
          -12.067427580602791,
          8.185890328800832,
          -9.102361630619665,
          -10.280432014316817,
          2.4421308305816583,
          11.434896387936801,
          4.885827385024064,
          8.043954381671899,
          7.766213775955634,
          1.2159594315753675,
          9.568952142781903,
          1.2806643204006327,
          14.043342521462222,
          -2.1564575342531187,
          3.3761378904472226,
          15.631669727099712,
          -2.076395828098219,
          2.3055718223607364,
          -7.587836135499396,
          2.2020939982929484,
          0.8989705463291473,
          0.34146116044968433,
          9.989595935279349,
          3.463759213303007,
          5.083091969856815,
          -0.8191534578252135,
          -2.2810767788489237,
          0.5987638797422515,
          6.532766632086488,
          2.5604149389639925,
          0.2897098624279692,
          7.436877080604971,
          -1.9800653609443142,
          1.5445068059055647,
          -4.25620438087569,
          0.581964101030101,
          -10.108587012952416,
          -0.16320371497357802,
          -2.78359442659032,
          -5.296021133084731,
          3.3170869219647594,
          6.895063842372136,
          6.759529148840796,
          8.733858702394155,
          0.20687555410666225,
          -6.7275552348944245,
          4.552375762908106,
          -3.3130428745532043,
          7.9875518436660755,
          3.966155443391028,
          3.428089175647815,
          -0.26703950401959164,
          9.808384906476553,
          7.957308032651525,
          -3.02811363061552,
          2.178855803593699,
          2.1466829142033026,
          -8.646740820242295,
          2.6992159241346787,
          2.192709415508642,
          3.5321773820045275,
          2.078223122873291,
          4.388808734927574,
          -2.73771185054583,
          1.8992433328839418,
          2.0117814237384013,
          1.4188684269904583,
          -2.9124817432370578,
          -4.437331201413318,
          -16.969512439350275,
          -6.805171908596998,
          1.1247955496113775,
          0.5658185243851626,
          4.137942146801585,
          -0.2217317139744271,
          0.9343153460254241,
          10.50150512463717,
          1.3441989174421924,
          -7.895568395038166,
          5.360029225976925,
          6.880523678973544,
          -11.527905211037675,
          -5.3992961054337,
          -7.8045620330154035,
          8.73142974445743,
          5.39685341872358,
          -4.296393627659868,
          -1.8706524770830861,
          -2.264290801293641,
          -7.531885903808829,
          -7.4447787559102325,
          0.6956194504381861,
          10.624274494585535,
          -2.07630753603316,
          8.168257218507229,
          5.147973937000189,
          -0.3003934591977494,
          -4.796328609660652,
          5.010550952797414,
          1.4264606593286915,
          1.9146905804168735,
          -3.053492987122234,
          -0.4858211257807542,
          -7.094706663219949,
          4.150144362468686,
          6.655960421616726,
          11.858337217978626,
          5.924345629230589,
          1.4135239052810382,
          2.6283068451221148,
          8.433201266807467,
          3.9588830465086566,
          -9.445092609004874,
          0.9610166189400424,
          -8.734950283973893,
          6.448492291814678,
          10.347011304865205,
          -0.47074247959963245,
          -0.13273676260820544,
          -5.780079041035416,
          -1.542822289509427,
          6.407226495545723,
          -7.708613063284396,
          -3.6989958912194902,
          -5.349400493188779,
          -0.9121959935615293,
          3.3018029585911153,
          -7.767011062345671,
          8.187766933946378,
          -3.546806891195994,
          -8.440041103139869,
          1.9996585375984122,
          3.7978714200405315,
          4.737419124744596,
          -4.318524985940138,
          -2.446406410416587,
          -5.045975072041914,
          -8.150666324910864,
          0.76765848037878,
          7.05644530692116,
          -10.079217202673547,
          4.375361022960341,
          4.688498017889013,
          -13.621653372898846,
          7.37062307461361,
          3.9129159325322362,
          3.6773631561350077,
          6.5865434654313555,
          -4.843959977383374,
          -6.292706831510535,
          0.7299088059282864,
          5.129222844349947,
          10.750439816121592,
          3.424895095913584,
          4.558308965622969,
          -1.93027408848091,
          -6.22280093242648,
          -2.72701079201366,
          2.7439341820565515,
          0.06708665306198786,
          -5.418051481750454,
          7.575712486406427,
          1.9708383716743416,
          -10.05206038953004,
          -5.378565074904967,
          -1.86421992322436,
          1.716680979562096,
          -0.10274949158607141,
          -15.913275275516249,
          -7.37471973132827,
          8.612291809767248,
          10.04350318991414,
          -10.91408631760455,
          -0.4327161903899608,
          -14.482991632365897,
          6.529227400718635,
          8.637224653371883,
          -2.3465827250749114,
          0.8955840551070049,
          -1.9088351071166012,
          2.3524509343463045,
          3.0440144462288488,
          1.170185860050621,
          -6.572373849321407,
          5.165069351310347,
          -1.965004544633111
         ]
        }
       ],
       "layout": {
        "template": {
         "data": {
          "bar": [
           {
            "error_x": {
             "color": "#2a3f5f"
            },
            "error_y": {
             "color": "#2a3f5f"
            },
            "marker": {
             "line": {
              "color": "#E5ECF6",
              "width": 0.5
             },
             "pattern": {
              "fillmode": "overlay",
              "size": 10,
              "solidity": 0.2
             }
            },
            "type": "bar"
           }
          ],
          "barpolar": [
           {
            "marker": {
             "line": {
              "color": "#E5ECF6",
              "width": 0.5
             },
             "pattern": {
              "fillmode": "overlay",
              "size": 10,
              "solidity": 0.2
             }
            },
            "type": "barpolar"
           }
          ],
          "carpet": [
           {
            "aaxis": {
             "endlinecolor": "#2a3f5f",
             "gridcolor": "white",
             "linecolor": "white",
             "minorgridcolor": "white",
             "startlinecolor": "#2a3f5f"
            },
            "baxis": {
             "endlinecolor": "#2a3f5f",
             "gridcolor": "white",
             "linecolor": "white",
             "minorgridcolor": "white",
             "startlinecolor": "#2a3f5f"
            },
            "type": "carpet"
           }
          ],
          "choropleth": [
           {
            "colorbar": {
             "outlinewidth": 0,
             "ticks": ""
            },
            "type": "choropleth"
           }
          ],
          "contour": [
           {
            "colorbar": {
             "outlinewidth": 0,
             "ticks": ""
            },
            "colorscale": [
             [
              0,
              "#0d0887"
             ],
             [
              0.1111111111111111,
              "#46039f"
             ],
             [
              0.2222222222222222,
              "#7201a8"
             ],
             [
              0.3333333333333333,
              "#9c179e"
             ],
             [
              0.4444444444444444,
              "#bd3786"
             ],
             [
              0.5555555555555556,
              "#d8576b"
             ],
             [
              0.6666666666666666,
              "#ed7953"
             ],
             [
              0.7777777777777778,
              "#fb9f3a"
             ],
             [
              0.8888888888888888,
              "#fdca26"
             ],
             [
              1,
              "#f0f921"
             ]
            ],
            "type": "contour"
           }
          ],
          "contourcarpet": [
           {
            "colorbar": {
             "outlinewidth": 0,
             "ticks": ""
            },
            "type": "contourcarpet"
           }
          ],
          "heatmap": [
           {
            "colorbar": {
             "outlinewidth": 0,
             "ticks": ""
            },
            "colorscale": [
             [
              0,
              "#0d0887"
             ],
             [
              0.1111111111111111,
              "#46039f"
             ],
             [
              0.2222222222222222,
              "#7201a8"
             ],
             [
              0.3333333333333333,
              "#9c179e"
             ],
             [
              0.4444444444444444,
              "#bd3786"
             ],
             [
              0.5555555555555556,
              "#d8576b"
             ],
             [
              0.6666666666666666,
              "#ed7953"
             ],
             [
              0.7777777777777778,
              "#fb9f3a"
             ],
             [
              0.8888888888888888,
              "#fdca26"
             ],
             [
              1,
              "#f0f921"
             ]
            ],
            "type": "heatmap"
           }
          ],
          "heatmapgl": [
           {
            "colorbar": {
             "outlinewidth": 0,
             "ticks": ""
            },
            "colorscale": [
             [
              0,
              "#0d0887"
             ],
             [
              0.1111111111111111,
              "#46039f"
             ],
             [
              0.2222222222222222,
              "#7201a8"
             ],
             [
              0.3333333333333333,
              "#9c179e"
             ],
             [
              0.4444444444444444,
              "#bd3786"
             ],
             [
              0.5555555555555556,
              "#d8576b"
             ],
             [
              0.6666666666666666,
              "#ed7953"
             ],
             [
              0.7777777777777778,
              "#fb9f3a"
             ],
             [
              0.8888888888888888,
              "#fdca26"
             ],
             [
              1,
              "#f0f921"
             ]
            ],
            "type": "heatmapgl"
           }
          ],
          "histogram": [
           {
            "marker": {
             "pattern": {
              "fillmode": "overlay",
              "size": 10,
              "solidity": 0.2
             }
            },
            "type": "histogram"
           }
          ],
          "histogram2d": [
           {
            "colorbar": {
             "outlinewidth": 0,
             "ticks": ""
            },
            "colorscale": [
             [
              0,
              "#0d0887"
             ],
             [
              0.1111111111111111,
              "#46039f"
             ],
             [
              0.2222222222222222,
              "#7201a8"
             ],
             [
              0.3333333333333333,
              "#9c179e"
             ],
             [
              0.4444444444444444,
              "#bd3786"
             ],
             [
              0.5555555555555556,
              "#d8576b"
             ],
             [
              0.6666666666666666,
              "#ed7953"
             ],
             [
              0.7777777777777778,
              "#fb9f3a"
             ],
             [
              0.8888888888888888,
              "#fdca26"
             ],
             [
              1,
              "#f0f921"
             ]
            ],
            "type": "histogram2d"
           }
          ],
          "histogram2dcontour": [
           {
            "colorbar": {
             "outlinewidth": 0,
             "ticks": ""
            },
            "colorscale": [
             [
              0,
              "#0d0887"
             ],
             [
              0.1111111111111111,
              "#46039f"
             ],
             [
              0.2222222222222222,
              "#7201a8"
             ],
             [
              0.3333333333333333,
              "#9c179e"
             ],
             [
              0.4444444444444444,
              "#bd3786"
             ],
             [
              0.5555555555555556,
              "#d8576b"
             ],
             [
              0.6666666666666666,
              "#ed7953"
             ],
             [
              0.7777777777777778,
              "#fb9f3a"
             ],
             [
              0.8888888888888888,
              "#fdca26"
             ],
             [
              1,
              "#f0f921"
             ]
            ],
            "type": "histogram2dcontour"
           }
          ],
          "mesh3d": [
           {
            "colorbar": {
             "outlinewidth": 0,
             "ticks": ""
            },
            "type": "mesh3d"
           }
          ],
          "parcoords": [
           {
            "line": {
             "colorbar": {
              "outlinewidth": 0,
              "ticks": ""
             }
            },
            "type": "parcoords"
           }
          ],
          "pie": [
           {
            "automargin": true,
            "type": "pie"
           }
          ],
          "scatter": [
           {
            "fillpattern": {
             "fillmode": "overlay",
             "size": 10,
             "solidity": 0.2
            },
            "type": "scatter"
           }
          ],
          "scatter3d": [
           {
            "line": {
             "colorbar": {
              "outlinewidth": 0,
              "ticks": ""
             }
            },
            "marker": {
             "colorbar": {
              "outlinewidth": 0,
              "ticks": ""
             }
            },
            "type": "scatter3d"
           }
          ],
          "scattercarpet": [
           {
            "marker": {
             "colorbar": {
              "outlinewidth": 0,
              "ticks": ""
             }
            },
            "type": "scattercarpet"
           }
          ],
          "scattergeo": [
           {
            "marker": {
             "colorbar": {
              "outlinewidth": 0,
              "ticks": ""
             }
            },
            "type": "scattergeo"
           }
          ],
          "scattergl": [
           {
            "marker": {
             "colorbar": {
              "outlinewidth": 0,
              "ticks": ""
             }
            },
            "type": "scattergl"
           }
          ],
          "scattermapbox": [
           {
            "marker": {
             "colorbar": {
              "outlinewidth": 0,
              "ticks": ""
             }
            },
            "type": "scattermapbox"
           }
          ],
          "scatterpolar": [
           {
            "marker": {
             "colorbar": {
              "outlinewidth": 0,
              "ticks": ""
             }
            },
            "type": "scatterpolar"
           }
          ],
          "scatterpolargl": [
           {
            "marker": {
             "colorbar": {
              "outlinewidth": 0,
              "ticks": ""
             }
            },
            "type": "scatterpolargl"
           }
          ],
          "scatterternary": [
           {
            "marker": {
             "colorbar": {
              "outlinewidth": 0,
              "ticks": ""
             }
            },
            "type": "scatterternary"
           }
          ],
          "surface": [
           {
            "colorbar": {
             "outlinewidth": 0,
             "ticks": ""
            },
            "colorscale": [
             [
              0,
              "#0d0887"
             ],
             [
              0.1111111111111111,
              "#46039f"
             ],
             [
              0.2222222222222222,
              "#7201a8"
             ],
             [
              0.3333333333333333,
              "#9c179e"
             ],
             [
              0.4444444444444444,
              "#bd3786"
             ],
             [
              0.5555555555555556,
              "#d8576b"
             ],
             [
              0.6666666666666666,
              "#ed7953"
             ],
             [
              0.7777777777777778,
              "#fb9f3a"
             ],
             [
              0.8888888888888888,
              "#fdca26"
             ],
             [
              1,
              "#f0f921"
             ]
            ],
            "type": "surface"
           }
          ],
          "table": [
           {
            "cells": {
             "fill": {
              "color": "#EBF0F8"
             },
             "line": {
              "color": "white"
             }
            },
            "header": {
             "fill": {
              "color": "#C8D4E3"
             },
             "line": {
              "color": "white"
             }
            },
            "type": "table"
           }
          ]
         },
         "layout": {
          "annotationdefaults": {
           "arrowcolor": "#2a3f5f",
           "arrowhead": 0,
           "arrowwidth": 1
          },
          "autotypenumbers": "strict",
          "coloraxis": {
           "colorbar": {
            "outlinewidth": 0,
            "ticks": ""
           }
          },
          "colorscale": {
           "diverging": [
            [
             0,
             "#8e0152"
            ],
            [
             0.1,
             "#c51b7d"
            ],
            [
             0.2,
             "#de77ae"
            ],
            [
             0.3,
             "#f1b6da"
            ],
            [
             0.4,
             "#fde0ef"
            ],
            [
             0.5,
             "#f7f7f7"
            ],
            [
             0.6,
             "#e6f5d0"
            ],
            [
             0.7,
             "#b8e186"
            ],
            [
             0.8,
             "#7fbc41"
            ],
            [
             0.9,
             "#4d9221"
            ],
            [
             1,
             "#276419"
            ]
           ],
           "sequential": [
            [
             0,
             "#0d0887"
            ],
            [
             0.1111111111111111,
             "#46039f"
            ],
            [
             0.2222222222222222,
             "#7201a8"
            ],
            [
             0.3333333333333333,
             "#9c179e"
            ],
            [
             0.4444444444444444,
             "#bd3786"
            ],
            [
             0.5555555555555556,
             "#d8576b"
            ],
            [
             0.6666666666666666,
             "#ed7953"
            ],
            [
             0.7777777777777778,
             "#fb9f3a"
            ],
            [
             0.8888888888888888,
             "#fdca26"
            ],
            [
             1,
             "#f0f921"
            ]
           ],
           "sequentialminus": [
            [
             0,
             "#0d0887"
            ],
            [
             0.1111111111111111,
             "#46039f"
            ],
            [
             0.2222222222222222,
             "#7201a8"
            ],
            [
             0.3333333333333333,
             "#9c179e"
            ],
            [
             0.4444444444444444,
             "#bd3786"
            ],
            [
             0.5555555555555556,
             "#d8576b"
            ],
            [
             0.6666666666666666,
             "#ed7953"
            ],
            [
             0.7777777777777778,
             "#fb9f3a"
            ],
            [
             0.8888888888888888,
             "#fdca26"
            ],
            [
             1,
             "#f0f921"
            ]
           ]
          },
          "colorway": [
           "#636efa",
           "#EF553B",
           "#00cc96",
           "#ab63fa",
           "#FFA15A",
           "#19d3f3",
           "#FF6692",
           "#B6E880",
           "#FF97FF",
           "#FECB52"
          ],
          "font": {
           "color": "#2a3f5f"
          },
          "geo": {
           "bgcolor": "white",
           "lakecolor": "white",
           "landcolor": "#E5ECF6",
           "showlakes": true,
           "showland": true,
           "subunitcolor": "white"
          },
          "hoverlabel": {
           "align": "left"
          },
          "hovermode": "closest",
          "mapbox": {
           "style": "light"
          },
          "paper_bgcolor": "white",
          "plot_bgcolor": "#E5ECF6",
          "polar": {
           "angularaxis": {
            "gridcolor": "white",
            "linecolor": "white",
            "ticks": ""
           },
           "bgcolor": "#E5ECF6",
           "radialaxis": {
            "gridcolor": "white",
            "linecolor": "white",
            "ticks": ""
           }
          },
          "scene": {
           "xaxis": {
            "backgroundcolor": "#E5ECF6",
            "gridcolor": "white",
            "gridwidth": 2,
            "linecolor": "white",
            "showbackground": true,
            "ticks": "",
            "zerolinecolor": "white"
           },
           "yaxis": {
            "backgroundcolor": "#E5ECF6",
            "gridcolor": "white",
            "gridwidth": 2,
            "linecolor": "white",
            "showbackground": true,
            "ticks": "",
            "zerolinecolor": "white"
           },
           "zaxis": {
            "backgroundcolor": "#E5ECF6",
            "gridcolor": "white",
            "gridwidth": 2,
            "linecolor": "white",
            "showbackground": true,
            "ticks": "",
            "zerolinecolor": "white"
           }
          },
          "shapedefaults": {
           "line": {
            "color": "#2a3f5f"
           }
          },
          "ternary": {
           "aaxis": {
            "gridcolor": "white",
            "linecolor": "white",
            "ticks": ""
           },
           "baxis": {
            "gridcolor": "white",
            "linecolor": "white",
            "ticks": ""
           },
           "bgcolor": "#E5ECF6",
           "caxis": {
            "gridcolor": "white",
            "linecolor": "white",
            "ticks": ""
           }
          },
          "title": {
           "x": 0.05
          },
          "xaxis": {
           "automargin": true,
           "gridcolor": "white",
           "linecolor": "white",
           "ticks": "",
           "title": {
            "standoff": 15
           },
           "zerolinecolor": "white",
           "zerolinewidth": 2
          },
          "yaxis": {
           "automargin": true,
           "gridcolor": "white",
           "linecolor": "white",
           "ticks": "",
           "title": {
            "standoff": 15
           },
           "zerolinecolor": "white",
           "zerolinewidth": 2
          }
         }
        },
        "title": {
         "text": "Correlated random 2D samples"
        }
       }
      },
      "text/html": [
       "<div>                            <div id=\"47f7ccc5-03b6-4594-87ee-6288a6ee2e21\" class=\"plotly-graph-div\" style=\"height:525px; width:100%;\"></div>            <script type=\"text/javascript\">                require([\"plotly\"], function(Plotly) {                    window.PLOTLYENV=window.PLOTLYENV || {};                                    if (document.getElementById(\"47f7ccc5-03b6-4594-87ee-6288a6ee2e21\")) {                    Plotly.newPlot(                        \"47f7ccc5-03b6-4594-87ee-6288a6ee2e21\",                        [{\"mode\":\"markers\",\"x\":[2.4806528428621446,-4.026250305018954,2.52538120223729,0.4429830744867893,-2.9184624077331884,-1.8777023186732495,1.6143842875445849,-6.230796842525783,-6.366231945033293,7.473784548337767,-2.5746310469032876,-1.1987692892535287,1.8807626984092525,2.246235490165059,-1.7538357492607999,1.9929357144430893,-1.542703013092264,-7.926780376439496,0.04052923429593469,-6.658105825275193,2.2019670081705285,0.9199592742598237,0.2662116833623063,4.087935542360331,-0.19980465916868934,2.3427301213388114,3.4017162022995096,4.917510096168026,-3.6006742140067227,1.0278825921764345,-0.6362179084310994,4.8403417659559,-2.3493893834515003,-1.2012471457606178,6.7414916197347186,-1.0382499867626929,-1.9864711339670982,-1.9044398038790626,-0.7848157579771686,3.0619264251763516,-0.06988724713084848,-1.881787121279854,1.7722988661202796,5.09059729282764,-2.6221934746045,6.132150540553646,0.09480094981487647,-2.674404113310362,-3.5024324625060848,-3.1615912745196666,3.4221127194349616,1.0981109156289774,-4.908539797047816,-2.117193307353312,0.45760014556885986,2.2447037385344846,-1.242918308718684,2.233200544363245,6.194997453285886,3.4314720026426935,-2.292707483865265,3.506876939086851,0.9679547789670929,-5.690219847519007,0.24792136490173977,2.8256740925514503,3.8856182094017613,6.005361623852687,-1.5381670042784081,1.2694560722374413,2.35420121425953,5.325945044123784,3.9872225112734494,-0.007039355509131262,-2.612455626905924,-0.045015186815140495,-5.110531474789594,0.014098321964261973,4.874616093963173,-0.963227458607737,0.7091567437574238,-5.461842727478606,-9.76167344326813,-4.6911166238708635,-1.611216010339306,-0.3993476577488557,-2.3026885192867717,-0.7572384623762134,-2.3699458837063565,-0.9662618821150166,1.767546642666962,2.0475336961471693,1.0038632887832877,-0.33671410265512014,-0.7375596516992454,-2.6761483726930497,-2.0785768101928204,4.423492573364993,10.616602968498858,-6.511474731182755,-7.081995561371633,-1.8421684278193595,4.276454775923729,0.5544776147497732,-1.1413289492461742,4.286629779713201,-3.3415654754864237,1.9692541841088609,-0.6299762505127806,1.627863146543456,-3.8859820220136334,-7.174189629541738,8.565602833557122,-0.6121728770942807,4.582290267503826,-1.3401826668242203,2.06461936806883,-1.8464369735008779,-1.2381834844196284,3.78639992964748,-3.1020994753557676,6.589028974155242,8.488165057037415,1.1330197788180358,1.1726338264514187,1.901964535218275,5.655237917411176,2.905642005170218,-1.5508428337303255,1.5000036722460575,-5.543387904895679,-4.324771999959362,-1.9525675467174075,5.302261397054634,1.7745882592813822,-3.6673459224847496,1.96734046415153,1.2310325797941912,-2.7597335157257357,3.1548550491415424,0.8259572439172381,9.194564469058381,-7.08311295028215,4.034468901424445,4.181266195127273,-1.5387654888162043,-3.6038905182909504,2.399550092509668,-5.279754149612495,6.487774714521406,1.8748715897670776,1.3606559369628826,-0.8815966824250294,-5.108894874023186,3.4738047193198485,2.2712412155241983,-2.301596317220725,2.1116973112735162,4.438359091979864,0.2867454846198986,-1.2870495932594317,3.0453646267671037,5.744164648654655,0.4631113694175837,2.9608984334436768,1.4460859388131033,2.349259803195883,2.512990907738721,-2.124911145987901,-1.0145185420081242,-1.1323466731352847,5.016705292492869,8.553197492231698,-10.066901460773687,0.9125041532856524,2.7769681194206095,2.247437455399326,3.4605448112750583,-5.54808837478215,1.529872740024314,0.5300080829816639,-2.891312289700831,-2.898454561747311,4.271758359285582,-2.6810048225607073,-1.6690161115768463,-4.041331141993345,4.00144307862508,10.889820972097631,-4.499194606078019,0.034908637608671134,2.6232953721463086,-2.883641625590398,0.11183239711692416,6.542772966721402,0.21784199718551778,-4.11553616923101,-0.6298058702950995,-4.664277487066349,-1.5096384280006794,4.05856017705247,2.645773816403279,-4.07116335049913,-3.92197481049383,2.9909305704556046,7.250825553000191,-3.9904223970140187,6.124903866973826,-4.869469797550228,3.3114008928259104,-1.2040696562485276,6.168230021554632,-1.390099485739377,-11.70838972616762,1.9085391039792354,0.828278451564687,-4.671675828718956,0.4880692951293473,1.289744850507298,2.2587628776593913,1.7960721518983838,-0.3948936841938684,-2.427197596302768,2.5938924684675353,-3.350111520606475,2.9898780825308395,-1.4274620166562975,2.3497075516685992,3.696456103430941,1.6015683753493328,-2.010394026502714,-2.291415686223507,-5.910644632623775,-1.683535401940435,-3.7587240299903835,-1.5400581043887949,-2.1143726210289158,3.001273520921293,0.9972590610974124,2.4496321195895896,-1.995155759577826,2.837796986214598,6.0338542026155935,1.3245782839845535,0.7518619125056063,3.6594442378246486,-2.8601936544973907,-1.8446039162347507,-2.1306703528353834,-0.4084328450161179,2.3991540852949234,-3.2433202369785836,3.1507399950587196,1.6692623737581993,-0.4368708750345922,-1.9278559514959612,4.217212983890558,1.57653513913003,-1.6163589340836286,2.993937477228664,-0.9890076925872455,3.291304682917879,-5.011131155558241,0.43734158671253254,-0.11781512630707702,2.383837455817754,-4.1099205083788055,-4.812960019796333,-2.410453750592537,-4.253369871220026,0.37290156199737134,1.360449920128246,-0.4375480854962077,1.3145486470778565,-9.479956553497088,-5.961096502781336,-5.588624188422438,0.4204050464831499,-0.03162829317291538,0.20866042689845377,-1.3171502706303464,-4.654690476906493,2.9214494433687537,2.2375562807372265,1.823282127055693,1.3002116235738774,1.2199849779556093,2.9378958639725354,-2.22808051309522,-1.869538020035618,2.3878554937869,2.718484712141457,-4.68227486946156,-0.7372495786230635,0.42391008152680354,1.2399488855437673,-0.46919491730954604,1.4427243801700114,3.657378927077636,-3.7400685476624678,1.9288833025529817,-6.485065120459972,7.016825506850046,6.870866318125172,-7.027892919040239,1.635955809734365,-0.7053886289606515,0.2871921681869851,2.782124958923713,5.077751375783275,-2.6603160378572266,-8.079376122612507,-2.837701820058335,-6.914612916603912,6.404554883959792,2.1133025759718365,-2.689091996831057,-4.4413976847755166,4.497861837306978,3.1878066528258167,5.477863601571556,-5.648034952460431,-5.801899911034165,-7.6844946389804,1.1823637087416152,1.2850377788376715,-1.1529699406396208,-0.37189399587602956,0.7429736381840287,-3.2644779529539116,-0.7766879949916219,-5.7806992235192745,3.092905491343903,-0.6698046646429787,5.640710942398199,-4.926272957854373,-8.235569149433559,-5.79007678027152,-3.25649003695325,-5.822041791545146,6.69353253324681,1.376979723882239,-5.426861176413905,-4.464676718008429,-5.738087441136364,4.68513941017282,-5.920584027363108,-7.4311899449782,6.405390480274481,-3.373783706180963,-1.1045271504622434,-2.1430150043502336,-0.47141396073728015,7.0838237291164035,1.836368935875586,0.7819091064249882,2.6908676875435074,4.274688773840657,2.222274314117753,5.668294164837066,4.706862100636278,-1.5586536420005768,-3.103395688668769,-6.235187796259519,2.001443363635111,-1.1647829746213447,-2.7179441591123297,-3.117214659377645,-3.12017053494679,1.0723410484090312,2.816601237031561,-6.276354885959796,-5.698815741660944,-3.0776266871348255,-3.1966325718815365,-0.7438926761640179,2.0501787578897823,-5.351618590645358,-2.157994197217331,1.4309065150520928,5.042286207311812,-0.5376434351863719,0.7639374999439017,5.556582409859974,-6.813428494920396,4.514996847532891,-0.6259662040030609,-5.4188537298222945,-0.3591628357551543,-1.9968084432381712,-1.1438103489884144,5.133796930067916,-3.5412830020323867,5.902471377368231,2.8479457808094533,5.147981337479449,-0.4552651576940181,-3.2853034159831442,-5.454438726658497,-2.930669242945647,-2.8575281352597295,-2.2115686626425193,1.0786632079085323,1.8737012714316879,2.487680525016326,-1.883498461452092,-0.0013506932104645486,2.97537921313301,-3.5015082323948308,-1.310770980922448,-0.900913743608094,2.917228506553645,-1.7321965409590645,-0.08517490296418417,5.573019160086369,-4.650709590875664,1.33994008449103,4.471735956659603,-5.35734599026869,1.277927441232847,2.538224812758794,-3.932648105206131,2.088183401128628,3.6907850356659666,-0.6327949421582881,2.8392703504092127,0.3560330144245074,-2.3382560895065883,-0.29741719962901936,3.4159512373084793,-2.806773945589134,0.056249237617391756,-2.4873093752992745,7.507318855278237,-4.100324893009409,1.483616880957239,-4.164369553329944,1.2758265501965744,-1.1720458121214332,-1.1434790878118462,-1.1169280013102068,1.592689070152347,0.32368893461826276,2.904853859700792,-8.656024037358383,-1.0740171218345747,2.928214861823262,3.508221024656744,-1.2898227633004433,1.9325602558450985,4.017781109300357,-3.6776543067097585,-1.4566754073356063,2.9266902597153917,-2.30353066920516,-1.297418094102592,2.1821936163274667,-0.4696072895259098,0.7266176080091991,-2.5816015921078455,0.2890252545734156,-4.20819575193162,-3.7532861721777415,-3.926615113546884,0.6790306524655372,6.195229248355132,5.692842425573687,-4.710621206083142,3.6805260004147202,-1.86703025906047,-1.2371956806323727,-7.173798288215261,-3.2129288893951253,1.7189898904294096,-0.08069723574565968,-0.25073856469705613,0.9539430431462164,7.155919346102405,0.9565403816129755,-0.7894353703179687,3.469100597459262,-1.37454674125849,2.9328031349813313,1.1076829268995383,4.011711979500023,-3.5694323857007437,-4.726567527200015,-2.507845258258883,6.481253833646524,-0.29639494959030444,3.480742609986424,0.9124088123015093,2.396504486277384,1.4876895426976933,-2.1086175840623214,-0.9705349494530451,-0.05442472168550813,4.31068873349634,-3.329848662382675,2.7639734371032074,1.8451637914042571,-2.280763349245437,2.1309842756278523,1.3430804447263904,4.682948308525958,-3.9598062740091065,-3.2958455329639293,-0.7605104196989984,-2.531231349734661,2.5724886840098233,-6.24406397211745,-3.909998182590408,2.3110993408223406,-5.747034342946064,0.9494522088114175,-1.098463823366153,0.23811928969668728,4.132910522742972,-4.285092914451204,8.085311914199178,3.9426520175506674,-4.517171146692936,0.8248831880049081,-6.941143792252214,1.4865456773764687,-0.7398427556595049,-8.419586837765472,3.0373695766818747,-2.752697432159172,3.523662803736751,-0.7260569350406796,-0.6861386346568894,-2.665532892160155,3.704638787684749,-4.070561283247848,6.561413898108038,3.373230817595688,0.9028302484427551,-0.8708168012185213,-0.3521508424560993,-0.21141865812874694,-2.4764934039475097,-1.4847413269750136,9.217151878247213,-0.7670769607515545,-3.9070666066798707,-5.89736619750656,-4.092523949345611,-0.21220699233440865,-0.43763703172072843,-2.5184724387376085,-2.633329566331386,4.092087918738768,-2.622488290339749,-1.1336578291552248,2.199044641764205,-3.9772211116400733,0.7738799603879575,5.119972089255996,-6.543647820122564,1.8337677534805987,3.851930001836373,-1.2444755695303735,-1.0470407896440679,-5.737713537021459,1.179760752381501,-2.3319201594700694,-0.061642391277748954,0.9563490067666609,0.9133691752445581,-2.853839080278094,-2.276817256660018,-3.794658839559461,2.4982917837198575,5.22737011335429,-4.831955593167655,6.970269900088548,-6.255899361096227,3.957241972696602,1.7366600946225528,-0.11747430258702218,-0.5674649416986663,1.2004768692392167,-7.594701573674841,-1.7574003897466648,3.5983903070016545,-0.7574629997655399,1.7291359742927934,4.83163846177592,-3.3092598786273735,0.45350791394898493,0.44632815703042517,-6.806558341822744,4.531330989450545,7.184345921059605,-5.585086835494925,-4.537240943768485,-4.744893787585456,-0.8874978338688388,1.874367335554322,8.744029504759428,-2.77292736988755,-1.0835452002153367,-0.19299287474721893,2.3765502078791174,-5.306841632683752,-0.988468994478678,-0.7812370239158319,-4.319682863324743,4.256376280270083,-4.227614350266543,5.811783054627208,7.113679156589112,3.5193862913335154,0.4967666605548793,-3.4260305571325538,3.9519233987718403,4.002953822061452,2.2143512237485186,-1.267323882723753,0.9119121707018252,0.027296421461531217,-11.400725271225015,2.896741001202306,-1.7411439156451847,-0.015217347515309898,7.670179267811182,-3.9213126174039714,-0.8484583340531402,0.7678942087864945,-3.1309361655281966,1.0845399955633641,-0.90312171262856,-4.642338007300481,3.760297234898045,1.6880194927941972,-0.20473976777402442,-3.167876789305016,-2.070058616762106,2.883142611096771,-3.7024773714072037,4.024322549838141,1.775986119796642,0.8537748122478279,6.814637620846906,2.777900667421914,-1.8684126358494089,-6.051512649264275,2.001131167629686,2.4247718298742273,-7.875914157160185,3.3737291419836772,-5.100142135611013,-6.515916009655355,-3.375779002390746,-2.5908175973325736,3.891348637242329,-2.6587067425126736,-2.924841135352903,-0.6592285706790514,1.6830023098014926,-0.6382999168911074,2.163279012394497,-3.815897070834061,-0.33389079184864623,-4.577275586792275,6.018291221123004,-0.14105115304927818,-0.011738970372914104,0.2692905695821477,-5.483893659829305,0.2796505372655961,-3.1846104162340847,1.3261994772155163,-2.16266535734031,5.624943921417666,1.7778181367950494,0.37399375742881424,0.41055746708053276,0.5286592764332265,-2.2739966910271496,3.5217370936040457,5.069062174384314,-3.8339819739805168,0.7469666024678956,4.539456683365422,2.7184947697955737,-5.2712978416067156,-3.0297105764428522,2.2466535513816104,-5.555861742136572,3.199129417954386,-4.1112501495348965,1.7810234832992433,-0.17035196542289643,-0.17843091786835263,-0.7497384825135689,-1.6036792000571423,-0.46858073114284093,0.33428914228504025,-1.9655789305587557,-0.23957899016797501,-2.9093088648109466,3.4960726528376247,2.398038825538853,5.566035993216056,1.5654755733508274,6.0207900441163416,2.001708990391414,3.4241811522759753,-1.496184482055666,-6.6756717345885335,0.7845116519417359,-2.5760056143798726,-3.745262156113072,2.360179259414525,-3.8771256055656096,1.8798156293274566,-7.198191767489416,-4.9124661791149435,0.22166576110952874,-2.618607189902578,0.4110291413911904,0.18718730991638322,-2.1306916153679585,3.4236932131132347,0.8724941648217586,-2.36833955801488,-3.3852350200015415,0.44540471677882787,4.873001442990903,1.7064542597884198,-5.906292414815209,5.8781440355364225,1.0250432075608795,9.604741192163734,-2.3742954339615006,-0.32201008368762807,2.0514578107349206,-1.1111220645237223,1.1584746137675812,-1.185958887729574,-4.952828978946389,6.715070140181991,2.491880941542887,0.6216748849270476,-2.3963086331705625,-5.732939329257059,2.070533622753652,5.608056834799125,-3.991202471419572,0.7192250851397202,3.922740329911877,1.3691659591128864,0.8928051325778361,-3.9881833343602975,-1.1458913734210179,-0.9135645694969837,-0.0626401474484728,-0.8124256682006292,1.2592799481284132,-4.685427458875152,1.3553530609717972,-7.8488733857592505,1.7184852793891876,4.57087538399017,2.617153525381478,3.479752919311162,6.349887668204765,-2.8848189821087424,-2.3326075067659695,-3.0167604734545557,-0.3890129817251424,-3.1203729915638627,3.2088136682834936,5.381366732601034,-0.9062986489234348,0.6204680326002336,-0.15913949032473718,-0.17069267211195305,1.2230361625502506,0.0942073277118704,3.8403499758467348,-0.6029607637091836,-4.834583023728362,3.680473728990192,0.9830498447118952,1.73338311802885,-4.184269380709368,3.0227048468844577,-2.979529717749234,2.3813000158840487,-4.0449637949117925,0.2938121040030772,-4.23559020500377,0.9259582955839936,-5.851194719434618,-7.56431686792374,1.1991885930861628,-0.20837276255089443,-1.8911303245969917,3.0609023703781633,-0.8420066248331286,2.4043694422382913,-1.6253585617531248,-4.1957763301513955,-7.8753137462140375,6.503783617749387,-1.259753425142415,-3.9881635551742742,-5.627043999611882,3.0875718476287735,-4.253324293192097,-2.1910703762340398,-7.546781131663139,2.8924870717258035,-6.2231395491621955,-5.198588314205602,-3.4112231429466418,6.871129557327255,2.977585175565086,4.826592220446748,5.800757340348214,-0.10691503526547352,4.305098510216639,-1.998062320008926,9.627576609997426,-0.5770166040502115,4.729850517735594,7.170626424743479,1.181162014693142,0.2686536329178013,-5.227524431807101,0.02118933762215447,-0.24711148529752025,-0.21182598782621348,5.4653678279814795,2.989307563455015,5.61029162499633,-1.5339206877210314,-4.146696330165845,1.878219229846657,2.269556571726886,0.6369402037752693,-0.383626634265325,4.73050149787541,-0.8341482046950399,0.7174182156490532,-0.8837518198196779,0.7702651403988565,-4.910287530037931,0.7300144981780001,-3.244780415282926,-2.8086945351527945,1.2921100011554438,-0.8738603719028544,3.2985779510800115,9.035955130312658,2.957822057736874,-1.477377964968002,-0.19766947292953985,0.3155914467509189,5.3038293493580655,0.35714311463747417,2.7752253880779363,-1.65511359358343,12.216996860097547,3.1977901639958373,0.24743682199233952,0.6949874435965544,0.5789243148962665,-3.467725359347271,1.0441148615828824,0.506974527056258,2.1391056246705755,2.997914098155108,-0.7652504080209512,0.8918378529693775,0.17868001583583493,1.8740834422849717,5.240225389642901,-4.175995709800255,0.3646076637417286,-10.07810728534957,-5.651477270650719,2.2443921772334035,0.6421608606143071,1.3376576659290922,-0.896147093555083,0.041677530031430154,4.391590344031669,1.3044366175627553,-5.992525061436334,4.103160536541621,2.0462897843511465,-7.168156615515965,-3.0273827944061473,-5.551720893856254,4.675770777244429,4.640223685054706,-1.8675209388005087,-3.1053030668195367,2.6395850995195578,-4.554389259765819,-5.158736028085729,1.1902219485316072,4.291028582727883,-2.1174700743701953,2.98769096944312,6.14056094294612,0.6378332428937844,-5.049139948948375,6.598222718136543,0.16299281213782124,-3.0427162085480766,0.2761345639564914,-0.4773681222133391,3.0518289910002068,3.8684027885476517,2.845241121827727,11.160209074899404,5.5915174070306675,1.6304002982281585,0.5656495202308592,0.9555352298281825,5.131907008327474,-5.3052247185294235,-2.3616411948090317,-4.7486238106794625,1.3524915245757034,5.6124085985891545,0.8069852505548682,-3.788783528346685,-3.396947888921994,-0.44126067350224696,0.10146723190978557,1.7140886320170008,-1.7249099642982486,-2.433057776426197,-1.0771277561933168,-0.7431672109098177,-4.9919124634210785,7.9146725373542886,0.4655911711018239,-2.2990153199656604,1.1945106986116276,4.371130730379781,3.811592339458896,-2.8940724791534334,-1.4994197616956277,-1.2612492589543653,-7.626873327963835,4.7718690461720925,3.071830914482798,-9.10049620532969,3.7407752299197323,1.964202549330593,-7.007584785046613,5.720511278157515,1.6177827142153285,4.827522140562067,4.485864742918078,-3.8064696372468227,-3.507786874658268,1.9993139240127626,1.2111820699244797,5.7302849223557235,0.5330037292126006,3.209138734245724,0.337574789131978,-6.445542481237993,-1.1940123583167703,-0.7109568221223999,-0.8759487005655795,-3.254180599901437,4.545069980483602,3.4098976683077264,-2.814953738741978,-0.7309684074725409,-0.40201219277690026,2.1709952334452716,-0.41211559485504373,-8.612717870040216,-4.836995274111084,5.590868749450504,6.869187008267739,-5.848728879781808,-0.600713440239317,-5.505372185432881,6.4040167460452375,7.088982876267575,-0.6438267600571259,-2.1721061871927296,-1.3371988159446757,-0.8609855554820539,1.9734917754666998,2.1450007476798207,-5.201638394996244,0.07084546360002131,1.1703746615601014],\"y\":[1.0606276965649024,-8.658183538413537,5.310910025512474,2.1512114635933672,-3.7416721259652643,-4.0512247530513585,4.304793499207104,-7.935953802490251,-1.883042013106122,10.490190478645989,-4.719545604522663,-4.014750668870206,0.553808915069907,2.341266609021785,-2.6837086809150312,-4.211932969873002,-1.481849974479326,-11.084296225258687,3.3541251659327047,-8.686057854117568,2.6555516393593344,-4.83502582290717,-2.8306194458503273,9.663998643351762,-0.377207755617851,5.699950819933446,5.585102952000753,5.4161453390037515,-3.848640732458029,2.9570796607865346,1.709201955133599,2.69923189604659,-3.501125508191699,-5.673528594516616,10.677338505900845,-3.2145283042930934,-2.9555050148788484,1.2378805677305746,-2.787753260597177,5.074212446838335,4.009351553855104,-3.4158851001108976,4.045442636788427,2.4677625276466,0.09416648797717087,7.230817532576742,-0.39277575036230145,-4.033082383656102,-4.307936309029114,0.9608158127223112,7.718114911686041,5.784308205331127,-6.718911224747437,-0.9580964850254885,-0.25761626122695724,5.811664816144357,-3.518995505823719,3.315606311256805,7.015194561415112,6.931711139611422,-1.3899957696718448,6.760113064950228,-0.5207317787323378,-4.309408188184809,-1.2398950875220636,2.5253180824901884,5.99305187156053,6.728550737615087,0.7090592560617307,4.394281348454085,0.12099050184302795,8.857208448106144,5.839501594472261,1.1154351537220542,-6.163871259639688,1.0020249926421256,-7.595194597966373,0.6034523366787149,3.0617334838094985,-3.3043111268335243,4.4390677558298774,-4.153146186419125,-12.093211796938839,-11.989552241437536,-2.6198258109380816,-2.7133692365529303,-8.15376804096185,-1.8336390951724941,-3.82218199199898,2.700579489951706,2.308117430995519,4.379014898913864,-5.014720026847799,4.896189678783886,2.6359967563554108,-0.02243724195728114,0.08103905974060632,5.782046069760889,12.646583247455322,-6.208091722408995,-12.141110538371533,-2.894010361071766,1.308882451026409,-1.0497343026340182,-1.495297065131987,5.509104445113822,-8.953626923759828,7.925207587683713,-2.403787247934541,2.18715507010621,-2.6035317860747385,-14.51724117931652,10.048828698114779,4.225691119087769,12.05668345498899,-3.6942430946811964,1.3302021737754481,-4.168246712054597,-5.299288222045572,5.174239724586054,-2.669544275732548,10.827147206812718,11.809779825406018,-1.746548355324669,7.041361699197507,4.4692945512713065,6.841445545856499,9.158574009407879,-1.9481190151781353,1.553436686475759,-5.037591650307361,-8.137028452679273,-1.0207568999449537,1.3900812226409975,5.1304068729876375,-5.8240738908764245,1.3174603436928276,3.154282935101657,-2.9431302629372076,0.038176090301016874,-0.5905869071672808,7.430851904225703,-5.349362090983367,1.7829478259546132,2.030383042268026,-4.521732793607432,-2.2251320172085642,-2.730359121557935,-3.762796125459851,8.890728326835907,3.225599389795399,2.7154098326508556,-3.6850442060159074,-3.9692990117263234,-0.36617760261318266,2.1822782799423073,-1.326148782235005,3.5956002524262223,1.8793217654196608,-0.5565277851606367,-5.614652227717521,4.599417568307865,11.829080055939087,-3.4647174079627145,4.721676707846765,-0.32526104288734004,1.968063633409543,6.660749954349033,1.6239103217531843,-0.33832797871317316,2.822179072053336,10.808062144152327,13.251247454106633,-10.786888075970186,2.937640624648234,3.015445624545224,2.9016993021553774,4.720130549892802,-3.5365977628227374,2.07397985771577,0.18077914472530587,-0.9034662658835617,-3.398861759128257,3.47058755255801,3.4017456444863363,-2.05559617473852,-3.2007983572516947,10.128372033648883,17.37665962040208,-8.413025393644268,-3.7997975740870644,6.663396245990759,-3.9012085912485004,2.786747944296205,17.02635822764794,-2.2250755251522993,-5.289679990213453,1.448630582923458,-9.552773597768816,1.1739567796896844,8.468307328982144,10.79646912184152,-2.8440226243810542,-4.357318131970397,5.592548081671372,4.533709919855914,-5.3422471504419216,2.4252041113825924,-10.665902142139638,2.2985036299249524,-7.835768786203592,10.20994897704257,-2.2714960821015433,-16.9973900729629,2.225871696654802,-1.6291161490189436,-5.9483545849383015,1.2177058840079351,1.7986069589869331,1.600975165650054,-2.1428380649306984,-5.387387226291916,1.8903754715929808,2.493935230379855,-5.9437669172258945,2.9713518293009775,-2.3878273207019536,3.433692386282625,7.11368008713551,4.96586911975061,1.9335926320780152,2.999847978152549,-9.81306662919092,-4.795260530037072,-5.298202807247615,0.3810731332275604,-0.8723547565004702,6.097183037971491,0.3718804214096523,4.09396630673973,0.0020706079991051896,6.515466025830924,6.301054584832563,0.3792510010284218,3.422127760413735,5.514533711465861,-9.015964707905269,-0.35762741391613706,-2.2485648660583024,-4.507649840892463,5.480932013433417,-3.9156674436882377,0.3416386460820926,0.7487396824315173,4.145633699128295,-3.620014230231181,5.0685740971810125,-1.279019761102959,-3.9953131056584628,-0.3811309520595816,1.71282211753174,9.171030889917732,-6.566344972473704,3.3798726981355016,-4.921687392888314,7.062158238761368,-6.977915473035837,-6.93427428783106,0.760188774727158,-7.234496864305668,1.8179659123448848,-2.748937661038571,-1.2742325621434092,1.6861366196089063,-15.983495450343186,-10.333703743001669,-8.153885913967867,5.740166218243214,1.3795853823500785,3.0343053446127635,0.7452564545633755,-5.326530588982633,8.07797761252156,-1.390712202742452,1.0925586097845401,-3.5045992534257038,4.804989582453888,7.151829883147927,-3.195281037830422,1.271206149643863,5.0844431617860675,4.9805560067395716,-6.084679380691445,-4.355768309145843,0.9541067372849791,5.102167837589717,0.24302593549485585,-1.3693163264017838,6.353052160292364,-5.125795400538763,-3.526921032127662,-8.251582106219008,5.715461360925831,14.235406312327472,-13.648069194054518,0.8992502445366566,-0.40918393772736833,1.4502110494647733,6.905016668877606,5.0221593317536275,-9.748121668199213,-3.9563986857534315,-1.5677698619198468,-9.157682259132848,5.690968411182293,5.208859257833044,-4.315212949883661,-2.623649045865327,8.263578797628506,2.299254142053772,5.634618168275597,-6.650830515441678,-1.7364229432212928,-11.065556309891843,2.492233080416391,-0.9646840371058655,-1.860492979784594,-1.5599267439721305,2.311017349423317,-6.284417323250548,-5.545727449173386,-3.5670247516624976,6.403933408932974,2.7320340467662607,5.650440603768027,-11.674691478290072,-10.506624876924464,-8.202006240013297,-1.82626201523219,-6.807431118578379,5.794991680336977,2.181165127329425,-8.636512195647263,-5.9103154760737775,-7.490699142583947,8.87822887793325,-10.758345416032629,-6.673596599402925,7.175886268431388,-4.772990390497236,3.9177295931562583,0.26211253153488534,0.8257674433694507,12.73703807551609,-3.8543520883461815,-0.9880713479815014,0.7151557059733291,7.090580889487054,0.7612259352514263,6.453497431815584,13.267159342368833,-0.8823152031568368,0.916635052333505,-7.082041905358157,0.5235075014814845,-0.14600540562874054,-6.089137566258124,-0.7475302241084079,-0.7063287490487149,0.02901554114828231,4.196887564386774,-7.409252686185552,-6.959973649391061,-5.417764491488252,-4.6063181239345,-7.715962349900705,2.4321203093448633,-5.768887529227078,-6.020390062110102,1.4139300035431273,5.268483126938959,1.1024470169027425,6.816104210095427,2.5254185795833926,-4.465707620154969,5.336904584402548,3.444231298024752,-3.321644586309879,-1.954341623088356,-3.458584672817838,0.4850395448532627,9.008562953839434,0.18829805268359467,8.663823735477822,3.6767969773321427,7.447469450736221,2.436860389476977,-3.1548693230230165,-1.761775159490139,-3.034831722451967,-3.080189500957436,-2.297869210347129,2.2710310331890464,-0.20222460855407742,0.052385503205437,-3.8357982980653427,3.5530500815019606,1.9246817323990326,-4.532328592337438,1.7032317519754656,2.051139015920995,0.6448400802663066,2.832262620031755,0.9835715780209533,9.442165804318721,0.012625472168650287,0.47141285313754544,8.7437025352304,-7.152859211385292,-3.8095075051469403,10.02141103124474,-3.3554764465988716,5.596711285054744,4.703685412546299,-3.3678063868373727,1.9145542537252063,7.300724004663941,2.7436149356897483,-0.06383256740492131,4.933422929317462,-1.6398914309087784,3.5802190931822837,1.578230875944312,7.625735154050078,-8.450713455353545,0.37818838456385273,-7.41465275534314,5.59723117945036,-2.26729134044011,-3.5352670549975698,-3.4722966272975255,5.464502257983497,2.419261726459596,1.1843685021180543,-8.603663700568752,-1.253984114836475,1.5655751232393622,1.0376223634435466,-0.1521398111083273,0.5972390790773193,8.54254099784737,-4.274184085015478,-1.5859900023760711,3.022209161927629,0.7572448752674242,5.34486661513149,-2.389701362761556,-4.01850618168475,5.281854113833942,-1.6537257698685637,0.039735839313562185,-8.520954225631947,-2.918089480261237,-5.3573833048925525,7.803241765116473,6.507014040095543,11.691397344352632,-2.2817035216978288,4.668248067223907,-1.9780931552615773,-0.9476743950900732,-4.832050075232127,-6.095483907136378,4.93592381835689,-0.6720080758889218,-3.3056599192108047,-1.8433949305621176,7.137775552885543,2.6650435108661084,1.981852480645181,4.4356955655345836,-3.52131023874993,6.387534955870574,4.208315819161742,2.5419576396709864,-6.381354181550712,-5.330525400350713,-0.8032289444312588,5.253130641627323,-2.5084027095992294,2.1140920296811525,0.7687030706346958,0.8536081415065144,-1.1269867596666991,-7.693016705299433,-3.9783510477936437,-0.3896904648580511,3.14976966304502,-3.880935349213825,9.917799946478079,2.448553749124322,-3.269216399524797,5.140259743605102,2.6584365119970093,6.3565718326439615,-5.314910939939456,-1.5394112106186113,-1.6023115421732432,-1.2329884541040568,5.578837191258293,-14.119700579614092,-7.207230188562638,0.32974819444083625,-4.424883186276682,5.780322556001002,1.0033967713559364,-1.0684465109254369,3.0317135180165957,-7.186382896097306,9.085564241826962,2.912215752907314,-5.510105425039287,3.9812444507600335,-3.3345627195968,1.6809017324709705,-5.206355539470027,-12.451143412300532,-0.4218899260067359,-4.417344660501358,1.6895676166096663,-4.76197312764472,5.375781817906895,-2.550400359290128,8.650215071760924,-3.06691030565206,2.3495920749004653,2.579953399578785,0.5817361072578513,3.6791437305572723,1.9774141277700252,2.262220450317739,-7.255978443650701,-1.8272848001905275,12.472408377370707,-2.1287660470038072,-1.956378491138352,1.6820174681531301,0.09460836397541961,-2.0483938427723976,1.3093500419474946,0.7650073591220383,-0.8427071347174714,1.4616546582764283,-3.7471392945301134,-0.5450507098420254,2.7454154437586467,-7.924880203267455,1.5115368387618107,6.540684579852883,-12.499129490167654,5.8199013573667235,6.561785075391007,3.2575735271579576,0.3517510511772165,-5.973018699235567,-2.1618923398835266,-7.338128686212877,-0.6770379535182172,4.1908378274059945,5.7068184006771805,0.05878225670264503,-2.831043907639395,-1.931489485401709,6.381837045015237,7.852447127198747,-11.65323002111584,2.2667012706311733,-12.039082644650808,8.335236417767144,4.157338207984504,-3.42847552046005,0.1481535629231383,-4.4818592678475335,-16.19261178553348,-1.661118054096398,-0.14046300174293003,-0.8442268678708779,1.3270950961835035,8.95802379078773,-3.7432536485569785,0.13612792706312138,3.5515421205377757,-3.4994803926933415,8.286661994318093,12.073029188671693,-6.074949427314341,-7.107415439770421,-6.532414368940016,-2.0109732273484426,-1.455182835435079,12.92494466301971,0.5844039893158625,-1.1869132573802077,-4.013180691321779,4.4440840615766515,-8.104986611657086,-5.138460547406878,-5.278776994110296,-6.134636755980778,6.928106661226761,-8.859781516099345,7.446223462545157,9.287121721824061,3.1683388498883622,-5.189644134797189,-3.34101719409327,7.0029433476426535,4.121554790465066,5.523585116709854,0.741596177466539,4.399223431334473,0.6783732166041521,-13.365203269968239,10.17810195205006,-2.626098425649461,-2.7639222748160996,4.684161536555827,-5.24988071544851,7.870278103150268,-1.0479279674942834,-4.43051294849826,3.7638330528261785,-4.594843223044048,-9.395866199336789,4.198312601346381,6.215703250627592,0.903280644374309,-3.684961678408792,-2.629270234958605,4.325624513902961,-6.230129418321173,1.132364302788494,3.734071069222024,3.4942980009741587,8.770409247985395,1.272605807041855,-1.2776669409566805,-6.6327178299209475,4.100165047820444,5.849415507119276,-5.869353213295168,4.3455386056704155,-6.263304482173835,-4.230215141087676,0.7278258893545935,-2.2396364060083784,4.122568960365158,-3.606671326503506,-1.0755783380442554,-2.2063897152998537,5.591283149647892,0.33008701818683495,1.9533270228587463,-3.628882034009105,-0.5637196932784333,-2.1790088862663906,3.0862534691685446,-5.346651071038977,-0.6073905393790467,2.8612255797341466,-7.662524792775763,0.4223619693127924,-6.383286978740807,1.4654752781307485,-6.563656372515338,5.5093824143043735,3.1192553177078945,2.1631189946386624,7.6049927123715975,1.1746994797789139,-4.786302401718855,1.4490917098580856,3.3074423016485186,-0.38180680321623894,3.5954332413462735,3.5462529253443793,4.549921902701413,-5.105974139637613,-3.474130092568992,5.206566185178624,-4.37590375327694,3.373733553478256,-5.53419308573189,2.4394031130739244,-4.382086273452653,1.2957739954152614,2.7149801718241733,-5.544107122071908,-4.572431928218799,6.016448967605476,3.002293793388318,-2.539271348208477,-2.288591046174544,3.462284681173495,4.404862370263955,12.58590778565705,2.5133136668764,9.542101354523886,1.3178676409207934,6.666817170097342,1.928254018589814,-5.863217370290842,-7.3419363377379945,-5.238054797774229,-6.731792137128349,0.7436168311456055,-1.1447892306568437,2.0072173941229314,-7.617445466676619,-6.594368853085323,2.936417889977991,-8.400609850666683,-9.271014848639307,3.1579195760288834,-3.492823153575882,4.28263198754707,-1.0243571464279448,-3.0462099667059355,-2.194115993955875,2.1690545832317656,5.319381807297024,6.126901689810881,-11.496649094210616,5.931937082955171,5.917250259757567,10.0763450687465,-5.531669626090325,1.0594842350531832,4.7974615275167025,-0.725445168796663,1.1576530862944194,0.6735145735769881,-7.441934208664871,5.691979773300072,3.9750032341775983,0.5186400507032708,2.9365970921708295,-6.44254648020692,2.229311924673184,4.002047759642273,-9.794017471754017,2.2841928391268573,8.538608834038557,-2.147124892609994,1.5208603255248305,-6.612361536737163,-0.10189910902371396,-0.9201220848179469,-0.7941580459395856,-4.406745655828296,-0.9613689043662969,-4.923283741051074,-0.814698158520031,-3.4624584793186544,0.6363211163720701,4.038077255290977,4.97974120649049,4.6985731767533725,10.615445724066875,-3.8973413373558174,-3.411435333405771,-4.593639300431528,-4.279750770468794,-1.3697420041495547,2.7099623378385873,7.730123847629993,0.7074879321558931,-1.4141007921703341,-3.7510949024667974,6.031232649767239,3.026001963243537,-0.17250969804638602,1.171535760743294,-4.669193437259179,-1.3081182369295519,0.14241799695810076,0.8502932910997163,2.3489501374675945,-6.4506162593755345,0.7370607963373899,-3.700635416557061,2.107920733365256,-4.238112505402626,6.704266454935396,2.636239093575303,-4.303059793000678,-4.468028218136084,-5.003874074711301,1.8075421510796421,1.3344738713189308,-5.973143763011974,8.235155687107696,-5.4505295923071175,-0.9109221256573055,-4.026979377383635,-6.509900388463856,-13.097097802378226,12.019788267783756,-0.88561430960914,-7.91761308740522,-4.710330419909483,4.520619951205976,-2.645640705901007,1.7859646421576938,-12.067427580602791,8.185890328800832,-9.102361630619665,-10.280432014316817,2.4421308305816583,11.434896387936801,4.885827385024064,8.043954381671899,7.766213775955634,1.2159594315753675,9.568952142781903,1.2806643204006327,14.043342521462222,-2.1564575342531187,3.3761378904472226,15.631669727099712,-2.076395828098219,2.3055718223607364,-7.587836135499396,2.2020939982929484,0.8989705463291473,0.34146116044968433,9.989595935279349,3.463759213303007,5.083091969856815,-0.8191534578252135,-2.2810767788489237,0.5987638797422515,6.532766632086488,2.5604149389639925,0.2897098624279692,7.436877080604971,-1.9800653609443142,1.5445068059055647,-4.25620438087569,0.581964101030101,-10.108587012952416,-0.16320371497357802,-2.78359442659032,-5.296021133084731,3.3170869219647594,6.895063842372136,6.759529148840796,8.733858702394155,0.20687555410666225,-6.7275552348944245,4.552375762908106,-3.3130428745532043,7.9875518436660755,3.966155443391028,3.428089175647815,-0.26703950401959164,9.808384906476553,7.957308032651525,-3.02811363061552,2.178855803593699,2.1466829142033026,-8.646740820242295,2.6992159241346787,2.192709415508642,3.5321773820045275,2.078223122873291,4.388808734927574,-2.73771185054583,1.8992433328839418,2.0117814237384013,1.4188684269904583,-2.9124817432370578,-4.437331201413318,-16.969512439350275,-6.805171908596998,1.1247955496113775,0.5658185243851626,4.137942146801585,-0.2217317139744271,0.9343153460254241,10.50150512463717,1.3441989174421924,-7.895568395038166,5.360029225976925,6.880523678973544,-11.527905211037675,-5.3992961054337,-7.8045620330154035,8.73142974445743,5.39685341872358,-4.296393627659868,-1.8706524770830861,-2.264290801293641,-7.531885903808829,-7.4447787559102325,0.6956194504381861,10.624274494585535,-2.07630753603316,8.168257218507229,5.147973937000189,-0.3003934591977494,-4.796328609660652,5.010550952797414,1.4264606593286915,1.9146905804168735,-3.053492987122234,-0.4858211257807542,-7.094706663219949,4.150144362468686,6.655960421616726,11.858337217978626,5.924345629230589,1.4135239052810382,2.6283068451221148,8.433201266807467,3.9588830465086566,-9.445092609004874,0.9610166189400424,-8.734950283973893,6.448492291814678,10.347011304865205,-0.47074247959963245,-0.13273676260820544,-5.780079041035416,-1.542822289509427,6.407226495545723,-7.708613063284396,-3.6989958912194902,-5.349400493188779,-0.9121959935615293,3.3018029585911153,-7.767011062345671,8.187766933946378,-3.546806891195994,-8.440041103139869,1.9996585375984122,3.7978714200405315,4.737419124744596,-4.318524985940138,-2.446406410416587,-5.045975072041914,-8.150666324910864,0.76765848037878,7.05644530692116,-10.079217202673547,4.375361022960341,4.688498017889013,-13.621653372898846,7.37062307461361,3.9129159325322362,3.6773631561350077,6.5865434654313555,-4.843959977383374,-6.292706831510535,0.7299088059282864,5.129222844349947,10.750439816121592,3.424895095913584,4.558308965622969,-1.93027408848091,-6.22280093242648,-2.72701079201366,2.7439341820565515,0.06708665306198786,-5.418051481750454,7.575712486406427,1.9708383716743416,-10.05206038953004,-5.378565074904967,-1.86421992322436,1.716680979562096,-0.10274949158607141,-15.913275275516249,-7.37471973132827,8.612291809767248,10.04350318991414,-10.91408631760455,-0.4327161903899608,-14.482991632365897,6.529227400718635,8.637224653371883,-2.3465827250749114,0.8955840551070049,-1.9088351071166012,2.3524509343463045,3.0440144462288488,1.170185860050621,-6.572373849321407,5.165069351310347,-1.965004544633111],\"type\":\"scatter\"}],                        {\"template\":{\"data\":{\"histogram2dcontour\":[{\"type\":\"histogram2dcontour\",\"colorbar\":{\"outlinewidth\":0,\"ticks\":\"\"},\"colorscale\":[[0.0,\"#0d0887\"],[0.1111111111111111,\"#46039f\"],[0.2222222222222222,\"#7201a8\"],[0.3333333333333333,\"#9c179e\"],[0.4444444444444444,\"#bd3786\"],[0.5555555555555556,\"#d8576b\"],[0.6666666666666666,\"#ed7953\"],[0.7777777777777778,\"#fb9f3a\"],[0.8888888888888888,\"#fdca26\"],[1.0,\"#f0f921\"]]}],\"choropleth\":[{\"type\":\"choropleth\",\"colorbar\":{\"outlinewidth\":0,\"ticks\":\"\"}}],\"histogram2d\":[{\"type\":\"histogram2d\",\"colorbar\":{\"outlinewidth\":0,\"ticks\":\"\"},\"colorscale\":[[0.0,\"#0d0887\"],[0.1111111111111111,\"#46039f\"],[0.2222222222222222,\"#7201a8\"],[0.3333333333333333,\"#9c179e\"],[0.4444444444444444,\"#bd3786\"],[0.5555555555555556,\"#d8576b\"],[0.6666666666666666,\"#ed7953\"],[0.7777777777777778,\"#fb9f3a\"],[0.8888888888888888,\"#fdca26\"],[1.0,\"#f0f921\"]]}],\"heatmap\":[{\"type\":\"heatmap\",\"colorbar\":{\"outlinewidth\":0,\"ticks\":\"\"},\"colorscale\":[[0.0,\"#0d0887\"],[0.1111111111111111,\"#46039f\"],[0.2222222222222222,\"#7201a8\"],[0.3333333333333333,\"#9c179e\"],[0.4444444444444444,\"#bd3786\"],[0.5555555555555556,\"#d8576b\"],[0.6666666666666666,\"#ed7953\"],[0.7777777777777778,\"#fb9f3a\"],[0.8888888888888888,\"#fdca26\"],[1.0,\"#f0f921\"]]}],\"heatmapgl\":[{\"type\":\"heatmapgl\",\"colorbar\":{\"outlinewidth\":0,\"ticks\":\"\"},\"colorscale\":[[0.0,\"#0d0887\"],[0.1111111111111111,\"#46039f\"],[0.2222222222222222,\"#7201a8\"],[0.3333333333333333,\"#9c179e\"],[0.4444444444444444,\"#bd3786\"],[0.5555555555555556,\"#d8576b\"],[0.6666666666666666,\"#ed7953\"],[0.7777777777777778,\"#fb9f3a\"],[0.8888888888888888,\"#fdca26\"],[1.0,\"#f0f921\"]]}],\"contourcarpet\":[{\"type\":\"contourcarpet\",\"colorbar\":{\"outlinewidth\":0,\"ticks\":\"\"}}],\"contour\":[{\"type\":\"contour\",\"colorbar\":{\"outlinewidth\":0,\"ticks\":\"\"},\"colorscale\":[[0.0,\"#0d0887\"],[0.1111111111111111,\"#46039f\"],[0.2222222222222222,\"#7201a8\"],[0.3333333333333333,\"#9c179e\"],[0.4444444444444444,\"#bd3786\"],[0.5555555555555556,\"#d8576b\"],[0.6666666666666666,\"#ed7953\"],[0.7777777777777778,\"#fb9f3a\"],[0.8888888888888888,\"#fdca26\"],[1.0,\"#f0f921\"]]}],\"surface\":[{\"type\":\"surface\",\"colorbar\":{\"outlinewidth\":0,\"ticks\":\"\"},\"colorscale\":[[0.0,\"#0d0887\"],[0.1111111111111111,\"#46039f\"],[0.2222222222222222,\"#7201a8\"],[0.3333333333333333,\"#9c179e\"],[0.4444444444444444,\"#bd3786\"],[0.5555555555555556,\"#d8576b\"],[0.6666666666666666,\"#ed7953\"],[0.7777777777777778,\"#fb9f3a\"],[0.8888888888888888,\"#fdca26\"],[1.0,\"#f0f921\"]]}],\"mesh3d\":[{\"type\":\"mesh3d\",\"colorbar\":{\"outlinewidth\":0,\"ticks\":\"\"}}],\"scatter\":[{\"fillpattern\":{\"fillmode\":\"overlay\",\"size\":10,\"solidity\":0.2},\"type\":\"scatter\"}],\"parcoords\":[{\"type\":\"parcoords\",\"line\":{\"colorbar\":{\"outlinewidth\":0,\"ticks\":\"\"}}}],\"scatterpolargl\":[{\"type\":\"scatterpolargl\",\"marker\":{\"colorbar\":{\"outlinewidth\":0,\"ticks\":\"\"}}}],\"bar\":[{\"error_x\":{\"color\":\"#2a3f5f\"},\"error_y\":{\"color\":\"#2a3f5f\"},\"marker\":{\"line\":{\"color\":\"#E5ECF6\",\"width\":0.5},\"pattern\":{\"fillmode\":\"overlay\",\"size\":10,\"solidity\":0.2}},\"type\":\"bar\"}],\"scattergeo\":[{\"type\":\"scattergeo\",\"marker\":{\"colorbar\":{\"outlinewidth\":0,\"ticks\":\"\"}}}],\"scatterpolar\":[{\"type\":\"scatterpolar\",\"marker\":{\"colorbar\":{\"outlinewidth\":0,\"ticks\":\"\"}}}],\"histogram\":[{\"marker\":{\"pattern\":{\"fillmode\":\"overlay\",\"size\":10,\"solidity\":0.2}},\"type\":\"histogram\"}],\"scattergl\":[{\"type\":\"scattergl\",\"marker\":{\"colorbar\":{\"outlinewidth\":0,\"ticks\":\"\"}}}],\"scatter3d\":[{\"type\":\"scatter3d\",\"line\":{\"colorbar\":{\"outlinewidth\":0,\"ticks\":\"\"}},\"marker\":{\"colorbar\":{\"outlinewidth\":0,\"ticks\":\"\"}}}],\"scattermapbox\":[{\"type\":\"scattermapbox\",\"marker\":{\"colorbar\":{\"outlinewidth\":0,\"ticks\":\"\"}}}],\"scatterternary\":[{\"type\":\"scatterternary\",\"marker\":{\"colorbar\":{\"outlinewidth\":0,\"ticks\":\"\"}}}],\"scattercarpet\":[{\"type\":\"scattercarpet\",\"marker\":{\"colorbar\":{\"outlinewidth\":0,\"ticks\":\"\"}}}],\"carpet\":[{\"aaxis\":{\"endlinecolor\":\"#2a3f5f\",\"gridcolor\":\"white\",\"linecolor\":\"white\",\"minorgridcolor\":\"white\",\"startlinecolor\":\"#2a3f5f\"},\"baxis\":{\"endlinecolor\":\"#2a3f5f\",\"gridcolor\":\"white\",\"linecolor\":\"white\",\"minorgridcolor\":\"white\",\"startlinecolor\":\"#2a3f5f\"},\"type\":\"carpet\"}],\"table\":[{\"cells\":{\"fill\":{\"color\":\"#EBF0F8\"},\"line\":{\"color\":\"white\"}},\"header\":{\"fill\":{\"color\":\"#C8D4E3\"},\"line\":{\"color\":\"white\"}},\"type\":\"table\"}],\"barpolar\":[{\"marker\":{\"line\":{\"color\":\"#E5ECF6\",\"width\":0.5},\"pattern\":{\"fillmode\":\"overlay\",\"size\":10,\"solidity\":0.2}},\"type\":\"barpolar\"}],\"pie\":[{\"automargin\":true,\"type\":\"pie\"}]},\"layout\":{\"autotypenumbers\":\"strict\",\"colorway\":[\"#636efa\",\"#EF553B\",\"#00cc96\",\"#ab63fa\",\"#FFA15A\",\"#19d3f3\",\"#FF6692\",\"#B6E880\",\"#FF97FF\",\"#FECB52\"],\"font\":{\"color\":\"#2a3f5f\"},\"hovermode\":\"closest\",\"hoverlabel\":{\"align\":\"left\"},\"paper_bgcolor\":\"white\",\"plot_bgcolor\":\"#E5ECF6\",\"polar\":{\"bgcolor\":\"#E5ECF6\",\"angularaxis\":{\"gridcolor\":\"white\",\"linecolor\":\"white\",\"ticks\":\"\"},\"radialaxis\":{\"gridcolor\":\"white\",\"linecolor\":\"white\",\"ticks\":\"\"}},\"ternary\":{\"bgcolor\":\"#E5ECF6\",\"aaxis\":{\"gridcolor\":\"white\",\"linecolor\":\"white\",\"ticks\":\"\"},\"baxis\":{\"gridcolor\":\"white\",\"linecolor\":\"white\",\"ticks\":\"\"},\"caxis\":{\"gridcolor\":\"white\",\"linecolor\":\"white\",\"ticks\":\"\"}},\"coloraxis\":{\"colorbar\":{\"outlinewidth\":0,\"ticks\":\"\"}},\"colorscale\":{\"sequential\":[[0.0,\"#0d0887\"],[0.1111111111111111,\"#46039f\"],[0.2222222222222222,\"#7201a8\"],[0.3333333333333333,\"#9c179e\"],[0.4444444444444444,\"#bd3786\"],[0.5555555555555556,\"#d8576b\"],[0.6666666666666666,\"#ed7953\"],[0.7777777777777778,\"#fb9f3a\"],[0.8888888888888888,\"#fdca26\"],[1.0,\"#f0f921\"]],\"sequentialminus\":[[0.0,\"#0d0887\"],[0.1111111111111111,\"#46039f\"],[0.2222222222222222,\"#7201a8\"],[0.3333333333333333,\"#9c179e\"],[0.4444444444444444,\"#bd3786\"],[0.5555555555555556,\"#d8576b\"],[0.6666666666666666,\"#ed7953\"],[0.7777777777777778,\"#fb9f3a\"],[0.8888888888888888,\"#fdca26\"],[1.0,\"#f0f921\"]],\"diverging\":[[0,\"#8e0152\"],[0.1,\"#c51b7d\"],[0.2,\"#de77ae\"],[0.3,\"#f1b6da\"],[0.4,\"#fde0ef\"],[0.5,\"#f7f7f7\"],[0.6,\"#e6f5d0\"],[0.7,\"#b8e186\"],[0.8,\"#7fbc41\"],[0.9,\"#4d9221\"],[1,\"#276419\"]]},\"xaxis\":{\"gridcolor\":\"white\",\"linecolor\":\"white\",\"ticks\":\"\",\"title\":{\"standoff\":15},\"zerolinecolor\":\"white\",\"automargin\":true,\"zerolinewidth\":2},\"yaxis\":{\"gridcolor\":\"white\",\"linecolor\":\"white\",\"ticks\":\"\",\"title\":{\"standoff\":15},\"zerolinecolor\":\"white\",\"automargin\":true,\"zerolinewidth\":2},\"scene\":{\"xaxis\":{\"backgroundcolor\":\"#E5ECF6\",\"gridcolor\":\"white\",\"linecolor\":\"white\",\"showbackground\":true,\"ticks\":\"\",\"zerolinecolor\":\"white\",\"gridwidth\":2},\"yaxis\":{\"backgroundcolor\":\"#E5ECF6\",\"gridcolor\":\"white\",\"linecolor\":\"white\",\"showbackground\":true,\"ticks\":\"\",\"zerolinecolor\":\"white\",\"gridwidth\":2},\"zaxis\":{\"backgroundcolor\":\"#E5ECF6\",\"gridcolor\":\"white\",\"linecolor\":\"white\",\"showbackground\":true,\"ticks\":\"\",\"zerolinecolor\":\"white\",\"gridwidth\":2}},\"shapedefaults\":{\"line\":{\"color\":\"#2a3f5f\"}},\"annotationdefaults\":{\"arrowcolor\":\"#2a3f5f\",\"arrowhead\":0,\"arrowwidth\":1},\"geo\":{\"bgcolor\":\"white\",\"landcolor\":\"#E5ECF6\",\"subunitcolor\":\"white\",\"showland\":true,\"showlakes\":true,\"lakecolor\":\"white\"},\"title\":{\"x\":0.05},\"mapbox\":{\"style\":\"light\"}}},\"title\":{\"text\":\"Correlated random 2D samples\"}},                        {\"responsive\": true}                    ).then(function(){\n",
       "                            \n",
       "var gd = document.getElementById('47f7ccc5-03b6-4594-87ee-6288a6ee2e21');\n",
       "var x = new MutationObserver(function (mutations, observer) {{\n",
       "        var display = window.getComputedStyle(gd).display;\n",
       "        if (!display || display === 'none') {{\n",
       "            console.log([gd, 'removed!']);\n",
       "            Plotly.purge(gd);\n",
       "            observer.disconnect();\n",
       "        }}\n",
       "}});\n",
       "\n",
       "// Listen for the removal of the full notebook cells\n",
       "var notebookContainer = gd.closest('#notebook-container');\n",
       "if (notebookContainer) {{\n",
       "    x.observe(notebookContainer, {childList: true});\n",
       "}}\n",
       "\n",
       "// Listen for the clearing of the current output cell\n",
       "var outputEl = gd.closest('.output');\n",
       "if (outputEl) {{\n",
       "    x.observe(outputEl, {childList: true});\n",
       "}}\n",
       "\n",
       "                        })                };                });            </script>        </div>"
      ]
     },
     "metadata": {},
     "output_type": "display_data"
    },
    {
     "data": {
      "application/javascript": [
       "\n",
       "            setTimeout(function() {\n",
       "                var nbb_cell_id = 31;\n",
       "                var nbb_unformatted_code = \"fig = go_scatter(xs_c, ys_c, \\\"Correlated random 2D samples\\\")\\nfig\";\n",
       "                var nbb_formatted_code = \"fig = go_scatter(xs_c, ys_c, \\\"Correlated random 2D samples\\\")\\nfig\";\n",
       "                var nbb_cells = Jupyter.notebook.get_cells();\n",
       "                for (var i = 0; i < nbb_cells.length; ++i) {\n",
       "                    if (nbb_cells[i].input_prompt_number == nbb_cell_id) {\n",
       "                        if (nbb_cells[i].get_text() == nbb_unformatted_code) {\n",
       "                             nbb_cells[i].set_text(nbb_formatted_code);\n",
       "                        }\n",
       "                        break;\n",
       "                    }\n",
       "                }\n",
       "            }, 500);\n",
       "            "
      ],
      "text/plain": [
       "<IPython.core.display.Javascript object>"
      ]
     },
     "metadata": {},
     "output_type": "display_data"
    }
   ],
   "source": [
    "fig = go_scatter(xs_c, ys_c, \"Correlated random 2D samples\")\n",
    "fig"
   ]
  },
  {
   "cell_type": "markdown",
   "id": "e303c01a",
   "metadata": {
    "heading_collapsed": true,
    "hidden": true
   },
   "source": [
    "## (Empirical) Conditioning of a correlated 2D distribution"
   ]
  },
  {
   "cell_type": "code",
   "execution_count": 50,
   "id": "f12ec600",
   "metadata": {
    "hidden": true
   },
   "outputs": [
    {
     "data": {
      "application/javascript": [
       "\n",
       "            setTimeout(function() {\n",
       "                var nbb_cell_id = 50;\n",
       "                var nbb_unformatted_code = \"def make_y_for_x(given_x, mean=[0, 0], cov_matrix=[[1, 0], [0, 1]], tol=0.01):\\n    n = 0\\n    xs = []\\n    ys = []\\n    while n < 100:\\n        x, y = np.random.multivariate_normal(mean, cov_matrix)\\n        if np.abs(x - given_x) <= tol:\\n            xs.append(x)\\n            ys.append(y)\\n            n += 1\\n    return xs, ys\";\n",
       "                var nbb_formatted_code = \"def make_y_for_x(given_x, mean=[0, 0], cov_matrix=[[1, 0], [0, 1]], tol=0.01):\\n    n = 0\\n    xs = []\\n    ys = []\\n    while n < 100:\\n        x, y = np.random.multivariate_normal(mean, cov_matrix)\\n        if np.abs(x - given_x) <= tol:\\n            xs.append(x)\\n            ys.append(y)\\n            n += 1\\n    return xs, ys\";\n",
       "                var nbb_cells = Jupyter.notebook.get_cells();\n",
       "                for (var i = 0; i < nbb_cells.length; ++i) {\n",
       "                    if (nbb_cells[i].input_prompt_number == nbb_cell_id) {\n",
       "                        if (nbb_cells[i].get_text() == nbb_unformatted_code) {\n",
       "                             nbb_cells[i].set_text(nbb_formatted_code);\n",
       "                        }\n",
       "                        break;\n",
       "                    }\n",
       "                }\n",
       "            }, 500);\n",
       "            "
      ],
      "text/plain": [
       "<IPython.core.display.Javascript object>"
      ]
     },
     "metadata": {},
     "output_type": "display_data"
    }
   ],
   "source": [
    "def make_y_for_x(given_x, mean=[0, 0], cov_matrix=[[1, 0], [0, 1]], tol=0.01):\n",
    "    n = 0\n",
    "    xs = []\n",
    "    ys = []\n",
    "    while n < 100:\n",
    "        x, y = np.random.multivariate_normal(mean, cov_matrix)\n",
    "        if np.abs(x - given_x) <= tol:\n",
    "            xs.append(x)\n",
    "            ys.append(y)\n",
    "            n += 1\n",
    "    return xs, ys"
   ]
  },
  {
   "cell_type": "code",
   "execution_count": 280,
   "id": "ef66ac7a",
   "metadata": {
    "hidden": true
   },
   "outputs": [
    {
     "data": {
      "application/javascript": [
       "\n",
       "            setTimeout(function() {\n",
       "                var nbb_cell_id = 280;\n",
       "                var nbb_unformatted_code = \"cov_matrix = get_corr_cov()\";\n",
       "                var nbb_formatted_code = \"cov_matrix = get_corr_cov()\";\n",
       "                var nbb_cells = Jupyter.notebook.get_cells();\n",
       "                for (var i = 0; i < nbb_cells.length; ++i) {\n",
       "                    if (nbb_cells[i].input_prompt_number == nbb_cell_id) {\n",
       "                        if (nbb_cells[i].get_text() == nbb_unformatted_code) {\n",
       "                             nbb_cells[i].set_text(nbb_formatted_code);\n",
       "                        }\n",
       "                        break;\n",
       "                    }\n",
       "                }\n",
       "            }, 500);\n",
       "            "
      ],
      "text/plain": [
       "<IPython.core.display.Javascript object>"
      ]
     },
     "metadata": {},
     "output_type": "display_data"
    }
   ],
   "source": [
    "cov_matrix = get_corr_cov()"
   ]
  },
  {
   "cell_type": "code",
   "execution_count": 284,
   "id": "7be0de69",
   "metadata": {
    "hidden": true,
    "scrolled": false
   },
   "outputs": [
    {
     "data": {
      "application/vnd.plotly.v1+json": {
       "config": {
        "plotlyServerURL": "https://plot.ly"
       },
       "data": [
        {
         "mode": "markers",
         "type": "scatter",
         "x": [
          2.9988602090717,
          2.994889358444589,
          2.993219335285799,
          2.9996132870087493,
          2.99027226633863,
          3.0080269979790932,
          2.996389379780273,
          2.998966471245412,
          2.999106114281663,
          3.0056027875739395,
          3.0056789947596547,
          2.99027001774898,
          2.997286492560134,
          3.0017159218258347,
          3.0016211876857395,
          2.9907916289912837,
          2.9928658704046294,
          2.998281135186023,
          2.998867765287543,
          3.001267048941056,
          3.0093917081141313,
          3.0067968622153516,
          2.9927231871228384,
          2.9936062293879737,
          3.004386769133906,
          3.001969965573814,
          2.9904200168625525,
          3.0057646778619675,
          3.0050585755596284,
          3.0053118142246484,
          2.994867307598449,
          2.994896293819849,
          2.9927779720034504,
          2.991578581545672,
          2.9914686454024215,
          3.008353852948006,
          2.998816625271888,
          3.0076840439814365,
          3.002563726559415,
          2.9911675015821544,
          3.009595036366206,
          2.992235254200556,
          2.996064090050955,
          2.995593380447573,
          3.0076945756663327,
          3.003946009993192,
          3.0085496306527153,
          2.9907791298397566,
          3.0062907657887665,
          3.0005187986514406,
          3.0043933866731933,
          2.9992175926398907,
          3.0000014253399914,
          3.008323577796187,
          3.0007305271881646,
          3.008282629507575,
          2.9994314762835232,
          2.9985879683344603,
          2.998352137220973,
          3.0039954553376806,
          3.0071252356936986,
          2.99976700225506,
          3.0065075455537746,
          3.0044456037155594,
          2.992624876892546,
          3.0010618600044094,
          3.007639697404905,
          3.000620180513423,
          3.0089089492885783,
          2.997418236339873,
          2.998538519061123,
          3.005118174285694,
          3.0076910047048626,
          3.004501189893381,
          3.0026777225057812,
          3.0037968467964844,
          3.002719074066324,
          3.00383608282153,
          2.997866856734152,
          2.9939506073860738,
          2.9927630114801316,
          3.000627006665523,
          2.9921335701572995,
          2.9926941195294052,
          3.0095167668545377,
          2.992160204521933,
          3.0024057554596184,
          3.0087972147850968,
          3.009816559694486,
          3.0084926347441687,
          2.99701554183433,
          2.9988673085424136,
          2.9971922163740845,
          2.992804814213949,
          3.0072918603321406,
          2.9959509847750243,
          2.995801213263422,
          3.00054696165461,
          2.9943635459780467,
          3.0019918949996107
         ],
         "y": [
          2.622580271758088,
          0.6386999632408847,
          2.4613525518590365,
          1.0399181889030882,
          -0.048342325258657226,
          1.2184018287032132,
          6.029521382499693,
          1.5531315978613176,
          2.1853688864952456,
          2.017088763005147,
          -1.803199196587562,
          6.714404373810627,
          9.22999153827924,
          5.309989807360638,
          2.188057156739435,
          1.6008272303135493,
          1.608120951728309,
          2.1580710392822886,
          3.464056222952776,
          9.065999047447624,
          -2.5887502488900203,
          0.9632964120504202,
          4.188524428728058,
          5.157002115358394,
          3.2005419253575456,
          5.3972096797582365,
          -2.436400016522414,
          2.1543405355974214,
          1.2904821304181673,
          2.78287337977211,
          2.3552921947311685,
          4.576495286048588,
          2.110739023894464,
          5.242387912937711,
          5.629048037196633,
          0.801961475382357,
          5.46186668005911,
          1.4947197845996154,
          5.073538309656003,
          5.769857862340821,
          3.500201579398111,
          9.85796364456242,
          3.9110810568922925,
          3.76982624241438,
          -1.485592685328196,
          4.57314068591822,
          2.188715856715792,
          5.9426631813510875,
          6.788580067176424,
          4.557891466328021,
          6.2284654502055545,
          6.695209412528762,
          -0.6545542112929454,
          -0.6638547454241769,
          0.6640416594866181,
          7.192504102861488,
          -0.47081794320137216,
          2.5670670629277303,
          -3.2415638999833396,
          4.179496992030169,
          3.292518784347388,
          3.8582369916897727,
          2.605155291247525,
          11.242779203102288,
          5.172074719084645,
          5.064284041694693,
          5.841931630192738,
          0.040220101932335606,
          3.510347655286993,
          -1.0241508752911783,
          3.785482006307868,
          -0.16352274144196888,
          6.3529183494596495,
          3.692739892561733,
          3.569339784911557,
          -3.43083502601373,
          -1.1915941450911236,
          2.2062692921705533,
          -2.024113879166439,
          4.424117720120646,
          4.654411315481262,
          4.906242031693898,
          5.145291509067743,
          2.8150846407845345,
          4.844947908356399,
          2.043792683000455,
          9.016254259608099,
          -3.7963523589682184,
          6.528610444756752,
          6.0394503366818375,
          5.419971220851495,
          4.424779351099603,
          2.312980022307931,
          4.15104091793151,
          7.619230563738579,
          3.6976244098479456,
          -4.325281158407418,
          7.145215675010329,
          6.4867161581219905,
          5.382354512324947
         ]
        }
       ],
       "layout": {
        "template": {
         "data": {
          "bar": [
           {
            "error_x": {
             "color": "#2a3f5f"
            },
            "error_y": {
             "color": "#2a3f5f"
            },
            "marker": {
             "line": {
              "color": "#E5ECF6",
              "width": 0.5
             },
             "pattern": {
              "fillmode": "overlay",
              "size": 10,
              "solidity": 0.2
             }
            },
            "type": "bar"
           }
          ],
          "barpolar": [
           {
            "marker": {
             "line": {
              "color": "#E5ECF6",
              "width": 0.5
             },
             "pattern": {
              "fillmode": "overlay",
              "size": 10,
              "solidity": 0.2
             }
            },
            "type": "barpolar"
           }
          ],
          "carpet": [
           {
            "aaxis": {
             "endlinecolor": "#2a3f5f",
             "gridcolor": "white",
             "linecolor": "white",
             "minorgridcolor": "white",
             "startlinecolor": "#2a3f5f"
            },
            "baxis": {
             "endlinecolor": "#2a3f5f",
             "gridcolor": "white",
             "linecolor": "white",
             "minorgridcolor": "white",
             "startlinecolor": "#2a3f5f"
            },
            "type": "carpet"
           }
          ],
          "choropleth": [
           {
            "colorbar": {
             "outlinewidth": 0,
             "ticks": ""
            },
            "type": "choropleth"
           }
          ],
          "contour": [
           {
            "colorbar": {
             "outlinewidth": 0,
             "ticks": ""
            },
            "colorscale": [
             [
              0,
              "#0d0887"
             ],
             [
              0.1111111111111111,
              "#46039f"
             ],
             [
              0.2222222222222222,
              "#7201a8"
             ],
             [
              0.3333333333333333,
              "#9c179e"
             ],
             [
              0.4444444444444444,
              "#bd3786"
             ],
             [
              0.5555555555555556,
              "#d8576b"
             ],
             [
              0.6666666666666666,
              "#ed7953"
             ],
             [
              0.7777777777777778,
              "#fb9f3a"
             ],
             [
              0.8888888888888888,
              "#fdca26"
             ],
             [
              1,
              "#f0f921"
             ]
            ],
            "type": "contour"
           }
          ],
          "contourcarpet": [
           {
            "colorbar": {
             "outlinewidth": 0,
             "ticks": ""
            },
            "type": "contourcarpet"
           }
          ],
          "heatmap": [
           {
            "colorbar": {
             "outlinewidth": 0,
             "ticks": ""
            },
            "colorscale": [
             [
              0,
              "#0d0887"
             ],
             [
              0.1111111111111111,
              "#46039f"
             ],
             [
              0.2222222222222222,
              "#7201a8"
             ],
             [
              0.3333333333333333,
              "#9c179e"
             ],
             [
              0.4444444444444444,
              "#bd3786"
             ],
             [
              0.5555555555555556,
              "#d8576b"
             ],
             [
              0.6666666666666666,
              "#ed7953"
             ],
             [
              0.7777777777777778,
              "#fb9f3a"
             ],
             [
              0.8888888888888888,
              "#fdca26"
             ],
             [
              1,
              "#f0f921"
             ]
            ],
            "type": "heatmap"
           }
          ],
          "heatmapgl": [
           {
            "colorbar": {
             "outlinewidth": 0,
             "ticks": ""
            },
            "colorscale": [
             [
              0,
              "#0d0887"
             ],
             [
              0.1111111111111111,
              "#46039f"
             ],
             [
              0.2222222222222222,
              "#7201a8"
             ],
             [
              0.3333333333333333,
              "#9c179e"
             ],
             [
              0.4444444444444444,
              "#bd3786"
             ],
             [
              0.5555555555555556,
              "#d8576b"
             ],
             [
              0.6666666666666666,
              "#ed7953"
             ],
             [
              0.7777777777777778,
              "#fb9f3a"
             ],
             [
              0.8888888888888888,
              "#fdca26"
             ],
             [
              1,
              "#f0f921"
             ]
            ],
            "type": "heatmapgl"
           }
          ],
          "histogram": [
           {
            "marker": {
             "pattern": {
              "fillmode": "overlay",
              "size": 10,
              "solidity": 0.2
             }
            },
            "type": "histogram"
           }
          ],
          "histogram2d": [
           {
            "colorbar": {
             "outlinewidth": 0,
             "ticks": ""
            },
            "colorscale": [
             [
              0,
              "#0d0887"
             ],
             [
              0.1111111111111111,
              "#46039f"
             ],
             [
              0.2222222222222222,
              "#7201a8"
             ],
             [
              0.3333333333333333,
              "#9c179e"
             ],
             [
              0.4444444444444444,
              "#bd3786"
             ],
             [
              0.5555555555555556,
              "#d8576b"
             ],
             [
              0.6666666666666666,
              "#ed7953"
             ],
             [
              0.7777777777777778,
              "#fb9f3a"
             ],
             [
              0.8888888888888888,
              "#fdca26"
             ],
             [
              1,
              "#f0f921"
             ]
            ],
            "type": "histogram2d"
           }
          ],
          "histogram2dcontour": [
           {
            "colorbar": {
             "outlinewidth": 0,
             "ticks": ""
            },
            "colorscale": [
             [
              0,
              "#0d0887"
             ],
             [
              0.1111111111111111,
              "#46039f"
             ],
             [
              0.2222222222222222,
              "#7201a8"
             ],
             [
              0.3333333333333333,
              "#9c179e"
             ],
             [
              0.4444444444444444,
              "#bd3786"
             ],
             [
              0.5555555555555556,
              "#d8576b"
             ],
             [
              0.6666666666666666,
              "#ed7953"
             ],
             [
              0.7777777777777778,
              "#fb9f3a"
             ],
             [
              0.8888888888888888,
              "#fdca26"
             ],
             [
              1,
              "#f0f921"
             ]
            ],
            "type": "histogram2dcontour"
           }
          ],
          "mesh3d": [
           {
            "colorbar": {
             "outlinewidth": 0,
             "ticks": ""
            },
            "type": "mesh3d"
           }
          ],
          "parcoords": [
           {
            "line": {
             "colorbar": {
              "outlinewidth": 0,
              "ticks": ""
             }
            },
            "type": "parcoords"
           }
          ],
          "pie": [
           {
            "automargin": true,
            "type": "pie"
           }
          ],
          "scatter": [
           {
            "fillpattern": {
             "fillmode": "overlay",
             "size": 10,
             "solidity": 0.2
            },
            "type": "scatter"
           }
          ],
          "scatter3d": [
           {
            "line": {
             "colorbar": {
              "outlinewidth": 0,
              "ticks": ""
             }
            },
            "marker": {
             "colorbar": {
              "outlinewidth": 0,
              "ticks": ""
             }
            },
            "type": "scatter3d"
           }
          ],
          "scattercarpet": [
           {
            "marker": {
             "colorbar": {
              "outlinewidth": 0,
              "ticks": ""
             }
            },
            "type": "scattercarpet"
           }
          ],
          "scattergeo": [
           {
            "marker": {
             "colorbar": {
              "outlinewidth": 0,
              "ticks": ""
             }
            },
            "type": "scattergeo"
           }
          ],
          "scattergl": [
           {
            "marker": {
             "colorbar": {
              "outlinewidth": 0,
              "ticks": ""
             }
            },
            "type": "scattergl"
           }
          ],
          "scattermapbox": [
           {
            "marker": {
             "colorbar": {
              "outlinewidth": 0,
              "ticks": ""
             }
            },
            "type": "scattermapbox"
           }
          ],
          "scatterpolar": [
           {
            "marker": {
             "colorbar": {
              "outlinewidth": 0,
              "ticks": ""
             }
            },
            "type": "scatterpolar"
           }
          ],
          "scatterpolargl": [
           {
            "marker": {
             "colorbar": {
              "outlinewidth": 0,
              "ticks": ""
             }
            },
            "type": "scatterpolargl"
           }
          ],
          "scatterternary": [
           {
            "marker": {
             "colorbar": {
              "outlinewidth": 0,
              "ticks": ""
             }
            },
            "type": "scatterternary"
           }
          ],
          "surface": [
           {
            "colorbar": {
             "outlinewidth": 0,
             "ticks": ""
            },
            "colorscale": [
             [
              0,
              "#0d0887"
             ],
             [
              0.1111111111111111,
              "#46039f"
             ],
             [
              0.2222222222222222,
              "#7201a8"
             ],
             [
              0.3333333333333333,
              "#9c179e"
             ],
             [
              0.4444444444444444,
              "#bd3786"
             ],
             [
              0.5555555555555556,
              "#d8576b"
             ],
             [
              0.6666666666666666,
              "#ed7953"
             ],
             [
              0.7777777777777778,
              "#fb9f3a"
             ],
             [
              0.8888888888888888,
              "#fdca26"
             ],
             [
              1,
              "#f0f921"
             ]
            ],
            "type": "surface"
           }
          ],
          "table": [
           {
            "cells": {
             "fill": {
              "color": "#EBF0F8"
             },
             "line": {
              "color": "white"
             }
            },
            "header": {
             "fill": {
              "color": "#C8D4E3"
             },
             "line": {
              "color": "white"
             }
            },
            "type": "table"
           }
          ]
         },
         "layout": {
          "annotationdefaults": {
           "arrowcolor": "#2a3f5f",
           "arrowhead": 0,
           "arrowwidth": 1
          },
          "autotypenumbers": "strict",
          "coloraxis": {
           "colorbar": {
            "outlinewidth": 0,
            "ticks": ""
           }
          },
          "colorscale": {
           "diverging": [
            [
             0,
             "#8e0152"
            ],
            [
             0.1,
             "#c51b7d"
            ],
            [
             0.2,
             "#de77ae"
            ],
            [
             0.3,
             "#f1b6da"
            ],
            [
             0.4,
             "#fde0ef"
            ],
            [
             0.5,
             "#f7f7f7"
            ],
            [
             0.6,
             "#e6f5d0"
            ],
            [
             0.7,
             "#b8e186"
            ],
            [
             0.8,
             "#7fbc41"
            ],
            [
             0.9,
             "#4d9221"
            ],
            [
             1,
             "#276419"
            ]
           ],
           "sequential": [
            [
             0,
             "#0d0887"
            ],
            [
             0.1111111111111111,
             "#46039f"
            ],
            [
             0.2222222222222222,
             "#7201a8"
            ],
            [
             0.3333333333333333,
             "#9c179e"
            ],
            [
             0.4444444444444444,
             "#bd3786"
            ],
            [
             0.5555555555555556,
             "#d8576b"
            ],
            [
             0.6666666666666666,
             "#ed7953"
            ],
            [
             0.7777777777777778,
             "#fb9f3a"
            ],
            [
             0.8888888888888888,
             "#fdca26"
            ],
            [
             1,
             "#f0f921"
            ]
           ],
           "sequentialminus": [
            [
             0,
             "#0d0887"
            ],
            [
             0.1111111111111111,
             "#46039f"
            ],
            [
             0.2222222222222222,
             "#7201a8"
            ],
            [
             0.3333333333333333,
             "#9c179e"
            ],
            [
             0.4444444444444444,
             "#bd3786"
            ],
            [
             0.5555555555555556,
             "#d8576b"
            ],
            [
             0.6666666666666666,
             "#ed7953"
            ],
            [
             0.7777777777777778,
             "#fb9f3a"
            ],
            [
             0.8888888888888888,
             "#fdca26"
            ],
            [
             1,
             "#f0f921"
            ]
           ]
          },
          "colorway": [
           "#636efa",
           "#EF553B",
           "#00cc96",
           "#ab63fa",
           "#FFA15A",
           "#19d3f3",
           "#FF6692",
           "#B6E880",
           "#FF97FF",
           "#FECB52"
          ],
          "font": {
           "color": "#2a3f5f"
          },
          "geo": {
           "bgcolor": "white",
           "lakecolor": "white",
           "landcolor": "#E5ECF6",
           "showlakes": true,
           "showland": true,
           "subunitcolor": "white"
          },
          "hoverlabel": {
           "align": "left"
          },
          "hovermode": "closest",
          "mapbox": {
           "style": "light"
          },
          "paper_bgcolor": "white",
          "plot_bgcolor": "#E5ECF6",
          "polar": {
           "angularaxis": {
            "gridcolor": "white",
            "linecolor": "white",
            "ticks": ""
           },
           "bgcolor": "#E5ECF6",
           "radialaxis": {
            "gridcolor": "white",
            "linecolor": "white",
            "ticks": ""
           }
          },
          "scene": {
           "xaxis": {
            "backgroundcolor": "#E5ECF6",
            "gridcolor": "white",
            "gridwidth": 2,
            "linecolor": "white",
            "showbackground": true,
            "ticks": "",
            "zerolinecolor": "white"
           },
           "yaxis": {
            "backgroundcolor": "#E5ECF6",
            "gridcolor": "white",
            "gridwidth": 2,
            "linecolor": "white",
            "showbackground": true,
            "ticks": "",
            "zerolinecolor": "white"
           },
           "zaxis": {
            "backgroundcolor": "#E5ECF6",
            "gridcolor": "white",
            "gridwidth": 2,
            "linecolor": "white",
            "showbackground": true,
            "ticks": "",
            "zerolinecolor": "white"
           }
          },
          "shapedefaults": {
           "line": {
            "color": "#2a3f5f"
           }
          },
          "ternary": {
           "aaxis": {
            "gridcolor": "white",
            "linecolor": "white",
            "ticks": ""
           },
           "baxis": {
            "gridcolor": "white",
            "linecolor": "white",
            "ticks": ""
           },
           "bgcolor": "#E5ECF6",
           "caxis": {
            "gridcolor": "white",
            "linecolor": "white",
            "ticks": ""
           }
          },
          "title": {
           "x": 0.05
          },
          "xaxis": {
           "automargin": true,
           "gridcolor": "white",
           "linecolor": "white",
           "ticks": "",
           "title": {
            "standoff": 15
           },
           "zerolinecolor": "white",
           "zerolinewidth": 2
          },
          "yaxis": {
           "automargin": true,
           "gridcolor": "white",
           "linecolor": "white",
           "ticks": "",
           "title": {
            "standoff": 15
           },
           "zerolinecolor": "white",
           "zerolinewidth": 2
          }
         }
        },
        "title": {
         "text": "Correlated 2D samples at x ~ 3"
        },
        "xaxis": {
         "range": [
          -4,
          4
         ]
        },
        "yaxis": {
         "range": [
          -15,
          15
         ]
        }
       }
      },
      "text/html": [
       "<div>                            <div id=\"919d6043-e031-4bc4-bee4-79245fa9dd15\" class=\"plotly-graph-div\" style=\"height:525px; width:100%;\"></div>            <script type=\"text/javascript\">                require([\"plotly\"], function(Plotly) {                    window.PLOTLYENV=window.PLOTLYENV || {};                                    if (document.getElementById(\"919d6043-e031-4bc4-bee4-79245fa9dd15\")) {                    Plotly.newPlot(                        \"919d6043-e031-4bc4-bee4-79245fa9dd15\",                        [{\"mode\":\"markers\",\"x\":[2.9988602090717,2.994889358444589,2.993219335285799,2.9996132870087493,2.99027226633863,3.0080269979790932,2.996389379780273,2.998966471245412,2.999106114281663,3.0056027875739395,3.0056789947596547,2.99027001774898,2.997286492560134,3.0017159218258347,3.0016211876857395,2.9907916289912837,2.9928658704046294,2.998281135186023,2.998867765287543,3.001267048941056,3.0093917081141313,3.0067968622153516,2.9927231871228384,2.9936062293879737,3.004386769133906,3.001969965573814,2.9904200168625525,3.0057646778619675,3.0050585755596284,3.0053118142246484,2.994867307598449,2.994896293819849,2.9927779720034504,2.991578581545672,2.9914686454024215,3.008353852948006,2.998816625271888,3.0076840439814365,3.002563726559415,2.9911675015821544,3.009595036366206,2.992235254200556,2.996064090050955,2.995593380447573,3.0076945756663327,3.003946009993192,3.0085496306527153,2.9907791298397566,3.0062907657887665,3.0005187986514406,3.0043933866731933,2.9992175926398907,3.0000014253399914,3.008323577796187,3.0007305271881646,3.008282629507575,2.9994314762835232,2.9985879683344603,2.998352137220973,3.0039954553376806,3.0071252356936986,2.99976700225506,3.0065075455537746,3.0044456037155594,2.992624876892546,3.0010618600044094,3.007639697404905,3.000620180513423,3.0089089492885783,2.997418236339873,2.998538519061123,3.005118174285694,3.0076910047048626,3.004501189893381,3.0026777225057812,3.0037968467964844,3.002719074066324,3.00383608282153,2.997866856734152,2.9939506073860738,2.9927630114801316,3.000627006665523,2.9921335701572995,2.9926941195294052,3.0095167668545377,2.992160204521933,3.0024057554596184,3.0087972147850968,3.009816559694486,3.0084926347441687,2.99701554183433,2.9988673085424136,2.9971922163740845,2.992804814213949,3.0072918603321406,2.9959509847750243,2.995801213263422,3.00054696165461,2.9943635459780467,3.0019918949996107],\"y\":[2.622580271758088,0.6386999632408847,2.4613525518590365,1.0399181889030882,-0.048342325258657226,1.2184018287032132,6.029521382499693,1.5531315978613176,2.1853688864952456,2.017088763005147,-1.803199196587562,6.714404373810627,9.22999153827924,5.309989807360638,2.188057156739435,1.6008272303135493,1.608120951728309,2.1580710392822886,3.464056222952776,9.065999047447624,-2.5887502488900203,0.9632964120504202,4.188524428728058,5.157002115358394,3.2005419253575456,5.3972096797582365,-2.436400016522414,2.1543405355974214,1.2904821304181673,2.78287337977211,2.3552921947311685,4.576495286048588,2.110739023894464,5.242387912937711,5.629048037196633,0.801961475382357,5.46186668005911,1.4947197845996154,5.073538309656003,5.769857862340821,3.500201579398111,9.85796364456242,3.9110810568922925,3.76982624241438,-1.485592685328196,4.57314068591822,2.188715856715792,5.9426631813510875,6.788580067176424,4.557891466328021,6.2284654502055545,6.695209412528762,-0.6545542112929454,-0.6638547454241769,0.6640416594866181,7.192504102861488,-0.47081794320137216,2.5670670629277303,-3.2415638999833396,4.179496992030169,3.292518784347388,3.8582369916897727,2.605155291247525,11.242779203102288,5.172074719084645,5.064284041694693,5.841931630192738,0.040220101932335606,3.510347655286993,-1.0241508752911783,3.785482006307868,-0.16352274144196888,6.3529183494596495,3.692739892561733,3.569339784911557,-3.43083502601373,-1.1915941450911236,2.2062692921705533,-2.024113879166439,4.424117720120646,4.654411315481262,4.906242031693898,5.145291509067743,2.8150846407845345,4.844947908356399,2.043792683000455,9.016254259608099,-3.7963523589682184,6.528610444756752,6.0394503366818375,5.419971220851495,4.424779351099603,2.312980022307931,4.15104091793151,7.619230563738579,3.6976244098479456,-4.325281158407418,7.145215675010329,6.4867161581219905,5.382354512324947],\"type\":\"scatter\"}],                        {\"template\":{\"data\":{\"histogram2dcontour\":[{\"type\":\"histogram2dcontour\",\"colorbar\":{\"outlinewidth\":0,\"ticks\":\"\"},\"colorscale\":[[0.0,\"#0d0887\"],[0.1111111111111111,\"#46039f\"],[0.2222222222222222,\"#7201a8\"],[0.3333333333333333,\"#9c179e\"],[0.4444444444444444,\"#bd3786\"],[0.5555555555555556,\"#d8576b\"],[0.6666666666666666,\"#ed7953\"],[0.7777777777777778,\"#fb9f3a\"],[0.8888888888888888,\"#fdca26\"],[1.0,\"#f0f921\"]]}],\"choropleth\":[{\"type\":\"choropleth\",\"colorbar\":{\"outlinewidth\":0,\"ticks\":\"\"}}],\"histogram2d\":[{\"type\":\"histogram2d\",\"colorbar\":{\"outlinewidth\":0,\"ticks\":\"\"},\"colorscale\":[[0.0,\"#0d0887\"],[0.1111111111111111,\"#46039f\"],[0.2222222222222222,\"#7201a8\"],[0.3333333333333333,\"#9c179e\"],[0.4444444444444444,\"#bd3786\"],[0.5555555555555556,\"#d8576b\"],[0.6666666666666666,\"#ed7953\"],[0.7777777777777778,\"#fb9f3a\"],[0.8888888888888888,\"#fdca26\"],[1.0,\"#f0f921\"]]}],\"heatmap\":[{\"type\":\"heatmap\",\"colorbar\":{\"outlinewidth\":0,\"ticks\":\"\"},\"colorscale\":[[0.0,\"#0d0887\"],[0.1111111111111111,\"#46039f\"],[0.2222222222222222,\"#7201a8\"],[0.3333333333333333,\"#9c179e\"],[0.4444444444444444,\"#bd3786\"],[0.5555555555555556,\"#d8576b\"],[0.6666666666666666,\"#ed7953\"],[0.7777777777777778,\"#fb9f3a\"],[0.8888888888888888,\"#fdca26\"],[1.0,\"#f0f921\"]]}],\"heatmapgl\":[{\"type\":\"heatmapgl\",\"colorbar\":{\"outlinewidth\":0,\"ticks\":\"\"},\"colorscale\":[[0.0,\"#0d0887\"],[0.1111111111111111,\"#46039f\"],[0.2222222222222222,\"#7201a8\"],[0.3333333333333333,\"#9c179e\"],[0.4444444444444444,\"#bd3786\"],[0.5555555555555556,\"#d8576b\"],[0.6666666666666666,\"#ed7953\"],[0.7777777777777778,\"#fb9f3a\"],[0.8888888888888888,\"#fdca26\"],[1.0,\"#f0f921\"]]}],\"contourcarpet\":[{\"type\":\"contourcarpet\",\"colorbar\":{\"outlinewidth\":0,\"ticks\":\"\"}}],\"contour\":[{\"type\":\"contour\",\"colorbar\":{\"outlinewidth\":0,\"ticks\":\"\"},\"colorscale\":[[0.0,\"#0d0887\"],[0.1111111111111111,\"#46039f\"],[0.2222222222222222,\"#7201a8\"],[0.3333333333333333,\"#9c179e\"],[0.4444444444444444,\"#bd3786\"],[0.5555555555555556,\"#d8576b\"],[0.6666666666666666,\"#ed7953\"],[0.7777777777777778,\"#fb9f3a\"],[0.8888888888888888,\"#fdca26\"],[1.0,\"#f0f921\"]]}],\"surface\":[{\"type\":\"surface\",\"colorbar\":{\"outlinewidth\":0,\"ticks\":\"\"},\"colorscale\":[[0.0,\"#0d0887\"],[0.1111111111111111,\"#46039f\"],[0.2222222222222222,\"#7201a8\"],[0.3333333333333333,\"#9c179e\"],[0.4444444444444444,\"#bd3786\"],[0.5555555555555556,\"#d8576b\"],[0.6666666666666666,\"#ed7953\"],[0.7777777777777778,\"#fb9f3a\"],[0.8888888888888888,\"#fdca26\"],[1.0,\"#f0f921\"]]}],\"mesh3d\":[{\"type\":\"mesh3d\",\"colorbar\":{\"outlinewidth\":0,\"ticks\":\"\"}}],\"scatter\":[{\"fillpattern\":{\"fillmode\":\"overlay\",\"size\":10,\"solidity\":0.2},\"type\":\"scatter\"}],\"parcoords\":[{\"type\":\"parcoords\",\"line\":{\"colorbar\":{\"outlinewidth\":0,\"ticks\":\"\"}}}],\"scatterpolargl\":[{\"type\":\"scatterpolargl\",\"marker\":{\"colorbar\":{\"outlinewidth\":0,\"ticks\":\"\"}}}],\"bar\":[{\"error_x\":{\"color\":\"#2a3f5f\"},\"error_y\":{\"color\":\"#2a3f5f\"},\"marker\":{\"line\":{\"color\":\"#E5ECF6\",\"width\":0.5},\"pattern\":{\"fillmode\":\"overlay\",\"size\":10,\"solidity\":0.2}},\"type\":\"bar\"}],\"scattergeo\":[{\"type\":\"scattergeo\",\"marker\":{\"colorbar\":{\"outlinewidth\":0,\"ticks\":\"\"}}}],\"scatterpolar\":[{\"type\":\"scatterpolar\",\"marker\":{\"colorbar\":{\"outlinewidth\":0,\"ticks\":\"\"}}}],\"histogram\":[{\"marker\":{\"pattern\":{\"fillmode\":\"overlay\",\"size\":10,\"solidity\":0.2}},\"type\":\"histogram\"}],\"scattergl\":[{\"type\":\"scattergl\",\"marker\":{\"colorbar\":{\"outlinewidth\":0,\"ticks\":\"\"}}}],\"scatter3d\":[{\"type\":\"scatter3d\",\"line\":{\"colorbar\":{\"outlinewidth\":0,\"ticks\":\"\"}},\"marker\":{\"colorbar\":{\"outlinewidth\":0,\"ticks\":\"\"}}}],\"scattermapbox\":[{\"type\":\"scattermapbox\",\"marker\":{\"colorbar\":{\"outlinewidth\":0,\"ticks\":\"\"}}}],\"scatterternary\":[{\"type\":\"scatterternary\",\"marker\":{\"colorbar\":{\"outlinewidth\":0,\"ticks\":\"\"}}}],\"scattercarpet\":[{\"type\":\"scattercarpet\",\"marker\":{\"colorbar\":{\"outlinewidth\":0,\"ticks\":\"\"}}}],\"carpet\":[{\"aaxis\":{\"endlinecolor\":\"#2a3f5f\",\"gridcolor\":\"white\",\"linecolor\":\"white\",\"minorgridcolor\":\"white\",\"startlinecolor\":\"#2a3f5f\"},\"baxis\":{\"endlinecolor\":\"#2a3f5f\",\"gridcolor\":\"white\",\"linecolor\":\"white\",\"minorgridcolor\":\"white\",\"startlinecolor\":\"#2a3f5f\"},\"type\":\"carpet\"}],\"table\":[{\"cells\":{\"fill\":{\"color\":\"#EBF0F8\"},\"line\":{\"color\":\"white\"}},\"header\":{\"fill\":{\"color\":\"#C8D4E3\"},\"line\":{\"color\":\"white\"}},\"type\":\"table\"}],\"barpolar\":[{\"marker\":{\"line\":{\"color\":\"#E5ECF6\",\"width\":0.5},\"pattern\":{\"fillmode\":\"overlay\",\"size\":10,\"solidity\":0.2}},\"type\":\"barpolar\"}],\"pie\":[{\"automargin\":true,\"type\":\"pie\"}]},\"layout\":{\"autotypenumbers\":\"strict\",\"colorway\":[\"#636efa\",\"#EF553B\",\"#00cc96\",\"#ab63fa\",\"#FFA15A\",\"#19d3f3\",\"#FF6692\",\"#B6E880\",\"#FF97FF\",\"#FECB52\"],\"font\":{\"color\":\"#2a3f5f\"},\"hovermode\":\"closest\",\"hoverlabel\":{\"align\":\"left\"},\"paper_bgcolor\":\"white\",\"plot_bgcolor\":\"#E5ECF6\",\"polar\":{\"bgcolor\":\"#E5ECF6\",\"angularaxis\":{\"gridcolor\":\"white\",\"linecolor\":\"white\",\"ticks\":\"\"},\"radialaxis\":{\"gridcolor\":\"white\",\"linecolor\":\"white\",\"ticks\":\"\"}},\"ternary\":{\"bgcolor\":\"#E5ECF6\",\"aaxis\":{\"gridcolor\":\"white\",\"linecolor\":\"white\",\"ticks\":\"\"},\"baxis\":{\"gridcolor\":\"white\",\"linecolor\":\"white\",\"ticks\":\"\"},\"caxis\":{\"gridcolor\":\"white\",\"linecolor\":\"white\",\"ticks\":\"\"}},\"coloraxis\":{\"colorbar\":{\"outlinewidth\":0,\"ticks\":\"\"}},\"colorscale\":{\"sequential\":[[0.0,\"#0d0887\"],[0.1111111111111111,\"#46039f\"],[0.2222222222222222,\"#7201a8\"],[0.3333333333333333,\"#9c179e\"],[0.4444444444444444,\"#bd3786\"],[0.5555555555555556,\"#d8576b\"],[0.6666666666666666,\"#ed7953\"],[0.7777777777777778,\"#fb9f3a\"],[0.8888888888888888,\"#fdca26\"],[1.0,\"#f0f921\"]],\"sequentialminus\":[[0.0,\"#0d0887\"],[0.1111111111111111,\"#46039f\"],[0.2222222222222222,\"#7201a8\"],[0.3333333333333333,\"#9c179e\"],[0.4444444444444444,\"#bd3786\"],[0.5555555555555556,\"#d8576b\"],[0.6666666666666666,\"#ed7953\"],[0.7777777777777778,\"#fb9f3a\"],[0.8888888888888888,\"#fdca26\"],[1.0,\"#f0f921\"]],\"diverging\":[[0,\"#8e0152\"],[0.1,\"#c51b7d\"],[0.2,\"#de77ae\"],[0.3,\"#f1b6da\"],[0.4,\"#fde0ef\"],[0.5,\"#f7f7f7\"],[0.6,\"#e6f5d0\"],[0.7,\"#b8e186\"],[0.8,\"#7fbc41\"],[0.9,\"#4d9221\"],[1,\"#276419\"]]},\"xaxis\":{\"gridcolor\":\"white\",\"linecolor\":\"white\",\"ticks\":\"\",\"title\":{\"standoff\":15},\"zerolinecolor\":\"white\",\"automargin\":true,\"zerolinewidth\":2},\"yaxis\":{\"gridcolor\":\"white\",\"linecolor\":\"white\",\"ticks\":\"\",\"title\":{\"standoff\":15},\"zerolinecolor\":\"white\",\"automargin\":true,\"zerolinewidth\":2},\"scene\":{\"xaxis\":{\"backgroundcolor\":\"#E5ECF6\",\"gridcolor\":\"white\",\"linecolor\":\"white\",\"showbackground\":true,\"ticks\":\"\",\"zerolinecolor\":\"white\",\"gridwidth\":2},\"yaxis\":{\"backgroundcolor\":\"#E5ECF6\",\"gridcolor\":\"white\",\"linecolor\":\"white\",\"showbackground\":true,\"ticks\":\"\",\"zerolinecolor\":\"white\",\"gridwidth\":2},\"zaxis\":{\"backgroundcolor\":\"#E5ECF6\",\"gridcolor\":\"white\",\"linecolor\":\"white\",\"showbackground\":true,\"ticks\":\"\",\"zerolinecolor\":\"white\",\"gridwidth\":2}},\"shapedefaults\":{\"line\":{\"color\":\"#2a3f5f\"}},\"annotationdefaults\":{\"arrowcolor\":\"#2a3f5f\",\"arrowhead\":0,\"arrowwidth\":1},\"geo\":{\"bgcolor\":\"white\",\"landcolor\":\"#E5ECF6\",\"subunitcolor\":\"white\",\"showland\":true,\"showlakes\":true,\"lakecolor\":\"white\"},\"title\":{\"x\":0.05},\"mapbox\":{\"style\":\"light\"}}},\"title\":{\"text\":\"Correlated 2D samples at x ~ 3\"},\"xaxis\":{\"range\":[-4,4]},\"yaxis\":{\"range\":[-15,15]}},                        {\"responsive\": true}                    ).then(function(){\n",
       "                            \n",
       "var gd = document.getElementById('919d6043-e031-4bc4-bee4-79245fa9dd15');\n",
       "var x = new MutationObserver(function (mutations, observer) {{\n",
       "        var display = window.getComputedStyle(gd).display;\n",
       "        if (!display || display === 'none') {{\n",
       "            console.log([gd, 'removed!']);\n",
       "            Plotly.purge(gd);\n",
       "            observer.disconnect();\n",
       "        }}\n",
       "}});\n",
       "\n",
       "// Listen for the removal of the full notebook cells\n",
       "var notebookContainer = gd.closest('#notebook-container');\n",
       "if (notebookContainer) {{\n",
       "    x.observe(notebookContainer, {childList: true});\n",
       "}}\n",
       "\n",
       "// Listen for the clearing of the current output cell\n",
       "var outputEl = gd.closest('.output');\n",
       "if (outputEl) {{\n",
       "    x.observe(outputEl, {childList: true});\n",
       "}}\n",
       "\n",
       "                        })                };                });            </script>        </div>"
      ]
     },
     "metadata": {},
     "output_type": "display_data"
    },
    {
     "data": {
      "application/javascript": [
       "\n",
       "            setTimeout(function() {\n",
       "                var nbb_cell_id = 284;\n",
       "                var nbb_unformatted_code = \"xs_c_m, ys_c_m = make_y_for_x(3, cov_matrix=cov_matrix)\\nfig = go_scatter(xs_c_m, ys_c_m, title=\\\"Correlated 2D samples at x ~ 3\\\")\\nfig.update_xaxes(range=[-4, 4])\\nfig.update_yaxes(range=[-15, 15])\";\n",
       "                var nbb_formatted_code = \"xs_c_m, ys_c_m = make_y_for_x(3, cov_matrix=cov_matrix)\\nfig = go_scatter(xs_c_m, ys_c_m, title=\\\"Correlated 2D samples at x ~ 3\\\")\\nfig.update_xaxes(range=[-4, 4])\\nfig.update_yaxes(range=[-15, 15])\";\n",
       "                var nbb_cells = Jupyter.notebook.get_cells();\n",
       "                for (var i = 0; i < nbb_cells.length; ++i) {\n",
       "                    if (nbb_cells[i].input_prompt_number == nbb_cell_id) {\n",
       "                        if (nbb_cells[i].get_text() == nbb_unformatted_code) {\n",
       "                             nbb_cells[i].set_text(nbb_formatted_code);\n",
       "                        }\n",
       "                        break;\n",
       "                    }\n",
       "                }\n",
       "            }, 500);\n",
       "            "
      ],
      "text/plain": [
       "<IPython.core.display.Javascript object>"
      ]
     },
     "metadata": {},
     "output_type": "display_data"
    }
   ],
   "source": [
    "xs_c_m, ys_c_m = make_y_for_x(3, cov_matrix=cov_matrix)\n",
    "fig = go_scatter(xs_c_m, ys_c_m, title=\"Correlated 2D samples at x ~ 3\")\n",
    "fig.update_xaxes(range=[-4, 4])\n",
    "fig.update_yaxes(range=[-15, 15])"
   ]
  },
  {
   "cell_type": "code",
   "execution_count": 285,
   "id": "9519be75",
   "metadata": {
    "hidden": true
   },
   "outputs": [
    {
     "data": {
      "application/vnd.plotly.v1+json": {
       "config": {
        "plotlyServerURL": "https://plot.ly"
       },
       "data": [
        {
         "mode": "markers",
         "type": "scatter",
         "x": [
          -2.990570640139903,
          -3.0099035001194263,
          -3.002628319582352,
          -3.0003856612232402,
          -3.004478795098749,
          -3.0098067870896275,
          -3.0025814465115914,
          -3.0076958573657677,
          -3.00596816276152,
          -2.993628660636324,
          -2.9998834958085703,
          -3.0059629858592873,
          -3.005511181690858,
          -2.9944553786323116,
          -3.000080731378764,
          -3.008503878298087,
          -3.0013434018864817,
          -2.995787537928594,
          -3.0037707635518487,
          -2.9980187570350845,
          -2.99954591253122,
          -3.007218805123796,
          -2.9954301344172976,
          -3.00071850563782,
          -3.004568206010575,
          -3.0085402290690295,
          -3.004715301722801,
          -2.9908064481552734,
          -2.9901595891284263,
          -3.009403721352715,
          -3.008242447022214,
          -3.0004374329603256,
          -2.9920050425808853,
          -2.993944428352711,
          -2.9917445775133986,
          -3.0079026149926396,
          -2.990656398851785,
          -2.99291508937145,
          -3.0026469605982715,
          -3.0032829684372504,
          -2.9989934583167757,
          -2.9999352657268425,
          -2.9977126460906467,
          -3.0008934027908296,
          -3.0058944722308207,
          -3.0094021366791637,
          -3.007952978012398,
          -3.0085659191347958,
          -3.0018917675979715,
          -3.0035228330669486,
          -3.004159720577544,
          -2.999203646417344,
          -3.0057282435006973,
          -2.9920073598438917,
          -3.0022390963210333,
          -2.996672906222829,
          -2.9984713759258264,
          -3.0033502414605744,
          -2.999200668237023,
          -2.9994715719579843,
          -2.996103261644413,
          -3.0066144134482125,
          -3.0009716836318807,
          -3.0055852543955024,
          -3.0018129606928783,
          -2.998257456180613,
          -3.0032915459406375,
          -3.0047381111243356,
          -2.992071877524095,
          -2.998079335923359,
          -3.007189679591452,
          -2.9989674510781397,
          -2.9963545201464945,
          -3.004292884479511,
          -3.007636371674797,
          -3.005187722753554,
          -3.0094293317907286,
          -3.0026308522412597,
          -2.9910194604055023,
          -3.0064657542288113,
          -3.009970137408199,
          -3.0097655149731914,
          -3.0020623203410435,
          -3.0095715431473433,
          -3.005626580721648,
          -3.0004076223239697,
          -3.0096452716163586,
          -2.9918582781337006,
          -2.992566687286381,
          -2.9934332560544386,
          -3.005459627365051,
          -2.994219947888523,
          -2.991276990274407,
          -2.995699244280504,
          -3.0055889890266028,
          -3.001835534323459,
          -2.997646905452468,
          -2.999285044816184,
          -3.0000269501617396,
          -3.009335553911371
         ],
         "y": [
          -4.546368380127276,
          -6.3482410299642344,
          -5.471686683288205,
          -1.2237656874489549,
          -7.432169599406368,
          -4.0596825986458365,
          -5.655353983301625,
          -2.1617348096076725,
          -11.02375680113963,
          -4.09817404496205,
          -4.856288192827555,
          1.2927776883067355,
          -3.209986371181589,
          -5.626757116444325,
          -3.430860884706536,
          -2.0603574255258144,
          -4.600401025165269,
          1.687795692345493,
          -5.211104362236632,
          0.4294024186398482,
          -1.0453102663185616,
          -2.4574814451986398,
          -9.123154397879782,
          -5.8855972758917225,
          -0.07343445555671302,
          1.9393951427854472,
          -5.0216019257105,
          -4.388799120397274,
          0.03315537040521055,
          -1.1487823790183884,
          -4.177358759792558,
          -1.7389455916322865,
          -3.759565690023333,
          0.0195107445010414,
          -12.336571714383275,
          -4.0220116849444985,
          -2.096096453845349,
          -6.091568169581975,
          -0.09950281767854086,
          -3.8395983583384576,
          -0.2905334912141102,
          -8.419081320720926,
          -5.009006034726396,
          -7.026790436160521,
          -2.828219617001097,
          -4.199486080147571,
          -1.418340152503526,
          -9.851030036377374,
          -1.10762740511891,
          -4.010358801550105,
          -7.878513010430529,
          -7.081380949637462,
          -3.4171795327748855,
          -7.684243275340505,
          -3.594146883653999,
          -10.459350818480095,
          -4.35397073221022,
          -2.5678767400750515,
          -5.566575831313588,
          -7.247492695219563,
          -3.160131210670662,
          -1.2656709666042125,
          -0.8581799297207333,
          -6.64691650333171,
          -3.300831525766765,
          -4.7167736404820255,
          -8.885329937595518,
          -3.4622668495616367,
          -7.56142219996038,
          -8.91126904152134,
          0.2040946274660178,
          -0.9356904248709907,
          -3.829532099790158,
          -4.992081872153129,
          -4.992637850017859,
          0.37533690247880824,
          -5.711588939444555,
          -8.500325413751913,
          1.2888110129327903,
          2.12220527643723,
          -0.6580848091513927,
          -3.5551049105603467,
          -5.898331950593329,
          -2.7745343158584337,
          -5.3310519199275195,
          -3.7082330161613783,
          -1.6985402520972306,
          -6.442204434391006,
          1.2144094160272676,
          -4.510891394631432,
          -6.447330740363324,
          -1.879020092518077,
          -3.1210191510046923,
          0.07415219812528395,
          -9.92379624970908,
          -6.62234353795298,
          -6.440800948939966,
          -8.091451997051182,
          -3.4704932520610488,
          1.6422682814603073
         ]
        }
       ],
       "layout": {
        "template": {
         "data": {
          "bar": [
           {
            "error_x": {
             "color": "#2a3f5f"
            },
            "error_y": {
             "color": "#2a3f5f"
            },
            "marker": {
             "line": {
              "color": "#E5ECF6",
              "width": 0.5
             },
             "pattern": {
              "fillmode": "overlay",
              "size": 10,
              "solidity": 0.2
             }
            },
            "type": "bar"
           }
          ],
          "barpolar": [
           {
            "marker": {
             "line": {
              "color": "#E5ECF6",
              "width": 0.5
             },
             "pattern": {
              "fillmode": "overlay",
              "size": 10,
              "solidity": 0.2
             }
            },
            "type": "barpolar"
           }
          ],
          "carpet": [
           {
            "aaxis": {
             "endlinecolor": "#2a3f5f",
             "gridcolor": "white",
             "linecolor": "white",
             "minorgridcolor": "white",
             "startlinecolor": "#2a3f5f"
            },
            "baxis": {
             "endlinecolor": "#2a3f5f",
             "gridcolor": "white",
             "linecolor": "white",
             "minorgridcolor": "white",
             "startlinecolor": "#2a3f5f"
            },
            "type": "carpet"
           }
          ],
          "choropleth": [
           {
            "colorbar": {
             "outlinewidth": 0,
             "ticks": ""
            },
            "type": "choropleth"
           }
          ],
          "contour": [
           {
            "colorbar": {
             "outlinewidth": 0,
             "ticks": ""
            },
            "colorscale": [
             [
              0,
              "#0d0887"
             ],
             [
              0.1111111111111111,
              "#46039f"
             ],
             [
              0.2222222222222222,
              "#7201a8"
             ],
             [
              0.3333333333333333,
              "#9c179e"
             ],
             [
              0.4444444444444444,
              "#bd3786"
             ],
             [
              0.5555555555555556,
              "#d8576b"
             ],
             [
              0.6666666666666666,
              "#ed7953"
             ],
             [
              0.7777777777777778,
              "#fb9f3a"
             ],
             [
              0.8888888888888888,
              "#fdca26"
             ],
             [
              1,
              "#f0f921"
             ]
            ],
            "type": "contour"
           }
          ],
          "contourcarpet": [
           {
            "colorbar": {
             "outlinewidth": 0,
             "ticks": ""
            },
            "type": "contourcarpet"
           }
          ],
          "heatmap": [
           {
            "colorbar": {
             "outlinewidth": 0,
             "ticks": ""
            },
            "colorscale": [
             [
              0,
              "#0d0887"
             ],
             [
              0.1111111111111111,
              "#46039f"
             ],
             [
              0.2222222222222222,
              "#7201a8"
             ],
             [
              0.3333333333333333,
              "#9c179e"
             ],
             [
              0.4444444444444444,
              "#bd3786"
             ],
             [
              0.5555555555555556,
              "#d8576b"
             ],
             [
              0.6666666666666666,
              "#ed7953"
             ],
             [
              0.7777777777777778,
              "#fb9f3a"
             ],
             [
              0.8888888888888888,
              "#fdca26"
             ],
             [
              1,
              "#f0f921"
             ]
            ],
            "type": "heatmap"
           }
          ],
          "heatmapgl": [
           {
            "colorbar": {
             "outlinewidth": 0,
             "ticks": ""
            },
            "colorscale": [
             [
              0,
              "#0d0887"
             ],
             [
              0.1111111111111111,
              "#46039f"
             ],
             [
              0.2222222222222222,
              "#7201a8"
             ],
             [
              0.3333333333333333,
              "#9c179e"
             ],
             [
              0.4444444444444444,
              "#bd3786"
             ],
             [
              0.5555555555555556,
              "#d8576b"
             ],
             [
              0.6666666666666666,
              "#ed7953"
             ],
             [
              0.7777777777777778,
              "#fb9f3a"
             ],
             [
              0.8888888888888888,
              "#fdca26"
             ],
             [
              1,
              "#f0f921"
             ]
            ],
            "type": "heatmapgl"
           }
          ],
          "histogram": [
           {
            "marker": {
             "pattern": {
              "fillmode": "overlay",
              "size": 10,
              "solidity": 0.2
             }
            },
            "type": "histogram"
           }
          ],
          "histogram2d": [
           {
            "colorbar": {
             "outlinewidth": 0,
             "ticks": ""
            },
            "colorscale": [
             [
              0,
              "#0d0887"
             ],
             [
              0.1111111111111111,
              "#46039f"
             ],
             [
              0.2222222222222222,
              "#7201a8"
             ],
             [
              0.3333333333333333,
              "#9c179e"
             ],
             [
              0.4444444444444444,
              "#bd3786"
             ],
             [
              0.5555555555555556,
              "#d8576b"
             ],
             [
              0.6666666666666666,
              "#ed7953"
             ],
             [
              0.7777777777777778,
              "#fb9f3a"
             ],
             [
              0.8888888888888888,
              "#fdca26"
             ],
             [
              1,
              "#f0f921"
             ]
            ],
            "type": "histogram2d"
           }
          ],
          "histogram2dcontour": [
           {
            "colorbar": {
             "outlinewidth": 0,
             "ticks": ""
            },
            "colorscale": [
             [
              0,
              "#0d0887"
             ],
             [
              0.1111111111111111,
              "#46039f"
             ],
             [
              0.2222222222222222,
              "#7201a8"
             ],
             [
              0.3333333333333333,
              "#9c179e"
             ],
             [
              0.4444444444444444,
              "#bd3786"
             ],
             [
              0.5555555555555556,
              "#d8576b"
             ],
             [
              0.6666666666666666,
              "#ed7953"
             ],
             [
              0.7777777777777778,
              "#fb9f3a"
             ],
             [
              0.8888888888888888,
              "#fdca26"
             ],
             [
              1,
              "#f0f921"
             ]
            ],
            "type": "histogram2dcontour"
           }
          ],
          "mesh3d": [
           {
            "colorbar": {
             "outlinewidth": 0,
             "ticks": ""
            },
            "type": "mesh3d"
           }
          ],
          "parcoords": [
           {
            "line": {
             "colorbar": {
              "outlinewidth": 0,
              "ticks": ""
             }
            },
            "type": "parcoords"
           }
          ],
          "pie": [
           {
            "automargin": true,
            "type": "pie"
           }
          ],
          "scatter": [
           {
            "fillpattern": {
             "fillmode": "overlay",
             "size": 10,
             "solidity": 0.2
            },
            "type": "scatter"
           }
          ],
          "scatter3d": [
           {
            "line": {
             "colorbar": {
              "outlinewidth": 0,
              "ticks": ""
             }
            },
            "marker": {
             "colorbar": {
              "outlinewidth": 0,
              "ticks": ""
             }
            },
            "type": "scatter3d"
           }
          ],
          "scattercarpet": [
           {
            "marker": {
             "colorbar": {
              "outlinewidth": 0,
              "ticks": ""
             }
            },
            "type": "scattercarpet"
           }
          ],
          "scattergeo": [
           {
            "marker": {
             "colorbar": {
              "outlinewidth": 0,
              "ticks": ""
             }
            },
            "type": "scattergeo"
           }
          ],
          "scattergl": [
           {
            "marker": {
             "colorbar": {
              "outlinewidth": 0,
              "ticks": ""
             }
            },
            "type": "scattergl"
           }
          ],
          "scattermapbox": [
           {
            "marker": {
             "colorbar": {
              "outlinewidth": 0,
              "ticks": ""
             }
            },
            "type": "scattermapbox"
           }
          ],
          "scatterpolar": [
           {
            "marker": {
             "colorbar": {
              "outlinewidth": 0,
              "ticks": ""
             }
            },
            "type": "scatterpolar"
           }
          ],
          "scatterpolargl": [
           {
            "marker": {
             "colorbar": {
              "outlinewidth": 0,
              "ticks": ""
             }
            },
            "type": "scatterpolargl"
           }
          ],
          "scatterternary": [
           {
            "marker": {
             "colorbar": {
              "outlinewidth": 0,
              "ticks": ""
             }
            },
            "type": "scatterternary"
           }
          ],
          "surface": [
           {
            "colorbar": {
             "outlinewidth": 0,
             "ticks": ""
            },
            "colorscale": [
             [
              0,
              "#0d0887"
             ],
             [
              0.1111111111111111,
              "#46039f"
             ],
             [
              0.2222222222222222,
              "#7201a8"
             ],
             [
              0.3333333333333333,
              "#9c179e"
             ],
             [
              0.4444444444444444,
              "#bd3786"
             ],
             [
              0.5555555555555556,
              "#d8576b"
             ],
             [
              0.6666666666666666,
              "#ed7953"
             ],
             [
              0.7777777777777778,
              "#fb9f3a"
             ],
             [
              0.8888888888888888,
              "#fdca26"
             ],
             [
              1,
              "#f0f921"
             ]
            ],
            "type": "surface"
           }
          ],
          "table": [
           {
            "cells": {
             "fill": {
              "color": "#EBF0F8"
             },
             "line": {
              "color": "white"
             }
            },
            "header": {
             "fill": {
              "color": "#C8D4E3"
             },
             "line": {
              "color": "white"
             }
            },
            "type": "table"
           }
          ]
         },
         "layout": {
          "annotationdefaults": {
           "arrowcolor": "#2a3f5f",
           "arrowhead": 0,
           "arrowwidth": 1
          },
          "autotypenumbers": "strict",
          "coloraxis": {
           "colorbar": {
            "outlinewidth": 0,
            "ticks": ""
           }
          },
          "colorscale": {
           "diverging": [
            [
             0,
             "#8e0152"
            ],
            [
             0.1,
             "#c51b7d"
            ],
            [
             0.2,
             "#de77ae"
            ],
            [
             0.3,
             "#f1b6da"
            ],
            [
             0.4,
             "#fde0ef"
            ],
            [
             0.5,
             "#f7f7f7"
            ],
            [
             0.6,
             "#e6f5d0"
            ],
            [
             0.7,
             "#b8e186"
            ],
            [
             0.8,
             "#7fbc41"
            ],
            [
             0.9,
             "#4d9221"
            ],
            [
             1,
             "#276419"
            ]
           ],
           "sequential": [
            [
             0,
             "#0d0887"
            ],
            [
             0.1111111111111111,
             "#46039f"
            ],
            [
             0.2222222222222222,
             "#7201a8"
            ],
            [
             0.3333333333333333,
             "#9c179e"
            ],
            [
             0.4444444444444444,
             "#bd3786"
            ],
            [
             0.5555555555555556,
             "#d8576b"
            ],
            [
             0.6666666666666666,
             "#ed7953"
            ],
            [
             0.7777777777777778,
             "#fb9f3a"
            ],
            [
             0.8888888888888888,
             "#fdca26"
            ],
            [
             1,
             "#f0f921"
            ]
           ],
           "sequentialminus": [
            [
             0,
             "#0d0887"
            ],
            [
             0.1111111111111111,
             "#46039f"
            ],
            [
             0.2222222222222222,
             "#7201a8"
            ],
            [
             0.3333333333333333,
             "#9c179e"
            ],
            [
             0.4444444444444444,
             "#bd3786"
            ],
            [
             0.5555555555555556,
             "#d8576b"
            ],
            [
             0.6666666666666666,
             "#ed7953"
            ],
            [
             0.7777777777777778,
             "#fb9f3a"
            ],
            [
             0.8888888888888888,
             "#fdca26"
            ],
            [
             1,
             "#f0f921"
            ]
           ]
          },
          "colorway": [
           "#636efa",
           "#EF553B",
           "#00cc96",
           "#ab63fa",
           "#FFA15A",
           "#19d3f3",
           "#FF6692",
           "#B6E880",
           "#FF97FF",
           "#FECB52"
          ],
          "font": {
           "color": "#2a3f5f"
          },
          "geo": {
           "bgcolor": "white",
           "lakecolor": "white",
           "landcolor": "#E5ECF6",
           "showlakes": true,
           "showland": true,
           "subunitcolor": "white"
          },
          "hoverlabel": {
           "align": "left"
          },
          "hovermode": "closest",
          "mapbox": {
           "style": "light"
          },
          "paper_bgcolor": "white",
          "plot_bgcolor": "#E5ECF6",
          "polar": {
           "angularaxis": {
            "gridcolor": "white",
            "linecolor": "white",
            "ticks": ""
           },
           "bgcolor": "#E5ECF6",
           "radialaxis": {
            "gridcolor": "white",
            "linecolor": "white",
            "ticks": ""
           }
          },
          "scene": {
           "xaxis": {
            "backgroundcolor": "#E5ECF6",
            "gridcolor": "white",
            "gridwidth": 2,
            "linecolor": "white",
            "showbackground": true,
            "ticks": "",
            "zerolinecolor": "white"
           },
           "yaxis": {
            "backgroundcolor": "#E5ECF6",
            "gridcolor": "white",
            "gridwidth": 2,
            "linecolor": "white",
            "showbackground": true,
            "ticks": "",
            "zerolinecolor": "white"
           },
           "zaxis": {
            "backgroundcolor": "#E5ECF6",
            "gridcolor": "white",
            "gridwidth": 2,
            "linecolor": "white",
            "showbackground": true,
            "ticks": "",
            "zerolinecolor": "white"
           }
          },
          "shapedefaults": {
           "line": {
            "color": "#2a3f5f"
           }
          },
          "ternary": {
           "aaxis": {
            "gridcolor": "white",
            "linecolor": "white",
            "ticks": ""
           },
           "baxis": {
            "gridcolor": "white",
            "linecolor": "white",
            "ticks": ""
           },
           "bgcolor": "#E5ECF6",
           "caxis": {
            "gridcolor": "white",
            "linecolor": "white",
            "ticks": ""
           }
          },
          "title": {
           "x": 0.05
          },
          "xaxis": {
           "automargin": true,
           "gridcolor": "white",
           "linecolor": "white",
           "ticks": "",
           "title": {
            "standoff": 15
           },
           "zerolinecolor": "white",
           "zerolinewidth": 2
          },
          "yaxis": {
           "automargin": true,
           "gridcolor": "white",
           "linecolor": "white",
           "ticks": "",
           "title": {
            "standoff": 15
           },
           "zerolinecolor": "white",
           "zerolinewidth": 2
          }
         }
        },
        "title": {
         "text": "Correlated 2D samples at x ~ -3"
        },
        "xaxis": {
         "range": [
          -4,
          4
         ]
        },
        "yaxis": {
         "range": [
          -10,
          10
         ]
        }
       }
      },
      "text/html": [
       "<div>                            <div id=\"fbe7af02-afd0-42dc-9065-fb35ecced050\" class=\"plotly-graph-div\" style=\"height:525px; width:100%;\"></div>            <script type=\"text/javascript\">                require([\"plotly\"], function(Plotly) {                    window.PLOTLYENV=window.PLOTLYENV || {};                                    if (document.getElementById(\"fbe7af02-afd0-42dc-9065-fb35ecced050\")) {                    Plotly.newPlot(                        \"fbe7af02-afd0-42dc-9065-fb35ecced050\",                        [{\"mode\":\"markers\",\"x\":[-2.990570640139903,-3.0099035001194263,-3.002628319582352,-3.0003856612232402,-3.004478795098749,-3.0098067870896275,-3.0025814465115914,-3.0076958573657677,-3.00596816276152,-2.993628660636324,-2.9998834958085703,-3.0059629858592873,-3.005511181690858,-2.9944553786323116,-3.000080731378764,-3.008503878298087,-3.0013434018864817,-2.995787537928594,-3.0037707635518487,-2.9980187570350845,-2.99954591253122,-3.007218805123796,-2.9954301344172976,-3.00071850563782,-3.004568206010575,-3.0085402290690295,-3.004715301722801,-2.9908064481552734,-2.9901595891284263,-3.009403721352715,-3.008242447022214,-3.0004374329603256,-2.9920050425808853,-2.993944428352711,-2.9917445775133986,-3.0079026149926396,-2.990656398851785,-2.99291508937145,-3.0026469605982715,-3.0032829684372504,-2.9989934583167757,-2.9999352657268425,-2.9977126460906467,-3.0008934027908296,-3.0058944722308207,-3.0094021366791637,-3.007952978012398,-3.0085659191347958,-3.0018917675979715,-3.0035228330669486,-3.004159720577544,-2.999203646417344,-3.0057282435006973,-2.9920073598438917,-3.0022390963210333,-2.996672906222829,-2.9984713759258264,-3.0033502414605744,-2.999200668237023,-2.9994715719579843,-2.996103261644413,-3.0066144134482125,-3.0009716836318807,-3.0055852543955024,-3.0018129606928783,-2.998257456180613,-3.0032915459406375,-3.0047381111243356,-2.992071877524095,-2.998079335923359,-3.007189679591452,-2.9989674510781397,-2.9963545201464945,-3.004292884479511,-3.007636371674797,-3.005187722753554,-3.0094293317907286,-3.0026308522412597,-2.9910194604055023,-3.0064657542288113,-3.009970137408199,-3.0097655149731914,-3.0020623203410435,-3.0095715431473433,-3.005626580721648,-3.0004076223239697,-3.0096452716163586,-2.9918582781337006,-2.992566687286381,-2.9934332560544386,-3.005459627365051,-2.994219947888523,-2.991276990274407,-2.995699244280504,-3.0055889890266028,-3.001835534323459,-2.997646905452468,-2.999285044816184,-3.0000269501617396,-3.009335553911371],\"y\":[-4.546368380127276,-6.3482410299642344,-5.471686683288205,-1.2237656874489549,-7.432169599406368,-4.0596825986458365,-5.655353983301625,-2.1617348096076725,-11.02375680113963,-4.09817404496205,-4.856288192827555,1.2927776883067355,-3.209986371181589,-5.626757116444325,-3.430860884706536,-2.0603574255258144,-4.600401025165269,1.687795692345493,-5.211104362236632,0.4294024186398482,-1.0453102663185616,-2.4574814451986398,-9.123154397879782,-5.8855972758917225,-0.07343445555671302,1.9393951427854472,-5.0216019257105,-4.388799120397274,0.03315537040521055,-1.1487823790183884,-4.177358759792558,-1.7389455916322865,-3.759565690023333,0.0195107445010414,-12.336571714383275,-4.0220116849444985,-2.096096453845349,-6.091568169581975,-0.09950281767854086,-3.8395983583384576,-0.2905334912141102,-8.419081320720926,-5.009006034726396,-7.026790436160521,-2.828219617001097,-4.199486080147571,-1.418340152503526,-9.851030036377374,-1.10762740511891,-4.010358801550105,-7.878513010430529,-7.081380949637462,-3.4171795327748855,-7.684243275340505,-3.594146883653999,-10.459350818480095,-4.35397073221022,-2.5678767400750515,-5.566575831313588,-7.247492695219563,-3.160131210670662,-1.2656709666042125,-0.8581799297207333,-6.64691650333171,-3.300831525766765,-4.7167736404820255,-8.885329937595518,-3.4622668495616367,-7.56142219996038,-8.91126904152134,0.2040946274660178,-0.9356904248709907,-3.829532099790158,-4.992081872153129,-4.992637850017859,0.37533690247880824,-5.711588939444555,-8.500325413751913,1.2888110129327903,2.12220527643723,-0.6580848091513927,-3.5551049105603467,-5.898331950593329,-2.7745343158584337,-5.3310519199275195,-3.7082330161613783,-1.6985402520972306,-6.442204434391006,1.2144094160272676,-4.510891394631432,-6.447330740363324,-1.879020092518077,-3.1210191510046923,0.07415219812528395,-9.92379624970908,-6.62234353795298,-6.440800948939966,-8.091451997051182,-3.4704932520610488,1.6422682814603073],\"type\":\"scatter\"}],                        {\"template\":{\"data\":{\"histogram2dcontour\":[{\"type\":\"histogram2dcontour\",\"colorbar\":{\"outlinewidth\":0,\"ticks\":\"\"},\"colorscale\":[[0.0,\"#0d0887\"],[0.1111111111111111,\"#46039f\"],[0.2222222222222222,\"#7201a8\"],[0.3333333333333333,\"#9c179e\"],[0.4444444444444444,\"#bd3786\"],[0.5555555555555556,\"#d8576b\"],[0.6666666666666666,\"#ed7953\"],[0.7777777777777778,\"#fb9f3a\"],[0.8888888888888888,\"#fdca26\"],[1.0,\"#f0f921\"]]}],\"choropleth\":[{\"type\":\"choropleth\",\"colorbar\":{\"outlinewidth\":0,\"ticks\":\"\"}}],\"histogram2d\":[{\"type\":\"histogram2d\",\"colorbar\":{\"outlinewidth\":0,\"ticks\":\"\"},\"colorscale\":[[0.0,\"#0d0887\"],[0.1111111111111111,\"#46039f\"],[0.2222222222222222,\"#7201a8\"],[0.3333333333333333,\"#9c179e\"],[0.4444444444444444,\"#bd3786\"],[0.5555555555555556,\"#d8576b\"],[0.6666666666666666,\"#ed7953\"],[0.7777777777777778,\"#fb9f3a\"],[0.8888888888888888,\"#fdca26\"],[1.0,\"#f0f921\"]]}],\"heatmap\":[{\"type\":\"heatmap\",\"colorbar\":{\"outlinewidth\":0,\"ticks\":\"\"},\"colorscale\":[[0.0,\"#0d0887\"],[0.1111111111111111,\"#46039f\"],[0.2222222222222222,\"#7201a8\"],[0.3333333333333333,\"#9c179e\"],[0.4444444444444444,\"#bd3786\"],[0.5555555555555556,\"#d8576b\"],[0.6666666666666666,\"#ed7953\"],[0.7777777777777778,\"#fb9f3a\"],[0.8888888888888888,\"#fdca26\"],[1.0,\"#f0f921\"]]}],\"heatmapgl\":[{\"type\":\"heatmapgl\",\"colorbar\":{\"outlinewidth\":0,\"ticks\":\"\"},\"colorscale\":[[0.0,\"#0d0887\"],[0.1111111111111111,\"#46039f\"],[0.2222222222222222,\"#7201a8\"],[0.3333333333333333,\"#9c179e\"],[0.4444444444444444,\"#bd3786\"],[0.5555555555555556,\"#d8576b\"],[0.6666666666666666,\"#ed7953\"],[0.7777777777777778,\"#fb9f3a\"],[0.8888888888888888,\"#fdca26\"],[1.0,\"#f0f921\"]]}],\"contourcarpet\":[{\"type\":\"contourcarpet\",\"colorbar\":{\"outlinewidth\":0,\"ticks\":\"\"}}],\"contour\":[{\"type\":\"contour\",\"colorbar\":{\"outlinewidth\":0,\"ticks\":\"\"},\"colorscale\":[[0.0,\"#0d0887\"],[0.1111111111111111,\"#46039f\"],[0.2222222222222222,\"#7201a8\"],[0.3333333333333333,\"#9c179e\"],[0.4444444444444444,\"#bd3786\"],[0.5555555555555556,\"#d8576b\"],[0.6666666666666666,\"#ed7953\"],[0.7777777777777778,\"#fb9f3a\"],[0.8888888888888888,\"#fdca26\"],[1.0,\"#f0f921\"]]}],\"surface\":[{\"type\":\"surface\",\"colorbar\":{\"outlinewidth\":0,\"ticks\":\"\"},\"colorscale\":[[0.0,\"#0d0887\"],[0.1111111111111111,\"#46039f\"],[0.2222222222222222,\"#7201a8\"],[0.3333333333333333,\"#9c179e\"],[0.4444444444444444,\"#bd3786\"],[0.5555555555555556,\"#d8576b\"],[0.6666666666666666,\"#ed7953\"],[0.7777777777777778,\"#fb9f3a\"],[0.8888888888888888,\"#fdca26\"],[1.0,\"#f0f921\"]]}],\"mesh3d\":[{\"type\":\"mesh3d\",\"colorbar\":{\"outlinewidth\":0,\"ticks\":\"\"}}],\"scatter\":[{\"fillpattern\":{\"fillmode\":\"overlay\",\"size\":10,\"solidity\":0.2},\"type\":\"scatter\"}],\"parcoords\":[{\"type\":\"parcoords\",\"line\":{\"colorbar\":{\"outlinewidth\":0,\"ticks\":\"\"}}}],\"scatterpolargl\":[{\"type\":\"scatterpolargl\",\"marker\":{\"colorbar\":{\"outlinewidth\":0,\"ticks\":\"\"}}}],\"bar\":[{\"error_x\":{\"color\":\"#2a3f5f\"},\"error_y\":{\"color\":\"#2a3f5f\"},\"marker\":{\"line\":{\"color\":\"#E5ECF6\",\"width\":0.5},\"pattern\":{\"fillmode\":\"overlay\",\"size\":10,\"solidity\":0.2}},\"type\":\"bar\"}],\"scattergeo\":[{\"type\":\"scattergeo\",\"marker\":{\"colorbar\":{\"outlinewidth\":0,\"ticks\":\"\"}}}],\"scatterpolar\":[{\"type\":\"scatterpolar\",\"marker\":{\"colorbar\":{\"outlinewidth\":0,\"ticks\":\"\"}}}],\"histogram\":[{\"marker\":{\"pattern\":{\"fillmode\":\"overlay\",\"size\":10,\"solidity\":0.2}},\"type\":\"histogram\"}],\"scattergl\":[{\"type\":\"scattergl\",\"marker\":{\"colorbar\":{\"outlinewidth\":0,\"ticks\":\"\"}}}],\"scatter3d\":[{\"type\":\"scatter3d\",\"line\":{\"colorbar\":{\"outlinewidth\":0,\"ticks\":\"\"}},\"marker\":{\"colorbar\":{\"outlinewidth\":0,\"ticks\":\"\"}}}],\"scattermapbox\":[{\"type\":\"scattermapbox\",\"marker\":{\"colorbar\":{\"outlinewidth\":0,\"ticks\":\"\"}}}],\"scatterternary\":[{\"type\":\"scatterternary\",\"marker\":{\"colorbar\":{\"outlinewidth\":0,\"ticks\":\"\"}}}],\"scattercarpet\":[{\"type\":\"scattercarpet\",\"marker\":{\"colorbar\":{\"outlinewidth\":0,\"ticks\":\"\"}}}],\"carpet\":[{\"aaxis\":{\"endlinecolor\":\"#2a3f5f\",\"gridcolor\":\"white\",\"linecolor\":\"white\",\"minorgridcolor\":\"white\",\"startlinecolor\":\"#2a3f5f\"},\"baxis\":{\"endlinecolor\":\"#2a3f5f\",\"gridcolor\":\"white\",\"linecolor\":\"white\",\"minorgridcolor\":\"white\",\"startlinecolor\":\"#2a3f5f\"},\"type\":\"carpet\"}],\"table\":[{\"cells\":{\"fill\":{\"color\":\"#EBF0F8\"},\"line\":{\"color\":\"white\"}},\"header\":{\"fill\":{\"color\":\"#C8D4E3\"},\"line\":{\"color\":\"white\"}},\"type\":\"table\"}],\"barpolar\":[{\"marker\":{\"line\":{\"color\":\"#E5ECF6\",\"width\":0.5},\"pattern\":{\"fillmode\":\"overlay\",\"size\":10,\"solidity\":0.2}},\"type\":\"barpolar\"}],\"pie\":[{\"automargin\":true,\"type\":\"pie\"}]},\"layout\":{\"autotypenumbers\":\"strict\",\"colorway\":[\"#636efa\",\"#EF553B\",\"#00cc96\",\"#ab63fa\",\"#FFA15A\",\"#19d3f3\",\"#FF6692\",\"#B6E880\",\"#FF97FF\",\"#FECB52\"],\"font\":{\"color\":\"#2a3f5f\"},\"hovermode\":\"closest\",\"hoverlabel\":{\"align\":\"left\"},\"paper_bgcolor\":\"white\",\"plot_bgcolor\":\"#E5ECF6\",\"polar\":{\"bgcolor\":\"#E5ECF6\",\"angularaxis\":{\"gridcolor\":\"white\",\"linecolor\":\"white\",\"ticks\":\"\"},\"radialaxis\":{\"gridcolor\":\"white\",\"linecolor\":\"white\",\"ticks\":\"\"}},\"ternary\":{\"bgcolor\":\"#E5ECF6\",\"aaxis\":{\"gridcolor\":\"white\",\"linecolor\":\"white\",\"ticks\":\"\"},\"baxis\":{\"gridcolor\":\"white\",\"linecolor\":\"white\",\"ticks\":\"\"},\"caxis\":{\"gridcolor\":\"white\",\"linecolor\":\"white\",\"ticks\":\"\"}},\"coloraxis\":{\"colorbar\":{\"outlinewidth\":0,\"ticks\":\"\"}},\"colorscale\":{\"sequential\":[[0.0,\"#0d0887\"],[0.1111111111111111,\"#46039f\"],[0.2222222222222222,\"#7201a8\"],[0.3333333333333333,\"#9c179e\"],[0.4444444444444444,\"#bd3786\"],[0.5555555555555556,\"#d8576b\"],[0.6666666666666666,\"#ed7953\"],[0.7777777777777778,\"#fb9f3a\"],[0.8888888888888888,\"#fdca26\"],[1.0,\"#f0f921\"]],\"sequentialminus\":[[0.0,\"#0d0887\"],[0.1111111111111111,\"#46039f\"],[0.2222222222222222,\"#7201a8\"],[0.3333333333333333,\"#9c179e\"],[0.4444444444444444,\"#bd3786\"],[0.5555555555555556,\"#d8576b\"],[0.6666666666666666,\"#ed7953\"],[0.7777777777777778,\"#fb9f3a\"],[0.8888888888888888,\"#fdca26\"],[1.0,\"#f0f921\"]],\"diverging\":[[0,\"#8e0152\"],[0.1,\"#c51b7d\"],[0.2,\"#de77ae\"],[0.3,\"#f1b6da\"],[0.4,\"#fde0ef\"],[0.5,\"#f7f7f7\"],[0.6,\"#e6f5d0\"],[0.7,\"#b8e186\"],[0.8,\"#7fbc41\"],[0.9,\"#4d9221\"],[1,\"#276419\"]]},\"xaxis\":{\"gridcolor\":\"white\",\"linecolor\":\"white\",\"ticks\":\"\",\"title\":{\"standoff\":15},\"zerolinecolor\":\"white\",\"automargin\":true,\"zerolinewidth\":2},\"yaxis\":{\"gridcolor\":\"white\",\"linecolor\":\"white\",\"ticks\":\"\",\"title\":{\"standoff\":15},\"zerolinecolor\":\"white\",\"automargin\":true,\"zerolinewidth\":2},\"scene\":{\"xaxis\":{\"backgroundcolor\":\"#E5ECF6\",\"gridcolor\":\"white\",\"linecolor\":\"white\",\"showbackground\":true,\"ticks\":\"\",\"zerolinecolor\":\"white\",\"gridwidth\":2},\"yaxis\":{\"backgroundcolor\":\"#E5ECF6\",\"gridcolor\":\"white\",\"linecolor\":\"white\",\"showbackground\":true,\"ticks\":\"\",\"zerolinecolor\":\"white\",\"gridwidth\":2},\"zaxis\":{\"backgroundcolor\":\"#E5ECF6\",\"gridcolor\":\"white\",\"linecolor\":\"white\",\"showbackground\":true,\"ticks\":\"\",\"zerolinecolor\":\"white\",\"gridwidth\":2}},\"shapedefaults\":{\"line\":{\"color\":\"#2a3f5f\"}},\"annotationdefaults\":{\"arrowcolor\":\"#2a3f5f\",\"arrowhead\":0,\"arrowwidth\":1},\"geo\":{\"bgcolor\":\"white\",\"landcolor\":\"#E5ECF6\",\"subunitcolor\":\"white\",\"showland\":true,\"showlakes\":true,\"lakecolor\":\"white\"},\"title\":{\"x\":0.05},\"mapbox\":{\"style\":\"light\"}}},\"title\":{\"text\":\"Correlated 2D samples at x ~ -3\"},\"xaxis\":{\"range\":[-4,4]},\"yaxis\":{\"range\":[-10,10]}},                        {\"responsive\": true}                    ).then(function(){\n",
       "                            \n",
       "var gd = document.getElementById('fbe7af02-afd0-42dc-9065-fb35ecced050');\n",
       "var x = new MutationObserver(function (mutations, observer) {{\n",
       "        var display = window.getComputedStyle(gd).display;\n",
       "        if (!display || display === 'none') {{\n",
       "            console.log([gd, 'removed!']);\n",
       "            Plotly.purge(gd);\n",
       "            observer.disconnect();\n",
       "        }}\n",
       "}});\n",
       "\n",
       "// Listen for the removal of the full notebook cells\n",
       "var notebookContainer = gd.closest('#notebook-container');\n",
       "if (notebookContainer) {{\n",
       "    x.observe(notebookContainer, {childList: true});\n",
       "}}\n",
       "\n",
       "// Listen for the clearing of the current output cell\n",
       "var outputEl = gd.closest('.output');\n",
       "if (outputEl) {{\n",
       "    x.observe(outputEl, {childList: true});\n",
       "}}\n",
       "\n",
       "                        })                };                });            </script>        </div>"
      ]
     },
     "metadata": {},
     "output_type": "display_data"
    },
    {
     "data": {
      "application/javascript": [
       "\n",
       "            setTimeout(function() {\n",
       "                var nbb_cell_id = 285;\n",
       "                var nbb_unformatted_code = \"xs_c_m, ys_c_m = make_y_for_x(-3, cov_matrix=cov_matrix)\\nfig = go_scatter(xs_c_m, ys_c_m, title=\\\"Correlated 2D samples at x ~ -3\\\")\\nfig.update_xaxes(range=[-4, 4])\\nfig.update_yaxes(range=[-10, 10])\";\n",
       "                var nbb_formatted_code = \"xs_c_m, ys_c_m = make_y_for_x(-3, cov_matrix=cov_matrix)\\nfig = go_scatter(xs_c_m, ys_c_m, title=\\\"Correlated 2D samples at x ~ -3\\\")\\nfig.update_xaxes(range=[-4, 4])\\nfig.update_yaxes(range=[-10, 10])\";\n",
       "                var nbb_cells = Jupyter.notebook.get_cells();\n",
       "                for (var i = 0; i < nbb_cells.length; ++i) {\n",
       "                    if (nbb_cells[i].input_prompt_number == nbb_cell_id) {\n",
       "                        if (nbb_cells[i].get_text() == nbb_unformatted_code) {\n",
       "                             nbb_cells[i].set_text(nbb_formatted_code);\n",
       "                        }\n",
       "                        break;\n",
       "                    }\n",
       "                }\n",
       "            }, 500);\n",
       "            "
      ],
      "text/plain": [
       "<IPython.core.display.Javascript object>"
      ]
     },
     "metadata": {},
     "output_type": "display_data"
    }
   ],
   "source": [
    "xs_c_m, ys_c_m = make_y_for_x(-3, cov_matrix=cov_matrix)\n",
    "fig = go_scatter(xs_c_m, ys_c_m, title=\"Correlated 2D samples at x ~ -3\")\n",
    "fig.update_xaxes(range=[-4, 4])\n",
    "fig.update_yaxes(range=[-10, 10])"
   ]
  },
  {
   "cell_type": "code",
   "execution_count": null,
   "id": "b09935da",
   "metadata": {
    "hidden": true
   },
   "outputs": [],
   "source": []
  },
  {
   "cell_type": "code",
   "execution_count": null,
   "id": "af4d265d",
   "metadata": {
    "hidden": true
   },
   "outputs": [],
   "source": []
  },
  {
   "cell_type": "markdown",
   "id": "46c75008",
   "metadata": {
    "heading_collapsed": true
   },
   "source": [
    "# Functions as random samples"
   ]
  },
  {
   "cell_type": "code",
   "execution_count": 286,
   "id": "99545ff2",
   "metadata": {
    "hidden": true
   },
   "outputs": [
    {
     "data": {
      "application/javascript": [
       "\n",
       "            setTimeout(function() {\n",
       "                var nbb_cell_id = 286;\n",
       "                var nbb_unformatted_code = \"def get_nd_cov(d):\\n    #\\n    # Return a positive-definite matrix : A^T*A is positive-definite for any A\\n    # NOTE:\\n    # Positive definite does not mean each entry is positive....!\\n    # It means that all its eigen values are real and positive....\\n    #\\n    m1 = np.matrix(np.random.normal(0, 20, d * d)).reshape(d, d)\\n    m2 = np.transpose(m1).dot(m1)\\n    return m2\";\n",
       "                var nbb_formatted_code = \"def get_nd_cov(d):\\n    #\\n    # Return a positive-definite matrix : A^T*A is positive-definite for any A\\n    # NOTE:\\n    # Positive definite does not mean each entry is positive....!\\n    # It means that all its eigen values are real and positive....\\n    #\\n    m1 = np.matrix(np.random.normal(0, 20, d * d)).reshape(d, d)\\n    m2 = np.transpose(m1).dot(m1)\\n    return m2\";\n",
       "                var nbb_cells = Jupyter.notebook.get_cells();\n",
       "                for (var i = 0; i < nbb_cells.length; ++i) {\n",
       "                    if (nbb_cells[i].input_prompt_number == nbb_cell_id) {\n",
       "                        if (nbb_cells[i].get_text() == nbb_unformatted_code) {\n",
       "                             nbb_cells[i].set_text(nbb_formatted_code);\n",
       "                        }\n",
       "                        break;\n",
       "                    }\n",
       "                }\n",
       "            }, 500);\n",
       "            "
      ],
      "text/plain": [
       "<IPython.core.display.Javascript object>"
      ]
     },
     "metadata": {},
     "output_type": "display_data"
    }
   ],
   "source": [
    "def get_nd_cov(d):\n",
    "    #\n",
    "    # Return a positive-definite matrix : A^T*A is positive-definite for any A\n",
    "    # NOTE:\n",
    "    # Positive definite does not mean each entry is positive....!\n",
    "    # It means that all its eigen values are real and positive....\n",
    "    #\n",
    "    m1 = np.matrix(np.random.normal(0, 20, d * d)).reshape(d, d)\n",
    "    m2 = np.transpose(m1).dot(m1)\n",
    "    return m2"
   ]
  },
  {
   "cell_type": "code",
   "execution_count": 289,
   "id": "48db6b24",
   "metadata": {
    "hidden": true
   },
   "outputs": [
    {
     "data": {
      "application/javascript": [
       "\n",
       "            setTimeout(function() {\n",
       "                var nbb_cell_id = 289;\n",
       "                var nbb_unformatted_code = \"m1 = get_nd_cov(50)\\nassert(m1 == m1.T).sum() == 50 * 50\";\n",
       "                var nbb_formatted_code = \"m1 = get_nd_cov(50)\\nassert (m1 == m1.T).sum() == 50 * 50\";\n",
       "                var nbb_cells = Jupyter.notebook.get_cells();\n",
       "                for (var i = 0; i < nbb_cells.length; ++i) {\n",
       "                    if (nbb_cells[i].input_prompt_number == nbb_cell_id) {\n",
       "                        if (nbb_cells[i].get_text() == nbb_unformatted_code) {\n",
       "                             nbb_cells[i].set_text(nbb_formatted_code);\n",
       "                        }\n",
       "                        break;\n",
       "                    }\n",
       "                }\n",
       "            }, 500);\n",
       "            "
      ],
      "text/plain": [
       "<IPython.core.display.Javascript object>"
      ]
     },
     "metadata": {},
     "output_type": "display_data"
    }
   ],
   "source": [
    "m1 = get_nd_cov(50)\n",
    "assert (m1 == m1.T).sum() == 50 * 50"
   ]
  },
  {
   "cell_type": "code",
   "execution_count": 287,
   "id": "ef2e5d4c",
   "metadata": {
    "hidden": true
   },
   "outputs": [
    {
     "data": {
      "text/plain": [
       "array([7.18207788e+04, 6.58449247e+04, 6.02644379e+04, 5.74239372e+04,\n",
       "       5.44743839e+04, 5.12625889e+04, 5.01343072e+04, 4.45228406e+04,\n",
       "       4.11870318e+04, 4.00127899e+04, 3.83281950e+04, 3.44079834e+04,\n",
       "       3.33749622e+04, 3.14576506e+04, 2.92778276e+04, 2.86319154e+04,\n",
       "       2.62354769e+04, 2.37310285e+04, 2.11589698e+04, 2.02927207e+04,\n",
       "       1.92104980e+04, 1.74594467e+04, 1.50766308e+04, 1.45437234e+04,\n",
       "       1.34818230e+04, 1.15812389e+04, 1.11343064e+04, 8.88943166e+03,\n",
       "       8.52770701e+03, 7.84454791e+03, 7.01903957e+03, 6.28096534e+03,\n",
       "       5.94189556e+03, 4.55129594e+03, 4.29449901e+03, 3.98799216e+03,\n",
       "       3.48839564e+03, 3.07577637e+03, 1.99309231e+03, 1.53287832e+03,\n",
       "       1.41769571e+03, 9.72051190e+02, 7.06002343e+02, 5.16084247e+02,\n",
       "       4.81320083e+02, 2.75784281e+02, 1.36564925e+02, 8.98359317e+01,\n",
       "       4.40150854e+01, 9.20662326e+00])"
      ]
     },
     "execution_count": 287,
     "metadata": {},
     "output_type": "execute_result"
    },
    {
     "data": {
      "application/javascript": [
       "\n",
       "            setTimeout(function() {\n",
       "                var nbb_cell_id = 287;\n",
       "                var nbb_unformatted_code = \"eivals, _ = np.linalg.eig(\\n    get_nd_cov(50)\\n)\\neivals\";\n",
       "                var nbb_formatted_code = \"eivals, _ = np.linalg.eig(get_nd_cov(50))\\neivals\";\n",
       "                var nbb_cells = Jupyter.notebook.get_cells();\n",
       "                for (var i = 0; i < nbb_cells.length; ++i) {\n",
       "                    if (nbb_cells[i].input_prompt_number == nbb_cell_id) {\n",
       "                        if (nbb_cells[i].get_text() == nbb_unformatted_code) {\n",
       "                             nbb_cells[i].set_text(nbb_formatted_code);\n",
       "                        }\n",
       "                        break;\n",
       "                    }\n",
       "                }\n",
       "            }, 500);\n",
       "            "
      ],
      "text/plain": [
       "<IPython.core.display.Javascript object>"
      ]
     },
     "metadata": {},
     "output_type": "display_data"
    }
   ],
   "source": [
    "eivals, _ = np.linalg.eig(get_nd_cov(50))\n",
    "eivals"
   ]
  },
  {
   "cell_type": "code",
   "execution_count": 290,
   "id": "fdd57b3d",
   "metadata": {
    "hidden": true
   },
   "outputs": [
    {
     "data": {
      "application/javascript": [
       "\n",
       "            setTimeout(function() {\n",
       "                var nbb_cell_id = 290;\n",
       "                var nbb_unformatted_code = \"import time\\nimport matplotlib.pyplot as plt\\n\\n\\ndef plot_random_func(nd=50):\\n    fig = go.Figure()\\n    fig.add_trace(\\n        go.Scatter(\\n            x=list(range(nd)),\\n            y=np.random.multivariate_normal([0] * nd, get_nd_cov(nd)),\\n        )\\n    )\\n    fig.update_layout(title=\\\"Function as a random sample\\\")\\n    fig.show()\";\n",
       "                var nbb_formatted_code = \"import time\\nimport matplotlib.pyplot as plt\\n\\n\\ndef plot_random_func(nd=50):\\n    fig = go.Figure()\\n    fig.add_trace(\\n        go.Scatter(\\n            x=list(range(nd)),\\n            y=np.random.multivariate_normal([0] * nd, get_nd_cov(nd)),\\n        )\\n    )\\n    fig.update_layout(title=\\\"Function as a random sample\\\")\\n    fig.show()\";\n",
       "                var nbb_cells = Jupyter.notebook.get_cells();\n",
       "                for (var i = 0; i < nbb_cells.length; ++i) {\n",
       "                    if (nbb_cells[i].input_prompt_number == nbb_cell_id) {\n",
       "                        if (nbb_cells[i].get_text() == nbb_unformatted_code) {\n",
       "                             nbb_cells[i].set_text(nbb_formatted_code);\n",
       "                        }\n",
       "                        break;\n",
       "                    }\n",
       "                }\n",
       "            }, 500);\n",
       "            "
      ],
      "text/plain": [
       "<IPython.core.display.Javascript object>"
      ]
     },
     "metadata": {},
     "output_type": "display_data"
    }
   ],
   "source": [
    "import time\n",
    "import matplotlib.pyplot as plt\n",
    "\n",
    "\n",
    "def plot_random_func(nd=50):\n",
    "    fig = go.Figure()\n",
    "    fig.add_trace(\n",
    "        go.Scatter(\n",
    "            x=list(range(nd)),\n",
    "            y=np.random.multivariate_normal([0] * nd, get_nd_cov(nd)),\n",
    "        )\n",
    "    )\n",
    "    fig.update_layout(title=\"Function as a random sample\")\n",
    "    fig.show()"
   ]
  },
  {
   "cell_type": "markdown",
   "id": "5fd42945",
   "metadata": {
    "hidden": true
   },
   "source": [
    "## Random functions"
   ]
  },
  {
   "cell_type": "code",
   "execution_count": 306,
   "id": "16f2e311",
   "metadata": {
    "hidden": true
   },
   "outputs": [
    {
     "data": {
      "application/vnd.plotly.v1+json": {
       "config": {
        "plotlyServerURL": "https://plot.ly"
       },
       "data": [
        {
         "type": "scatter",
         "x": [
          0,
          1,
          2,
          3,
          4,
          5,
          6,
          7,
          8,
          9,
          10,
          11,
          12,
          13,
          14,
          15,
          16,
          17,
          18,
          19,
          20,
          21,
          22,
          23,
          24,
          25,
          26,
          27,
          28,
          29,
          30,
          31,
          32,
          33,
          34,
          35,
          36,
          37,
          38,
          39,
          40,
          41,
          42,
          43,
          44,
          45,
          46,
          47,
          48,
          49
         ],
         "y": [
          191.37532678572384,
          107.9492142497499,
          184.1930975107768,
          8.622624966668075,
          -141.6549913060994,
          -63.10444845533981,
          1.4883738664076454,
          -262.8180519997613,
          105.26375939528157,
          -74.00813810622634,
          -74.79304314136984,
          120.4238973824098,
          -330.59002273205505,
          341.5313661523724,
          -54.93817772861122,
          -16.07579487387837,
          -26.791674850274106,
          -151.69989423577877,
          70.80571302231313,
          -59.61676261646306,
          -151.31900656644703,
          161.62792075006783,
          -68.90815547800797,
          54.806559457161306,
          151.72420053910432,
          10.722854164918381,
          177.29178736276907,
          77.91301915307413,
          -90.61867051326746,
          11.441198952506387,
          31.99458756080626,
          156.9705020405445,
          -124.30079877460928,
          -104.6851477743324,
          247.75788258247093,
          -34.99428408181449,
          0.24312559312696647,
          -128.33888609019104,
          -55.778059776067096,
          -191.44053690514016,
          -78.96915278030416,
          -86.97153330703487,
          -108.67285654269637,
          -382.81020101949736,
          -251.48850565254367,
          17.228568337259432,
          340.6499491832372,
          -22.77402745263442,
          -44.12214875619529,
          -84.3746096380752
         ]
        }
       ],
       "layout": {
        "template": {
         "data": {
          "bar": [
           {
            "error_x": {
             "color": "#2a3f5f"
            },
            "error_y": {
             "color": "#2a3f5f"
            },
            "marker": {
             "line": {
              "color": "#E5ECF6",
              "width": 0.5
             },
             "pattern": {
              "fillmode": "overlay",
              "size": 10,
              "solidity": 0.2
             }
            },
            "type": "bar"
           }
          ],
          "barpolar": [
           {
            "marker": {
             "line": {
              "color": "#E5ECF6",
              "width": 0.5
             },
             "pattern": {
              "fillmode": "overlay",
              "size": 10,
              "solidity": 0.2
             }
            },
            "type": "barpolar"
           }
          ],
          "carpet": [
           {
            "aaxis": {
             "endlinecolor": "#2a3f5f",
             "gridcolor": "white",
             "linecolor": "white",
             "minorgridcolor": "white",
             "startlinecolor": "#2a3f5f"
            },
            "baxis": {
             "endlinecolor": "#2a3f5f",
             "gridcolor": "white",
             "linecolor": "white",
             "minorgridcolor": "white",
             "startlinecolor": "#2a3f5f"
            },
            "type": "carpet"
           }
          ],
          "choropleth": [
           {
            "colorbar": {
             "outlinewidth": 0,
             "ticks": ""
            },
            "type": "choropleth"
           }
          ],
          "contour": [
           {
            "colorbar": {
             "outlinewidth": 0,
             "ticks": ""
            },
            "colorscale": [
             [
              0,
              "#0d0887"
             ],
             [
              0.1111111111111111,
              "#46039f"
             ],
             [
              0.2222222222222222,
              "#7201a8"
             ],
             [
              0.3333333333333333,
              "#9c179e"
             ],
             [
              0.4444444444444444,
              "#bd3786"
             ],
             [
              0.5555555555555556,
              "#d8576b"
             ],
             [
              0.6666666666666666,
              "#ed7953"
             ],
             [
              0.7777777777777778,
              "#fb9f3a"
             ],
             [
              0.8888888888888888,
              "#fdca26"
             ],
             [
              1,
              "#f0f921"
             ]
            ],
            "type": "contour"
           }
          ],
          "contourcarpet": [
           {
            "colorbar": {
             "outlinewidth": 0,
             "ticks": ""
            },
            "type": "contourcarpet"
           }
          ],
          "heatmap": [
           {
            "colorbar": {
             "outlinewidth": 0,
             "ticks": ""
            },
            "colorscale": [
             [
              0,
              "#0d0887"
             ],
             [
              0.1111111111111111,
              "#46039f"
             ],
             [
              0.2222222222222222,
              "#7201a8"
             ],
             [
              0.3333333333333333,
              "#9c179e"
             ],
             [
              0.4444444444444444,
              "#bd3786"
             ],
             [
              0.5555555555555556,
              "#d8576b"
             ],
             [
              0.6666666666666666,
              "#ed7953"
             ],
             [
              0.7777777777777778,
              "#fb9f3a"
             ],
             [
              0.8888888888888888,
              "#fdca26"
             ],
             [
              1,
              "#f0f921"
             ]
            ],
            "type": "heatmap"
           }
          ],
          "heatmapgl": [
           {
            "colorbar": {
             "outlinewidth": 0,
             "ticks": ""
            },
            "colorscale": [
             [
              0,
              "#0d0887"
             ],
             [
              0.1111111111111111,
              "#46039f"
             ],
             [
              0.2222222222222222,
              "#7201a8"
             ],
             [
              0.3333333333333333,
              "#9c179e"
             ],
             [
              0.4444444444444444,
              "#bd3786"
             ],
             [
              0.5555555555555556,
              "#d8576b"
             ],
             [
              0.6666666666666666,
              "#ed7953"
             ],
             [
              0.7777777777777778,
              "#fb9f3a"
             ],
             [
              0.8888888888888888,
              "#fdca26"
             ],
             [
              1,
              "#f0f921"
             ]
            ],
            "type": "heatmapgl"
           }
          ],
          "histogram": [
           {
            "marker": {
             "pattern": {
              "fillmode": "overlay",
              "size": 10,
              "solidity": 0.2
             }
            },
            "type": "histogram"
           }
          ],
          "histogram2d": [
           {
            "colorbar": {
             "outlinewidth": 0,
             "ticks": ""
            },
            "colorscale": [
             [
              0,
              "#0d0887"
             ],
             [
              0.1111111111111111,
              "#46039f"
             ],
             [
              0.2222222222222222,
              "#7201a8"
             ],
             [
              0.3333333333333333,
              "#9c179e"
             ],
             [
              0.4444444444444444,
              "#bd3786"
             ],
             [
              0.5555555555555556,
              "#d8576b"
             ],
             [
              0.6666666666666666,
              "#ed7953"
             ],
             [
              0.7777777777777778,
              "#fb9f3a"
             ],
             [
              0.8888888888888888,
              "#fdca26"
             ],
             [
              1,
              "#f0f921"
             ]
            ],
            "type": "histogram2d"
           }
          ],
          "histogram2dcontour": [
           {
            "colorbar": {
             "outlinewidth": 0,
             "ticks": ""
            },
            "colorscale": [
             [
              0,
              "#0d0887"
             ],
             [
              0.1111111111111111,
              "#46039f"
             ],
             [
              0.2222222222222222,
              "#7201a8"
             ],
             [
              0.3333333333333333,
              "#9c179e"
             ],
             [
              0.4444444444444444,
              "#bd3786"
             ],
             [
              0.5555555555555556,
              "#d8576b"
             ],
             [
              0.6666666666666666,
              "#ed7953"
             ],
             [
              0.7777777777777778,
              "#fb9f3a"
             ],
             [
              0.8888888888888888,
              "#fdca26"
             ],
             [
              1,
              "#f0f921"
             ]
            ],
            "type": "histogram2dcontour"
           }
          ],
          "mesh3d": [
           {
            "colorbar": {
             "outlinewidth": 0,
             "ticks": ""
            },
            "type": "mesh3d"
           }
          ],
          "parcoords": [
           {
            "line": {
             "colorbar": {
              "outlinewidth": 0,
              "ticks": ""
             }
            },
            "type": "parcoords"
           }
          ],
          "pie": [
           {
            "automargin": true,
            "type": "pie"
           }
          ],
          "scatter": [
           {
            "fillpattern": {
             "fillmode": "overlay",
             "size": 10,
             "solidity": 0.2
            },
            "type": "scatter"
           }
          ],
          "scatter3d": [
           {
            "line": {
             "colorbar": {
              "outlinewidth": 0,
              "ticks": ""
             }
            },
            "marker": {
             "colorbar": {
              "outlinewidth": 0,
              "ticks": ""
             }
            },
            "type": "scatter3d"
           }
          ],
          "scattercarpet": [
           {
            "marker": {
             "colorbar": {
              "outlinewidth": 0,
              "ticks": ""
             }
            },
            "type": "scattercarpet"
           }
          ],
          "scattergeo": [
           {
            "marker": {
             "colorbar": {
              "outlinewidth": 0,
              "ticks": ""
             }
            },
            "type": "scattergeo"
           }
          ],
          "scattergl": [
           {
            "marker": {
             "colorbar": {
              "outlinewidth": 0,
              "ticks": ""
             }
            },
            "type": "scattergl"
           }
          ],
          "scattermapbox": [
           {
            "marker": {
             "colorbar": {
              "outlinewidth": 0,
              "ticks": ""
             }
            },
            "type": "scattermapbox"
           }
          ],
          "scatterpolar": [
           {
            "marker": {
             "colorbar": {
              "outlinewidth": 0,
              "ticks": ""
             }
            },
            "type": "scatterpolar"
           }
          ],
          "scatterpolargl": [
           {
            "marker": {
             "colorbar": {
              "outlinewidth": 0,
              "ticks": ""
             }
            },
            "type": "scatterpolargl"
           }
          ],
          "scatterternary": [
           {
            "marker": {
             "colorbar": {
              "outlinewidth": 0,
              "ticks": ""
             }
            },
            "type": "scatterternary"
           }
          ],
          "surface": [
           {
            "colorbar": {
             "outlinewidth": 0,
             "ticks": ""
            },
            "colorscale": [
             [
              0,
              "#0d0887"
             ],
             [
              0.1111111111111111,
              "#46039f"
             ],
             [
              0.2222222222222222,
              "#7201a8"
             ],
             [
              0.3333333333333333,
              "#9c179e"
             ],
             [
              0.4444444444444444,
              "#bd3786"
             ],
             [
              0.5555555555555556,
              "#d8576b"
             ],
             [
              0.6666666666666666,
              "#ed7953"
             ],
             [
              0.7777777777777778,
              "#fb9f3a"
             ],
             [
              0.8888888888888888,
              "#fdca26"
             ],
             [
              1,
              "#f0f921"
             ]
            ],
            "type": "surface"
           }
          ],
          "table": [
           {
            "cells": {
             "fill": {
              "color": "#EBF0F8"
             },
             "line": {
              "color": "white"
             }
            },
            "header": {
             "fill": {
              "color": "#C8D4E3"
             },
             "line": {
              "color": "white"
             }
            },
            "type": "table"
           }
          ]
         },
         "layout": {
          "annotationdefaults": {
           "arrowcolor": "#2a3f5f",
           "arrowhead": 0,
           "arrowwidth": 1
          },
          "autotypenumbers": "strict",
          "coloraxis": {
           "colorbar": {
            "outlinewidth": 0,
            "ticks": ""
           }
          },
          "colorscale": {
           "diverging": [
            [
             0,
             "#8e0152"
            ],
            [
             0.1,
             "#c51b7d"
            ],
            [
             0.2,
             "#de77ae"
            ],
            [
             0.3,
             "#f1b6da"
            ],
            [
             0.4,
             "#fde0ef"
            ],
            [
             0.5,
             "#f7f7f7"
            ],
            [
             0.6,
             "#e6f5d0"
            ],
            [
             0.7,
             "#b8e186"
            ],
            [
             0.8,
             "#7fbc41"
            ],
            [
             0.9,
             "#4d9221"
            ],
            [
             1,
             "#276419"
            ]
           ],
           "sequential": [
            [
             0,
             "#0d0887"
            ],
            [
             0.1111111111111111,
             "#46039f"
            ],
            [
             0.2222222222222222,
             "#7201a8"
            ],
            [
             0.3333333333333333,
             "#9c179e"
            ],
            [
             0.4444444444444444,
             "#bd3786"
            ],
            [
             0.5555555555555556,
             "#d8576b"
            ],
            [
             0.6666666666666666,
             "#ed7953"
            ],
            [
             0.7777777777777778,
             "#fb9f3a"
            ],
            [
             0.8888888888888888,
             "#fdca26"
            ],
            [
             1,
             "#f0f921"
            ]
           ],
           "sequentialminus": [
            [
             0,
             "#0d0887"
            ],
            [
             0.1111111111111111,
             "#46039f"
            ],
            [
             0.2222222222222222,
             "#7201a8"
            ],
            [
             0.3333333333333333,
             "#9c179e"
            ],
            [
             0.4444444444444444,
             "#bd3786"
            ],
            [
             0.5555555555555556,
             "#d8576b"
            ],
            [
             0.6666666666666666,
             "#ed7953"
            ],
            [
             0.7777777777777778,
             "#fb9f3a"
            ],
            [
             0.8888888888888888,
             "#fdca26"
            ],
            [
             1,
             "#f0f921"
            ]
           ]
          },
          "colorway": [
           "#636efa",
           "#EF553B",
           "#00cc96",
           "#ab63fa",
           "#FFA15A",
           "#19d3f3",
           "#FF6692",
           "#B6E880",
           "#FF97FF",
           "#FECB52"
          ],
          "font": {
           "color": "#2a3f5f"
          },
          "geo": {
           "bgcolor": "white",
           "lakecolor": "white",
           "landcolor": "#E5ECF6",
           "showlakes": true,
           "showland": true,
           "subunitcolor": "white"
          },
          "hoverlabel": {
           "align": "left"
          },
          "hovermode": "closest",
          "mapbox": {
           "style": "light"
          },
          "paper_bgcolor": "white",
          "plot_bgcolor": "#E5ECF6",
          "polar": {
           "angularaxis": {
            "gridcolor": "white",
            "linecolor": "white",
            "ticks": ""
           },
           "bgcolor": "#E5ECF6",
           "radialaxis": {
            "gridcolor": "white",
            "linecolor": "white",
            "ticks": ""
           }
          },
          "scene": {
           "xaxis": {
            "backgroundcolor": "#E5ECF6",
            "gridcolor": "white",
            "gridwidth": 2,
            "linecolor": "white",
            "showbackground": true,
            "ticks": "",
            "zerolinecolor": "white"
           },
           "yaxis": {
            "backgroundcolor": "#E5ECF6",
            "gridcolor": "white",
            "gridwidth": 2,
            "linecolor": "white",
            "showbackground": true,
            "ticks": "",
            "zerolinecolor": "white"
           },
           "zaxis": {
            "backgroundcolor": "#E5ECF6",
            "gridcolor": "white",
            "gridwidth": 2,
            "linecolor": "white",
            "showbackground": true,
            "ticks": "",
            "zerolinecolor": "white"
           }
          },
          "shapedefaults": {
           "line": {
            "color": "#2a3f5f"
           }
          },
          "ternary": {
           "aaxis": {
            "gridcolor": "white",
            "linecolor": "white",
            "ticks": ""
           },
           "baxis": {
            "gridcolor": "white",
            "linecolor": "white",
            "ticks": ""
           },
           "bgcolor": "#E5ECF6",
           "caxis": {
            "gridcolor": "white",
            "linecolor": "white",
            "ticks": ""
           }
          },
          "title": {
           "x": 0.05
          },
          "xaxis": {
           "automargin": true,
           "gridcolor": "white",
           "linecolor": "white",
           "ticks": "",
           "title": {
            "standoff": 15
           },
           "zerolinecolor": "white",
           "zerolinewidth": 2
          },
          "yaxis": {
           "automargin": true,
           "gridcolor": "white",
           "linecolor": "white",
           "ticks": "",
           "title": {
            "standoff": 15
           },
           "zerolinecolor": "white",
           "zerolinewidth": 2
          }
         }
        },
        "title": {
         "text": "Function as a random sample"
        }
       }
      },
      "text/html": [
       "<div>                            <div id=\"f647f920-390a-42ac-b25b-07f6568dc65b\" class=\"plotly-graph-div\" style=\"height:525px; width:100%;\"></div>            <script type=\"text/javascript\">                require([\"plotly\"], function(Plotly) {                    window.PLOTLYENV=window.PLOTLYENV || {};                                    if (document.getElementById(\"f647f920-390a-42ac-b25b-07f6568dc65b\")) {                    Plotly.newPlot(                        \"f647f920-390a-42ac-b25b-07f6568dc65b\",                        [{\"x\":[0,1,2,3,4,5,6,7,8,9,10,11,12,13,14,15,16,17,18,19,20,21,22,23,24,25,26,27,28,29,30,31,32,33,34,35,36,37,38,39,40,41,42,43,44,45,46,47,48,49],\"y\":[191.37532678572384,107.9492142497499,184.1930975107768,8.622624966668075,-141.6549913060994,-63.10444845533981,1.4883738664076454,-262.8180519997613,105.26375939528157,-74.00813810622634,-74.79304314136984,120.4238973824098,-330.59002273205505,341.5313661523724,-54.93817772861122,-16.07579487387837,-26.791674850274106,-151.69989423577877,70.80571302231313,-59.61676261646306,-151.31900656644703,161.62792075006783,-68.90815547800797,54.806559457161306,151.72420053910432,10.722854164918381,177.29178736276907,77.91301915307413,-90.61867051326746,11.441198952506387,31.99458756080626,156.9705020405445,-124.30079877460928,-104.6851477743324,247.75788258247093,-34.99428408181449,0.24312559312696647,-128.33888609019104,-55.778059776067096,-191.44053690514016,-78.96915278030416,-86.97153330703487,-108.67285654269637,-382.81020101949736,-251.48850565254367,17.228568337259432,340.6499491832372,-22.77402745263442,-44.12214875619529,-84.3746096380752],\"type\":\"scatter\"}],                        {\"template\":{\"data\":{\"histogram2dcontour\":[{\"type\":\"histogram2dcontour\",\"colorbar\":{\"outlinewidth\":0,\"ticks\":\"\"},\"colorscale\":[[0.0,\"#0d0887\"],[0.1111111111111111,\"#46039f\"],[0.2222222222222222,\"#7201a8\"],[0.3333333333333333,\"#9c179e\"],[0.4444444444444444,\"#bd3786\"],[0.5555555555555556,\"#d8576b\"],[0.6666666666666666,\"#ed7953\"],[0.7777777777777778,\"#fb9f3a\"],[0.8888888888888888,\"#fdca26\"],[1.0,\"#f0f921\"]]}],\"choropleth\":[{\"type\":\"choropleth\",\"colorbar\":{\"outlinewidth\":0,\"ticks\":\"\"}}],\"histogram2d\":[{\"type\":\"histogram2d\",\"colorbar\":{\"outlinewidth\":0,\"ticks\":\"\"},\"colorscale\":[[0.0,\"#0d0887\"],[0.1111111111111111,\"#46039f\"],[0.2222222222222222,\"#7201a8\"],[0.3333333333333333,\"#9c179e\"],[0.4444444444444444,\"#bd3786\"],[0.5555555555555556,\"#d8576b\"],[0.6666666666666666,\"#ed7953\"],[0.7777777777777778,\"#fb9f3a\"],[0.8888888888888888,\"#fdca26\"],[1.0,\"#f0f921\"]]}],\"heatmap\":[{\"type\":\"heatmap\",\"colorbar\":{\"outlinewidth\":0,\"ticks\":\"\"},\"colorscale\":[[0.0,\"#0d0887\"],[0.1111111111111111,\"#46039f\"],[0.2222222222222222,\"#7201a8\"],[0.3333333333333333,\"#9c179e\"],[0.4444444444444444,\"#bd3786\"],[0.5555555555555556,\"#d8576b\"],[0.6666666666666666,\"#ed7953\"],[0.7777777777777778,\"#fb9f3a\"],[0.8888888888888888,\"#fdca26\"],[1.0,\"#f0f921\"]]}],\"heatmapgl\":[{\"type\":\"heatmapgl\",\"colorbar\":{\"outlinewidth\":0,\"ticks\":\"\"},\"colorscale\":[[0.0,\"#0d0887\"],[0.1111111111111111,\"#46039f\"],[0.2222222222222222,\"#7201a8\"],[0.3333333333333333,\"#9c179e\"],[0.4444444444444444,\"#bd3786\"],[0.5555555555555556,\"#d8576b\"],[0.6666666666666666,\"#ed7953\"],[0.7777777777777778,\"#fb9f3a\"],[0.8888888888888888,\"#fdca26\"],[1.0,\"#f0f921\"]]}],\"contourcarpet\":[{\"type\":\"contourcarpet\",\"colorbar\":{\"outlinewidth\":0,\"ticks\":\"\"}}],\"contour\":[{\"type\":\"contour\",\"colorbar\":{\"outlinewidth\":0,\"ticks\":\"\"},\"colorscale\":[[0.0,\"#0d0887\"],[0.1111111111111111,\"#46039f\"],[0.2222222222222222,\"#7201a8\"],[0.3333333333333333,\"#9c179e\"],[0.4444444444444444,\"#bd3786\"],[0.5555555555555556,\"#d8576b\"],[0.6666666666666666,\"#ed7953\"],[0.7777777777777778,\"#fb9f3a\"],[0.8888888888888888,\"#fdca26\"],[1.0,\"#f0f921\"]]}],\"surface\":[{\"type\":\"surface\",\"colorbar\":{\"outlinewidth\":0,\"ticks\":\"\"},\"colorscale\":[[0.0,\"#0d0887\"],[0.1111111111111111,\"#46039f\"],[0.2222222222222222,\"#7201a8\"],[0.3333333333333333,\"#9c179e\"],[0.4444444444444444,\"#bd3786\"],[0.5555555555555556,\"#d8576b\"],[0.6666666666666666,\"#ed7953\"],[0.7777777777777778,\"#fb9f3a\"],[0.8888888888888888,\"#fdca26\"],[1.0,\"#f0f921\"]]}],\"mesh3d\":[{\"type\":\"mesh3d\",\"colorbar\":{\"outlinewidth\":0,\"ticks\":\"\"}}],\"scatter\":[{\"fillpattern\":{\"fillmode\":\"overlay\",\"size\":10,\"solidity\":0.2},\"type\":\"scatter\"}],\"parcoords\":[{\"type\":\"parcoords\",\"line\":{\"colorbar\":{\"outlinewidth\":0,\"ticks\":\"\"}}}],\"scatterpolargl\":[{\"type\":\"scatterpolargl\",\"marker\":{\"colorbar\":{\"outlinewidth\":0,\"ticks\":\"\"}}}],\"bar\":[{\"error_x\":{\"color\":\"#2a3f5f\"},\"error_y\":{\"color\":\"#2a3f5f\"},\"marker\":{\"line\":{\"color\":\"#E5ECF6\",\"width\":0.5},\"pattern\":{\"fillmode\":\"overlay\",\"size\":10,\"solidity\":0.2}},\"type\":\"bar\"}],\"scattergeo\":[{\"type\":\"scattergeo\",\"marker\":{\"colorbar\":{\"outlinewidth\":0,\"ticks\":\"\"}}}],\"scatterpolar\":[{\"type\":\"scatterpolar\",\"marker\":{\"colorbar\":{\"outlinewidth\":0,\"ticks\":\"\"}}}],\"histogram\":[{\"marker\":{\"pattern\":{\"fillmode\":\"overlay\",\"size\":10,\"solidity\":0.2}},\"type\":\"histogram\"}],\"scattergl\":[{\"type\":\"scattergl\",\"marker\":{\"colorbar\":{\"outlinewidth\":0,\"ticks\":\"\"}}}],\"scatter3d\":[{\"type\":\"scatter3d\",\"line\":{\"colorbar\":{\"outlinewidth\":0,\"ticks\":\"\"}},\"marker\":{\"colorbar\":{\"outlinewidth\":0,\"ticks\":\"\"}}}],\"scattermapbox\":[{\"type\":\"scattermapbox\",\"marker\":{\"colorbar\":{\"outlinewidth\":0,\"ticks\":\"\"}}}],\"scatterternary\":[{\"type\":\"scatterternary\",\"marker\":{\"colorbar\":{\"outlinewidth\":0,\"ticks\":\"\"}}}],\"scattercarpet\":[{\"type\":\"scattercarpet\",\"marker\":{\"colorbar\":{\"outlinewidth\":0,\"ticks\":\"\"}}}],\"carpet\":[{\"aaxis\":{\"endlinecolor\":\"#2a3f5f\",\"gridcolor\":\"white\",\"linecolor\":\"white\",\"minorgridcolor\":\"white\",\"startlinecolor\":\"#2a3f5f\"},\"baxis\":{\"endlinecolor\":\"#2a3f5f\",\"gridcolor\":\"white\",\"linecolor\":\"white\",\"minorgridcolor\":\"white\",\"startlinecolor\":\"#2a3f5f\"},\"type\":\"carpet\"}],\"table\":[{\"cells\":{\"fill\":{\"color\":\"#EBF0F8\"},\"line\":{\"color\":\"white\"}},\"header\":{\"fill\":{\"color\":\"#C8D4E3\"},\"line\":{\"color\":\"white\"}},\"type\":\"table\"}],\"barpolar\":[{\"marker\":{\"line\":{\"color\":\"#E5ECF6\",\"width\":0.5},\"pattern\":{\"fillmode\":\"overlay\",\"size\":10,\"solidity\":0.2}},\"type\":\"barpolar\"}],\"pie\":[{\"automargin\":true,\"type\":\"pie\"}]},\"layout\":{\"autotypenumbers\":\"strict\",\"colorway\":[\"#636efa\",\"#EF553B\",\"#00cc96\",\"#ab63fa\",\"#FFA15A\",\"#19d3f3\",\"#FF6692\",\"#B6E880\",\"#FF97FF\",\"#FECB52\"],\"font\":{\"color\":\"#2a3f5f\"},\"hovermode\":\"closest\",\"hoverlabel\":{\"align\":\"left\"},\"paper_bgcolor\":\"white\",\"plot_bgcolor\":\"#E5ECF6\",\"polar\":{\"bgcolor\":\"#E5ECF6\",\"angularaxis\":{\"gridcolor\":\"white\",\"linecolor\":\"white\",\"ticks\":\"\"},\"radialaxis\":{\"gridcolor\":\"white\",\"linecolor\":\"white\",\"ticks\":\"\"}},\"ternary\":{\"bgcolor\":\"#E5ECF6\",\"aaxis\":{\"gridcolor\":\"white\",\"linecolor\":\"white\",\"ticks\":\"\"},\"baxis\":{\"gridcolor\":\"white\",\"linecolor\":\"white\",\"ticks\":\"\"},\"caxis\":{\"gridcolor\":\"white\",\"linecolor\":\"white\",\"ticks\":\"\"}},\"coloraxis\":{\"colorbar\":{\"outlinewidth\":0,\"ticks\":\"\"}},\"colorscale\":{\"sequential\":[[0.0,\"#0d0887\"],[0.1111111111111111,\"#46039f\"],[0.2222222222222222,\"#7201a8\"],[0.3333333333333333,\"#9c179e\"],[0.4444444444444444,\"#bd3786\"],[0.5555555555555556,\"#d8576b\"],[0.6666666666666666,\"#ed7953\"],[0.7777777777777778,\"#fb9f3a\"],[0.8888888888888888,\"#fdca26\"],[1.0,\"#f0f921\"]],\"sequentialminus\":[[0.0,\"#0d0887\"],[0.1111111111111111,\"#46039f\"],[0.2222222222222222,\"#7201a8\"],[0.3333333333333333,\"#9c179e\"],[0.4444444444444444,\"#bd3786\"],[0.5555555555555556,\"#d8576b\"],[0.6666666666666666,\"#ed7953\"],[0.7777777777777778,\"#fb9f3a\"],[0.8888888888888888,\"#fdca26\"],[1.0,\"#f0f921\"]],\"diverging\":[[0,\"#8e0152\"],[0.1,\"#c51b7d\"],[0.2,\"#de77ae\"],[0.3,\"#f1b6da\"],[0.4,\"#fde0ef\"],[0.5,\"#f7f7f7\"],[0.6,\"#e6f5d0\"],[0.7,\"#b8e186\"],[0.8,\"#7fbc41\"],[0.9,\"#4d9221\"],[1,\"#276419\"]]},\"xaxis\":{\"gridcolor\":\"white\",\"linecolor\":\"white\",\"ticks\":\"\",\"title\":{\"standoff\":15},\"zerolinecolor\":\"white\",\"automargin\":true,\"zerolinewidth\":2},\"yaxis\":{\"gridcolor\":\"white\",\"linecolor\":\"white\",\"ticks\":\"\",\"title\":{\"standoff\":15},\"zerolinecolor\":\"white\",\"automargin\":true,\"zerolinewidth\":2},\"scene\":{\"xaxis\":{\"backgroundcolor\":\"#E5ECF6\",\"gridcolor\":\"white\",\"linecolor\":\"white\",\"showbackground\":true,\"ticks\":\"\",\"zerolinecolor\":\"white\",\"gridwidth\":2},\"yaxis\":{\"backgroundcolor\":\"#E5ECF6\",\"gridcolor\":\"white\",\"linecolor\":\"white\",\"showbackground\":true,\"ticks\":\"\",\"zerolinecolor\":\"white\",\"gridwidth\":2},\"zaxis\":{\"backgroundcolor\":\"#E5ECF6\",\"gridcolor\":\"white\",\"linecolor\":\"white\",\"showbackground\":true,\"ticks\":\"\",\"zerolinecolor\":\"white\",\"gridwidth\":2}},\"shapedefaults\":{\"line\":{\"color\":\"#2a3f5f\"}},\"annotationdefaults\":{\"arrowcolor\":\"#2a3f5f\",\"arrowhead\":0,\"arrowwidth\":1},\"geo\":{\"bgcolor\":\"white\",\"landcolor\":\"#E5ECF6\",\"subunitcolor\":\"white\",\"showland\":true,\"showlakes\":true,\"lakecolor\":\"white\"},\"title\":{\"x\":0.05},\"mapbox\":{\"style\":\"light\"}}},\"title\":{\"text\":\"Function as a random sample\"}},                        {\"responsive\": true}                    ).then(function(){\n",
       "                            \n",
       "var gd = document.getElementById('f647f920-390a-42ac-b25b-07f6568dc65b');\n",
       "var x = new MutationObserver(function (mutations, observer) {{\n",
       "        var display = window.getComputedStyle(gd).display;\n",
       "        if (!display || display === 'none') {{\n",
       "            console.log([gd, 'removed!']);\n",
       "            Plotly.purge(gd);\n",
       "            observer.disconnect();\n",
       "        }}\n",
       "}});\n",
       "\n",
       "// Listen for the removal of the full notebook cells\n",
       "var notebookContainer = gd.closest('#notebook-container');\n",
       "if (notebookContainer) {{\n",
       "    x.observe(notebookContainer, {childList: true});\n",
       "}}\n",
       "\n",
       "// Listen for the clearing of the current output cell\n",
       "var outputEl = gd.closest('.output');\n",
       "if (outputEl) {{\n",
       "    x.observe(outputEl, {childList: true});\n",
       "}}\n",
       "\n",
       "                        })                };                });            </script>        </div>"
      ]
     },
     "metadata": {},
     "output_type": "display_data"
    },
    {
     "data": {
      "application/javascript": [
       "\n",
       "            setTimeout(function() {\n",
       "                var nbb_cell_id = 306;\n",
       "                var nbb_unformatted_code = \"plot_random_func()\";\n",
       "                var nbb_formatted_code = \"plot_random_func()\";\n",
       "                var nbb_cells = Jupyter.notebook.get_cells();\n",
       "                for (var i = 0; i < nbb_cells.length; ++i) {\n",
       "                    if (nbb_cells[i].input_prompt_number == nbb_cell_id) {\n",
       "                        if (nbb_cells[i].get_text() == nbb_unformatted_code) {\n",
       "                             nbb_cells[i].set_text(nbb_formatted_code);\n",
       "                        }\n",
       "                        break;\n",
       "                    }\n",
       "                }\n",
       "            }, 500);\n",
       "            "
      ],
      "text/plain": [
       "<IPython.core.display.Javascript object>"
      ]
     },
     "metadata": {},
     "output_type": "display_data"
    }
   ],
   "source": [
    "plot_random_func()"
   ]
  },
  {
   "cell_type": "markdown",
   "id": "9cce0e5d",
   "metadata": {
    "heading_collapsed": true
   },
   "source": [
    "# Functions as smooth random samples"
   ]
  },
  {
   "cell_type": "code",
   "execution_count": 650,
   "id": "0bcad0c6",
   "metadata": {
    "hidden": true
   },
   "outputs": [
    {
     "data": {
      "application/javascript": [
       "\n",
       "            setTimeout(function() {\n",
       "                var nbb_cell_id = 650;\n",
       "                var nbb_unformatted_code = \"import math\\n\\n\\ndef get_nd_smooth_cov(d):\\n    npa = np.zeros(shape=(d, d))\\n    for i in range(d):\\n        for j in range(d):\\n            npa[i, j] = 4 * math.exp(-(abs(i - j) ** 2) / 75)\\n    return npa\";\n",
       "                var nbb_formatted_code = \"import math\\n\\n\\ndef get_nd_smooth_cov(d):\\n    npa = np.zeros(shape=(d, d))\\n    for i in range(d):\\n        for j in range(d):\\n            npa[i, j] = 4 * math.exp(-(abs(i - j) ** 2) / 75)\\n    return npa\";\n",
       "                var nbb_cells = Jupyter.notebook.get_cells();\n",
       "                for (var i = 0; i < nbb_cells.length; ++i) {\n",
       "                    if (nbb_cells[i].input_prompt_number == nbb_cell_id) {\n",
       "                        if (nbb_cells[i].get_text() == nbb_unformatted_code) {\n",
       "                             nbb_cells[i].set_text(nbb_formatted_code);\n",
       "                        }\n",
       "                        break;\n",
       "                    }\n",
       "                }\n",
       "            }, 500);\n",
       "            "
      ],
      "text/plain": [
       "<IPython.core.display.Javascript object>"
      ]
     },
     "metadata": {},
     "output_type": "display_data"
    }
   ],
   "source": [
    "import math\n",
    "\n",
    "\n",
    "def get_nd_smooth_cov(d):\n",
    "    npa = np.zeros(shape=(d, d))\n",
    "    for i in range(d):\n",
    "        for j in range(d):\n",
    "            npa[i, j] = 4 * math.exp(-(abs(i - j) ** 2) / 75)\n",
    "    return npa\n"
   ]
  },
  {
   "cell_type": "code",
   "execution_count": 651,
   "id": "8c5f96a8",
   "metadata": {
    "hidden": true
   },
   "outputs": [
    {
     "data": {
      "application/javascript": [
       "\n",
       "            setTimeout(function() {\n",
       "                var nbb_cell_id = 651;\n",
       "                var nbb_unformatted_code = \"# m1 = get_nd_smooth_cov(50)\\n# np.linalg.eig(m1)[0]\";\n",
       "                var nbb_formatted_code = \"# m1 = get_nd_smooth_cov(50)\\n# np.linalg.eig(m1)[0]\";\n",
       "                var nbb_cells = Jupyter.notebook.get_cells();\n",
       "                for (var i = 0; i < nbb_cells.length; ++i) {\n",
       "                    if (nbb_cells[i].input_prompt_number == nbb_cell_id) {\n",
       "                        if (nbb_cells[i].get_text() == nbb_unformatted_code) {\n",
       "                             nbb_cells[i].set_text(nbb_formatted_code);\n",
       "                        }\n",
       "                        break;\n",
       "                    }\n",
       "                }\n",
       "            }, 500);\n",
       "            "
      ],
      "text/plain": [
       "<IPython.core.display.Javascript object>"
      ]
     },
     "metadata": {},
     "output_type": "display_data"
    }
   ],
   "source": [
    "# m1 = get_nd_smooth_cov(50)\n",
    "# np.linalg.eig(m1)[0]"
   ]
  },
  {
   "cell_type": "code",
   "execution_count": 652,
   "id": "081aee3a",
   "metadata": {
    "hidden": true
   },
   "outputs": [
    {
     "data": {
      "application/javascript": [
       "\n",
       "            setTimeout(function() {\n",
       "                var nbb_cell_id = 652;\n",
       "                var nbb_unformatted_code = \"import time\\nimport matplotlib.pyplot as plt\\n\\n\\ndef plot_random_smooth_func(nd=50):\\n    fig = go.Figure()\\n    fig.add_trace(\\n        go.Scatter(\\n            x=list(range(nd)),\\n            y=np.random.multivariate_normal([0] * nd, get_nd_smooth_cov(nd)),\\n        )\\n    )\\n    fig.update_layout(title=\\\"Smooth function as a random sample\\\")\\n    fig.show()\";\n",
       "                var nbb_formatted_code = \"import time\\nimport matplotlib.pyplot as plt\\n\\n\\ndef plot_random_smooth_func(nd=50):\\n    fig = go.Figure()\\n    fig.add_trace(\\n        go.Scatter(\\n            x=list(range(nd)),\\n            y=np.random.multivariate_normal([0] * nd, get_nd_smooth_cov(nd)),\\n        )\\n    )\\n    fig.update_layout(title=\\\"Smooth function as a random sample\\\")\\n    fig.show()\";\n",
       "                var nbb_cells = Jupyter.notebook.get_cells();\n",
       "                for (var i = 0; i < nbb_cells.length; ++i) {\n",
       "                    if (nbb_cells[i].input_prompt_number == nbb_cell_id) {\n",
       "                        if (nbb_cells[i].get_text() == nbb_unformatted_code) {\n",
       "                             nbb_cells[i].set_text(nbb_formatted_code);\n",
       "                        }\n",
       "                        break;\n",
       "                    }\n",
       "                }\n",
       "            }, 500);\n",
       "            "
      ],
      "text/plain": [
       "<IPython.core.display.Javascript object>"
      ]
     },
     "metadata": {},
     "output_type": "display_data"
    }
   ],
   "source": [
    "import time\n",
    "import matplotlib.pyplot as plt\n",
    "\n",
    "\n",
    "def plot_random_smooth_func(nd=50):\n",
    "    fig = go.Figure()\n",
    "    fig.add_trace(\n",
    "        go.Scatter(\n",
    "            x=list(range(nd)),\n",
    "            y=np.random.multivariate_normal([0] * nd, get_nd_smooth_cov(nd)),\n",
    "        )\n",
    "    )\n",
    "    fig.update_layout(title=\"Smooth function as a random sample\")\n",
    "    fig.show()"
   ]
  },
  {
   "cell_type": "code",
   "execution_count": 653,
   "id": "0e79613a",
   "metadata": {
    "hidden": true
   },
   "outputs": [
    {
     "data": {
      "application/javascript": [
       "\n",
       "            setTimeout(function() {\n",
       "                var nbb_cell_id = 653;\n",
       "                var nbb_unformatted_code = \"# np.linalg.eig(get_nd_smooth_cov(50))[0]\";\n",
       "                var nbb_formatted_code = \"# np.linalg.eig(get_nd_smooth_cov(50))[0]\";\n",
       "                var nbb_cells = Jupyter.notebook.get_cells();\n",
       "                for (var i = 0; i < nbb_cells.length; ++i) {\n",
       "                    if (nbb_cells[i].input_prompt_number == nbb_cell_id) {\n",
       "                        if (nbb_cells[i].get_text() == nbb_unformatted_code) {\n",
       "                             nbb_cells[i].set_text(nbb_formatted_code);\n",
       "                        }\n",
       "                        break;\n",
       "                    }\n",
       "                }\n",
       "            }, 500);\n",
       "            "
      ],
      "text/plain": [
       "<IPython.core.display.Javascript object>"
      ]
     },
     "metadata": {},
     "output_type": "display_data"
    }
   ],
   "source": [
    "# np.linalg.eig(get_nd_smooth_cov(50))[0]"
   ]
  },
  {
   "cell_type": "code",
   "execution_count": 661,
   "id": "bce6b558",
   "metadata": {
    "hidden": true
   },
   "outputs": [
    {
     "data": {
      "application/vnd.plotly.v1+json": {
       "config": {
        "plotlyServerURL": "https://plot.ly"
       },
       "data": [
        {
         "type": "scatter",
         "x": [
          0,
          1,
          2,
          3,
          4,
          5,
          6,
          7,
          8,
          9,
          10,
          11,
          12,
          13,
          14,
          15,
          16,
          17,
          18,
          19,
          20,
          21,
          22,
          23,
          24,
          25,
          26,
          27,
          28,
          29,
          30,
          31,
          32,
          33,
          34,
          35,
          36,
          37,
          38,
          39,
          40,
          41,
          42,
          43,
          44,
          45,
          46,
          47,
          48,
          49
         ],
         "y": [
          -0.8430493938625179,
          -0.5222317694026922,
          -0.20401450749129216,
          0.10731262186015453,
          0.405645582478353,
          0.6820158547582876,
          0.9267350150981364,
          1.1340563840557993,
          1.307046189277248,
          1.4598631993373083,
          1.6156127839568635,
          1.799934332572931,
          2.032487247637985,
          2.3195591925185206,
          2.650629620550059,
          3.000088838030875,
          3.3332657987479126,
          3.61440239366471,
          3.8138836380553705,
          3.912873165897229,
          3.9049302791420506,
          3.795368708167029,
          3.599519005608736,
          3.340653673341365,
          3.047594556216267,
          2.7515683381103355,
          2.4820349679254985,
          2.261900206534198,
          2.103280774419103,
          2.005293469757915,
          1.9548941976191505,
          1.930751195063955,
          1.9089655068806306,
          1.8687532619575808,
          1.7963465229620197,
          1.6862594425849682,
          1.5402166708682299,
          1.3648444969937708,
          1.1693298771456644,
          0.963749238915761,
          0.7581374074480132,
          0.5619936274926788,
          0.3840255133052237,
          0.23223019848909546,
          0.11456158478522287,
          0.0401898198634789,
          0.020817511139198865,
          0.07105646209359633,
          0.2068757303781996,
          0.4417739191523662
         ]
        }
       ],
       "layout": {
        "template": {
         "data": {
          "bar": [
           {
            "error_x": {
             "color": "#2a3f5f"
            },
            "error_y": {
             "color": "#2a3f5f"
            },
            "marker": {
             "line": {
              "color": "#E5ECF6",
              "width": 0.5
             },
             "pattern": {
              "fillmode": "overlay",
              "size": 10,
              "solidity": 0.2
             }
            },
            "type": "bar"
           }
          ],
          "barpolar": [
           {
            "marker": {
             "line": {
              "color": "#E5ECF6",
              "width": 0.5
             },
             "pattern": {
              "fillmode": "overlay",
              "size": 10,
              "solidity": 0.2
             }
            },
            "type": "barpolar"
           }
          ],
          "carpet": [
           {
            "aaxis": {
             "endlinecolor": "#2a3f5f",
             "gridcolor": "white",
             "linecolor": "white",
             "minorgridcolor": "white",
             "startlinecolor": "#2a3f5f"
            },
            "baxis": {
             "endlinecolor": "#2a3f5f",
             "gridcolor": "white",
             "linecolor": "white",
             "minorgridcolor": "white",
             "startlinecolor": "#2a3f5f"
            },
            "type": "carpet"
           }
          ],
          "choropleth": [
           {
            "colorbar": {
             "outlinewidth": 0,
             "ticks": ""
            },
            "type": "choropleth"
           }
          ],
          "contour": [
           {
            "colorbar": {
             "outlinewidth": 0,
             "ticks": ""
            },
            "colorscale": [
             [
              0,
              "#0d0887"
             ],
             [
              0.1111111111111111,
              "#46039f"
             ],
             [
              0.2222222222222222,
              "#7201a8"
             ],
             [
              0.3333333333333333,
              "#9c179e"
             ],
             [
              0.4444444444444444,
              "#bd3786"
             ],
             [
              0.5555555555555556,
              "#d8576b"
             ],
             [
              0.6666666666666666,
              "#ed7953"
             ],
             [
              0.7777777777777778,
              "#fb9f3a"
             ],
             [
              0.8888888888888888,
              "#fdca26"
             ],
             [
              1,
              "#f0f921"
             ]
            ],
            "type": "contour"
           }
          ],
          "contourcarpet": [
           {
            "colorbar": {
             "outlinewidth": 0,
             "ticks": ""
            },
            "type": "contourcarpet"
           }
          ],
          "heatmap": [
           {
            "colorbar": {
             "outlinewidth": 0,
             "ticks": ""
            },
            "colorscale": [
             [
              0,
              "#0d0887"
             ],
             [
              0.1111111111111111,
              "#46039f"
             ],
             [
              0.2222222222222222,
              "#7201a8"
             ],
             [
              0.3333333333333333,
              "#9c179e"
             ],
             [
              0.4444444444444444,
              "#bd3786"
             ],
             [
              0.5555555555555556,
              "#d8576b"
             ],
             [
              0.6666666666666666,
              "#ed7953"
             ],
             [
              0.7777777777777778,
              "#fb9f3a"
             ],
             [
              0.8888888888888888,
              "#fdca26"
             ],
             [
              1,
              "#f0f921"
             ]
            ],
            "type": "heatmap"
           }
          ],
          "heatmapgl": [
           {
            "colorbar": {
             "outlinewidth": 0,
             "ticks": ""
            },
            "colorscale": [
             [
              0,
              "#0d0887"
             ],
             [
              0.1111111111111111,
              "#46039f"
             ],
             [
              0.2222222222222222,
              "#7201a8"
             ],
             [
              0.3333333333333333,
              "#9c179e"
             ],
             [
              0.4444444444444444,
              "#bd3786"
             ],
             [
              0.5555555555555556,
              "#d8576b"
             ],
             [
              0.6666666666666666,
              "#ed7953"
             ],
             [
              0.7777777777777778,
              "#fb9f3a"
             ],
             [
              0.8888888888888888,
              "#fdca26"
             ],
             [
              1,
              "#f0f921"
             ]
            ],
            "type": "heatmapgl"
           }
          ],
          "histogram": [
           {
            "marker": {
             "pattern": {
              "fillmode": "overlay",
              "size": 10,
              "solidity": 0.2
             }
            },
            "type": "histogram"
           }
          ],
          "histogram2d": [
           {
            "colorbar": {
             "outlinewidth": 0,
             "ticks": ""
            },
            "colorscale": [
             [
              0,
              "#0d0887"
             ],
             [
              0.1111111111111111,
              "#46039f"
             ],
             [
              0.2222222222222222,
              "#7201a8"
             ],
             [
              0.3333333333333333,
              "#9c179e"
             ],
             [
              0.4444444444444444,
              "#bd3786"
             ],
             [
              0.5555555555555556,
              "#d8576b"
             ],
             [
              0.6666666666666666,
              "#ed7953"
             ],
             [
              0.7777777777777778,
              "#fb9f3a"
             ],
             [
              0.8888888888888888,
              "#fdca26"
             ],
             [
              1,
              "#f0f921"
             ]
            ],
            "type": "histogram2d"
           }
          ],
          "histogram2dcontour": [
           {
            "colorbar": {
             "outlinewidth": 0,
             "ticks": ""
            },
            "colorscale": [
             [
              0,
              "#0d0887"
             ],
             [
              0.1111111111111111,
              "#46039f"
             ],
             [
              0.2222222222222222,
              "#7201a8"
             ],
             [
              0.3333333333333333,
              "#9c179e"
             ],
             [
              0.4444444444444444,
              "#bd3786"
             ],
             [
              0.5555555555555556,
              "#d8576b"
             ],
             [
              0.6666666666666666,
              "#ed7953"
             ],
             [
              0.7777777777777778,
              "#fb9f3a"
             ],
             [
              0.8888888888888888,
              "#fdca26"
             ],
             [
              1,
              "#f0f921"
             ]
            ],
            "type": "histogram2dcontour"
           }
          ],
          "mesh3d": [
           {
            "colorbar": {
             "outlinewidth": 0,
             "ticks": ""
            },
            "type": "mesh3d"
           }
          ],
          "parcoords": [
           {
            "line": {
             "colorbar": {
              "outlinewidth": 0,
              "ticks": ""
             }
            },
            "type": "parcoords"
           }
          ],
          "pie": [
           {
            "automargin": true,
            "type": "pie"
           }
          ],
          "scatter": [
           {
            "fillpattern": {
             "fillmode": "overlay",
             "size": 10,
             "solidity": 0.2
            },
            "type": "scatter"
           }
          ],
          "scatter3d": [
           {
            "line": {
             "colorbar": {
              "outlinewidth": 0,
              "ticks": ""
             }
            },
            "marker": {
             "colorbar": {
              "outlinewidth": 0,
              "ticks": ""
             }
            },
            "type": "scatter3d"
           }
          ],
          "scattercarpet": [
           {
            "marker": {
             "colorbar": {
              "outlinewidth": 0,
              "ticks": ""
             }
            },
            "type": "scattercarpet"
           }
          ],
          "scattergeo": [
           {
            "marker": {
             "colorbar": {
              "outlinewidth": 0,
              "ticks": ""
             }
            },
            "type": "scattergeo"
           }
          ],
          "scattergl": [
           {
            "marker": {
             "colorbar": {
              "outlinewidth": 0,
              "ticks": ""
             }
            },
            "type": "scattergl"
           }
          ],
          "scattermapbox": [
           {
            "marker": {
             "colorbar": {
              "outlinewidth": 0,
              "ticks": ""
             }
            },
            "type": "scattermapbox"
           }
          ],
          "scatterpolar": [
           {
            "marker": {
             "colorbar": {
              "outlinewidth": 0,
              "ticks": ""
             }
            },
            "type": "scatterpolar"
           }
          ],
          "scatterpolargl": [
           {
            "marker": {
             "colorbar": {
              "outlinewidth": 0,
              "ticks": ""
             }
            },
            "type": "scatterpolargl"
           }
          ],
          "scatterternary": [
           {
            "marker": {
             "colorbar": {
              "outlinewidth": 0,
              "ticks": ""
             }
            },
            "type": "scatterternary"
           }
          ],
          "surface": [
           {
            "colorbar": {
             "outlinewidth": 0,
             "ticks": ""
            },
            "colorscale": [
             [
              0,
              "#0d0887"
             ],
             [
              0.1111111111111111,
              "#46039f"
             ],
             [
              0.2222222222222222,
              "#7201a8"
             ],
             [
              0.3333333333333333,
              "#9c179e"
             ],
             [
              0.4444444444444444,
              "#bd3786"
             ],
             [
              0.5555555555555556,
              "#d8576b"
             ],
             [
              0.6666666666666666,
              "#ed7953"
             ],
             [
              0.7777777777777778,
              "#fb9f3a"
             ],
             [
              0.8888888888888888,
              "#fdca26"
             ],
             [
              1,
              "#f0f921"
             ]
            ],
            "type": "surface"
           }
          ],
          "table": [
           {
            "cells": {
             "fill": {
              "color": "#EBF0F8"
             },
             "line": {
              "color": "white"
             }
            },
            "header": {
             "fill": {
              "color": "#C8D4E3"
             },
             "line": {
              "color": "white"
             }
            },
            "type": "table"
           }
          ]
         },
         "layout": {
          "annotationdefaults": {
           "arrowcolor": "#2a3f5f",
           "arrowhead": 0,
           "arrowwidth": 1
          },
          "autotypenumbers": "strict",
          "coloraxis": {
           "colorbar": {
            "outlinewidth": 0,
            "ticks": ""
           }
          },
          "colorscale": {
           "diverging": [
            [
             0,
             "#8e0152"
            ],
            [
             0.1,
             "#c51b7d"
            ],
            [
             0.2,
             "#de77ae"
            ],
            [
             0.3,
             "#f1b6da"
            ],
            [
             0.4,
             "#fde0ef"
            ],
            [
             0.5,
             "#f7f7f7"
            ],
            [
             0.6,
             "#e6f5d0"
            ],
            [
             0.7,
             "#b8e186"
            ],
            [
             0.8,
             "#7fbc41"
            ],
            [
             0.9,
             "#4d9221"
            ],
            [
             1,
             "#276419"
            ]
           ],
           "sequential": [
            [
             0,
             "#0d0887"
            ],
            [
             0.1111111111111111,
             "#46039f"
            ],
            [
             0.2222222222222222,
             "#7201a8"
            ],
            [
             0.3333333333333333,
             "#9c179e"
            ],
            [
             0.4444444444444444,
             "#bd3786"
            ],
            [
             0.5555555555555556,
             "#d8576b"
            ],
            [
             0.6666666666666666,
             "#ed7953"
            ],
            [
             0.7777777777777778,
             "#fb9f3a"
            ],
            [
             0.8888888888888888,
             "#fdca26"
            ],
            [
             1,
             "#f0f921"
            ]
           ],
           "sequentialminus": [
            [
             0,
             "#0d0887"
            ],
            [
             0.1111111111111111,
             "#46039f"
            ],
            [
             0.2222222222222222,
             "#7201a8"
            ],
            [
             0.3333333333333333,
             "#9c179e"
            ],
            [
             0.4444444444444444,
             "#bd3786"
            ],
            [
             0.5555555555555556,
             "#d8576b"
            ],
            [
             0.6666666666666666,
             "#ed7953"
            ],
            [
             0.7777777777777778,
             "#fb9f3a"
            ],
            [
             0.8888888888888888,
             "#fdca26"
            ],
            [
             1,
             "#f0f921"
            ]
           ]
          },
          "colorway": [
           "#636efa",
           "#EF553B",
           "#00cc96",
           "#ab63fa",
           "#FFA15A",
           "#19d3f3",
           "#FF6692",
           "#B6E880",
           "#FF97FF",
           "#FECB52"
          ],
          "font": {
           "color": "#2a3f5f"
          },
          "geo": {
           "bgcolor": "white",
           "lakecolor": "white",
           "landcolor": "#E5ECF6",
           "showlakes": true,
           "showland": true,
           "subunitcolor": "white"
          },
          "hoverlabel": {
           "align": "left"
          },
          "hovermode": "closest",
          "mapbox": {
           "style": "light"
          },
          "paper_bgcolor": "white",
          "plot_bgcolor": "#E5ECF6",
          "polar": {
           "angularaxis": {
            "gridcolor": "white",
            "linecolor": "white",
            "ticks": ""
           },
           "bgcolor": "#E5ECF6",
           "radialaxis": {
            "gridcolor": "white",
            "linecolor": "white",
            "ticks": ""
           }
          },
          "scene": {
           "xaxis": {
            "backgroundcolor": "#E5ECF6",
            "gridcolor": "white",
            "gridwidth": 2,
            "linecolor": "white",
            "showbackground": true,
            "ticks": "",
            "zerolinecolor": "white"
           },
           "yaxis": {
            "backgroundcolor": "#E5ECF6",
            "gridcolor": "white",
            "gridwidth": 2,
            "linecolor": "white",
            "showbackground": true,
            "ticks": "",
            "zerolinecolor": "white"
           },
           "zaxis": {
            "backgroundcolor": "#E5ECF6",
            "gridcolor": "white",
            "gridwidth": 2,
            "linecolor": "white",
            "showbackground": true,
            "ticks": "",
            "zerolinecolor": "white"
           }
          },
          "shapedefaults": {
           "line": {
            "color": "#2a3f5f"
           }
          },
          "ternary": {
           "aaxis": {
            "gridcolor": "white",
            "linecolor": "white",
            "ticks": ""
           },
           "baxis": {
            "gridcolor": "white",
            "linecolor": "white",
            "ticks": ""
           },
           "bgcolor": "#E5ECF6",
           "caxis": {
            "gridcolor": "white",
            "linecolor": "white",
            "ticks": ""
           }
          },
          "title": {
           "x": 0.05
          },
          "xaxis": {
           "automargin": true,
           "gridcolor": "white",
           "linecolor": "white",
           "ticks": "",
           "title": {
            "standoff": 15
           },
           "zerolinecolor": "white",
           "zerolinewidth": 2
          },
          "yaxis": {
           "automargin": true,
           "gridcolor": "white",
           "linecolor": "white",
           "ticks": "",
           "title": {
            "standoff": 15
           },
           "zerolinecolor": "white",
           "zerolinewidth": 2
          }
         }
        },
        "title": {
         "text": "Smooth function as a random sample"
        }
       }
      },
      "text/html": [
       "<div>                            <div id=\"7d613d0a-0d55-47bc-83d4-1c71c238ace6\" class=\"plotly-graph-div\" style=\"height:525px; width:100%;\"></div>            <script type=\"text/javascript\">                require([\"plotly\"], function(Plotly) {                    window.PLOTLYENV=window.PLOTLYENV || {};                                    if (document.getElementById(\"7d613d0a-0d55-47bc-83d4-1c71c238ace6\")) {                    Plotly.newPlot(                        \"7d613d0a-0d55-47bc-83d4-1c71c238ace6\",                        [{\"x\":[0,1,2,3,4,5,6,7,8,9,10,11,12,13,14,15,16,17,18,19,20,21,22,23,24,25,26,27,28,29,30,31,32,33,34,35,36,37,38,39,40,41,42,43,44,45,46,47,48,49],\"y\":[-0.8430493938625179,-0.5222317694026922,-0.20401450749129216,0.10731262186015453,0.405645582478353,0.6820158547582876,0.9267350150981364,1.1340563840557993,1.307046189277248,1.4598631993373083,1.6156127839568635,1.799934332572931,2.032487247637985,2.3195591925185206,2.650629620550059,3.000088838030875,3.3332657987479126,3.61440239366471,3.8138836380553705,3.912873165897229,3.9049302791420506,3.795368708167029,3.599519005608736,3.340653673341365,3.047594556216267,2.7515683381103355,2.4820349679254985,2.261900206534198,2.103280774419103,2.005293469757915,1.9548941976191505,1.930751195063955,1.9089655068806306,1.8687532619575808,1.7963465229620197,1.6862594425849682,1.5402166708682299,1.3648444969937708,1.1693298771456644,0.963749238915761,0.7581374074480132,0.5619936274926788,0.3840255133052237,0.23223019848909546,0.11456158478522287,0.0401898198634789,0.020817511139198865,0.07105646209359633,0.2068757303781996,0.4417739191523662],\"type\":\"scatter\"}],                        {\"template\":{\"data\":{\"histogram2dcontour\":[{\"type\":\"histogram2dcontour\",\"colorbar\":{\"outlinewidth\":0,\"ticks\":\"\"},\"colorscale\":[[0.0,\"#0d0887\"],[0.1111111111111111,\"#46039f\"],[0.2222222222222222,\"#7201a8\"],[0.3333333333333333,\"#9c179e\"],[0.4444444444444444,\"#bd3786\"],[0.5555555555555556,\"#d8576b\"],[0.6666666666666666,\"#ed7953\"],[0.7777777777777778,\"#fb9f3a\"],[0.8888888888888888,\"#fdca26\"],[1.0,\"#f0f921\"]]}],\"choropleth\":[{\"type\":\"choropleth\",\"colorbar\":{\"outlinewidth\":0,\"ticks\":\"\"}}],\"histogram2d\":[{\"type\":\"histogram2d\",\"colorbar\":{\"outlinewidth\":0,\"ticks\":\"\"},\"colorscale\":[[0.0,\"#0d0887\"],[0.1111111111111111,\"#46039f\"],[0.2222222222222222,\"#7201a8\"],[0.3333333333333333,\"#9c179e\"],[0.4444444444444444,\"#bd3786\"],[0.5555555555555556,\"#d8576b\"],[0.6666666666666666,\"#ed7953\"],[0.7777777777777778,\"#fb9f3a\"],[0.8888888888888888,\"#fdca26\"],[1.0,\"#f0f921\"]]}],\"heatmap\":[{\"type\":\"heatmap\",\"colorbar\":{\"outlinewidth\":0,\"ticks\":\"\"},\"colorscale\":[[0.0,\"#0d0887\"],[0.1111111111111111,\"#46039f\"],[0.2222222222222222,\"#7201a8\"],[0.3333333333333333,\"#9c179e\"],[0.4444444444444444,\"#bd3786\"],[0.5555555555555556,\"#d8576b\"],[0.6666666666666666,\"#ed7953\"],[0.7777777777777778,\"#fb9f3a\"],[0.8888888888888888,\"#fdca26\"],[1.0,\"#f0f921\"]]}],\"heatmapgl\":[{\"type\":\"heatmapgl\",\"colorbar\":{\"outlinewidth\":0,\"ticks\":\"\"},\"colorscale\":[[0.0,\"#0d0887\"],[0.1111111111111111,\"#46039f\"],[0.2222222222222222,\"#7201a8\"],[0.3333333333333333,\"#9c179e\"],[0.4444444444444444,\"#bd3786\"],[0.5555555555555556,\"#d8576b\"],[0.6666666666666666,\"#ed7953\"],[0.7777777777777778,\"#fb9f3a\"],[0.8888888888888888,\"#fdca26\"],[1.0,\"#f0f921\"]]}],\"contourcarpet\":[{\"type\":\"contourcarpet\",\"colorbar\":{\"outlinewidth\":0,\"ticks\":\"\"}}],\"contour\":[{\"type\":\"contour\",\"colorbar\":{\"outlinewidth\":0,\"ticks\":\"\"},\"colorscale\":[[0.0,\"#0d0887\"],[0.1111111111111111,\"#46039f\"],[0.2222222222222222,\"#7201a8\"],[0.3333333333333333,\"#9c179e\"],[0.4444444444444444,\"#bd3786\"],[0.5555555555555556,\"#d8576b\"],[0.6666666666666666,\"#ed7953\"],[0.7777777777777778,\"#fb9f3a\"],[0.8888888888888888,\"#fdca26\"],[1.0,\"#f0f921\"]]}],\"surface\":[{\"type\":\"surface\",\"colorbar\":{\"outlinewidth\":0,\"ticks\":\"\"},\"colorscale\":[[0.0,\"#0d0887\"],[0.1111111111111111,\"#46039f\"],[0.2222222222222222,\"#7201a8\"],[0.3333333333333333,\"#9c179e\"],[0.4444444444444444,\"#bd3786\"],[0.5555555555555556,\"#d8576b\"],[0.6666666666666666,\"#ed7953\"],[0.7777777777777778,\"#fb9f3a\"],[0.8888888888888888,\"#fdca26\"],[1.0,\"#f0f921\"]]}],\"mesh3d\":[{\"type\":\"mesh3d\",\"colorbar\":{\"outlinewidth\":0,\"ticks\":\"\"}}],\"scatter\":[{\"fillpattern\":{\"fillmode\":\"overlay\",\"size\":10,\"solidity\":0.2},\"type\":\"scatter\"}],\"parcoords\":[{\"type\":\"parcoords\",\"line\":{\"colorbar\":{\"outlinewidth\":0,\"ticks\":\"\"}}}],\"scatterpolargl\":[{\"type\":\"scatterpolargl\",\"marker\":{\"colorbar\":{\"outlinewidth\":0,\"ticks\":\"\"}}}],\"bar\":[{\"error_x\":{\"color\":\"#2a3f5f\"},\"error_y\":{\"color\":\"#2a3f5f\"},\"marker\":{\"line\":{\"color\":\"#E5ECF6\",\"width\":0.5},\"pattern\":{\"fillmode\":\"overlay\",\"size\":10,\"solidity\":0.2}},\"type\":\"bar\"}],\"scattergeo\":[{\"type\":\"scattergeo\",\"marker\":{\"colorbar\":{\"outlinewidth\":0,\"ticks\":\"\"}}}],\"scatterpolar\":[{\"type\":\"scatterpolar\",\"marker\":{\"colorbar\":{\"outlinewidth\":0,\"ticks\":\"\"}}}],\"histogram\":[{\"marker\":{\"pattern\":{\"fillmode\":\"overlay\",\"size\":10,\"solidity\":0.2}},\"type\":\"histogram\"}],\"scattergl\":[{\"type\":\"scattergl\",\"marker\":{\"colorbar\":{\"outlinewidth\":0,\"ticks\":\"\"}}}],\"scatter3d\":[{\"type\":\"scatter3d\",\"line\":{\"colorbar\":{\"outlinewidth\":0,\"ticks\":\"\"}},\"marker\":{\"colorbar\":{\"outlinewidth\":0,\"ticks\":\"\"}}}],\"scattermapbox\":[{\"type\":\"scattermapbox\",\"marker\":{\"colorbar\":{\"outlinewidth\":0,\"ticks\":\"\"}}}],\"scatterternary\":[{\"type\":\"scatterternary\",\"marker\":{\"colorbar\":{\"outlinewidth\":0,\"ticks\":\"\"}}}],\"scattercarpet\":[{\"type\":\"scattercarpet\",\"marker\":{\"colorbar\":{\"outlinewidth\":0,\"ticks\":\"\"}}}],\"carpet\":[{\"aaxis\":{\"endlinecolor\":\"#2a3f5f\",\"gridcolor\":\"white\",\"linecolor\":\"white\",\"minorgridcolor\":\"white\",\"startlinecolor\":\"#2a3f5f\"},\"baxis\":{\"endlinecolor\":\"#2a3f5f\",\"gridcolor\":\"white\",\"linecolor\":\"white\",\"minorgridcolor\":\"white\",\"startlinecolor\":\"#2a3f5f\"},\"type\":\"carpet\"}],\"table\":[{\"cells\":{\"fill\":{\"color\":\"#EBF0F8\"},\"line\":{\"color\":\"white\"}},\"header\":{\"fill\":{\"color\":\"#C8D4E3\"},\"line\":{\"color\":\"white\"}},\"type\":\"table\"}],\"barpolar\":[{\"marker\":{\"line\":{\"color\":\"#E5ECF6\",\"width\":0.5},\"pattern\":{\"fillmode\":\"overlay\",\"size\":10,\"solidity\":0.2}},\"type\":\"barpolar\"}],\"pie\":[{\"automargin\":true,\"type\":\"pie\"}]},\"layout\":{\"autotypenumbers\":\"strict\",\"colorway\":[\"#636efa\",\"#EF553B\",\"#00cc96\",\"#ab63fa\",\"#FFA15A\",\"#19d3f3\",\"#FF6692\",\"#B6E880\",\"#FF97FF\",\"#FECB52\"],\"font\":{\"color\":\"#2a3f5f\"},\"hovermode\":\"closest\",\"hoverlabel\":{\"align\":\"left\"},\"paper_bgcolor\":\"white\",\"plot_bgcolor\":\"#E5ECF6\",\"polar\":{\"bgcolor\":\"#E5ECF6\",\"angularaxis\":{\"gridcolor\":\"white\",\"linecolor\":\"white\",\"ticks\":\"\"},\"radialaxis\":{\"gridcolor\":\"white\",\"linecolor\":\"white\",\"ticks\":\"\"}},\"ternary\":{\"bgcolor\":\"#E5ECF6\",\"aaxis\":{\"gridcolor\":\"white\",\"linecolor\":\"white\",\"ticks\":\"\"},\"baxis\":{\"gridcolor\":\"white\",\"linecolor\":\"white\",\"ticks\":\"\"},\"caxis\":{\"gridcolor\":\"white\",\"linecolor\":\"white\",\"ticks\":\"\"}},\"coloraxis\":{\"colorbar\":{\"outlinewidth\":0,\"ticks\":\"\"}},\"colorscale\":{\"sequential\":[[0.0,\"#0d0887\"],[0.1111111111111111,\"#46039f\"],[0.2222222222222222,\"#7201a8\"],[0.3333333333333333,\"#9c179e\"],[0.4444444444444444,\"#bd3786\"],[0.5555555555555556,\"#d8576b\"],[0.6666666666666666,\"#ed7953\"],[0.7777777777777778,\"#fb9f3a\"],[0.8888888888888888,\"#fdca26\"],[1.0,\"#f0f921\"]],\"sequentialminus\":[[0.0,\"#0d0887\"],[0.1111111111111111,\"#46039f\"],[0.2222222222222222,\"#7201a8\"],[0.3333333333333333,\"#9c179e\"],[0.4444444444444444,\"#bd3786\"],[0.5555555555555556,\"#d8576b\"],[0.6666666666666666,\"#ed7953\"],[0.7777777777777778,\"#fb9f3a\"],[0.8888888888888888,\"#fdca26\"],[1.0,\"#f0f921\"]],\"diverging\":[[0,\"#8e0152\"],[0.1,\"#c51b7d\"],[0.2,\"#de77ae\"],[0.3,\"#f1b6da\"],[0.4,\"#fde0ef\"],[0.5,\"#f7f7f7\"],[0.6,\"#e6f5d0\"],[0.7,\"#b8e186\"],[0.8,\"#7fbc41\"],[0.9,\"#4d9221\"],[1,\"#276419\"]]},\"xaxis\":{\"gridcolor\":\"white\",\"linecolor\":\"white\",\"ticks\":\"\",\"title\":{\"standoff\":15},\"zerolinecolor\":\"white\",\"automargin\":true,\"zerolinewidth\":2},\"yaxis\":{\"gridcolor\":\"white\",\"linecolor\":\"white\",\"ticks\":\"\",\"title\":{\"standoff\":15},\"zerolinecolor\":\"white\",\"automargin\":true,\"zerolinewidth\":2},\"scene\":{\"xaxis\":{\"backgroundcolor\":\"#E5ECF6\",\"gridcolor\":\"white\",\"linecolor\":\"white\",\"showbackground\":true,\"ticks\":\"\",\"zerolinecolor\":\"white\",\"gridwidth\":2},\"yaxis\":{\"backgroundcolor\":\"#E5ECF6\",\"gridcolor\":\"white\",\"linecolor\":\"white\",\"showbackground\":true,\"ticks\":\"\",\"zerolinecolor\":\"white\",\"gridwidth\":2},\"zaxis\":{\"backgroundcolor\":\"#E5ECF6\",\"gridcolor\":\"white\",\"linecolor\":\"white\",\"showbackground\":true,\"ticks\":\"\",\"zerolinecolor\":\"white\",\"gridwidth\":2}},\"shapedefaults\":{\"line\":{\"color\":\"#2a3f5f\"}},\"annotationdefaults\":{\"arrowcolor\":\"#2a3f5f\",\"arrowhead\":0,\"arrowwidth\":1},\"geo\":{\"bgcolor\":\"white\",\"landcolor\":\"#E5ECF6\",\"subunitcolor\":\"white\",\"showland\":true,\"showlakes\":true,\"lakecolor\":\"white\"},\"title\":{\"x\":0.05},\"mapbox\":{\"style\":\"light\"}}},\"title\":{\"text\":\"Smooth function as a random sample\"}},                        {\"responsive\": true}                    ).then(function(){\n",
       "                            \n",
       "var gd = document.getElementById('7d613d0a-0d55-47bc-83d4-1c71c238ace6');\n",
       "var x = new MutationObserver(function (mutations, observer) {{\n",
       "        var display = window.getComputedStyle(gd).display;\n",
       "        if (!display || display === 'none') {{\n",
       "            console.log([gd, 'removed!']);\n",
       "            Plotly.purge(gd);\n",
       "            observer.disconnect();\n",
       "        }}\n",
       "}});\n",
       "\n",
       "// Listen for the removal of the full notebook cells\n",
       "var notebookContainer = gd.closest('#notebook-container');\n",
       "if (notebookContainer) {{\n",
       "    x.observe(notebookContainer, {childList: true});\n",
       "}}\n",
       "\n",
       "// Listen for the clearing of the current output cell\n",
       "var outputEl = gd.closest('.output');\n",
       "if (outputEl) {{\n",
       "    x.observe(outputEl, {childList: true});\n",
       "}}\n",
       "\n",
       "                        })                };                });            </script>        </div>"
      ]
     },
     "metadata": {},
     "output_type": "display_data"
    },
    {
     "data": {
      "application/javascript": [
       "\n",
       "            setTimeout(function() {\n",
       "                var nbb_cell_id = 661;\n",
       "                var nbb_unformatted_code = \"plot_random_smooth_func()\";\n",
       "                var nbb_formatted_code = \"plot_random_smooth_func()\";\n",
       "                var nbb_cells = Jupyter.notebook.get_cells();\n",
       "                for (var i = 0; i < nbb_cells.length; ++i) {\n",
       "                    if (nbb_cells[i].input_prompt_number == nbb_cell_id) {\n",
       "                        if (nbb_cells[i].get_text() == nbb_unformatted_code) {\n",
       "                             nbb_cells[i].set_text(nbb_formatted_code);\n",
       "                        }\n",
       "                        break;\n",
       "                    }\n",
       "                }\n",
       "            }, 500);\n",
       "            "
      ],
      "text/plain": [
       "<IPython.core.display.Javascript object>"
      ]
     },
     "metadata": {},
     "output_type": "display_data"
    }
   ],
   "source": [
    "plot_random_smooth_func()"
   ]
  },
  {
   "cell_type": "markdown",
   "id": "1cc29d2e",
   "metadata": {
    "heading_collapsed": true
   },
   "source": [
    "# (Empirical) Smooth functions as random samples but conditioned"
   ]
  },
  {
   "cell_type": "code",
   "execution_count": 370,
   "id": "9424af40",
   "metadata": {
    "hidden": true
   },
   "outputs": [
    {
     "data": {
      "application/javascript": [
       "\n",
       "            setTimeout(function() {\n",
       "                var nbb_cell_id = 370;\n",
       "                var nbb_unformatted_code = \"def plot_random_smooth_func_conditioned(known_dict, nd=50, tol=0.1):\\n    fig = go.Figure()\\n\\n    cov_matrix = get_nd_smooth_cov(nd)\\n    failed = True\\n    while failed:\\n        candidate = np.random.multivariate_normal([0] * nd, cov_matrix)\\n        failed = False\\n        for idx in known_dict.keys():\\n            if np.abs(candidate[idx] - known_dict[idx]) > tol:\\n                failed = True\\n                break\\n\\n    known_points = list(known_dict.keys())\\n    known_values = [known_dict[x] for x in known_points]\\n    fig.add_trace(\\n        go.Scatter(\\n            x=list(range(nd)),\\n            y=candidate,\\n        )\\n    )\\n    fig.add_trace(go.Scatter(x=known_points, y=known_values, mode=\\\"markers\\\"))\\n    fig.update_layout(\\n        title=\\\"Smooth function as a random sample conditioned on known points\\\"\\n    )\\n    fig.show()\";\n",
       "                var nbb_formatted_code = \"def plot_random_smooth_func_conditioned(known_dict, nd=50, tol=0.1):\\n    fig = go.Figure()\\n\\n    cov_matrix = get_nd_smooth_cov(nd)\\n    failed = True\\n    while failed:\\n        candidate = np.random.multivariate_normal([0] * nd, cov_matrix)\\n        failed = False\\n        for idx in known_dict.keys():\\n            if np.abs(candidate[idx] - known_dict[idx]) > tol:\\n                failed = True\\n                break\\n\\n    known_points = list(known_dict.keys())\\n    known_values = [known_dict[x] for x in known_points]\\n    fig.add_trace(\\n        go.Scatter(\\n            x=list(range(nd)),\\n            y=candidate,\\n        )\\n    )\\n    fig.add_trace(go.Scatter(x=known_points, y=known_values, mode=\\\"markers\\\"))\\n    fig.update_layout(\\n        title=\\\"Smooth function as a random sample conditioned on known points\\\"\\n    )\\n    fig.show()\";\n",
       "                var nbb_cells = Jupyter.notebook.get_cells();\n",
       "                for (var i = 0; i < nbb_cells.length; ++i) {\n",
       "                    if (nbb_cells[i].input_prompt_number == nbb_cell_id) {\n",
       "                        if (nbb_cells[i].get_text() == nbb_unformatted_code) {\n",
       "                             nbb_cells[i].set_text(nbb_formatted_code);\n",
       "                        }\n",
       "                        break;\n",
       "                    }\n",
       "                }\n",
       "            }, 500);\n",
       "            "
      ],
      "text/plain": [
       "<IPython.core.display.Javascript object>"
      ]
     },
     "metadata": {},
     "output_type": "display_data"
    }
   ],
   "source": [
    "def plot_random_smooth_func_conditioned(known_dict, nd=50, tol=0.1):\n",
    "    fig = go.Figure()\n",
    "\n",
    "    cov_matrix = get_nd_smooth_cov(nd)\n",
    "    failed = True\n",
    "    while failed:\n",
    "        candidate = np.random.multivariate_normal([0] * nd, cov_matrix)\n",
    "        failed = False\n",
    "        for idx in known_dict.keys():\n",
    "            if np.abs(candidate[idx] - known_dict[idx]) > tol:\n",
    "                failed = True\n",
    "                break\n",
    "\n",
    "    known_points = list(known_dict.keys())\n",
    "    known_values = [known_dict[x] for x in known_points]\n",
    "    fig.add_trace(\n",
    "        go.Scatter(\n",
    "            x=list(range(nd)),\n",
    "            y=candidate,\n",
    "        )\n",
    "    )\n",
    "    fig.add_trace(go.Scatter(x=known_points, y=known_values, mode=\"markers\"))\n",
    "    fig.update_layout(\n",
    "        title=\"Smooth function as a random sample conditioned on known points\"\n",
    "    )\n",
    "    fig.show()"
   ]
  },
  {
   "cell_type": "code",
   "execution_count": 757,
   "id": "490795bd",
   "metadata": {
    "hidden": true
   },
   "outputs": [
    {
     "data": {
      "application/vnd.plotly.v1+json": {
       "config": {
        "plotlyServerURL": "https://plot.ly"
       },
       "data": [
        {
         "type": "scatter",
         "x": [
          0,
          1,
          2,
          3,
          4,
          5,
          6,
          7,
          8,
          9,
          10,
          11,
          12,
          13,
          14,
          15,
          16,
          17,
          18,
          19,
          20,
          21,
          22,
          23,
          24,
          25,
          26,
          27,
          28,
          29,
          30,
          31,
          32,
          33,
          34,
          35,
          36,
          37,
          38,
          39,
          40,
          41,
          42,
          43,
          44,
          45,
          46,
          47,
          48,
          49
         ],
         "y": [
          0.7890229425000147,
          0.7171561216162485,
          0.6660532688459874,
          0.6280155705559075,
          0.5966564128494144,
          0.5725691048150173,
          0.5659477866119587,
          0.593950232267539,
          0.6729795276487271,
          0.8087849163458293,
          0.988858010300723,
          1.1810855843979355,
          1.3401670730614355,
          1.420026576452084,
          1.3878846574442747,
          1.2348792351933706,
          0.979413248745569,
          0.6621017054735806,
          0.33416741811355666,
          0.043248336921363595,
          -0.17880426079698536,
          -0.32252351641360255,
          -0.40022801123723645,
          -0.4389390652102625,
          -0.4694039709635245,
          -0.514760862997314,
          -0.5822644594762113,
          -0.6604562524758156,
          -0.7224944173074367,
          -0.7345208994798779,
          -0.666402266810996,
          -0.5014608780817046,
          -0.24219355260455,
          0.08957038110736355,
          0.4576313674725244,
          0.819347447311717,
          1.1336831184581326,
          1.367111626944186,
          1.4965768426718589,
          1.51023518806467,
          1.407452967688865,
          1.1992129271468375,
          0.9090182267037537,
          0.5732970652198095,
          0.23986640057946018,
          -0.036545604398661516,
          -0.20167987534180637,
          -0.21088320047960593,
          -0.03811134342546543,
          0.3172678652184762
         ]
        },
        {
         "mode": "markers",
         "type": "scatter",
         "x": [
          0,
          5,
          25,
          40
         ],
         "y": [
          0.5,
          1,
          -1,
          1.5
         ]
        }
       ],
       "layout": {
        "template": {
         "data": {
          "bar": [
           {
            "error_x": {
             "color": "#2a3f5f"
            },
            "error_y": {
             "color": "#2a3f5f"
            },
            "marker": {
             "line": {
              "color": "#E5ECF6",
              "width": 0.5
             },
             "pattern": {
              "fillmode": "overlay",
              "size": 10,
              "solidity": 0.2
             }
            },
            "type": "bar"
           }
          ],
          "barpolar": [
           {
            "marker": {
             "line": {
              "color": "#E5ECF6",
              "width": 0.5
             },
             "pattern": {
              "fillmode": "overlay",
              "size": 10,
              "solidity": 0.2
             }
            },
            "type": "barpolar"
           }
          ],
          "carpet": [
           {
            "aaxis": {
             "endlinecolor": "#2a3f5f",
             "gridcolor": "white",
             "linecolor": "white",
             "minorgridcolor": "white",
             "startlinecolor": "#2a3f5f"
            },
            "baxis": {
             "endlinecolor": "#2a3f5f",
             "gridcolor": "white",
             "linecolor": "white",
             "minorgridcolor": "white",
             "startlinecolor": "#2a3f5f"
            },
            "type": "carpet"
           }
          ],
          "choropleth": [
           {
            "colorbar": {
             "outlinewidth": 0,
             "ticks": ""
            },
            "type": "choropleth"
           }
          ],
          "contour": [
           {
            "colorbar": {
             "outlinewidth": 0,
             "ticks": ""
            },
            "colorscale": [
             [
              0,
              "#0d0887"
             ],
             [
              0.1111111111111111,
              "#46039f"
             ],
             [
              0.2222222222222222,
              "#7201a8"
             ],
             [
              0.3333333333333333,
              "#9c179e"
             ],
             [
              0.4444444444444444,
              "#bd3786"
             ],
             [
              0.5555555555555556,
              "#d8576b"
             ],
             [
              0.6666666666666666,
              "#ed7953"
             ],
             [
              0.7777777777777778,
              "#fb9f3a"
             ],
             [
              0.8888888888888888,
              "#fdca26"
             ],
             [
              1,
              "#f0f921"
             ]
            ],
            "type": "contour"
           }
          ],
          "contourcarpet": [
           {
            "colorbar": {
             "outlinewidth": 0,
             "ticks": ""
            },
            "type": "contourcarpet"
           }
          ],
          "heatmap": [
           {
            "colorbar": {
             "outlinewidth": 0,
             "ticks": ""
            },
            "colorscale": [
             [
              0,
              "#0d0887"
             ],
             [
              0.1111111111111111,
              "#46039f"
             ],
             [
              0.2222222222222222,
              "#7201a8"
             ],
             [
              0.3333333333333333,
              "#9c179e"
             ],
             [
              0.4444444444444444,
              "#bd3786"
             ],
             [
              0.5555555555555556,
              "#d8576b"
             ],
             [
              0.6666666666666666,
              "#ed7953"
             ],
             [
              0.7777777777777778,
              "#fb9f3a"
             ],
             [
              0.8888888888888888,
              "#fdca26"
             ],
             [
              1,
              "#f0f921"
             ]
            ],
            "type": "heatmap"
           }
          ],
          "heatmapgl": [
           {
            "colorbar": {
             "outlinewidth": 0,
             "ticks": ""
            },
            "colorscale": [
             [
              0,
              "#0d0887"
             ],
             [
              0.1111111111111111,
              "#46039f"
             ],
             [
              0.2222222222222222,
              "#7201a8"
             ],
             [
              0.3333333333333333,
              "#9c179e"
             ],
             [
              0.4444444444444444,
              "#bd3786"
             ],
             [
              0.5555555555555556,
              "#d8576b"
             ],
             [
              0.6666666666666666,
              "#ed7953"
             ],
             [
              0.7777777777777778,
              "#fb9f3a"
             ],
             [
              0.8888888888888888,
              "#fdca26"
             ],
             [
              1,
              "#f0f921"
             ]
            ],
            "type": "heatmapgl"
           }
          ],
          "histogram": [
           {
            "marker": {
             "pattern": {
              "fillmode": "overlay",
              "size": 10,
              "solidity": 0.2
             }
            },
            "type": "histogram"
           }
          ],
          "histogram2d": [
           {
            "colorbar": {
             "outlinewidth": 0,
             "ticks": ""
            },
            "colorscale": [
             [
              0,
              "#0d0887"
             ],
             [
              0.1111111111111111,
              "#46039f"
             ],
             [
              0.2222222222222222,
              "#7201a8"
             ],
             [
              0.3333333333333333,
              "#9c179e"
             ],
             [
              0.4444444444444444,
              "#bd3786"
             ],
             [
              0.5555555555555556,
              "#d8576b"
             ],
             [
              0.6666666666666666,
              "#ed7953"
             ],
             [
              0.7777777777777778,
              "#fb9f3a"
             ],
             [
              0.8888888888888888,
              "#fdca26"
             ],
             [
              1,
              "#f0f921"
             ]
            ],
            "type": "histogram2d"
           }
          ],
          "histogram2dcontour": [
           {
            "colorbar": {
             "outlinewidth": 0,
             "ticks": ""
            },
            "colorscale": [
             [
              0,
              "#0d0887"
             ],
             [
              0.1111111111111111,
              "#46039f"
             ],
             [
              0.2222222222222222,
              "#7201a8"
             ],
             [
              0.3333333333333333,
              "#9c179e"
             ],
             [
              0.4444444444444444,
              "#bd3786"
             ],
             [
              0.5555555555555556,
              "#d8576b"
             ],
             [
              0.6666666666666666,
              "#ed7953"
             ],
             [
              0.7777777777777778,
              "#fb9f3a"
             ],
             [
              0.8888888888888888,
              "#fdca26"
             ],
             [
              1,
              "#f0f921"
             ]
            ],
            "type": "histogram2dcontour"
           }
          ],
          "mesh3d": [
           {
            "colorbar": {
             "outlinewidth": 0,
             "ticks": ""
            },
            "type": "mesh3d"
           }
          ],
          "parcoords": [
           {
            "line": {
             "colorbar": {
              "outlinewidth": 0,
              "ticks": ""
             }
            },
            "type": "parcoords"
           }
          ],
          "pie": [
           {
            "automargin": true,
            "type": "pie"
           }
          ],
          "scatter": [
           {
            "fillpattern": {
             "fillmode": "overlay",
             "size": 10,
             "solidity": 0.2
            },
            "type": "scatter"
           }
          ],
          "scatter3d": [
           {
            "line": {
             "colorbar": {
              "outlinewidth": 0,
              "ticks": ""
             }
            },
            "marker": {
             "colorbar": {
              "outlinewidth": 0,
              "ticks": ""
             }
            },
            "type": "scatter3d"
           }
          ],
          "scattercarpet": [
           {
            "marker": {
             "colorbar": {
              "outlinewidth": 0,
              "ticks": ""
             }
            },
            "type": "scattercarpet"
           }
          ],
          "scattergeo": [
           {
            "marker": {
             "colorbar": {
              "outlinewidth": 0,
              "ticks": ""
             }
            },
            "type": "scattergeo"
           }
          ],
          "scattergl": [
           {
            "marker": {
             "colorbar": {
              "outlinewidth": 0,
              "ticks": ""
             }
            },
            "type": "scattergl"
           }
          ],
          "scattermapbox": [
           {
            "marker": {
             "colorbar": {
              "outlinewidth": 0,
              "ticks": ""
             }
            },
            "type": "scattermapbox"
           }
          ],
          "scatterpolar": [
           {
            "marker": {
             "colorbar": {
              "outlinewidth": 0,
              "ticks": ""
             }
            },
            "type": "scatterpolar"
           }
          ],
          "scatterpolargl": [
           {
            "marker": {
             "colorbar": {
              "outlinewidth": 0,
              "ticks": ""
             }
            },
            "type": "scatterpolargl"
           }
          ],
          "scatterternary": [
           {
            "marker": {
             "colorbar": {
              "outlinewidth": 0,
              "ticks": ""
             }
            },
            "type": "scatterternary"
           }
          ],
          "surface": [
           {
            "colorbar": {
             "outlinewidth": 0,
             "ticks": ""
            },
            "colorscale": [
             [
              0,
              "#0d0887"
             ],
             [
              0.1111111111111111,
              "#46039f"
             ],
             [
              0.2222222222222222,
              "#7201a8"
             ],
             [
              0.3333333333333333,
              "#9c179e"
             ],
             [
              0.4444444444444444,
              "#bd3786"
             ],
             [
              0.5555555555555556,
              "#d8576b"
             ],
             [
              0.6666666666666666,
              "#ed7953"
             ],
             [
              0.7777777777777778,
              "#fb9f3a"
             ],
             [
              0.8888888888888888,
              "#fdca26"
             ],
             [
              1,
              "#f0f921"
             ]
            ],
            "type": "surface"
           }
          ],
          "table": [
           {
            "cells": {
             "fill": {
              "color": "#EBF0F8"
             },
             "line": {
              "color": "white"
             }
            },
            "header": {
             "fill": {
              "color": "#C8D4E3"
             },
             "line": {
              "color": "white"
             }
            },
            "type": "table"
           }
          ]
         },
         "layout": {
          "annotationdefaults": {
           "arrowcolor": "#2a3f5f",
           "arrowhead": 0,
           "arrowwidth": 1
          },
          "autotypenumbers": "strict",
          "coloraxis": {
           "colorbar": {
            "outlinewidth": 0,
            "ticks": ""
           }
          },
          "colorscale": {
           "diverging": [
            [
             0,
             "#8e0152"
            ],
            [
             0.1,
             "#c51b7d"
            ],
            [
             0.2,
             "#de77ae"
            ],
            [
             0.3,
             "#f1b6da"
            ],
            [
             0.4,
             "#fde0ef"
            ],
            [
             0.5,
             "#f7f7f7"
            ],
            [
             0.6,
             "#e6f5d0"
            ],
            [
             0.7,
             "#b8e186"
            ],
            [
             0.8,
             "#7fbc41"
            ],
            [
             0.9,
             "#4d9221"
            ],
            [
             1,
             "#276419"
            ]
           ],
           "sequential": [
            [
             0,
             "#0d0887"
            ],
            [
             0.1111111111111111,
             "#46039f"
            ],
            [
             0.2222222222222222,
             "#7201a8"
            ],
            [
             0.3333333333333333,
             "#9c179e"
            ],
            [
             0.4444444444444444,
             "#bd3786"
            ],
            [
             0.5555555555555556,
             "#d8576b"
            ],
            [
             0.6666666666666666,
             "#ed7953"
            ],
            [
             0.7777777777777778,
             "#fb9f3a"
            ],
            [
             0.8888888888888888,
             "#fdca26"
            ],
            [
             1,
             "#f0f921"
            ]
           ],
           "sequentialminus": [
            [
             0,
             "#0d0887"
            ],
            [
             0.1111111111111111,
             "#46039f"
            ],
            [
             0.2222222222222222,
             "#7201a8"
            ],
            [
             0.3333333333333333,
             "#9c179e"
            ],
            [
             0.4444444444444444,
             "#bd3786"
            ],
            [
             0.5555555555555556,
             "#d8576b"
            ],
            [
             0.6666666666666666,
             "#ed7953"
            ],
            [
             0.7777777777777778,
             "#fb9f3a"
            ],
            [
             0.8888888888888888,
             "#fdca26"
            ],
            [
             1,
             "#f0f921"
            ]
           ]
          },
          "colorway": [
           "#636efa",
           "#EF553B",
           "#00cc96",
           "#ab63fa",
           "#FFA15A",
           "#19d3f3",
           "#FF6692",
           "#B6E880",
           "#FF97FF",
           "#FECB52"
          ],
          "font": {
           "color": "#2a3f5f"
          },
          "geo": {
           "bgcolor": "white",
           "lakecolor": "white",
           "landcolor": "#E5ECF6",
           "showlakes": true,
           "showland": true,
           "subunitcolor": "white"
          },
          "hoverlabel": {
           "align": "left"
          },
          "hovermode": "closest",
          "mapbox": {
           "style": "light"
          },
          "paper_bgcolor": "white",
          "plot_bgcolor": "#E5ECF6",
          "polar": {
           "angularaxis": {
            "gridcolor": "white",
            "linecolor": "white",
            "ticks": ""
           },
           "bgcolor": "#E5ECF6",
           "radialaxis": {
            "gridcolor": "white",
            "linecolor": "white",
            "ticks": ""
           }
          },
          "scene": {
           "xaxis": {
            "backgroundcolor": "#E5ECF6",
            "gridcolor": "white",
            "gridwidth": 2,
            "linecolor": "white",
            "showbackground": true,
            "ticks": "",
            "zerolinecolor": "white"
           },
           "yaxis": {
            "backgroundcolor": "#E5ECF6",
            "gridcolor": "white",
            "gridwidth": 2,
            "linecolor": "white",
            "showbackground": true,
            "ticks": "",
            "zerolinecolor": "white"
           },
           "zaxis": {
            "backgroundcolor": "#E5ECF6",
            "gridcolor": "white",
            "gridwidth": 2,
            "linecolor": "white",
            "showbackground": true,
            "ticks": "",
            "zerolinecolor": "white"
           }
          },
          "shapedefaults": {
           "line": {
            "color": "#2a3f5f"
           }
          },
          "ternary": {
           "aaxis": {
            "gridcolor": "white",
            "linecolor": "white",
            "ticks": ""
           },
           "baxis": {
            "gridcolor": "white",
            "linecolor": "white",
            "ticks": ""
           },
           "bgcolor": "#E5ECF6",
           "caxis": {
            "gridcolor": "white",
            "linecolor": "white",
            "ticks": ""
           }
          },
          "title": {
           "x": 0.05
          },
          "xaxis": {
           "automargin": true,
           "gridcolor": "white",
           "linecolor": "white",
           "ticks": "",
           "title": {
            "standoff": 15
           },
           "zerolinecolor": "white",
           "zerolinewidth": 2
          },
          "yaxis": {
           "automargin": true,
           "gridcolor": "white",
           "linecolor": "white",
           "ticks": "",
           "title": {
            "standoff": 15
           },
           "zerolinecolor": "white",
           "zerolinewidth": 2
          }
         }
        },
        "title": {
         "text": "Smooth function as a random sample conditioned on known points"
        }
       }
      },
      "text/html": [
       "<div>                            <div id=\"a6f8bdb0-2489-4b2e-b670-10ca044fe441\" class=\"plotly-graph-div\" style=\"height:525px; width:100%;\"></div>            <script type=\"text/javascript\">                require([\"plotly\"], function(Plotly) {                    window.PLOTLYENV=window.PLOTLYENV || {};                                    if (document.getElementById(\"a6f8bdb0-2489-4b2e-b670-10ca044fe441\")) {                    Plotly.newPlot(                        \"a6f8bdb0-2489-4b2e-b670-10ca044fe441\",                        [{\"x\":[0,1,2,3,4,5,6,7,8,9,10,11,12,13,14,15,16,17,18,19,20,21,22,23,24,25,26,27,28,29,30,31,32,33,34,35,36,37,38,39,40,41,42,43,44,45,46,47,48,49],\"y\":[0.7890229425000147,0.7171561216162485,0.6660532688459874,0.6280155705559075,0.5966564128494144,0.5725691048150173,0.5659477866119587,0.593950232267539,0.6729795276487271,0.8087849163458293,0.988858010300723,1.1810855843979355,1.3401670730614355,1.420026576452084,1.3878846574442747,1.2348792351933706,0.979413248745569,0.6621017054735806,0.33416741811355666,0.043248336921363595,-0.17880426079698536,-0.32252351641360255,-0.40022801123723645,-0.4389390652102625,-0.4694039709635245,-0.514760862997314,-0.5822644594762113,-0.6604562524758156,-0.7224944173074367,-0.7345208994798779,-0.666402266810996,-0.5014608780817046,-0.24219355260455,0.08957038110736355,0.4576313674725244,0.819347447311717,1.1336831184581326,1.367111626944186,1.4965768426718589,1.51023518806467,1.407452967688865,1.1992129271468375,0.9090182267037537,0.5732970652198095,0.23986640057946018,-0.036545604398661516,-0.20167987534180637,-0.21088320047960593,-0.03811134342546543,0.3172678652184762],\"type\":\"scatter\"},{\"mode\":\"markers\",\"x\":[0,5,25,40],\"y\":[0.5,1,-1,1.5],\"type\":\"scatter\"}],                        {\"template\":{\"data\":{\"histogram2dcontour\":[{\"type\":\"histogram2dcontour\",\"colorbar\":{\"outlinewidth\":0,\"ticks\":\"\"},\"colorscale\":[[0.0,\"#0d0887\"],[0.1111111111111111,\"#46039f\"],[0.2222222222222222,\"#7201a8\"],[0.3333333333333333,\"#9c179e\"],[0.4444444444444444,\"#bd3786\"],[0.5555555555555556,\"#d8576b\"],[0.6666666666666666,\"#ed7953\"],[0.7777777777777778,\"#fb9f3a\"],[0.8888888888888888,\"#fdca26\"],[1.0,\"#f0f921\"]]}],\"choropleth\":[{\"type\":\"choropleth\",\"colorbar\":{\"outlinewidth\":0,\"ticks\":\"\"}}],\"histogram2d\":[{\"type\":\"histogram2d\",\"colorbar\":{\"outlinewidth\":0,\"ticks\":\"\"},\"colorscale\":[[0.0,\"#0d0887\"],[0.1111111111111111,\"#46039f\"],[0.2222222222222222,\"#7201a8\"],[0.3333333333333333,\"#9c179e\"],[0.4444444444444444,\"#bd3786\"],[0.5555555555555556,\"#d8576b\"],[0.6666666666666666,\"#ed7953\"],[0.7777777777777778,\"#fb9f3a\"],[0.8888888888888888,\"#fdca26\"],[1.0,\"#f0f921\"]]}],\"heatmap\":[{\"type\":\"heatmap\",\"colorbar\":{\"outlinewidth\":0,\"ticks\":\"\"},\"colorscale\":[[0.0,\"#0d0887\"],[0.1111111111111111,\"#46039f\"],[0.2222222222222222,\"#7201a8\"],[0.3333333333333333,\"#9c179e\"],[0.4444444444444444,\"#bd3786\"],[0.5555555555555556,\"#d8576b\"],[0.6666666666666666,\"#ed7953\"],[0.7777777777777778,\"#fb9f3a\"],[0.8888888888888888,\"#fdca26\"],[1.0,\"#f0f921\"]]}],\"heatmapgl\":[{\"type\":\"heatmapgl\",\"colorbar\":{\"outlinewidth\":0,\"ticks\":\"\"},\"colorscale\":[[0.0,\"#0d0887\"],[0.1111111111111111,\"#46039f\"],[0.2222222222222222,\"#7201a8\"],[0.3333333333333333,\"#9c179e\"],[0.4444444444444444,\"#bd3786\"],[0.5555555555555556,\"#d8576b\"],[0.6666666666666666,\"#ed7953\"],[0.7777777777777778,\"#fb9f3a\"],[0.8888888888888888,\"#fdca26\"],[1.0,\"#f0f921\"]]}],\"contourcarpet\":[{\"type\":\"contourcarpet\",\"colorbar\":{\"outlinewidth\":0,\"ticks\":\"\"}}],\"contour\":[{\"type\":\"contour\",\"colorbar\":{\"outlinewidth\":0,\"ticks\":\"\"},\"colorscale\":[[0.0,\"#0d0887\"],[0.1111111111111111,\"#46039f\"],[0.2222222222222222,\"#7201a8\"],[0.3333333333333333,\"#9c179e\"],[0.4444444444444444,\"#bd3786\"],[0.5555555555555556,\"#d8576b\"],[0.6666666666666666,\"#ed7953\"],[0.7777777777777778,\"#fb9f3a\"],[0.8888888888888888,\"#fdca26\"],[1.0,\"#f0f921\"]]}],\"surface\":[{\"type\":\"surface\",\"colorbar\":{\"outlinewidth\":0,\"ticks\":\"\"},\"colorscale\":[[0.0,\"#0d0887\"],[0.1111111111111111,\"#46039f\"],[0.2222222222222222,\"#7201a8\"],[0.3333333333333333,\"#9c179e\"],[0.4444444444444444,\"#bd3786\"],[0.5555555555555556,\"#d8576b\"],[0.6666666666666666,\"#ed7953\"],[0.7777777777777778,\"#fb9f3a\"],[0.8888888888888888,\"#fdca26\"],[1.0,\"#f0f921\"]]}],\"mesh3d\":[{\"type\":\"mesh3d\",\"colorbar\":{\"outlinewidth\":0,\"ticks\":\"\"}}],\"scatter\":[{\"fillpattern\":{\"fillmode\":\"overlay\",\"size\":10,\"solidity\":0.2},\"type\":\"scatter\"}],\"parcoords\":[{\"type\":\"parcoords\",\"line\":{\"colorbar\":{\"outlinewidth\":0,\"ticks\":\"\"}}}],\"scatterpolargl\":[{\"type\":\"scatterpolargl\",\"marker\":{\"colorbar\":{\"outlinewidth\":0,\"ticks\":\"\"}}}],\"bar\":[{\"error_x\":{\"color\":\"#2a3f5f\"},\"error_y\":{\"color\":\"#2a3f5f\"},\"marker\":{\"line\":{\"color\":\"#E5ECF6\",\"width\":0.5},\"pattern\":{\"fillmode\":\"overlay\",\"size\":10,\"solidity\":0.2}},\"type\":\"bar\"}],\"scattergeo\":[{\"type\":\"scattergeo\",\"marker\":{\"colorbar\":{\"outlinewidth\":0,\"ticks\":\"\"}}}],\"scatterpolar\":[{\"type\":\"scatterpolar\",\"marker\":{\"colorbar\":{\"outlinewidth\":0,\"ticks\":\"\"}}}],\"histogram\":[{\"marker\":{\"pattern\":{\"fillmode\":\"overlay\",\"size\":10,\"solidity\":0.2}},\"type\":\"histogram\"}],\"scattergl\":[{\"type\":\"scattergl\",\"marker\":{\"colorbar\":{\"outlinewidth\":0,\"ticks\":\"\"}}}],\"scatter3d\":[{\"type\":\"scatter3d\",\"line\":{\"colorbar\":{\"outlinewidth\":0,\"ticks\":\"\"}},\"marker\":{\"colorbar\":{\"outlinewidth\":0,\"ticks\":\"\"}}}],\"scattermapbox\":[{\"type\":\"scattermapbox\",\"marker\":{\"colorbar\":{\"outlinewidth\":0,\"ticks\":\"\"}}}],\"scatterternary\":[{\"type\":\"scatterternary\",\"marker\":{\"colorbar\":{\"outlinewidth\":0,\"ticks\":\"\"}}}],\"scattercarpet\":[{\"type\":\"scattercarpet\",\"marker\":{\"colorbar\":{\"outlinewidth\":0,\"ticks\":\"\"}}}],\"carpet\":[{\"aaxis\":{\"endlinecolor\":\"#2a3f5f\",\"gridcolor\":\"white\",\"linecolor\":\"white\",\"minorgridcolor\":\"white\",\"startlinecolor\":\"#2a3f5f\"},\"baxis\":{\"endlinecolor\":\"#2a3f5f\",\"gridcolor\":\"white\",\"linecolor\":\"white\",\"minorgridcolor\":\"white\",\"startlinecolor\":\"#2a3f5f\"},\"type\":\"carpet\"}],\"table\":[{\"cells\":{\"fill\":{\"color\":\"#EBF0F8\"},\"line\":{\"color\":\"white\"}},\"header\":{\"fill\":{\"color\":\"#C8D4E3\"},\"line\":{\"color\":\"white\"}},\"type\":\"table\"}],\"barpolar\":[{\"marker\":{\"line\":{\"color\":\"#E5ECF6\",\"width\":0.5},\"pattern\":{\"fillmode\":\"overlay\",\"size\":10,\"solidity\":0.2}},\"type\":\"barpolar\"}],\"pie\":[{\"automargin\":true,\"type\":\"pie\"}]},\"layout\":{\"autotypenumbers\":\"strict\",\"colorway\":[\"#636efa\",\"#EF553B\",\"#00cc96\",\"#ab63fa\",\"#FFA15A\",\"#19d3f3\",\"#FF6692\",\"#B6E880\",\"#FF97FF\",\"#FECB52\"],\"font\":{\"color\":\"#2a3f5f\"},\"hovermode\":\"closest\",\"hoverlabel\":{\"align\":\"left\"},\"paper_bgcolor\":\"white\",\"plot_bgcolor\":\"#E5ECF6\",\"polar\":{\"bgcolor\":\"#E5ECF6\",\"angularaxis\":{\"gridcolor\":\"white\",\"linecolor\":\"white\",\"ticks\":\"\"},\"radialaxis\":{\"gridcolor\":\"white\",\"linecolor\":\"white\",\"ticks\":\"\"}},\"ternary\":{\"bgcolor\":\"#E5ECF6\",\"aaxis\":{\"gridcolor\":\"white\",\"linecolor\":\"white\",\"ticks\":\"\"},\"baxis\":{\"gridcolor\":\"white\",\"linecolor\":\"white\",\"ticks\":\"\"},\"caxis\":{\"gridcolor\":\"white\",\"linecolor\":\"white\",\"ticks\":\"\"}},\"coloraxis\":{\"colorbar\":{\"outlinewidth\":0,\"ticks\":\"\"}},\"colorscale\":{\"sequential\":[[0.0,\"#0d0887\"],[0.1111111111111111,\"#46039f\"],[0.2222222222222222,\"#7201a8\"],[0.3333333333333333,\"#9c179e\"],[0.4444444444444444,\"#bd3786\"],[0.5555555555555556,\"#d8576b\"],[0.6666666666666666,\"#ed7953\"],[0.7777777777777778,\"#fb9f3a\"],[0.8888888888888888,\"#fdca26\"],[1.0,\"#f0f921\"]],\"sequentialminus\":[[0.0,\"#0d0887\"],[0.1111111111111111,\"#46039f\"],[0.2222222222222222,\"#7201a8\"],[0.3333333333333333,\"#9c179e\"],[0.4444444444444444,\"#bd3786\"],[0.5555555555555556,\"#d8576b\"],[0.6666666666666666,\"#ed7953\"],[0.7777777777777778,\"#fb9f3a\"],[0.8888888888888888,\"#fdca26\"],[1.0,\"#f0f921\"]],\"diverging\":[[0,\"#8e0152\"],[0.1,\"#c51b7d\"],[0.2,\"#de77ae\"],[0.3,\"#f1b6da\"],[0.4,\"#fde0ef\"],[0.5,\"#f7f7f7\"],[0.6,\"#e6f5d0\"],[0.7,\"#b8e186\"],[0.8,\"#7fbc41\"],[0.9,\"#4d9221\"],[1,\"#276419\"]]},\"xaxis\":{\"gridcolor\":\"white\",\"linecolor\":\"white\",\"ticks\":\"\",\"title\":{\"standoff\":15},\"zerolinecolor\":\"white\",\"automargin\":true,\"zerolinewidth\":2},\"yaxis\":{\"gridcolor\":\"white\",\"linecolor\":\"white\",\"ticks\":\"\",\"title\":{\"standoff\":15},\"zerolinecolor\":\"white\",\"automargin\":true,\"zerolinewidth\":2},\"scene\":{\"xaxis\":{\"backgroundcolor\":\"#E5ECF6\",\"gridcolor\":\"white\",\"linecolor\":\"white\",\"showbackground\":true,\"ticks\":\"\",\"zerolinecolor\":\"white\",\"gridwidth\":2},\"yaxis\":{\"backgroundcolor\":\"#E5ECF6\",\"gridcolor\":\"white\",\"linecolor\":\"white\",\"showbackground\":true,\"ticks\":\"\",\"zerolinecolor\":\"white\",\"gridwidth\":2},\"zaxis\":{\"backgroundcolor\":\"#E5ECF6\",\"gridcolor\":\"white\",\"linecolor\":\"white\",\"showbackground\":true,\"ticks\":\"\",\"zerolinecolor\":\"white\",\"gridwidth\":2}},\"shapedefaults\":{\"line\":{\"color\":\"#2a3f5f\"}},\"annotationdefaults\":{\"arrowcolor\":\"#2a3f5f\",\"arrowhead\":0,\"arrowwidth\":1},\"geo\":{\"bgcolor\":\"white\",\"landcolor\":\"#E5ECF6\",\"subunitcolor\":\"white\",\"showland\":true,\"showlakes\":true,\"lakecolor\":\"white\"},\"title\":{\"x\":0.05},\"mapbox\":{\"style\":\"light\"}}},\"title\":{\"text\":\"Smooth function as a random sample conditioned on known points\"}},                        {\"responsive\": true}                    ).then(function(){\n",
       "                            \n",
       "var gd = document.getElementById('a6f8bdb0-2489-4b2e-b670-10ca044fe441');\n",
       "var x = new MutationObserver(function (mutations, observer) {{\n",
       "        var display = window.getComputedStyle(gd).display;\n",
       "        if (!display || display === 'none') {{\n",
       "            console.log([gd, 'removed!']);\n",
       "            Plotly.purge(gd);\n",
       "            observer.disconnect();\n",
       "        }}\n",
       "}});\n",
       "\n",
       "// Listen for the removal of the full notebook cells\n",
       "var notebookContainer = gd.closest('#notebook-container');\n",
       "if (notebookContainer) {{\n",
       "    x.observe(notebookContainer, {childList: true});\n",
       "}}\n",
       "\n",
       "// Listen for the clearing of the current output cell\n",
       "var outputEl = gd.closest('.output');\n",
       "if (outputEl) {{\n",
       "    x.observe(outputEl, {childList: true});\n",
       "}}\n",
       "\n",
       "                        })                };                });            </script>        </div>"
      ]
     },
     "metadata": {},
     "output_type": "display_data"
    },
    {
     "data": {
      "application/javascript": [
       "\n",
       "            setTimeout(function() {\n",
       "                var nbb_cell_id = 757;\n",
       "                var nbb_unformatted_code = \"plot_random_smooth_func_conditioned({0: 0.5, 5: 1, 25: -1, 40: 1.5}, tol=0.5)\";\n",
       "                var nbb_formatted_code = \"plot_random_smooth_func_conditioned({0: 0.5, 5: 1, 25: -1, 40: 1.5}, tol=0.5)\";\n",
       "                var nbb_cells = Jupyter.notebook.get_cells();\n",
       "                for (var i = 0; i < nbb_cells.length; ++i) {\n",
       "                    if (nbb_cells[i].input_prompt_number == nbb_cell_id) {\n",
       "                        if (nbb_cells[i].get_text() == nbb_unformatted_code) {\n",
       "                             nbb_cells[i].set_text(nbb_formatted_code);\n",
       "                        }\n",
       "                        break;\n",
       "                    }\n",
       "                }\n",
       "            }, 500);\n",
       "            "
      ],
      "text/plain": [
       "<IPython.core.display.Javascript object>"
      ]
     },
     "metadata": {},
     "output_type": "display_data"
    }
   ],
   "source": [
    "plot_random_smooth_func_conditioned({0: 0.5, 5: 1, 25: -1, 40: 1.5}, tol=0.5)"
   ]
  },
  {
   "cell_type": "markdown",
   "id": "96838d4c",
   "metadata": {
    "heading_collapsed": true
   },
   "source": [
    "# (Theoretical) Smooth functions random samples but conditioned"
   ]
  },
  {
   "cell_type": "code",
   "execution_count": 910,
   "id": "745a142c",
   "metadata": {
    "hidden": true
   },
   "outputs": [
    {
     "data": {
      "application/javascript": [
       "\n",
       "            setTimeout(function() {\n",
       "                var nbb_cell_id = 910;\n",
       "                var nbb_unformatted_code = \"def plot_random_smooth_func_conditioned_theoretical(known_dict, nd=50, n_output=1):\\n    fig = go.Figure()\\n\\n    known_dimensions = list(known_dict.keys())\\n    unknown_dimensions = [x for x in range(nd) if x not in known_dimensions]\\n    known_values = [known_dict[dim] for dim in known_dimensions]\\n\\n    assert len(known_dimensions) > 0\\n\\n    cov_matrix = get_nd_smooth_cov(nd)\\n\\n    # Need to find cov matrix for the conditional distribution\\n    # For this: we will apply the analytical formula\\n    #           So we need to first separate out the cov_matrix as A, B and C\\n    #           Refer RW.pdf conditional distribution (or see in the notebook above)\\n    #           to know what A, B and C are\\n\\n    A = cov_matrix[unknown_dimensions, :][:, unknown_dimensions]\\n    B = cov_matrix[known_dimensions, :][:, known_dimensions]\\n    C = cov_matrix[unknown_dimensions, :][:, known_dimensions]\\n\\n    #\\n    # Find conditional distribution parameters\\n    #\\n    new_mean = (\\n        np.array([0] * len(unknown_dimensions)).reshape(-1, 1)\\n        + C.dot(np.linalg.inv(B)).dot(np.array(known_values).reshape(-1, 1))\\n    )[:, 0]\\n\\n    new_cov = A - C.dot(np.linalg.inv(B)).dot(np.transpose(C))\\n\\n    for _ in range(n_output):\\n        unknown_values = np.random.multivariate_normal(new_mean, new_cov)\\n        unknown_dict = dict(zip(unknown_dimensions, unknown_values))\\n\\n        merged_values = [\\n            known_dict[d] if d in known_dimensions else unknown_dict[d]\\n            for d in range(nd)\\n        ]\\n\\n        fig.add_trace(go.Scatter(x=list(range(nd)), y=merged_values))\\n    fig.add_trace(\\n        go.Scatter(x=known_dimensions, y=known_values, mode=\\\"markers\\\", marker={\\\"color\\\": \\\"red\\\"})\\n    )\\n    fig.update_layout(\\n        title=\\\"Smooth function as a random sample conditioned on known points\\\"\\n    )\\n    fig.show()\";\n",
       "                var nbb_formatted_code = \"def plot_random_smooth_func_conditioned_theoretical(known_dict, nd=50, n_output=1):\\n    fig = go.Figure()\\n\\n    known_dimensions = list(known_dict.keys())\\n    unknown_dimensions = [x for x in range(nd) if x not in known_dimensions]\\n    known_values = [known_dict[dim] for dim in known_dimensions]\\n\\n    assert len(known_dimensions) > 0\\n\\n    cov_matrix = get_nd_smooth_cov(nd)\\n\\n    # Need to find cov matrix for the conditional distribution\\n    # For this: we will apply the analytical formula\\n    #           So we need to first separate out the cov_matrix as A, B and C\\n    #           Refer RW.pdf conditional distribution (or see in the notebook above)\\n    #           to know what A, B and C are\\n\\n    A = cov_matrix[unknown_dimensions, :][:, unknown_dimensions]\\n    B = cov_matrix[known_dimensions, :][:, known_dimensions]\\n    C = cov_matrix[unknown_dimensions, :][:, known_dimensions]\\n\\n    #\\n    # Find conditional distribution parameters\\n    #\\n    new_mean = (\\n        np.array([0] * len(unknown_dimensions)).reshape(-1, 1)\\n        + C.dot(np.linalg.inv(B)).dot(np.array(known_values).reshape(-1, 1))\\n    )[:, 0]\\n\\n    new_cov = A - C.dot(np.linalg.inv(B)).dot(np.transpose(C))\\n\\n    for _ in range(n_output):\\n        unknown_values = np.random.multivariate_normal(new_mean, new_cov)\\n        unknown_dict = dict(zip(unknown_dimensions, unknown_values))\\n\\n        merged_values = [\\n            known_dict[d] if d in known_dimensions else unknown_dict[d]\\n            for d in range(nd)\\n        ]\\n\\n        fig.add_trace(go.Scatter(x=list(range(nd)), y=merged_values))\\n    fig.add_trace(\\n        go.Scatter(\\n            x=known_dimensions, y=known_values, mode=\\\"markers\\\", marker={\\\"color\\\": \\\"red\\\"}\\n        )\\n    )\\n    fig.update_layout(\\n        title=\\\"Smooth function as a random sample conditioned on known points\\\"\\n    )\\n    fig.show()\";\n",
       "                var nbb_cells = Jupyter.notebook.get_cells();\n",
       "                for (var i = 0; i < nbb_cells.length; ++i) {\n",
       "                    if (nbb_cells[i].input_prompt_number == nbb_cell_id) {\n",
       "                        if (nbb_cells[i].get_text() == nbb_unformatted_code) {\n",
       "                             nbb_cells[i].set_text(nbb_formatted_code);\n",
       "                        }\n",
       "                        break;\n",
       "                    }\n",
       "                }\n",
       "            }, 500);\n",
       "            "
      ],
      "text/plain": [
       "<IPython.core.display.Javascript object>"
      ]
     },
     "metadata": {},
     "output_type": "display_data"
    }
   ],
   "source": [
    "def plot_random_smooth_func_conditioned_theoretical(known_dict, nd=50, n_output=1):\n",
    "    fig = go.Figure()\n",
    "\n",
    "    known_dimensions = list(known_dict.keys())\n",
    "    unknown_dimensions = [x for x in range(nd) if x not in known_dimensions]\n",
    "    known_values = [known_dict[dim] for dim in known_dimensions]\n",
    "\n",
    "    assert len(known_dimensions) > 0\n",
    "\n",
    "    cov_matrix = get_nd_smooth_cov(nd)\n",
    "\n",
    "    # Need to find cov matrix for the conditional distribution\n",
    "    # For this: we will apply the analytical formula\n",
    "    #           So we need to first separate out the cov_matrix as A, B and C\n",
    "    #           Refer RW.pdf conditional distribution (or see in the notebook above)\n",
    "    #           to know what A, B and C are\n",
    "\n",
    "    A = cov_matrix[unknown_dimensions, :][:, unknown_dimensions]\n",
    "    B = cov_matrix[known_dimensions, :][:, known_dimensions]\n",
    "    C = cov_matrix[unknown_dimensions, :][:, known_dimensions]\n",
    "\n",
    "    #\n",
    "    # Find conditional distribution parameters\n",
    "    #\n",
    "    new_mean = (\n",
    "        np.array([0] * len(unknown_dimensions)).reshape(-1, 1)\n",
    "        + C.dot(np.linalg.inv(B)).dot(np.array(known_values).reshape(-1, 1))\n",
    "    )[:, 0]\n",
    "\n",
    "    new_cov = A - C.dot(np.linalg.inv(B)).dot(np.transpose(C))\n",
    "\n",
    "    for _ in range(n_output):\n",
    "        unknown_values = np.random.multivariate_normal(new_mean, new_cov)\n",
    "        unknown_dict = dict(zip(unknown_dimensions, unknown_values))\n",
    "\n",
    "        merged_values = [\n",
    "            known_dict[d] if d in known_dimensions else unknown_dict[d]\n",
    "            for d in range(nd)\n",
    "        ]\n",
    "\n",
    "        fig.add_trace(go.Scatter(x=list(range(nd)), y=merged_values))\n",
    "    fig.add_trace(\n",
    "        go.Scatter(\n",
    "            x=known_dimensions, y=known_values, mode=\"markers\", marker={\"color\": \"red\"}\n",
    "        )\n",
    "    )\n",
    "    fig.update_layout(\n",
    "        title=\"Smooth function as a random sample conditioned on known points\"\n",
    "    )\n",
    "    fig.show()"
   ]
  },
  {
   "cell_type": "code",
   "execution_count": 918,
   "id": "4524b9ec",
   "metadata": {
    "hidden": true,
    "scrolled": false
   },
   "outputs": [
    {
     "data": {
      "application/vnd.plotly.v1+json": {
       "config": {
        "plotlyServerURL": "https://plot.ly"
       },
       "data": [
        {
         "type": "scatter",
         "x": [
          0,
          1,
          2,
          3,
          4,
          5,
          6,
          7,
          8,
          9,
          10,
          11,
          12,
          13,
          14,
          15,
          16,
          17,
          18,
          19,
          20,
          21,
          22,
          23,
          24,
          25,
          26,
          27,
          28,
          29,
          30,
          31,
          32,
          33,
          34,
          35,
          36,
          37,
          38,
          39,
          40,
          41,
          42,
          43,
          44,
          45,
          46,
          47,
          48,
          49,
          50,
          51,
          52,
          53,
          54,
          55,
          56,
          57,
          58,
          59,
          60,
          61,
          62,
          63,
          64,
          65,
          66,
          67,
          68,
          69,
          70,
          71,
          72,
          73,
          74,
          75,
          76,
          77,
          78,
          79,
          80,
          81,
          82,
          83,
          84,
          85,
          86,
          87,
          88,
          89,
          90,
          91,
          92,
          93,
          94,
          95,
          96,
          97,
          98,
          99
         ],
         "y": [
          0.5,
          -0.8782183523850452,
          -1.9764691553638674,
          -2.6596057748721535,
          -2.85624667730173,
          -2.5742625551181026,
          -1.9028494353085357,
          -1,
          -0.06682346232079622,
          0.6872229154071372,
          1.0820103420108842,
          1,
          0.40810510659265775,
          -0.6367870442115068,
          -2,
          -3.496055381396475,
          -4.9238560963340445,
          -6.101689400522464,
          -6.894463203612389,
          -7.228643958647716,
          -7.094309107432306,
          -6.537029544083699,
          -5.64382086066455,
          -4.527099767013151,
          -3.309199836121854,
          -2.1085929541443136,
          -1.0282210150242552,
          -0.1462943830103135,
          0.4898388056474593,
          0.8660946664203519,
          1,
          0.9352277970527975,
          0.7331211615815248,
          0.46234503518159187,
          0.18797264591489937,
          -0.038582886640418756,
          -0.18724674079972492,
          -0.2530208181031861,
          -0.2545966482918026,
          -0.2275869005732416,
          -0.21352421433893043,
          -0.24718995574576486,
          -0.3456370486295546,
          -0.502004801416646,
          -0.685849007370841,
          -0.8497636754584427,
          -0.9402794780704455,
          -0.9100313558827863,
          -0.7282183312682842,
          -0.38718117464753954,
          0.0959122915720374,
          0.6821566830466128,
          1.3177434817249793,
          1.9428976962766606,
          2.5010079469445623,
          2.946207604004313,
          3.2482451083839874,
          3.3943028443354617,
          3.3881609278181863,
          3.2474864963746755,
          3,
          2.679010598546373,
          2.3186177464764564,
          1.948886796948111,
          1.5914856323340167,
          1.2564021071005176,
          0.9402979393558226,
          0.6267924899534337,
          0.28862965075176805,
          -0.1085687438432732,
          -0.6013533852093575,
          -1.2226890306715232,
          -1.9957809505093727,
          -2.927996355162052,
          -4.005635362802784,
          -5.19058862266786,
          -6.420071829107075,
          -7.610467219567223,
          -8.665696842620031,
          -9.4895274391781,
          -10,
          -10.143200249372077,
          -9.903275088715645,
          -9.306206703173626,
          -8.41629380478065,
          -7.32608081798673,
          -6.142006135599954,
          -4.968773771553585,
          -3.895287637909894,
          -2.984177018520838,
          -2.2659835441796186,
          -1.7383183855660789,
          -1.3698172862602667,
          -1.1082936255292282,
          -0.8919266467658633,
          -0.6616400750342498,
          -0.37228073749352164,
          -0.00023294474820262367,
          0.45414114290066243,
          0.9694671340566643
         ]
        },
        {
         "marker": {
          "color": "red"
         },
         "mode": "markers",
         "type": "scatter",
         "x": [
          0,
          7,
          11,
          14,
          30,
          80,
          60
         ],
         "y": [
          0.5,
          -1,
          1,
          -2,
          1,
          -10,
          3
         ]
        }
       ],
       "layout": {
        "template": {
         "data": {
          "bar": [
           {
            "error_x": {
             "color": "#2a3f5f"
            },
            "error_y": {
             "color": "#2a3f5f"
            },
            "marker": {
             "line": {
              "color": "#E5ECF6",
              "width": 0.5
             },
             "pattern": {
              "fillmode": "overlay",
              "size": 10,
              "solidity": 0.2
             }
            },
            "type": "bar"
           }
          ],
          "barpolar": [
           {
            "marker": {
             "line": {
              "color": "#E5ECF6",
              "width": 0.5
             },
             "pattern": {
              "fillmode": "overlay",
              "size": 10,
              "solidity": 0.2
             }
            },
            "type": "barpolar"
           }
          ],
          "carpet": [
           {
            "aaxis": {
             "endlinecolor": "#2a3f5f",
             "gridcolor": "white",
             "linecolor": "white",
             "minorgridcolor": "white",
             "startlinecolor": "#2a3f5f"
            },
            "baxis": {
             "endlinecolor": "#2a3f5f",
             "gridcolor": "white",
             "linecolor": "white",
             "minorgridcolor": "white",
             "startlinecolor": "#2a3f5f"
            },
            "type": "carpet"
           }
          ],
          "choropleth": [
           {
            "colorbar": {
             "outlinewidth": 0,
             "ticks": ""
            },
            "type": "choropleth"
           }
          ],
          "contour": [
           {
            "colorbar": {
             "outlinewidth": 0,
             "ticks": ""
            },
            "colorscale": [
             [
              0,
              "#0d0887"
             ],
             [
              0.1111111111111111,
              "#46039f"
             ],
             [
              0.2222222222222222,
              "#7201a8"
             ],
             [
              0.3333333333333333,
              "#9c179e"
             ],
             [
              0.4444444444444444,
              "#bd3786"
             ],
             [
              0.5555555555555556,
              "#d8576b"
             ],
             [
              0.6666666666666666,
              "#ed7953"
             ],
             [
              0.7777777777777778,
              "#fb9f3a"
             ],
             [
              0.8888888888888888,
              "#fdca26"
             ],
             [
              1,
              "#f0f921"
             ]
            ],
            "type": "contour"
           }
          ],
          "contourcarpet": [
           {
            "colorbar": {
             "outlinewidth": 0,
             "ticks": ""
            },
            "type": "contourcarpet"
           }
          ],
          "heatmap": [
           {
            "colorbar": {
             "outlinewidth": 0,
             "ticks": ""
            },
            "colorscale": [
             [
              0,
              "#0d0887"
             ],
             [
              0.1111111111111111,
              "#46039f"
             ],
             [
              0.2222222222222222,
              "#7201a8"
             ],
             [
              0.3333333333333333,
              "#9c179e"
             ],
             [
              0.4444444444444444,
              "#bd3786"
             ],
             [
              0.5555555555555556,
              "#d8576b"
             ],
             [
              0.6666666666666666,
              "#ed7953"
             ],
             [
              0.7777777777777778,
              "#fb9f3a"
             ],
             [
              0.8888888888888888,
              "#fdca26"
             ],
             [
              1,
              "#f0f921"
             ]
            ],
            "type": "heatmap"
           }
          ],
          "heatmapgl": [
           {
            "colorbar": {
             "outlinewidth": 0,
             "ticks": ""
            },
            "colorscale": [
             [
              0,
              "#0d0887"
             ],
             [
              0.1111111111111111,
              "#46039f"
             ],
             [
              0.2222222222222222,
              "#7201a8"
             ],
             [
              0.3333333333333333,
              "#9c179e"
             ],
             [
              0.4444444444444444,
              "#bd3786"
             ],
             [
              0.5555555555555556,
              "#d8576b"
             ],
             [
              0.6666666666666666,
              "#ed7953"
             ],
             [
              0.7777777777777778,
              "#fb9f3a"
             ],
             [
              0.8888888888888888,
              "#fdca26"
             ],
             [
              1,
              "#f0f921"
             ]
            ],
            "type": "heatmapgl"
           }
          ],
          "histogram": [
           {
            "marker": {
             "pattern": {
              "fillmode": "overlay",
              "size": 10,
              "solidity": 0.2
             }
            },
            "type": "histogram"
           }
          ],
          "histogram2d": [
           {
            "colorbar": {
             "outlinewidth": 0,
             "ticks": ""
            },
            "colorscale": [
             [
              0,
              "#0d0887"
             ],
             [
              0.1111111111111111,
              "#46039f"
             ],
             [
              0.2222222222222222,
              "#7201a8"
             ],
             [
              0.3333333333333333,
              "#9c179e"
             ],
             [
              0.4444444444444444,
              "#bd3786"
             ],
             [
              0.5555555555555556,
              "#d8576b"
             ],
             [
              0.6666666666666666,
              "#ed7953"
             ],
             [
              0.7777777777777778,
              "#fb9f3a"
             ],
             [
              0.8888888888888888,
              "#fdca26"
             ],
             [
              1,
              "#f0f921"
             ]
            ],
            "type": "histogram2d"
           }
          ],
          "histogram2dcontour": [
           {
            "colorbar": {
             "outlinewidth": 0,
             "ticks": ""
            },
            "colorscale": [
             [
              0,
              "#0d0887"
             ],
             [
              0.1111111111111111,
              "#46039f"
             ],
             [
              0.2222222222222222,
              "#7201a8"
             ],
             [
              0.3333333333333333,
              "#9c179e"
             ],
             [
              0.4444444444444444,
              "#bd3786"
             ],
             [
              0.5555555555555556,
              "#d8576b"
             ],
             [
              0.6666666666666666,
              "#ed7953"
             ],
             [
              0.7777777777777778,
              "#fb9f3a"
             ],
             [
              0.8888888888888888,
              "#fdca26"
             ],
             [
              1,
              "#f0f921"
             ]
            ],
            "type": "histogram2dcontour"
           }
          ],
          "mesh3d": [
           {
            "colorbar": {
             "outlinewidth": 0,
             "ticks": ""
            },
            "type": "mesh3d"
           }
          ],
          "parcoords": [
           {
            "line": {
             "colorbar": {
              "outlinewidth": 0,
              "ticks": ""
             }
            },
            "type": "parcoords"
           }
          ],
          "pie": [
           {
            "automargin": true,
            "type": "pie"
           }
          ],
          "scatter": [
           {
            "fillpattern": {
             "fillmode": "overlay",
             "size": 10,
             "solidity": 0.2
            },
            "type": "scatter"
           }
          ],
          "scatter3d": [
           {
            "line": {
             "colorbar": {
              "outlinewidth": 0,
              "ticks": ""
             }
            },
            "marker": {
             "colorbar": {
              "outlinewidth": 0,
              "ticks": ""
             }
            },
            "type": "scatter3d"
           }
          ],
          "scattercarpet": [
           {
            "marker": {
             "colorbar": {
              "outlinewidth": 0,
              "ticks": ""
             }
            },
            "type": "scattercarpet"
           }
          ],
          "scattergeo": [
           {
            "marker": {
             "colorbar": {
              "outlinewidth": 0,
              "ticks": ""
             }
            },
            "type": "scattergeo"
           }
          ],
          "scattergl": [
           {
            "marker": {
             "colorbar": {
              "outlinewidth": 0,
              "ticks": ""
             }
            },
            "type": "scattergl"
           }
          ],
          "scattermapbox": [
           {
            "marker": {
             "colorbar": {
              "outlinewidth": 0,
              "ticks": ""
             }
            },
            "type": "scattermapbox"
           }
          ],
          "scatterpolar": [
           {
            "marker": {
             "colorbar": {
              "outlinewidth": 0,
              "ticks": ""
             }
            },
            "type": "scatterpolar"
           }
          ],
          "scatterpolargl": [
           {
            "marker": {
             "colorbar": {
              "outlinewidth": 0,
              "ticks": ""
             }
            },
            "type": "scatterpolargl"
           }
          ],
          "scatterternary": [
           {
            "marker": {
             "colorbar": {
              "outlinewidth": 0,
              "ticks": ""
             }
            },
            "type": "scatterternary"
           }
          ],
          "surface": [
           {
            "colorbar": {
             "outlinewidth": 0,
             "ticks": ""
            },
            "colorscale": [
             [
              0,
              "#0d0887"
             ],
             [
              0.1111111111111111,
              "#46039f"
             ],
             [
              0.2222222222222222,
              "#7201a8"
             ],
             [
              0.3333333333333333,
              "#9c179e"
             ],
             [
              0.4444444444444444,
              "#bd3786"
             ],
             [
              0.5555555555555556,
              "#d8576b"
             ],
             [
              0.6666666666666666,
              "#ed7953"
             ],
             [
              0.7777777777777778,
              "#fb9f3a"
             ],
             [
              0.8888888888888888,
              "#fdca26"
             ],
             [
              1,
              "#f0f921"
             ]
            ],
            "type": "surface"
           }
          ],
          "table": [
           {
            "cells": {
             "fill": {
              "color": "#EBF0F8"
             },
             "line": {
              "color": "white"
             }
            },
            "header": {
             "fill": {
              "color": "#C8D4E3"
             },
             "line": {
              "color": "white"
             }
            },
            "type": "table"
           }
          ]
         },
         "layout": {
          "annotationdefaults": {
           "arrowcolor": "#2a3f5f",
           "arrowhead": 0,
           "arrowwidth": 1
          },
          "autotypenumbers": "strict",
          "coloraxis": {
           "colorbar": {
            "outlinewidth": 0,
            "ticks": ""
           }
          },
          "colorscale": {
           "diverging": [
            [
             0,
             "#8e0152"
            ],
            [
             0.1,
             "#c51b7d"
            ],
            [
             0.2,
             "#de77ae"
            ],
            [
             0.3,
             "#f1b6da"
            ],
            [
             0.4,
             "#fde0ef"
            ],
            [
             0.5,
             "#f7f7f7"
            ],
            [
             0.6,
             "#e6f5d0"
            ],
            [
             0.7,
             "#b8e186"
            ],
            [
             0.8,
             "#7fbc41"
            ],
            [
             0.9,
             "#4d9221"
            ],
            [
             1,
             "#276419"
            ]
           ],
           "sequential": [
            [
             0,
             "#0d0887"
            ],
            [
             0.1111111111111111,
             "#46039f"
            ],
            [
             0.2222222222222222,
             "#7201a8"
            ],
            [
             0.3333333333333333,
             "#9c179e"
            ],
            [
             0.4444444444444444,
             "#bd3786"
            ],
            [
             0.5555555555555556,
             "#d8576b"
            ],
            [
             0.6666666666666666,
             "#ed7953"
            ],
            [
             0.7777777777777778,
             "#fb9f3a"
            ],
            [
             0.8888888888888888,
             "#fdca26"
            ],
            [
             1,
             "#f0f921"
            ]
           ],
           "sequentialminus": [
            [
             0,
             "#0d0887"
            ],
            [
             0.1111111111111111,
             "#46039f"
            ],
            [
             0.2222222222222222,
             "#7201a8"
            ],
            [
             0.3333333333333333,
             "#9c179e"
            ],
            [
             0.4444444444444444,
             "#bd3786"
            ],
            [
             0.5555555555555556,
             "#d8576b"
            ],
            [
             0.6666666666666666,
             "#ed7953"
            ],
            [
             0.7777777777777778,
             "#fb9f3a"
            ],
            [
             0.8888888888888888,
             "#fdca26"
            ],
            [
             1,
             "#f0f921"
            ]
           ]
          },
          "colorway": [
           "#636efa",
           "#EF553B",
           "#00cc96",
           "#ab63fa",
           "#FFA15A",
           "#19d3f3",
           "#FF6692",
           "#B6E880",
           "#FF97FF",
           "#FECB52"
          ],
          "font": {
           "color": "#2a3f5f"
          },
          "geo": {
           "bgcolor": "white",
           "lakecolor": "white",
           "landcolor": "#E5ECF6",
           "showlakes": true,
           "showland": true,
           "subunitcolor": "white"
          },
          "hoverlabel": {
           "align": "left"
          },
          "hovermode": "closest",
          "mapbox": {
           "style": "light"
          },
          "paper_bgcolor": "white",
          "plot_bgcolor": "#E5ECF6",
          "polar": {
           "angularaxis": {
            "gridcolor": "white",
            "linecolor": "white",
            "ticks": ""
           },
           "bgcolor": "#E5ECF6",
           "radialaxis": {
            "gridcolor": "white",
            "linecolor": "white",
            "ticks": ""
           }
          },
          "scene": {
           "xaxis": {
            "backgroundcolor": "#E5ECF6",
            "gridcolor": "white",
            "gridwidth": 2,
            "linecolor": "white",
            "showbackground": true,
            "ticks": "",
            "zerolinecolor": "white"
           },
           "yaxis": {
            "backgroundcolor": "#E5ECF6",
            "gridcolor": "white",
            "gridwidth": 2,
            "linecolor": "white",
            "showbackground": true,
            "ticks": "",
            "zerolinecolor": "white"
           },
           "zaxis": {
            "backgroundcolor": "#E5ECF6",
            "gridcolor": "white",
            "gridwidth": 2,
            "linecolor": "white",
            "showbackground": true,
            "ticks": "",
            "zerolinecolor": "white"
           }
          },
          "shapedefaults": {
           "line": {
            "color": "#2a3f5f"
           }
          },
          "ternary": {
           "aaxis": {
            "gridcolor": "white",
            "linecolor": "white",
            "ticks": ""
           },
           "baxis": {
            "gridcolor": "white",
            "linecolor": "white",
            "ticks": ""
           },
           "bgcolor": "#E5ECF6",
           "caxis": {
            "gridcolor": "white",
            "linecolor": "white",
            "ticks": ""
           }
          },
          "title": {
           "x": 0.05
          },
          "xaxis": {
           "automargin": true,
           "gridcolor": "white",
           "linecolor": "white",
           "ticks": "",
           "title": {
            "standoff": 15
           },
           "zerolinecolor": "white",
           "zerolinewidth": 2
          },
          "yaxis": {
           "automargin": true,
           "gridcolor": "white",
           "linecolor": "white",
           "ticks": "",
           "title": {
            "standoff": 15
           },
           "zerolinecolor": "white",
           "zerolinewidth": 2
          }
         }
        },
        "title": {
         "text": "Smooth function as a random sample conditioned on known points"
        }
       }
      },
      "text/html": [
       "<div>                            <div id=\"9c358b50-782e-485e-a368-dbcf411b8498\" class=\"plotly-graph-div\" style=\"height:525px; width:100%;\"></div>            <script type=\"text/javascript\">                require([\"plotly\"], function(Plotly) {                    window.PLOTLYENV=window.PLOTLYENV || {};                                    if (document.getElementById(\"9c358b50-782e-485e-a368-dbcf411b8498\")) {                    Plotly.newPlot(                        \"9c358b50-782e-485e-a368-dbcf411b8498\",                        [{\"x\":[0,1,2,3,4,5,6,7,8,9,10,11,12,13,14,15,16,17,18,19,20,21,22,23,24,25,26,27,28,29,30,31,32,33,34,35,36,37,38,39,40,41,42,43,44,45,46,47,48,49,50,51,52,53,54,55,56,57,58,59,60,61,62,63,64,65,66,67,68,69,70,71,72,73,74,75,76,77,78,79,80,81,82,83,84,85,86,87,88,89,90,91,92,93,94,95,96,97,98,99],\"y\":[0.5,-0.8782183523850452,-1.9764691553638674,-2.6596057748721535,-2.85624667730173,-2.5742625551181026,-1.9028494353085357,-1,-0.06682346232079622,0.6872229154071372,1.0820103420108842,1,0.40810510659265775,-0.6367870442115068,-2,-3.496055381396475,-4.9238560963340445,-6.101689400522464,-6.894463203612389,-7.228643958647716,-7.094309107432306,-6.537029544083699,-5.64382086066455,-4.527099767013151,-3.309199836121854,-2.1085929541443136,-1.0282210150242552,-0.1462943830103135,0.4898388056474593,0.8660946664203519,1,0.9352277970527975,0.7331211615815248,0.46234503518159187,0.18797264591489937,-0.038582886640418756,-0.18724674079972492,-0.2530208181031861,-0.2545966482918026,-0.2275869005732416,-0.21352421433893043,-0.24718995574576486,-0.3456370486295546,-0.502004801416646,-0.685849007370841,-0.8497636754584427,-0.9402794780704455,-0.9100313558827863,-0.7282183312682842,-0.38718117464753954,0.0959122915720374,0.6821566830466128,1.3177434817249793,1.9428976962766606,2.5010079469445623,2.946207604004313,3.2482451083839874,3.3943028443354617,3.3881609278181863,3.2474864963746755,3,2.679010598546373,2.3186177464764564,1.948886796948111,1.5914856323340167,1.2564021071005176,0.9402979393558226,0.6267924899534337,0.28862965075176805,-0.1085687438432732,-0.6013533852093575,-1.2226890306715232,-1.9957809505093727,-2.927996355162052,-4.005635362802784,-5.19058862266786,-6.420071829107075,-7.610467219567223,-8.665696842620031,-9.4895274391781,-10,-10.143200249372077,-9.903275088715645,-9.306206703173626,-8.41629380478065,-7.32608081798673,-6.142006135599954,-4.968773771553585,-3.895287637909894,-2.984177018520838,-2.2659835441796186,-1.7383183855660789,-1.3698172862602667,-1.1082936255292282,-0.8919266467658633,-0.6616400750342498,-0.37228073749352164,-0.00023294474820262367,0.45414114290066243,0.9694671340566643],\"type\":\"scatter\"},{\"marker\":{\"color\":\"red\"},\"mode\":\"markers\",\"x\":[0,7,11,14,30,80,60],\"y\":[0.5,-1,1,-2,1,-10,3],\"type\":\"scatter\"}],                        {\"template\":{\"data\":{\"histogram2dcontour\":[{\"type\":\"histogram2dcontour\",\"colorbar\":{\"outlinewidth\":0,\"ticks\":\"\"},\"colorscale\":[[0.0,\"#0d0887\"],[0.1111111111111111,\"#46039f\"],[0.2222222222222222,\"#7201a8\"],[0.3333333333333333,\"#9c179e\"],[0.4444444444444444,\"#bd3786\"],[0.5555555555555556,\"#d8576b\"],[0.6666666666666666,\"#ed7953\"],[0.7777777777777778,\"#fb9f3a\"],[0.8888888888888888,\"#fdca26\"],[1.0,\"#f0f921\"]]}],\"choropleth\":[{\"type\":\"choropleth\",\"colorbar\":{\"outlinewidth\":0,\"ticks\":\"\"}}],\"histogram2d\":[{\"type\":\"histogram2d\",\"colorbar\":{\"outlinewidth\":0,\"ticks\":\"\"},\"colorscale\":[[0.0,\"#0d0887\"],[0.1111111111111111,\"#46039f\"],[0.2222222222222222,\"#7201a8\"],[0.3333333333333333,\"#9c179e\"],[0.4444444444444444,\"#bd3786\"],[0.5555555555555556,\"#d8576b\"],[0.6666666666666666,\"#ed7953\"],[0.7777777777777778,\"#fb9f3a\"],[0.8888888888888888,\"#fdca26\"],[1.0,\"#f0f921\"]]}],\"heatmap\":[{\"type\":\"heatmap\",\"colorbar\":{\"outlinewidth\":0,\"ticks\":\"\"},\"colorscale\":[[0.0,\"#0d0887\"],[0.1111111111111111,\"#46039f\"],[0.2222222222222222,\"#7201a8\"],[0.3333333333333333,\"#9c179e\"],[0.4444444444444444,\"#bd3786\"],[0.5555555555555556,\"#d8576b\"],[0.6666666666666666,\"#ed7953\"],[0.7777777777777778,\"#fb9f3a\"],[0.8888888888888888,\"#fdca26\"],[1.0,\"#f0f921\"]]}],\"heatmapgl\":[{\"type\":\"heatmapgl\",\"colorbar\":{\"outlinewidth\":0,\"ticks\":\"\"},\"colorscale\":[[0.0,\"#0d0887\"],[0.1111111111111111,\"#46039f\"],[0.2222222222222222,\"#7201a8\"],[0.3333333333333333,\"#9c179e\"],[0.4444444444444444,\"#bd3786\"],[0.5555555555555556,\"#d8576b\"],[0.6666666666666666,\"#ed7953\"],[0.7777777777777778,\"#fb9f3a\"],[0.8888888888888888,\"#fdca26\"],[1.0,\"#f0f921\"]]}],\"contourcarpet\":[{\"type\":\"contourcarpet\",\"colorbar\":{\"outlinewidth\":0,\"ticks\":\"\"}}],\"contour\":[{\"type\":\"contour\",\"colorbar\":{\"outlinewidth\":0,\"ticks\":\"\"},\"colorscale\":[[0.0,\"#0d0887\"],[0.1111111111111111,\"#46039f\"],[0.2222222222222222,\"#7201a8\"],[0.3333333333333333,\"#9c179e\"],[0.4444444444444444,\"#bd3786\"],[0.5555555555555556,\"#d8576b\"],[0.6666666666666666,\"#ed7953\"],[0.7777777777777778,\"#fb9f3a\"],[0.8888888888888888,\"#fdca26\"],[1.0,\"#f0f921\"]]}],\"surface\":[{\"type\":\"surface\",\"colorbar\":{\"outlinewidth\":0,\"ticks\":\"\"},\"colorscale\":[[0.0,\"#0d0887\"],[0.1111111111111111,\"#46039f\"],[0.2222222222222222,\"#7201a8\"],[0.3333333333333333,\"#9c179e\"],[0.4444444444444444,\"#bd3786\"],[0.5555555555555556,\"#d8576b\"],[0.6666666666666666,\"#ed7953\"],[0.7777777777777778,\"#fb9f3a\"],[0.8888888888888888,\"#fdca26\"],[1.0,\"#f0f921\"]]}],\"mesh3d\":[{\"type\":\"mesh3d\",\"colorbar\":{\"outlinewidth\":0,\"ticks\":\"\"}}],\"scatter\":[{\"fillpattern\":{\"fillmode\":\"overlay\",\"size\":10,\"solidity\":0.2},\"type\":\"scatter\"}],\"parcoords\":[{\"type\":\"parcoords\",\"line\":{\"colorbar\":{\"outlinewidth\":0,\"ticks\":\"\"}}}],\"scatterpolargl\":[{\"type\":\"scatterpolargl\",\"marker\":{\"colorbar\":{\"outlinewidth\":0,\"ticks\":\"\"}}}],\"bar\":[{\"error_x\":{\"color\":\"#2a3f5f\"},\"error_y\":{\"color\":\"#2a3f5f\"},\"marker\":{\"line\":{\"color\":\"#E5ECF6\",\"width\":0.5},\"pattern\":{\"fillmode\":\"overlay\",\"size\":10,\"solidity\":0.2}},\"type\":\"bar\"}],\"scattergeo\":[{\"type\":\"scattergeo\",\"marker\":{\"colorbar\":{\"outlinewidth\":0,\"ticks\":\"\"}}}],\"scatterpolar\":[{\"type\":\"scatterpolar\",\"marker\":{\"colorbar\":{\"outlinewidth\":0,\"ticks\":\"\"}}}],\"histogram\":[{\"marker\":{\"pattern\":{\"fillmode\":\"overlay\",\"size\":10,\"solidity\":0.2}},\"type\":\"histogram\"}],\"scattergl\":[{\"type\":\"scattergl\",\"marker\":{\"colorbar\":{\"outlinewidth\":0,\"ticks\":\"\"}}}],\"scatter3d\":[{\"type\":\"scatter3d\",\"line\":{\"colorbar\":{\"outlinewidth\":0,\"ticks\":\"\"}},\"marker\":{\"colorbar\":{\"outlinewidth\":0,\"ticks\":\"\"}}}],\"scattermapbox\":[{\"type\":\"scattermapbox\",\"marker\":{\"colorbar\":{\"outlinewidth\":0,\"ticks\":\"\"}}}],\"scatterternary\":[{\"type\":\"scatterternary\",\"marker\":{\"colorbar\":{\"outlinewidth\":0,\"ticks\":\"\"}}}],\"scattercarpet\":[{\"type\":\"scattercarpet\",\"marker\":{\"colorbar\":{\"outlinewidth\":0,\"ticks\":\"\"}}}],\"carpet\":[{\"aaxis\":{\"endlinecolor\":\"#2a3f5f\",\"gridcolor\":\"white\",\"linecolor\":\"white\",\"minorgridcolor\":\"white\",\"startlinecolor\":\"#2a3f5f\"},\"baxis\":{\"endlinecolor\":\"#2a3f5f\",\"gridcolor\":\"white\",\"linecolor\":\"white\",\"minorgridcolor\":\"white\",\"startlinecolor\":\"#2a3f5f\"},\"type\":\"carpet\"}],\"table\":[{\"cells\":{\"fill\":{\"color\":\"#EBF0F8\"},\"line\":{\"color\":\"white\"}},\"header\":{\"fill\":{\"color\":\"#C8D4E3\"},\"line\":{\"color\":\"white\"}},\"type\":\"table\"}],\"barpolar\":[{\"marker\":{\"line\":{\"color\":\"#E5ECF6\",\"width\":0.5},\"pattern\":{\"fillmode\":\"overlay\",\"size\":10,\"solidity\":0.2}},\"type\":\"barpolar\"}],\"pie\":[{\"automargin\":true,\"type\":\"pie\"}]},\"layout\":{\"autotypenumbers\":\"strict\",\"colorway\":[\"#636efa\",\"#EF553B\",\"#00cc96\",\"#ab63fa\",\"#FFA15A\",\"#19d3f3\",\"#FF6692\",\"#B6E880\",\"#FF97FF\",\"#FECB52\"],\"font\":{\"color\":\"#2a3f5f\"},\"hovermode\":\"closest\",\"hoverlabel\":{\"align\":\"left\"},\"paper_bgcolor\":\"white\",\"plot_bgcolor\":\"#E5ECF6\",\"polar\":{\"bgcolor\":\"#E5ECF6\",\"angularaxis\":{\"gridcolor\":\"white\",\"linecolor\":\"white\",\"ticks\":\"\"},\"radialaxis\":{\"gridcolor\":\"white\",\"linecolor\":\"white\",\"ticks\":\"\"}},\"ternary\":{\"bgcolor\":\"#E5ECF6\",\"aaxis\":{\"gridcolor\":\"white\",\"linecolor\":\"white\",\"ticks\":\"\"},\"baxis\":{\"gridcolor\":\"white\",\"linecolor\":\"white\",\"ticks\":\"\"},\"caxis\":{\"gridcolor\":\"white\",\"linecolor\":\"white\",\"ticks\":\"\"}},\"coloraxis\":{\"colorbar\":{\"outlinewidth\":0,\"ticks\":\"\"}},\"colorscale\":{\"sequential\":[[0.0,\"#0d0887\"],[0.1111111111111111,\"#46039f\"],[0.2222222222222222,\"#7201a8\"],[0.3333333333333333,\"#9c179e\"],[0.4444444444444444,\"#bd3786\"],[0.5555555555555556,\"#d8576b\"],[0.6666666666666666,\"#ed7953\"],[0.7777777777777778,\"#fb9f3a\"],[0.8888888888888888,\"#fdca26\"],[1.0,\"#f0f921\"]],\"sequentialminus\":[[0.0,\"#0d0887\"],[0.1111111111111111,\"#46039f\"],[0.2222222222222222,\"#7201a8\"],[0.3333333333333333,\"#9c179e\"],[0.4444444444444444,\"#bd3786\"],[0.5555555555555556,\"#d8576b\"],[0.6666666666666666,\"#ed7953\"],[0.7777777777777778,\"#fb9f3a\"],[0.8888888888888888,\"#fdca26\"],[1.0,\"#f0f921\"]],\"diverging\":[[0,\"#8e0152\"],[0.1,\"#c51b7d\"],[0.2,\"#de77ae\"],[0.3,\"#f1b6da\"],[0.4,\"#fde0ef\"],[0.5,\"#f7f7f7\"],[0.6,\"#e6f5d0\"],[0.7,\"#b8e186\"],[0.8,\"#7fbc41\"],[0.9,\"#4d9221\"],[1,\"#276419\"]]},\"xaxis\":{\"gridcolor\":\"white\",\"linecolor\":\"white\",\"ticks\":\"\",\"title\":{\"standoff\":15},\"zerolinecolor\":\"white\",\"automargin\":true,\"zerolinewidth\":2},\"yaxis\":{\"gridcolor\":\"white\",\"linecolor\":\"white\",\"ticks\":\"\",\"title\":{\"standoff\":15},\"zerolinecolor\":\"white\",\"automargin\":true,\"zerolinewidth\":2},\"scene\":{\"xaxis\":{\"backgroundcolor\":\"#E5ECF6\",\"gridcolor\":\"white\",\"linecolor\":\"white\",\"showbackground\":true,\"ticks\":\"\",\"zerolinecolor\":\"white\",\"gridwidth\":2},\"yaxis\":{\"backgroundcolor\":\"#E5ECF6\",\"gridcolor\":\"white\",\"linecolor\":\"white\",\"showbackground\":true,\"ticks\":\"\",\"zerolinecolor\":\"white\",\"gridwidth\":2},\"zaxis\":{\"backgroundcolor\":\"#E5ECF6\",\"gridcolor\":\"white\",\"linecolor\":\"white\",\"showbackground\":true,\"ticks\":\"\",\"zerolinecolor\":\"white\",\"gridwidth\":2}},\"shapedefaults\":{\"line\":{\"color\":\"#2a3f5f\"}},\"annotationdefaults\":{\"arrowcolor\":\"#2a3f5f\",\"arrowhead\":0,\"arrowwidth\":1},\"geo\":{\"bgcolor\":\"white\",\"landcolor\":\"#E5ECF6\",\"subunitcolor\":\"white\",\"showland\":true,\"showlakes\":true,\"lakecolor\":\"white\"},\"title\":{\"x\":0.05},\"mapbox\":{\"style\":\"light\"}}},\"title\":{\"text\":\"Smooth function as a random sample conditioned on known points\"}},                        {\"responsive\": true}                    ).then(function(){\n",
       "                            \n",
       "var gd = document.getElementById('9c358b50-782e-485e-a368-dbcf411b8498');\n",
       "var x = new MutationObserver(function (mutations, observer) {{\n",
       "        var display = window.getComputedStyle(gd).display;\n",
       "        if (!display || display === 'none') {{\n",
       "            console.log([gd, 'removed!']);\n",
       "            Plotly.purge(gd);\n",
       "            observer.disconnect();\n",
       "        }}\n",
       "}});\n",
       "\n",
       "// Listen for the removal of the full notebook cells\n",
       "var notebookContainer = gd.closest('#notebook-container');\n",
       "if (notebookContainer) {{\n",
       "    x.observe(notebookContainer, {childList: true});\n",
       "}}\n",
       "\n",
       "// Listen for the clearing of the current output cell\n",
       "var outputEl = gd.closest('.output');\n",
       "if (outputEl) {{\n",
       "    x.observe(outputEl, {childList: true});\n",
       "}}\n",
       "\n",
       "                        })                };                });            </script>        </div>"
      ]
     },
     "metadata": {},
     "output_type": "display_data"
    },
    {
     "data": {
      "application/javascript": [
       "\n",
       "            setTimeout(function() {\n",
       "                var nbb_cell_id = 918;\n",
       "                var nbb_unformatted_code = \"plot_random_smooth_func_conditioned_theoretical(\\n    {0: 0.5, 7: -1, 11: 1, 14: -2, 30: 1, 80: -10, 60: 3}, nd=100, n_output=1\\n)\";\n",
       "                var nbb_formatted_code = \"plot_random_smooth_func_conditioned_theoretical(\\n    {0: 0.5, 7: -1, 11: 1, 14: -2, 30: 1, 80: -10, 60: 3}, nd=100, n_output=1\\n)\";\n",
       "                var nbb_cells = Jupyter.notebook.get_cells();\n",
       "                for (var i = 0; i < nbb_cells.length; ++i) {\n",
       "                    if (nbb_cells[i].input_prompt_number == nbb_cell_id) {\n",
       "                        if (nbb_cells[i].get_text() == nbb_unformatted_code) {\n",
       "                             nbb_cells[i].set_text(nbb_formatted_code);\n",
       "                        }\n",
       "                        break;\n",
       "                    }\n",
       "                }\n",
       "            }, 500);\n",
       "            "
      ],
      "text/plain": [
       "<IPython.core.display.Javascript object>"
      ]
     },
     "metadata": {},
     "output_type": "display_data"
    }
   ],
   "source": [
    "plot_random_smooth_func_conditioned_theoretical(\n",
    "    {0: 0.5, 7: -1, 11: 1, 14: -2, 30: 1, 80: -10, 60: 3}, nd=100, n_output=1\n",
    ")"
   ]
  },
  {
   "cell_type": "markdown",
   "id": "1ca8ec33",
   "metadata": {
    "heading_collapsed": true
   },
   "source": [
    "# Gaussian process regression - A handcoded example"
   ]
  },
  {
   "cell_type": "markdown",
   "id": "4e23779a",
   "metadata": {
    "hidden": true
   },
   "source": [
    "| Height | Weight | Age | BPsystolic | BPDiastolic | FastingSugarLevel | <span style=\"color:red\">TimeToCompletePhysicalTask</span> |\n",
    "| ---- | ---- | ---- |---- | ---- | ---- |---- |\n",
    "| 6.23 | 66 | 34 | 120 | 89 | 342 | <span style=\"color:red\">2.34 </span> |\n",
    "| 5.2 | 56 | 37 | 145 | 80 | 242 | <span style=\"color:red\">1.34</span> |\n",
    "| 4.45 | 50 | 24 | 130 | 70 | 82 | <span style=\"color:red\">2.54</span> |\n",
    "| 7.10 | 89 | 40 | 101 | 65 | 202 | <span style=\"color:red\">3.34</span> |\n",
    "| 6.23 | 92 | 27 | 148 | 89 | 102 | <span style=\"color:red\">4.34</span> |\n",
    "| 6.95 | 123 | 47 | 153 | 86 | 294 | <span style=\"color:red\">1.04</span> |\n",
    "| 4.9 | 51 | 67 | 123 | 72 | 194 | <span style=\"color:red\">2.54</span> |\n",
    "| 5.2 | 56 | 25 | 115 | 74 | 142 | <span style=\"color:red\">3.04</span> |\n",
    "| 5.57 | 70 | 40 | 104 | 67 | 104 | <span style=\"color:red\">2.74</span> |\n",
    "| 5.9 | 62 | 89 | 109 | 90 | 243 | <span style=\"color:red\">1.34</span> |\n",
    "| 4.67 | 60 | 12 | 135 | 95 | 104 | <span style=\"color:red\">1.94</span> |\n",
    "| 6.59 | 70 | 41 | 145 | 69 | 120 |<span style=\"color:red\"> 2.14</span> |\n",
    "<br>\n",
    "\n",
    "### Can we answer the following from the above??\n",
    "\n",
    "<br>\n",
    "\n",
    "| Height | Weight | Age | BPsystolic | BPDiastolic | FastingSugarLevel | <span style=\"color:red\">TimeToCompletePhysicalTask</span> |\n",
    "| ---- | ---- | ---- |---- | ---- | ---- |---- |\n",
    "| 5.12 | 52 | 23 | 134 | 84 | 183 |<span style=\"color:red\"> ? </span> |\n",
    "| 6.2 | 78 | 43 | 143 | 93 | 135 |<span style=\"color:red\"> ? </span> |"
   ]
  },
  {
   "cell_type": "code",
   "execution_count": 1395,
   "id": "dfedb2f5",
   "metadata": {
    "hidden": true
   },
   "outputs": [
    {
     "data": {
      "application/javascript": [
       "\n",
       "            setTimeout(function() {\n",
       "                var nbb_cell_id = 1395;\n",
       "                var nbb_unformatted_code = \"known_dimensions = np.array(\\n    [\\n        [6.23, 66, 34, 120, 89, 342],\\n        [5.2, 56, 37, 145, 80, 242],\\n        [4.45, 50, 24, 130, 70, 82],\\n        [7.10, 89, 40, 101, 65, 202],\\n        [6.23, 92, 27, 148, 89, 102],\\n        [6.95, 123, 47, 153, 86, 294],\\n        [4.9, 51, 67, 123, 72, 194],\\n        [5.2, 56, 25, 115, 74, 142],\\n        [5.57, 70, 40, 104, 67, 104],\\n        [5.9, 62, 89, 109, 90, 243],\\n        [4.67, 60, 12, 135, 95, 104],\\n        [6.59, 70, 41, 145, 69, 120],\\n    ]\\n)\\n\\nunknown_dimensions = np.array(\\n    [[5.12, 52, 23, 134, 84, 183], [6.2, 78, 43, 143, 93, 135]]\\n)\\n\\nknown_values = [2.34, 1.34, 2.54, 3.34, 4.34, 1.04, 2.54, 3.04, 2.74, 1.34, 1.94, 2.14]\";\n",
       "                var nbb_formatted_code = \"known_dimensions = np.array(\\n    [\\n        [6.23, 66, 34, 120, 89, 342],\\n        [5.2, 56, 37, 145, 80, 242],\\n        [4.45, 50, 24, 130, 70, 82],\\n        [7.10, 89, 40, 101, 65, 202],\\n        [6.23, 92, 27, 148, 89, 102],\\n        [6.95, 123, 47, 153, 86, 294],\\n        [4.9, 51, 67, 123, 72, 194],\\n        [5.2, 56, 25, 115, 74, 142],\\n        [5.57, 70, 40, 104, 67, 104],\\n        [5.9, 62, 89, 109, 90, 243],\\n        [4.67, 60, 12, 135, 95, 104],\\n        [6.59, 70, 41, 145, 69, 120],\\n    ]\\n)\\n\\nunknown_dimensions = np.array(\\n    [[5.12, 52, 23, 134, 84, 183], [6.2, 78, 43, 143, 93, 135]]\\n)\\n\\nknown_values = [2.34, 1.34, 2.54, 3.34, 4.34, 1.04, 2.54, 3.04, 2.74, 1.34, 1.94, 2.14]\";\n",
       "                var nbb_cells = Jupyter.notebook.get_cells();\n",
       "                for (var i = 0; i < nbb_cells.length; ++i) {\n",
       "                    if (nbb_cells[i].input_prompt_number == nbb_cell_id) {\n",
       "                        if (nbb_cells[i].get_text() == nbb_unformatted_code) {\n",
       "                             nbb_cells[i].set_text(nbb_formatted_code);\n",
       "                        }\n",
       "                        break;\n",
       "                    }\n",
       "                }\n",
       "            }, 500);\n",
       "            "
      ],
      "text/plain": [
       "<IPython.core.display.Javascript object>"
      ]
     },
     "metadata": {},
     "output_type": "display_data"
    }
   ],
   "source": [
    "known_dimensions = np.array(\n",
    "    [\n",
    "        [6.23, 66, 34, 120, 89, 342],\n",
    "        [5.2, 56, 37, 145, 80, 242],\n",
    "        [4.45, 50, 24, 130, 70, 82],\n",
    "        [7.10, 89, 40, 101, 65, 202],\n",
    "        [6.23, 92, 27, 148, 89, 102],\n",
    "        [6.95, 123, 47, 153, 86, 294],\n",
    "        [4.9, 51, 67, 123, 72, 194],\n",
    "        [5.2, 56, 25, 115, 74, 142],\n",
    "        [5.57, 70, 40, 104, 67, 104],\n",
    "        [5.9, 62, 89, 109, 90, 243],\n",
    "        [4.67, 60, 12, 135, 95, 104],\n",
    "        [6.59, 70, 41, 145, 69, 120],\n",
    "    ]\n",
    ")\n",
    "\n",
    "unknown_dimensions = np.array(\n",
    "    [[5.12, 52, 23, 134, 84, 183], [6.2, 78, 43, 143, 93, 135]]\n",
    ")\n",
    "\n",
    "known_values = [2.34, 1.34, 2.54, 3.34, 4.34, 1.04, 2.54, 3.04, 2.74, 1.34, 1.94, 2.14]"
   ]
  },
  {
   "cell_type": "code",
   "execution_count": 1396,
   "id": "6f38ef2d",
   "metadata": {
    "hidden": true
   },
   "outputs": [
    {
     "data": {
      "text/plain": [
       "(12, 6)"
      ]
     },
     "execution_count": 1396,
     "metadata": {},
     "output_type": "execute_result"
    },
    {
     "data": {
      "application/javascript": [
       "\n",
       "            setTimeout(function() {\n",
       "                var nbb_cell_id = 1396;\n",
       "                var nbb_unformatted_code = \"known_dimensions.shape\";\n",
       "                var nbb_formatted_code = \"known_dimensions.shape\";\n",
       "                var nbb_cells = Jupyter.notebook.get_cells();\n",
       "                for (var i = 0; i < nbb_cells.length; ++i) {\n",
       "                    if (nbb_cells[i].input_prompt_number == nbb_cell_id) {\n",
       "                        if (nbb_cells[i].get_text() == nbb_unformatted_code) {\n",
       "                             nbb_cells[i].set_text(nbb_formatted_code);\n",
       "                        }\n",
       "                        break;\n",
       "                    }\n",
       "                }\n",
       "            }, 500);\n",
       "            "
      ],
      "text/plain": [
       "<IPython.core.display.Javascript object>"
      ]
     },
     "metadata": {},
     "output_type": "display_data"
    }
   ],
   "source": [
    "known_dimensions.shape"
   ]
  },
  {
   "cell_type": "code",
   "execution_count": 1397,
   "id": "b38ddd8a",
   "metadata": {
    "hidden": true
   },
   "outputs": [
    {
     "data": {
      "text/plain": [
       "(2, 6)"
      ]
     },
     "execution_count": 1397,
     "metadata": {},
     "output_type": "execute_result"
    },
    {
     "data": {
      "application/javascript": [
       "\n",
       "            setTimeout(function() {\n",
       "                var nbb_cell_id = 1397;\n",
       "                var nbb_unformatted_code = \"unknown_dimensions.shape\";\n",
       "                var nbb_formatted_code = \"unknown_dimensions.shape\";\n",
       "                var nbb_cells = Jupyter.notebook.get_cells();\n",
       "                for (var i = 0; i < nbb_cells.length; ++i) {\n",
       "                    if (nbb_cells[i].input_prompt_number == nbb_cell_id) {\n",
       "                        if (nbb_cells[i].get_text() == nbb_unformatted_code) {\n",
       "                             nbb_cells[i].set_text(nbb_formatted_code);\n",
       "                        }\n",
       "                        break;\n",
       "                    }\n",
       "                }\n",
       "            }, 500);\n",
       "            "
      ],
      "text/plain": [
       "<IPython.core.display.Javascript object>"
      ]
     },
     "metadata": {},
     "output_type": "display_data"
    }
   ],
   "source": [
    "unknown_dimensions.shape"
   ]
  },
  {
   "cell_type": "code",
   "execution_count": 1398,
   "id": "80a2aa0e",
   "metadata": {
    "hidden": true
   },
   "outputs": [
    {
     "data": {
      "application/javascript": [
       "\n",
       "            setTimeout(function() {\n",
       "                var nbb_cell_id = 1398;\n",
       "                var nbb_unformatted_code = \"cov_base = np.cov(known_dimensions, unknown_dimensions)\";\n",
       "                var nbb_formatted_code = \"cov_base = np.cov(known_dimensions, unknown_dimensions)\";\n",
       "                var nbb_cells = Jupyter.notebook.get_cells();\n",
       "                for (var i = 0; i < nbb_cells.length; ++i) {\n",
       "                    if (nbb_cells[i].input_prompt_number == nbb_cell_id) {\n",
       "                        if (nbb_cells[i].get_text() == nbb_unformatted_code) {\n",
       "                             nbb_cells[i].set_text(nbb_formatted_code);\n",
       "                        }\n",
       "                        break;\n",
       "                    }\n",
       "                }\n",
       "            }, 500);\n",
       "            "
      ],
      "text/plain": [
       "<IPython.core.display.Javascript object>"
      ]
     },
     "metadata": {},
     "output_type": "display_data"
    }
   ],
   "source": [
    "cov_base = np.cov(known_dimensions, unknown_dimensions)"
   ]
  },
  {
   "cell_type": "code",
   "execution_count": 1399,
   "id": "f238435f",
   "metadata": {
    "hidden": true
   },
   "outputs": [
    {
     "data": {
      "text/plain": [
       "(2, 2)"
      ]
     },
     "execution_count": 1399,
     "metadata": {},
     "output_type": "execute_result"
    },
    {
     "data": {
      "application/javascript": [
       "\n",
       "            setTimeout(function() {\n",
       "                var nbb_cell_id = 1399;\n",
       "                var nbb_unformatted_code = \"# unknown dims with unknown dims\\nA = cov_base[[12, 13], :][:, [12, 13]]\\nA.shape\";\n",
       "                var nbb_formatted_code = \"# unknown dims with unknown dims\\nA = cov_base[[12, 13], :][:, [12, 13]]\\nA.shape\";\n",
       "                var nbb_cells = Jupyter.notebook.get_cells();\n",
       "                for (var i = 0; i < nbb_cells.length; ++i) {\n",
       "                    if (nbb_cells[i].input_prompt_number == nbb_cell_id) {\n",
       "                        if (nbb_cells[i].get_text() == nbb_unformatted_code) {\n",
       "                             nbb_cells[i].set_text(nbb_formatted_code);\n",
       "                        }\n",
       "                        break;\n",
       "                    }\n",
       "                }\n",
       "            }, 500);\n",
       "            "
      ],
      "text/plain": [
       "<IPython.core.display.Javascript object>"
      ]
     },
     "metadata": {},
     "output_type": "display_data"
    }
   ],
   "source": [
    "# unknown dims with unknown dims\n",
    "A = cov_base[[12, 13], :][:, [12, 13]]\n",
    "A.shape"
   ]
  },
  {
   "cell_type": "code",
   "execution_count": 1400,
   "id": "4fc0416d",
   "metadata": {
    "hidden": true
   },
   "outputs": [
    {
     "data": {
      "text/plain": [
       "(12, 12)"
      ]
     },
     "execution_count": 1400,
     "metadata": {},
     "output_type": "execute_result"
    },
    {
     "data": {
      "application/javascript": [
       "\n",
       "            setTimeout(function() {\n",
       "                var nbb_cell_id = 1400;\n",
       "                var nbb_unformatted_code = \"# known with known\\nB = cov_base[0:12, :][:, 0:12]\\nB.shape\";\n",
       "                var nbb_formatted_code = \"# known with known\\nB = cov_base[0:12, :][:, 0:12]\\nB.shape\";\n",
       "                var nbb_cells = Jupyter.notebook.get_cells();\n",
       "                for (var i = 0; i < nbb_cells.length; ++i) {\n",
       "                    if (nbb_cells[i].input_prompt_number == nbb_cell_id) {\n",
       "                        if (nbb_cells[i].get_text() == nbb_unformatted_code) {\n",
       "                             nbb_cells[i].set_text(nbb_formatted_code);\n",
       "                        }\n",
       "                        break;\n",
       "                    }\n",
       "                }\n",
       "            }, 500);\n",
       "            "
      ],
      "text/plain": [
       "<IPython.core.display.Javascript object>"
      ]
     },
     "metadata": {},
     "output_type": "display_data"
    }
   ],
   "source": [
    "# known with known\n",
    "B = cov_base[0:12, :][:, 0:12]\n",
    "B.shape"
   ]
  },
  {
   "cell_type": "code",
   "execution_count": 1401,
   "id": "1a156e93",
   "metadata": {
    "hidden": true
   },
   "outputs": [
    {
     "data": {
      "text/plain": [
       "(2, 12)"
      ]
     },
     "execution_count": 1401,
     "metadata": {},
     "output_type": "execute_result"
    },
    {
     "data": {
      "application/javascript": [
       "\n",
       "            setTimeout(function() {\n",
       "                var nbb_cell_id = 1401;\n",
       "                var nbb_unformatted_code = \"# unknown with known\\nC = cov_base[[12, 13], :][:, 0:12]\\nC.shape\";\n",
       "                var nbb_formatted_code = \"# unknown with known\\nC = cov_base[[12, 13], :][:, 0:12]\\nC.shape\";\n",
       "                var nbb_cells = Jupyter.notebook.get_cells();\n",
       "                for (var i = 0; i < nbb_cells.length; ++i) {\n",
       "                    if (nbb_cells[i].input_prompt_number == nbb_cell_id) {\n",
       "                        if (nbb_cells[i].get_text() == nbb_unformatted_code) {\n",
       "                             nbb_cells[i].set_text(nbb_formatted_code);\n",
       "                        }\n",
       "                        break;\n",
       "                    }\n",
       "                }\n",
       "            }, 500);\n",
       "            "
      ],
      "text/plain": [
       "<IPython.core.display.Javascript object>"
      ]
     },
     "metadata": {},
     "output_type": "display_data"
    }
   ],
   "source": [
    "# unknown with known\n",
    "C = cov_base[[12, 13], :][:, 0:12]\n",
    "C.shape"
   ]
  },
  {
   "cell_type": "code",
   "execution_count": 1402,
   "id": "bd58d7b7",
   "metadata": {
    "hidden": true
   },
   "outputs": [
    {
     "data": {
      "application/javascript": [
       "\n",
       "            setTimeout(function() {\n",
       "                var nbb_cell_id = 1402;\n",
       "                var nbb_unformatted_code = \"# Find the conditional distribution\\nnew_mean = (\\n    np.array([0] * 2).reshape(-1, 1)\\n    + C.dot(np.linalg.inv(B)).dot(np.array(known_values).reshape(-1, 1))\\n)[:, 0]\\n\\nnew_cov = A - C.dot(np.linalg.inv(B)).dot(np.transpose(C))\";\n",
       "                var nbb_formatted_code = \"# Find the conditional distribution\\nnew_mean = (\\n    np.array([0] * 2).reshape(-1, 1)\\n    + C.dot(np.linalg.inv(B)).dot(np.array(known_values).reshape(-1, 1))\\n)[:, 0]\\n\\nnew_cov = A - C.dot(np.linalg.inv(B)).dot(np.transpose(C))\";\n",
       "                var nbb_cells = Jupyter.notebook.get_cells();\n",
       "                for (var i = 0; i < nbb_cells.length; ++i) {\n",
       "                    if (nbb_cells[i].input_prompt_number == nbb_cell_id) {\n",
       "                        if (nbb_cells[i].get_text() == nbb_unformatted_code) {\n",
       "                             nbb_cells[i].set_text(nbb_formatted_code);\n",
       "                        }\n",
       "                        break;\n",
       "                    }\n",
       "                }\n",
       "            }, 500);\n",
       "            "
      ],
      "text/plain": [
       "<IPython.core.display.Javascript object>"
      ]
     },
     "metadata": {},
     "output_type": "display_data"
    }
   ],
   "source": [
    "# Find the conditional distribution\n",
    "new_mean = (\n",
    "    np.array([0] * 2).reshape(-1, 1)\n",
    "    + C.dot(np.linalg.inv(B)).dot(np.array(known_values).reshape(-1, 1))\n",
    ")[:, 0]\n",
    "\n",
    "new_cov = A - C.dot(np.linalg.inv(B)).dot(np.transpose(C))\n"
   ]
  },
  {
   "cell_type": "code",
   "execution_count": 1403,
   "id": "aa2bf614",
   "metadata": {
    "hidden": true
   },
   "outputs": [
    {
     "data": {
      "text/plain": [
       "array([2.82468648, 2.81332251])"
      ]
     },
     "execution_count": 1403,
     "metadata": {},
     "output_type": "execute_result"
    },
    {
     "data": {
      "application/javascript": [
       "\n",
       "            setTimeout(function() {\n",
       "                var nbb_cell_id = 1403;\n",
       "                var nbb_unformatted_code = \"new_mean\";\n",
       "                var nbb_formatted_code = \"new_mean\";\n",
       "                var nbb_cells = Jupyter.notebook.get_cells();\n",
       "                for (var i = 0; i < nbb_cells.length; ++i) {\n",
       "                    if (nbb_cells[i].input_prompt_number == nbb_cell_id) {\n",
       "                        if (nbb_cells[i].get_text() == nbb_unformatted_code) {\n",
       "                             nbb_cells[i].set_text(nbb_formatted_code);\n",
       "                        }\n",
       "                        break;\n",
       "                    }\n",
       "                }\n",
       "            }, 500);\n",
       "            "
      ],
      "text/plain": [
       "<IPython.core.display.Javascript object>"
      ]
     },
     "metadata": {},
     "output_type": "display_data"
    }
   ],
   "source": [
    "new_mean"
   ]
  },
  {
   "cell_type": "code",
   "execution_count": 1404,
   "id": "287b2337",
   "metadata": {
    "hidden": true
   },
   "outputs": [
    {
     "data": {
      "text/plain": [
       "array([[ -929.98587014,  -798.86137568],\n",
       "       [-2130.81348423, -1551.61161511]])"
      ]
     },
     "execution_count": 1404,
     "metadata": {},
     "output_type": "execute_result"
    },
    {
     "data": {
      "application/javascript": [
       "\n",
       "            setTimeout(function() {\n",
       "                var nbb_cell_id = 1404;\n",
       "                var nbb_unformatted_code = \"new_cov\";\n",
       "                var nbb_formatted_code = \"new_cov\";\n",
       "                var nbb_cells = Jupyter.notebook.get_cells();\n",
       "                for (var i = 0; i < nbb_cells.length; ++i) {\n",
       "                    if (nbb_cells[i].input_prompt_number == nbb_cell_id) {\n",
       "                        if (nbb_cells[i].get_text() == nbb_unformatted_code) {\n",
       "                             nbb_cells[i].set_text(nbb_formatted_code);\n",
       "                        }\n",
       "                        break;\n",
       "                    }\n",
       "                }\n",
       "            }, 500);\n",
       "            "
      ],
      "text/plain": [
       "<IPython.core.display.Javascript object>"
      ]
     },
     "metadata": {},
     "output_type": "display_data"
    }
   ],
   "source": [
    "new_cov"
   ]
  },
  {
   "cell_type": "markdown",
   "id": "df08193d",
   "metadata": {
    "hidden": true
   },
   "source": [
    "## Well... Thats kind of stupid!\n",
    "#### But we can see why!\n",
    "\n",
    "```\n",
    "The Covariance numbers were inflated due to the \"Glucose levels\" which is on a much higher scale.\n",
    "So the model believes there is so much variance and reflects the same in the result....\n",
    "Either we should standardize (or) we should use a proper kernel\n",
    "```\n",
    "\n",
    "### Lets try RBF kernel with proper scale instead of np.cov\n",
    "[RBF kernel formula](https://scikit-learn.org/stable/modules/generated/sklearn.gaussian_process.kernels.RBF.html)\n"
   ]
  },
  {
   "cell_type": "code",
   "execution_count": 1405,
   "id": "51773f30",
   "metadata": {
    "hidden": true
   },
   "outputs": [
    {
     "data": {
      "application/javascript": [
       "\n",
       "            setTimeout(function() {\n",
       "                var nbb_cell_id = 1405;\n",
       "                var nbb_unformatted_code = \"known_unknown_dimensions = np.concatenate(\\n    [known_dimensions, unknown_dimensions], axis=0\\n)\";\n",
       "                var nbb_formatted_code = \"known_unknown_dimensions = np.concatenate(\\n    [known_dimensions, unknown_dimensions], axis=0\\n)\";\n",
       "                var nbb_cells = Jupyter.notebook.get_cells();\n",
       "                for (var i = 0; i < nbb_cells.length; ++i) {\n",
       "                    if (nbb_cells[i].input_prompt_number == nbb_cell_id) {\n",
       "                        if (nbb_cells[i].get_text() == nbb_unformatted_code) {\n",
       "                             nbb_cells[i].set_text(nbb_formatted_code);\n",
       "                        }\n",
       "                        break;\n",
       "                    }\n",
       "                }\n",
       "            }, 500);\n",
       "            "
      ],
      "text/plain": [
       "<IPython.core.display.Javascript object>"
      ]
     },
     "metadata": {},
     "output_type": "display_data"
    }
   ],
   "source": [
    "known_unknown_dimensions = np.concatenate(\n",
    "    [known_dimensions, unknown_dimensions], axis=0\n",
    ")"
   ]
  },
  {
   "cell_type": "code",
   "execution_count": 1406,
   "id": "8a3b6056",
   "metadata": {
    "hidden": true
   },
   "outputs": [
    {
     "data": {
      "text/plain": [
       "(14, 6)"
      ]
     },
     "execution_count": 1406,
     "metadata": {},
     "output_type": "execute_result"
    },
    {
     "data": {
      "application/javascript": [
       "\n",
       "            setTimeout(function() {\n",
       "                var nbb_cell_id = 1406;\n",
       "                var nbb_unformatted_code = \"known_unknown_dimensions.shape\";\n",
       "                var nbb_formatted_code = \"known_unknown_dimensions.shape\";\n",
       "                var nbb_cells = Jupyter.notebook.get_cells();\n",
       "                for (var i = 0; i < nbb_cells.length; ++i) {\n",
       "                    if (nbb_cells[i].input_prompt_number == nbb_cell_id) {\n",
       "                        if (nbb_cells[i].get_text() == nbb_unformatted_code) {\n",
       "                             nbb_cells[i].set_text(nbb_formatted_code);\n",
       "                        }\n",
       "                        break;\n",
       "                    }\n",
       "                }\n",
       "            }, 500);\n",
       "            "
      ],
      "text/plain": [
       "<IPython.core.display.Javascript object>"
      ]
     },
     "metadata": {},
     "output_type": "display_data"
    }
   ],
   "source": [
    "known_unknown_dimensions.shape"
   ]
  },
  {
   "cell_type": "code",
   "execution_count": 1407,
   "id": "0675c6f0",
   "metadata": {
    "hidden": true
   },
   "outputs": [
    {
     "data": {
      "application/javascript": [
       "\n",
       "            setTimeout(function() {\n",
       "                var nbb_cell_id = 1407;\n",
       "                var nbb_unformatted_code = \"def rbf_cov(npa, scale=100):\\n    cov_matrix = np.zeros(shape=(len(npa), len(npa)))\\n    for idx_i, i in enumerate(npa):\\n        for idx_j, j in enumerate(npa):\\n            dist = np.sum((i - j) ** 2)\\n            cov_matrix[idx_i, idx_j] = math.exp(-dist / (2 * scale))\\n    return cov_matrix\";\n",
       "                var nbb_formatted_code = \"def rbf_cov(npa, scale=100):\\n    cov_matrix = np.zeros(shape=(len(npa), len(npa)))\\n    for idx_i, i in enumerate(npa):\\n        for idx_j, j in enumerate(npa):\\n            dist = np.sum((i - j) ** 2)\\n            cov_matrix[idx_i, idx_j] = math.exp(-dist / (2 * scale))\\n    return cov_matrix\";\n",
       "                var nbb_cells = Jupyter.notebook.get_cells();\n",
       "                for (var i = 0; i < nbb_cells.length; ++i) {\n",
       "                    if (nbb_cells[i].input_prompt_number == nbb_cell_id) {\n",
       "                        if (nbb_cells[i].get_text() == nbb_unformatted_code) {\n",
       "                             nbb_cells[i].set_text(nbb_formatted_code);\n",
       "                        }\n",
       "                        break;\n",
       "                    }\n",
       "                }\n",
       "            }, 500);\n",
       "            "
      ],
      "text/plain": [
       "<IPython.core.display.Javascript object>"
      ]
     },
     "metadata": {},
     "output_type": "display_data"
    }
   ],
   "source": [
    "def rbf_cov(npa, scale=100):\n",
    "    cov_matrix = np.zeros(shape=(len(npa), len(npa)))\n",
    "    for idx_i, i in enumerate(npa):\n",
    "        for idx_j, j in enumerate(npa):\n",
    "            dist = np.sum((i - j) ** 2)\n",
    "            cov_matrix[idx_i, idx_j] = math.exp(-dist / (2 * scale))\n",
    "    return cov_matrix"
   ]
  },
  {
   "cell_type": "code",
   "execution_count": 1416,
   "id": "6893b3f5",
   "metadata": {
    "hidden": true
   },
   "outputs": [
    {
     "data": {
      "application/javascript": [
       "\n",
       "            setTimeout(function() {\n",
       "                var nbb_cell_id = 1416;\n",
       "                var nbb_unformatted_code = \"rbf_cov_base = rbf_cov(known_unknown_dimensions, scale=1000)\";\n",
       "                var nbb_formatted_code = \"rbf_cov_base = rbf_cov(known_unknown_dimensions, scale=1000)\";\n",
       "                var nbb_cells = Jupyter.notebook.get_cells();\n",
       "                for (var i = 0; i < nbb_cells.length; ++i) {\n",
       "                    if (nbb_cells[i].input_prompt_number == nbb_cell_id) {\n",
       "                        if (nbb_cells[i].get_text() == nbb_unformatted_code) {\n",
       "                             nbb_cells[i].set_text(nbb_formatted_code);\n",
       "                        }\n",
       "                        break;\n",
       "                    }\n",
       "                }\n",
       "            }, 500);\n",
       "            "
      ],
      "text/plain": [
       "<IPython.core.display.Javascript object>"
      ]
     },
     "metadata": {},
     "output_type": "display_data"
    }
   ],
   "source": [
    "rbf_cov_base = rbf_cov(known_unknown_dimensions, scale=1000)"
   ]
  },
  {
   "cell_type": "code",
   "execution_count": 1417,
   "id": "968031d3",
   "metadata": {
    "hidden": true
   },
   "outputs": [
    {
     "data": {
      "text/plain": [
       "array([[1.00000000e+00, 4.48045601e-03, 1.38915020e-15, 2.61573993e-05,\n",
       "        1.46097820e-13, 3.30326372e-02, 7.81954296e-06, 1.66069367e-09,\n",
       "        3.37160337e-13, 1.53066278e-03, 3.38681316e-13, 1.15185216e-11,\n",
       "        2.47290731e-06, 3.37484865e-10],\n",
       "       [4.48045601e-03, 1.00000000e+00, 2.11748552e-06, 8.79220194e-02,\n",
       "        2.63634903e-05, 2.47722489e-02, 1.51291778e-01, 3.92652684e-03,\n",
       "        2.62047871e-05, 1.26344244e-01, 4.51671525e-05, 4.95736486e-04,\n",
       "        1.47341361e-01, 2.30770905e-03],\n",
       "       [1.38915020e-15, 2.11748552e-06, 1.00000000e+00, 1.98442485e-04,\n",
       "        2.39169159e-01, 6.26135187e-12, 7.29171755e-04, 1.43807274e-01,\n",
       "        4.01267416e-01, 1.73593192e-07, 5.02065746e-01, 3.06729263e-01,\n",
       "        5.46591113e-03, 9.75362427e-02],\n",
       "       [2.61573993e-05, 8.79220194e-02, 1.98442485e-04, 1.00000000e+00,\n",
       "        1.53093220e-03, 1.64994842e-03, 2.49718749e-01, 7.44740155e-02,\n",
       "        6.80450457e-03, 6.38818497e-02, 1.29992014e-03, 1.08985007e-02,\n",
       "        1.76142809e-01, 2.77670559e-02],\n",
       "       [1.46097820e-13, 2.63634903e-05, 2.39169159e-01, 1.53093220e-03,\n",
       "        1.00000000e+00, 4.92097478e-09, 1.78134880e-03, 1.21537740e-01,\n",
       "        2.14656157e-01, 2.10003940e-06, 4.81804524e-01, 4.93335998e-01,\n",
       "        1.50013355e-02, 4.53390973e-01],\n",
       "       [3.30326372e-02, 2.47722489e-02, 6.26135187e-12, 1.64994842e-03,\n",
       "        4.92097478e-09, 1.00000000e+00, 2.38271149e-04, 3.61128766e-07,\n",
       "        8.71371943e-10, 6.60749116e-03, 8.79120447e-10, 5.38499264e-08,\n",
       "        1.05883148e-04, 1.08299387e-06],\n",
       "       [7.81954296e-06, 1.51291778e-01, 7.29171755e-04, 2.49718749e-01,\n",
       "        1.78134880e-03, 2.38271149e-04, 1.00000000e+00, 1.02228477e-01,\n",
       "        8.32722968e-03, 1.71443759e-01, 2.63327634e-03, 3.00639635e-02,\n",
       "        3.13008729e-01, 5.99439692e-02],\n",
       "       [1.66069367e-09, 3.92652684e-03, 1.43807274e-01, 7.44740155e-02,\n",
       "        1.21537740e-01, 3.61128766e-07, 1.02228477e-01, 1.00000000e+00,\n",
       "        3.61472812e-01, 6.66983667e-04, 2.90793917e-01, 3.93975699e-01,\n",
       "        3.39255014e-01, 3.67328036e-01],\n",
       "       [3.37160337e-13, 2.62047871e-05, 4.01267416e-01, 6.80450457e-03,\n",
       "        2.14656157e-01, 8.71371943e-10, 8.32722968e-03, 3.61472812e-01,\n",
       "        1.00000000e+00, 1.40898701e-05, 2.68499830e-01, 3.78507194e-01,\n",
       "        1.79242408e-02, 1.98751804e-01],\n",
       "       [1.53066278e-03, 1.26344244e-01, 1.73593192e-07, 6.38818497e-02,\n",
       "        2.10003940e-06, 6.60749116e-03, 1.71443759e-01, 6.66983667e-04,\n",
       "        1.40898701e-05, 1.00000000e+00, 2.31001521e-06, 6.65712304e-05,\n",
       "        1.27936772e-02, 5.00178762e-04],\n",
       "       [3.38681316e-13, 4.51671525e-05, 5.02065746e-01, 1.29992014e-03,\n",
       "        4.81804524e-01, 8.79120447e-10, 2.63327634e-03, 2.90793917e-01,\n",
       "        2.68499830e-01, 2.31001521e-06, 1.00000000e+00, 3.72192830e-01,\n",
       "        3.78508724e-02, 3.14060245e-01],\n",
       "       [1.15185216e-11, 4.95736486e-04, 3.06729263e-01, 1.08985007e-02,\n",
       "        4.93335998e-01, 5.38499264e-08, 3.00639635e-02, 3.93975699e-01,\n",
       "        3.78507194e-01, 6.65712304e-05, 3.72192830e-01, 1.00000000e+00,\n",
       "        8.35274090e-02, 6.46245349e-01],\n",
       "       [2.47290731e-06, 1.47341361e-01, 5.46591113e-03, 1.76142809e-01,\n",
       "        1.50013355e-02, 1.05883148e-04, 3.13008729e-01, 3.39255014e-01,\n",
       "        1.79242408e-02, 1.27936772e-02, 3.78508724e-02, 8.35274090e-02,\n",
       "        1.00000000e+00, 1.70063531e-01],\n",
       "       [3.37484865e-10, 2.30770905e-03, 9.75362427e-02, 2.77670559e-02,\n",
       "        4.53390973e-01, 1.08299387e-06, 5.99439692e-02, 3.67328036e-01,\n",
       "        1.98751804e-01, 5.00178762e-04, 3.14060245e-01, 6.46245349e-01,\n",
       "        1.70063531e-01, 1.00000000e+00]])"
      ]
     },
     "execution_count": 1417,
     "metadata": {},
     "output_type": "execute_result"
    },
    {
     "data": {
      "application/javascript": [
       "\n",
       "            setTimeout(function() {\n",
       "                var nbb_cell_id = 1417;\n",
       "                var nbb_unformatted_code = \"rbf_cov_base\";\n",
       "                var nbb_formatted_code = \"rbf_cov_base\";\n",
       "                var nbb_cells = Jupyter.notebook.get_cells();\n",
       "                for (var i = 0; i < nbb_cells.length; ++i) {\n",
       "                    if (nbb_cells[i].input_prompt_number == nbb_cell_id) {\n",
       "                        if (nbb_cells[i].get_text() == nbb_unformatted_code) {\n",
       "                             nbb_cells[i].set_text(nbb_formatted_code);\n",
       "                        }\n",
       "                        break;\n",
       "                    }\n",
       "                }\n",
       "            }, 500);\n",
       "            "
      ],
      "text/plain": [
       "<IPython.core.display.Javascript object>"
      ]
     },
     "metadata": {},
     "output_type": "display_data"
    }
   ],
   "source": [
    "rbf_cov_base"
   ]
  },
  {
   "cell_type": "code",
   "execution_count": 1418,
   "id": "f5a9a31d",
   "metadata": {
    "hidden": true
   },
   "outputs": [
    {
     "data": {
      "text/plain": [
       "(2, 2)"
      ]
     },
     "execution_count": 1418,
     "metadata": {},
     "output_type": "execute_result"
    },
    {
     "data": {
      "application/javascript": [
       "\n",
       "            setTimeout(function() {\n",
       "                var nbb_cell_id = 1418;\n",
       "                var nbb_unformatted_code = \"# unknown dims with unknown dims\\nrbf_A = rbf_cov_base[[12, 13], :][:, [12, 13]]\\nrbf_A.shape\";\n",
       "                var nbb_formatted_code = \"# unknown dims with unknown dims\\nrbf_A = rbf_cov_base[[12, 13], :][:, [12, 13]]\\nrbf_A.shape\";\n",
       "                var nbb_cells = Jupyter.notebook.get_cells();\n",
       "                for (var i = 0; i < nbb_cells.length; ++i) {\n",
       "                    if (nbb_cells[i].input_prompt_number == nbb_cell_id) {\n",
       "                        if (nbb_cells[i].get_text() == nbb_unformatted_code) {\n",
       "                             nbb_cells[i].set_text(nbb_formatted_code);\n",
       "                        }\n",
       "                        break;\n",
       "                    }\n",
       "                }\n",
       "            }, 500);\n",
       "            "
      ],
      "text/plain": [
       "<IPython.core.display.Javascript object>"
      ]
     },
     "metadata": {},
     "output_type": "display_data"
    }
   ],
   "source": [
    "# unknown dims with unknown dims\n",
    "rbf_A = rbf_cov_base[[12, 13], :][:, [12, 13]]\n",
    "rbf_A.shape"
   ]
  },
  {
   "cell_type": "code",
   "execution_count": 1419,
   "id": "508f9b53",
   "metadata": {
    "hidden": true
   },
   "outputs": [
    {
     "data": {
      "text/plain": [
       "(12, 12)"
      ]
     },
     "execution_count": 1419,
     "metadata": {},
     "output_type": "execute_result"
    },
    {
     "data": {
      "application/javascript": [
       "\n",
       "            setTimeout(function() {\n",
       "                var nbb_cell_id = 1419;\n",
       "                var nbb_unformatted_code = \"# known with known\\nrbf_B = rbf_cov_base[0:12, :][:, 0:12]\\nrbf_B.shape\";\n",
       "                var nbb_formatted_code = \"# known with known\\nrbf_B = rbf_cov_base[0:12, :][:, 0:12]\\nrbf_B.shape\";\n",
       "                var nbb_cells = Jupyter.notebook.get_cells();\n",
       "                for (var i = 0; i < nbb_cells.length; ++i) {\n",
       "                    if (nbb_cells[i].input_prompt_number == nbb_cell_id) {\n",
       "                        if (nbb_cells[i].get_text() == nbb_unformatted_code) {\n",
       "                             nbb_cells[i].set_text(nbb_formatted_code);\n",
       "                        }\n",
       "                        break;\n",
       "                    }\n",
       "                }\n",
       "            }, 500);\n",
       "            "
      ],
      "text/plain": [
       "<IPython.core.display.Javascript object>"
      ]
     },
     "metadata": {},
     "output_type": "display_data"
    }
   ],
   "source": [
    "# known with known\n",
    "rbf_B = rbf_cov_base[0:12, :][:, 0:12]\n",
    "rbf_B.shape"
   ]
  },
  {
   "cell_type": "code",
   "execution_count": 1420,
   "id": "7803eaa3",
   "metadata": {
    "hidden": true
   },
   "outputs": [
    {
     "data": {
      "text/plain": [
       "(2, 12)"
      ]
     },
     "execution_count": 1420,
     "metadata": {},
     "output_type": "execute_result"
    },
    {
     "data": {
      "application/javascript": [
       "\n",
       "            setTimeout(function() {\n",
       "                var nbb_cell_id = 1420;\n",
       "                var nbb_unformatted_code = \"# unknown with known\\nrbf_C = rbf_cov_base[[12, 13], :][:, 0:12]\\nrbf_C.shape\";\n",
       "                var nbb_formatted_code = \"# unknown with known\\nrbf_C = rbf_cov_base[[12, 13], :][:, 0:12]\\nrbf_C.shape\";\n",
       "                var nbb_cells = Jupyter.notebook.get_cells();\n",
       "                for (var i = 0; i < nbb_cells.length; ++i) {\n",
       "                    if (nbb_cells[i].input_prompt_number == nbb_cell_id) {\n",
       "                        if (nbb_cells[i].get_text() == nbb_unformatted_code) {\n",
       "                             nbb_cells[i].set_text(nbb_formatted_code);\n",
       "                        }\n",
       "                        break;\n",
       "                    }\n",
       "                }\n",
       "            }, 500);\n",
       "            "
      ],
      "text/plain": [
       "<IPython.core.display.Javascript object>"
      ]
     },
     "metadata": {},
     "output_type": "display_data"
    }
   ],
   "source": [
    "# unknown with known\n",
    "rbf_C = rbf_cov_base[[12, 13], :][:, 0:12]\n",
    "rbf_C.shape"
   ]
  },
  {
   "cell_type": "code",
   "execution_count": 1421,
   "id": "3677572c",
   "metadata": {
    "hidden": true
   },
   "outputs": [
    {
     "data": {
      "application/javascript": [
       "\n",
       "            setTimeout(function() {\n",
       "                var nbb_cell_id = 1421;\n",
       "                var nbb_unformatted_code = \"rbf_new_mean = (\\n    np.array([0] * 2).reshape(-1, 1)\\n    + rbf_C.dot(np.linalg.inv(rbf_B)).dot(np.array(known_values).reshape(-1, 1))\\n)[:, 0]\\n\\nrbf_new_cov = rbf_A - rbf_C.dot(np.linalg.inv(rbf_B)).dot(np.transpose(rbf_C))\";\n",
       "                var nbb_formatted_code = \"rbf_new_mean = (\\n    np.array([0] * 2).reshape(-1, 1)\\n    + rbf_C.dot(np.linalg.inv(rbf_B)).dot(np.array(known_values).reshape(-1, 1))\\n)[:, 0]\\n\\nrbf_new_cov = rbf_A - rbf_C.dot(np.linalg.inv(rbf_B)).dot(np.transpose(rbf_C))\";\n",
       "                var nbb_cells = Jupyter.notebook.get_cells();\n",
       "                for (var i = 0; i < nbb_cells.length; ++i) {\n",
       "                    if (nbb_cells[i].input_prompt_number == nbb_cell_id) {\n",
       "                        if (nbb_cells[i].get_text() == nbb_unformatted_code) {\n",
       "                             nbb_cells[i].set_text(nbb_formatted_code);\n",
       "                        }\n",
       "                        break;\n",
       "                    }\n",
       "                }\n",
       "            }, 500);\n",
       "            "
      ],
      "text/plain": [
       "<IPython.core.display.Javascript object>"
      ]
     },
     "metadata": {},
     "output_type": "display_data"
    }
   ],
   "source": [
    "rbf_new_mean = (\n",
    "    np.array([0] * 2).reshape(-1, 1)\n",
    "    + rbf_C.dot(np.linalg.inv(rbf_B)).dot(np.array(known_values).reshape(-1, 1))\n",
    ")[:, 0]\n",
    "\n",
    "rbf_new_cov = rbf_A - rbf_C.dot(np.linalg.inv(rbf_B)).dot(np.transpose(rbf_C))\n"
   ]
  },
  {
   "cell_type": "code",
   "execution_count": 1422,
   "id": "cb022b4f",
   "metadata": {
    "hidden": true
   },
   "outputs": [
    {
     "data": {
      "text/plain": [
       "array([1.81874593, 2.09308664])"
      ]
     },
     "execution_count": 1422,
     "metadata": {},
     "output_type": "execute_result"
    },
    {
     "data": {
      "application/javascript": [
       "\n",
       "            setTimeout(function() {\n",
       "                var nbb_cell_id = 1422;\n",
       "                var nbb_unformatted_code = \"rbf_new_mean\";\n",
       "                var nbb_formatted_code = \"rbf_new_mean\";\n",
       "                var nbb_cells = Jupyter.notebook.get_cells();\n",
       "                for (var i = 0; i < nbb_cells.length; ++i) {\n",
       "                    if (nbb_cells[i].input_prompt_number == nbb_cell_id) {\n",
       "                        if (nbb_cells[i].get_text() == nbb_unformatted_code) {\n",
       "                             nbb_cells[i].set_text(nbb_formatted_code);\n",
       "                        }\n",
       "                        break;\n",
       "                    }\n",
       "                }\n",
       "            }, 500);\n",
       "            "
      ],
      "text/plain": [
       "<IPython.core.display.Javascript object>"
      ]
     },
     "metadata": {},
     "output_type": "display_data"
    }
   ],
   "source": [
    "rbf_new_mean"
   ]
  },
  {
   "cell_type": "code",
   "execution_count": 1423,
   "id": "408331cc",
   "metadata": {
    "hidden": true
   },
   "outputs": [
    {
     "data": {
      "text/plain": [
       "array([[0.77389829, 0.06074992],\n",
       "       [0.06074992, 0.51671687]])"
      ]
     },
     "execution_count": 1423,
     "metadata": {},
     "output_type": "execute_result"
    },
    {
     "data": {
      "application/javascript": [
       "\n",
       "            setTimeout(function() {\n",
       "                var nbb_cell_id = 1423;\n",
       "                var nbb_unformatted_code = \"rbf_new_cov\";\n",
       "                var nbb_formatted_code = \"rbf_new_cov\";\n",
       "                var nbb_cells = Jupyter.notebook.get_cells();\n",
       "                for (var i = 0; i < nbb_cells.length; ++i) {\n",
       "                    if (nbb_cells[i].input_prompt_number == nbb_cell_id) {\n",
       "                        if (nbb_cells[i].get_text() == nbb_unformatted_code) {\n",
       "                             nbb_cells[i].set_text(nbb_formatted_code);\n",
       "                        }\n",
       "                        break;\n",
       "                    }\n",
       "                }\n",
       "            }, 500);\n",
       "            "
      ],
      "text/plain": [
       "<IPython.core.display.Javascript object>"
      ]
     },
     "metadata": {},
     "output_type": "display_data"
    }
   ],
   "source": [
    "rbf_new_cov"
   ]
  },
  {
   "cell_type": "markdown",
   "id": "0e8e61e1",
   "metadata": {
    "hidden": true
   },
   "source": [
    "| Height | Weight | Age | BPsystolic | BPDiastolic | FastingSugarLevel | <span style=\"color:green\">Predicted TimeToCompletePhysicalTask</span> |\n",
    "| ---- | ---- | ---- |---- | ---- | ---- |---- |\n",
    "| 5.12 | 52 | 23 | 134 | 84 | 183 |<span style=\"color:green\"> 1.81 on avg with 0.77 variance </span> |\n",
    "| 6.2 | 78 | 43 | 143 | 93 | 135 |<span style=\"color:green\">  2.09 on avg with 0.51 variance </span> |"
   ]
  },
  {
   "cell_type": "code",
   "execution_count": null,
   "id": "a0acb4cd",
   "metadata": {
    "hidden": true
   },
   "outputs": [],
   "source": []
  }
 ],
 "metadata": {
  "kernelspec": {
   "display_name": "Python 3",
   "language": "python",
   "name": "python3"
  },
  "language_info": {
   "codemirror_mode": {
    "name": "ipython",
    "version": 3
   },
   "file_extension": ".py",
   "mimetype": "text/x-python",
   "name": "python",
   "nbconvert_exporter": "python",
   "pygments_lexer": "ipython3",
   "version": "3.8.9"
  }
 },
 "nbformat": 4,
 "nbformat_minor": 5
}
